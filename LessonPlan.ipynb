{
 "cells": [
  {
   "cell_type": "markdown",
   "metadata": {},
   "source": [
    "Lesson Scripts:\n",
    "1. Introduction\n",
    " - a\n",
    " - b\n",
    " - c\n",
    "5. Watersheds (70 minutes)\n",
    " - Lecture (10 min)\n",
    " - Florida WS example by-hand (handouts using paper) (20 min)\n",
    " - Florida WS by GIS demonstrate (10 min)\n",
    " - Watershed Metrics (20 min)\n",
    " - Hardin Branch (intro + stream stats + handouts using paper) (10 min)"
   ]
  },
  {
   "cell_type": "markdown",
   "metadata": {},
   "source": [
    "https://forms.office.com/r/d1ApFjrFbf?origin=lprLink"
   ]
  },
  {
   "cell_type": "code",
   "execution_count": null,
   "metadata": {},
   "outputs": [],
   "source": []
  }
 ],
 "metadata": {
  "kernelspec": {
   "display_name": "Python 3",
   "language": "python",
   "name": "python3"
  },
  "language_info": {
   "codemirror_mode": {
    "name": "ipython",
    "version": 3
   },
   "file_extension": ".py",
   "mimetype": "text/x-python",
   "name": "python",
   "nbconvert_exporter": "python",
   "pygments_lexer": "ipython3",
   "version": "3.8.10"
  }
 },
 "nbformat": 4,
 "nbformat_minor": 4
}
