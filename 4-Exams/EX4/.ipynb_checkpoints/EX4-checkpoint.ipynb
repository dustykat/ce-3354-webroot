{
 "cells": [
  {
   "cell_type": "markdown",
   "metadata": {},
   "source": [
    "**Download** (right-click, save target as ...) this page as a Jupyterlab notebook from: [EX-4](http://54.243.252.9/ce-3354-webroot/4-Exams/EX4/EX4.ipynb)\n",
    "\n",
    "___"
   ]
  },
  {
   "cell_type": "markdown",
   "metadata": {},
   "source": [
    "# <font color=darkblue>CE 3354 Engineering Hydrology <br> Fall 2022 Exam 4 </font>\n",
    "\n",
    "**LAST NAME, FIRST NAME**\n",
    "\n",
    "**R00000000**\n",
    "\n",
    "___\n",
    "\n",
    "### Purpose : \n",
    "Demonstrate ability to apply hydrologic and problem solving principles with respect to groundwater hydrology concepts.\n"
   ]
  },
  {
   "cell_type": "markdown",
   "metadata": {},
   "source": [
    "---\n",
    "\n",
    "### Problem 1 - Dog Run Creek\n",
    "\n",
    "Figure 1 is a schematic diagram of a creek that penetrates a 3-meter thick confined aquifer. During a long drought the flow in the creek **decreases** by 1.1 cubic meters per second between two gaging stations along the creek located 6 kilometers apart. On the west side of the creek the hydraulic head contours run parallel to the bank of the creek and the contour levels decrease as one moves **away** from the creek at a rate of 0.0007 m/m. The head contours on the east side of the creek are also parallel to the creek and the levels decrease as one moves **towards** the creek at a rate of 0.0003 m/m.\n",
    "\n",
    "![](dogrun.png)\n",
    "\n",
    "1. Write a water balance for the aquifer in the vicinity of the creek.\n",
    "2. Use Darcy’s Law and the water balance to estimate the hydraulic conductivity of the aquifer."
   ]
  },
  {
   "cell_type": "code",
   "execution_count": null,
   "metadata": {},
   "outputs": [],
   "source": [
    "# solution here\n",
    "# - sketches\n",
    "# - known/unknown/find\n",
    "# - governing principles\n",
    "# - calculations\n",
    "# - results/discussion"
   ]
  },
  {
   "cell_type": "markdown",
   "metadata": {},
   "source": [
    "---\n",
    "\n",
    "### Problem 2 Specific Yield\n",
    "\n",
    "During a drought period the following declines in the water table were recorded in an unconfined aquifer.\n",
    "\n",
    "|Area|Size ($mi^2$)|Decline (feet)|\n",
    "|---:|---:|---:|\n",
    "|A| 14| 2.75|\n",
    "|B| 7| 3.56|\n",
    "|C| 28| 5.42|\n",
    "|D| 33| 7.78|\n",
    "\n",
    "\n",
    "The total volume of water removed from storage in this aquifer during the time period was $5.7385 \\times 10^4$ acre-feet. \n",
    "\n",
    "Estimate the specific yield of the aquifer.\n",
    " "
   ]
  },
  {
   "cell_type": "code",
   "execution_count": null,
   "metadata": {},
   "outputs": [],
   "source": [
    "# solution here\n",
    "# - sketches\n",
    "# - known/unknown/find\n",
    "# - governing principles\n",
    "# - calculations\n",
    "# - results/discussion"
   ]
  },
  {
   "cell_type": "markdown",
   "metadata": {},
   "source": [
    "---\n",
    "\n",
    "### Problem 3 Hydraulic Gradient\n",
    "\n",
    "Three wells monitor an aquifer as shown in Figure 2. The head in each well is tabulated below. \n",
    "\n",
    "> **Table 2. Monitoring Well Locations and Head**\n",
    "> \n",
    "> |Well ID|X (meters Easting) |Y (meters Northing) |Head (meters)|\n",
    "> |---:|---:|---:|---:|\n",
    "> |#1|10|90|93.2|\n",
    "> |#2|20|5|88|\n",
    "> |#3|90|95|90|\n",
    "\n",
    "\n",
    "Determine the magnitude and direction of the hydraulic gradient in this aquifer.\n",
    "\n",
    "![](hydgrad.png)\n",
    "\n"
   ]
  },
  {
   "cell_type": "code",
   "execution_count": null,
   "metadata": {},
   "outputs": [],
   "source": [
    "# solution here\n",
    "# - sketches (OK to draw on the above map)\n",
    "# - known/unknown/find\n",
    "# - governing principles\n",
    "# - calculations\n",
    "# - results/discussion"
   ]
  },
  {
   "cell_type": "markdown",
   "metadata": {},
   "source": [
    "---\n",
    "\n",
    "### Problem 4.  Island Well\n",
    "\n",
    "A well in the center of a circular island (an unconfined aquifer) is pumped to dewater a cylindrical portion of the aquifer for constructing a foundation. The desired drawdown 100 meters from the well is 5 meters. The radial distance from the well to the surrounding water 10,000 meters. The head at the edge of the island is 100 meters. The figure below is a sketch of the situation. The hydraulic conductivity of the aquifer material is 1 meter/day.\n",
    "\n",
    "![](uncwell.png)\n",
    "\n",
    "1. What is the head at the center of the island (in the well) before turning on the pump?\n",
    "2. What is the head 100 meters from the well before turning on the pump? \n",
    "3. What is the head 10,000 meters from the well before turning on the pump?\n",
    "4. What is the head 100 meters from the well when the pump is operating at the desired flow rate?\n",
    "5. What is the head 10,000 meters from the well when the pump is operating at the desired flow rate?\n",
    "6. Write the equation that relates the pump rate, head, and hydraulic conductivity for a well in an unconfined aquifer.\n",
    "7. Apply the equation and estimate the required pumping rate to produce the desired head 100 meters from the well. Show your arithmetic."
   ]
  },
  {
   "cell_type": "code",
   "execution_count": null,
   "metadata": {},
   "outputs": [],
   "source": [
    "# solution(s) here\n",
    "# - sketches \n",
    "# - known/unknown/find\n",
    "# - governing principles\n",
    "# - calculations\n",
    "# - results/discussion"
   ]
  },
  {
   "cell_type": "markdown",
   "metadata": {},
   "source": [
    "### Problem 5.  Aquifer Flow Map\n",
    "\n",
    "The figure below is a map of the piezometric surface (head) in a portion of the Floridian aquifer.\n",
    "\n",
    "![](aquifer-map.png)\n",
    "\n",
    "\n",
    ">1. What is the head in the aquifer near Altamonte Springs (A1)? \n",
    ">2. What is the head in the aquifer near Sanlando Springs (A2)? What is the head in the aquifer near Lake Mary (A3)?\n",
    ">3. What is the head in the aquifer near Golden Lake (A4)? \n",
    ">4. What is the head in the aquifer near location (A5)?\n",
    ">5. Sketch flowlines near Altamonte Springs (A1). \n",
    "6. Sketch flowlines near Sanlando Springs (A2). \n",
    "6. Sketch flowlines near Lake Mary (A3).\n",
    "7. Sketch flowlines near Golden Lake (A4). \n",
    "8. Sketch flowlines near location (A5).\n",
    "9. Based on the flowlines, is Altamonte Springs a recharge or discharge area? (Explain your reasoning)\n",
    "10. Based on the flowlines, is Sanlando Springs a recharge or discharge area? (Explain your reasoning)\n",
    "11. Based on the flowlines, is Lake Mary a recharge or discharge area? (Explain your reasoning)\n",
    "12. Based on the flowlines, is Golden Lake a recharge or discharge area? (Explain your reasoning)\n",
    "13. Based on the flowlines, is location (A5) a recharge or discharge area? (Explain your reasoning)"
   ]
  },
  {
   "cell_type": "code",
   "execution_count": null,
   "metadata": {},
   "outputs": [],
   "source": [
    "# solution(s) here\n",
    "# - sketches (OK to draw on the above map)\n",
    "# - known/unknown/find\n",
    "# - governing principles\n",
    "# - calculations\n",
    "# - results/discussion"
   ]
  }
 ],
 "metadata": {
  "kernelspec": {
   "display_name": "Python 3",
   "language": "python",
   "name": "python3"
  },
  "language_info": {
   "codemirror_mode": {
    "name": "ipython",
    "version": 3
   },
   "file_extension": ".py",
   "mimetype": "text/x-python",
   "name": "python",
   "nbconvert_exporter": "python",
   "pygments_lexer": "ipython3",
   "version": "3.8.10"
  }
 },
 "nbformat": 4,
 "nbformat_minor": 4
}
