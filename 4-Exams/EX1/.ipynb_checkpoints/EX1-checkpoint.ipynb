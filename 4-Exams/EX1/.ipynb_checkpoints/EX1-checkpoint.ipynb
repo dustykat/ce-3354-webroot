{
 "cells": [
  {
   "cell_type": "markdown",
   "metadata": {},
   "source": [
    "**Download** (right-click, save target as ...) this page as a Jupyterlab notebook from: [EX-1](http://54.243.252.9/ce-3305-webroot-su22/5-Exams/EX1/EX1.ipynb)\n",
    "\n",
    "___"
   ]
  },
  {
   "cell_type": "markdown",
   "metadata": {},
   "source": [
    "# <font color=darkblue>CE 3354 Engineering Hydrology <br> Fall 2022 Exam 1</font>\n",
    "\n",
    "**LAST NAME, FIRST NAME**\n",
    "\n",
    "**R00000000**\n",
    "\n",
    "___\n",
    "\n",
    "### Purpose : \n",
    "Demonstrate ability to apply hydrologic and problem solving principles with respect to water balance, watershed delineation and measurements, and precipitation and streamflow.\n"
   ]
  },
  {
   "cell_type": "markdown",
   "metadata": {},
   "source": [
    "___\n",
    "\n",
    "### Problem 1 \n",
    "\n",
    "A 20,000 acre drainage basin has"
   ]
  },
  {
   "cell_type": "code",
   "execution_count": 3,
   "metadata": {},
   "outputs": [],
   "source": [
    "# sketch(s) here"
   ]
  },
  {
   "cell_type": "code",
   "execution_count": 4,
   "metadata": {},
   "outputs": [],
   "source": [
    "# list known quantities"
   ]
  },
  {
   "cell_type": "code",
   "execution_count": 5,
   "metadata": {},
   "outputs": [],
   "source": [
    "# list unknown quantities"
   ]
  },
  {
   "cell_type": "code",
   "execution_count": 6,
   "metadata": {},
   "outputs": [],
   "source": [
    "# governing principles"
   ]
  },
  {
   "cell_type": "code",
   "execution_count": 7,
   "metadata": {},
   "outputs": [],
   "source": [
    "# solution (step-by-step) "
   ]
  },
  {
   "cell_type": "code",
   "execution_count": 8,
   "metadata": {},
   "outputs": [],
   "source": [
    "# discussion"
   ]
  },
  {
   "cell_type": "markdown",
   "metadata": {},
   "source": [
    "---\n",
    "\n",
    "### Problem 2\n",
    "A liquid flows between parallel boundaries as shown in Figure 2 below. The velocity distribution near the lower wall is given in the table below.\n",
    "\n",
    "<figure align=\"center\">\n",
    "<!--<img src=\"./closedconduit.png\" width=\"400\" > -->\n",
    "<img src=\"http://54.243.252.9/ce-3305-webroot/5-Exams/EX1/closedconduit.png\" width=\"400\" >\n",
    "<figcaption>Figure 2. Velocity Distribution between Parallel Plates</figcaption>\n",
    "</figure>\n",
    "\n",
    "|y (mm)|V (m/s)|\n",
    "|:---|---:|\n",
    "|1.0|1.00|\n",
    "|2.0|1.99|\n",
    "|3.0|2.98|\n",
    "\n",
    "Determine: \n",
    "- The maximum shear stress in the liquid if the viscosity of the liquid is $10^{-3}~N \\cdot s /m^2$"
   ]
  },
  {
   "cell_type": "code",
   "execution_count": 1,
   "metadata": {},
   "outputs": [],
   "source": [
    "# sketch(s) here"
   ]
  },
  {
   "cell_type": "code",
   "execution_count": 2,
   "metadata": {},
   "outputs": [],
   "source": [
    "# list known quantities"
   ]
  },
  {
   "cell_type": "code",
   "execution_count": 3,
   "metadata": {},
   "outputs": [],
   "source": [
    "# list unknown quantities"
   ]
  },
  {
   "cell_type": "code",
   "execution_count": 4,
   "metadata": {},
   "outputs": [],
   "source": [
    "# governing principles"
   ]
  },
  {
   "cell_type": "code",
   "execution_count": 5,
   "metadata": {},
   "outputs": [],
   "source": [
    "# solution (step-by-step) (Put the plot here, or in discussion)"
   ]
  },
  {
   "cell_type": "code",
   "execution_count": 6,
   "metadata": {},
   "outputs": [],
   "source": [
    "# discussion"
   ]
  },
  {
   "cell_type": "markdown",
   "metadata": {},
   "source": [
    "---\n",
    "\n",
    "### Problem 3\n",
    "\n",
    "Estimate the gage pressure in a small spherical drop of water (Figure 3) with diameter $d=4~mm$  and surface tension ($\\sigma = 72.8 \\times 10^{-3} \\frac{N}{m}$).\n",
    "\n",
    "<figure align=\"center\">\n",
    "<!--<img src=\"./drop.png\" width=\"100\" > -->\n",
    "<img src=\"http://54.243.252.9/ce-3305-webroot/5-Exams/EX1/drop.png\" width=\"100\" >\n",
    "<figcaption>Figure 3. Spherical drop (diameter = $d$)</figcaption>\n",
    "</figure>"
   ]
  },
  {
   "cell_type": "code",
   "execution_count": 7,
   "metadata": {},
   "outputs": [],
   "source": [
    "# sketch(s) here"
   ]
  },
  {
   "cell_type": "code",
   "execution_count": 8,
   "metadata": {},
   "outputs": [],
   "source": [
    "# list known quantities"
   ]
  },
  {
   "cell_type": "code",
   "execution_count": 9,
   "metadata": {},
   "outputs": [],
   "source": [
    "# list unknown quantities"
   ]
  },
  {
   "cell_type": "code",
   "execution_count": 10,
   "metadata": {},
   "outputs": [],
   "source": [
    "# governing principles"
   ]
  },
  {
   "cell_type": "code",
   "execution_count": 11,
   "metadata": {},
   "outputs": [],
   "source": [
    "# solution (step-by-step) "
   ]
  },
  {
   "cell_type": "code",
   "execution_count": 12,
   "metadata": {},
   "outputs": [],
   "source": [
    "# discussion"
   ]
  },
  {
   "cell_type": "markdown",
   "metadata": {},
   "source": [
    "**Bonus** What is the likely temperature based on the supplied surface tension value? Explain your reasoning and cite data source(s)."
   ]
  },
  {
   "cell_type": "markdown",
   "metadata": {},
   "source": [
    "---\n",
    "\n",
    "### Problem 4. Watershed Metrics\n",
    "\n",
    "Figure 4 is a topographic map of a small drainage basin. The drawn contour interval is\n",
    "20 feet. Many of the contours are labeled. A culvert structure is located on the Eastern\n",
    "portion of the basin, near the outlet shown on Figure 3. \n",
    "<figure align=\"center\">\n",
    "<img src=\"./topoMap.png\" width=\"500\" >\n",
    "<img src=\"http://54.243.252.9/ce-3354-webroot/4-Exams/EX1/topoMap.png\" width=\"500\" >\n",
    "<figcaption>Figure 4. Topographic Map of a portion of the Earth. Elevations and linear distances are in\n",
    "f eet. North (by convention) is up. </figcaption>\n",
    "</figure>\n",
    "\n",
    "The red line is a highway alignment, beneath which the culvert structure is placed. Figure 5 is a photograph\n",
    "of the culvert system that is comprised of 4-parallel , 4-foot diameter, 100-foot long\n",
    "culverts. The lowest portion of the road near the culverts is at elevation 595 feet. The\n",
    "culverts are laid on a dimensionless slope of 0.02.\n",
    "<figure align=\"center\">\n",
    "<img src=\"./culvert-system.png\" width=\"600\" >\n",
    "<img src=\"http://54.243.252.9/ce-3354-webroot/4-Exams/EX1/culvert-system.png\" width=\"500\" >\n",
    "<figcaption>Figure 5. Multiple-barrel outlet structure </figcaption>\n",
    "</figure>\n",
    "\n",
    "The watershed is delineated and the boundary is already drawn on the map.\n",
    "\n",
    "The water surface area when the culvert system (like a dam, with 4 holes in the wall) impounds water to a water surface elevation of $565~feet$ is zero. (Zero pool area when the WSE is at 565 feet).  Figure 6 is a schematic sketch (elevation view) of a culvert barrel.\n",
    "\n",
    "<figure align=\"center\">\n",
    "<img src=\"./CulvertSystemElevation.png\" width=\"600\" >\n",
    "<img src=\"http://54.243.252.9/ce-3354-webroot/4-Exams/EX1/CulvertSystemElevation.png\" width=\"500\" >\n",
    "<figcaption>Figure 6. Culvert system elevation view sketch </figcaption>\n",
    "</figure>\n",
    "   \n",
    "- Estimate the basin drainage area that drains to the culvert structure.  Report the results in\n",
    "  1. Square feet,\n",
    "  2. Acres, and\n",
    "  3. Square miles\n",
    "- Complete the elevation (side) view sketch of the road embankment and culvert system by indicating the missing elevations on the sketch of (show computations for the outlet elevation)\n",
    "  1. The roadway crest in feet, \n",
    "  2. The culvert outlet elevation in feet, and\n",
    "  3. The culvert barrel length in feet.\n",
    "- Estimate the water surface area (area of the pool on the upstream side of the road embankment) when the embankment impounds water to a water surface elevation of $590~feet$.  Show how you made the estimate.\n",
    "- Estimate the main channel length in feet. Show how you made the estimate.\n"
   ]
  },
  {
   "cell_type": "code",
   "execution_count": 13,
   "metadata": {},
   "outputs": [],
   "source": [
    "# sketch(s) here"
   ]
  },
  {
   "cell_type": "code",
   "execution_count": 14,
   "metadata": {},
   "outputs": [],
   "source": [
    "# list known quantities"
   ]
  },
  {
   "cell_type": "code",
   "execution_count": 15,
   "metadata": {},
   "outputs": [],
   "source": [
    "# list unknown quantities"
   ]
  },
  {
   "cell_type": "code",
   "execution_count": 16,
   "metadata": {},
   "outputs": [],
   "source": [
    "# governing principles"
   ]
  },
  {
   "cell_type": "code",
   "execution_count": 17,
   "metadata": {},
   "outputs": [],
   "source": [
    "# solution (step-by-step) "
   ]
  },
  {
   "cell_type": "code",
   "execution_count": 18,
   "metadata": {},
   "outputs": [],
   "source": [
    "# discussion"
   ]
  },
  {
   "cell_type": "markdown",
   "metadata": {},
   "source": [
    "---\n",
    "\n",
    "### Problem 5 (Application of ENGR-1330 Computational Thinking)"
   ]
  },
  {
   "cell_type": "markdown",
   "metadata": {},
   "source": []
  },
  {
   "cell_type": "code",
   "execution_count": 28,
   "metadata": {},
   "outputs": [],
   "source": [
    "# list input quantities/specifications"
   ]
  },
  {
   "cell_type": "code",
   "execution_count": 29,
   "metadata": {},
   "outputs": [],
   "source": [
    "# list output quantities/specifications"
   ]
  },
  {
   "cell_type": "code",
   "execution_count": 30,
   "metadata": {},
   "outputs": [],
   "source": [
    "# governing principles/equations"
   ]
  },
  {
   "cell_type": "code",
   "execution_count": 31,
   "metadata": {},
   "outputs": [],
   "source": [
    "# solution (step-by-step) algorithm (aka code)"
   ]
  },
  {
   "cell_type": "code",
   "execution_count": 32,
   "metadata": {},
   "outputs": [],
   "source": [
    "# application"
   ]
  },
  {
   "cell_type": "code",
   "execution_count": null,
   "metadata": {},
   "outputs": [],
   "source": [
    "# discussion of results"
   ]
  }
 ],
 "metadata": {
  "kernelspec": {
   "display_name": "Python 3",
   "language": "python",
   "name": "python3"
  },
  "language_info": {
   "codemirror_mode": {
    "name": "ipython",
    "version": 3
   },
   "file_extension": ".py",
   "mimetype": "text/x-python",
   "name": "python",
   "nbconvert_exporter": "python",
   "pygments_lexer": "ipython3",
   "version": "3.8.10"
  }
 },
 "nbformat": 4,
 "nbformat_minor": 4
}
