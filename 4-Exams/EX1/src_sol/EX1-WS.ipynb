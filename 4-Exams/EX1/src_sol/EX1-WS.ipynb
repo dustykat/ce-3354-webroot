{
 "cells": [
  {
   "cell_type": "markdown",
   "metadata": {},
   "source": [
    "**Download** (right-click, save target as ...) this page as a Jupyterlab notebook from: [EX-1](http://54.243.252.9/ce-3354-webroot/4-Exams/EX1/EX1.ipynb)\n",
    "\n",
    "___"
   ]
  },
  {
   "cell_type": "markdown",
   "metadata": {},
   "source": [
    "# <font color=darkblue>CE 3354 Engineering Hydrology <br> Fall 2022 Exam 1 </font>\n",
    "\n",
    "**LAST NAME, FIRST NAME**\n",
    "\n",
    "**R00000000**\n",
    "\n",
    "___\n",
    "\n",
    "### Purpose : \n",
    "Demonstrate ability to apply hydrologic and problem solving principles with respect to water balance, watershed delineation and measurements, and precipitation and streamflow.\n"
   ]
  },
  {
   "cell_type": "markdown",
   "metadata": {},
   "source": [
    "---\n",
    "\n",
    "### Problem 1 Water Budget Concepts\n",
    "\n",
    "A river reach has an initial inflow of 350 cfs and an initial outflow of 285 cfs.  90 minutes later the inflow and outflow are 250 cfs and 200 cfs, respectively, and the volume in storage is 10.8 acre-ft. Determine:\n",
    "\n",
    "1. The change in storage over the 90 minute interval, and\n",
    "2. The initial storage volume"
   ]
  },
  {
   "cell_type": "code",
   "execution_count": 116,
   "metadata": {},
   "outputs": [
    {
     "name": "stdout",
     "output_type": "stream",
     "text": [
      "Begin Time 0  hours\n",
      "End Time 1.5  hours\n",
      "Inflow at Begin Time 350  cfs\n",
      "Inflow at End Time 250  cfs\n",
      "Outflow at Begin Time 285  cfs\n",
      "Outflow at End Time 200  cfs\n",
      "Storage at Begin Time 3.67  acre-feet\n",
      "Storage at End Time 10.8  acre-feet\n"
     ]
    }
   ],
   "source": [
    "# solution here - use lesson02 script\n",
    "# prototype function\n",
    "def newS(t0,t1,I0,I1,O0,O1,S0):\n",
    "    Ibar = 0.5*(I0 + I1)\n",
    "    Obar = 0.5*(O0 + O1)\n",
    "    dsdt = Ibar - Obar\n",
    "    dsdt = dsdt*3600/43560 # convert to correct units\n",
    "    deltat = t1-t0\n",
    "    DS   = dsdt*deltat\n",
    "    newS   = S0+DS\n",
    "    return(newS)\n",
    "# input values\n",
    "t0 = 0 # hrs\n",
    "t1 = 1.5 # hrs\n",
    "I0 = 350 # cfs\n",
    "I1 = 250 # cfs\n",
    "O0 = 285 # cfs\n",
    "O1 = 200 # cfs\n",
    "S0 = 3.67 # acre-ft <<< Change this until storage out is 10.8\n",
    "# echo inputs\n",
    "print(\"Begin Time\",t0,\" hours\")\n",
    "print(\"End Time\",t1,\" hours\")\n",
    "print(\"Inflow at Begin Time\",I0,\" cfs\")\n",
    "print(\"Inflow at End Time\",I1,\" cfs\")\n",
    "print(\"Outflow at Begin Time\",O0,\" cfs\")\n",
    "print(\"Outflow at End Time\",O1,\" cfs\")\n",
    "print(\"Storage at Begin Time\",S0,\" acre-feet\")\n",
    "S1   = newS(t0,t1,I0,I1,O0,O1,S0) # get new storage\n",
    "# output results\n",
    "print(\"Storage at End Time\",round(S1,2),\" acre-feet\")"
   ]
  },
  {
   "cell_type": "markdown",
   "metadata": {},
   "source": [
    "---\n",
    "\n",
    "### Problem 2 Volume and Flow Concepts\n",
    "\n",
    "1. If water flows past an observation location at 1.0 cubic feet per second, for one hour, what incremental volume in cubic feet has passed the observation location?\n",
    "2. If a basin has a surface area of 1 acre, and water is uniformily ponded at a depth of 1 foot, what is the total volume of water in cubic feet?\n",
    "3. A reservoir with a constant surface area of 500 acres has an evaporation rate of 3.6 inches per day. The average outflow from the reservoir is 50 cubic feet per second, what is the change in water level in one day?"
   ]
  },
  {
   "cell_type": "code",
   "execution_count": 117,
   "metadata": {},
   "outputs": [
    {
     "name": "stdout",
     "output_type": "stream",
     "text": [
      "Volume past observation point in 1 hour is  3600.0  cubic feet\n",
      "Volume in Basin is  43560.0  cubic feet\n",
      "Daily Water Level Change is  0.498  feet\n"
     ]
    }
   ],
   "source": [
    "# solution here\n",
    "flowrate = 1.0 #cfs\n",
    "duration = 1.0 #hour\n",
    "totalvolume = flowrate*duration*(3600/1) # convert hour to seconds - totalvolume is in ft^3\n",
    "print(\"Volume past observation point in 1 hour is \",round(totalvolume,3),\" cubic feet\")\n",
    "area = 1 #acre\n",
    "depth = 1 #foot\n",
    "storedvolume = area*depth*(43560/1) #convert acre to sq. feet for volume in cubic feet\n",
    "print(\"Volume in Basin is \",round(storedvolume,3),\" cubic feet\")\n",
    "area = 500 #acres\n",
    "evap = 3.6 #inches/day\n",
    "loss = area*evap*(1/12)*(43560/1) # convert inches to feet, acres to sq. feet - result is in cubic feet per day \n",
    "flowrate = 50.0 #cfs\n",
    "duration = 24.0 #hour\n",
    "totalflow = flowrate*duration*(3600/1) # convert hour to seconds - totalvolume is in ft^3/day\n",
    "deltah = (loss + totalflow)/(area*(43560/1))\n",
    "print(\"Daily Water Level Change is \",round(deltah,3),\" feet\")"
   ]
  },
  {
   "cell_type": "markdown",
   "metadata": {},
   "source": [
    "---\n",
    "\n",
    "### Problem 3. Watershed Metrics\n",
    "\n",
    "Figure 1 is a topographic map of a small drainage basin. The drawn contour interval is\n",
    "20 feet. Many of the contours are labeled. A culvert structure is located on the Eastern\n",
    "portion of the basin, near the outlet shown on Figure 3. \n",
    "<figure align=\"center\">\n",
    "<!--<img src=\"./topoMap.png\" width=\"500\" > -->\n",
    "<img src=\"http://54.243.252.9/ce-3354-webroot/4-Exams/EX1/topoMap.png\" width=\"700\" >\n",
    "<figcaption>Figure 1. Topographic Map of a portion of the Earth. Elevations and linear distances are in\n",
    "f eet. North (by convention) is up. </figcaption>\n",
    "</figure>\n",
    "\n",
    "The red line is a highway alignment, beneath which the culvert structure is placed. Figure 2 is a photograph\n",
    "of the culvert system that is comprised of 4-parallel , 4-foot diameter, 100-foot long\n",
    "culverts. The lowest portion of the road near the culverts is at elevation 595 feet. The\n",
    "culverts are laid on a dimensionless slope of 0.02.\n",
    "<figure align=\"center\">\n",
    "<!--<img src=\"./culvert-system.png\" width=\"600\" > -->\n",
    "<img src=\"http://54.243.252.9/ce-3354-webroot/4-Exams/EX1/culvert-system.png\" width=\"600\" >\n",
    "<figcaption>Figure 2. Multiple-barrel outlet structure </figcaption>\n",
    "</figure>\n",
    "\n",
    "The watershed is delineated and the boundary is already drawn on the map.\n",
    "\n",
    "The water surface area when the culvert system (like a dam, with 4 holes in the wall) impounds water to a water surface elevation of $565~feet$ is zero. (Zero pool area when the WSE is at 565 feet).  Figure 3 is a schematic sketch (elevation view) of a culvert barrel.\n",
    "\n",
    "<figure align=\"center\">\n",
    "<!-- <img src=\"./CulvertSystemElevation.png\" width=\"600\" > -->\n",
    "<img src=\"http://54.243.252.9/ce-3354-webroot/4-Exams/EX1/CulvertSystemElevation.png\" width=\"700\" >\n",
    "<figcaption>Figure 3. Culvert system elevation view sketch </figcaption>\n",
    "</figure>\n",
    "   "
   ]
  },
  {
   "cell_type": "code",
   "execution_count": 118,
   "metadata": {},
   "outputs": [],
   "source": [
    "# solution below:"
   ]
  },
  {
   "cell_type": "markdown",
   "metadata": {},
   "source": [
    "- Estimate the basin drainage area that drains to the culvert structure.  Report the results in\n",
    "  1. Square feet,\n",
    "  2. Acres, and\n",
    "  3. Square miles\n",
    "  \n",
    "  Superimpose a grid and apply counting squares (or use software and determine distances and areas  using measuring tools.)\n",
    "  \n",
    "  ![](topogrid.png)"
   ]
  },
  {
   "cell_type": "code",
   "execution_count": 119,
   "metadata": {},
   "outputs": [
    {
     "name": "stdout",
     "output_type": "stream",
     "text": [
      "Area in sq. feet :  88711200  ft^2\n",
      "Area in acres :  2036.529  acres\n",
      "Area in sq. miles :  3.182  sq.mi\n"
     ]
    }
   ],
   "source": [
    "# area\n",
    "areasquare = 443556 #ft^2 interpreted from the scane in feet on the drawing\n",
    "howmanysquares = 200\n",
    "\n",
    "areaft2 = howmanysquares*areasquare\n",
    "\n",
    "areaAc = areaft2*(1/43560) # 43560 ft^2 per acre\n",
    "\n",
    "areaSqMi = areaAc*(1/640) # 640 acres per sq.mi.\n",
    "\n",
    "print(\"Area in sq. feet : \",round(areaft2,3),\" ft^2\")\n",
    "print(\"Area in acres : \",round(areaAc,3),\" acres\")\n",
    "print(\"Area in sq. miles : \",round(areaSqMi,3),\" sq.mi\")"
   ]
  },
  {
   "cell_type": "markdown",
   "metadata": {},
   "source": [
    "<font color=\"red\"> Numerical answers +/- 10% are \"correct\" </font>"
   ]
  },
  {
   "cell_type": "markdown",
   "metadata": {},
   "source": [
    "- Complete the elevation (side) view sketch of the road embankment and culvert system by indicating the missing elevations on the sketch of (show computations for the outlet elevation)\n",
    "  1. The roadway crest in feet, \n",
    "  2. The culvert outlet elevation in feet, and\n",
    "  3. The culvert barrel length in feet.\n",
    "  \n",
    "![](culvert-drawing-numbers.png)\n",
    "\n",
    "<font color=\"red\"> The \"aside\" balloon is FYI only , not part of an answer </font>"
   ]
  },
  {
   "cell_type": "markdown",
   "metadata": {},
   "source": [
    "- Estimate the water surface area (area of the pool on the upstream side of the road embankment) when the embankment impounds water to a water surface elevation of $590~feet$.  Show how you made the estimate.\n",
    "\n",
    "![](poolarea590.png)"
   ]
  },
  {
   "cell_type": "code",
   "execution_count": 120,
   "metadata": {},
   "outputs": [
    {
     "name": "stdout",
     "output_type": "stream",
     "text": [
      "590 Elevation Pool Area in acres :  295.297  acres\n"
     ]
    }
   ],
   "source": [
    "poolarea590 = (areasquare*29)*(1/43560)\n",
    "print(\"590 Elevation Pool Area in acres : \",round(poolarea590,3),\" acres\")"
   ]
  },
  {
   "cell_type": "markdown",
   "metadata": {},
   "source": [
    "- Estimate the main channel length in feet. Show how you made the estimate.\n",
    "\n",
    "The main channel traverses about 24 squares, each square has a side of 666 feet."
   ]
  },
  {
   "cell_type": "code",
   "execution_count": 121,
   "metadata": {},
   "outputs": [
    {
     "name": "stdout",
     "output_type": "stream",
     "text": [
      "Main channel length in feet :  15984.0  feet\n"
     ]
    }
   ],
   "source": [
    "lengthsquare = areasquare**(0.5)  # square root should give us the side\n",
    "chanellength = 24 * lengthsquare # one could get fancy and use the diagional, which would be 1.4 larger\n",
    "print(\"Main channel length in feet : \",round(chanellength,3),\" feet\")"
   ]
  },
  {
   "cell_type": "markdown",
   "metadata": {},
   "source": [
    "- Estimate the elevation at the most upstream portion of the main channel (where the main channel would intersect the watershed boundary), in feet."
   ]
  },
  {
   "cell_type": "code",
   "execution_count": 122,
   "metadata": {},
   "outputs": [],
   "source": [
    "highpoint = 650 # feet"
   ]
  },
  {
   "cell_type": "markdown",
   "metadata": {},
   "source": [
    "- Estimate the elevation of the outlet point of the watershed (the culvert invert elevations)."
   ]
  },
  {
   "cell_type": "code",
   "execution_count": 123,
   "metadata": {},
   "outputs": [],
   "source": [
    "outlet = 565 #feet"
   ]
  },
  {
   "cell_type": "markdown",
   "metadata": {},
   "source": [
    "- Using these two elevation values, estimate the average watershed slope along the main channel.   Express the result in\n",
    "   1. Dimensionless slope, and \n",
    "   2. Percent slope."
   ]
  },
  {
   "cell_type": "code",
   "execution_count": 124,
   "metadata": {},
   "outputs": [
    {
     "name": "stdout",
     "output_type": "stream",
     "text": [
      "Dimensionless main channel slope :  0.0053  --- \n",
      "Percent main channel slope  :  0.53  percent\n"
     ]
    }
   ],
   "source": [
    "slopedim = (highpoint-outlet)/chanellength\n",
    "slopepercent = slopedim*100\n",
    "print(\"Dimensionless main channel slope : \",round(slopedim,4),\" --- \")\n",
    "print(\"Percent main channel slope  : \",round(slopepercent,2),\" percent\")"
   ]
  },
  {
   "cell_type": "markdown",
   "metadata": {},
   "source": [
    "---\n",
    "\n",
    "### Problem 4. Rainfall and Runoff Data Reduction\n",
    "\n",
    "A tabulation of an observed storm and associated runoff for the drainage area depicted by the map in Figure 1 is listed below.  The runoff was measured at the culvert system and indicated by the blue circle on the map.\n",
    "\n",
    "|Time (hrs)|Accumulated Rain (inches)|Observed Discharge (cfs)|Incremental Volume (ft$^3$)|Cumulative Volume (ft$^3$)|\n",
    "|---:|---:|---:|---:|---:|\n",
    "| 0|0.000|0.00|||\n",
    "|1|0.000|0.00|||\n",
    "|2|0.000|0.00|||\n",
    "|3|0.000|0.00|||\n",
    "|4|0.000|0.00|||\n",
    "|5|0.000|0.00|||\n",
    "|6|0.000|0.00|||\n",
    "|7|0.000|0.00|||\n",
    "|8|0.101|1.40|||\n",
    "|9|0.106|0.31|||\n",
    "|10|0.111|0.31|||\n",
    "|11|0.115|0.31|||\n",
    "|12|0.120|0.31|||\n",
    "|13|0.120|0.40|||\n",
    "|14|0.150|0.40|||\n",
    "|15|0.750|24.66|||\n",
    "|16|2.750|588.23|||\n",
    "|17|2.940|808.70|||\n",
    "|18|3.030|154.28|||\n",
    "|19|3.030|94.68|||\n",
    "|20|3.030|27.56|||\n",
    "|21|3.090|36.13|||\n",
    "|22|3.210|19.65|||\n",
    "|23|3.300|7.00|||\n",
    "|24|3.300|0.00|||\n",
    "\n",
    "\n",
    "\n",
    "Build a Jupyter Notebook (or use Excel) to:\n",
    "\n",
    "1. Complete the column labeled Incremental Volume (ft$^3$). \n",
    "2. Complete the column labeled Cumulative Volume (ft$^3$).\n",
    "3. Determine the total **volume** of runoff in cubic feet from the storm (e.g. the Cumulative Volume at hour 24) \n",
    "4. Convert the runoff volume from cubic feet into watershed feet (i.e divide by the watershed area), then from watershed feet into watershed inches.  \n",
    "5. Determine the fraction (percent) of rainfall that becomes runoff.\n",
    "6. Plot the cumulative precipitation in inches and the cumulative runoff in watershed inches on the same plot.  Use the time for the x-axis, and the respective cumulative depths for the y-axis.  Plot precipitation in BLUE and runoff in RED."
   ]
  },
  {
   "cell_type": "code",
   "execution_count": 125,
   "metadata": {},
   "outputs": [
    {
     "name": "stdout",
     "output_type": "stream",
     "text": [
      "Watershed Area 88711200  square feet\n",
      "Total Runoff Volume 9527382.0  cubic feet\n",
      "Total Runoff Depth 0.107  watershed feet\n",
      "Total Runoff Depth 1.289  watershed inches\n",
      "\n",
      "Total Precipitation Volume 24395580.0 cubic feet\n",
      "Fraction of Rain that appears as runoff 39.1  percent\n",
      "\n",
      "Time (hrs)| ACC RAIN (in.)| FLOW (cfs)| INC VOL (ft^3)| ACC VOL (ft^3)| ACC RUNOFF (inches)|\n",
      "  0.0      |  0.00        |    0.00   |        0.00   |        0.00   |      0.00   |\n",
      "  1.0      |  0.00        |    0.00   |        0.00   |        0.00   |      0.00   |\n",
      "  2.0      |  0.00        |    0.00   |        0.00   |        0.00   |      0.00   |\n",
      "  3.0      |  0.00        |    0.00   |        0.00   |        0.00   |      0.00   |\n",
      "  4.0      |  0.00        |    0.00   |        0.00   |        0.00   |      0.00   |\n",
      "  5.0      |  0.00        |    0.00   |        0.00   |        0.00   |      0.00   |\n",
      "  6.0      |  0.00        |    0.00   |        0.00   |        0.00   |      0.00   |\n",
      "  7.0      |  0.00        |    0.00   |        0.00   |        0.00   |      0.00   |\n",
      "  8.0      |  0.10        |    1.40   |     2520.00   |     2520.00   |      0.00   |\n",
      "  9.0      |  0.11        |    0.31   |     5598.00   |     8118.00   |      0.00   |\n",
      " 10.0      |  0.11        |    0.31   |     1674.00   |     9792.00   |      0.00   |\n",
      " 11.0      |  0.12        |    0.31   |     1674.00   |    11466.00   |      0.00   |\n",
      " 12.0      |  0.12        |    0.31   |     1674.00   |    13140.00   |      0.00   |\n",
      " 13.0      |  0.12        |    0.40   |     1836.00   |    14976.00   |      0.00   |\n",
      " 14.0      |  0.15        |    0.40   |     2160.00   |    17136.00   |      0.00   |\n",
      " 15.0      |  0.75        |   24.66   |    45828.00   |    62964.00   |      0.01   |\n",
      " 16.0      |  2.75        |  588.23   |  1147590.00   |  1210554.00   |      0.16   |\n",
      " 17.0      |  2.94        |  808.70   |  3573288.00   |  4783842.00   |      0.65   |\n",
      " 18.0      |  3.03        |  154.28   |  3189024.00   |  7972866.00   |      1.08   |\n",
      " 19.0      |  3.03        |   94.68   |   725832.00   |  8698698.00   |      1.18   |\n",
      " 20.0      |  3.03        |   27.56   |   390456.00   |  9089154.00   |      1.23   |\n",
      " 21.0      |  3.09        |   36.13   |   164250.00   |  9253404.00   |      1.25   |\n",
      " 22.0      |  3.21        |   19.65   |   165438.00   |  9418842.00   |      1.27   |\n",
      " 23.0      |  3.30        |    7.00   |    83340.00   |  9502182.00   |      1.29   |\n",
      " 24.0      |  3.30        |    0.00   |    25200.00   |  9527382.00   |      1.29   |\n"
     ]
    },
    {
     "data": {
      "image/png": "[encoded data removed]",
      "text/plain": [
       "<Figure size 720x360 with 1 Axes>"
      ]
     },
     "metadata": {
      "needs_background": "light"
     },
     "output_type": "display_data"
    }
   ],
   "source": [
    "# solution here\n",
    "dataframe=[[0,0.000,0.00],[1,0.000,0.00],[2,0.000,0.00],[3,0.000,0.00],[4,0.000,0.00],[5,0.000,0.00],[6,0.000,0.00],[7,0.000,0.00],[8,0.101,1.40],[9,0.106,0.31],[10,0.111,0.31],[11,0.115,0.31],[12,0.120,0.31],[13,0.120,0.40],[14,0.150,0.40],[15,0.750,24.66],[16,2.750,588.23],[17,2.940,808.70],[18,3.030,154.28],[19,3.030,94.68],[20,3.030,27.56],[21,3.090,36.13],[22,3.210,19.65],[23,3.300,7.00],[24,3.300,0.00]]\n",
    "# set equivalents\n",
    "time=[]\n",
    "accrain=[]\n",
    "obsflow=[]\n",
    "for irow in range(len(dataframe)):\n",
    "    time.append(dataframe[irow][0])\n",
    "    accrain.append(dataframe[irow][1])\n",
    "    obsflow.append(dataframe[irow][2])\n",
    "\n",
    "incvol = [0 for i in range(len(time))]\n",
    "accvol = [0 for i in range(len(time))]\n",
    "accrun = [0 for i in range(len(time))]\n",
    "for irow in range(1,len(dataframe)):\n",
    "    incvol[irow]=(0.5*obsflow[irow]+obsflow[irow-1])*(time[irow]-time[irow-1])*3600 # convert cfs to ft3 in 1 hour - increment from end of previous hour\n",
    "    accvol[irow]=incvol[irow]+accvol[irow-1]\n",
    "    \n",
    "print(\"Watershed Area\",round(areaft2,3),\" square feet\")\n",
    "print(\"Total Runoff Volume\",accvol[-1],\" cubic feet\")\n",
    "print(\"Total Runoff Depth\",round(accvol[-1]/areaft2,3),\" watershed feet\")\n",
    "print(\"Total Runoff Depth\",round(12*accvol[-1]/areaft2,3),\" watershed inches\")\n",
    "print(\"\\nTotal Precipitation Volume\",round(accrain[-1]*areaft2/12,3),\"cubic feet\")\n",
    "print(\"Fraction of Rain that appears as runoff\",round(100*accvol[-1]/(accrain[-1]*areaft2/12),1),\" percent\\n\")\n",
    "\n",
    "#time=[0,1,2,3,4,5,6,7,8,9,10,11,12,13,14,15,16,17,18,19,20,21,22,23,24]\n",
    "increment=[0.121,0.121,0.132,0.154,0.165,0.187,0.198,0.242,0.297,0.374,0.594,4.708,1.199,0.528,0.374,0.286,0.253,0.209,0.176,0.154,0.132,0.132,0.132,0.132,0]\n",
    "accumulate=[0 for i in range(len(time))]\n",
    "\n",
    "\n",
    "print(\"Time (hrs)|\",\"ACC RAIN (in.)|\",\"FLOW (cfs)|\",\"INC VOL (ft^3)|\",\"ACC VOL (ft^3)|\",\"ACC RUNOFF (inches)|\")\n",
    "for i in range(0,len(time)):\n",
    "    accrun[i] = 12*accvol[i]/areaft2\n",
    "\n",
    "    print(\" %4.1f      |  %4.2f        |  %6.2f   |  %10.2f   |  %10.2f   |%10.2f   |\"%(time[i],accrain[i],obsflow[i],incvol[i],accvol[i],12*accvol[i]/areaft2))\n",
    "\n",
    "import matplotlib.pyplot as plt # the python plotting library\n",
    "plottitle ='Precipitation for Somewhere USA ' \n",
    "mydata = plt.figure(figsize = (10,5)) # build a square drawing canvass from figure class\n",
    "plt.plot(time, accrain, c='blue',drawstyle='default') # step plot\n",
    "plt.plot(time, accrun, c='red',drawstyle='default') # step plot\n",
    "plt.xlabel('Time (hours)')\n",
    "plt.ylabel('Depth (inches)')\n",
    "plt.legend(['Precipitation (inches)','Runoff (watershed inches)'])\n",
    "plt.title(plottitle)\n",
    "plt.show()\n",
    "\n"
   ]
  },
  {
   "cell_type": "code",
   "execution_count": null,
   "metadata": {},
   "outputs": [],
   "source": []
  }
 ],
 "metadata": {
  "kernelspec": {
   "display_name": "Python 3",
   "language": "python",
   "name": "python3"
  },
  "language_info": {
   "codemirror_mode": {
    "name": "ipython",
    "version": 3
   },
   "file_extension": ".py",
   "mimetype": "text/x-python",
   "name": "python",
   "nbconvert_exporter": "python",
   "pygments_lexer": "ipython3",
   "version": "3.8.10"
  }
 },
 "nbformat": 4,
 "nbformat_minor": 4
}
