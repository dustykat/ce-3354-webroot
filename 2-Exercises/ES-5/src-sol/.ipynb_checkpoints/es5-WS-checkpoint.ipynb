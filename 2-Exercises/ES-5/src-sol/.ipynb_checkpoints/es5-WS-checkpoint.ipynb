{
 "cells": [
  {
   "cell_type": "markdown",
   "metadata": {},
   "source": [
    "Download this document as a JupyterLab notebook [here](http://54.243.252.9/ce-3354-webroot/2-Exercises/ES-5/es5.ipynb)\n",
    "\n",
    "# <font color=darkblue>CE 3354 Engineering Hydrology <br> Fall 2022 Exercise Set 5</font>\n",
    "\n",
    "**LAST NAME, FIRST NAME**\n",
    "\n",
    "**R00000000**\n",
    "\n",
    "___\n",
    "\n",
    "### Purpose : \n",
    "Streamflow data preparation for input into HEC-HMS and similar analysis tools. Plotting exercises. \n",
    "\n",
    "### Assessment Criteria : \n",
    "Completion, plausible solutions, use of Jupyter Notebook as a calculator/documentation method\n",
    "\n",
    "___\n",
    "\n",
    "\n",
    "## Exercise 1\n",
    "Figure 1 is a portion of the spreadsheet named [RainfallData.xls]() that contains cumulative rainfall for a gage in Dallas, Texas. **Convert/interpolate the data into 15-minute cumulative rainfall (amount of rainfall every 15 minutes)**. Be aware the cumulative data is irregular in time (there are variable $\\Delta t$ values in the data), so you will have to put the data into regularly spaced increments.\n",
    "\n",
    "\n",
    "![Figure 1](http://54.243.252.9/ce-3354-webroot/2-Exercises/ES-5/src-sol/AshCreek-SS1.png)\n",
    "\n",
    "|Figure 1.  Portion of Rainfall Data Spreadsheet|\n",
    "|---|\n",
    "\n",
    "### Solution(s)\n",
    "\n",
    "![](http://54.243.252.9/ce-3354-webroot/2-Exercises/ES-5/src-sol/es5-pr1-1-scan.png)\n",
    "![](http://54.243.252.9/ce-3354-webroot/2-Exercises/ES-5/src-sol/es5-pr1-2-scan.png)"
   ]
  },
  {
   "cell_type": "markdown",
   "metadata": {},
   "source": [
    "## Exercise 2:\n",
    "\n",
    "Convert the 15-minute **cumulative rainfall into 15-minute incremental rainfall**.\n",
    "\n",
    "### Solution(s)\n",
    "\n",
    "\n",
    "![](http://54.243.252.9/ce-3354-webroot/2-Exercises/ES-5/src-sol/es5-pr2-1-scan.png)"
   ]
  },
  {
   "cell_type": "markdown",
   "metadata": {},
   "source": [
    "## Exercise 3:\n",
    "Figure 2 is a portion of the spreadsheet named RunoffData.xlsx that contains runoff for a gage in Dallas, Texas as specific moments in time. **Convert/interpolate the data into 15-minute cumulative runoff**. The drainage area is 6.92 miles. Express the result in watershed inches of runoff. Be aware the data is irregular in time (there are variable ∆t values in the data).\n",
    "\n",
    "![Figure 2](http://54.243.252.9/ce-3354-webroot/2-Exercises/ES-5/src-sol/AshCreek-SS2.png)\n",
    "\n",
    "|Figure 2.  Portion of Runoff Data Spreadsheet|\n",
    "|---|\n",
    "\n",
    "### Solution(s)\n",
    "\n",
    "Using the same kind of computations and table searches as Exercise 1 the result is shown below. The only substantial difference is the meaning of the data – this data is runoff in CFS rather than cumulative rainfall.\n",
    "\n",
    "![](http://54.243.252.9/ce-3354-webroot/2-Exercises/ES-5/src-sol/es5-pr3-1-scan.png)\n",
    "![](http://54.243.252.9/ce-3354-webroot/2-Exercises/ES-5/src-sol/es5-pr3-2-scan.png)\n"
   ]
  },
  {
   "cell_type": "markdown",
   "metadata": {},
   "source": [
    "## Exercise 4:\n",
    "\n",
    "Plot the 15-minute cumulative rainfall and the 15-minute cumulative runoff (in water- shed inches) on the same time axis. Caption and describe the plots – remember figures are captioned at the bottom of the graphic element. The plot description (written) should call out the plot (e.g. Figure XX is a plot of the cumulative ITEM in UNITS versus TIME....)\n",
    "\n",
    "### Solution(s)\n",
    "\n",
    "![](http://54.243.252.9/ce-3354-webroot/2-Exercises/ES-5/src-sol/es5-pr4-1-scan.png)"
   ]
  },
  {
   "cell_type": "markdown",
   "metadata": {},
   "source": [
    "**Note 1** You will have to do these same kinds of conversions/analysis for the Hardin Creek project to put data into HEC-HMS later on, so its worth getting competent at the task.\n",
    "\n",
    "**Note 2** We will use these same data for the next HEC-HMS workshop."
   ]
  }
 ],
 "metadata": {
  "kernelspec": {
   "display_name": "Python 3",
   "language": "python",
   "name": "python3"
  },
  "language_info": {
   "codemirror_mode": {
    "name": "ipython",
    "version": 3
   },
   "file_extension": ".py",
   "mimetype": "text/x-python",
   "name": "python",
   "nbconvert_exporter": "python",
   "pygments_lexer": "ipython3",
   "version": "3.8.10"
  }
 },
 "nbformat": 4,
 "nbformat_minor": 4
}
