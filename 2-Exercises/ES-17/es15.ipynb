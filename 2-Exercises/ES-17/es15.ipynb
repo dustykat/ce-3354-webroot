{
 "cells": [
  {
   "cell_type": "markdown",
   "metadata": {},
   "source": [
    "Download this document as a JupyterLab notebook [here](http://54.243.252.9/ce-3354-webroot/2-Exercises/ES-15/es15.ipynb)\n",
    "\n",
    "# <font color=darkblue>CE 3354 Engineering Hydrology <br> Fall 2022 Exercise Set 13</font>\n",
    "\n",
    "**LAST NAME, FIRST NAME**\n",
    "\n",
    "**R00000000**\n",
    "\n",
    "___\n",
    "\n",
    "### Purpose : \n",
    "Build Muskingum-Cunge Routing Elements for Hardin Creek.\n",
    "\n",
    "### Assessment Criteria : \n",
    "Completion, plausible solutions, use of Jupyter Notebook as a calculator/documentation method\n",
    "\n",
    "___\n",
    "The Muskingum-Cunge routing in HEC-HMS will require you the enter channel data using simple geometries. In class a trapezoidal channel with a rectangular pilot channel was used. In the Hardin Creek study area there are several channels that are to be represented for the hydrologic and hydraulic analysis of the stream crossing at US-87. As a minimum there will be a channel from the North Reservoir to the stream junction, a channel from the West Reservoir to the stream junction, and a channel from the stream junction to the US-87 crossing.\n",
    "\n",
    "![](figure1.png)\n",
    "\n",
    "Figure 1 is an image of the watershed map with a cross section on the junction to US-87 crossing selected. The Magenta arrow points downstream on both the topographic map and on the small data table made on the post-it notes. The cross section was selected, then the post-it note was aligned with the section and the locations of the different contour elevations marked on the note in the “ELEVATION” column. Next the distances between these marks was measured and written on the post-it note in the “STATION” column, then the post-it note moved to the corner shown.\n",
    "The table is backwards in that measurements are supposed to be from left-to-right looking downstream rather than right-to-left as written on the diagram. However it is simple to reverse the stations so the left-most station is a distance zero and the right most station is at 8750.\n",
    "\n",
    "The resulting distance-elevation table from Figure 1 was used to construct in HEC-HMS the channel cross-section profile. Figure 2 is a HEC-HMS plot of the cross-section after reversing the stationing distances; rendered in the HMS program. The image is correct for “looking downstream.”\n",
    "\n",
    "![](figure2.png)\n",
    "\n",
    "\n",
    "### Exercise 1:\n",
    "Select cross section locations on the North to junction channel, the West to junction channel, and the junction to US-87 crossing channel. Using the topographic map, construct the cross-section station-elevation table for these three cross sections.\n",
    "\n",
    "### Exercise 2:\n",
    "Plot the three-cross sections (x-axis is station/distance from left edge looking downstream; y-axis is elevation) in Excel.\n",
    "\n",
    "### Exercise 3:\n",
    "Select a value for Manning’s n for the section, and cite the source of the value.\n"
   ]
  }
 ],
 "metadata": {
  "kernelspec": {
   "display_name": "Python 3 (ipykernel)",
   "language": "python",
   "name": "python3"
  },
  "language_info": {
   "codemirror_mode": {
    "name": "ipython",
    "version": 3
   },
   "file_extension": ".py",
   "mimetype": "text/x-python",
   "name": "python",
   "nbconvert_exporter": "python",
   "pygments_lexer": "ipython3",
   "version": "3.10.12"
  }
 },
 "nbformat": 4,
 "nbformat_minor": 4
}
