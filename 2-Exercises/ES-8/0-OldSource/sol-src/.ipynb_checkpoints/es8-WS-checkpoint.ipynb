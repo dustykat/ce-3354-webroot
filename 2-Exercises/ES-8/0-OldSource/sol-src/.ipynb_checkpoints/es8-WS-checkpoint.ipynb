{
 "cells": [
  {
   "cell_type": "markdown",
   "metadata": {},
   "source": [
    "Download this document as a JupyterLab notebook [here](http://54.243.252.9/ce-3354-webroot/2-Exercises/ES-8/es8.ipynb)\n",
    "\n",
    "# <font color=darkblue>CE 3354 Engineering Hydrology <br> Fall 2022 Exercise Set 8</font>\n",
    "\n",
    "**LAST NAME, FIRST NAME**\n",
    "\n",
    "**R00000000**\n",
    "\n",
    "___\n",
    "\n",
    "### Purpose : \n",
    "Estimate timing ($T_C$) parameters for a small watershed.\n",
    "\n",
    "### Assessment Criteria : \n",
    "Completion, plausible solutions, use of Jupyter Notebook as a calculator/documentation method\n",
    "\n",
    "___\n",
    "Figure 1 is a Google-Earth image of a watershed. The distance on the image from Rain Gage R-1 to the Rocky Run Branch Gage is 1,500 feet.\n",
    "\n",
    "![](http://54.243.252.9/ce-3354-webroot/2-Exercises/ES-8/sol-src/rockyrun.png)\n",
    "\n",
    "## Exercise 1:\n",
    "Estimate the time of concentration using the [Kerby-Kirpich](http://54.243.252.9/ce-3354-webroot/5-Spreadsheets/KerbyKirpich-US.xls) method assuming the slope is 0.006 along the main channel (which drains to the outlet). The channel is clearly visible at the gage and running northward to the utility easement about 2/3 up the watershed. Beyond the easement use your judgment as to the channel alignment.\n",
    "\n",
    "**Solution:**\n",
    "\n",
    "- Identify flow paths\n",
    "\n",
    "![](http://54.243.252.9/ce-3354-webroot/2-Exercises/ES-8/sol-src/paths.png)\n",
    "\n",
    "- Measure lengths, the apply Kerby-Kirpich\n",
    "\n",
    "![](http://54.243.252.9/ce-3354-webroot/2-Exercises/ES-8/sol-src/kerby.png)\n",
    "\n",
    "## Exercise 2:\n",
    "Estimate the time of concentration using the [NRCS-Upland](http://54.243.252.9/ce-3354-webroot/5-Spreadsheets/NRCS-Upland.xls) method assuming the slope is 0.006 along the main channel (which drains to the outlet). The channel is clearly visible at the gage and running northward to the utility easement about 2/3 up the watershed. Beyond the easement use your judgment as to the channel alignment.\n",
    "\n",
    "**Solution:**\n",
    "- Measure lengths and apply NRCS\n",
    "\n",
    "![](http://54.243.252.9/ce-3354-webroot/2-Exercises/ES-8/sol-src/nrcsover.png)\n",
    "\n",
    "## Exercise 3:\n",
    "Research the readings and the internet and select an additional (different) method to estimate the time of concentration – compare the three estimates and select the estimate you would choose and explain why you would make that choice.\n",
    "\n",
    "**YOYO**\n",
    "\n"
   ]
  },
  {
   "cell_type": "code",
   "execution_count": null,
   "metadata": {},
   "outputs": [],
   "source": []
  }
 ],
 "metadata": {
  "kernelspec": {
   "display_name": "Python 3",
   "language": "python",
   "name": "python3"
  },
  "language_info": {
   "codemirror_mode": {
    "name": "ipython",
    "version": 3
   },
   "file_extension": ".py",
   "mimetype": "text/x-python",
   "name": "python",
   "nbconvert_exporter": "python",
   "pygments_lexer": "ipython3",
   "version": "3.8.10"
  }
 },
 "nbformat": 4,
 "nbformat_minor": 4
}
