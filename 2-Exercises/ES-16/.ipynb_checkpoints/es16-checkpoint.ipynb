{
 "cells": [
  {
   "cell_type": "markdown",
   "metadata": {},
   "source": [
    "Download this document as a JupyterLab notebook [here](http://54.243.252.9/ce-3354-webroot/2-Exercises/ES-16/es16.ipynb)\n",
    "\n",
    "# <font color=darkblue>CE 3354 Engineering Hydrology <br> Fall 2022 Exercise Set 16</font>\n",
    "\n",
    "**LAST NAME, FIRST NAME**\n",
    "\n",
    "**R00000000**\n",
    "\n",
    "___\n",
    "\n",
    "### Purpose : \n",
    "Demonstrate application of fundamental groundwater concepts.\n",
    "\n",
    "### Assessment Criteria : \n",
    "Completion, plausible solutions, use of Jupyter Notebook as a calculator/documentation method\n",
    "\n",
    "---\n",
    "\n",
    "Download [ce3354-es16-2022-3.pdf](http://54.243.252.9/ce-3354-webroot/2-Exercises/ES-16/ce3354-es16-2022-3.pdf)\n",
    "\n",
    "Complete the problems and save your solution as a PDF file and upload that file to the Blackboard Server."
   ]
  },
  {
   "cell_type": "code",
   "execution_count": null,
   "metadata": {},
   "outputs": [],
   "source": []
  }
 ],
 "metadata": {
  "kernelspec": {
   "display_name": "Python 3",
   "language": "python",
   "name": "python3"
  },
  "language_info": {
   "codemirror_mode": {
    "name": "ipython",
    "version": 3
   },
   "file_extension": ".py",
   "mimetype": "text/x-python",
   "name": "python",
   "nbconvert_exporter": "python",
   "pygments_lexer": "ipython3",
   "version": "3.8.10"
  }
 },
 "nbformat": 4,
 "nbformat_minor": 4
}
