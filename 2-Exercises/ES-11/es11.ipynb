{
 "cells": [
  {
   "cell_type": "markdown",
   "metadata": {},
   "source": [
    "Download this document as a JupyterLab notebook [here](http://54.243.252.9/ce-3354-webroot/2-Exercises/ES-10/es10.ipynb)\n",
    "\n",
    "# <font color=darkblue>CE 3354 Engineering Hydrology <br> Fall 2022 Exercise Set 10</font>\n",
    "\n",
    "**LAST NAME, FIRST NAME**\n",
    "\n",
    "**R00000000**\n",
    "\n",
    "___\n",
    "\n",
    "### Purpose : \n",
    "Unit hydrograph implementation (by-hand).\n",
    "\n",
    "### Assessment Criteria : \n",
    "Completion, plausible solutions, use of Jupyter Notebook as a calculator/documentation method\n",
    "\n",
    "___\n",
    "\n",
    "\n",
    "\n",
    "An agricultural watershed was urbanized over a 20 year interval. A triangular one-hour unit hydrograph was developed for this watershed for an excess rainfall duration of one hour.\n",
    "Before urbanization, the average infiltration rate and other losses was 0.30 in/hr.\n",
    "Figure 1 is the unit hydrograph had a peak discharge of 400 cfs/in occurring at 3 hours, and a base time of 9 hours.\n",
    "\n",
    "![](UHpreurban.png)\n",
    "\n",
    "After urbanization the loss rate was reduced to 0.15 in/hr and the peak discharge of the unit hydrograph was increased to 600 cfs/in occurring at 1 hour, and the base time was reduced to 6 hours. Figure 2 is the unit hydrograph with a peak discharge of 600 cfs occurring at 1 hours, and a time base of 6 hours.\n",
    "\n",
    "![](UHposturban.png)\n",
    "\n",
    "## Exercise 1:\n",
    "For a two hour storm in which 1 inch of rain fell in the first hour and 0.5 inch in the\n",
    "second hour, determine the direct runoff hydrographs before and after urbanization.\n",
    "\n",
    "**Note** This exercise is the same as problem 7.5.7, pg. 238 in Chow, Maidment, Mays"
   ]
  },
  {
   "cell_type": "code",
   "execution_count": null,
   "metadata": {},
   "outputs": [],
   "source": []
  }
 ],
 "metadata": {
  "kernelspec": {
   "display_name": "Python 3",
   "language": "python",
   "name": "python3"
  },
  "language_info": {
   "codemirror_mode": {
    "name": "ipython",
    "version": 3
   },
   "file_extension": ".py",
   "mimetype": "text/x-python",
   "name": "python",
   "nbconvert_exporter": "python",
   "pygments_lexer": "ipython3",
   "version": "3.8.10"
  }
 },
 "nbformat": 4,
 "nbformat_minor": 4
}
