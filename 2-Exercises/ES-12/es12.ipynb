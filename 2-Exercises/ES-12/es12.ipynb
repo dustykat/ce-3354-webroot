{
 "cells": [
  {
   "cell_type": "markdown",
   "metadata": {},
   "source": [
    "Download this document as a JupyterLab notebook [here](http://54.243.252.9/ce-3354-webroot/2-Exercises/ES-12/es12.ipynb)\n",
    "\n",
    "# <font color=darkblue>CE 3354 Engineering Hydrology <br> Fall 2022 Exercise Set 12</font>\n",
    "\n",
    "**LAST NAME, FIRST NAME**\n",
    "\n",
    "**R00000000**\n",
    "\n",
    "___\n",
    "\n",
    "### Purpose : \n",
    "Analyze Rainfall-Runoff data to extract a Unit Hydrograph.\n",
    "\n",
    "### Assessment Criteria : \n",
    "Completion, plausible solutions, use of Jupyter Notebook as a calculator/documentation method\n",
    "\n",
    "___\n",
    "A storm on April 16, 1977, on the Shoal Creek watershed at Northwest Park in Austin, Texas, resulted in the rainfall-runoff values in Figure 1. \n",
    "\n",
    "![](ShoalCreek.png)\n",
    "\n",
    "## Exercise 1:\n",
    "Use the linear regression method to determine the half-hour unit hydrograph for the watershed. The watershed drainage area is 7.03 $mi^2$. Assume that a uniform loss rate (constant loss model) is valid.\n",
    "\n",
    "**Note**\n",
    "This exercise is a hybrid of problems 7.6.2 and 7.6.5, pg 239 in Chow, Maidment, and Mays."
   ]
  },
  {
   "cell_type": "code",
   "execution_count": null,
   "metadata": {},
   "outputs": [],
   "source": []
  }
 ],
 "metadata": {
  "kernelspec": {
   "display_name": "Python 3 (ipykernel)",
   "language": "python",
   "name": "python3"
  },
  "language_info": {
   "codemirror_mode": {
    "name": "ipython",
    "version": 3
   },
   "file_extension": ".py",
   "mimetype": "text/x-python",
   "name": "python",
   "nbconvert_exporter": "python",
   "pygments_lexer": "ipython3",
   "version": "3.10.12"
  }
 },
 "nbformat": 4,
 "nbformat_minor": 4
}
