{
 "cells": [
  {
   "cell_type": "markdown",
   "metadata": {},
   "source": [
    "Download this document as a JupyterLab notebook [here](http://54.243.252.9/ce-3354-webroot/2-Exercises/ES-7/es7.ipynb)\n",
    "\n",
    "# <font color=darkblue>CE 3354 Engineering Hydrology <br> Fall 2022 Exercise Set 7</font>\n",
    "\n",
    "**LAST NAME, FIRST NAME**\n",
    "\n",
    "**R00000000**\n",
    "\n",
    "___\n",
    "\n",
    "### Purpose : \n",
    "Prepare design storms for Hardin Creek Project analysis.\n",
    "\n",
    "### Assessment Criteria : \n",
    "Completion, plausible solutions, use of Jupyter Notebook as a calculator/documentation method\n",
    "\n",
    "___\n",
    "\n",
    "\n",
    "## Exercise 1:\n",
    "Use NOAA Atlas 14 (Precipitation Frequency Data Server) to prepare Depth-Duration-Frequency curves for Eden, Texas (Concho County). The desired durations are 30-min, 1-hour, 2-hour, 3-hour, 6-hour, 12-hour, and 24-hour. The desired ARI are 2-yr, 10-yr, 50-yr, and 100-yr. You will produce a total of 4 curves.\n",
    "\n",
    "## Exercise 2:\n",
    "Use the results in Exercise 1 (above) to prepare Intensity-Duration-Frequency curves for Eden, Texas (Concho County). The desired durations are 30-min, 1-hour, 2-hour, 3-hour, 6-hour, 12-hour, and 24-hour. The desired ARI are 2-yr, 10-yr, 50-yr, and 100-yr. You will produce a total of 4 curves.\n",
    "\n",
    "## Exercise 3:\n",
    "Use NOAA Atlas 14 and the SCS Rainfall Distributions to prepare a 50-yr, 24- hour balanced-storm hyetograph for Eden, Texas.  Use the correct Type storm for Eden Texas.   Make a plot of the design storm with time on the horizontal axis (left-right) and cumulative depth on the vertical (up-down).\n",
    "\n",
    "## Exercise 4:\n",
    "Use the Texas Hyetograph Tool [TxHYETO-2015.xlsx](http://54.243.252.9/toolbox/hydrology/EBDLKUP-2015-DISTRIBUTE/) and NOAA Atlas 14 to prepare a 50-yr, 24-hour hyetograph for Eden, Texas.\n",
    "Make a plot of the design storm with time on the horizontal axis (left-right) and cumulative depth on the vertical (up-down).\n",
    "\n",
    "**Note 1** You will use these hyetographs in the Hardin Creek Project, so save your work. "
   ]
  },
  {
   "cell_type": "code",
   "execution_count": null,
   "metadata": {},
   "outputs": [],
   "source": []
  }
 ],
 "metadata": {
  "kernelspec": {
   "display_name": "Python 3",
   "language": "python",
   "name": "python3"
  },
  "language_info": {
   "codemirror_mode": {
    "name": "ipython",
    "version": 3
   },
   "file_extension": ".py",
   "mimetype": "text/x-python",
   "name": "python",
   "nbconvert_exporter": "python",
   "pygments_lexer": "ipython3",
   "version": "3.8.10"
  }
 },
 "nbformat": 4,
 "nbformat_minor": 4
}
