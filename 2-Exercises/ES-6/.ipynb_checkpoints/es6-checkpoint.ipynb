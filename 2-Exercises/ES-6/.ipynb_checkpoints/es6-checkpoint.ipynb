{
 "cells": [
  {
   "cell_type": "markdown",
   "metadata": {},
   "source": [
    "Download this document as a JupyterLab notebook [here](http://54.243.252.9/ce-3354-webroot/2-Exercises/ES-6/es6.ipynb)\n",
    "\n",
    "# <font color=darkblue>CE 3354 Engineering Hydrology <br> Fall 2022 Exercise Set 6</font>\n",
    "\n",
    "**LAST NAME, FIRST NAME**\n",
    "\n",
    "**R00000000**\n",
    "\n",
    "___\n",
    "\n",
    "### Purpose : \n",
    "Streamflow flood-frequency analysis.\n",
    "\n",
    "### Assessment Criteria : \n",
    "Completion, plausible solutions, use of Jupyter Notebook as a calculator/documentation method\n",
    "\n",
    "___\n",
    "\n",
    "\n",
    "## Exercise 1\n",
    "Figure 1 is a table of data representing gage height and annual peak discharge for some gaging station in Oklahoma. The stage is in feet and the discharge is in cubic feet per second. The data are sequential from 1923 through 1971 (1923 is the upper left-hand corner; 1971 is the lower right hand corner).\n",
    "Enter the data into a spreadsheet and analyze the data to product the following:\n",
    "1. A plot of year versus stage ( x-axis is year).\n",
    "2. A plot year versus discharge ( x-axis is year).\n",
    "3. A plot the discharge versus stage (x-axis is discharge).\n",
    "4. Using the Weibull plotting position formula, determine the distribution parameters that fit the data for a Gamma (Log-Pearson Type III) distribution.\n",
    "5. Plot the empirical observations (use BLUE markers - no lines) and the fitted distribution (RED curve - no markers) on the same graph.\n",
    "5. Estimate the discharge associated with a 25-percent chance exceedence probability (i.e. the value that is equal to or exceeded with a 1 in 4 chance).\n",
    "6. A resident claims that in the early 1900s a flood corresponding to a stage of 30 feet occurred at the gage location. Estimate the exceedence probability (return period) of the flow associated with this event.\n",
    "\n",
    "![Figure 1](BeargrassData.png)\n",
    "\n",
    "|Figure 1.  Some Oklahoma Data|\n",
    "|---|\n",
    "\n",
    "**Note 1** The data already put into a spreadsheet is located at [OklahomaData.xlsx](http://54.243.252.9/ce-3354-webroot/2-Exercises/ES-6/OklahomaData.xlsx)<br>\n",
    "**Note 2** The data in PeakFQ format is located at [OklahomaPeakFQFormat.txt](http://54.243.252.9/ce-3354-webroot/2-Exercises/ES-6/OklahomaPeakFQFormat.txt).  \n",
    "> This data has a fake StationID and Lat/Log - don't use map skew unless you supply some Oklahoma relevant location (station skew should be fine as it is computed from the data)"
   ]
  },
  {
   "cell_type": "code",
   "execution_count": null,
   "metadata": {},
   "outputs": [],
   "source": []
  }
 ],
 "metadata": {
  "kernelspec": {
   "display_name": "Python 3",
   "language": "python",
   "name": "python3"
  },
  "language_info": {
   "codemirror_mode": {
    "name": "ipython",
    "version": 3
   },
   "file_extension": ".py",
   "mimetype": "text/x-python",
   "name": "python",
   "nbconvert_exporter": "python",
   "pygments_lexer": "ipython3",
   "version": "3.8.10"
  }
 },
 "nbformat": 4,
 "nbformat_minor": 4
}
