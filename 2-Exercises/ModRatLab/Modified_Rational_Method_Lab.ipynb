{
 "cells": [
  {
   "cell_type": "markdown",
   "id": "2fa74386",
   "metadata": {},
   "source": [
    "# Hydrology Lab: Modified Rational Method – Discrete Convolution\n",
    "\n",
    "This lab explores the **Modified Rational Method** using **discrete convolution** to estimate runoff hydrographs. You will learn how to:\n",
    "\n",
    "- Generate rainfall hyetographs\n",
    "- Compute direct runoff using convolution\n",
    "- Plot hydrographs and interpret peak flow and runoff volume\n",
    "- Compare results under different storm types and watershed parameters\n",
    "\n",
    "**Date**: April 04, 2025\n",
    "\n",
    "---\n",
    "\n",
    "**Learning Objectives**:\n",
    "- Understand the physical meaning of the Rational Method and its convolution form\n",
    "- Interpret and manipulate SCS design storms\n",
    "- Analyze hydrograph results and estimate peak discharge and runoff volume\n"
   ]
  },
  {
   "cell_type": "code",
   "execution_count": null,
   "id": "85aa86ce",
   "metadata": {},
   "outputs": [],
   "source": [
    "import numpy as np\n",
    "import matplotlib.pyplot as plt\n",
    "from scipy.interpolate import interp1d"
   ]
  },
  {
   "cell_type": "code",
   "execution_count": null,
   "id": "c949308c",
   "metadata": {},
   "outputs": [],
   "source": [
    "# User Input Parameters\n",
    "PT = 6.96  # Total storm depth in inches\n",
    "area = 181  # Drainage area in acres\n",
    "C = 0.65  # Runoff coefficient\n",
    "Tc = 66.0  # Time of concentration in minutes\n",
    "hyetType = 'type2'  # Options: 'type1', 'type1A', 'type2', 'type3', 'user'\n"
   ]
  },
  {
   "cell_type": "code",
   "execution_count": null,
   "id": "8a7f25d9",
   "metadata": {},
   "outputs": [],
   "source": [
    "def get_hyetograph(hyetType, PT):\n",
    "    hour = [0,2,4,6,7,8,8.5,9,9.5,9.75,10,10.5,11,11.5,11.75,12,12.5,13.0,13.6,14,16,20,24,48]\n",
    "    minutes = [i*60 for i in hour]\n",
    "    hyets = {\n",
    "        'type1': [0,0.035,0.076,0.125,0.156,0.194,0.219,0.254,0.303,0.362,0.515,0.583,0.624,0.654,0.669,0.682,0.706,0.727,0.748,0.767,0.83,0.926,1,1],\n",
    "        'type1A': [0,0.05,0.116,0.206,0.268,0.425,0.48,0.52,0.55,0.564,0.577,0.601,0.624,0.645,0.655,0.664,0.683,0.701,0.719,0.736,0.8,0.906,1,1],\n",
    "        'type2': [0,0.022,0.048,0.08,0.098,0.12,0.133,0.147,0.163,0.172,0.181,0.204,0.235,0.283,0.357,0.663,0.735,0.772,0.799,0.82,0.88,0.952,1,1],\n",
    "        'type3': [0,0.02,0.043,0.072,0.089,0.115,0.13,0.148,0.167,0.178,0.189,0.216,0.25,0.298,0.339,0.5,0.702,0.751,0.785,0.811,0.886,0.957,1,1],\n",
    "        'user': [0,0,0.4285,0.8571,1.0,1.0,1.0,1.0]\n",
    "    }\n",
    "    if hyetType == 'user':\n",
    "        user_time = [0,7,8,9,9.3333,10,24,48]\n",
    "        minutes = [i*60 for i in user_time]\n",
    "        hyet = hyets['user']\n",
    "    else:\n",
    "        hyet = hyets.get(hyetType)\n",
    "    f = interp1d(minutes, hyet, kind='linear')\n",
    "    t24 = np.arange(0, 2881)\n",
    "    depth = PT * f(t24)\n",
    "    intensity = np.diff(np.insert(depth, 0, 0)) * 60\n",
    "    return t24, intensity, depth\n"
   ]
  },
  {
   "cell_type": "code",
   "execution_count": null,
   "id": "20434a4c",
   "metadata": {},
   "outputs": [],
   "source": [
    "def kernel(time, area, Tc):\n",
    "    return area/Tc if time <= Tc else 0.0\n",
    "\n",
    "def Convolve(excitation, kernel):\n",
    "    duration = len(excitation)\n",
    "    response = np.zeros(duration)\n",
    "    for i in range(duration):\n",
    "        for j in range(i, duration-1):\n",
    "            response[j] += excitation[i] * kernel[(j - i) + 1]\n",
    "    return response\n"
   ]
  },
  {
   "cell_type": "code",
   "execution_count": null,
   "id": "d3152549",
   "metadata": {},
   "outputs": [],
   "source": [
    "def ModRat(area, C, precipitation, time, Tc):\n",
    "    excess = C * np.array(precipitation)\n",
    "    unitgraph = np.array([kernel(t, area, Tc) for t in time])\n",
    "    unitgraph /= unitgraph.sum()\n",
    "    flow = Convolve(excess, unitgraph)\n",
    "    return area * flow\n"
   ]
  },
  {
   "cell_type": "code",
   "execution_count": null,
   "id": "97822c44",
   "metadata": {},
   "outputs": [],
   "source": [
    "t24, r24, d24 = get_hyetograph(hyetType, PT)\n",
    "result = ModRat(area, C, r24, t24, Tc)\n",
    "peakQ = max(result)\n",
    "totalQ = np.sum(result) * 60 / 43560\n",
    "totalR = C * d24[-1] * (1/12) * area\n",
    "massE = (totalR - totalQ) / totalR\n"
   ]
  },
  {
   "cell_type": "code",
   "execution_count": null,
   "id": "0c3de0a7",
   "metadata": {},
   "outputs": [],
   "source": [
    "def plot_hydrograph(t24, r24, result, PT, C, Tc, area, hyetType, peakQ, totalQ, totalR, massE):\n",
    "    labels = {'type1': 'SCS Type 1', 'type1A': 'SCS Type 1A', 'type2': 'SCS Type 2',\n",
    "              'type3': 'SCS Type 3', 'user': 'User Defined'}\n",
    "    desc = labels.get(hyetType, 'Unknown')\n",
    "    title = (\n",
    "        f\"Modified Rational Method – Hydrograph\\n\\n\"\n",
    "        f\"Hyetograph: {desc} | Area: {area:.1f} ac | Depth: {PT:.2f} in | C: {C:.2f} | Tc: {Tc:.1f} min\\n\"\n",
    "        f\"Peak Q: {peakQ:.1f} cfs | Q total: {totalQ:.2f} af | R total: {totalR:.2f} af | Error: {massE*100:.2f}%\"\n",
    "    )\n",
    "    fig, ax1 = plt.subplots(figsize=(10, 6))\n",
    "    ax1.step(t24, r24, color='blue', label='Rainfall Intensity (in/hr)')\n",
    "    ax1.set_ylabel('Rainfall Intensity (in/hr)', color='blue')\n",
    "    ax1.tick_params(axis='y', labelcolor='blue')\n",
    "    ax1.set_xlabel('Time (minutes)')\n",
    "    ax1.grid(True)\n",
    "\n",
    "    ax2 = ax1.twinx()\n",
    "    ax2.step(t24, result, color='red', label='Runoff Discharge (cfs)')\n",
    "    ax2.set_ylabel('Runoff Discharge (cfs)', color='red')\n",
    "    ax2.tick_params(axis='y', labelcolor='red')\n",
    "\n",
    "    fig.suptitle(title, fontsize=10, ha='left', x=0.01, wrap=True)\n",
    "    fig.tight_layout(rect=[0, 0, 1, 0.93])\n",
    "    plt.show()\n",
    "\n",
    "plot_hydrograph(t24, r24, result, PT, C, Tc, area, hyetType, peakQ, totalQ, totalR, massE)\n"
   ]
  },
  {
   "cell_type": "markdown",
   "id": "4bd86254",
   "metadata": {},
   "source": [
    "---\n",
    "\n",
    "### 🔍 Reflection and Questions\n",
    "\n",
    "1. **How does the time of concentration affect the peak discharge and the shape of the hydrograph?**\n",
    "\n",
    "2. **Compare two storm types using the same watershed parameters (change `hyetType`) and observe how peak flow changes.**\n",
    "\n",
    "3. **Explain the effect of runoff coefficient `C` on both the timing and magnitude of runoff.**\n",
    "\n",
    "4. **Suppose this watershed were partially developed, how would you modify this model to account for changes in impervious area?**\n"
   ]
  }
 ],
 "metadata": {
  "kernelspec": {
   "display_name": "Python Common Environment",
   "language": "python",
   "name": "python-my-env"
  },
  "language_info": {
   "codemirror_mode": {
    "name": "ipython",
    "version": 3
   },
   "file_extension": ".py",
   "mimetype": "text/x-python",
   "name": "python",
   "nbconvert_exporter": "python",
   "pygments_lexer": "ipython3",
   "version": "3.10.12"
  }
 },
 "nbformat": 4,
 "nbformat_minor": 5
}
