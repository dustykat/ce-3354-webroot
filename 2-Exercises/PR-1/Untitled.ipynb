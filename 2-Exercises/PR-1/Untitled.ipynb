{
 "cells": [
  {
   "cell_type": "markdown",
   "id": "c0b72c2f-fb7f-481a-811b-9ac8fe387f51",
   "metadata": {},
   "source": [
    "# Hydrology (Drainage) Report "
   ]
  },
  {
   "cell_type": "markdown",
   "id": "7afd5346-39ad-41eb-826b-88f906bcaccd",
   "metadata": {},
   "source": [
    "## Problem statement\n",
    "\n",
    "Describe the project \n",
    "\n",
    "Figure ... \n",
    "\n",
    "[Image of Completed Project Plan/Map]()\n",
    "\n"
   ]
  },
  {
   "cell_type": "markdown",
   "id": "f60e7a56-5452-4774-9f80-d9f328991aaa",
   "metadata": {},
   "source": [
    "## Drainage Analysis and Design\n",
    "\n",
    "Drainage analysis ... includes a comparison of surface water(runoff) characteristics from existing to proposed conditions where surface water exits the project boundary.  Surface water is analyzed for the X-yr, Y-yr, ... , 100-yr; X-hour rainfall event consistent with guidance in 30TAC ......\n",
    "\n",
    "The frequent events \n",
    "\n",
    "Figure ... \n",
    "\n",
    "[Image of Completed Project Plan/Map]()\n",
    "\n"
   ]
  },
  {
   "cell_type": "markdown",
   "id": "482a03fc-da82-477e-94be-bc3c53d68d81",
   "metadata": {},
   "source": []
  }
 ],
 "metadata": {
  "kernelspec": {
   "display_name": "Python Common Environment",
   "language": "python",
   "name": "python-my-env"
  },
  "language_info": {
   "codemirror_mode": {
    "name": "ipython",
    "version": 3
   },
   "file_extension": ".py",
   "mimetype": "text/x-python",
   "name": "python",
   "nbconvert_exporter": "python",
   "pygments_lexer": "ipython3",
   "version": "3.10.12"
  }
 },
 "nbformat": 4,
 "nbformat_minor": 5
}
