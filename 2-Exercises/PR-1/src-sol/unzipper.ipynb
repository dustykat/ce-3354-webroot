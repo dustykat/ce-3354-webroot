{
 "cells": [
  {
   "cell_type": "code",
   "execution_count": 1,
   "metadata": {},
   "outputs": [
    {
     "name": "stdout",
     "output_type": "stream",
     "text": [
      "Archive:  MyLiveModel.zip\n",
      "   creating: MyLiveModel/\n",
      "  inflating: MyLiveModel/Concho.basin  \n",
      "   creating: __MACOSX/\n",
      "   creating: __MACOSX/MyLiveModel/\n",
      "  inflating: __MACOSX/MyLiveModel/._Concho.basin  \n",
      "  inflating: MyLiveModel/Control_1.control  \n",
      "  inflating: __MACOSX/MyLiveModel/._Control_1.control  \n",
      "  inflating: MyLiveModel/HardinBranch.met  \n",
      "  inflating: __MACOSX/MyLiveModel/._HardinBranch.met  \n",
      " extracting: MyLiveModel/MyLiveModel.access  \n",
      "  inflating: __MACOSX/MyLiveModel/._MyLiveModel.access  \n",
      "  inflating: MyLiveModel/MyLiveModel.dss  \n",
      "  inflating: __MACOSX/MyLiveModel/._MyLiveModel.dss  \n",
      "  inflating: MyLiveModel/MyLiveModel.gage  \n",
      "  inflating: __MACOSX/MyLiveModel/._MyLiveModel.gage  \n",
      "  inflating: MyLiveModel/MyLiveModel.hms  \n",
      "  inflating: __MACOSX/MyLiveModel/._MyLiveModel.hms  \n",
      " extracting: MyLiveModel/MyLiveModel.log  \n",
      "  inflating: __MACOSX/MyLiveModel/._MyLiveModel.log  \n",
      "  inflating: MyLiveModel/MyLiveModel.out  \n",
      "  inflating: __MACOSX/MyLiveModel/._MyLiveModel.out  \n",
      "  inflating: MyLiveModel/MyLiveModel.pdata  \n",
      "  inflating: __MACOSX/MyLiveModel/._MyLiveModel.pdata  \n",
      "  inflating: MyLiveModel/MyLiveModel.run  \n",
      "  inflating: __MACOSX/MyLiveModel/._MyLiveModel.run  \n",
      "  inflating: MyLiveModel/Run_1.log   \n",
      "  inflating: __MACOSX/MyLiveModel/._Run_1.log  \n",
      "   creating: MyLiveModel/basinStates/\n",
      "  inflating: __MACOSX/MyLiveModel/._basinStates  \n",
      "   creating: MyLiveModel/forecast/\n",
      "  inflating: __MACOSX/MyLiveModel/._forecast  \n",
      "   creating: MyLiveModel/maps/\n",
      "  inflating: __MACOSX/MyLiveModel/._maps  \n",
      "   creating: MyLiveModel/optimizer/\n",
      "  inflating: __MACOSX/MyLiveModel/._optimizer  \n",
      "  inflating: __MACOSX/._MyLiveModel  \n"
     ]
    }
   ],
   "source": [
    "! unzip MyLiveModel.zip"
   ]
  },
  {
   "cell_type": "code",
   "execution_count": null,
   "metadata": {},
   "outputs": [],
   "source": []
  }
 ],
 "metadata": {
  "kernelspec": {
   "display_name": "Python 3 (ipykernel)",
   "language": "python",
   "name": "python3"
  },
  "language_info": {
   "codemirror_mode": {
    "name": "ipython",
    "version": 3
   },
   "file_extension": ".py",
   "mimetype": "text/x-python",
   "name": "python",
   "nbconvert_exporter": "python",
   "pygments_lexer": "ipython3",
   "version": "3.10.12"
  }
 },
 "nbformat": 4,
 "nbformat_minor": 4
}
