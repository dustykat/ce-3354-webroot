{
 "cells": [
  {
   "cell_type": "markdown",
   "metadata": {},
   "source": [
    "Download this document as a JupyterLab notebook [here](http://54.243.252.9/ce-3354-webroot/2-Exercises/ES-9/es9.ipynb)\n",
    "\n",
    "# <font color=darkblue>CE 3354 Engineering Hydrology <br> Fall 2022 Exercise Set 9</font>\n",
    "\n",
    "**LAST NAME, FIRST NAME**\n",
    "\n",
    "**R00000000**\n",
    "\n",
    "___\n",
    "\n",
    "### Purpose : \n",
    "Estimate timing ($T_C$) parameters for a Hardin Creek Project sub-watersheds.\n",
    "\n",
    "### Assessment Criteria : \n",
    "Completion, plausible solutions, use of Jupyter Notebook as a calculator/documentation method\n",
    "\n",
    "___\n",
    "\n",
    "\n",
    "## Exercise 1:\n",
    "Estimate the time of concentration using the [Kerby-Kirpich](http://54.243.252.9/ce-3354-webroot/5-Spreadsheets/KerbyKirpich-US.xls) for the Harden Creek watersheds (each sub-basin to reservoir riser pipe, and the portion downstream of the reservoirs directly to the study point of interest). \n",
    "\n",
    "## Exercise 2:\n",
    "Estimate the time of concentration using the [NRCS-Upland](http://54.243.252.9/ce-3354-webroot/5-Spreadsheets/NRCS-Upland.xls) for the Harden Creek watersheds (each sub-basin to reservoir riser pipe, and the portion downstream of the reservoirs directly to the study point of interest).\n",
    "\n",
    "## Exercise 3:\n",
    "Summarizr your findings in a table and save it for the project report.\n",
    "\n",
    "**Kerby-Kirpich Method Estimates**\n",
    "\n",
    "|Sub-Basin|Area (sq. mi.)|Time of Concentration (minutes)|\n",
    "|---|---:|---:|\n",
    "|North Basin|987|123|\n",
    "|West Basin|654|456|\n",
    "|Eden Basin|321|789|\n",
    "\n",
    "**NRCS Upland Method Estimates**\n",
    "\n",
    "|Sub-Basin|Area (sq. mi.)|Time of Concentration (minutes)|\n",
    "|---|---:|---:|\n",
    "|North Basin|987|123|\n",
    "|West Basin|654|456|\n",
    "|Eden Basin|321|789|"
   ]
  },
  {
   "cell_type": "code",
   "execution_count": null,
   "metadata": {},
   "outputs": [],
   "source": []
  }
 ],
 "metadata": {
  "kernelspec": {
   "display_name": "Python 3",
   "language": "python",
   "name": "python3"
  },
  "language_info": {
   "codemirror_mode": {
    "name": "ipython",
    "version": 3
   },
   "file_extension": ".py",
   "mimetype": "text/x-python",
   "name": "python",
   "nbconvert_exporter": "python",
   "pygments_lexer": "ipython3",
   "version": "3.8.10"
  }
 },
 "nbformat": 4,
 "nbformat_minor": 4
}
