{
 "cells": [
  {
   "cell_type": "markdown",
   "metadata": {},
   "source": [
    "Download this document as a JupyterLab notebook [here](http://54.243.252.9/ce-3354-webroot/2-Exercises/ES-4/es4.ipynb)\n",
    "\n",
    "# <font color=darkblue>CE 3354 Engineering Hydrology <br> Fall 2022 Exercise Set 4</font>\n",
    "\n",
    "**LAST NAME, FIRST NAME**\n",
    "\n",
    "**R00000000**\n",
    "\n",
    "___\n",
    "\n",
    "### Purpose : \n",
    "Topographic map interpretation; watershed delineation. \n",
    "\n",
    "### Assessment Criteria : \n",
    "Completion, plausible solutions, use of Jupyter Notebook as a calculator/documentation method\n",
    "\n",
    "___\n",
    "\n",
    "\n",
    "## Background Maps\n",
    "Figure 1 is an excerpt from the 11X17 map used in the watershed delineation workshop. The red circle is centered on the bridge west of Eden Texas. In ES-3 you delineated the watershed that drains to the bridge.  This watershed is the subject of the semester design project.\n",
    "\n",
    "![Figure 1](hardinbranch-RFS.png)\n",
    "\n",
    "|Figure 1.  Excerpt from 11X17 Handout|\n",
    "|---|\n",
    "\n",
    "## Exercise 1:\n",
    "Use your watershed delineation, and the Web Soil Survey to estimate the soil properties on the watershed. Prepare and report estimates of\n",
    "\n",
    "1. Soil textural description (use major proportions)\n",
    "2.  Permeability/infiltration capacity (assessment of how well or poorly drained the soils are)"
   ]
  },
  {
   "cell_type": "code",
   "execution_count": null,
   "metadata": {},
   "outputs": [],
   "source": []
  }
 ],
 "metadata": {
  "kernelspec": {
   "display_name": "Python 3",
   "language": "python",
   "name": "python3"
  },
  "language_info": {
   "codemirror_mode": {
    "name": "ipython",
    "version": 3
   },
   "file_extension": ".py",
   "mimetype": "text/x-python",
   "name": "python",
   "nbconvert_exporter": "python",
   "pygments_lexer": "ipython3",
   "version": "3.8.10"
  }
 },
 "nbformat": 4,
 "nbformat_minor": 4
}
