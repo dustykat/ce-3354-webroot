{
 "cells": [
  {
   "cell_type": "code",
   "execution_count": 16,
   "metadata": {},
   "outputs": [
    {
     "data": {
      "image/png": "[encoded data removed]",
      "text/plain": [
       "<Figure size 432x288 with 1 Axes>"
      ]
     },
     "metadata": {
      "needs_background": "light"
     },
     "output_type": "display_data"
    }
   ],
   "source": [
    "# Plot the ODE Solution\n",
    "import sys\n",
    "# the flow function\n",
    "def flow_for_constant_input(k,I,time):\n",
    "    import math,sys\n",
    "    try:\n",
    "        qoft = I*(1 - math.exp(-time/k))\n",
    "    except:\n",
    "        print(\"Failed function call, Check if I or k are 0\")\n",
    "        sys.exit() # force program exit \n",
    "    return(qoft)\n",
    "# Set values\n",
    "I = 2; k = 2; tau = 12\n",
    "# Compute series\n",
    "time_series = [float(i) for i in range(0,25)]\n",
    "flow_series = [float(0) for i in range(0,25)] # initial flow vector all zero\n",
    "rain_series = [float(I) for i in range(0,25)] # actual constant rain vector\n",
    "for i in range(0,25):\n",
    "    if time_series[i] - tau < 0:\n",
    "        flow_series[i]=flow_for_constant_input(k,I,time_series[i])\n",
    "    else:\n",
    "        flow_series[i]=flow_for_constant_input(k,I,time_series[i])-flow_for_constant_input(k,I,time_series[i]-tau)   \n",
    "# build and display plot\n",
    "from matplotlib import pyplot as plt\n",
    "plt.plot(time_series,flow_series,color ='red', marker ='.', linestyle ='solid')\n",
    "plt.plot(time_series,rain_series,color ='blue', marker ='.', linestyle ='solid')\n",
    "plt.title(\"Plot of I(t) and Q(t) for k=\" + str(repr(k)) + \", t=[0,12.0] \\n\")# add a title\n",
    "plt.ylabel(\"I(t) or Q(t)\")# add a label to the x and y-axes\n",
    "plt.xlabel(\"Time, t \")\n",
    "plt.legend([\"Q(t)\",\"I(t)\"])\n",
    "plt.show() # display the plot"
   ]
  },
  {
   "cell_type": "code",
   "execution_count": 17,
   "metadata": {},
   "outputs": [
    {
     "data": {
      "text/plain": [
       "[0.0,\n",
       " 0.7869386805747332,\n",
       " 1.2642411176571153,\n",
       " 1.5537396797031404,\n",
       " 1.7293294335267746,\n",
       " 1.8358300027522023,\n",
       " 1.900425863264272,\n",
       " 1.939605233155363,\n",
       " 1.9633687222225316,\n",
       " 1.9777820069235155,\n",
       " 1.986524106001829,\n",
       " 1.991826457123072,\n",
       " 1.9950424956466672,\n",
       " 1.2100544410393117,\n",
       " 0.7339351184117757,\n",
       " 0.445154151556564,\n",
       " 0.26999964121742037,\n",
       " 0.1637630605097764,\n",
       " 0.0993273171275546,\n",
       " 0.06024506318486167,\n",
       " 0.03654047791794346,\n",
       " 0.022162920177785095,\n",
       " 0.013442490596590417,\n",
       " 0.008153282689730812,\n",
       " 0.004945215928626068]"
      ]
     },
     "execution_count": 17,
     "metadata": {},
     "output_type": "execute_result"
    }
   ],
   "source": [
    "flow_series"
   ]
  },
  {
   "cell_type": "code",
   "execution_count": null,
   "metadata": {},
   "outputs": [],
   "source": []
  }
 ],
 "metadata": {
  "kernelspec": {
   "display_name": "Python 3",
   "language": "python",
   "name": "python3"
  },
  "language_info": {
   "codemirror_mode": {
    "name": "ipython",
    "version": 3
   },
   "file_extension": ".py",
   "mimetype": "text/x-python",
   "name": "python",
   "nbconvert_exporter": "python",
   "pygments_lexer": "ipython3",
   "version": "3.8.10"
  }
 },
 "nbformat": 4,
 "nbformat_minor": 4
}
