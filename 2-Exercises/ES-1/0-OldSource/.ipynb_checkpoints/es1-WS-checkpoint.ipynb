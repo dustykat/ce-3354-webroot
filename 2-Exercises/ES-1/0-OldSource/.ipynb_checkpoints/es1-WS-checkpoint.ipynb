{
 "cells": [
  {
   "cell_type": "markdown",
   "metadata": {},
   "source": [
    "Download this document as a JupyterLab notebook [here](http://54.243.252.9/ce-3354-webroot/2-Exercises/ES-1/es1.ipynb)\n",
    "\n",
    "# <font color=darkblue>CE 3354 Engineering Hydrology <br> Fall 2022 Exercise Set 1</font>\n",
    "\n",
    "**LAST NAME, FIRST NAME**\n",
    "\n",
    "**R00000000**\n",
    "\n",
    "___\n",
    "\n",
    "### Purpose : \n",
    "Use of internet resources to find definitions and relevant data; Application of water budget concepts to estimate residence times in hydrologic compartments.\n",
    "\n",
    "### Assessment Criteria : \n",
    "Completion, plausible solutions, use of Jupyter Notebook as a calculator/documentation method\n",
    "\n",
    "___"
   ]
  },
  {
   "cell_type": "markdown",
   "metadata": {},
   "source": [
    "## Exercise 1: \n",
    "Using the internet, textbook(s), and the \n",
    "[on-line reading collection](http://54.243.252.9/ce-3354-webroot/3-Readings/) \n",
    "define the following (in a sentance or two); please cite your references (URL is sufficient):\n",
    "\n",
    "1. Flow Duration Curve\n",
    "2. Flood Frequency Curve\n",
    "3. Stormwater Best Management Practice\n",
    "4. Catchment\n",
    "5. Watershed"
   ]
  },
  {
   "cell_type": "markdown",
   "metadata": {},
   "source": [
    "## Solution(s)\n",
    "1. **Flow Duration Curve** is a cumulative frequency curve that shows the percent of time specified discharges were equaled or exceeded during a given period. It combines in one curve the flow characteristics of a stream throughout the range of discharge, without regard to the sequence of occurrence. [https://pubs.er.usgs.gov/publication/wsp1542A](https://pubs.er.usgs.gov/publication/wsp1542A)<br>\n",
    "2. **Flood Frequency Curve** is used to relate flood discharge values to return periods to provide an estimate of the intensity of a flood event. The discharges are plotted against return periods using either a linear or a logarithmic scale. In order to provide an estimate of return period for a given discharge or vice versa, the observed data is fitted with a theoretical distribution using a cumulative density function (CDF). [https://serc.carleton.edu/hydromodules/steps/168500.html](https://serc.carleton.edu/hydromodules/steps/168500.html)<br>\n",
    "3. **Stormwater Best Management Practices** are devices, practices, or methods that are used to manage stormwater runoff by controlling peak runoff rate, improving water quality, and managing runoff volume. [https://spcwater.org/topics/stormwater-management/stormwater-best-management-practices-2/](https://spcwater.org/topics/stormwater-management/stormwater-best-management-practices-2/)<br>\n",
    "4. **What is a Catchment?**  A catchment is an area where water is collected by the natural landscape. [https://www.waternsw.com.au/water-quality/education/learn/catchment](https://www.waternsw.com.au/water-quality/education/learn/catchment)<br>\n",
    "5. **What is a watershed?**  It’s a land area that channels rainfall and snowmelt to creeks, streams, and rivers, and eventually to outflow points such as reservoirs, bays, and the ocean. [https://oceanservice.noaa.gov/facts/watershed.html](https://oceanservice.noaa.gov/facts/watershed.html)"
   ]
  },
  {
   "cell_type": "markdown",
   "metadata": {},
   "source": [
    "## Exercise 2: \n",
    "(*Problem 1.1.1 in Chow and others (1988)*)\n",
    "Assuming that all water in the oceans is involved in the hydrologic cycle, estimate the average residence time of ocean water.  "
   ]
  },
  {
   "cell_type": "markdown",
   "metadata": {},
   "source": [
    "![](es1-pr2-scan.png)"
   ]
  },
  {
   "cell_type": "markdown",
   "metadata": {},
   "source": [
    "## Exercise 3:\n",
    "(*Problem 1.1.2 in Chow and others (1988)*)\n",
    "Assuming that all surface runoff to the oceans comes from rivers, estimate the average residence time of water in rivers. "
   ]
  },
  {
   "cell_type": "markdown",
   "metadata": {},
   "source": [
    "![](es1-pr3-scan.png)"
   ]
  },
  {
   "cell_type": "code",
   "execution_count": null,
   "metadata": {},
   "outputs": [],
   "source": []
  }
 ],
 "metadata": {
  "kernelspec": {
   "display_name": "Python 3",
   "language": "python",
   "name": "python3"
  },
  "language_info": {
   "codemirror_mode": {
    "name": "ipython",
    "version": 3
   },
   "file_extension": ".py",
   "mimetype": "text/x-python",
   "name": "python",
   "nbconvert_exporter": "python",
   "pygments_lexer": "ipython3",
   "version": "3.8.10"
  }
 },
 "nbformat": 4,
 "nbformat_minor": 4
}
