{
 "cells": [
  {
   "cell_type": "markdown",
   "metadata": {},
   "source": [
    "Download this document as a JupyterLab notebook [here](http://54.243.252.9/ce-3354-webroot/2-Exercises/ES-2/es2.ipynb)\n",
    "\n",
    "# <font color=darkblue>CE 3354 Engineering Hydrology <br> Fall 2022 Exercise Set 2</font>\n",
    "\n",
    "**LAST NAME, FIRST NAME**\n",
    "\n",
    "**R00000000**\n",
    "\n",
    "___\n",
    "\n",
    "### Purpose : \n",
    "Application of water budget concepts and unit conversions to estimate hydrologic abstractions; \n",
    "\n",
    "### Assessment Criteria : \n",
    "Completion, plausible solutions, use of Jupyter Notebook as a calculator/documentation method\n",
    "\n",
    "___\n",
    "\n",
    "## Exercise 1: \n",
    "Figure 1 is a schematic of a 600-hectare farm that receives annual rainfall of 2500 mm.  \n",
    "\n",
    "<!--![Figure 1](https://3.137.111.182/ce-3354-webbook/lesson1/farmland.png)-->\n",
    "![Figure 1](farmland.png)\n",
    "\n",
    "|Figure 1.  Schematic of Farm for Water Balance|\n",
    "|---|\n",
    "\n",
    "There is a river flowing through  the  farm  land  with  inflow  rate  of  $5  \\frac{m^3}{s}$  and  outflow  rate  of  $4  \\frac{m^3}{s}$.   The annual water storage in the farm land increases by $ 2.5\\times10^6 m^3$.  Using the water budget concept, estimate the annual evaporation amount in millimeters."
   ]
  },
  {
   "cell_type": "markdown",
   "metadata": {},
   "source": [
    "![](es2-pr1-scan.png)"
   ]
  },
  {
   "cell_type": "markdown",
   "metadata": {},
   "source": [
    "## Exercise 2: \n",
    "\n",
    "A reservoir has a surface area of 690 acres.  Figure 2 shows the monthly inflow of surfacewater, outflows as releases from the reservoir via the spillway, direct precipitation intothe reservoir, and evaporation from the reservoir.  The reservoir water surface elevation was 701.0 feet on January 1.  \n",
    "\n",
    "<!--![Figure 2](https://3.137.111.182/ce-3354-webbook/lesson1/Reservoir.png)-->\n",
    "![Figure 2](Reservoir.png)\n",
    "\n",
    "|Figure 2.  Lake Woodlands Water Balance Table|\n",
    "|---|\n",
    "\n",
    "Determine the reservoir water surface elevation at the end of each month (i.e.  complete the table) "
   ]
  },
  {
   "cell_type": "markdown",
   "metadata": {},
   "source": [
    "![](es2-pr2-scan.png)\n",
    "\n",
    "The spreadsheet is available at: [WaterBalancePR2.xlsx](http://54.243.252.9/ce-3354-webroot/2-Exercises/ES-2/src-sol/WaterBalancePR2.xlsx)"
   ]
  },
  {
   "cell_type": "code",
   "execution_count": null,
   "metadata": {},
   "outputs": [],
   "source": []
  }
 ],
 "metadata": {
  "kernelspec": {
   "display_name": "Python 3",
   "language": "python",
   "name": "python3"
  },
  "language_info": {
   "codemirror_mode": {
    "name": "ipython",
    "version": 3
   },
   "file_extension": ".py",
   "mimetype": "text/x-python",
   "name": "python",
   "nbconvert_exporter": "python",
   "pygments_lexer": "ipython3",
   "version": "3.8.10"
  }
 },
 "nbformat": 4,
 "nbformat_minor": 4
}
