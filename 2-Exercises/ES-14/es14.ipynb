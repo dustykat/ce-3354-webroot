{
 "cells": [
  {
   "cell_type": "markdown",
   "metadata": {},
   "source": [
    "Download this document as a JupyterLab notebook [here](http://54.243.252.9/ce-3354-webroot/2-Exercises/ES-13/es13.ipynb)\n",
    "\n",
    "# <font color=darkblue>CE 3354 Engineering Hydrology <br> Fall 2022 Exercise Set 13</font>\n",
    "\n",
    "**LAST NAME, FIRST NAME**\n",
    "\n",
    "**R00000000**\n",
    "\n",
    "___\n",
    "\n",
    "### Purpose : \n",
    "Build Elevation-Discharge tables for Hardin Creek Study Area.\n",
    "\n",
    "### Assessment Criteria : \n",
    "Completion, plausible solutions, use of Jupyter Notebook as a calculator/documentation method\n",
    "\n",
    "___\n",
    "In ES-13 you constructed ELEVATION-AREA tables for the West, North reservoirs and the Eden Basin in the Hardin Creek study area.\n",
    "\n",
    "In this exercise set, you will now construct the ELEVATION-DISCHARGE tables for the same reservoirs.\n",
    "Read “Flow Measurements,” of a fluid mechanics (CE3305) textbook. Pay special attention to the portion on measuring flows using weirs. You should also look at CMM pg. 248 after reading this chapter. Read “Open Channel Flow,” of a fluid mechanics (CE3305) textbook. Pages 564-568 on culvert flows are most useful for this exercise.\n",
    "\n",
    "## Exercise 1:\n",
    "Construct an ELEVATION-DISCHARGE table for the North Reservoir. Use sketches to indicate which outlet elements are active at different pool elevations. Indicate which equations apply for different elevations and outlet elements. Include citations to equations selected. Include sample calculations (actual by-hand) as well as any spreadsheet calculations you employ.\n",
    "\n",
    "## Exercise 2:\n",
    "Construct an ELEVATION-DISCHARGE table for the West Reservoir. Use sketches to indicate which outlet elements are active at different pool elevations. Indicate which equations apply for different elevations and outlet elements. Include citations to equations selected. Include sample calculations (actual by-hand) as well as any spreadsheet calculations you employ.\n",
    "\n",
    "## Exercise 3:\n",
    "Construct an ELEVATION-DISCHARGE table for the US-84 crossing “reservoir”. Use sketches to indicate which outlet elements are active at different pool elevations. Indicate which equations apply for different elevations and outlet elements. Include citations to equations selected. Include sample calculations (actual by-hand) as well as any spreadsheet calculations you employ.\n"
   ]
  },
  {
   "cell_type": "code",
   "execution_count": null,
   "metadata": {},
   "outputs": [],
   "source": []
  }
 ],
 "metadata": {
  "kernelspec": {
   "display_name": "Python 3",
   "language": "python",
   "name": "python3"
  },
  "language_info": {
   "codemirror_mode": {
    "name": "ipython",
    "version": 3
   },
   "file_extension": ".py",
   "mimetype": "text/x-python",
   "name": "python",
   "nbconvert_exporter": "python",
   "pygments_lexer": "ipython3",
   "version": "3.8.10"
  }
 },
 "nbformat": 4,
 "nbformat_minor": 4
}
