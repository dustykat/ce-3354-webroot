{
 "cells": [
  {
   "cell_type": "markdown",
   "metadata": {},
   "source": [
    "Download this document as a JupyterLab notebook [here](http://54.243.252.9/ce-3354-webroot/2-Exercises/ES-3/es3.ipynb)\n",
    "\n",
    "# <font color=darkblue>CE 3354 Engineering Hydrology <br> Fall 2022 Exercise Set 3</font>\n",
    "\n",
    "**LAST NAME, FIRST NAME**\n",
    "\n",
    "**R00000000**\n",
    "\n",
    "___\n",
    "\n",
    "### Purpose : \n",
    "Application of watershed delineation principles; \n",
    "\n",
    "### Assessment Criteria : \n",
    "Completion, plausible solutions, use of Jupyter Notebook as a calculator/documentation method\n",
    "\n",
    "___\n",
    "\n",
    "\n",
    "## Background Maps\n",
    "Figure 1 is a map of Harden Branch Creek to be used for watershed delineation. The Assessment Point on the map, conicides with the red circle below on Figure 2, which is centered on the bridge west of Eden Texas.  This watershed is the subject of the semester design project.\n",
    "\n",
    "![Figure 1](Texas-Training-Watershed-RFS.png)\n",
    "\n",
    "|Figure 1.  Harden Branch Creek Watershed Area|\n",
    "|---|\n",
    "\n",
    "You can download the map as a JPG [here](http://54.243.252.9/ce-3354-webroot/2-Exercises/ES-3/Texas-Training-Watershed.jpg)\n",
    "\n",
    "![Figure 2](hardinbranch-RFS.png)\n",
    "\n",
    "|Figure 2.  Excerpt from Larger Map|\n",
    "|---|\n",
    "\n",
    "\n",
    "Figure 2 a larger scale map that contains the excerpt in Figure 1.\n",
    "\n",
    "## Exercise 1: \n",
    "1. Draw the boundary of the entire watershed area (delineate the watershed) that drains to the red circle in Figure 2 (Assessment Point in Figure 1).  Be sure to include the area of the two regulating structures (the earth berms/dams with riser pipe outlets).\n",
    "2. Determine the drainage area of the watershed in square miles.\n",
    "\n",
    "## Exercise 2: \n",
    "1. Draw the main channel in the watershed (you will have to use some hydrologic judgement).  In GIS the main channel is the path from the highest elevation onthe boundary to the outlet.\n",
    "2. Determine the length of the main channel in miles."
   ]
  },
  {
   "cell_type": "code",
   "execution_count": null,
   "metadata": {},
   "outputs": [],
   "source": []
  }
 ],
 "metadata": {
  "kernelspec": {
   "display_name": "Python 3",
   "language": "python",
   "name": "python3"
  },
  "language_info": {
   "codemirror_mode": {
    "name": "ipython",
    "version": 3
   },
   "file_extension": ".py",
   "mimetype": "text/x-python",
   "name": "python",
   "nbconvert_exporter": "python",
   "pygments_lexer": "ipython3",
   "version": "3.8.10"
  }
 },
 "nbformat": 4,
 "nbformat_minor": 4
}
