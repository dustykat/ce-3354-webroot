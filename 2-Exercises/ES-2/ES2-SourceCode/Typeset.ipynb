{
 "cells": [
  {
   "cell_type": "code",
   "execution_count": 11,
   "metadata": {},
   "outputs": [
    {
     "name": "stdout",
     "output_type": "stream",
     "text": [
      "This is pdfTeX, Version 3.14159265-2.6-1.40.20 (TeX Live 2019/Debian) (preloaded format=pdflatex)\n",
      " restricted \\write18 enabled.\n",
      "entering extended mode\n",
      "(./ce3354-es2-2024-3-ByGIS.tex\n",
      "LaTeX2e <2020-02-02> patch level 2\n",
      "L3 programming layer <2020-02-14>\n",
      "(/usr/share/texlive/texmf-dist/tex/latex/base/article.cls\n",
      "Document Class: article 2019/12/20 v1.4l Standard LaTeX document class\n",
      "(/usr/share/texlive/texmf-dist/tex/latex/base/size12.clo))\n",
      "(/usr/share/texlive/texmf-dist/tex/latex/geometry/geometry.sty\n",
      "(/usr/share/texlive/texmf-dist/tex/latex/graphics/keyval.sty)\n",
      "(/usr/share/texlive/texmf-dist/tex/generic/iftex/ifvtex.sty\n",
      "(/usr/share/texlive/texmf-dist/tex/generic/iftex/iftex.sty)))\n",
      "(/usr/share/texlive/texmf-dist/tex/latex/parskip/parskip.sty\n",
      "(/usr/share/texlive/texmf-dist/tex/latex/kvoptions/kvoptions.sty\n",
      "(/usr/share/texlive/texmf-dist/tex/generic/ltxcmds/ltxcmds.sty)\n",
      "(/usr/share/texlive/texmf-dist/tex/generic/kvsetkeys/kvsetkeys.sty))\n",
      "(/usr/share/texlive/texmf-dist/tex/latex/etoolbox/etoolbox.sty)) (./daves.sty\n",
      "Dave's standard definitions: Last modified Friday, July 7, 1995.\n",
      ".....dbt changed footnote indentation\n",
      ".....dbt changed labels to arabic\n",
      ".....dbt included milestone charts\n",
      ") (/usr/share/texlive/texmf-dist/tex/latex/fancyhdr/fancyhdr.sty)\n",
      "(/usr/share/texlive/texmf-dist/tex/latex/natbib/natbib.sty)\n",
      "(/usr/share/texlive/texmf-dist/tex/latex/graphics/graphicx.sty\n",
      "(/usr/share/texlive/texmf-dist/tex/latex/graphics/graphics.sty\n",
      "(/usr/share/texlive/texmf-dist/tex/latex/graphics/trig.sty)\n",
      "(/usr/share/texlive/texmf-dist/tex/latex/graphics-cfg/graphics.cfg)\n",
      "(/usr/share/texlive/texmf-dist/tex/latex/graphics-def/pdftex.def)))\n",
      "(/usr/share/texlive/texmf-dist/tex/latex/tools/dcolumn.sty\n",
      "(/usr/share/texlive/texmf-dist/tex/latex/tools/array.sty))\n",
      "(/usr/share/texlive/texmf-dist/tex/latex/amsmath/amsmath.sty\n",
      "For additional information on amsmath, use the `?' option.\n",
      "(/usr/share/texlive/texmf-dist/tex/latex/amsmath/amstext.sty\n",
      "(/usr/share/texlive/texmf-dist/tex/latex/amsmath/amsgen.sty))\n",
      "(/usr/share/texlive/texmf-dist/tex/latex/amsmath/amsbsy.sty)\n",
      "(/usr/share/texlive/texmf-dist/tex/latex/amsmath/amsopn.sty))\n",
      "(/usr/share/texlive/texmf-dist/tex/latex/lastpage/lastpage.sty)\n",
      "(/usr/share/texlive/texmf-dist/tex/latex/url/url.sty)\n",
      "(/usr/share/texlive/texmf-dist/tex/latex/amsfonts/amssymb.sty\n",
      "(/usr/share/texlive/texmf-dist/tex/latex/amsfonts/amsfonts.sty))\n",
      "(/usr/share/texlive/texmf-dist/tex/latex/epstopdf-pkg/epstopdf.sty\n",
      "(/usr/share/texlive/texmf-dist/tex/generic/infwarerr/infwarerr.sty)\n",
      "(/usr/share/texlive/texmf-dist/tex/latex/grfext/grfext.sty\n",
      "(/usr/share/texlive/texmf-dist/tex/generic/kvdefinekeys/kvdefinekeys.sty))\n",
      "(/usr/share/texlive/texmf-dist/tex/latex/pdftexcmds/pdftexcmds.sty)\n",
      "(/usr/share/texlive/texmf-dist/tex/latex/epstopdf-pkg/epstopdf-base.sty\n",
      "(/usr/share/texlive/texmf-dist/tex/latex/latexconfig/epstopdf-sys.cfg)))\n",
      "(/usr/share/texlive/texmf-dist/tex/latex/tools/longtable.sty)\n",
      "(/usr/share/texlive/texmf-dist/tex/latex/pdfpages/pdfpages.sty\n",
      "(/usr/share/texlive/texmf-dist/tex/latex/base/ifthen.sty)\n",
      "(/usr/share/texlive/texmf-dist/tex/latex/tools/calc.sty)\n",
      "(/usr/share/texlive/texmf-dist/tex/latex/eso-pic/eso-pic.sty\n",
      "(/usr/share/texlive/texmf-dist/tex/generic/atbegshi/atbegshi.sty)\n",
      "(/usr/share/texlive/texmf-dist/tex/latex/xcolor/xcolor.sty\n",
      "(/usr/share/texlive/texmf-dist/tex/latex/graphics-cfg/color.cfg)))\n",
      "(/usr/share/texlive/texmf-dist/tex/latex/pdfpages/pppdftex.def))\n",
      "(/usr/share/texlive/texmf-dist/tex/latex/l3backend/l3backend-pdfmode.def)\n",
      "(./ce3354-es2-2024-3-ByGIS.aux)\n",
      "*geometry* driver: auto-detecting\n",
      "*geometry* detected driver: pdftex\n",
      "(/usr/share/texlive/texmf-dist/tex/context/base/mkii/supp-pdf.mkii\n",
      "[Loading MPS to PDF converter (version 2006.09.02).]\n",
      ") (/usr/share/texlive/texmf-dist/tex/latex/pdflscape/pdflscape.sty\n",
      "(/usr/share/texlive/texmf-dist/tex/latex/graphics/lscape.sty))\n",
      "(/usr/share/texlive/texmf-dist/tex/latex/amsfonts/umsa.fd)\n",
      "(/usr/share/texlive/texmf-dist/tex/latex/amsfonts/umsb.fd)\n",
      "Overfull \\hbox (25.87984pt too wide) in paragraph at lines 36--37\n",
      "[]\\OT1/cmr/m/n/12 Following work-flow in $\\OT1/cmtt/m/n/12 http : / / 54 . 243 \n",
      ". 252 . 9 / ce-[]3354-[]webroot / ce-[]3354-[]webbook-[]2024 /\n",
      "\n",
      "Package Fancyhdr Warning: \\headheight is too small (12.0pt): \n",
      "Make it at least 14.49998pt.\n",
      "We now make it that large for the rest of the document.\n",
      "This may cause the page layout to be inconsistent, however.\n",
      "\n",
      "[1{/var/lib/texmf/fonts/map/pdftex/updmap/pdftex.map} <./HardinBranchGISAssessm\n",
      "entPoint.png>]\n",
      "Overfull \\hbox (25.87984pt too wide) in paragraph at lines 53--54\n",
      "[]\\OT1/cmr/m/n/12 Following work-flow in $\\OT1/cmtt/m/n/12 http : / / 54 . 243 \n",
      ". 252 . 9 / ce-[]3354-[]webroot / ce-[]3354-[]webbook-[]2024 /\n",
      "[2 <./HardinBranchGIS-WSbnd.png>] [3 <./HardinBranchAreaMeasure.png>] [4 <./Wes\n",
      "tReservoir.png> <./WestCoordinates.png>] [5 <./NorthReservoir.png> <./NorthCoor\n",
      "dinates.png>]\n",
      "Underfull \\hbox (badness 10000) in paragraph at lines 138--138\n",
      "[]|\\OT1/cmr/m/n/12 Latitude (Nor-thing\n",
      "\n",
      "Underfull \\hbox (badness 10000) in paragraph at lines 138--138\n",
      "[]|\\OT1/cmr/m/n/12 Longitude (East-ing\n",
      "\n",
      "Underfull \\hbox (badness 10000) in paragraph at lines 138--139\n",
      "[]|\\OT1/cmr/m/n/12 Elevation\n",
      "\n",
      "LaTeX Warning: `!h' float specifier changed to `!ht'.\n",
      "\n",
      "\n",
      "LaTeX Warning: `!h' float specifier changed to `!ht'.\n",
      "\n",
      "[6 <./HardinBranchSCSAnnotate.png>] [7 <./NorthBNDtoRISER.png> <./WestBNDtoRISE\n",
      "R.png>] \n",
      "AED: lastpage setting LastPage\n",
      "[8] (./ce3354-es2-2024-3-ByGIS.aux) )\n",
      "(see the transcript file for additional information)</usr/share/texlive/texmf-d\n",
      "ist/fonts/type1/public/amsfonts/cm/cmbx10.pfb></usr/share/texlive/texmf-dist/fo\n",
      "nts/type1/public/amsfonts/cm/cmbx12.pfb></usr/share/texlive/texmf-dist/fonts/ty\n",
      "pe1/public/amsfonts/cm/cmmi12.pfb></usr/share/texlive/texmf-dist/fonts/type1/pu\n",
      "blic/amsfonts/cm/cmr10.pfb></usr/share/texlive/texmf-dist/fonts/type1/public/am\n",
      "sfonts/cm/cmr12.pfb></usr/share/texlive/texmf-dist/fonts/type1/public/amsfonts/\n",
      "cm/cmr7.pfb></usr/share/texlive/texmf-dist/fonts/type1/public/amsfonts/cm/cmr8.\n",
      "pfb></usr/share/texlive/texmf-dist/fonts/type1/public/amsfonts/cm/cmtt12.pfb>\n",
      "Output written on ce3354-es2-2024-3-ByGIS.pdf (8 pages, 6829302 bytes).\n",
      "Transcript written on ce3354-es2-2024-3-ByGIS.log.\n"
     ]
    }
   ],
   "source": [
    "! pdflatex ce3354-es2-2024-3-ByGIS.tex"
   ]
  },
  {
   "cell_type": "code",
   "execution_count": 1,
   "metadata": {},
   "outputs": [
    {
     "name": "stdout",
     "output_type": "stream",
     "text": [
      "/home/sensei/ce-3354-webroot/2-Exercises/ES-1/ES1-SourceCode\n"
     ]
    }
   ],
   "source": [
    "! pwd"
   ]
  },
  {
   "cell_type": "code",
   "execution_count": null,
   "metadata": {},
   "outputs": [],
   "source": []
  }
 ],
 "metadata": {
  "kernelspec": {
   "display_name": "Python 3",
   "language": "python",
   "name": "python3"
  },
  "language_info": {
   "codemirror_mode": {
    "name": "ipython",
    "version": 3
   },
   "file_extension": ".py",
   "mimetype": "text/x-python",
   "name": "python",
   "nbconvert_exporter": "python",
   "pygments_lexer": "ipython3",
   "version": "3.8.10"
  }
 },
 "nbformat": 4,
 "nbformat_minor": 4
}
