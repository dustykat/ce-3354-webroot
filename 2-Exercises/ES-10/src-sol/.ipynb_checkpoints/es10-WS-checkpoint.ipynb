{
 "cells": [
  {
   "cell_type": "markdown",
   "metadata": {},
   "source": [
    "Download this document as a JupyterLab notebook [here](http://54.243.252.9/ce-3354-webroot/2-Exercises/ES-10/es10.ipynb)\n",
    "\n",
    "# <font color=darkblue>CE 3354 Engineering Hydrology <br> Fall 2022 Exercise Set 10</font>\n",
    "\n",
    "**LAST NAME, FIRST NAME**\n",
    "\n",
    "**R00000000**\n",
    "\n",
    "___\n",
    "\n",
    "### Purpose : \n",
    "Estimate Evapotranspiration Rates for a Hardin Creek Project.\n",
    "\n",
    "### Assessment Criteria : \n",
    "Completion, plausible solutions, use of Jupyter Notebook as a calculator/documentation method\n",
    "\n",
    "___\n",
    "\n",
    "\n",
    "## Exercise 1:\n",
    "Estimate the monthly evapotranspiration depths for the San Angelo (Concho County) area using the [Blaney-Criddle](http://54.243.252.9/ce-3354-webroot/5-Spreadsheets/BlaneyCriddle.xlsx) method.\n",
    "\n",
    "**Solution:**\n",
    "\n",
    "1. Google searches for temperature and location on the Earth.\n",
    "\n",
    "![](http://54.243.252.9/ce-3354-webroot/2-Exercises/ES-10/src-sol/sanangeloTemp.png)\n",
    "\n",
    "![](http://54.243.252.9/ce-3354-webroot/2-Exercises/ES-10/src-sol/sanangeloLatLon.png)\n",
    "\n",
    "2. The Monthly temperature is supplied to the Blaney-Criddle Formula. They need to be converted into Celsius. The Latitude is also supplied to the Blaney-Criddle Formula. We need to tell the formula we are North of the equator.  Easiest to use the supplied spreadsheet:\n",
    "\n",
    "![](http://54.243.252.9/ce-3354-webroot/2-Exercises/ES-10/src-sol/BlaneySS.png)\n",
    "\n",
    "3. The results indicate a high value of about 1/4 inch/day during the summer months, and about 1/10 inch per day in the winter months."
   ]
  },
  {
   "cell_type": "markdown",
   "metadata": {},
   "source": [
    "## Exercise 2:\n",
    "Estimate the monthly evapotranspiration depths for the San Angelo (Concho County) area using the [Thornwaithe](http://54.243.252.9/ce-3354-webroot/5-Spreadsheets/Thornwaithe.xls) method.\n",
    "\n",
    "**Solution:**\n",
    "\n",
    "1. The Thornwaite method uses the same data from the previous problem.  Again using the supplied spreadshheet:\n",
    "\n",
    "![](http://54.243.252.9/ce-3354-webroot/2-Exercises/ES-10/src-sol/ThornSS.png)\n",
    "\n",
    "2. The results indicate a daily rate of about 1/4 inch/day per day in the summer months and about 0.01 inches per day in the winter months.\n"
   ]
  },
  {
   "cell_type": "markdown",
   "metadata": {},
   "source": [
    "## Exercise 3:\n",
    "Comment on the importance of these estimates in the drainage analysis project for a storm lasting 24-48 hours?\n",
    "\n",
    "**Solution:**\n",
    "Probably not terribly important for rainfall rates in excess of 1 inches per hour, as are determined for the various design storms of interest.  The time scale of the drainage analysis project is too short to be concerned with evaporation."
   ]
  },
  {
   "cell_type": "markdown",
   "metadata": {},
   "source": []
  },
  {
   "cell_type": "markdown",
   "metadata": {},
   "source": []
  },
  {
   "cell_type": "code",
   "execution_count": null,
   "metadata": {},
   "outputs": [],
   "source": []
  }
 ],
 "metadata": {
  "kernelspec": {
   "display_name": "Python 3",
   "language": "python",
   "name": "python3"
  },
  "language_info": {
   "codemirror_mode": {
    "name": "ipython",
    "version": 3
   },
   "file_extension": ".py",
   "mimetype": "text/x-python",
   "name": "python",
   "nbconvert_exporter": "python",
   "pygments_lexer": "ipython3",
   "version": "3.8.10"
  }
 },
 "nbformat": 4,
 "nbformat_minor": 4
}
