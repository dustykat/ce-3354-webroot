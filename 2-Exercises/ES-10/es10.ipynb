{
 "cells": [
  {
   "cell_type": "markdown",
   "metadata": {},
   "source": [
    "Download this document as a JupyterLab notebook [here](http://54.243.252.9/ce-3354-webroot/2-Exercises/ES-10/es10.ipynb)\n",
    "\n",
    "# <font color=darkblue>CE 3354 Engineering Hydrology <br> Fall 2022 Exercise Set 10</font>\n",
    "\n",
    "**LAST NAME, FIRST NAME**\n",
    "\n",
    "**R00000000**\n",
    "\n",
    "___\n",
    "\n",
    "### Purpose : \n",
    "Estimate Evapotranspiration Rates for a Hardin Creek Project.\n",
    "\n",
    "### Assessment Criteria : \n",
    "Completion, plausible solutions, use of Jupyter Notebook as a calculator/documentation method\n",
    "\n",
    "___\n",
    "\n",
    "\n",
    "## Exercise 1:\n",
    "Estimate the monthly evapotranspiration depths for the San Angelo (Concho County) area using the [Blaney-Criddle](http://54.243.252.9/ce-3354-webroot/5-Spreadsheets/BlaneyCriddle.xlsx) method.\n",
    "\n",
    "## Exercise 2:\n",
    "Estimate the monthly evapotranspiration depths for the San Angelo (Concho County) area using the [Thornwaithe](http://54.243.252.9/ce-3354-webroot/5-Spreadsheets/Thornwaithe.xls) method.\n",
    "\n",
    "## Exercise 3:\n",
    "Comment on the importance of these estimates in the drainage analysis project for a storm lasting 24-48 hours?"
   ]
  },
  {
   "cell_type": "code",
   "execution_count": null,
   "metadata": {},
   "outputs": [],
   "source": []
  }
 ],
 "metadata": {
  "kernelspec": {
   "display_name": "Python 3",
   "language": "python",
   "name": "python3"
  },
  "language_info": {
   "codemirror_mode": {
    "name": "ipython",
    "version": 3
   },
   "file_extension": ".py",
   "mimetype": "text/x-python",
   "name": "python",
   "nbconvert_exporter": "python",
   "pygments_lexer": "ipython3",
   "version": "3.8.10"
  }
 },
 "nbformat": 4,
 "nbformat_minor": 4
}
