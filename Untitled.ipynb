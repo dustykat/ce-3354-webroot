{
 "cells": [
  {
   "cell_type": "code",
   "execution_count": 1,
   "metadata": {},
   "outputs": [
    {
     "name": "stdout",
     "output_type": "stream",
     "text": [
      "/home/sensei/ce-3354-webroot\n"
     ]
    }
   ],
   "source": [
    "! pwd"
   ]
  },
  {
   "cell_type": "code",
   "execution_count": 3,
   "metadata": {},
   "outputs": [
    {
     "name": "stdout",
     "output_type": "stream",
     "text": [
      "\n",
      "\u001b[92m===============================================================================\u001b[0m\n",
      "\n",
      "Your book template can be found at\n",
      "\n",
      "    ce3354book/\n",
      "\n",
      "\u001b[92m===============================================================================\u001b[0m\n",
      "\n"
     ]
    }
   ],
   "source": [
    "#! jupyter-book create ce3354book/"
   ]
  },
  {
   "cell_type": "code",
   "execution_count": 17,
   "metadata": {},
   "outputs": [
    {
     "name": "stdout",
     "output_type": "stream",
     "text": [
      "\u001b[32m\u001b[1mRunning Jupyter-Book v0.12.0\u001b[0m\n",
      "\u001b[34m\u001b[1mSource Folder: \u001b[0m/home/sensei/ce-3354-webroot/ce3354book\n",
      "\u001b[34m\u001b[1mConfig Path: \u001b[0m/home/sensei/ce-3354-webroot/ce3354book/_config.yml\n",
      "\u001b[34m\u001b[1mOutput Path: \u001b[0m/home/sensei/ce-3354-webroot/ce3354book/_build/html\n",
      "\u001b[01mRunning Sphinx v3.5.2\u001b[39;49;00m\n",
      "[etoc] Changing master_doc to 'intro'\n",
      "\u001b[01mloading pickled environment... \u001b[39;49;00mchecking for /home/sensei/ce-3354-webroot/ce3354book/references.bib in bibtex cache... up to date\n",
      "done\n",
      "\u001b[01mmyst v0.15.2:\u001b[39;49;00m MdParserConfig(renderer='sphinx', commonmark_only=False, enable_extensions=['colon_fence', 'dollarmath', 'linkify', 'substitution', 'tasklist'], dmath_allow_labels=True, dmath_allow_space=True, dmath_allow_digits=True, dmath_double_inline=False, update_mathjax=True, mathjax_classes='tex2jax_process|mathjax_process|math|output_area', disable_syntax=[], url_schemes=['mailto', 'http', 'https'], heading_anchors=None, heading_slug_func=None, html_meta=[], footnote_transition=True, substitutions=[], sub_delimiters=['{', '}'], words_per_minute=200)\n",
      "\u001b[01mbuilding [mo]: \u001b[39;49;00mtargets for 0 po files that are out of date\n",
      "\u001b[01mbuilding [html]: \u001b[39;49;00mtargets for 1 source files that are out of date\n",
      "\u001b[01mupdating environment: \u001b[39;49;00m12 added, 14 changed, 0 removed\n",
      "Executing: lessons/lesson02/lesson02 in: /home/sensei/ce-3354-webroot/ce3354book/lessons/lesson02               \n",
      "Executing: lessons/lesson04/lesson04 in: /home/sensei/ce-3354-webroot/ce3354book/lessons/lesson04               \n",
      "Executing: lessons/lesson05/lesson05 in: /home/sensei/ce-3354-webroot/ce3354book/lessons/lesson05               \n",
      "Executing: lessons/lesson06/lesson06 in: /home/sensei/ce-3354-webroot/ce3354book/lessons/lesson06               \n",
      "Executing: lessons/lesson07/lesson07 in: /home/sensei/ce-3354-webroot/ce3354book/lessons/lesson07               \n",
      "Executing: lessons/lesson08/lesson08 in: /home/sensei/ce-3354-webroot/ce3354book/lessons/lesson08               \n",
      "Executing: lessons/lesson09/lesson09 in: /home/sensei/ce-3354-webroot/ce3354book/lessons/lesson09               \n",
      "Executing: lessons/lesson10/lesson10 in: /home/sensei/ce-3354-webroot/ce3354book/lessons/lesson10               \n",
      "Executing: lessons/lesson11/lesson11 in: /home/sensei/ce-3354-webroot/ce3354book/lessons/lesson11               \n",
      "Executing: lessons/lesson12/lesson12 in: /home/sensei/ce-3354-webroot/ce3354book/lessons/lesson12               \n",
      "Executing: lessons/lesson13/lesson13 in: /home/sensei/ce-3354-webroot/ce3354book/lessons/lesson13               \n",
      "Executing: lessons/lesson14/lesson14 in: /home/sensei/ce-3354-webroot/ce3354book/lessons/lesson14               \n",
      "Executing: lessons/lesson15/lesson15 in: /home/sensei/ce-3354-webroot/ce3354book/lessons/lesson15               \n",
      "\n",
      "\u001b[91m/home/sensei/ce-3354-webroot/ce3354book/lessons/lesson08/lesson08.ipynb:10004: WARNING: Non-consecutive header level increase; 1 to 3 [myst.header]\u001b[39;49;00m\n",
      "\u001b[01mlooking for now-outdated files... \u001b[39;49;00mnone found\n",
      "\u001b[01mpickling environment... \u001b[39;49;00mdone\n",
      "\u001b[01mchecking consistency... \u001b[39;49;00m\u001b[91m/home/sensei/ce-3354-webroot/ce3354book/markdown.md: WARNING: document isn't included in any toctree\u001b[39;49;00m\n",
      "\u001b[91m/home/sensei/ce-3354-webroot/ce3354book/notebooks.ipynb: WARNING: document isn't included in any toctree\u001b[39;49;00m\n",
      "done\n",
      "\u001b[01mpreparing documents... \u001b[39;49;00mdone\n",
      "\u001b[01mwriting output... \u001b[39;49;00m[100%] \u001b[32mlessons/lesson15/lesson15\u001b[39;49;00m                              \n",
      "\u001b[01mgenerating indices... \u001b[39;49;00mgenindex done\n",
      "\u001b[01mwriting additional pages... \u001b[39;49;00msearch done\n",
      "\u001b[01mcopying images... \u001b[39;49;00m[100%] \u001b[33mlessons/lesson02/river-reaches.png\u001b[39;49;00m                     \n",
      "\u001b[01mcopying static files... \u001b[39;49;00mdone\n",
      "\u001b[01mcopying extra files... \u001b[39;49;00mdone\n",
      "\u001b[01mdumping search index in English (code: en)... \u001b[39;49;00mdone\n",
      "\u001b[01mdumping object inventory... \u001b[39;49;00mdone\n",
      "\u001b[01mbuild succeeded, 3 warnings.\u001b[39;49;00m\n",
      "\n",
      "The HTML pages are in ce3354book/_build/html.\n",
      "\n",
      "\u001b[92m===============================================================================\u001b[0m\n",
      "\n",
      "Finished generating HTML for book.\n",
      "Your book's HTML pages are here:\n",
      "    ce3354book/_build/html/\n",
      "You can look at your book by opening this file in a browser:\n",
      "    ce3354book/_build/html/index.html\n",
      "Or paste this line directly into your browser bar:\n",
      "    file:///home/sensei/ce-3354-webroot/ce3354book/_build/html/index.html            \n",
      "\n",
      "\u001b[92m===============================================================================\u001b[0m\n",
      "\n"
     ]
    }
   ],
   "source": [
    "! jupyter-book build ce3354book/"
   ]
  },
  {
   "cell_type": "code",
   "execution_count": null,
   "metadata": {},
   "outputs": [],
   "source": []
  }
 ],
 "metadata": {
  "kernelspec": {
   "display_name": "Python 3",
   "language": "python",
   "name": "python3"
  },
  "language_info": {
   "codemirror_mode": {
    "name": "ipython",
    "version": 3
   },
   "file_extension": ".py",
   "mimetype": "text/x-python",
   "name": "python",
   "nbconvert_exporter": "python",
   "pygments_lexer": "ipython3",
   "version": "3.8.10"
  }
 },
 "nbformat": 4,
 "nbformat_minor": 4
}
