{
 "cells": [
  {
   "cell_type": "code",
   "execution_count": 1,
   "metadata": {},
   "outputs": [
    {
     "name": "stdout",
     "output_type": "stream",
     "text": [
      "/home/webroot/ce-3354-webroot\n"
     ]
    }
   ],
   "source": [
    "! pwd"
   ]
  },
  {
   "cell_type": "code",
   "execution_count": 7,
   "metadata": {},
   "outputs": [
    {
     "name": "stdout",
     "output_type": "stream",
     "text": [
      "\n",
      "\u001b[92m===============================================================================\u001b[0m\n",
      "\n",
      "Your _build directory has been emptied except for .jupyter_cache\n",
      "\n",
      "\u001b[92m===============================================================================\u001b[0m\n",
      "\n"
     ]
    }
   ],
   "source": [
    "! jupyter-book clean ce3354book/"
   ]
  },
  {
   "cell_type": "code",
   "execution_count": 2,
   "metadata": {},
   "outputs": [
    {
     "name": "stdout",
     "output_type": "stream",
     "text": [
      "\u001b[32m\u001b[1mRunning Jupyter-Book v1.0.2\u001b[0m\n",
      "\u001b[34m\u001b[1mSource Folder: \u001b[0m/home/webroot/ce-3354-webroot/ce3354book\n",
      "\u001b[34m\u001b[1mConfig Path: \u001b[0m/home/webroot/ce-3354-webroot/ce3354book/_config.yml\n",
      "\u001b[34m\u001b[1mOutput Path: \u001b[0m/home/webroot/ce-3354-webroot/ce3354book/_build/html\n",
      "\u001b[01mRunning Sphinx v7.4.7\u001b[39;49;00m\n",
      "\u001b[01mloading translations [en]... \u001b[39;49;00mdone\n",
      "[etoc] Changing master_doc to 'intro'\n",
      "\u001b[01mloading pickled environment... \u001b[39;49;00mfailed: state is not a dictionary\n",
      "checking bibtex cache... out of date\n",
      "parsing bibtex file /home/webroot/ce-3354-webroot/ce3354book/references.bib... parsed 5 entries\n",
      "done\n",
      "\u001b[01mmyst v2.0.0:\u001b[39;49;00m MdParserConfig(commonmark_only=False, gfm_only=False, enable_extensions={'colon_fence', 'linkify', 'dollarmath', 'substitution', 'tasklist'}, disable_syntax=[], all_links_external=False, url_schemes=('mailto', 'http', 'https'), ref_domains=None, fence_as_directive=set(), number_code_blocks=[], title_to_header=False, heading_anchors=0, heading_slug_func=None, html_meta={}, footnote_transition=True, words_per_minute=200, substitutions={}, linkify_fuzzy_links=True, dmath_allow_labels=True, dmath_allow_space=True, dmath_allow_digits=True, dmath_double_inline=False, update_mathjax=True, mathjax_classes='tex2jax_process|mathjax_process|math|output_area', enable_checkboxes=False, suppress_warnings=[], highlight_code_blocks=True)\n",
      "\u001b[01mmyst-nb v1.1.1:\u001b[39;49;00m NbParserConfig(custom_formats={}, metadata_key='mystnb', cell_metadata_key='mystnb', kernel_rgx_aliases={}, eval_name_regex='^[a-zA-Z_][a-zA-Z0-9_]*$', execution_mode='force', execution_cache_path='', execution_excludepatterns=[], execution_timeout=30, execution_in_temp=False, execution_allow_errors=False, execution_raise_on_error=False, execution_show_tb=False, merge_streams=False, render_plugin='default', remove_code_source=False, remove_code_outputs=False, code_prompt_show='Show code cell {type}', code_prompt_hide='Hide code cell {type}', number_source_lines=False, output_stderr='show', render_text_lexer='myst-ansi', render_error_lexer='ipythontb', render_image_options={}, render_figure_options={}, render_markdown_format='commonmark', output_folder='build', append_css=True, metadata_to_fm=False)\n",
      "Using jupyter-cache at: /home/webroot/ce-3354-webroot/ce3354book/_build/.jupyter_cache\n",
      "\u001b[01msphinx-multitoc-numbering v0.1.3:\u001b[39;49;00m Loaded\n",
      "\u001b[01mbuilding [mo]: \u001b[39;49;00mtargets for 0 po files that are out of date\n",
      "\u001b[01mwriting output... \u001b[39;49;00m\n",
      "\u001b[01mbuilding [html]: \u001b[39;49;00mtargets for 30 source files that are out of date\n",
      "\u001b[01mupdating environment: \u001b[39;49;00m[new config] 30 added, 0 changed, 0 removed\n",
      "/home/webroot/ce-3354-webroot/ce3354book/lessons/groundwater/groundwater1.ipynb: Executing notebook using local CWD [mystnb]\n",
      "/home/webroot/ce-3354-webroot/ce3354book/lessons/groundwater/groundwater1.ipynb: Executed notebook in 1.02 seconds [mystnb]\n",
      "/home/webroot/ce-3354-webroot/ce3354book/lessons/groundwater/groundwater2.ipynb: Executing notebook using local CWD [mystnb]\n",
      "/home/webroot/ce-3354-webroot/ce3354book/lessons/groundwater/groundwater2.ipynb: Executed notebook in 1.07 seconds [mystnb]\n",
      "/home/webroot/ce-3354-webroot/ce3354book/lessons/groundwater/groundwater3.ipynb: Executing notebook using local CWD [mystnb]\n",
      "/home/webroot/ce-3354-webroot/ce3354book/lessons/groundwater/groundwater3.ipynb: Executed notebook in 4.03 seconds [mystnb]\n",
      "/home/webroot/ce-3354-webroot/ce3354book/lessons/groundwater/groundwater4.ipynb: Executing notebook using local CWD [mystnb]\n",
      "/home/webroot/ce-3354-webroot/ce3354book/lessons/groundwater/groundwater4.ipynb: Executed notebook in 1.42 seconds [mystnb]\n",
      "/home/webroot/ce-3354-webroot/ce3354book/lessons/groundwater/groundwater5.ipynb: Executing notebook using local CWD [mystnb]\n",
      "/home/webroot/ce-3354-webroot/ce3354book/lessons/groundwater/groundwater5.ipynb: Executed notebook in 1.03 seconds [mystnb]\n",
      "/home/webroot/ce-3354-webroot/ce3354book/lessons/lesson01/lesson01.ipynb: Executing notebook using local CWD [mystnb]\n",
      "/home/webroot/ce-3354-webroot/ce3354book/lessons/lesson01/lesson01.ipynb: Executed notebook in 0.98 seconds [mystnb]\n",
      "/home/webroot/ce-3354-webroot/ce3354book/lessons/lesson02/lesson02.ipynb: Executing notebook using local CWD [mystnb]\n",
      "/home/webroot/ce-3354-webroot/ce3354book/lessons/lesson02/lesson02.ipynb: Executed notebook in 4.02 seconds [mystnb]\n",
      "/home/webroot/ce-3354-webroot/ce3354book/lessons/lesson03/lesson03.ipynb: Executing notebook using local CWD [mystnb]\n",
      "/home/webroot/ce-3354-webroot/ce3354book/lessons/lesson03/lesson03.ipynb: Executed notebook in 0.95 seconds [mystnb]\n",
      "/home/webroot/ce-3354-webroot/ce3354book/lessons/lesson04/designstorms.ipynb: Executing notebook using local CWD [mystnb]\n",
      "/home/webroot/ce-3354-webroot/ce3354book/lessons/lesson04/designstorms.ipynb: Executed notebook in 2.14 seconds [mystnb]\n",
      "/home/webroot/ce-3354-webroot/ce3354book/lessons/lesson04/lesson04.ipynb: Executing notebook using local CWD [mystnb]\n",
      "/home/webroot/ce-3354-webroot/ce3354book/lessons/lesson04/lesson04.ipynb: Executed notebook in 0.95 seconds [mystnb]\n",
      "/home/webroot/ce-3354-webroot/ce3354book/lessons/lesson04/precipitation.ipynb: Executing notebook using local CWD [mystnb]\n",
      "/home/webroot/ce-3354-webroot/ce3354book/lessons/lesson04/precipitation.ipynb: Executed notebook in 0.96 seconds [mystnb]\n",
      "/home/webroot/ce-3354-webroot/ce3354book/lessons/lesson05/lesson05.ipynb: Executing notebook using local CWD [mystnb]\n",
      "/home/webroot/ce-3354-webroot/ce3354book/lessons/lesson05/lesson05.ipynb: Executed notebook in 6.02 seconds [mystnb]\n",
      "/home/webroot/ce-3354-webroot/ce3354book/lessons/lesson05/lesson05-.ipynb: Executing notebook using local CWD [mystnb]\n",
      "/home/webroot/ce-3354-webroot/ce3354book/lessons/lesson05/lesson05-.ipynb: Executed notebook in 7.03 seconds [mystnb]\n",
      "/home/webroot/ce-3354-webroot/ce3354book/lessons/lesson06.1/HMSintro.ipynb: Executing notebook using local CWD [mystnb]\n",
      "/home/webroot/ce-3354-webroot/ce3354book/lessons/lesson06.1/HMSintro.ipynb: Executed notebook in 0.96 seconds [mystnb]\n",
      "/home/webroot/ce-3354-webroot/ce3354book/lessons/lesson06/CNmethod.ipynb: Executing notebook using local CWD [mystnb]\n",
      "/home/webroot/ce-3354-webroot/ce3354book/lessons/lesson06/CNmethod.ipynb: Executed notebook in 1.95 seconds [mystnb]\n",
      "/home/webroot/ce-3354-webroot/ce3354book/lessons/lesson06/lesson06.ipynb: Executing notebook using local CWD [mystnb]\n",
      "/home/webroot/ce-3354-webroot/ce3354book/lessons/lesson06/lesson06.ipynb: Executed notebook in 1.10 seconds [mystnb]\n",
      "/home/webroot/ce-3354-webroot/ce3354book/lessons/lesson06/linearreservoir.ipynb: Executing notebook using local CWD [mystnb]\n",
      "/home/webroot/ce-3354-webroot/ce3354book/lessons/lesson06/linearreservoir.ipynb: Executed notebook in 1.94 seconds [mystnb]\n",
      "/home/webroot/ce-3354-webroot/ce3354book/lessons/lesson06/nonlinreservoir.ipynb: Executing notebook using local CWD [mystnb]\n",
      "/home/webroot/ce-3354-webroot/ce3354book/lessons/lesson06/nonlinreservoir.ipynb: Executed notebook in 0.95 seconds [mystnb]\n",
      "/home/webroot/ce-3354-webroot/ce3354book/lessons/lesson06/rationalmethod.ipynb: Executing notebook using local CWD [mystnb]\n",
      "/home/webroot/ce-3354-webroot/ce3354book/lessons/lesson06/rationalmethod.ipynb: Executed notebook in 0.98 seconds [mystnb]\n",
      "/home/webroot/ce-3354-webroot/ce3354book/lessons/lesson07/lesson07.ipynb: Executing notebook using local CWD [mystnb]\n",
      "/home/webroot/ce-3354-webroot/ce3354book/lessons/lesson07/lesson07.ipynb: Executed notebook in 1.27 seconds [mystnb]\n",
      "/home/webroot/ce-3354-webroot/ce3354book/lessons/lesson08.1/lesson081.ipynb: Executing notebook using local CWD [mystnb]\n",
      "/home/webroot/ce-3354-webroot/ce3354book/lessons/lesson08.1/lesson081.ipynb: Executed notebook in 1.19 seconds [mystnb]\n",
      "/home/webroot/ce-3354-webroot/ce3354book/lessons/lesson08/lesson08.ipynb: Executing notebook using local CWD [mystnb]\n",
      "/home/webroot/ce-3354-webroot/ce3354book/lessons/lesson08/lesson08.ipynb: Executed notebook in 2.33 seconds [mystnb]\n",
      "/home/webroot/ce-3354-webroot/ce3354book/lessons/lesson09/lesson09.ipynb: Executing notebook using local CWD [mystnb]\n",
      "/home/webroot/ce-3354-webroot/ce3354book/lessons/lesson09/lesson09.ipynb: Executed notebook in 1.10 seconds [mystnb]\n",
      "/home/webroot/ce-3354-webroot/ce3354book/lessons/lesson10/lesson10.ipynb: Executing notebook using local CWD [mystnb]\n",
      "/home/webroot/ce-3354-webroot/ce3354book/lessons/lesson10/lesson10.ipynb: Executed notebook in 1.15 seconds [mystnb]\n",
      "/home/webroot/ce-3354-webroot/ce3354book/lessons/lesson11/lesson11.ipynb: Executing notebook using local CWD [mystnb]\n",
      "/home/webroot/ce-3354-webroot/ce3354book/lessons/lesson11/lesson11.ipynb: Executed notebook in 1.06 seconds [mystnb]\n",
      "/home/webroot/ce-3354-webroot/ce3354book/lessons/lesson12/lesson12.ipynb: Executing notebook using local CWD [mystnb]\n",
      "/home/webroot/ce-3354-webroot/ce3354book/lessons/lesson12/lesson12.ipynb: Executed notebook in 1.18 seconds [mystnb]\n",
      "/home/webroot/ce-3354-webroot/ce3354book/lessons/lesson13/lesson13.ipynb: Executing notebook using local CWD [mystnb]\n",
      "/home/webroot/ce-3354-webroot/ce3354book/lessons/lesson13/lesson13.ipynb: Executed notebook in 1.26 seconds [mystnb]\n",
      "/home/webroot/ce-3354-webroot/ce3354book/lessons/lesson14/lesson14.ipynb: Executing notebook using local CWD [mystnb]\n",
      "/home/webroot/ce-3354-webroot/ce3354book/lessons/lesson14/lesson14.ipynb: Executed notebook in 1.26 seconds [mystnb]\n",
      "/home/webroot/ce-3354-webroot/ce3354book/lessons/workshops/workshop3.ipynb: Executing notebook using local CWD [mystnb]\n",
      "/home/webroot/ce-3354-webroot/ce3354book/lessons/workshops/workshop3.ipynb: Executed notebook in 1.14 seconds [mystnb]\n",
      "\n",
      "\u001b[01mlooking for now-outdated files... \u001b[39;49;00mnone found\n",
      "\u001b[01mpickling environment... \u001b[39;49;00mdone\n",
      "\u001b[01mchecking consistency... \u001b[39;49;00m\u001b[91m/home/webroot/ce-3354-webroot/ce3354book/lessons/lesson05/lesson05-.ipynb: WARNING: document isn't included in any toctree\u001b[39;49;00m\n",
      "done\n",
      "\u001b[01mpreparing documents... \u001b[39;49;00mdone\n",
      "\u001b[01mcopying assets... \u001b[39;49;00m\n",
      "\u001b[01mcopying static files... \u001b[39;49;00mCopying the source path /opt/jupyterhub/lib/python3.10/site-packages/sphinx/themes/basic/static/doctools.js to /home/webroot/ce-3354-webroot/ce3354book/_build/html/_static/doctools.js will overwrite data, as a file already exists at the destination path and the content does not match.\n",
      "Copying the source path /opt/jupyterhub/lib/python3.10/site-packages/sphinx/themes/basic/static/searchtools.js to /home/webroot/ce-3354-webroot/ce3354book/_build/html/_static/searchtools.js will overwrite data, as a file already exists at the destination path and the content does not match.\n",
      "Copying the source path /opt/jupyterhub/lib/python3.10/site-packages/pydata_sphinx_theme/theme/pydata_sphinx_theme/static/webpack-macros.html to /home/webroot/ce-3354-webroot/ce3354book/_build/html/_static/webpack-macros.html will overwrite data, as a file already exists at the destination path and the content does not match.\n",
      "Copying the source path /opt/jupyterhub/lib/python3.10/site-packages/sphinx_togglebutton/_static/togglebutton.css to /home/webroot/ce-3354-webroot/ce3354book/_build/html/_static/togglebutton.css will overwrite data, as a file already exists at the destination path and the content does not match.\n",
      "Copying the source path /opt/jupyterhub/lib/python3.10/site-packages/sphinx_togglebutton/_static/togglebutton.js to /home/webroot/ce-3354-webroot/ce3354book/_build/html/_static/togglebutton.js will overwrite data, as a file already exists at the destination path and the content does not match.\n",
      "Copying the source path /opt/jupyterhub/lib/python3.10/site-packages/sphinx_copybutton/_static/copy-button.svg to /home/webroot/ce-3354-webroot/ce3354book/_build/html/_static/copy-button.svg will overwrite data, as a file already exists at the destination path and the content does not match.\n",
      "Copying the source path /opt/jupyterhub/lib/python3.10/site-packages/sphinx_copybutton/_static/copybutton.css to /home/webroot/ce-3354-webroot/ce3354book/_build/html/_static/copybutton.css will overwrite data, as a file already exists at the destination path and the content does not match.\n",
      "Copying the source path /opt/jupyterhub/lib/python3.10/site-packages/sphinx_copybutton/_static/copybutton_funcs.js to /home/webroot/ce-3354-webroot/ce3354book/_build/html/_static/copybutton_funcs.js will overwrite data, as a file already exists at the destination path and the content does not match.\n",
      "Copying the source path /opt/jupyterhub/lib/python3.10/site-packages/sphinx_thebe/_static/sphinx-thebe.js to /home/webroot/ce-3354-webroot/ce3354book/_build/html/_static/sphinx-thebe.js will overwrite data, as a file already exists at the destination path and the content does not match.\n",
      "Copying the source path /opt/jupyterhub/lib/python3.10/site-packages/sphinx_thebe/_static/sphinx-thebe.css to /home/webroot/ce-3354-webroot/ce3354book/_build/html/_static/sphinx-thebe.css will overwrite data, as a file already exists at the destination path and the content does not match.\n",
      "done\n",
      "\u001b[01mcopying extra files... \u001b[39;49;00mdone\n",
      "\u001b[01mcopying assets: \u001b[39;49;00mdone\n",
      "\u001b[2K\u001b[01mwriting output... \u001b[39;49;00m[100%] \u001b[32mlessons/workshops/workshop3\u001b[39;49;00mm00mm\n",
      "\u001b[01mgenerating indices... \u001b[39;49;00mgenindex done\n",
      "\u001b[01mwriting additional pages... \u001b[39;49;00msearch done\n",
      "\u001b[2K\u001b[01mcopying images... \u001b[39;49;00m[100%] \u001b[33mlessons/lesson11/hec-res9.png\u001b[39;49;00mng\u001b[39;49;00m497a3214d3d69515a686f179a61e989edb.png\u001b[39;49;00m\u001b[01mcopying images... \u001b[39;49;00m[ 53%] \u001b[33mlessons/lesson06/hms-hypothetical2.png\u001b[39;49;00m\n",
      "\u001b[01mdumping search index in English (code: en)... \u001b[39;49;00mdone\n",
      "\u001b[01mdumping object inventory... \u001b[39;49;00mdone\n",
      "\u001b[01mbuild succeeded, 1 warning.\u001b[39;49;00m\n",
      "\n",
      "The HTML pages are in ce3354book/_build/html.\n",
      "\n",
      "\u001b[92m===============================================================================\u001b[0m\n",
      "\n",
      "Finished generating HTML for book.\n",
      "Your book's HTML pages are here:\n",
      "    ce3354book/_build/html/\n",
      "You can look at your book by opening this file in a browser:\n",
      "    ce3354book/_build/html/index.html\n",
      "Or paste this line directly into your browser bar:\n",
      "    file:///home/webroot/ce-3354-webroot/ce3354book/_build/html/index.html            \n",
      "\n",
      "\u001b[92m===============================================================================\u001b[0m\n",
      "\n"
     ]
    }
   ],
   "source": [
    "! jupyter-book build ce3354book/"
   ]
  },
  {
   "cell_type": "code",
   "execution_count": null,
   "metadata": {},
   "outputs": [],
   "source": []
  }
 ],
 "metadata": {
  "kernelspec": {
   "display_name": "Python 3 (ipykernel)",
   "language": "python",
   "name": "python3"
  },
  "language_info": {
   "codemirror_mode": {
    "name": "ipython",
    "version": 3
   },
   "file_extension": ".py",
   "mimetype": "text/x-python",
   "name": "python",
   "nbconvert_exporter": "python",
   "pygments_lexer": "ipython3",
   "version": "3.10.12"
  }
 },
 "nbformat": 4,
 "nbformat_minor": 4
}
