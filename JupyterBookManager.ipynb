{
 "cells": [
  {
   "cell_type": "code",
   "execution_count": 1,
   "metadata": {},
   "outputs": [
    {
     "name": "stdout",
     "output_type": "stream",
     "text": [
      "/home/sensei/ce-3354-webroot\n"
     ]
    }
   ],
   "source": [
    "! pwd"
   ]
  },
  {
   "cell_type": "code",
   "execution_count": 7,
   "metadata": {},
   "outputs": [
    {
     "name": "stdout",
     "output_type": "stream",
     "text": [
      "\n",
      "\u001b[92m===============================================================================\u001b[0m\n",
      "\n",
      "Your _build directory has been emptied except for .jupyter_cache\n",
      "\n",
      "\u001b[92m===============================================================================\u001b[0m\n",
      "\n"
     ]
    }
   ],
   "source": [
    "! jupyter-book clean ce3354book/"
   ]
  },
  {
   "cell_type": "code",
   "execution_count": null,
   "metadata": {},
   "outputs": [
    {
     "name": "stdout",
     "output_type": "stream",
     "text": [
      "\u001b[32m\u001b[1mRunning Jupyter-Book v0.12.0\u001b[0m\n",
      "\u001b[34m\u001b[1mSource Folder: \u001b[0m/home/sensei/ce-3354-webroot/ce3354book\n",
      "\u001b[34m\u001b[1mConfig Path: \u001b[0m/home/sensei/ce-3354-webroot/ce3354book/_config.yml\n",
      "\u001b[34m\u001b[1mOutput Path: \u001b[0m/home/sensei/ce-3354-webroot/ce3354book/_build/html\n",
      "\u001b[01mRunning Sphinx v3.5.2\u001b[39;49;00m\n",
      "\u001b[01mmaking output directory... \u001b[39;49;00mdone\n",
      "[etoc] Changing master_doc to 'intro'\n",
      "checking for /home/sensei/ce-3354-webroot/ce3354book/references.bib in bibtex cache... not found\n",
      "parsing bibtex file /home/sensei/ce-3354-webroot/ce3354book/references.bib... parsed 5 entries\n",
      "\u001b[01mmyst v0.15.2:\u001b[39;49;00m MdParserConfig(renderer='sphinx', commonmark_only=False, enable_extensions=['colon_fence', 'dollarmath', 'linkify', 'substitution', 'tasklist'], dmath_allow_labels=True, dmath_allow_space=True, dmath_allow_digits=True, dmath_double_inline=False, update_mathjax=True, mathjax_classes='tex2jax_process|mathjax_process|math|output_area', disable_syntax=[], url_schemes=['mailto', 'http', 'https'], heading_anchors=None, heading_slug_func=None, html_meta=[], footnote_transition=True, substitutions=[], sub_delimiters=['{', '}'], words_per_minute=200)\n",
      "\u001b[01mbuilding [mo]: \u001b[39;49;00mtargets for 0 po files that are out of date\n",
      "\u001b[01mbuilding [html]: \u001b[39;49;00mtargets for 27 source files that are out of date\n",
      "\u001b[01mupdating environment: \u001b[39;49;00m[new config] 27 added, 0 changed, 0 removed\n",
      "Executing: lessons/groundwater/groundwater1 in: /home/sensei/ce-3354-webroot/ce3354book/lessons/groundwater     \n",
      "Executing: lessons/groundwater/groundwater2 in: /home/sensei/ce-3354-webroot/ce3354book/lessons/groundwater     \n",
      "Executing: lessons/groundwater/groundwater3 in: /home/sensei/ce-3354-webroot/ce3354book/lessons/groundwater     \n",
      "Executing: lessons/groundwater/groundwater4 in: /home/sensei/ce-3354-webroot/ce3354book/lessons/groundwater     \n",
      "Executing: lessons/lesson01/lesson01 in: /home/sensei/ce-3354-webroot/ce3354book/lessons/lesson01               \n",
      "Executing: lessons/lesson02/lesson02 in: /home/sensei/ce-3354-webroot/ce3354book/lessons/lesson02               \n",
      "Executing: lessons/lesson03/lesson03 in: /home/sensei/ce-3354-webroot/ce3354book/lessons/lesson03               \n",
      "Executing: lessons/lesson04/designstorms in: /home/sensei/ce-3354-webroot/ce3354book/lessons/lesson04           \n",
      "Executing: lessons/lesson04/lesson04 in: /home/sensei/ce-3354-webroot/ce3354book/lessons/lesson04               \n",
      "Executing: lessons/lesson04/precipitation in: /home/sensei/ce-3354-webroot/ce3354book/lessons/lesson04          \n",
      "Executing: lessons/lesson05/lesson05 in: /home/sensei/ce-3354-webroot/ce3354book/lessons/lesson05               \n",
      "Executing: lessons/lesson06.1/HMSintro in: /home/sensei/ce-3354-webroot/ce3354book/lessons/lesson06.1           \n",
      "Executing: lessons/lesson06/CNmethod in: /home/sensei/ce-3354-webroot/ce3354book/lessons/lesson06               \n",
      "Executing: lessons/lesson06/lesson06 in: /home/sensei/ce-3354-webroot/ce3354book/lessons/lesson06               \n"
     ]
    }
   ],
   "source": [
    "! jupyter-book build ce3354book/"
   ]
  },
  {
   "cell_type": "code",
   "execution_count": null,
   "metadata": {},
   "outputs": [],
   "source": []
  }
 ],
 "metadata": {
  "kernelspec": {
   "display_name": "Python 3",
   "language": "python",
   "name": "python3"
  },
  "language_info": {
   "codemirror_mode": {
    "name": "ipython",
    "version": 3
   },
   "file_extension": ".py",
   "mimetype": "text/x-python",
   "name": "python",
   "nbconvert_exporter": "python",
   "pygments_lexer": "ipython3",
   "version": "3.8.10"
  }
 },
 "nbformat": 4,
 "nbformat_minor": 4
}
