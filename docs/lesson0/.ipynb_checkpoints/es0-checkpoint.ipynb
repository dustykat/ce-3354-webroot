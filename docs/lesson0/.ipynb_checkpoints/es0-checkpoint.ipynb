{
 "cells": [
  {
   "cell_type": "markdown",
   "metadata": {},
   "source": [
    "# Exercise Set 0\n",
    "\n",
    "## Exercise 1: Using the internet, textbook(s), and the on-line reading collection@  \n",
    "[https://3.137.111.182/ce-3354-webroot/3-Readings/](https://3.137.111.182/ce-3354-webroot/3-Readings/) define the following (in a sentance or two); please cite your references (URL is sufficient):\n",
    "\n",
    "1. Flow Duration Curve\n",
    "2. Flood Frequency Curve\n",
    "3. Stormwater Best Management Practice\n",
    "4. Watershed\n",
    "5. Catchment"
   ]
  },
  {
   "cell_type": "code",
   "execution_count": null,
   "metadata": {},
   "outputs": [],
   "source": []
  }
 ],
 "metadata": {
  "kernelspec": {
   "display_name": "Python 3",
   "language": "python",
   "name": "python3"
  },
  "language_info": {
   "codemirror_mode": {
    "name": "ipython",
    "version": 3
   },
   "file_extension": ".py",
   "mimetype": "text/x-python",
   "name": "python",
   "nbconvert_exporter": "python",
   "pygments_lexer": "ipython3",
   "version": "3.8.5"
  }
 },
 "nbformat": 4,
 "nbformat_minor": 4
}
