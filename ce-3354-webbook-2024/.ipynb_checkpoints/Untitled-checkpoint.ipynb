{
 "cells": [
  {
   "cell_type": "markdown",
   "metadata": {},
   "source": [
    "## Hydrology and Design\n",
    "- Hydrology and Runoff\n",
    "  - Watershed Characteristics\n",
    "  - Time of Concentration\n",
    "  - Drainage Area"
   ]
  },
  {
   "cell_type": "markdown",
   "metadata": {},
   "source": [
    "## Culvert Design\n",
    "- Culvert Purposes\n",
    "  - Culvert Hydraulics\n",
    "  - What Makes a Good Culvert\n",
    "- Culvert Types and Hydraulic Conditions\n",
    "  - Inlet Control\n",
    "  - Outlet Control\n",
    "- Hydraulic Conditions\n",
    "  - Inlet Control\n",
    "  - Outlet Control"
   ]
  },
  {
   "cell_type": "markdown",
   "metadata": {},
   "source": [
    "## Storm Drain Inlet Design\n",
    "- Inlet Purposes\n",
    "  - Inlet Hydraulics\n",
    "  - What Makes a Good Inlet\n",
    "- Inlet Types and Hydraulic Conditions\n",
    "  - Weir Control\n",
    "  - Orifice Control"
   ]
  },
  {
   "cell_type": "markdown",
   "metadata": {},
   "source": [
    "## Storm Drain Conduit Design\n",
    "- Conduit Purposes\n",
    "  - Conduit Hydraulics\n",
    "  - What Makes a Good Conduit\n",
    "- Conduit Types and Hydraulic Conditions\n",
    "  - Free Surface\n",
    "  - Surcharged "
   ]
  },
  {
   "cell_type": "code",
   "execution_count": null,
   "metadata": {},
   "outputs": [],
   "source": []
  }
 ],
 "metadata": {
  "kernelspec": {
   "display_name": "Python 3",
   "language": "python",
   "name": "python3"
  },
  "language_info": {
   "codemirror_mode": {
    "name": "ipython",
    "version": 3
   },
   "file_extension": ".py",
   "mimetype": "text/x-python",
   "name": "python",
   "nbconvert_exporter": "python",
   "pygments_lexer": "ipython3",
   "version": "3.8.10"
  }
 },
 "nbformat": 4,
 "nbformat_minor": 4
}
