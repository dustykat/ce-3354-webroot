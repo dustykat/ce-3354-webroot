{
 "cells": [
  {
   "cell_type": "markdown",
   "metadata": {},
   "source": [
    "# 5. Watersheds"
   ]
  },
  {
   "cell_type": "markdown",
   "metadata": {},
   "source": [
    ":::{admonition} Course Website\n",
    "[link to course webhost](http://54.243.252.9/)\n",
    ":::\n",
    "\n"
   ]
  },
  {
   "cell_type": "markdown",
   "metadata": {},
   "source": [
    "## Readings\n",
    "\n",
    "1. [Baraka, M. 2024, Watershed Delineation in QGIS: A Summary Guide](http://54.243.252.9/ce-5361-webroot/3-Readings/Hydrology_GIS_part1.pdf)\n",
    "1. [Brutsaert, W., 2005, Hydrology: An Introduction. Cambridge University Press](https://www.amazon.com/Hydrology-Introduction-Wilfried-Brutsaert/dp/0521824796/ref=sr_1_1?crid=26239UVBUDNRC&keywords=hydrology+an+introduction+brusehart&qid=1697843874&sprefix=hydrology+an+introduction+brusehart%2Caps%2C84&sr=8-1)\n",
    "2. [Chow, V.T., Maidment, D.R., Mays, L.W., 1988, Applied Hydrology.  New York, McGraw-Hill. ](http://54.243.252.9/ce-5361-webroot/3-Readings/01CMM1988/Applied%20Hydrology%20VT%20Chow%201988.pdf) \n",
    "1. [Watersheds - McCuen](http://54.243.252.9/ce-3354-webroot/3-Readings/McCuen-Watersheds/McCuen-Watersheds.pdf)\n",
    "2. [How to Delineate a Watershed](http://54.243.252.9/ce-3354-webroot/3-Readings/NewHampshire-Watersheds/Topowatershed.pdf)\n",
    "3. [How To Measure Path](http://54.243.252.9/ce-3354-webroot/3-Readings/HowToMeasurePath/HowToMeasurePath.pdf)\n",
    "6. [Numerical Planimetry](http://54.243.252.9/ce-3354-webroot/3-Readings/NumericalPlanimetry/)\n",
    "4. [How to Interpret Topographic Maps](http://54.243.252.9/ce-3354-webroot/3-Readings/UsingTopographicMaps/Pages%20from%20USAF-Survival-Manual-644.pdf)\n",
    "5. [Cleveland, T. G. (2020) *Surface Water Hydrology Notes (Watersheds) to accompany CE-5361*, Department of Civil, Environmental, and Construction Engineering, Whitacre College of Engineering.](http://54.243.252.9/ce-3354-webroot/1-Lectures-2020/lesson04/Lesson04.pdf)\n",
    "6. [Cleveland, T. G. (2017) *Engineering Hydrology Notes (Hydrologic Data; Watershed Delineation) to accompany CE-3354*, Department of Civil, Environmental, and Construction Engineering, Whitacre College of Engineering.](http://54.243.252.9/ce-3354-webroot/1-Lectures-2017/Lecture03.pdf)\n",
    "7. [Cleveland, T. G. (2017) *Engineering Hydrology Notes (Watershed Metrics) to accompany CE-3354*, Department of Civil, Environmental, and Construction Engineering, Whitacre College of Engineering.](http://54.243.252.9/ce-3354-webroot/ce-3354-webbook-2024/my3354notes/lessons/05-Watersheds/Lesson04.pdf)\n",
    "8. [Florida Delineation Training Watershed (png)](http://54.243.252.9/ce-3354-webroot/1-Lectures-2017/Florida-Training-Watershed.png) Right-Click \"Save As...\"\n",
    "9. [Texas Delineation Training Watershed (png)](http://54.243.252.9/ce-3354-webroot/1-Lectures-2017/Texas-Training-Watershed.png) Right-Click \"Save As...\"\n",
    "\n",
    "<hr>\n"
   ]
  },
  {
   "cell_type": "markdown",
   "metadata": {},
   "source": [
    "## Videos\n",
    "\n",
    "1. [What is a Watershed? (YouTube)](https://www.youtube.com/watch?v=QOrVotzBNto)\n",
    "2. [What is a Watershed?-Illustrated (YouTube)](https://www.youtube.com/watch?v=w58XwzVcBFM)\n",
    "3. [Why Watersheds Matter (YouTube)](https://www.youtube.com/watch?v=Om-eJBt9WvQ)\n",
    "4. [Watershed Delineation Example (YouTube)](https://www.youtube.com/watch?v=ajF0DsuuY4k)\n",
    "5. [Manual Watershed Delineation (USGS)](https://www.youtube.com/watch?v=RxO2814piio)\n",
    "6. [Watershed Delineation using ArcGIS (YouTube)](https://www.youtube.com/watch?v=v3Ajg6W8Rj8)\n",
    "7. [Watershed Delineation using qGIS (YouTube)](https://www.youtube.com/watch?v=2fvy9xtAHc4)\n",
    "8. [How to Delineate a Watershed in qGIS (YouTube)](https://www.youtube.com/watch?v=CE7zZCkFbg4)\n",
    "9. [Watershed Delineation and Metrics](https://www.youtube.com/watch?v=qzKS8n8RrdE)\n",
    "10. [Measuring Area](https://www.youtube.com/watch?v=pDFystIDxn0)\n",
    "11. [Manual Delineation](https://www.youtube.com/watch?v=cZBKrc6_B-E)\n",
    "12. [Delineate Hardin Branch Watershed in QGIS (ES-2 Solution)](https://youtu.be/e1AbKqlHaow)"
   ]
  },
  {
   "cell_type": "markdown",
   "metadata": {},
   "source": [
    "## Outline\n",
    "\n",
    "1. What are watersheds?\n",
    "2. Delineation Concepts\n",
    "  1. By-hand (obsolete practice)\n",
    "  2. Using GIS tools (current practice)\n",
    "3. Watershed metrics\n",
    "  1. Area\n",
    "  2. Slope\n",
    "  3. Main Channel metrics\n",
    "  4. Land use and vegetative cover types"
   ]
  },
  {
   "cell_type": "markdown",
   "metadata": {},
   "source": [
    "## What are Watersheds?\n",
    "\n",
    "A watershed is the area of land that drains all the streams and rainfall to a common outlet such as the outflow of a reservoir, mouth of a bay, or any point along a stream channel (this outlet is called a pour-point in GIS-speak). The term “watershed” is often used interchangeably with “drainage basin,” which may make the concept easier to visualize. \n",
    "\n",
    ":::{note}\n",
    "A common outlet implies that the various discharges have concentrated into a a definable conduit (as opposed to sheet or overland distributed flow).  The distributed flows are part of the watershed, but at times make engineering analysis at smaller scales challenging as no single control point exists.\n",
    ":::\n",
    "\n",
    "A watershed can encompass a small area of land that drains into a trickling creek. It can encompass multiple states in the Midwest, all draining into the Mississippi River. Or it can encompass multiple countries draining into the Atlantic Ocean. No matter where you are standing or sitting right now, you are in a watershed. \n",
    "\n",
    "Water is constantly in motion, be it via ocean currents, precipitation, or slowly moving through underground aquifers. Any given watershed is part of the larger whole of our global water supply.\n",
    "\n",
    "Smaller watersheds can make up larger watersheds. The Mississippi River has many tributaries (each of which has its own watershed), and in turn empties into the Gulf of Mexico, which connects to the Atlantic Ocean. The U.S. Geological Survey delineates our nation’s watersheds as “Hydrologic Units,” which are assigned hydrologic unit codes. These can range in scale  from expansive water resource regions covering millions of square miles down to tiny local tributary systems. There are 90,000 hydrologic unit codes  designated nationwide. "
   ]
  },
  {
   "cell_type": "markdown",
   "metadata": {},
   "source": [
    "Some more compact definitions of a watershed include:\n",
    "\n",
    "- Topographic area that collects and discharges surface streamflow through one outlet or mouth (pour point)\n",
    "- The area on the surface of the Earth that drains to a specific location\n",
    "- In groundwater a similar concept is called a groundwater basin – only the boundaries can move depending on relative rates of recharge and discharge \n",
    "\n",
    "The topographic definition omits that there could be subsurface sewer systems that can cross topographic boundaries.   \n",
    "It’s a big deal in urban areas.\n",
    "\n",
    "Consider the artist rendering of a watershed\n",
    "\n",
    "![](watershed.png)\n",
    "\n",
    "Large watersheds are comprised of smaller interconnected watersheds, thus in the rendering watershed B is a part of watershed A.\n"
   ]
  },
  {
   "cell_type": "markdown",
   "metadata": {},
   "source": [
    "## Delineation Concepts\n",
    "\n",
    "Watershed delineation is a fundamental process in hydrology and environmental science that involves defining the boundaries of a drainage area or catchment. It identifies the geographic area from which all precipitation and surface runoff flow into a single outlet, typically a river, stream, or lake.\n",
    "\n",
    "This analytical method is typically employed:\n",
    "\n",
    "1. By-hand and/or semi-automated using digital maps (obsolete, but viable for small areas)\n",
    "2. Fully-automated using digital elevation data and geographic information systems (GIS) (current practice)\n",
    "\n",
    "In all the cases above the goal is to trace the flow of water and determine the contributing area to a specific point of interest. \n",
    "\n",
    "Watershed delineation plays a crucial role in various applications, including flood management, water resource planning, and environmental conservation, by providing a spatial framework to understand and manage water-related processes within a defined geographic region.\n"
   ]
  },
  {
   "cell_type": "markdown",
   "metadata": {},
   "source": [
    "# Delineation (by Hand)\n",
    "\n",
    "<hr><hr>\n",
    "\n",
    "## Readings \n",
    "1. [How to Delineate a Watershed](http://54.243.252.9/ce-3354-webroot/3-Readings/NewHampshire-Watersheds/Topowatershed.pdf)\n",
    "2. [Cleveland, T. G. (2017) *Engineering Hydrology Notes (Hydrologic Data; Watershed Delineation) to accompany CE-3354*, Department of Civil, Environmental, and Construction Engineering, Whitacre College of Engineering.](http://54.243.252.9/ce-3354-webroot/1-Lectures-2017/Lecture03.pdf)\n",
    "\n",
    "<hr>"
   ]
  },
  {
   "cell_type": "markdown",
   "metadata": {},
   "source": [
    "### Step 1.  Map of area of interest\n",
    "\n",
    "Identify the pour point. \n",
    "\n",
    "![](pourpoint.png)"
   ]
  },
  {
   "cell_type": "markdown",
   "metadata": {},
   "source": [
    "### Step 2.  Superimpose a Grid\n",
    "\n",
    "While not strictly necessary its helpful.  The grid serves two purposes, first a reference system and as a raster representation of the watershed (albeit at a coarse resolution) \n",
    "\n",
    "![](gridoverlay.png)"
   ]
  },
  {
   "cell_type": "markdown",
   "metadata": {},
   "source": [
    "### Step 3.  Cell Elevations\n",
    "\n",
    "Use the grid to estimate average elevations in a grid cell, you use this information to help locate the boundary.  Water flows from high to low elevation.  Starting from the outlet work uphill until have high point, if its downhill as you cntinue in one direction beyond the point, its possibly the boundary (you are identifying \"ridgeline\" features).\n",
    "\n",
    "Simultaneously identify internal water flow paths, these help identify the ridgeline features.\n",
    "\n",
    "![](estimatecellelev.png)"
   ]
  },
  {
   "cell_type": "markdown",
   "metadata": {},
   "source": [
    "### Step 3.  Draw/Refine Boundary Estimates\n",
    "\n",
    "Using the grid to estimate average elevations in a grid cell, you locate the coarse resolution boundary.  Water flows from high to low elevation.  Using the internal water flow paths, move upgradient along these paths to refine the boundary delineation.\n",
    "\n",
    "![](drawboundary.png)"
   ]
  },
  {
   "cell_type": "markdown",
   "metadata": {},
   "source": [
    "### Step 4.  Tidy up Boundary\n",
    "\n",
    "Tidy up your boundary and declare victory!\n",
    "\n",
    "![](completed-delineation.png)"
   ]
  },
  {
   "cell_type": "markdown",
   "metadata": {},
   "source": [
    "# Delineation (by GIS)\n",
    "\n",
    "<hr><hr>\n",
    "\n",
    "## Readings \n",
    "1. [Baraka, M. 2024, Watershed Delineation in QGIS: A Summary Guide](http://54.243.252.9/ce-5361-webroot/3-Readings/Hydrology_GIS_part1.pdf)\n",
    "\n",
    "<hr>"
   ]
  },
  {
   "cell_type": "markdown",
   "metadata": {},
   "source": [
    "## Florida Watershed GIS Workflow\n",
    "Here we do step-by-step example of the previous watershed(s).  The steps are those outlined in  [Baraka, M. 2024, Watershed Delineation in QGIS: A Summary Guide](http://54.243.252.9/ce-5361-webroot/3-Readings/Hydrology_GIS_part1.pdf)\n",
    "\n",
    "[Florida Watershed Workflow Notes (PDF)](http://54.243.252.9/ce-3354-webroot/ce-3354-webbook-2024/my3354notes/lessons/05-Watersheds/QGISWorkflowFlorida.pdf)"
   ]
  },
  {
   "cell_type": "markdown",
   "metadata": {},
   "source": [
    "## Watershed Metrics (General Concepts)\n",
    "\n",
    "Now that the watershed is identified and demarked we can measure a few commonly used and important physical properties.  These measurements are used are to characterize the fundamental unit in surface water hydrology which is the watershed.\n",
    "\n",
    "- A watershed is defined as the area on the surface of the earth that drains to a specific location.\n",
    "\n",
    "A minimal description of watershed properties must include:\n",
    "- Area\n",
    "- Main channel length\n",
    "- Slope (requires the specification of path), The MCS is usually reported as is the average slope (highest point on the boundary to the pour point).  The transverse slope is often reported too.\n",
    "- Soil permeability\n",
    "- \\%-impervious (developed)"
   ]
  },
  {
   "cell_type": "markdown",
   "metadata": {},
   "source": [
    "### Measuring Area\n",
    "\n",
    "- If the grid cells used in delineation are all squares, one can count the squares contained in the watershed, multiply by the per-cell area and have a good estimate of the watershed area.\n",
    "\n",
    "- If using GIS there is usually an area measurement tool; one can use it, or use the Ones raster mask information to count squares and convert into useful values"
   ]
  },
  {
   "cell_type": "markdown",
   "metadata": {},
   "source": [
    "### Measuring Length(s) \n",
    "\n",
    "Similar to area, you can count cells along a path and multiply the count by the length of a cell side, or the cell diagonal (depends on how many diagonal moves you need to make) to obtain a length.  Or use software (Acrobat Pro, AutoCAD, Engauge, ArcGIS, QGIS, .... ) to make the measurements."
   ]
  },
  {
   "cell_type": "markdown",
   "metadata": {},
   "source": [
    "### Estimating Slope(s)\n",
    "\n",
    "Slope estimates require two components\n",
    "1. A path with a length ($S$)\n",
    "2. The change in elevation along the path ($\\Delta z$)\n",
    "\n",
    "The dimensionless slope is simply the ratio of the two $\\frac{\\Delta z}{S}$.  Percent slope is the dimensionless slope multiplied by 100.\n",
    "Sometimes slope is expressed in units of $\\frac{ft}{mi}$ or $\\frac{m}{km}$, while meaningful these will have to be converted into dimensionless or \\%-slope for most hydrologic computations."
   ]
  },
  {
   "cell_type": "markdown",
   "metadata": {},
   "source": [
    "### Estimating Soil Properties\n",
    "\n",
    "Subjective when using paper maps, but reasonable values can be inferred from soil maps - either paper-based or electronic [Web Soil Survey](https://websoilsurvey.sc.egov.usda.gov/App/HomePage.htm)\n",
    "\n",
    "![](websoilsurvey.png)\n",
    "\n",
    ":::{note}\n",
    "There is a GIS plug-in that can directly access the USDA database.\n",
    ":::"
   ]
  },
  {
   "cell_type": "markdown",
   "metadata": {},
   "source": [
    "### Estimating \\%-Impervious\n",
    "\n",
    "This is subjective, but one reasonable approach is using Google Earth\n",
    "1. Find the area of interest\n",
    "2. Select a viewing height (needs to be same for all areas if you are going to have to scroll)\n",
    "3. Put a grid on the screen (physical grid on see‐thru plastic, or use a china marker and draw on the screen)\n",
    "4. Count concrete vs not concrete – relative ratio is a useable estimate of the \\% impervious\n",
    "\n",
    ":::{note}\n",
    "This would be a good task to hand off to a machine learner model.  Take the area of interest, capture an image, have the ML model count pixels that are NOT CONCRETE (brown, green, .....).\n",
    "\n",
    "Land use coverages are available in GIS that could be used.\n",
    ":::"
   ]
  },
  {
   "cell_type": "markdown",
   "metadata": {},
   "source": [
    "## USGS StreamStats\n",
    "\n",
    "In many states one could also use an on-line tool called [StreamStats](https://streamstats.usgs.gov/ss/)\n",
    "\n",
    "For example a culvert on Snake Creek in Oklahoma can be examined and will produce the delineation below\n",
    "\n",
    "![](snakecreek.png)\n",
    "\n",
    "Once the watershed is defined, download the shapefile(s) into your GIS and proceede with your remaining hydrological tasks.\n"
   ]
  },
  {
   "cell_type": "code",
   "execution_count": null,
   "metadata": {},
   "outputs": [],
   "source": []
  }
 ],
 "metadata": {
  "kernelspec": {
   "display_name": "Python 3",
   "language": "python",
   "name": "python3"
  },
  "language_info": {
   "codemirror_mode": {
    "name": "ipython",
    "version": 3
   },
   "file_extension": ".py",
   "mimetype": "text/x-python",
   "name": "python",
   "nbconvert_exporter": "python",
   "pygments_lexer": "ipython3",
   "version": "3.8.10"
  }
 },
 "nbformat": 4,
 "nbformat_minor": 4
}