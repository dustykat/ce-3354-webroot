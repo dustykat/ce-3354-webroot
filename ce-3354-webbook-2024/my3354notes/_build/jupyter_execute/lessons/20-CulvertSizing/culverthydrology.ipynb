{
 "cells": [
  {
   "cell_type": "markdown",
   "metadata": {},
   "source": [
    "# 21. Culvert Hydrology\n",
    "\n",
    ":::{admonition} Course Website\n",
    "[Link to Course Website](http://54.243.252.9/ce-3354-webroot/)\n",
    ":::\n",
    "\n"
   ]
  },
  {
   "cell_type": "markdown",
   "metadata": {},
   "source": [
    "## Readings\n",
    "\n",
    "1. [Gupta, R.S., 2017. Hydrology and Hydraulic Systems, pp. 711-735](https://www.waveland.com/browse.php?t=384)\n",
    "\n",
    "2. [Chow, V.T., Maidment,D.M., and Mays, L.W. (1998) Applied Hydrology, McGraw Hill, pp. 499-507](http://54.243.252.9/ce-3354-webroot/3-Readings/CMM1988/) \n",
    "\n",
    "3. [Mays, L. W. 2001. Water-Resources Engineering. 1st Edition Wiley, pp. 651-669](http://54.243.252.9/ce-4353-webroot/3-Readings/MaysCh16.pdf)\n",
    "\n",
    "3. [Hydraulic Design of Highway Culverts](https://www.fhwa.dot.gov/engineering/hydraulics/pubs/12026/hif12026.pdf)"
   ]
  },
  {
   "cell_type": "markdown",
   "metadata": {},
   "source": [
    "## Videos\n",
    "\n",
    "1. [What is a Culvert? (YouTube)](https://www.youtube.com/watch?v=15XJDmawbYU&t=375s)\n",
    "2. [Culvert Hydraulics (FHWA Training Video) (YouTube)](https://www.youtube.com/watch?v=vnXmGyb_hKQ)\n",
    "3. [Culvert Hydraulic Design (YouTube) (FHWA Training)](https://www.youtube.com/watch?v=xh2aTHpg3VI)  Go to time stamp 29:50 for design process demonstration."
   ]
  },
  {
   "cell_type": "markdown",
   "metadata": {},
   "source": [
    "## Outline\n",
    "\n",
    "1. Culverts \n",
    "2. Nomenclature\n",
    "3. Hydrologic Considerations\n",
    "4. Design Process"
   ]
  },
  {
   "cell_type": "markdown",
   "metadata": {},
   "source": [
    "## Introduction to Culverts\n",
    "\n",
    "Culverts are structures that allow water to pass beneath roads, railways, embankments, or other **obstacles**. They are typically made from concrete, steel, or plastic and can take various shapes, including circular, rectangular, or elliptical. Culverts are crucial for maintaining natural drainage patterns and preventing the accumulation of water on roads and other infrastructure, which can lead to flooding, erosion, or structural damage. By channeling water safely through or around man-made structures, culverts play a key role in managing both small streams and significant runoff during storms.\n",
    "\n",
    ":::{note}\n",
    "Culverts are comparatively short as compared to storm sewers.  Storm sewers can run miles (kilometers), culverts are usually only a few hundred feet (meters) long.\n",
    ":::"
   ]
  },
  {
   "cell_type": "markdown",
   "metadata": {},
   "source": [
    "## Terminology\n",
    "\n",
    "Certain terms are common to all culvert systems.\n",
    "\n",
    "![](culvert-elevation1.png)\n",
    "\n",
    "- Headwater\n",
    "- Tailwater\n",
    "- Control-Type\n",
    "- Control-Section\n",
    "\n",
    "![](culvert-elevation2.png)\n",
    "\n",
    "- Surcharged (submerged)\n",
    "- Unsubmerged\n",
    "- Hydraulic jump in culvert (not pictured)\n",
    "\n",
    "![](culvert-layout.png)\n",
    "\n",
    "- Invert elevation\n",
    "- Soffit elevation\n",
    "- Crest elevation\n",
    "\n"
   ]
  },
  {
   "cell_type": "markdown",
   "metadata": {},
   "source": [
    "## Hydrologic Considerations in Culvert Design\n",
    "\n",
    "Designing culverts requires a detailed understanding of hydrological factors to ensure they provide adequate capacity for expected flows while preventing negative impacts on the environment and infrastructure. Some important hydrological aspects include:\n",
    "\n",
    "- Design Flow and Return Period: The primary hydrological consideration for culverts is the design flow, or the maximum flow rate the culvert must handle. Engineers determine this flow based on historical rainfall data and the return period (e.g., a 25-year or 50-year storm event) that the culvert should be designed to withstand. The return period is chosen based on the risk tolerance and the importance of the infrastructure being protected.\n",
    "\n",
    "- Watershed Characteristics: The size, shape, and slope of the watershed upstream of the culvert affect the volume and speed of water reaching it. Larger watersheds or those with steep slopes can generate more runoff, requiring a larger or more robust culvert to handle the peak flow without causing backups or flooding.\n",
    "\n",
    "- Runoff Coefficients: Similar to storm sewer design, runoff coefficients are used to estimate the amount of rainfall that becomes surface runoff in the watershed. Urban areas with many impervious surfaces (such as roads, parking lots, and rooftops) will have higher runoff coefficients than rural or vegetated areas, influencing the sizing of the culvert.\n",
    "\n",
    "- Peak Flow Estimation: Hydrologists use methods such as the Rational Method or unit hydrograph analysis to estimate the peak flow that the culvert must accommodate. Accurately predicting peak flow is critical to ensure that the culvert does not become a bottleneck during heavy rainfall or snowmelt events.\n",
    "\n",
    "- Hydraulic Considerations: Engineers must consider both inlet and outlet control conditions when designing culverts. The capacity of the culvert is influenced by factors such as the shape, slope, roughness, and the headwater depth (the depth of water upstream). Inlet-controlled culverts are limited by the size of the opening, while outlet-controlled culverts are constrained by the downstream flow conditions.\n",
    "\n",
    "- Time of Concentration: This is the time it takes for water to travel from the furthest point in the watershed to the culvert inlet. A short time of concentration can lead to rapid increases in flow, which can affect the peak discharge that the culvert needs to handle. Understanding the time of concentration helps in sizing the culvert appropriately to prevent flooding.\n",
    "\n",
    "- Debris and Sediment Transport: Culverts must also be designed with consideration for potential blockages from debris (such as leaves, branches, or sediment). A blocked culvert can significantly reduce its capacity and lead to overtopping of the road or embankment. Some culverts are designed with features like debris racks or larger openings to minimize the risk of clogging.\n",
    "\n",
    "- Environmental Impact: Culverts can impact the natural flow of water and aquatic ecosystems. Proper design should minimize disruption to fish migration and stream habitats by ensuring the culvert allows for natural water flow conditions. Techniques like stream simulation culverts, which mimic natural streambeds, are sometimes used to address these concerns."
   ]
  },
  {
   "cell_type": "markdown",
   "metadata": {},
   "source": [
    "## Design Process\n",
    "\n",
    "Explained in [Mays, L. W. 2001. Water-Resources Engineering. 1st Edition Wiley, pp. 651-669](http://54.243.252.9/ce-4353-webroot/3-Readings/MaysCh16.pdf)\n",
    "\n"
   ]
  },
  {
   "cell_type": "markdown",
   "metadata": {},
   "source": [
    "## End of File"
   ]
  },
  {
   "cell_type": "code",
   "execution_count": null,
   "metadata": {},
   "outputs": [],
   "source": []
  }
 ],
 "metadata": {
  "kernelspec": {
   "display_name": "Python 3",
   "language": "python",
   "name": "python3"
  },
  "language_info": {
   "codemirror_mode": {
    "name": "ipython",
    "version": 3
   },
   "file_extension": ".py",
   "mimetype": "text/x-python",
   "name": "python",
   "nbconvert_exporter": "python",
   "pygments_lexer": "ipython3",
   "version": "3.8.10"
  }
 },
 "nbformat": 4,
 "nbformat_minor": 4
}