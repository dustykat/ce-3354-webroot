{
 "cells": [
  {
   "cell_type": "markdown",
   "metadata": {},
   "source": [
    "# 4. Precipitation\n",
    "\n",
    "Precipitation is the water which falls from the atmosphere in either liquid or solid form."
   ]
  },
  {
   "cell_type": "markdown",
   "metadata": {},
   "source": [
    ":::{admonition} Course Website\n",
    "[link to webster](http://54.243.252.9/)\n",
    ":::\n",
    "\n"
   ]
  },
  {
   "cell_type": "markdown",
   "metadata": {},
   "source": [
    "## Readings\n",
    "\n",
    "1. [Chow, V.T., Maidment,D.M., and Mays, L.W. (1998) Applied Hydrology, McGraw Hill, (Read pages 26 to 31; 416 to 423)](http://54.243.252.9/ce-3354-webroot/3-Readings/CMM1988/) \n",
    "\n",
    "2. [McCuen, R.H., Johnson, P.A., and Ragan, R.M. (2002) Highway Hydrology. HDS-2 (2ed) FHWA-NHI-02-001 (Read pages 3-1 to 3-5; 4-86 to 4-89; 5-1 to 5-8; 5-16 to 5-17)](http://54.243.252.9/ce-3354-webroot/3-Readings/FHWAHighwayHydrology/FHWA-NHI-02-001.pdf)\n",
    "\n",
    "3. [Texas Hydraulic Design Manual (2014-1) Texas Department of Transportation. (2014) Hydraulic Design Manual (Read pages 4-1 to 4-5; 4-31 to 4-35)](http://54.243.252.9/ce-3354-webroot/3-Readings/TXDOT-HYDM-2014/txdot-hdm-2014.pdf)\n",
    "\n",
    "4. [Linear Theory of Hydrologic Systems Dooge, J.C. I. (1973) Linear Theory of Hydrologic Systems. USDA ARS Technical Bulletin No. 1468. (Read pages 127 to 147)](http://54.243.252.9/ce-3354-webroot/3-Readings/LS1973/linear-systems-hydrology-dooge.pdf)\n",
    "\n",
    "5. [Cleveland, T. G. (2015) *Engineering Hydrology Notes to Accompany CE 3354 (Hand-written)*, Department of Civil, Environmental, and Construction Engineering, Whitacre College of Engineering.](http://54.243.252.9/ce-3354-webroot/ce3354book/lessons/lesson04/precipitation-notes.pdf)\n",
    "\n",
    "6. [Cleveland, T. G. (2017) *Engineering Hydrology Notes to Accompany CE 3354 (Discrete Data Analysis; Risk Based Design; Regression Equations)*, Department of Civil, Environmental, and Construction Engineering, Whitacre College of Engineering.](http://54.243.252.9/ce-3354-webroot/1-Lectures-2017/Lecture05.pdf)\n",
    "\n",
    "7. [Cleveland, T. G. (2017) *Engineering Hydrology Notes to Accompany CE 3354 (Probability Estimation Modeling)*, Department of Civil, Environmental, and Construction Engineering, Whitacre College of Engineering.](http://54.243.252.9/ce-3354-webroot/1-Lectures-2017/Lecture06.pdf)\n",
    "\n",
    "8. [Cleveland, T. G. (2017) *Engineering Hydrology Notes to Accompany CE 3354 (Point Precipitation; Design Storms)*, Department of Civil, Environmental, and Construction Engineering, Whitacre College of Engineering.](http://54.243.252.9/ce-3354-webroot/1-Lectures-2017/Lecture08.pdf)\n",
    "\n",
    "9. [Cleveland, T.G., and Thompson, D.B., 2008. ``Rainfall Intensity in Design.'' 87-th Annual Transportation Research Board Meeting, January 14-18, Washington, D.C.](http://54.243.252.9/ce-3354-webroot/3-Readings/TRB-2008-Paper/TRB_2008_IntensityDesign_Rev2.pdf)\n",
    "\n",
    "5. [Williams-Sether, T., Asquith, W.H., Thompson, D.B., Cleveland, T.G., and X. Fang. 2004. ``Empirical, Dimensionless, Cumulative-Rainfall Hyetographs for Texas.'' U.S.Geological Survey Scientific Investigations Report 2004-5075, 138p. ](http://54.243.252.9/ce-3354-webroot/3-Readings/EmpiricalHyetographs/sir2004-5075.pdf)\n",
    "\n",
    "7. [HEC-19 (old)](https://www.fhwa.dot.gov/engineering/hydraulics/pubs/hec/hec19.pdf)\n",
    "\n",
    "7. [HEC-19 (Updated)](https://www.fhwa.dot.gov/engineering/hydraulics/pubs/hif23050.pdf)\n",
    "\n",
    "8. [McCabe, K. (2022) \"Rain, sleet or snow?\" Royal Meterological Society](https://www.rmets.org/metmatters/rain-sleet-or-snow)"
   ]
  },
  {
   "cell_type": "markdown",
   "metadata": {},
   "source": [
    "## Videos"
   ]
  },
  {
   "cell_type": "markdown",
   "metadata": {},
   "source": [
    "## Outline\n",
    "- Forms of Precipitation \n",
    "  - Weather Systems for Precipitation \n",
    "- Measurement of Precipitation \n",
    "  - Raingauge Networks\n",
    "- Data Preparation \n",
    "  - Presentation of Rainfall Data\n",
    "  - Mean Precipitation Over An Area \n",
    "- Depth-Area-Duration Relationships\n",
    "  - Frequency of Point Rainfall\n",
    "  - Intensity/Depth-Duration-Frequency Relationship\n",
    "- Probable Maximum Precipitation (PMP) \n",
    "- World’s Greatest Observed Rainfalls"
   ]
  },
  {
   "cell_type": "markdown",
   "metadata": {},
   "source": [
    "## Missing Data Replacement Techniques\n",
    "\n",
    "In the estimation of missing data from a raingauge station, performance of a group of\n",
    "neighbouring stations including the one with missing data are considered. A comparison\n",
    "of the recordings of these stations are made by using their normal rainfall as standard\n",
    "of comparison. The normal rainfall is the average value of rainfall at a particular date,\n",
    "month or year over a specified 30-year period. The 30-year normal is recomputed every\n",
    "decade. Thus, the term normal annual precipitation at a station A means the average annual precipitation at station A based on a specified 30-year of record. Insertion of\n",
    "missing data to a station record must be done sparingly. If too many data are estimated,\n",
    "the quality of the total data set may be diluted due to interpolation. sometimes, if too\n",
    "many gaps exist in a record, it may be worthwhile to neglect that station than to have\n",
    "a station record with too much of interpolated data. A WMO guideline states that not\n",
    "more than 5 to 10% of a record should have interpolated data.\n",
    "\n",
    "\n",
    "**Missing Data Estimation Procedure**<br>\n",
    "*Problem Statement*<br>\n",
    "Given the annual precipitation values $P_1, P_2, P_3,\\dots ,P_m$ at neighbouring $M$ stations $1, 2, 3, \\dots, M$ respectively, estimate the missing annual precipitation $P_x$ at station $X$ not included in the above $M$ stations. The normal annual precipitations $N_1, N_2,\\dots,N_i, \\dots$ at each of the above ($M+1$) stations, including station $X$, are known.\n",
    "\n",
    "*Procedure*<br>\n",
    "- If the normal annual precipitations at various stations are within about 10\\% of the normal annual precipitation at station X then the station-average method (arithmetic mean) is sufficient to estimate $P_x$. Thus,\n",
    "$P_x = \\frac{1}{M}(P_1 + P_2 + \\dots + P_M)$\n",
    "- If the normal annual precipitations vary considerably then $P_x$ is estimated by weighing the precipitation at various stations by the ratios of normal annual precipitations. This method, known as the normal ratio method, gives $P_x$ as\n",
    "$P_x = \\frac{N_x}{M}(\\frac{P_1}{N_1} + \\frac{P_2}{N_2} + \\dots + \\frac{P_M}{N_M})$"
   ]
  },
  {
   "cell_type": "markdown",
   "metadata": {},
   "source": [
    "## Example\n",
    "The **normal** annual rainfall at stations A, B, C and D in a basin are 80.97, 67.59, 76.28 and 92.01 cm respectively. In 1985, the station D was inoperative and the stations A, B and C recorded annual precipitation of 91.11, 72.23 and 79.89 cm respectively. Estimate\n",
    "the rainfall at station D in that year\n",
    "\n",
    "> Using ENGR 1330 methods, a rudimentary python program could be:"
   ]
  },
  {
   "cell_type": "code",
   "execution_count": 1,
   "metadata": {},
   "outputs": [],
   "source": [
    "# Missing Precipitation Estimation\n",
    "def station_average(precip_known):\n",
    "    ''' precip_known is known stations data as a list'''\n",
    "    how_many = len(precip_known)\n",
    "    station_average = sum(precip_known)/float(how_many)\n",
    "    return station_average\n",
    "def normal_ratio(precip_known,normal_all):\n",
    "    ''' precip_known is known stations data as a list\n",
    "        normal_all is all stations normal rainfall depths\n",
    "        missing station is assumed last element in normal_all list'''\n",
    "    how_many = len(precip_known)  \n",
    "    nr = [0 for i in range(how_many)]\n",
    "    for i in range(how_many):\n",
    "        nr[i]=precip_known[i]/normal_all[i]\n",
    "    normal_average = (sum(nr)/float(how_many))*normal_all[-1]\n",
    "    return normal_average"
   ]
  },
  {
   "cell_type": "code",
   "execution_count": 2,
   "metadata": {},
   "outputs": [
    {
     "name": "stdout",
     "output_type": "stream",
     "text": [
      "Use Normal Ratio Method\n",
      "Missing Depth :  99.41  cm\n"
     ]
    }
   ],
   "source": [
    "# Input Data\n",
    "precip_known = [91.11, 72.23, 79.89]\n",
    "normal_all = [80.97, 67.59, 76.28, 92.01] \n",
    "# Find differences for normal values\n",
    "diff = [0 for i in range(len(normal_all)-1)]\n",
    "for i in range(len(diff)):\n",
    "    diff[i]=normal_all[-1]-normal_all[i] # raw difference assume last entry is missing station\n",
    "percent_max = 100.0*max(diff)/normal_all[-1]\n",
    "if percent_max <=10.0:\n",
    "    missing_pee = station_average(precip_known)\n",
    "    print(\"Use Station Average Method\")\n",
    "    print(\"Missing Depth : \",round(missing_pee,2),\" cm\")\n",
    "else:\n",
    "    missing_pee = normal_ratio(precip_known,normal_all)\n",
    "    print(\"Use Normal Ratio Method\")\n",
    "    print(\"Missing Depth : \",round(missing_pee,2),\" cm\")\n"
   ]
  },
  {
   "cell_type": "markdown",
   "metadata": {},
   "source": [
    "### Readings\n",
    "1. [PAULHUS, J. L. H. , and M. A. KOHLER. \"INTERPOLATION OF MISSING PRECIPITATION RECORDS\". Monthly Weather Review 80.8 (1952): 129-133.](http://54.243.252.9/ce-5361-webroot/3-Readings/NormalRatioMethod/mwr-080-08-0129.pdf)\n",
    "2. [Missing Rainfall Data Replacement Techniques](http://54.243.252.9/ce-5361-webroot/3-Readings/MissingRainfallData/MissingRainfallData.pdf)"
   ]
  },
  {
   "cell_type": "markdown",
   "metadata": {},
   "source": []
  },
  {
   "cell_type": "code",
   "execution_count": null,
   "metadata": {},
   "outputs": [],
   "source": []
  }
 ],
 "metadata": {
  "kernelspec": {
   "display_name": "Python 3",
   "language": "python",
   "name": "python3"
  },
  "language_info": {
   "codemirror_mode": {
    "name": "ipython",
    "version": 3
   },
   "file_extension": ".py",
   "mimetype": "text/x-python",
   "name": "python",
   "nbconvert_exporter": "python",
   "pygments_lexer": "ipython3",
   "version": "3.8.10"
  }
 },
 "nbformat": 4,
 "nbformat_minor": 4
}