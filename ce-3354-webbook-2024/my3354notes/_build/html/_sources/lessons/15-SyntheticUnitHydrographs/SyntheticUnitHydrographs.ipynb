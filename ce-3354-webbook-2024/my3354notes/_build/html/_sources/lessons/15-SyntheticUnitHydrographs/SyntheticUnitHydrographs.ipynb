{
 "cells": [
  {
   "cell_type": "markdown",
   "metadata": {},
   "source": [
    "# 15. Unit Hydrographs - II (Synthesis)"
   ]
  },
  {
   "cell_type": "markdown",
   "metadata": {},
   "source": [
    ":::{admonition} Course Website\n",
    "[link to webster](http://54.243.252.9/ce-3354-webroot/)\n",
    ":::\n",
    "\n"
   ]
  },
  {
   "cell_type": "markdown",
   "metadata": {},
   "source": [
    "## Readings\n",
    "\n",
    "1. [Gupta, R.S., 2017. Hydrology and Hydraulic Systems, pp. 362-378](https://www.waveland.com/browse.php?t=384)\n",
    "\n",
    "2. [Chow, V.T., Maidment,D.M., and Mays, L.W. (1998) Applied Hydrology, McGraw Hill, pp. 221-242](http://54.243.252.9/ce-3354-webroot/3-Readings/CMM1988/) \n",
    "\n",
    "3. [McCuen, R.H., Johnson, P.A., and Ragan, R.M. (2002) Highway Hydrology. HDS-2 (2ed) FHWA-NHI-02-001 (Read Chapter 6)](http://54.243.252.9/ce-3354-webroot/3-Readings/FHWAHighwayHydrology/FHWA-NHI-02-001.pdf)\n",
    "\n",
    "4. [Texas Hydraulic Design Manual (2014-1) Texas Department of Transportation. (2014) Hydraulic Design Manual (Read pages XX-X to XX-X)](http://54.243.252.9/ce-3354-webroot/3-Readings/TXDOT-HYDM-2014/txdot-hdm-2014.pdf)\n",
    "\n",
    "5. [Linear Theory of Hydrologic Systems Dooge, J.C. I. (1973) Linear Theory of Hydrologic Systems. USDA ARS Technical Bulletin No. 1468. (Read pages 75-98)](http://54.243.252.9/ce-3354-webroot/3-Readings/LS1973/linear-systems-hydrology-dooge.pdf)\n",
    "\n",
    "1. [Sherman, L. (1932) “Stream Flow from Rainfall by the Unit Graph Method,” Engineering News Record, No. 108, pp. 501-505. ](http://54.243.252.9/ce-3354-webroot/3-Readings/ShermanUH/Sherman_ENR_1932.pdf)\n",
    "\n",
    "2. [Lienhard, J. H. (1964), A statistical mechanical prediction of the dimensionless unit hydrograph, J. Geophys. Res., 69(24), pp. 5231–5238](http://54.243.252.9/ce-3354-webroot/3-Readings/LeinhardDUH/1964-StatMechDimUnitHydrograph.pdf)\n",
    "\n",
    "3. [Lienhard, John. (1972). Prediction of the dimensionless unit hydrograph. Nordic Hydrology. 3. pp. 107-109 ](http://54.243.252.9/ce-3354-webroot/3-Readings/LeinhardPredDUH/1972-PredDimUnitHydrograph.pdf)\n",
    "\n",
    "6. [Cleveland, T.G. He, X., Asquith, W.H., Fang, X., and D.B. Thompson. (2006) \"Instantaneous Unit Hydrograph Evaluation for Rainfall-Runoff Modeling of Small Watersheds in North and South Central Texas.\" ASCE, Journal of Irrigation and Drainage, Vol. 132, No. 5, pp. 479-485.](https://ascelibrary.org/doi/epdf/10.1061/%28ASCE%290733-9437%282006%29132%3A5%28479%29)\n",
    "\n",
    "7. [Cleveland, T.G., Thompson, D.B., Fang, X., and He, X. (2008) Synthesis of Unit Hydrographs from a Digital Elevation Model ASCE, Journal of Irrigation and Drainage Engineering, Vol. 134, No. 2, pp 212-221](https://ascelibrary.org/doi/epdf/10.1061/%28ASCE%290733-9437%282008%29134%3A2%28212%29)\n",
    "\n",
    "8. [Cleveland T. G., X. Fang, and Thompson D. B., (2006).  “Timing Parameter Estimation Using a Particle Tracking Method.”  Research Report 0-4696-3, Department of Civil Engineering, University of Houston, Houston, Texas 77204.](http://54.243.252.9/ce-5361-webroot/3-Readings/0-4696-3.pdf)\n",
    "\n",
    "8. [Brutsaert, W. (2023) Hydrology: An Introduction: pp. 475-509 (Chapter 12 in Physical, Kindle, and linked versions)](http://54.243.252.9/ce-5361-webroot/3-Readings/00HydrologyAnIntroduction/1096-1.pdf)\n",
    "\n",
    "6. [Cleveland, T. G. (2015) *Surface Water Hydrology Notes (Unit-Hydrographs Analysis) to accompany CE-3354*, Department of Civil, Environmental, and Construction Engineering, Whitacre College of Engineering.](http://54.243.252.9/ce-3354-webroot/1-Lectures-2017/Lecture13.pdf)\n",
    "\n",
    "7. [Cleveland, T. G. (2017) *Surface Water Hydrology Notes (Unit-Hydrographs in HEC-HMS) to accompany CE-3354*, Department of Civil, Environmental, and Construction Engineering, Whitacre College of Engineering.](http://54.243.252.9/ce-3354-webroot/1-Lectures-2017/Lecture14.pdf)"
   ]
  },
  {
   "cell_type": "markdown",
   "metadata": {},
   "source": [
    "## Videos\n",
    "\n",
    "1. [Unit Hydrograph and Proportionality](https://www.youtube.com/watch?v=XofeIB1v7s0)\n",
    "9. [Design Storm Excess Precipitation Method](https://www.youtube.com/watch?v=Kr4jnIulaiU)\n",
    "10. [S-Hydrograph (for Time-Shifting)](https://www.youtube.com/watch?v=wSvFrX48JOo)\n",
    "11. [Synthetic Unit Hydrograph](https://www.youtube.com/watch?v=KA0yeTIoXuM)\n",
    "12. [Unit Hydrographs and Snyder Synthetic Unit Hydrograph](https://www.youtube.com/watch?v=5WJ2A7UVnrE)\n",
    "13. [Snyder Unit Hydrograph (HEC-HMS training video)](https://www.youtube.com/watch?v=ZuSj53-H8eY)\n",
    "14. [Construction of CWC (regional synthetic hydrograph) and Dimensionless Hydrograph](https://www.youtube.com/watch?v=Pqj7FH-zJUM)\n"
   ]
  },
  {
   "cell_type": "markdown",
   "metadata": {},
   "source": [
    "## Spreadsheets\n",
    "\n",
    "Listed below are spreadsheets that implement simple UH examples.  They are Excel (circa 2009) spreadsheets, that work in current Excel, LibreOffice, and Numbers environments\n",
    "1. [ExampleUH_BackSub1.xls](http://54.243.252.9/ce-3354-webroot/5-Spreadsheets/UnitHydrographs/ExampleUH_BackSub1.xls)\n",
    "2. [ExampleUH_BackSub2.xls](http://54.243.252.9/ce-3354-webroot/5-Spreadsheets/UnitHydrographs/ExampleUH_BackSub2.xls)\n",
    "3. [ExampleUH_LeastSquares.xls](http://54.243.252.9/ce-3354-webroot/5-Spreadsheets/UnitHydrographs/ExampleUH_LeastSquares.xls)\n",
    "4. [ExampleUH_TransferFn.xls](http://54.243.252.9/ce-3354-webroot/5-Spreadsheets/UnitHydrographs/ExampleUH_TransferFn.xls)\n",
    "5. [ExtendedBase_DifferentStorm.xls](http://54.243.252.9/ce-3354-webroot/5-Spreadsheets/UnitHydrographs/ExtendedBase_DifferentStorm.xls)\n",
    "6. [ExtendedBase.xls](http://54.243.252.9/ce-3354-webroot/5-Spreadsheets/UnitHydrographs/ExtendedBase.xls)\n"
   ]
  },
  {
   "cell_type": "markdown",
   "metadata": {},
   "source": [
    "Synthetic unit hydrographs are theoretical models used in hydrology to estimate the response of a watershed to a unit of rainfall excess when direct measurements are not available. Unlike traditional unit hydrographs, which are derived from observed streamflow data, synthetic unit hydrographs are developed using empirical relationships and mathematical formulations based on the physical and climatic characteristics of a watershed.\n",
    "\n",
    "- Purpose and Application: <br> Synthetic unit hydrographs are employed when observed data is scarce or unavailable, particularly for ungauged basins. They provide a means to estimate peak discharge and flow characteristics for hydrological modeling, flood forecasting, and hydraulic design, such as the sizing of culverts, bridges, and other infrastructure.\n",
    "\n",
    "- Development Methodologies: <br> Several methodologies can be used to create synthetic unit hydrographs, often based on regional studies, empirical formulas, and dimensionless unit hydrographs. Common methods include:\n",
    "\n",
    "1. Snyder's Method (RSG pp. 363-366): Uses empirical formulas to relate the characteristics of the hydrograph to watershed properties like area, length of the main stream, and slope.\n",
    "2. SCS Dimensionless Unit Hydrograph (RSG pp.367-371): Developed by the Soil Conservation Service (now the NRCS), this method uses a dimensionless hydrograph shape that can be scaled based on watershed properties and peak flow calculations.\n",
    "3. Time-Area Methods (RSG pp. 257-258): Involves dividing the watershed into zones based on travel time to the outlet, which is then used to develop the shape of the unit hydrograph. <br> - [Clark UH](https://help.innovyze.com/space/infoswmm/17598667/Clark+Unit+Hydrograph+Method)<br> -  [Equations for Estimating Clark Unit-Hydrograph Parameters for Small Rural Watersheds in Illinois](https://pubs.usgs.gov/wri/2000/4184/wrir00_4184.pdf)  <br>  - [Cleveland T. G., X. Fang, and Thompson D. B., (2006).  “Timing Parameter Estimation Using a Particle Tracking Method.”  Research Report 0-4696-3, Department of Civil Engineering, University of Houston, Houston, Texas 77204.](http://54.243.252.9/ce-5361-webroot/3-Readings/0-4696-3.pdf) <br> - [Cleveland, T.G., Thompson, D.B., Fang, X., and He, X. (2008) Synthesis of Unit Hydrographs from a Digital Elevation Model ASCE, Journal of Irrigation and Drainage Engineering, Vol. 134, No. 2, pp 212-221](https://ascelibrary.org/doi/epdf/10.1061/%28ASCE%290733-9437%282008%29134%3A2%28212%29)\n",
    "\n",
    "- Parameters and Characteristics: <br> Synthetic unit hydrographs are characterized by parameters such as time-to-peak, peak flow rate, base time, and recession limb. These parameters are often estimated using relationships involving watershed characteristics such as area, slope, and land use.\n",
    "\n",
    "- Advantages: <br> Simplicity and Accessibility: Synthetic methods provide a straightforward way to estimate hydrologic responses without requiring extensive field data.<br> Adaptability: They can be applied to a wide range of watersheds and can be adjusted to reflect local conditions.<br> Utility in Planning: Useful in the early stages of project planning and for preliminary design purposes.\n",
    "\n",
    "- Limitations: <br> Generalization: Being based on empirical relationships, synthetic unit hydrographs may not accurately capture the unique hydrological responses of all watersheds, especially in complex or highly heterogeneous terrains. <br> Parameter Estimation: The accuracy of synthetic unit hydrographs depends on the correct estimation of parameters, which can be challenging without field data.\n",
    "\n",
    "Synthetic unit hydrographs are valuable tools in hydrology for estimating streamflow responses in ungauged or data-sparse regions. They offer a practical alternative for preliminary assessments and design applications. By combining synthetic hydrographs with local knowledge and regional studies, hydrologists can make informed decisions in water resource management and infrastructure development."
   ]
  },
  {
   "cell_type": "markdown",
   "metadata": {},
   "source": [
    ":::{note}\n",
    "Synthesis does not require rainfall-runoff data. It uses measurements on the watershed to postulate parameters of a parametric unit hydrograph.  Consider the [modified rational method](http://54.243.252.9/ce-3354-webroot/ce-3354-webbook-2024/my3354notes/_build/html/lessons/13-RationalModifiedRational/RationalAndModifiedRationalMethod.html#modified-rational-method) as an overly simplified implementation.  The measurements used are time of concentration usually based on some slope, roughness and distance; these play the transfer function role, the product of area and runoff coeffient plays the role of a loss model.  The rainfall intensity is the input. $CAi$ is the excess precipitation. The unit response is simply a rectangular pulse (square wave) that is $T_c$ units in duration.     \n",
    ":::"
   ]
  },
  {
   "cell_type": "markdown",
   "metadata": {},
   "source": [
    "## Parametric Unit Hydrographs (in HEC-HMS)\n",
    "\n",
    "HEC-HMS has several different UH models available (eg. NRCS DUH, Clark, etc.).\n",
    "These models are described by “parameters” \n",
    "- NRCS (Tp or Tc)\n",
    "- Clark (Tc, R)\n",
    "Selection of the parameters selects the shape of the UH and the time base (or time to peak).\n",
    "The analyst can also enter an empirical (user specified) unit hydrograph.\n",
    "\n",
    "Useful parametric models along with their parameters include:\n",
    "\n",
    "- NRCS DUH : Tlag (Timing only) (RSG pp. 367-370)\n",
    "- Clark : Tc, and R (Timing and a storage-delay) \n",
    "- Snyder : Tlag, Cp (Timing and a peak rate factor) (RSG pp. 363-367)\n",
    "- Gamma : (User-Specified) Tc, K (Timing and a shape factor)\n",
    "\n",
    ":::{note}\n",
    "Analysis uses data (rainfall and runoff observations) to develop unit hydrograph models. Choices include:\n",
    "\n",
    "Follow FHWA methods \n",
    "- Essentially back-substitution or OLS\n",
    "\n",
    "Use HEC-HMS and parametric UH, adjust values of parameters to fit observed runoff\n",
    "- Less tedious than back-substitution or OLS\n",
    "\n",
    "Use HEC-HMS and a user supplied UH, adjust values of UH ordinates (and re-scale to maintain a unit response) to fit observed runoff\n",
    "- Less tedious than back-substitution or OLS\n",
    ":::\n",
    "\n",
    ":::{admonition} Linear Quasi-Distributed Runoff Transform (ModClark) Model\n",
    "The Linear Quasi-Distributed Runoff Transform, commonly referred to as the ModClark model, is an advanced method for simulating the transformation of rainfall into runoff within a watershed. It is an extension of the Clark Unit Hydrograph method, integrating the concepts of spatial variability and distributed hydrologic response.\n",
    "**Key Features:**\n",
    "\n",
    "- Spatial Variability: Unlike traditional lumped models that treat the watershed as a single unit, the ModClark model incorporates spatial variability by dividing the watershed into multiple grid cells. Each grid cell has unique hydrologic properties, allowing for a more detailed and realistic representation of the watershed's response to rainfall.\n",
    "\n",
    "- Grid-Based Approach: The watershed is discretized into a grid, where each cell's excess rainfall is computed and routed to the watershed outlet. The routing is done using a combination of translation (movement of water from one cell to another) and storage (delays in flow due to channel and overland flow characteristics).\n",
    "\n",
    "- Rainfall Distribution: The ModClark model can account for non-uniform rainfall distribution across the watershed. This is particularly useful for large or complex watersheds where precipitation may vary significantly in space.\n",
    "\n",
    "- Time-Area Concept: The model employs a time-area histogram, similar to the Clark Unit Hydrograph method, to represent the travel time distribution of water from different parts of the watershed to the outlet. The time-area curve is derived from the grid structure and flow path characteristics.\n",
    "\n",
    "- Linear Reservoir Concept: The model uses a linear reservoir approach to simulate storage and attenuation effects. The linear reservoir coefficient and time of concentration are key parameters that influence the shape and timing of the runoff hydrograph.\n",
    "\n",
    "**Applications:**\n",
    "\n",
    "The ModClark model is particularly useful in situations where spatial variability in rainfall and watershed characteristics play a significant role in the runoff response. It is often used for:\n",
    "\n",
    "- Flood forecasting and floodplain management.\n",
    "- Urban hydrology, where impervious surfaces and drainage networks create complex runoff patterns.\n",
    "- Watershed management and planning, where detailed understanding of hydrologic processes is required.\n",
    "\n",
    "**Advantages:**\n",
    "\n",
    "- Enhanced Accuracy: By accounting for spatial variability and detailed hydrologic response, the ModClark model provides a more accurate representation of runoff generation and routing compared to lumped models.\n",
    "- Flexibility: The model can be adapted to various scales and complexities of watersheds, making it a versatile tool for hydrologists.\n",
    "\n",
    "**Limitations:**\n",
    "\n",
    "- Data Requirements: The model requires detailed spatial data for accurate representation, including grid-based rainfall, land cover, and topography.\n",
    "- Computational Demand: The grid-based approach and detailed routing is **computationally intensive**, especially for large watersheds or long simulation periods.\n",
    ":::\n",
    "\n",
    "## Example 1\n",
    "\n",
    "Work the example(s) below:\n",
    "\n",
    "[Cleveland, T. G. (2017) *Surface Water Hydrology Notes (Unit-Hydrographs in HEC-HMS) to accompany CE-3354*, Department of Civil, Environmental, and Construction Engineering, Whitacre College of Engineering. Go to Slide 32](http://54.243.252.9/ce-3354-webroot/1-Lectures-2017/Lecture14.pdf)\n",
    "\n",
    "A fully provisioned Windows Implementation of HEC-HMS is located at:\n",
    "\n",
    "- server_name: **kittyinthewindow.ddns.net**\n",
    "- user_name: **texas-skew**\n",
    "- passwd: **peakfq73$hare**\n",
    "\n",
    "Users must access using Remote Desktop Protocol (Built into Windows, Apple Store has a free Mac application).\n",
    "\n",
    "Example powerpoint [DES-606-EX6](http://54.243.252.9/ce-3354-webroot/ce3354book/lessons/lesson10/Example6.ppt)\n",
    "\n",
    "Data Files for Examples:\n",
    "\n",
    "1. [Example7.xls (Same as in Notes Above)](http://54.243.252.9/ce-3354-webroot/ce3354book/lessons/lesson10/Example7.xls)\n",
    "1. [Precipitation data for Ash Creek 1972 5 October Storm (Elapsed time)](http://54.243.252.9/ce-3354-webroot/ce3354book/lessons/lesson10/RAIN-19721005-RR.xls)\n",
    "2. [Runoff data for Ash Creek 1972 5 October Storm (Elapsed time)](http://54.243.252.9/ce-3354-webroot/ce3354book/lessons/lesson10/FLOW-19721005-RR.xls)\n",
    "3. [Initial Abstraction - Constant Loss Worksheets](http://54.243.252.9/ce-3354-webroot/ce3354book/lessons/lesson10/InitialAbstractionConstantLossModel.xls)\n",
    "4. [Ash Creek 1978 21 May Storm](http://54.243.252.9/ce-3354-webroot/ce3354book/lessons/lesson10/STA08057320_HECHMSFORMAT_1978-0521.xls)\n",
    "\n",
    "## Example 2\n",
    "\n",
    "Same as above, but using the Digital Terrain Runoff Model (DTRM) Approach as described in \n",
    "\n",
    "- [Cleveland, T.G., Thompson, D.B., Fang, X., and He, X. (2008) Synthesis of Unit Hydrographs from a Digital Elevation Model ASCE, Journal of Irrigation and Drainage Engineering, Vol. 134, No. 2, pp 212-221](https://ascelibrary.org/doi/epdf/10.1061/\\%28ASCE%290733-9437\\%282008\\%29134\\%3A2\\%28212\\%29) \n",
    "\n",
    "- [Cleveland T. G., X. Fang, and Thompson D. B., (2006).  “Timing Parameter Estimation Using a Particle Tracking Method.”  Research Report 0-4696-3, Department of Civil Engineering, University of Houston, Houston, Texas 77204.](http://54.243.252.9/ce-5361-webroot/3-Readings/0-4696-3.pdf))\n",
    "\n",
    "The original FORTRAN and recently ported JupyterLab code is stored at [GitHub DTRM-P](https://github.com/dustykat/DTRM-P).  Because the run time is several hours, the code is not displayed in this book.\n",
    "\n",
    ":::{note}\n",
    "DTRM-P is an experimental tool, similar in intent as [Geo-HMS](https://www.hec.usace.army.mil/software/hec-geohms/).  It was orginally created in response to being denied access to source code to [GSSHA](https://www.erdc.usace.army.mil/Media/Fact-Sheets/Fact-Sheet-Article-View/Article/476714/gridded-surface-subsurface-hydrologic-analysis/) another tool with same end goals in mind.  Professional tools that work the same are [Geo-HMS](https://www.hec.usace.army.mil/software/hec-geohms/) and [TOPMODEL](https://pubs.usgs.gov/publication/wri934124)\n",
    ":::\n"
   ]
  },
  {
   "cell_type": "markdown",
   "metadata": {},
   "source": [
    "## Section End"
   ]
  },
  {
   "cell_type": "code",
   "execution_count": null,
   "metadata": {},
   "outputs": [],
   "source": []
  }
 ],
 "metadata": {
  "kernelspec": {
   "display_name": "Python 3",
   "language": "python",
   "name": "python3"
  },
  "language_info": {
   "codemirror_mode": {
    "name": "ipython",
    "version": 3
   },
   "file_extension": ".py",
   "mimetype": "text/x-python",
   "name": "python",
   "nbconvert_exporter": "python",
   "pygments_lexer": "ipython3",
   "version": "3.8.10"
  }
 },
 "nbformat": 4,
 "nbformat_minor": 4
}
