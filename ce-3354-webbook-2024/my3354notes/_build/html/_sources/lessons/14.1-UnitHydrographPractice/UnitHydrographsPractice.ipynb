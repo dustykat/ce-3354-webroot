{
 "cells": [
  {
   "cell_type": "markdown",
   "metadata": {},
   "source": [
    "# 14.1 Unit Hydrograph Applications Exercise(s)\n",
    "\n",
    ":::{admonition} Course Website\n",
    "[http://54.243.252.9/ce-3354-webroot/](http://54.243.252.9/ce-3354-webroot/)\n",
    ":::"
   ]
  },
  {
   "cell_type": "markdown",
   "metadata": {},
   "source": [
    "## Readings\n",
    "\n",
    "1. [Gupta, R.S., 2017. Hydrology and Hydraulic Systems, pp. 337-361](https://www.waveland.com/browse.php?t=384)\n",
    "\n",
    "2. [Chow, V.T., Maidment,D.M., and Mays, L.W. (1998) Applied Hydrology, McGraw Hill, pp. 201-221](http://54.243.252.9/ce-3354-webroot/3-Readings/CMM1988/) \n",
    "\n",
    "3. [McCuen, R.H., Johnson, P.A., and Ragan, R.M. (2002) Highway Hydrology. HDS-2 (2ed) FHWA-NHI-02-001 (Read Chapter 6, Section 6.1)](http://54.243.252.9/ce-3354-webroot/3-Readings/FHWAHighwayHydrology/FHWA-NHI-02-001.pdf)\n",
    "\n",
    "4. [Texas Hydraulic Design Manual (2014-1) Texas Department of Transportation. (2014) Hydraulic Design Manual (Read pages XX-X to XX-X)](http://54.243.252.9/ce-3354-webroot/3-Readings/TXDOT-HYDM-2014/txdot-hdm-2014.pdf)\n",
    "\n",
    "5. [Linear Theory of Hydrologic Systems Dooge, J.C. I. (1973) Linear Theory of Hydrologic Systems. USDA ARS Technical Bulletin No. 1468. (Read pages XXX to XXX)](http://54.243.252.9/ce-3354-webroot/3-Readings/LS1973/linear-systems-hydrology-dooge.pdf)\n",
    "\n",
    "6. [Cleveland, T. G. (2015) *Surface Water Hydrology Notes (Unit-Hydrographs Analysis) to accompany CE-3354*, Department of Civil, Environmental, and Construction Engineering, Whitacre College of Engineering.](http://54.243.252.9/ce-3354-webroot/1-Lectures-2017/Lecture13.pdf)\n",
    "\n",
    "7. [Cleveland, T. G. (2017) *Surface Water Hydrology Notes (Unit-Hydrographs in HEC-HMS) to accompany CE-3354*, Department of Civil, Environmental, and Construction Engineering, Whitacre College of Engineering.](http://54.243.252.9/ce-3354-webroot/1-Lectures-2017/Lecture14.pdf)"
   ]
  },
  {
   "cell_type": "markdown",
   "metadata": {},
   "source": [
    "## Videos\n",
    "\n",
    "1. [Hydrographs](https://www.youtube.com/watch?v=FGdy_xIaH_Y)\n",
    "2. [How to Interpret a Storm Hydrograph](https://www.youtube.com/watch?v=uWDP9vl13cU)\n",
    "3. [Unit Hydrographs Part 1](https://www.youtube.com/watch?v=aDaOFf0IrTE)\n",
    "4. [Unit Hydrographs Part 2](https://www.youtube.com/watch?v=4f6Hs666dUY)\n",
    "5. [Baseflow Separation](https://www.youtube.com/watch?v=Qw_oPqPhJLs)\n",
    "6. [Baseflow Recession and Hydrologic Equation](https://www.youtube.com/watch?v=olectEAy0Z8)\n",
    "7. [Hydrograph Recession](https://www.youtube.com/watch?v=CykDj1SGGF8&list=PLOO0MwGL5EDLXNfeyRrsj9YZhYk-_BGmD&index=42)\n",
    "8. [Unit Hydrograph and Proportionality](https://www.youtube.com/watch?v=XofeIB1v7s0)\n",
    "9. [Design Storm Excess Precipitation Method](https://www.youtube.com/watch?v=Kr4jnIulaiU)\n",
    "10. [S-Hydrograph (for Time-Shifting)](https://www.youtube.com/watch?v=wSvFrX48JOo)\n"
   ]
  },
  {
   "cell_type": "markdown",
   "metadata": {},
   "source": [
    "## Spreadsheets\n",
    "\n",
    "Listed below are spreadsheets that implement simple UH examples.  They are Excel (circa 2009) spreadsheets, that work in current Excel, LibreOffice, and Numbers environments\n",
    "1. [ExampleUH_BackSub1.xls](http://54.243.252.9/ce-3354-webroot/5-Spreadsheets/ExampleUH_BackSub1.xls)\n",
    "2. [ExampleUH_BackSub2.xls](http://54.243.252.9/ce-3354-webroot/5-Spreadsheets/ExampleUH_BackSub2.xls)\n",
    "3. [ExampleUH_LeastSquares.xls](http://54.243.252.9/ce-3354-webroot/5-Spreadsheets/ExampleUH_LeastSquares.xls)\n",
    "4. [ExampleUH_TransferFn.xls](http://54.243.252.9/ce-3354-webroot/5-Spreadsheets/ExampleUH_TransferFn.xls)\n",
    "5. [ExtendedBase_DifferentStorm.xls](http://54.243.252.9/ce-3354-webroot/5-Spreadsheets/ExtendedBase_DifferentStorm.xls)\n",
    "6. [ExtendedBase.xls](http://54.243.252.9/ce-3354-webroot/5-Spreadsheets/ExtendedBase.xls)\n"
   ]
  },
  {
   "cell_type": "markdown",
   "metadata": {},
   "source": [
    "## Outline\n",
    "\n",
    "- Exercise 1 Construct DRH graphically and/or using a spreadsheet\n",
    "- Exercise 2 Construct DRH using spreadsheet for several different conditions\n",
    "\n",
    "---"
   ]
  },
  {
   "cell_type": "markdown",
   "metadata": {},
   "source": [
    "Typical Workflow:\n",
    "    \n",
    "1. UH is usually for 1-hr **excess precipitation**.  Check the stated duration of the input (not the time base of the hydrograph, thats a different beast)\n",
    "2. Is the hyetograph in 1-hr increments?  \n",
    "  - Yes, proceed to step 3\n",
    "  - No, convert supplied hyetograph into equivalent 1-hr increments (or whatever is dictated by the UH), return to beginning step 2\n",
    "3. Has the loss function been applied?\n",
    "  - Yes, proceed to step 4\n",
    "  - No, apply loss function to each hyetograph increment, return to beginning step 3\n",
    "4. On suitable chart (or in a spreadsheet, or in a script) plot each increment's response onto the chart - remember to lag the responses consistent with the increment timing.\n",
    "5. Add up the responses for each time of interest (vertical additions if you will).  This result is the direct runoff hydrograph (DRH)."
   ]
  },
  {
   "cell_type": "markdown",
   "metadata": {},
   "source": [
    "## Exercise 1\n",
    "\n",
    "Determine the direct runoff hydrograph resulting from the rainfall pattern in Figure P2-2(a) using the triangular 1-hr UH given in  Fig. P2-2(b)\n",
    "\n",
    "![](Raro001.png)"
   ]
  },
  {
   "cell_type": "markdown",
   "metadata": {},
   "source": [
    "![](BlankChart.png)"
   ]
  },
  {
   "cell_type": "markdown",
   "metadata": {},
   "source": [
    "Here's a spreadsheet approach\n",
    "\n",
    "![](ss14.1-1.png)\n",
    "\n",
    "1. [14.1-Spreadsheet](http://54.243.252.9/ce-3354-webroot/ce-3354-webbook-2024/my3354notes/lessons/14.1-UnitHydrographPractice/UH-INCLASS.xlsx) Choose TabSheet 14.1-1\n",
    "\n",
    "---"
   ]
  },
  {
   "cell_type": "markdown",
   "metadata": {},
   "source": [
    "## Exercise 2.\n",
    "\n",
    "Consider the watershed below.  Area A and B are identical in size, shape, slope, and channel length. 1-hr UH are supplied fro natural and developed conditions for both areas.\n",
    "\n",
    "![](Watershed.png)  \n",
    "\n",
    "\n",
    "![](UHTable.png)\n",
    "\n",
    "Determine:\n",
    "1. Assuming natural conditions for both areas determine the outflow at point 1 if 2.5 in.hr of rain falls for 2 hrs.  Total loss is 1 in.\n",
    "2. Assume area B is fully developed, area A remains au naturel.  Determine the outflow at point 1 if 2.0 in/hr of **excess rain** falls for 1 hrs.  \n",
    "3. Repeat the above for both areas fully developed.\n",
    "\n"
   ]
  },
  {
   "cell_type": "markdown",
   "metadata": {},
   "source": [
    "![](BlankChart.png)"
   ]
  },
  {
   "cell_type": "markdown",
   "metadata": {},
   "source": [
    "![](ss14.1-2a.png)"
   ]
  },
  {
   "cell_type": "markdown",
   "metadata": {},
   "source": [
    "![](ss14.1-2b.png)"
   ]
  },
  {
   "cell_type": "markdown",
   "metadata": {},
   "source": [
    "![](ss14.1-2c.png)"
   ]
  },
  {
   "cell_type": "markdown",
   "metadata": {},
   "source": [
    "1. [14.1-Spreadsheet](http://54.243.252.9/ce-3354-webroot/ce-3354-webbook-2024/my3354notes/lessons/14.1-UnitHydrographPractice/UH-INCLASS.xlsx)  Choose TabSheets 14.1-2(a),(b), or (c)"
   ]
  },
  {
   "cell_type": "code",
   "execution_count": null,
   "metadata": {},
   "outputs": [],
   "source": []
  }
 ],
 "metadata": {
  "kernelspec": {
   "display_name": "Python 3",
   "language": "python",
   "name": "python3"
  },
  "language_info": {
   "codemirror_mode": {
    "name": "ipython",
    "version": 3
   },
   "file_extension": ".py",
   "mimetype": "text/x-python",
   "name": "python",
   "nbconvert_exporter": "python",
   "pygments_lexer": "ipython3",
   "version": "3.8.10"
  }
 },
 "nbformat": 4,
 "nbformat_minor": 4
}
