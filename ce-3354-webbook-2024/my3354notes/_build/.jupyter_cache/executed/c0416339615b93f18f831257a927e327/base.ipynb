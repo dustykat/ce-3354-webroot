{
 "cells": [
  {
   "cell_type": "code",
   "execution_count": 1,
   "metadata": {},
   "outputs": [],
   "source": [
    "# Missing Precipitation Estimation\n",
    "def station_average(precip_known):\n",
    "    ''' precip_known is known stations data as a list'''\n",
    "    how_many = len(precip_known)\n",
    "    station_average = sum(precip_known)/float(how_many)\n",
    "    return station_average\n",
    "def normal_ratio(precip_known,normal_all):\n",
    "    ''' precip_known is known stations data as a list\n",
    "        normal_all is all stations normal rainfall depths\n",
    "        missing station is assumed last element in normal_all list'''\n",
    "    how_many = len(precip_known)  \n",
    "    nr = [0 for i in range(how_many)]\n",
    "    for i in range(how_many):\n",
    "        nr[i]=precip_known[i]/normal_all[i]\n",
    "    normal_average = (sum(nr)/float(how_many))*normal_all[-1]\n",
    "    return normal_average"
   ]
  },
  {
   "cell_type": "code",
   "execution_count": 2,
   "metadata": {},
   "outputs": [
    {
     "name": "stdout",
     "output_type": "stream",
     "text": [
      "Use Normal Ratio Method\n",
      "Missing Depth :  99.41  cm\n"
     ]
    }
   ],
   "source": [
    "# Input Data\n",
    "precip_known = [91.11, 72.23, 79.89]\n",
    "normal_all = [80.97, 67.59, 76.28, 92.01] \n",
    "# Find differences for normal values\n",
    "diff = [0 for i in range(len(normal_all)-1)]\n",
    "for i in range(len(diff)):\n",
    "    diff[i]=normal_all[-1]-normal_all[i] # raw difference assume last entry is missing station\n",
    "percent_max = 100.0*max(diff)/normal_all[-1]\n",
    "if percent_max <=10.0:\n",
    "    missing_pee = station_average(precip_known)\n",
    "    print(\"Use Station Average Method\")\n",
    "    print(\"Missing Depth : \",round(missing_pee,2),\" cm\")\n",
    "else:\n",
    "    missing_pee = normal_ratio(precip_known,normal_all)\n",
    "    print(\"Use Normal Ratio Method\")\n",
    "    print(\"Missing Depth : \",round(missing_pee,2),\" cm\")\n"
   ]
  },
  {
   "cell_type": "code",
   "execution_count": null,
   "metadata": {},
   "outputs": [],
   "source": []
  }
 ],
 "metadata": {
  "kernelspec": {
   "display_name": "Python 3",
   "language": "python",
   "name": "python3"
  },
  "language_info": {
   "codemirror_mode": {
    "name": "ipython",
    "version": 3
   },
   "file_extension": ".py",
   "mimetype": "text/x-python",
   "name": "python",
   "nbconvert_exporter": "python",
   "pygments_lexer": "ipython3",
   "version": "3.8.10"
  }
 },
 "nbformat": 4,
 "nbformat_minor": 4
}