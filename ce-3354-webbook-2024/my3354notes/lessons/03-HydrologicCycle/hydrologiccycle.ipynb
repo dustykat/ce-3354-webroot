{
 "cells": [
  {
   "cell_type": "markdown",
   "metadata": {},
   "source": [
    "# 3. Hydrologic Cycle\n",
    "\n",
    ":::{admonition} Course Website\n",
    "[Link to Course Website](http://54.243.252.9/ce-3354-webroot/)\n",
    ":::\n",
    "\n"
   ]
  },
  {
   "cell_type": "markdown",
   "metadata": {},
   "source": [
    "---\n",
    "## Readings\n",
    "1. [Gupta, R.S., 2017. Hydrology and Hydraulic Systems, pp 39-46](https://www.waveland.com/browse.php?t=384)\n",
    "\n",
    "2. [Hydrologic cycle (USGS)](https://www.usgs.gov/special-topics/water-science-school/science/fundamentals-water-cycle).\n",
    "\n",
    "4. [Cleveland, T.G. (2017) Engineering Hydrology *Lecture Notes from 2017*](http://54/243.252.9/ce-3354-webroot/1-Lectures-2017/Lecture02.pdf)\n",
    "\n",
    "1. [Ojha, Chandra & Berndtsson, R. & Bhunya, P.K.. (2008). Engineering Hydrology. Chapter 1 (Local Copy from https://www.researchgate.net/publication/264895381_Engineering_hydrology)](http://54.243.252.9/ce-3354-webroot/3-Readings/EngineeringHydrology/EngineeringHydrology-11-33.pdf)  \n",
    "\n",
    "1. [Chow, V.T., Maidment, D.R., Mays, L.W., 1988, Applied Hydrology:  New York, McGraw-Hill. **pp. 1-12** ](http://54.243.252.9/ce-3354-webroot/3-Readings/CMM1988/Applied%20Hydrology%20VT%20Chow%201988.pdf) \n",
    "\n",
    "2. Brutsaert,  W.  2005.  Hydrology  :   An  Introduction  (8th  printing),  Cambridge  University Press. NewYork.\n",
    "\n",
    "3. [Dooge, J.C.I. 1973. Linear Theory of Hydrologic Systems. ARS Technical Bulletin No. 1468.US Department of Agriculture, Washington, D.C. **pp. 1-40**](http://54.243.252.9/ce-3354-webroot/3-Readings/LS1973/linear-systems-hydrology-dooge.pdf) \n",
    "\n",
    "4. [Richard H. McCuen, Peggy A. Johnson, Robert M. Ragan, 2002. Highway Hydrology; Hydraulic  Design  Series  Number  2,  Second  Edition.  Federal  Highway  Administration,  National Highway Institute, 4600 North Fairfax Drive, Suite 800, Arlington, Virginia 22203. **pp. 1-1 to 1-9**](http://54.243.252.9/ce-3354-webroot/3-Readings/FHWAHighwayHydrology/FHWA-NHI-02-001.pdf) \n",
    "\n",
    "5. [Definitions  from various sources](http://54.243.252.9/ce-3354-webroot/3-Readings/HydrologyDefinitions/hydrology-define.pdf)\n",
    "\n",
    "6. [Wisler, C.O, and Brater, E.F. 1949. \"Hydrology\" John Wiley and Sons, New York **pp. 1-14**](http://54.243.252.9/ce-3354-webroot/3-Readings/OlderHydrologyDescription/reading-definition-hydrology.pdf) \n",
    "\n",
    "7. [McCuen XXXX. Hydrologic Analysis and Design ... **pp. 2-12** ](http://54.243.252.9/ce-3354-webroot/3-Readings/McCuen-WaterBudget/mccuen-reading-water-budget.pdf)\n",
    "\n",
    "8. [Heath, R.C., 1983. Basic ground-waterhydrology: U.S. Geological Survey Water-SupplyPaper 2220, **pp. 1-5**](http://54.243.252.9/ce-3354-webroot/3-Readings/USGS-WSP2020-GroundwaterHydrology/usgs-wsp-2020.pdf) \n",
    "\n",
    "9. [Viessman,W., Knapp, J.W., Lewis, G. L., and Harbaugh, T.E. 1977. \"Groundwater Hydrology – Chapter 8\" in *Introduction to Hydrology* 2ed. IEP Publishers, New York, **pp. 291-342**](http://54.243.252.9/ce-3354-webroot/3-Readings/Groundwater-Viessman/GroundwaterHydrology.pdf) \n",
    "\n",
    "10. [Wisler, C.O, and Brater, E.F. 1949. \"Hydrology\" John Wiley and Sons, New York **pp. 198-272**](http://54.243.252.9/ce-3354-webroot/3-Readings/Groundwater-Wisler&Brater/Groundwater-Wisler.pdf) \n"
   ]
  },
  {
   "cell_type": "markdown",
   "metadata": {},
   "source": [
    "## Videos\n",
    "\n",
    "3. [Hydrologic Cycle (NSF) - YouTube Video](https://www.youtube.com/watch?v=al-do-HGuIk)\n",
    "2. [Hydrologic Cycle (YouTube)](https://www.youtube.com/watch?v=Eok9VYfesOk&list=PLXLUpwDRCVsSSeyKWT03rLb6X9DbqHsSX&index=1)\n",
    "3. [What is Hydrology? (YouTube)](https://www.youtube.com/watch?v=AlwMqDUKV1U)\n",
    "4. [Hydrologic Water Balance (YouTube)](https://www.youtube.com/watch?v=7fdwXS9q2uo)\n",
    "5. [Earth's Water Budget (YouTube)](https://www.youtube.com/watch?v=2oKYXKKf28g)\n",
    "\n",
    "\n",
    "3. [Runoff (YouTube)](https://www.youtube.com/watch?v=SjWEtgVV-l8&list=PLXLUpwDRCVsSSeyKWT03rLb6X9DbqHsSX&index=5)  MOVE TO CORRECT LESSON"
   ]
  },
  {
   "cell_type": "markdown",
   "metadata": {},
   "source": [
    "## Outline\n",
    "- Surface and Groundwater Concepts\n",
    "- Hydrologic Cycle\n",
    "- Water Budget"
   ]
  },
  {
   "cell_type": "markdown",
   "metadata": {},
   "source": [
    "---\n",
    "# Surface and Groundwater Hydrology Concepts\n",
    "\n",
    "## What is hydrology?\n",
    "- Study of the occurrence, circulation, storage, and distribution of surface and groundwater on the Earth.\n",
    "- Engineering hydrology is the quantification of amounts of water at various locations (spatially) as a function of time (temporally) for surface water applications.\n",
    "\n",
    "## What is a watershed (catchment)?\n",
    "Here are a couple of definitions of watersheds.\n",
    "\n",
    "- Topographic area that collects and discharges surface streamflow through one outlet or mouth (pour point)\n",
    "- The area on the surface of the Earth that drains to a specific location\n",
    "- In groundwater a similar concept is called a groundwater basin – only the boundaries can move depending on relative rates of recharge and discharge \n",
    "\n",
    "The topographic definition omits that there could be subsurface sewer systems that can cross topographic boundaries.   It’s a big deal in urban areas.\n",
    "\n",
    "## What is a hydrologic system?\n",
    "A hydrologic system is just a collection of parts that interact.   \n",
    " \n",
    "- A hydrologic system is simply the collection of connected components that form the <strong>hydrologic cycle</strong>\n",
    "- These components can be grouped into subsystems, treated separately, and the results combined according to interactions between the subsystems (CMM pg 5) \n",
    "\n",
    "Like in fluid mechanics, the system has boundaries (the control volume) and fluxes into/out of the boundaries.   \n",
    "The entire planet is usually considered a closed system (hydrologically) and only the energy fluxes cross the boundary.   \n",
    "At more practical scales (parking lot) the mass fluxes matter a lot.  \n",
    "\n",
    "<!-- ### What is the hydrologic cycle?\n",
    "Here is a typical diagram depicting the hydrologic cycle.  \n",
    "\n",
    "![](hydrologic_cycle.png)\n",
    "\n",
    "The driving force for the cycle (not shown) is solar energy that provides the energy to vaporize liquid water that then rises into clouds, moves onshore, and rains (or snow, sleet, $\\dots$.  and other forms of <strong>precipitation</strong>)\n",
    "A portion of the rain becomes runoff, another portion returns to the atmosphere as evaporation, another portion infiltrates into the ground and becomes groundwater.\n",
    "\n",
    "The surface water system would be the part of the diagram that lies above the plane defined by the ocean and infiltration line.\n",
    "The subsurface system is the part that is below this plane.\n",
    "\n",
    "Expressed as a simple system diagram it would be depicted in the figure below\n",
    "\n",
    "![](system_diagram.png) -->"
   ]
  },
  {
   "cell_type": "markdown",
   "metadata": {},
   "source": [
    "## Hydrologic Cycle\n",
    "\n",
    "The water, or hydrologic, cycle describes the journey of water as water molecules make their way from the Earth’s surface to the atmosphere and back again, in some cases to below the surface. This gigantic system, powered by energy from the Sun, is a continuous exchange of moisture between the oceans, the atmosphere, and the land.\n",
    "A typical diagram depicting the hydrologic cycle is shown below.\n",
    "\n",
    "![](hydrologic_cycle.png)\n",
    "\n",
    "The driving force for the cycle is solar energy that provides the energy to vaporize liquid water that then rises into clouds, moves onshore, and rains (or snow, sleet, $\\dots$.  and other forms of <strong>precipitation</strong>)\n",
    "A portion of the rain becomes runoff, another portion returns to the atmosphere as evaporation, another portion infiltrates into the ground and becomes groundwater.\n",
    "\n",
    "A more detailed accounting of the precipitation is as follows:\n",
    "\n",
    "1. A portion known as interception is retained on buildings, vegetation, and other surfaces that eventually evaporates - the remaining quantity is called **effective precipitation**\n",
    "\n",
    ":::{note}\n",
    "Excess precipitation is a similar concept.  When discussing rainfall-runoff processes using some model (i.e. unit hydrograph methods), the quantity that becomes runoff is called excess precipitation.  The terms are frequently used interchangeably.\n",
    ":::\n",
    "\n",
    "2. Some of the effective precipitation also evaporates directly.\n",
    "3. Another portion of effective precipitation **infiltrates** into the ground - a portion of infiltrated water returns to the atmosphere via transpiration, the remainder either percolates deeper into the ground or is incorporated in the vegetative biomass.\n",
    "4. The water that percolates deeper into the ground becomes **recharge** to the groundwater system, and may appear at some point as **baseflow** in streams.\n",
    "5. If the precipitation exceeds the combined evaporation and infiltration puddles form in small depressions on the land surface - this is called depression storage.\n",
    "6. After the depressions are filled they join and a continuous film of water can begin to flow over the surface to a stream channel.  This portion that can flow is called the **excess precipitation** (see the note above), and the flow is called the **direct runoff**.\n",
    "7. Runoff occurs when the film of water begins to move - water in this film is said to be in **detention storage**, and evaporation occurs from this compartment too. When precipitation ceases, the water in detention storage eventually joins the stream channel.\n",
    "8. The destination of all streams is open bodies of water such as lakes, seas, and oceans which are subject to substantial evaporation.\n",
    "9. The evaporation and tanspiration from all these sources combine and carry moisture back into the atmosphere which condenses and repeats the cycle.\n"
   ]
  },
  {
   "cell_type": "markdown",
   "metadata": {},
   "source": [
    "---\n",
    "## Hydrologic Balance \n",
    "\n",
    "### Water Budget\n",
    "The water budget, or <strong>hydrologic balance</strong> is simply the expression of the conservation of mass in hydrologic terms for a hydrologic system.  \n",
    "Generally it is expressed as a rate (or volume) balance.\n",
    "The hydrologic equation is the fundamental tool in hydrology to describe amounts of water in storage in different compartments at different scales.  \n",
    "\n",
    "The equation expressed in “words” is\n",
    "\n",
    "Rate of inflow - Rate of outflow =  Rate of change of storage + Rate of internal mass generation.\n",
    "\n",
    "Symbolically it is exrepssed as:\n",
    "\n",
    "$$ \\frac{dI}{dt} - \\frac{dO}{dt} = \\frac{dS}{dt} + \\frac{dG}{dt}$$\n",
    "\n",
    "where\n",
    "\n",
    "$I$ is inflow volume, $O$ is outflow volume, $S$ is storage volume (i.e. within a watershed), and $G$ is generated volume.\n",
    "$G$ is generally zero, but is included to be consistent with the balance equations you have learned elsewhere (i.e. environmental engineering, chemistry, $\\dots$)"
   ]
  },
  {
   "cell_type": "markdown",
   "metadata": {},
   "source": [
    "### Surface Hydrologic System\n",
    "\n",
    "Here is the surface water system broken into its own sub-system.\n",
    "\n",
    "![](surface_system_diagram.png)\n",
    "\n",
    "Notice the dashed line is the boundary – exactly like a control volume in fluids.\n",
    "\n",
    "### Surface Water Budget\n",
    "\n",
    "From the surface water system diagram, appropriate budget components are:\n",
    "\n",
    "- Inflows:  Rainfall; Surface water from outside boundary, recharge from Groundwater.\n",
    "- Outflows: Evapotranspiration; Surface water leaving boundary; Infiltration to groundwater.\n",
    "- Storage:  Water levels in lakes, rivers, ponds within the boundary; water stored on leaves and other surfaces."
   ]
  },
  {
   "cell_type": "markdown",
   "metadata": {},
   "source": [
    "### Sub-surface Hydrologic System\n",
    "\n",
    "Here is the sub-surface water system broken into its own sub-system.\n",
    "\n",
    "![](subsurface_system_diagram.png)\n",
    "\n",
    "Notice the dashed line is the boundary – exactly like a control volume in fluids.\n",
    "\n",
    "### Sub-surface Water Budget\n",
    "\n",
    "From the sub-surface water system diagram, appropriate budget components are:\n",
    "\n",
    "- Inflows:  Groundwater flow from outside boundary; Recharge from surface system (via infiltration)\n",
    "- Outflows: Groundwater flow out of the boundary; Discharge (pumping; springs) to surface system\n",
    "- Storage:  Water levels in aquifers within the boundary"
   ]
  },
  {
   "cell_type": "markdown",
   "metadata": {},
   "source": [
    "### Combined Hydrologic System\n",
    "Here are the two systems “combined.”\n",
    "Communication is by the two shaded paths on the figure. \n",
    "\n",
    "![](combined_system_diagram.png)\n",
    "\n",
    "Loss from the surface system becomes gain to the ground system.\n",
    "Loss from the ground system becomes gain to the surface system."
   ]
  },
  {
   "cell_type": "markdown",
   "metadata": {},
   "source": [
    "## Water Budget Definition\n",
    "The water budget, or <strong>hydrologic balance</strong> is simply the expression of the conservation of mass in hydrologic terms for a hydrologic system.  \n",
    "Generally it is expressed as a rate (or volume) balance.\n",
    "The hydrologic equation is the fundamental tool in hydrology to describe amounts of water in storage in different compartments at different scales.  \n",
    "\n",
    "The equation expressed in “words” is\n",
    "\n",
    "Rate of inflow - Rate of outflow =  Rate of change of storage + Rate of internal mass generation.\n",
    "\n",
    "Symbolically it is exrepssed as:\n",
    "\n",
    "$$ \\frac{dI}{dt} - \\frac{dO}{dt} = \\frac{dS}{dt} + \\frac{dG}{dt}$$\n",
    "\n",
    "where\n",
    "\n",
    "$I$ is inflow volume, $O$ is outflow volume, $S$ is storage volume (i.e. within a watershed), and $G$ is generated volume.\n",
    "$G$ is generally zero, but is included to be consistent with the balance equations you have learned elsewhere (i.e. environmental engineering, chemistry, $\\dots$)"
   ]
  },
  {
   "cell_type": "markdown",
   "metadata": {},
   "source": [
    "## Water Budget Example 1\n",
    "Consider the following problem statement:\n",
    "\n",
    "![](BetswyCoedPrstate.png)\n",
    "\n",
    "One way to answer the questions is to decompose the problem into a simpler construct, usually by sketching a diagram as shown below:\n",
    "\n",
    "![](BetswyCoedSketch.png)\n",
    "\n",
    "Now we can simply assign the terms to the appropriate parts of the water balance equation and solve for unknown components such as:\n",
    "\n",
    "![](BetswyCoedSolve1.png)\n",
    "\n",
    "For more utility we can use our Computational Thinking (ENGR-1330) skills and write a simple script to generalize the results and help with unit conversions"
   ]
  },
  {
   "cell_type": "code",
   "execution_count": 9,
   "metadata": {},
   "outputs": [
    {
     "name": "stdout",
     "output_type": "stream",
     "text": [
      "Runoff =  149  watershed millimeters\n"
     ]
    }
   ],
   "source": [
    "# Water Budget Script - Example in WebBook\n",
    "P = 254 # millimeters of rainfall \n",
    "ET = 85 # millimeters of evapotranspiration\n",
    "I = 20 # millimeters of infiltration\n",
    "DeltaS = 0 # millimeters of storage change\n",
    "\n",
    "R = P - ET - I + DeltaS\n",
    "\n",
    "print(\"Runoff = \",round(R,3),' watershed millimeters')"
   ]
  },
  {
   "cell_type": "markdown",
   "metadata": {},
   "source": [
    "Now to convert to other units as requested, we simply apply conversions as:"
   ]
  },
  {
   "cell_type": "code",
   "execution_count": 10,
   "metadata": {},
   "outputs": [
    {
     "name": "stdout",
     "output_type": "stream",
     "text": [
      "Runoff =  9685000.0  cubic meters\n",
      "Runoff =  9685000000.0  liters\n"
     ]
    }
   ],
   "source": [
    "def mm2m(mm):\n",
    "    # convert mm into meters\n",
    "    mm2m = mm/1000.0 # mm should be a float\n",
    "    return(mm2m)\n",
    "\n",
    "def sqkm2sqm(sqkm):\n",
    "    # convert square kilometers into square meters\n",
    "    sqkm2sqm = sqkm * 1.0e06 # sqkm should be a float\n",
    "    return(sqkm2sqm)\n",
    "\n",
    "def cum2liter(cum):\n",
    "    # convert cubic meters into liters\n",
    "    cum2liter = cum*1000.0 # cum should be a float\n",
    "    return(cum2liter)\n",
    "\n",
    "# now express result in useful units\n",
    "area = 65 # area in sq. kilometers\n",
    "\n",
    "WholeWatershedRunoff = mm2m(R)*sqkm2sqm(area)\n",
    "\n",
    "print(\"Runoff = \",round(WholeWatershedRunoff,3),' cubic meters')\n",
    "\n",
    "print(\"Runoff = \",round(cum2liter(WholeWatershedRunoff),3),' liters')"
   ]
  },
  {
   "cell_type": "markdown",
   "metadata": {},
   "source": [
    "Now estimate largest population this hydrology could support"
   ]
  },
  {
   "cell_type": "code",
   "execution_count": 12,
   "metadata": {},
   "outputs": [
    {
     "name": "stdout",
     "output_type": "stream",
     "text": [
      "Maximum Population =  1008854.1666666666  if rainfall is firm\n"
     ]
    }
   ],
   "source": [
    "# Population supported at 160 L/day\n",
    "litersPerDayPerPerson = 160\n",
    "litersPer2months = litersPerDayPerPerson*2*30\n",
    "# Assume all Runoff is Run through kidneys and colons\n",
    "maxPeople = cum2liter(WholeWatershedRunoff)/litersPer2months\n",
    "print(\"Maximum Population = \",maxPeople,\" if rainfall is firm\")"
   ]
  },
  {
   "cell_type": "markdown",
   "metadata": {},
   "source": [
    "---\n",
    "## Water Budget Example 2\n",
    "\n",
    "Consider the following problem statement:\n",
    "\n",
    "At a particular time the storage in a river reach is 55.3 acre-ft.  At that instant, the inflow to the  reach is 375 cfs and the outflow is 563 cfs.  Two hours later, the inflow the inflow to the  reach is 600 cfs and the outflow is 675 cfs.\n",
    "\n",
    "Estimate:\n",
    "- The change in storage over 2 hours.\n",
    "- The reach storage after 2 hours.\n",
    "\n",
    "Solution:\n",
    "\n",
    "### Sketch the Situation\n",
    "\n",
    "![](river-reaches.png)\n",
    "\n",
    "### Governing Principles\n",
    "\n",
    "Apply the water balance model:\n",
    "\n",
    "$$ \\frac{dI}{dt} - \\frac{dO}{dt} = \\frac{dS}{dt} + \\frac{dG}{dt}$$\n",
    "\n",
    "### Analysis/Solution\n",
    "\n",
    "Observe that there is no internal mass generated, so that term will vanish.  Discharge is changing over time, so we will have to choose how to cope with that, typically one chooses arithmetic means\n",
    "\n",
    "$$ \\frac{dI}{dt} = \\frac{375+600}{2} = 487.5~\\text{cfs} $$\n",
    "\n",
    "$$ \\frac{dO}{dt} = \\frac{563+675}{2} = 619~\\text{cfs} $$\n",
    "\n",
    "Now we substitute into the equation and solve for the storage rate of change\n",
    "\n",
    "$$ 487.5 - 619 = \\frac{dS}{dt} = -131.5~\\text{cfs}$$  \n",
    "\n",
    "Observe this is a rate!  We will need to \"integrate\" to recover actual change\n",
    "\n",
    "Now recover the estimated change in storage, and new storage value from the rate\n",
    "\n",
    "$$ \\Delta S = \\frac{dS}{dt} \\Delta t = -131.5~\\text{cfs} \\cdot 2~\\text{hrs} = -263~\\text{cfs-hr}$$  \n",
    "\n",
    "A little unit conversion\n",
    "\n",
    "$$ -263~\\text{cfs-hr} \\cdot \\frac{3600~\\text{sec}}{1~\\text{hr}} \\cdot \\frac{1~\\text{acre-ft}}{43,560~\\text{ft}^3} = -21.73~\\text{acre-ft}$$\n",
    "\n",
    "Then apply definition of $\\frac{dS}{dt} $ as\n",
    "\n",
    "$$\\frac{dS}{dt}~\\approx~\\frac{S_2-S_0}{\\Delta t}$$\n",
    "\n",
    "So the new storage volume is\n",
    "\n",
    "$$S_2=S_0+\\frac{dS}{dt} \\Delta t= S_0 + \\Delta S= 55.30 - 21.73 = 33.57~\\text{acre-ft}$$\n",
    "\n",
    "Now we can summarize the results\n",
    "\n",
    "|Value|Amount|Unit|\n",
    "|:---|---:|:---|\n",
    "|$\\Delta S$|-263|cfs-hr|\n",
    "|$S_2$|33.57|acre-ft|\n",
    "\n",
    "If we wish an ability to repeat such computations a lot (maybe we own the reach and want to charge our customers for water use) we could apply ENGR-1330 methods as below to explore different inflow and outflow conditions"
   ]
  },
  {
   "cell_type": "code",
   "execution_count": 6,
   "metadata": {
    "scrolled": true
   },
   "outputs": [
    {
     "name": "stdout",
     "output_type": "stream",
     "text": [
      "Begin Time 0  hours\n",
      "End Time 2  hours\n",
      "Inflow at Begin Time 375  cfs\n",
      "Inflow at End Time 600  cfs\n",
      "Outflow at Begin Time 563  cfs\n",
      "Outflow at End Time 675  cfs\n",
      "Storage at Begin Time 55.3  acre-feet\n",
      "Storage at End Time 33.56  acre-feet\n"
     ]
    }
   ],
   "source": [
    "# prototype function\n",
    "def newS(t0,t1,I0,I1,O0,O1,S0):\n",
    "    Ibar = 0.5*(I0 + I1)\n",
    "    Obar = 0.5*(O0 + O1)\n",
    "    dsdt = Ibar - Obar\n",
    "    dsdt = dsdt*3600/43560 # convert to correct units\n",
    "    deltat = t1-t0\n",
    "    DS   = dsdt*deltat\n",
    "    newS   = S0+DS\n",
    "    return(newS)\n",
    "# input values\n",
    "t0 = 0 # hrs\n",
    "t1 = 2 # hrs\n",
    "I0 = 375 # cfs\n",
    "I1 = 600 # cfs\n",
    "O0 = 563 # cfs\n",
    "O1 = 675 # cfs\n",
    "S0 = 55.3 # acre-ft\n",
    "# echo inputs\n",
    "print(\"Begin Time\",t0,\" hours\")\n",
    "print(\"End Time\",t1,\" hours\")\n",
    "print(\"Inflow at Begin Time\",I0,\" cfs\")\n",
    "print(\"Inflow at End Time\",I1,\" cfs\")\n",
    "print(\"Outflow at Begin Time\",O0,\" cfs\")\n",
    "print(\"Outflow at End Time\",O1,\" cfs\")\n",
    "print(\"Storage at Begin Time\",S0,\" acre-feet\")\n",
    "S1   = newS(t0,t1,I0,I1,O0,O1,S0) # get new storage\n",
    "# output results\n",
    "print(\"Storage at End Time\",round(S1,2),\" acre-feet\")"
   ]
  }
 ],
 "metadata": {
  "kernelspec": {
   "display_name": "Python 3 (ipykernel)",
   "language": "python",
   "name": "python3"
  },
  "language_info": {
   "codemirror_mode": {
    "name": "ipython",
    "version": 3
   },
   "file_extension": ".py",
   "mimetype": "text/x-python",
   "name": "python",
   "nbconvert_exporter": "python",
   "pygments_lexer": "ipython3",
   "version": "3.10.12"
  }
 },
 "nbformat": 4,
 "nbformat_minor": 4
}
