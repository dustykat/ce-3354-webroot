{
 "cells": [
  {
   "cell_type": "markdown",
   "metadata": {},
   "source": [
    "# 21. Storm Sewer Hydrology\n",
    "\n",
    ":::{admonition} Course Website\n",
    "[Link to Course Website](http://54.243.252.9/ce-3354-webroot/)\n",
    ":::\n",
    "\n"
   ]
  },
  {
   "cell_type": "markdown",
   "metadata": {},
   "source": [
    "## Readings\n",
    "\n",
    "1. [Gupta, R.S., 2017. Hydrology and Hydraulic Systems, pp. 711-735](https://www.waveland.com/browse.php?t=384)\n",
    "\n",
    "2. [Chow, V.T., Maidment,D.M., and Mays, L.W. (1998) Applied Hydrology, McGraw Hill, pp. 499-507](http://54.243.252.9/ce-3354-webroot/3-Readings/CMM1988/) \n",
    "\n",
    "3. [Mays, L. W. 2001. Water-Resources Engineering. 1st Edition Wiley, pp. 613-635](ce-3354-webroot/ce-3354-webbook-2024/3-Readings/RationalMethodStormSewerDesign.PDF)\n",
    "\n",
    "3. [Cleveland, T.G. 2016 \"Rational Method Pipe Design\"](http://54.243.252.9/ce-3354-webroot/ce-3354-webbook-2024/3-Readings/RationalMethodPipeDesign.pdf)"
   ]
  },
  {
   "cell_type": "markdown",
   "metadata": {},
   "source": [
    "## Videos\n",
    "\n",
    "1. [Rational Method Pipe Sizing with Spreadsheets (YouTube)](https://www.youtube.com/watch?v=acAD7m5CMMk)\n",
    "2. [Stormwater Drain Design Procedure (YouTube)](https://www.youtube.com/watch?v=PCUgxrWiBKg)\n",
    "3. [Hydrologic Channel Routing (YouTube)](https://www.youtube.com/watch?v=HLSTZuEi5gg)\n",
    "4. [Channel Routing (NCEES Training Video)](https://www.youtube.com/watch?v=Eb0BoxlxcQw&list=PLGCZ9gpx8QdsoFj-3qWS_7iq61WE4Yy9d)\n",
    "5. [Reservoir Routing (NCEES Training Video)](https://www.youtube.com/watch?v=lkUEFtjQH6s&list=PLGCZ9gpx8QdsoFj-3qWS_7iq61WE4Yy9d)\n",
    "6. [Flash Flood Videos (YouTube)](https://www.youtube.com/watch?v=u0-FLuwWhf4)\n",
    "7. [Flash Flood near Sedona Az. (YouTube)](https://www.youtube.com/watch?v=Ipo0kwQQcgQ)"
   ]
  },
  {
   "cell_type": "markdown",
   "metadata": {},
   "source": [
    "## Outline\n",
    "\n",
    "1. "
   ]
  },
  {
   "cell_type": "markdown",
   "metadata": {},
   "source": [
    "## A Rational Method for Storm Sewer Conduit Sizing \n",
    "\n",
    "The Rational Method is a widely used, straightforward approach for sizing storm sewer conduits and estimating stormwater runoff, particularly in urban drainage design. It is used to obtain initial estimates of conduit diameters, flowlines, and hydraulic grade lines for storm sewer systems. Although more advanced hydrologic models are available, the Rational Method remains popular for preliminary design due to its simplicity and ease of application, especially when dealing with small catchments.\n",
    "Overview of the Rational Method\n",
    "\n",
    "The Rational Method estimates peak runoff from a given watershed using the formula:\n",
    "\n",
    "$Q=CIA$\n",
    "\n",
    "Where:\n",
    "\n",
    "$Q$ = Peak runoff rate (cubic feet per second or cfs),\n",
    "$C$ = Runoff coefficient (dimensionless), representing the portion of rainfall that becomes surface runoff,\n",
    "$I$ = Rainfall intensity (inches per hour), determined based on the design storm and time of concentration for the watershed,\n",
    "$A$ = Drainage area (acres).\n",
    "\n",
    "### Steps for Storm Sewer Conduit Sizing Using the Rational Method\n",
    "\n",
    "1. Determine the Design Storm Event:\n",
    "    Identify the design storm return period (e.g., 5-year, 10-year, or 100-year storm) based on local regulations or standards. This helps establish the rainfall intensity (II) for the design.\n",
    "\n",
    "2. Estimate the Time of Concentration:\n",
    "    The time of concentration ($T_C$) is the time it takes for runoff to travel from the most distant point of the catchment to the outlet or point of interest. Several empirical methods (e.g., Kirpich’s equation) can be used to calculate this value.\n",
    "\n",
    "3. Select the Runoff Coefficient (C):\n",
    "    The runoff coefficient is chosen based on the land cover within the drainage area. For example, impervious surfaces (like pavement) will have a higher CC value (around 0.9), while pervious surfaces (like grassland) will have a lower value (around 0.2). Mixed land uses are weighted to determine an appropriate CC value for the entire catchment.\n",
    "\n",
    "4. Calculate Peak Runoff (Q):\n",
    "    Using the Rational Method equation, the peak runoff QQ is calculated by multiplying the runoff coefficient CC, the rainfall intensity II, and the drainage area AA.\n",
    "\n",
    "5. Conduit Sizing:\n",
    "    Once the peak runoff $Q_P$ is determined, the required diameter of the storm sewer conduit can be estimated using Manning’s equation for open channel flow, assuming the conduit is flowing full or partially full. Manning’s equation is:<br><br>\n",
    "$Q=\\frac{1.49}{n}AR^{2/3}S_0^{1/2}$ <br><br>\n",
    "Where:\n",
    "- $Q$ = Discharge (cfs),\n",
    "- $n$ = Manning's roughness coefficient (dimensionless),\n",
    "- $A$ = Cross-sectional area of flow (square feet),\n",
    "- $R$ = Hydraulic radius (feet),\n",
    "- $S_0$ = Slope of the conduit (ft/ft).\n",
    "\n",
    "    The required pipe diameter can be determined iteratively by solving Manning’s equation for AA and matching it with the calculated peak runoff $Q$.\n",
    "\n",
    "6. Hydraulic Grade Line (HGL) and Flowline:\n",
    "    The Hydraulic Grade Line (HGL) represents the level to which water would rise in open vertical tubes attached to the conduit. It is used to assess the system’s capacity to convey flow without excessive pressure buildup. The flowline refers to the bottom elevation of the pipe at various points along the system. These elevations are crucial for ensuring gravity flow and preventing backflow within the system.\n",
    "\n",
    "    To approximate the HGL by hand, designers often check that the conduit slope and size provide sufficient capacity by comparing the HGL with the energy grade line (EGL), which accounts for both the potential and kinetic energy within the system. By adjusting the pipe size or slope, the designer ensures the HGL stays within acceptable bounds.\n",
    "\n",
    "### Advantages of the Rational Method\n",
    "\n",
    "- Simplicity: The Rational Method is straightforward and can be applied manually without requiring complex computer simulations, making it useful for small drainage areas.\n",
    "- Preliminary Design: It provides a good starting point for conduit sizing, helping designers quickly estimate pipe diameters, slopes, and flowlines before conducting more detailed hydraulic analyses.\n",
    "- Applicability for Urban Settings: The method is particularly suited for urban environments with impervious surfaces, where runoff behavior is more predictable.\n",
    "\n",
    "### Limitations of the Rational Method\n",
    "\n",
    "- Small Catchment Limitation: The Rational Method is typically recommended for small watersheds (less than 200 acres) because it assumes uniform rainfall distribution and runoff response, which may not hold in larger or more complex watersheds.\n",
    "- Peak Flow Only: It estimates only the peak runoff rate and does not provide information about the full runoff hydrograph (i.e., the variation of flow over time).\n",
    "- Constant Runoff Coefficient: The method assumes a constant runoff coefficient CC, which may vary during a storm event due to factors like soil saturation or changing land cover conditions.\n",
    "\n",
    "### Summary\n",
    "\n",
    "The Rational Method provides a practical, by-hand approach for obtaining initial estimates of conduit diameters, flowlines, and hydraulic grade lines for storm sewer systems. It serves as a preliminary design tool, ensuring that designers can evaluate the capacity and size of storm sewer conduits before engaging in more sophisticated analyses, making it an essential tool in urban stormwater management."
   ]
  },
  {
   "cell_type": "markdown",
   "metadata": {},
   "source": [
    "## Conduit Design\n",
    "\n",
    "Conduits are structures that convey water from one location to another.\n",
    "- Pipes\n",
    "- Culverts\n",
    "- Open Channels\n",
    "\n",
    "Design task is to select size, material, and slope\n",
    "- STORM SEWER – USUALLY DESIRE TO OPERATE WITH FREE SURFACE (AS AN OPEN CHANNEL)\n",
    "- SANITARY SEWER – SIMILAR USUALLY WANT A FREE SURFACE\n",
    "- SIZE (DIAMETER) IS DICTATED BY\n",
    "  - FLOW REQUIRED\n",
    "  - BURIAL DEPTH RELATIVE TO DROP AVAILABLE\n",
    "  \n",
    "A GOOD PRELIMINARY DESIGN CAN BE OBTAINED USING A COMBINATION OF THE RATIONAL EQUATION AND MANNING’S EQUATION\n",
    "- DONE WITHOUT REGARD TO DOWNSTREAM BOUNDARY CONDITIONS \n",
    "- NEEDS TO BE CHECKED USING A HYDRAULIC MODEL (LIKE SWMM)"
   ]
  },
  {
   "cell_type": "markdown",
   "metadata": {},
   "source": [
    "Determine discharge in each pipe, then size using Manning's equation\n",
    "\n",
    "In US Customary: $D=1.333\\times(\\frac{Q}{S_)^{1/2}})^{3/8}$\n",
    "\n",
    "The size assumes full, but pipe will have free surface and probably be at 80\\% full as per typical hydraulic elements chart.\n",
    "\n",
    "![](hydraulic_elements.png)"
   ]
  },
  {
   "cell_type": "markdown",
   "metadata": {},
   "source": [
    "Layout of system with:\n",
    "- Drainage areas and inlet locations\n",
    "- Pipes\n",
    "- Outfall\n",
    "- Elevations\n",
    "\n",
    "![](layout001.png)"
   ]
  },
  {
   "cell_type": "markdown",
   "metadata": {},
   "source": [
    "Start with most upstream area:\n",
    "\n",
    "- Determine inlet time of concentration\n",
    "- Determine drainage area runoff coefficient\n",
    "\n",
    "![](inlet001.png)\n",
    "\n",
    "- Pipe size (start upstream)\n",
    "- Select pipe size\n",
    "  - Design Guidelines\n",
    "  - Discharge selects diameter\n",
    "  $D=1.333\\times(\\frac{Q}{S_)^{1/2}})^{3/8}$\n",
    "  - Use velocity criteria to adjust slope, iterate on diameter\n",
    "  $V=\\frac{1.49}{n}(\\frac{D}{4})^{2/3} \\sqrt{S_0}$\n",
    "- Record pipe travel time for next stage\n",
    "$t_{travel} = \\frac{L}{V}$\n",
    "\n",
    "At most upstream inlet\n",
    "- Compute $Q_p = CIA$ using inlet time for intensity, and draingae area to the inlet as area.\n",
    "- Size pipe from this inlet to hold $Q_p$\n",
    "- Add pipe travel time to inlet time to route to next downstream junction\n"
   ]
  },
  {
   "cell_type": "markdown",
   "metadata": {},
   "source": [
    "At next upstream inlet\n",
    "- Determine inlet time of concentration\n",
    "- Determine drainage area runoff coefficient\n",
    "- Compute $Q_p = CIA$ using inlet time for intensity, and draingae area to the inlet as area.\n",
    "- Size pipe from this inlet to hold $Q_p$\n",
    "- Add pipe travel time to inlet time to route to next downstream junction\n",
    "\n",
    "![](inlet002.png)"
   ]
  },
  {
   "cell_type": "markdown",
   "metadata": {},
   "source": [
    "At junction and inlet\n",
    "- Determine inlet time of concentration\n",
    "- Determine drainage area runoff coefficient\n",
    "- Choose largest of local inlet time (above) or upstream node + travel time\n",
    "- Compute $Q_p$ leaving the junction from: \n",
    "<br><br>$Q_p = (CA_{local} + \\sum{CA_{upstream}}) I_{T_C}$\n",
    "\n",
    "![](inlet003.png)"
   ]
  },
  {
   "cell_type": "markdown",
   "metadata": {},
   "source": [
    "Continue downstream in same fashion (from upstream to junction) until reach the outfall.\n",
    "- Accumulate $CA$ values and $T_C$ as move downstream\n",
    "- Check that all areas add to total area\n",
    "- Check that $T_C$ increases in value as move downstream.\n",
    "\n",
    "![](inlet004.png)"
   ]
  },
  {
   "cell_type": "markdown",
   "metadata": {},
   "source": [
    "At the outfall should have: \n",
    "- Pipe sizes\n",
    "- Pipe discharges\n",
    "- Pipe slopes, then construct flowline (invert elevations) to ensure sewer fits between land surface and outfall invert elevation.\n",
    "\n",
    "The next step is to actually check hydraulics using a hydraulic model. \n",
    "\n",
    "A spreadsheet that illustrates the method  CMM pp 499-507, is linked at [Goodwin Storm Sewer Example](http://54.243.252.9/ce-3354-webroot/ce-3354-webbook-2024/my3354notes/lessons/21-StormSewerSizing/GoodwinStormSewer.xlsx)"
   ]
  },
  {
   "cell_type": "markdown",
   "metadata": {},
   "source": []
  },
  {
   "cell_type": "markdown",
   "metadata": {},
   "source": []
  },
  {
   "cell_type": "markdown",
   "metadata": {},
   "source": []
  },
  {
   "cell_type": "markdown",
   "metadata": {},
   "source": [
    "## End of File"
   ]
  },
  {
   "cell_type": "code",
   "execution_count": null,
   "metadata": {},
   "outputs": [],
   "source": []
  }
 ],
 "metadata": {
  "kernelspec": {
   "display_name": "Python 3",
   "language": "python",
   "name": "python3"
  },
  "language_info": {
   "codemirror_mode": {
    "name": "ipython",
    "version": 3
   },
   "file_extension": ".py",
   "mimetype": "text/x-python",
   "name": "python",
   "nbconvert_exporter": "python",
   "pygments_lexer": "ipython3",
   "version": "3.8.10"
  }
 },
 "nbformat": 4,
 "nbformat_minor": 4
}
