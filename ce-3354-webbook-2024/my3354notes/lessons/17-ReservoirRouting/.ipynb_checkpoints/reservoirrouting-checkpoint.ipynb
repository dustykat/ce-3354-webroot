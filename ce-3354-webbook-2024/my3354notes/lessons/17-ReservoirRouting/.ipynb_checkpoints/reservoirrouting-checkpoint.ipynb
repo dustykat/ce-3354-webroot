{
 "cells": [
  {
   "cell_type": "markdown",
   "metadata": {},
   "source": [
    "# 17. Reservoir Routing\n",
    "\n",
    ":::{admonition} Course Website\n",
    "[Link to Course Website](http://54.243.252.9/ce-3354-webroot/)\n",
    ":::"
   ]
  },
  {
   "cell_type": "markdown",
   "metadata": {},
   "source": [
    "## Readings\n",
    "\n",
    "1. [Gupta, R.S., 2017. Hydrology and Hydraulic Systems, pp. 46-59](https://www.waveland.com/browse.php?t=384)\n",
    "\n",
    "1. [Chow, V.T., Maidment,D.M., and Mays, L.W. (1998) Applied Hydrology, McGraw Hill, pp. 444-493](http://54.243.252.9/ce-3354-webroot/3-Readings/CMM1988/) \n",
    "\n",
    "1. [Cleveland, T. G. (2017) *Surface Water Hydrology Notes (Hydrograph Routing) to accompany CE-3354*, Department of Civil, Environmental, and Construction Engineering, Whitacre College of Engineering.](http://54.243.252.9/ce-3354-webroot/1-Lectures-2017/Lecture17.pdf)\n",
    "\n",
    "1. [Routing (Hydrology) Wikipedia ](https://en.wikipedia.org/wiki/Routing_(hydrology))\n",
    "\n",
    "1. [Routing (Information) Wikipedia](https://en.wikipedia.org/wiki/Routing_Information_Protocol)"
   ]
  },
  {
   "cell_type": "markdown",
   "metadata": {},
   "source": [
    "## Videos\n",
    "\n",
    "1. [Hydrograph Routing (YouTube)](https://www.youtube.com/watch?v=nzRG2uIMaTY)\n",
    "2. [Reservoir Routing (YouTube)](https://www.youtube.com/watch?v=1mdtq7iJ_74&t=248s)\n",
    "3. [Hydrologic Channel Routing (YouTube)](https://www.youtube.com/watch?v=HLSTZuEi5gg)\n",
    "4. [Channel Routing (NCEES Training Video)](https://www.youtube.com/watch?v=Eb0BoxlxcQw&list=PLGCZ9gpx8QdsoFj-3qWS_7iq61WE4Yy9d)\n",
    "5. [Reservoir Routing (NCEES Training Video)](https://www.youtube.com/watch?v=lkUEFtjQH6s&list=PLGCZ9gpx8QdsoFj-3qWS_7iq61WE4Yy9d)\n",
    "6. [Flash Flood Videos (YouTube)](https://www.youtube.com/watch?v=u0-FLuwWhf4)\n",
    "7. [Flash Flood near Sedona Az. (YouTube)](https://www.youtube.com/watch?v=Ipo0kwQQcgQ)"
   ]
  },
  {
   "cell_type": "markdown",
   "metadata": {},
   "source": [
    "## Outline\n",
    "\n",
    "1. What is \"routing\"?\n",
    "2. The Routing \"problem\"\n",
    "  1. Probability estimation Modeling\n",
    "  2. Design Storms\n",
    "3. Areal precipitation\n",
    "  1. ARF approach\n",
    "  2. Radar rainfall"
   ]
  },
  {
   "cell_type": "markdown",
   "metadata": {},
   "source": [
    "## Hydrograph routing\n",
    "\n",
    "Hydrograph routing is a technique used in computational hydrology to predict the temporal distribution of water flow in rivers, channels, and reservoirs in response to inflow events. It involves calculating the downstream movement of water through a channel or watershed, accounting for the storage and movement of water within the system. The primary objective is to determine the changes in flow characteristics, such as discharge, over time and space as water travels from upstream to downstream points.\n",
    "\n",
    "In practical applications, hydrograph routing is used for flood forecasting, design of hydraulic structures, and water resource management. There are two main types of routing:\n",
    "\n",
    "1. Hydrologic Routing: This approach uses simplified methods based on the conservation of mass and empirical relationships. Techniques such as the Muskingum method, kinematic wave model, and unit hydrograph are common. Hydrologic routing is often used for its simplicity and efficiency, particularly in cases where detailed data is not available.\n",
    "\n",
    "2. Hydraulic Routing: This method uses the principles of fluid mechanics, typically the continuity equation and the momentum equation (Saint-Venant equations), to model the movement of water through a channel. It provides detailed information about flow depth and velocity but requires comprehensive data and computational effort.  (These techniques are introduced and applied in CE 3372 and are the subject of the entire course CE 4353)\n",
    "\n",
    "Hydrograph routing informs how different factors, such as channel shape, roughness, and basin characteristics, influence the timing and magnitude of peak flows. The results are critical for designing effective flood control measures, optimizing reservoir operations, and designing suitable drainage systems.\n",
    "\n",
    ":::{note}\n",
    "Routing simulates movement of a discharge signal (flood wave) through hydrologic/hydraulic elements called reaches.\n",
    "- Accounts for storage in the reach and flow resistance.\n",
    "- Allows modeling of a basin comprised of interconnected sub-basins (like the Hardin Branch project situation)\n",
    "- Hydrologic routing – uses continuity equation\n",
    "- Hydraulic routing – uses continuity and momentum (St. Venant Equations) \n",
    ":::\n",
    "\n",
    "[insert some images]"
   ]
  },
  {
   "cell_type": "markdown",
   "metadata": {},
   "source": [
    "##  Routing-Hydrologic and Hydraulic\n",
    "\n",
    "Problem:\n",
    "- you have a hydrograph at one location (I) \n",
    "- you have reach characteristics (S = f(I,O))\n",
    "\n",
    "Need:\n",
    "- a hydrograph at different location (O)\n",
    "\n",
    "This is a “routing” situation. The “reach” can be a stream, river, reservoir or some similar feature; the element must have the ability to convey (transmit water) and accumulate (store water).  Routing is not applied to overland flow per-se; although time-area methods are arguably a type of routing.\n",
    "\n",
    "![](routingsketch.png)"
   ]
  },
  {
   "cell_type": "markdown",
   "metadata": {},
   "source": [
    "The bar heights (volumes in storage, entering, and leaving the hydrologic reach) as depicted below are usually quantified in a routing table - its conceptually like a bank account that relates revenue, expenses, and account balance.\n",
    "\n",
    "![](barheights.png)"
   ]
  },
  {
   "cell_type": "markdown",
   "metadata": {},
   "source": [
    "## Hydrologic Routing\n",
    "\n",
    "Hydrologic routing techniques use the equation of continuity and some linear or curvilinear relation between storage and discharge within the river.  The effects of momentum are neglected. \n",
    "\n",
    "Methods include:\n",
    "- Lag Routing (no attenuation). Useful to get connectivity correct in a model\n",
    "- Modified Puls (level pool routing). Useful for reservoirs\n",
    "- Muskingum-Cunge (a simplified type of hydraulic model). Useful to approximate stream/river behavior without resorting to true \"hydraulics\" considerations"
   ]
  },
  {
   "cell_type": "markdown",
   "metadata": {},
   "source": [
    "### Level Pool Routing\n",
    "\n",
    "Technique to approximate the outflow hydrograph passing through a reservoir with the pool (water surface) always level.\n",
    "- Uses a reach (reservoir) mass balance equation \n",
    "\n",
    "$$ Q_{in} − Q_{out} = \\frac{\\Delta S}{\\Delta t}$$\n",
    " \n",
    "- and a storage-outflow relationship.\n",
    "\n",
    "$$ Q_{out} = f(S)$$"
   ]
  },
  {
   "cell_type": "markdown",
   "metadata": {},
   "source": [
    "Variable names are typically changed:\n",
    "\n",
    "$Q_{in} => I_t$ and $Q_{out} => O_t$\n",
    "\n",
    "So the reach mass balance is\n",
    "\n",
    "$$ \\bar I − \\bar O = \\frac{\\Delta S}{\\Delta t}$$\n",
    "\n",
    "The time averaged values are taken at the beginning and end of a useful time interval, and the first-order difference quotient is used to approximate the rate of change in storage.\n",
    "\n",
    "The reach mass balance is then\n",
    "\n",
    "$$\\frac{I_t - I_{t-\\Delta t}}{2} - \\frac{O_t - O_{t-\\Delta t}}{2} = \\frac{S_t - S_{t-\\Delta t}}{\\Delta t}  $$"
   ]
  },
  {
   "cell_type": "markdown",
   "metadata": {},
   "source": [
    "![](levelpool1.png)"
   ]
  },
  {
   "cell_type": "markdown",
   "metadata": {},
   "source": [
    "Then some of that algebra stuff ....\n",
    "\n",
    "![](levelpool2.png)"
   ]
  },
  {
   "cell_type": "markdown",
   "metadata": {},
   "source": [
    "More algebra stuff ....\n",
    "\n",
    "![](levelpool3.png)"
   ]
  },
  {
   "cell_type": "markdown",
   "metadata": {},
   "source": [
    "Some more algebra still and recognize need to deal with two unknowns ...\n",
    "\n",
    "![](levelpoolF.png)\n",
    "\n",
    "The storage-outflow function leverages hydraulics where possible. For example flow through holes (orifice flow), over spillways and weirs, and simplified culvert flow situations.\n",
    "\n",
    "![](storageoutflow.png)\n",
    "\n",
    "![](weirflow.png)\n",
    "\n",
    "![](holyflow.png)"
   ]
  },
  {
   "cell_type": "markdown",
   "metadata": {},
   "source": [
    "Use outlet-works hydraulics, and depth-area-storage to build a storage-outflow function\n",
    "\n",
    "\n",
    "$$O = f(S)$$\n",
    "\n",
    "Once we have that function, then build an auxiliary function (tabulation) called the storage-indication curve (function)\n",
    "\n",
    "\n",
    "$$ O = g(\\frac{2S}{\\Delta t} +O) $$\n",
    "\n",
    "here $g$ is some function."
   ]
  },
  {
   "cell_type": "markdown",
   "metadata": {},
   "source": [
    "Once have the storage-indication curve then can use the reach mass balance to estimate the numerical value of :\n",
    "\n",
    "$$\\frac{2S_t}{\\Delta t} +O_t$$\n",
    "\n",
    "Then use the storage-indication curve to find the value of outflow, subtract that from the result above, and now have both the end-of-interval outflow and storage."
   ]
  },
  {
   "cell_type": "markdown",
   "metadata": {},
   "source": [
    ":::{note}\n",
    "Probably should rewrite the example in Jupyter/iPython to be consistent with modern technology\n",
    ":::\n",
    "\n",
    "### Example \n",
    "Similar to CMM 8.2.1 pg 247-252; but\n",
    "- Shows how the storage-indication curve is determined using hydraulics\n",
    "- Illustrate use of spreadsheet programming needed to make the actual computations\n",
    "\n",
    "![](detentionbasin.png)\n",
    "\n",
    "Tasks:\n",
    "- Build a depth-storage table \n",
    "- Build a depth-outflow table\n",
    "  - From 0 to 5 feet deep use Manning’s equation in a circular conduit\n",
    "  - From 5+ to 12 feet deep use Orifice equation (neglecting frictional losses)\n",
    "- Save a depth-storage-outflow table for use in storage-indication curve\n",
    "- Build the routing table (apply the reach mass balance)\n",
    "\n",
    "For depth-outflow here is a [Manning's calculator.](http://54.243.252.9/ce-3354-webroot/ce-3354-webbook-2024/my3354notes/lessons/17-ReservoirRouting/CircularChannelMannings-US.xls)\n",
    "\n",
    "![](mannings.png)\n",
    "\n",
    "Here is an [orifice calculator.](http://54.243.252.9/ce-3354-webroot/ce-3354-webbook-2024/my3354notes/lessons/17-ReservoirRouting/OrificeDichargeCalculatorUSCustomary.xlsx)\n",
    "\n",
    "![](orifice.png)\n"
   ]
  },
  {
   "cell_type": "code",
   "execution_count": 8,
   "metadata": {},
   "outputs": [
    {
     "name": "stdout",
     "output_type": "stream",
     "text": [
      "Mannings n :      0.013 --  \n",
      "    Depth  :      5.000 ft. \n",
      " Diameter  :      5.000 ft.\n",
      "    Slope  :      0.003 ft./ft.\n",
      "    Angle  :      3.142 radians\n",
      "      Area :     19.635 sq.ft.\n",
      " Perimeter :     15.708 ft.\n",
      " Discharge :    143.034 cu.ft./sec\n",
      "  Velocity :      7.285 ft/sec\n"
     ]
    }
   ],
   "source": [
    "# iPython Circular Mannings Calculator (Beware: No Error Checking!)\n",
    "########### INPUT VALUES ################\n",
    "manningsn = 0.013 # supply n value look up in a table\n",
    "depth = 5.0       # depth in feet\n",
    "diameter = 5.0    # culvert/outlet diameter in feet\n",
    "slope = 0.003     # culvert/outlet slope (feet/feet)\n",
    "########### MATH PACKAGE ################\n",
    "import math\n",
    "import sys\n",
    "########### CALCULATIONS ################\n",
    "angle = math.acos(1.0 - 2 * depth / diameter) \n",
    "area = (diameter**2)*(angle-math.sin(angle)*math.cos(angle))/4.0\n",
    "perimeter = angle*diameter\n",
    "radius = area/perimeter\n",
    "discharge = (1.49/manningsn)*area*(radius**(2/3))*math.sqrt(slope)\n",
    "velocity = discharge/area\n",
    "########### RESULTS ###############\n",
    "print(\"Mannings n : %10.3f --  \" %(manningsn))\n",
    "print(\"    Depth  : %10.3f ft. \" %(depth))\n",
    "print(\" Diameter  : %10.3f ft.\" %(diameter))\n",
    "print(\"    Slope  : %10.3f ft./ft.\" %(slope))\n",
    "print(\"    Angle  : %10.3f radians\" %(angle))\n",
    "print(\"      Area : %10.3f sq.ft.\" %(area))\n",
    "print(\" Perimeter : %10.3f ft.\" %(perimeter))\n",
    "print(\" Discharge : %10.3f cu.ft./sec\" %(discharge))\n",
    "print(\"  Velocity : %10.3f ft/sec\" %(velocity))"
   ]
  },
  {
   "cell_type": "code",
   "execution_count": 12,
   "metadata": {},
   "outputs": [
    {
     "name": "stdout",
     "output_type": "stream",
     "text": [
      "           Orifice Coef :      0.574 --  \n",
      "                 Depth  :      7.000 ft. \n",
      "              Diameter  :      5.000 ft.\n",
      "Depth above centerline  :      9.500 ft.\n",
      "                   Area :     19.635 sq.ft.\n",
      "              Discharge :    278.770 cu.ft./sec\n",
      "               Velocity :     14.198 ft/sec\n"
     ]
    }
   ],
   "source": [
    "# iPython Orifice Calculator (Beware: No Error Checking!)\n",
    "########### INPUT VALUES ################\n",
    "coefficient = 0.574 # orifice coefficient (table lookup)\n",
    "depth = 7.0       # depth above top of orifice in feet\n",
    "diameter = 5.0    # orifice diameter in feet\n",
    "slope = 0.003     # culvert/outlet slope (feet/feet)\n",
    "########### MATH PACKAGE ################\n",
    "import math\n",
    "import sys\n",
    "########### CALCULATIONS ################\n",
    "if depth >= 0:\n",
    "    centerline = depth + diameter - 0.5*diameter\n",
    "    area = 0.25*math.pi*diameter**2\n",
    "    discharge = coefficient*area*math.sqrt(2.0*32.2*centerline)\n",
    "    velocity = discharge/area\n",
    "else:\n",
    "    print(\"not orifice flow\")\n",
    "    \n",
    "\n",
    "########### RESULTS ###############\n",
    "print(\"           Orifice Coef : %10.3f --  \" %(coefficient))\n",
    "print(\"                 Depth  : %10.3f ft. \" %(depth))\n",
    "print(\"              Diameter  : %10.3f ft.\" %(diameter))\n",
    "print(\"Depth above centerline  : %10.3f ft.\" %(centerline))\n",
    "print(\"                   Area : %10.3f sq.ft.\" %(area))\n",
    "print(\"              Discharge : %10.3f cu.ft./sec\" %(discharge))\n",
    "print(\"               Velocity : %10.3f ft/sec\" %(velocity))"
   ]
  },
  {
   "cell_type": "markdown",
   "metadata": {},
   "source": [
    "Use these and basin geometry to build depth-storage outflow table.\n",
    "\n",
    "![](depth-storage-outflow.png)\n",
    "\n",
    "Copy the depth-storage-outflow to the routing table (we are going to build) – we need it as a tabulation so we can use INDEX and MATCH to get values from the table for interpolation (Eq. at bottom CMM pg 249)\n",
    "\n",
    "![](interpolation.png)"
   ]
  },
  {
   "cell_type": "markdown",
   "metadata": {},
   "source": [
    "![](routingtable1.png)\n",
    "\n",
    "![](routingtable2.png)\n",
    "\n",
    "![](routingtable3.png)\n",
    "\n",
    "![](routingtable4.png)\n",
    "\n",
    "![](routingtable5.png)"
   ]
  },
  {
   "cell_type": "markdown",
   "metadata": {},
   "source": [
    "The full spreadsheet, with the interpolation function as an Excel 94 macro sheet (you could code in place, will have a few more columns) is on server as [Routing Example.](http://54.243.252.9/ce-3354-webroot/ce-3354-webbook-2024/my3354notes/lessons/17-ReservoirRouting/RoutingExample.xls)\n",
    "\n",
    "- Such computations are a lot easier to perform in HEC-HMS because it handles (1) building the routing table and (2) selecting a decent time step\n",
    "- Can also use level pool routing for a stream reach (next meeting)."
   ]
  },
  {
   "cell_type": "markdown",
   "metadata": {},
   "source": [
    "## Reservoir Concepts\n",
    "- Reservoir\n",
    "  - A pond, lake, or basin, either natural or artificial, for the storage, regulation, and control of water.\n",
    "- Regulated reservoir\n",
    "  - Outflow controlled by moveable gates and valves. \n",
    "  - Head, and valve settings determine outflow.\n",
    "- Unregulated reservoir.\n",
    "  - Outflow controlled by fixed weirs and orifices.\n",
    "  - Head and constructed weir height determine outflow."
   ]
  },
  {
   "cell_type": "markdown",
   "metadata": {},
   "source": [
    "## Reservoir Storage\n",
    "\n",
    "Storage Representations≈\n",
    "- Storage vs. Discharge\n",
    "- Storage vs. Elevation\n",
    "- Surface Area vs. Elevation\n",
    "\n",
    "![](ReservoirConcepts.png)\n",
    "\n",
    "Discharge Representations \n",
    "- Spillways, Weirs\n",
    "- Orifices, Sluice gates\n",
    "- Pumps\n",
    "- Dam Breach\n",
    "\n"
   ]
  },
  {
   "cell_type": "markdown",
   "metadata": {},
   "source": [
    "## HEC-HMS Constructs\n",
    "\n",
    "![](hms-reservoir-element.png)\n",
    "\n",
    "![](hec-res1.png)\n",
    "![](hec-res2.png)\n",
    "![](hec-res3.png)\n",
    "![](hec-res4.png)\n",
    "![](hec-res5.png)\n",
    "![](hec-res6.png)\n",
    "![](hec-res7.png)\n",
    "![](hec-res8.png)\n",
    "![](hec-res9.png)"
   ]
  },
  {
   "cell_type": "markdown",
   "metadata": {},
   "source": [
    "## Routing-channel and reservoir\n",
    "\n",
    "Reservoir routing\n",
    "- Account for storage in a reservoir\n",
    "- Unique storage-discharge relationship\n",
    "\n",
    "Channel routing\n",
    "- Account for storage in channel as well as travel time \n",
    "- Storage-discharge relation in channel is non-unique\n",
    "- Can treat channel as a series of reservoirs to mitigate looped effect."
   ]
  },
  {
   "cell_type": "markdown",
   "metadata": {},
   "source": [
    "## HEC-HMS Files\n",
    "\n",
    "1. [MyReservoirModel.zip (zip file of en entire HMS project)](http://54.243.252.9/ce-3354-webroot/ce3354book/lessons/lesson11/MyReservoirModel.zip)"
   ]
  },
  {
   "cell_type": "markdown",
   "metadata": {},
   "source": [
    "## End of File"
   ]
  },
  {
   "cell_type": "code",
   "execution_count": null,
   "metadata": {},
   "outputs": [],
   "source": []
  }
 ],
 "metadata": {
  "kernelspec": {
   "display_name": "Python 3",
   "language": "python",
   "name": "python3"
  },
  "language_info": {
   "codemirror_mode": {
    "name": "ipython",
    "version": 3
   },
   "file_extension": ".py",
   "mimetype": "text/x-python",
   "name": "python",
   "nbconvert_exporter": "python",
   "pygments_lexer": "ipython3",
   "version": "3.8.10"
  }
 },
 "nbformat": 4,
 "nbformat_minor": 4
}
