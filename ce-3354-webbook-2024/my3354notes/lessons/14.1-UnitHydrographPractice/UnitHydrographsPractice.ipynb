{
 "cells": [
  {
   "cell_type": "markdown",
   "metadata": {},
   "source": [
    "# Unit Hydrographs (In Class Exercise)"
   ]
  },
  {
   "cell_type": "markdown",
   "metadata": {},
   "source": [
    "## Exercise 1\n",
    "\n",
    "Determine the direct runoff hydrograph resulting from the rainfall pattern in Figure P2-2(a) using the triangular 1-hr UH given in  Fig. P2-2(b)\n",
    "\n",
    "![](Raro001.png)"
   ]
  },
  {
   "cell_type": "markdown",
   "metadata": {},
   "source": [
    "Workflow:\n",
    "    \n",
    "1. UH is for 1-hr **excess precipitation**.\n",
    "2. Is the hyetograph in 1-hr increments?  \n",
    "  - Yes, proceede\n",
    "  - No, convert supplied hyetograph into equivalent 1-hr increments (or whatever is dictated by the UH)\n",
    "3. Has the loss function been applied?\n",
    "  - Yes, proceede\n",
    "  - No, apply loss function to each hyetograph increment\n",
    "4. On suitable chart plot each increments response onto the chart - remember to lag the responses consistent with the increment timing."
   ]
  },
  {
   "cell_type": "markdown",
   "metadata": {},
   "source": [
    "![](BlankChart.png)"
   ]
  },
  {
   "cell_type": "markdown",
   "metadata": {},
   "source": [
    "Consider the watershed below.  Area A and B are identical in size, shape, slope, and channel length. 1-hr UH are supplied fro natural and developed conditions for both areas.\n",
    "\n",
    "![](Watershed.png)  ![](UHTable.png)\n",
    "\n",
    "Determine:\n",
    "1. Assuming natural conditions for both areas determine the outflow at point 1 if 2.5 in.hr of rain falls for 2 hrs.  Total loss is 1 in.\n",
    "2. Assume area B is fully developed, area A remains au naturel.  Determine the outflow at point 1 if 2.0 in/hr of **excess rain** falls for 1 hrs.  \n",
    "3. Repeat the above for both areas fully developed.\n",
    "\n"
   ]
  },
  {
   "cell_type": "markdown",
   "metadata": {},
   "source": [
    "![](BlankChart.png)"
   ]
  },
  {
   "cell_type": "markdown",
   "metadata": {},
   "source": [
    "![](BlankChart.png)"
   ]
  },
  {
   "cell_type": "markdown",
   "metadata": {},
   "source": [
    "![](BlankChart.png)"
   ]
  },
  {
   "cell_type": "code",
   "execution_count": null,
   "metadata": {},
   "outputs": [],
   "source": []
  }
 ],
 "metadata": {
  "kernelspec": {
   "display_name": "Python 3",
   "language": "python",
   "name": "python3"
  },
  "language_info": {
   "codemirror_mode": {
    "name": "ipython",
    "version": 3
   },
   "file_extension": ".py",
   "mimetype": "text/x-python",
   "name": "python",
   "nbconvert_exporter": "python",
   "pygments_lexer": "ipython3",
   "version": "3.8.10"
  }
 },
 "nbformat": 4,
 "nbformat_minor": 4
}
