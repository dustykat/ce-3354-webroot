{
 "cells": [
  {
   "cell_type": "markdown",
   "metadata": {},
   "source": [
    "## Streamflow\n",
    "\n",
    "I. Introduction to Streamflow\n",
    "A. Definition of streamflow\n",
    "B. Importance of understanding streamflow in civil engineering\n",
    "C. Overview of key concepts to be covered\n",
    "\n",
    "II. Factors Affecting Streamflow\n",
    "A. Precipitation\n",
    "1. Types of precipitation\n",
    "2. Distribution and intensity\n",
    "B. Watershed Characteristics\n",
    "1. Size and shape of the watershed\n",
    "2. Soil type and land use\n",
    "C. Climate\n",
    "1. Temperature\n",
    "2. Seasonal variations\n",
    "D. Human Activities\n",
    "1. Urbanization\n",
    "2. Deforestation\n",
    "3. Agriculture\n",
    "\n",
    "III. Methods of Streamflow Measurement\n",
    "A. Direct Measurement Techniques\n",
    "1. Stream gauging stations\n",
    "2. Flow velocity measurement\n",
    "B. Indirect Measurement Techniques\n",
    "1. Hydrological modeling\n",
    "2. Remote sensing\n",
    "C. Advantages and limitations of each method\n",
    "\n",
    "IV. Streamflow Analysis\n",
    "A. Hydrographs\n",
    "1. Definition and components\n",
    "2. Interpretation of hydrographs\n",
    "B. Flow Duration Curves\n",
    "1. Purpose and construction\n",
    "2. Applications in engineering design\n",
    "\n",
    "V. Streamflow Prediction and Forecasting\n",
    "A. Statistical Methods\n",
    "1. Regression analysis\n",
    "2. Probability distributions\n",
    "B. Hydrological Models\n",
    "1. Conceptual models\n",
    "2. Numerical models\n",
    "C. Uncertainty and risk assessment in streamflow forecasting\n",
    "\n",
    "VI. Streamflow Management and Engineering Applications\n",
    "A. Flood Risk Assessment and Management\n",
    "B. Water Resource Management\n",
    "C. Environmental Impact Assessment\n",
    "D. Hydraulic Design of Water Infrastructure\n",
    "\n",
    "VII. Case Studies and Examples\n",
    "A. Real-world examples of streamflow analysis and management projects\n",
    "B. Application of theoretical concepts to practical engineering problems\n",
    "\n",
    "VIII. Conclusion\n",
    "A. Recap of key points covered\n",
    "B. Importance of streamflow in civil engineering practice\n",
    "C. Future directions and challenges in streamflow management\n",
    "\n",
    "This outline provides a structured approach to introduce freshman civil engineering students to the fundamental concepts of streamflow, its measurement, analysis, prediction, and engineering applications. Feel free to adjust and expand upon it based on the specific curriculum or interests of your audience."
   ]
  },
  {
   "cell_type": "markdown",
   "metadata": {},
   "source": [
    "## Precipitation\n",
    "- Forms of Precipitation \n",
    "  - Weather Systems for Precipitation \n",
    "- Measurement of Precipitation \n",
    "  - Raingauge Networks\n",
    "- Data Preparation \n",
    "  - Presentation of Rainfall Data\n",
    "  - Mean Precipitation Over An Area \n",
    "- Depth-Area-Duration Relationships\n",
    "  - Frequency of Point Rainfall\n",
    "  - Intensity/Depth-Duration-Frequency Relationship\n",
    "- Probable Maximum Precipitation (PMP) \n",
    "- World’s Greatest Observed Rainfalls"
   ]
  },
  {
   "cell_type": "markdown",
   "metadata": {},
   "source": [
    "## Engineering Hydrology and Hydraulics \n",
    "- Hydrology and Runoff\n",
    "  - Watershed Characteristics\n",
    "  - Time of Concentration\n",
    "  - Drainage Area"
   ]
  },
  {
   "cell_type": "markdown",
   "metadata": {},
   "source": [
    "## Culvert Design\n",
    "- Culvert Purposes\n",
    "  - Culvert Hydraulics\n",
    "  - What Makes a Good Culvert\n",
    "- Culvert Types and Hydraulic Conditions\n",
    "  - Inlet Control\n",
    "  - Outlet Control\n",
    "- Hydraulic Conditions\n",
    "  - Inlet Control\n",
    "  - Outlet Control"
   ]
  },
  {
   "cell_type": "markdown",
   "metadata": {},
   "source": [
    "## Storm Drain Inlet Design\n",
    "- Inlet Purposes\n",
    "  - Inlet Hydraulics\n",
    "  - What Makes a Good Inlet\n",
    "- Inlet Types and Hydraulic Conditions\n",
    "  - Weir Control\n",
    "  - Orifice Control"
   ]
  },
  {
   "cell_type": "markdown",
   "metadata": {},
   "source": [
    "## Storm Drain Conduit Design\n",
    "- Conduit Purposes\n",
    "  - Conduit Hydraulics\n",
    "  - What Makes a Good Conduit\n",
    "- Conduit Types and Hydraulic Conditions\n",
    "  - Free Surface\n",
    "  - Surcharged "
   ]
  },
  {
   "cell_type": "markdown",
   "metadata": {},
   "source": [
    "## Unit Hydrographs"
   ]
  },
  {
   "cell_type": "code",
   "execution_count": 1,
   "metadata": {},
   "outputs": [
    {
     "name": "stdout",
     "output_type": "stream",
     "text": [
      "\n",
      "\u001b[92m===============================================================================\u001b[0m\n",
      "\n",
      "Your book template can be found at\n",
      "\n",
      "    mynotes/\n",
      "\n",
      "\u001b[92m===============================================================================\u001b[0m\n",
      "\n"
     ]
    }
   ],
   "source": [
    "! jupyter-book create mynotes"
   ]
  },
  {
   "cell_type": "code",
   "execution_count": 3,
   "metadata": {},
   "outputs": [
    {
     "name": "stdout",
     "output_type": "stream",
     "text": [
      "/home/sensei/ce-3354-webroot\n"
     ]
    }
   ],
   "source": [
    "! pwd"
   ]
  },
  {
   "cell_type": "markdown",
   "metadata": {},
   "source": [
    "https://pon.sdsu.edu/enghydro/"
   ]
  },
  {
   "cell_type": "code",
   "execution_count": null,
   "metadata": {},
   "outputs": [],
   "source": []
  }
 ],
 "metadata": {
  "kernelspec": {
   "display_name": "Python 3",
   "language": "python",
   "name": "python3"
  },
  "language_info": {
   "codemirror_mode": {
    "name": "ipython",
    "version": 3
   },
   "file_extension": ".py",
   "mimetype": "text/x-python",
   "name": "python",
   "nbconvert_exporter": "python",
   "pygments_lexer": "ipython3",
   "version": "3.8.10"
  }
 },
 "nbformat": 4,
 "nbformat_minor": 4
}
