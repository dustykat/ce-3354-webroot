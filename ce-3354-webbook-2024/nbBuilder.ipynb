{
 "cells": [
  {
   "cell_type": "code",
   "execution_count": 1,
   "metadata": {},
   "outputs": [
    {
     "name": "stdout",
     "output_type": "stream",
     "text": [
      "/home/webroot/ce-3354-webroot/ce-3354-webbook-2024\n"
     ]
    }
   ],
   "source": [
    "! pwd"
   ]
  },
  {
   "cell_type": "code",
   "execution_count": 2,
   "metadata": {},
   "outputs": [],
   "source": [
    "#! jupyter-book create my3354notes"
   ]
  },
  {
   "cell_type": "code",
   "execution_count": 4,
   "metadata": {},
   "outputs": [
    {
     "name": "stdout",
     "output_type": "stream",
     "text": [
      "Usage: jupyter-book [OPTIONS] COMMAND [ARGS]...\n",
      "Try 'jupyter-book -h' for help.\n",
      "\n",
      "Error: No such command 'clear'.\n"
     ]
    }
   ],
   "source": [
    "! jupyter-book clean my3354notes"
   ]
  },
  {
   "cell_type": "code",
   "execution_count": 3,
   "metadata": {},
   "outputs": [
    {
     "name": "stdout",
     "output_type": "stream",
     "text": [
      "\u001b[32m\u001b[1mRunning Jupyter-Book v1.0.2\u001b[0m\n",
      "\u001b[34m\u001b[1mSource Folder: \u001b[0m/home/webroot/ce-3354-webroot/ce-3354-webbook-2024/my3354notes\n",
      "\u001b[34m\u001b[1mConfig Path: \u001b[0m/home/webroot/ce-3354-webroot/ce-3354-webbook-2024/my3354notes/_config.yml\n",
      "\u001b[34m\u001b[1mOutput Path: \u001b[0m/home/webroot/ce-3354-webroot/ce-3354-webbook-2024/my3354notes/_build/html\n",
      "\u001b[01mRunning Sphinx v7.4.7\u001b[39;49;00m\n",
      "\u001b[01mloading translations [en]... \u001b[39;49;00mdone\n",
      "[etoc] Changing master_doc to 'intro'\n",
      "\u001b[01mloading pickled environment... \u001b[39;49;00mfailed: state is not a dictionary\n",
      "checking bibtex cache... out of date\n",
      "parsing bibtex file /home/webroot/ce-3354-webroot/ce-3354-webbook-2024/my3354notes/references.bib... parsed 5 entries\n",
      "done\n",
      "\u001b[01mmyst v2.0.0:\u001b[39;49;00m MdParserConfig(commonmark_only=False, gfm_only=False, enable_extensions={'linkify', 'colon_fence', 'substitution', 'dollarmath', 'tasklist'}, disable_syntax=[], all_links_external=False, url_schemes=('mailto', 'http', 'https'), ref_domains=None, fence_as_directive=set(), number_code_blocks=[], title_to_header=False, heading_anchors=0, heading_slug_func=None, html_meta={}, footnote_transition=True, words_per_minute=200, substitutions={}, linkify_fuzzy_links=True, dmath_allow_labels=True, dmath_allow_space=True, dmath_allow_digits=True, dmath_double_inline=False, update_mathjax=True, mathjax_classes='tex2jax_process|mathjax_process|math|output_area', enable_checkboxes=False, suppress_warnings=[], highlight_code_blocks=True)\n",
      "\u001b[01mmyst-nb v1.1.1:\u001b[39;49;00m NbParserConfig(custom_formats={}, metadata_key='mystnb', cell_metadata_key='mystnb', kernel_rgx_aliases={}, eval_name_regex='^[a-zA-Z_][a-zA-Z0-9_]*$', execution_mode='cache', execution_cache_path='', execution_excludepatterns=[], execution_timeout=-1, execution_in_temp=False, execution_allow_errors=False, execution_raise_on_error=False, execution_show_tb=False, merge_streams=False, render_plugin='default', remove_code_source=False, remove_code_outputs=False, code_prompt_show='Show code cell {type}', code_prompt_hide='Hide code cell {type}', number_source_lines=False, output_stderr='show', render_text_lexer='myst-ansi', render_error_lexer='ipythontb', render_image_options={}, render_figure_options={}, render_markdown_format='commonmark', output_folder='build', append_css=True, metadata_to_fm=False)\n",
      "Using jupyter-cache at: /home/webroot/ce-3354-webroot/ce-3354-webbook-2024/my3354notes/_build/.jupyter_cache\n",
      "\u001b[01msphinx-multitoc-numbering v0.1.3:\u001b[39;49;00m Loaded\n",
      "\u001b[01mbuilding [mo]: \u001b[39;49;00mtargets for 0 po files that are out of date\n",
      "\u001b[01mwriting output... \u001b[39;49;00m\n",
      "\u001b[01mbuilding [html]: \u001b[39;49;00mtargets for 24 source files that are out of date\n",
      "\u001b[01mupdating environment: \u001b[39;49;00m[new config] 24 added, 0 changed, 0 removed\n",
      "/home/webroot/ce-3354-webroot/ce-3354-webbook-2024/my3354notes/lessons/01-Introduction/introduction.ipynb: Using cached notebook: ID=10 [mystnb]\n",
      "/home/webroot/ce-3354-webroot/ce-3354-webbook-2024/my3354notes/lessons/02-HydrologySoftware/HydrologySoftware.ipynb: Using cached notebook: ID=10 [mystnb]\n",
      "/home/webroot/ce-3354-webroot/ce-3354-webbook-2024/my3354notes/lessons/03-HydrologicCycle/hydrologiccycle.ipynb: Using cached notebook: ID=6 [mystnb]\n",
      "/home/webroot/ce-3354-webroot/ce-3354-webbook-2024/my3354notes/lessons/05-Watersheds/watersheds.ipynb: Using cached notebook: ID=10 [mystnb]\n",
      "/home/webroot/ce-3354-webroot/ce-3354-webbook-2024/my3354notes/lessons/06-ProbabilityEstimation/ProbabilityEstimationModels.ipynb: Using cached notebook: ID=17 [mystnb]\n",
      "/home/webroot/ce-3354-webroot/ce-3354-webbook-2024/my3354notes/lessons/07-StreamflowDataModeling/streamflowdatamodeling.ipynb: Using cached notebook: ID=1 [mystnb]\n",
      "/home/webroot/ce-3354-webroot/ce-3354-webbook-2024/my3354notes/lessons/09-Precipitation/precipitation.ipynb: Using cached notebook: ID=12 [mystnb]\n",
      "/home/webroot/ce-3354-webroot/ce-3354-webbook-2024/my3354notes/lessons/10-EvaporationInfiltration/EvaporationInfiltration.ipynb: Using cached notebook: ID=18 [mystnb]\n",
      "/home/webroot/ce-3354-webroot/ce-3354-webbook-2024/my3354notes/lessons/12-RainfallRunoff/RainfallRunoff.ipynb: Using cached notebook: ID=19 [mystnb]\n",
      "/home/webroot/ce-3354-webroot/ce-3354-webbook-2024/my3354notes/lessons/13-RationalModifiedRational/RationalAndModifiedRationalMethod.ipynb: Using cached notebook: ID=20 [mystnb]\n",
      "/home/webroot/ce-3354-webroot/ce-3354-webbook-2024/my3354notes/lessons/14-UnitHydrographs/UnitHydrographs.ipynb: Using cached notebook: ID=1 [mystnb]\n",
      "/home/webroot/ce-3354-webroot/ce-3354-webbook-2024/my3354notes/lessons/14.1-UnitHydrographPractice/UnitHydrographsPractice.ipynb: Using cached notebook: ID=10 [mystnb]\n",
      "/home/webroot/ce-3354-webroot/ce-3354-webbook-2024/my3354notes/lessons/15-SyntheticUnitHydrographs/SyntheticUnitHydrographs.ipynb: Using cached notebook: ID=10 [mystnb]\n",
      "/home/webroot/ce-3354-webroot/ce-3354-webbook-2024/my3354notes/lessons/16-HEC_HMS/hechms.ipynb: Using cached notebook: ID=10 [mystnb]\n",
      "/home/webroot/ce-3354-webroot/ce-3354-webbook-2024/my3354notes/lessons/17-ReservoirRouting/reservoirrouting.ipynb: Using cached notebook: ID=15 [mystnb]\n",
      "/home/webroot/ce-3354-webroot/ce-3354-webbook-2024/my3354notes/lessons/18-CatchmentRouting/streamrouting.ipynb: Using cached notebook: ID=10 [mystnb]\n",
      "/home/webroot/ce-3354-webroot/ce-3354-webbook-2024/my3354notes/lessons/20-CulvertSizing/culverthydrology.ipynb: Using cached notebook: ID=10 [mystnb]\n",
      "/home/webroot/ce-3354-webroot/ce-3354-webbook-2024/my3354notes/lessons/21-StormSewerSizing/stormsewerhydrology.ipynb: Using cached notebook: ID=1 [mystnb]\n",
      "/home/webroot/ce-3354-webroot/ce-3354-webbook-2024/my3354notes/lessons/23-Groundwater/groundwater.ipynb: Using cached notebook: ID=1 [mystnb]\n",
      "/home/webroot/ce-3354-webroot/ce-3354-webbook-2024/my3354notes/lessons/23-Groundwater/groundwater2.ipynb: Using cached notebook: ID=1 [mystnb]\n",
      "/home/webroot/ce-3354-webroot/ce-3354-webbook-2024/my3354notes/lessons/23-Groundwater/groundwater3.ipynb: Using cached notebook: ID=1 [mystnb]\n",
      "/home/webroot/ce-3354-webroot/ce-3354-webbook-2024/my3354notes/lessons/23-Groundwater/groundwater4.ipynb: Using cached notebook: ID=1 [mystnb]\n",
      "/home/webroot/ce-3354-webroot/ce-3354-webbook-2024/my3354notes/lessons/23-Groundwater/groundwater5.ipynb: Using cached notebook: ID=1 [mystnb]\n",
      "\n",
      "\u001b[01mlooking for now-outdated files... \u001b[39;49;00mnone found\n",
      "\u001b[01mpickling environment... \u001b[39;49;00mdone\n",
      "\u001b[01mchecking consistency... \u001b[39;49;00mdone\n",
      "\u001b[01mpreparing documents... \u001b[39;49;00mdone\n",
      "\u001b[01mcopying assets... \u001b[39;49;00m\n",
      "\u001b[01mcopying static files... \u001b[39;49;00mCopying the source path /opt/jupyterhub/lib/python3.10/site-packages/sphinx/themes/basic/static/doctools.js to /home/webroot/ce-3354-webroot/ce-3354-webbook-2024/my3354notes/_build/html/_static/doctools.js will overwrite data, as a file already exists at the destination path and the content does not match.\n",
      "Copying the source path /opt/jupyterhub/lib/python3.10/site-packages/sphinx/themes/basic/static/searchtools.js to /home/webroot/ce-3354-webroot/ce-3354-webbook-2024/my3354notes/_build/html/_static/searchtools.js will overwrite data, as a file already exists at the destination path and the content does not match.\n",
      "Copying the source path /opt/jupyterhub/lib/python3.10/site-packages/pydata_sphinx_theme/theme/pydata_sphinx_theme/static/webpack-macros.html to /home/webroot/ce-3354-webroot/ce-3354-webbook-2024/my3354notes/_build/html/_static/webpack-macros.html will overwrite data, as a file already exists at the destination path and the content does not match.\n",
      "Copying the source path /opt/jupyterhub/lib/python3.10/site-packages/sphinx_togglebutton/_static/togglebutton.css to /home/webroot/ce-3354-webroot/ce-3354-webbook-2024/my3354notes/_build/html/_static/togglebutton.css will overwrite data, as a file already exists at the destination path and the content does not match.\n",
      "Copying the source path /opt/jupyterhub/lib/python3.10/site-packages/sphinx_togglebutton/_static/togglebutton.js to /home/webroot/ce-3354-webroot/ce-3354-webbook-2024/my3354notes/_build/html/_static/togglebutton.js will overwrite data, as a file already exists at the destination path and the content does not match.\n",
      "Copying the source path /opt/jupyterhub/lib/python3.10/site-packages/sphinx_copybutton/_static/copy-button.svg to /home/webroot/ce-3354-webroot/ce-3354-webbook-2024/my3354notes/_build/html/_static/copy-button.svg will overwrite data, as a file already exists at the destination path and the content does not match.\n",
      "Copying the source path /opt/jupyterhub/lib/python3.10/site-packages/sphinx_copybutton/_static/copybutton.css to /home/webroot/ce-3354-webroot/ce-3354-webbook-2024/my3354notes/_build/html/_static/copybutton.css will overwrite data, as a file already exists at the destination path and the content does not match.\n",
      "Copying the source path /opt/jupyterhub/lib/python3.10/site-packages/sphinx_copybutton/_static/copybutton_funcs.js to /home/webroot/ce-3354-webroot/ce-3354-webbook-2024/my3354notes/_build/html/_static/copybutton_funcs.js will overwrite data, as a file already exists at the destination path and the content does not match.\n",
      "Copying the source path /opt/jupyterhub/lib/python3.10/site-packages/sphinx_thebe/_static/sphinx-thebe.js to /home/webroot/ce-3354-webroot/ce-3354-webbook-2024/my3354notes/_build/html/_static/sphinx-thebe.js will overwrite data, as a file already exists at the destination path and the content does not match.\n",
      "Copying the source path /opt/jupyterhub/lib/python3.10/site-packages/sphinx_thebe/_static/sphinx-thebe.css to /home/webroot/ce-3354-webroot/ce-3354-webbook-2024/my3354notes/_build/html/_static/sphinx-thebe.css will overwrite data, as a file already exists at the destination path and the content does not match.\n",
      "done\n",
      "\u001b[01mcopying extra files... \u001b[39;49;00mdone\n",
      "\u001b[01mcopying assets: \u001b[39;49;00mdone\n",
      "\u001b[2K\u001b[01mwriting output... \u001b[39;49;00m[100%] \u001b[32mlessons/23-Groundwater/groundwater5\u001b[39;49;00my\u001b[39;49;00me\u001b[39;49;00m[39;49;00ming output... \u001b[39;49;00m[ 38%] \u001b[32mlessons/10-EvaporationInfiltration/EvaporationInfiltration\u001b[39;49;00m\u001b[01mwriting output... \u001b[39;49;00m[ 58%] \u001b[32mlessons/15-SyntheticUnitHydrographs/SyntheticUnitHydrographs\u001b[39;49;00m\n",
      "\u001b[91m/home/webroot/ce-3354-webroot/ce-3354-webbook-2024/my3354notes/lessons/05-Watersheds/watersheds.ipynb:150003: WARNING: 'myst' cross-reference target not found: 'ce-3354-webroot/ce-3354-webbook-2024/my3354notes/lessons/05-Watersheds/ce3354-es2-2024-3-ByHandRFS.pdf' [myst.xref_missing]\u001b[39;49;00m\n",
      "\u001b[91m/home/webroot/ce-3354-webroot/ce-3354-webbook-2024/my3354notes/lessons/06-ProbabilityEstimation/ProbabilityEstimationModels.ipynb:680013: WARNING: 'myst' cross-reference target not found: '' [myst.xref_missing]\u001b[39;49;00m\n",
      "\u001b[01mgenerating indices... \u001b[39;49;00mgenindex done\n",
      "\u001b[01mwriting additional pages... \u001b[39;49;00msearch done\n",
      "\u001b[2K\u001b[01mcopying images... \u001b[39;49;00m[100%] \u001b[33mlessons/23-Groundwater/FilterColumn.png\u001b[39;49;00m9;00m;00m0m00m0m710cd5ac0f5ba09a2db51.png\u001b[39;49;00m\u001b[01mcopying images... \u001b[39;49;00m[ 12%] \u001b[33m_build/jupyter_execute/0dbc32423aacb71d093cbbf56fb58ed322344eb0d5eb05965ece0add38cbc281.png\u001b[39;49;00m\u001b[01mcopying images... \u001b[39;49;00m[ 19%] \u001b[33mlessons/09-Precipitation/hc-precip.png\u001b[39;49;00m\u001b[01mcopying images... \u001b[39;49;00m[ 68%] \u001b[33mlessons/17-ReservoirRouting/levelpool2.png\u001b[39;49;00m\u001b[01mcopying images... \u001b[39;49;00m[ 81%] \u001b[33mlessons/18-CatchmentRouting/area.png\u001b[39;49;00m\n",
      "\u001b[01mdumping search index in English (code: en)... \u001b[39;49;00mdone\n",
      "\u001b[01mdumping object inventory... \u001b[39;49;00mdone\n",
      "\u001b[01mbuild succeeded, 2 warnings.\u001b[39;49;00m\n",
      "\n",
      "The HTML pages are in my3354notes/_build/html.\n",
      "\n",
      "\u001b[92m===============================================================================\u001b[0m\n",
      "\n",
      "Finished generating HTML for book.\n",
      "Your book's HTML pages are here:\n",
      "    my3354notes/_build/html/\n",
      "You can look at your book by opening this file in a browser:\n",
      "    my3354notes/_build/html/index.html\n",
      "Or paste this line directly into your browser bar:\n",
      "    file:///home/webroot/ce-3354-webroot/ce-3354-webbook-2024/my3354notes/_build/html/index.html            \n",
      "\n",
      "\u001b[92m===============================================================================\u001b[0m\n",
      "\n"
     ]
    }
   ],
   "source": [
    "! jupyter-book build my3354notes"
   ]
  },
  {
   "cell_type": "code",
   "execution_count": 10,
   "metadata": {},
   "outputs": [],
   "source": []
  },
  {
   "cell_type": "code",
   "execution_count": null,
   "metadata": {},
   "outputs": [],
   "source": []
  }
 ],
 "metadata": {
  "kernelspec": {
   "display_name": "Python 3 (ipykernel)",
   "language": "python",
   "name": "python3"
  },
  "language_info": {
   "codemirror_mode": {
    "name": "ipython",
    "version": 3
   },
   "file_extension": ".py",
   "mimetype": "text/x-python",
   "name": "python",
   "nbconvert_exporter": "python",
   "pygments_lexer": "ipython3",
   "version": "3.10.12"
  }
 },
 "nbformat": 4,
 "nbformat_minor": 4
}
