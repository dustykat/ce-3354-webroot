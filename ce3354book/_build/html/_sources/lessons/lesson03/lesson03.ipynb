{
 "cells": [
  {
   "cell_type": "markdown",
   "metadata": {},
   "source": []
  },
  {
   "cell_type": "markdown",
   "metadata": {},
   "source": [
    "# Watersheds\n",
    "\n",
    "Some definitions of a watershed include:\n",
    "\n",
    "- Topographic area that collects and discharges surface streamflow through one outlet or mouth (pour point)\n",
    "- The area on the surface of the Earth that drains to a specific location\n",
    "- In groundwater a similar concept is called a groundwater basin – only the boundaries can move depending on relative rates of recharge and discharge \n",
    "\n",
    "The topographic definition omits that there could be subsurface sewer systems that can cross topographic boundaries.   \n",
    "It’s a big deal in urban areas.\n",
    "\n",
    "[insert some images]"
   ]
  },
  {
   "cell_type": "markdown",
   "metadata": {},
   "source": [
    "## Watershed Delineation\n",
    "\n",
    "Identifies the boundaries of our hydrologic unit / area of study.\n",
    "- Need to interpret topographic maps (or DEM/DTM) to construct the boundary\n",
    "- Read “How to ...” on server (check the reading list below!)\n",
    "\n",
    "### By-hand steps to delineate a watershed\n",
    "\n",
    "- Locate a pour point/point of interest\n",
    "- Superimpose a grid over the study area\n",
    "  – used to assign average elevations for demarking the boundary\n",
    "- Trace/outline the main path of the stream that you want to examine that flows to the pour point\n",
    "- Trace all perennial or influential tributaries\n",
    "- Locate the lowest point/outlet of the main stem and work uphill to identify the ridges and hill tops that divide the water from flowing into separate watersheds\n",
    " - When in doubt, consider, where a drop of rain would go on different parts of study region\n",
    "\n",
    "#### Locate a pour point/point of interest\n",
    "\n",
    "![](pourpoint.png)\n",
    "\n",
    "#### Superimpose a grid over the study area\n",
    "\n",
    "Used to assign average elevations for demarking the boundary, so the grid needs to be small enough to capture meaningful elevation change, but big enough that you can complete the task in your lifetime.\n",
    "\n",
    "![](gridoverlay.png)\n",
    "\n",
    "#### Estimate Cell Elevations\n",
    "\n",
    "Estimate the average elevations in each cell. Trace/outline the main path of the stream that you want to examine that flows to the pour point.  Trace all perennial or influential tributaries\n",
    "Locate the lowest point/outlet of the main stem and work uphill to identify the ridges and hill tops that divide the water from flowing into separate watersheds\n",
    "\n",
    "![](estimatecellelev.png)\n",
    "\n",
    "#### Draw Boundary\n",
    "\n",
    "Once the high points are identified, connect them and draw the watershed boundary.  You can now make measurements to determine area, lengths, and slopes.\n",
    "\n",
    "![](drawboundary.png)\n",
    "\n",
    "### Automated\n",
    "\n",
    "Automated delineation essentially replicates these steps in a computer program. ArcGIS, QGIS and similar tools can perform a raster-based cell-by-cell flow accumulation calculation and when the \"upstream\" cell count gets smaller than some threshold, the program declares that to be a high point.  And draws the boundary.  \n",
    "\n",
    "The automated tools are pretty good; fast; and less prone to interpretation - but you have to have the software and know how to use it.  \n",
    "\n",
    "Manual methods and automated methods produce comparable results, but for large areas the automated methods are much faster. [Heitmuller et. al. 2006](http://54.243.252.9/ce-3354-webroot/3-Readings/SW-Geographer-2006/SW-Geographer-2006.pdf)\n",
    "\n",
    "### Stream Stats Tool\n",
    "\n",
    "An on-line tool for use in many states is [StreamStats](https://streamstats.usgs.gov/ss/).  A good demonstration is to select a stream near Lawton Oklahoma and generate a watershed report."
   ]
  },
  {
   "cell_type": "markdown",
   "metadata": {},
   "source": [
    "## Watershed Metrics\n",
    "\n",
    "### Measuring Area\n",
    "### Measuring Length(s) \n",
    "### Estimating Slope(s)"
   ]
  },
  {
   "cell_type": "markdown",
   "metadata": {},
   "source": []
  },
  {
   "cell_type": "markdown",
   "metadata": {},
   "source": [
    "## References\n",
    "\n",
    "1. [Cleveland, T. G. (2020) *Surface Water Hydrology Notes (Watersheds) to accompany CE-5361*, Department of Civil, Environmental, and Construction Engineering, Whitacre College of Engineering.](http://54.243.252.9/ce-3354-webroot/1-Lectures-2020/lesson04/Lesson04.pdf)\n",
    "2. [Cleveland, T. G. (2017) *Engineering Hydrology Notes (Hydrologic Data; Watershed Delineation) to accompany CE-3354*, Department of Civil, Environmental, and Construction Engineering, Whitacre College of Engineering.](http://54.243.252.9/ce-3354-webroot/1-Lectures-2017/Lecture03.pdf)\n",
    "3. [Cleveland, T. G. (2017) *Engineering Hydrology Notes (Watershed Metrics) to accompany CE-3354*, Department of Civil, Environmental, and Construction Engineering, Whitacre College of Engineering.](http://54.243.252.9/ce-3354-webroot/1-Lectures-2017/Lecture04.pdf)\n",
    "2. [Florida Delineation Training Watershed (png)](http://54.243.252.9/ce-3354-webroot/1-Lectures-2017/Florida-Training-Watershed.png) Right-Click \"Save As...\"\n",
    "3. [Texas Delineation Training Watershed (png)](http://54.243.252.9/ce-3354-webroot/1-Lectures-2017/Texas-Training-Watershed.png) Right-Click \"Save As...\"\n",
    "4. [Watersheds - McCuen](http://54.243.252.9/ce-3354-webroot/3-Readings/McCuen-Watersheds/McCuen-Watersheds.pdf)\n",
    "5. [How to Delineate a Watershed](http://54.243.252.9/ce-3354-webroot/3-Readings/NewHampshire-Watersheds/Topowatershed.pdf)\n",
    "6. [Numerical Planimetry](http://54.243.252.9/ce-3354-webroot/3-Readings/NumericalPlanimetry/)\n",
    "7. [How To Measure Path](http://54.243.252.9/ce-3354-webroot/3-Readings/HowToMeasurePath/HowToMeasurePath.pdf)\n",
    "8. [How to use Topographic Maps](http://54.243.252.9/ce-3354-webroot/3-Readings/UsingTopographicMaps/Pages%20from%20USAF-Survival-Manual-644.pdf)"
   ]
  },
  {
   "cell_type": "code",
   "execution_count": null,
   "metadata": {},
   "outputs": [],
   "source": []
  }
 ],
 "metadata": {
  "kernelspec": {
   "display_name": "Python 3",
   "language": "python",
   "name": "python3"
  },
  "language_info": {
   "codemirror_mode": {
    "name": "ipython",
    "version": 3
   },
   "file_extension": ".py",
   "mimetype": "text/x-python",
   "name": "python",
   "nbconvert_exporter": "python",
   "pygments_lexer": "ipython3",
   "version": "3.8.10"
  }
 },
 "nbformat": 4,
 "nbformat_minor": 4
}
