{
 "cells": [
  {
   "cell_type": "markdown",
   "metadata": {},
   "source": [
    "# Hydrologic Process Modeling\n",
    "\n",
    "## Rainfall-Runoff Process (Description)\n",
    "\n",
    "## Rational Equation (A simplistic method for small areas)\n",
    "\n",
    "\n",
    "\n",
    "\n",
    "\n",
    "\n",
    "## References\n",
    "\n",
    "cite pages of textbook\n",
    "\n",
    "links to other readings \n",
    "\n"
   ]
  },
  {
   "cell_type": "markdown",
   "metadata": {},
   "source": []
  },
  {
   "cell_type": "markdown",
   "metadata": {},
   "source": []
  }
 ],
 "metadata": {
  "kernelspec": {
   "display_name": "Python 3",
   "language": "python",
   "name": "python3"
  },
  "language_info": {
   "codemirror_mode": {
    "name": "ipython",
    "version": 3
   },
   "file_extension": ".py",
   "mimetype": "text/x-python",
   "name": "python",
   "nbconvert_exporter": "python",
   "pygments_lexer": "ipython3",
   "version": "3.8.10"
  }
 },
 "nbformat": 4,
 "nbformat_minor": 4
}
