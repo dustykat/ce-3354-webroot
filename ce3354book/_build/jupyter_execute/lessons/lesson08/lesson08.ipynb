{
 "cells": [
  {
   "cell_type": "markdown",
   "metadata": {},
   "source": [
    "# Infiltration Models\n",
    "\n",
    "Examination of various process models at\n",
    "\n",
    "[Cleveland, T. G. (2020) *Surface Water Hydrology Notes (Infiltration) to accompany CE-5361*, Department of Civil, Environmental, and Construction Engineering, Whitacre College of Engineering.](http://54.243.252.9/ce-3354-webroot/1-Lectures-2020/lesson07/Lesson07.pdf)\n",
    "\n",
    "## HEC-HMS Loss Models\n",
    "\n",
    ">A sub**basin** element conceptually represents infiltration, surface runoff, and\n",
    "subsurface processes interacting together, the actual infiltration calculations are\n",
    "performed by a loss method contained within the subbasin. A total of twelve different\n",
    "loss methods are provided. Some of the methods are designed primarily for\n",
    "simulating events while others are intended for continuous simulation. All of the\n",
    "methods conserve mass. That is, the sum of infiltration and precipitation left on the\n",
    "surface will always be equal to total incoming precipitation.\n",
    "\n",
    ">The inputs for each loss method are presented on a separate Component Editor\n",
    "from the subbasin element editor. The \"Loss\" editor is always shown next to the\n",
    "\"Subbasin\" editor. If the kinematic wave transform method is selected, there may be\n",
    "two loss editors, one for each runoff plane. The information shown on the loss editor\n",
    "will depend on which method is currently selected\n",
    "\n",
    "A fully provisioned Windows Implementation of HEC-HMS is located at:\n",
    "\n",
    "- server_name: **kittyinthewindow.ddns.net**\n",
    "- user_name: **texas-skew**\n",
    "- passwd: **peakfq73$hare**\n",
    "\n",
    "Users must access using Remote Desktop Protocol (Built into Windows, Apple Store has a free Mac application).\n",
    "\n",
    "- Use the Hardin Creek Project to explore different loss models.\n",
    "\n",
    "Recomended Loss models for semester project are CN model or Green-Ampt.  These are easiest to parameterize from available data sources for the project and should be adequate for the problem statement.\n",
    "\n"
   ]
  },
  {
   "cell_type": "markdown",
   "metadata": {},
   "source": [
    "## References\n",
    "\n",
    "1. [Cleveland, T. G. (2020) *Surface Water Hydrology Notes (Infiltration) to accompany CE-5361*, Department of Civil, Environmental, and Construction Engineering, Whitacre College of Engineering.](http://54.243.252.9/ce-3354-webroot/1-Lectures-2020/lesson07/Lesson07.pdf)\n",
    "2. [Green-Ampt Spreadsheet (Excel)](http://54.243.252.9/ce-3354-webroot/1-Lectures-2020/lesson07/ce5361_green_ampt.xlsx) Right-Click \"Save As...\""
   ]
  }
 ],
 "metadata": {
  "kernelspec": {
   "display_name": "Python 3",
   "language": "python",
   "name": "python3"
  },
  "language_info": {
   "codemirror_mode": {
    "name": "ipython",
    "version": 3
   },
   "file_extension": ".py",
   "mimetype": "text/x-python",
   "name": "python",
   "nbconvert_exporter": "python",
   "pygments_lexer": "ipython3",
   "version": "3.8.10"
  }
 },
 "nbformat": 4,
 "nbformat_minor": 4
}