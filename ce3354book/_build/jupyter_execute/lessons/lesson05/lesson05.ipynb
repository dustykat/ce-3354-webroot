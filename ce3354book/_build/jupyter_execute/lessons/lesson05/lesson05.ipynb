{
 "cells": [
  {
   "cell_type": "markdown",
   "metadata": {},
   "source": [
    "# Streamflow Data Modeling\n",
    "\n"
   ]
  },
  {
   "cell_type": "markdown",
   "metadata": {},
   "source": [
    "## Streamflow Measurement\n",
    "\n",
    "Streamflow is measured by a variety of gaging technologies.  \n",
    "\n",
    "- Continuous record (usually stage, then rated to produce discharge)\n",
    "   - Located at control section if possible\n",
    "\n",
    "- Crest-Stage (captures peak stage)\n",
    "   - Uses slope-area to estimate discharge\n",
    "   - Post-event site visit required to survey debris-line as independent check of estimate\n",
    "\n",
    "**Continuous gages** use some kind of stilling well, and transducers to measure stage and send to satellite. During visits, a nearby staff gage is read to independently validate the transducer readings\n",
    "\n",
    "![](continuousgage.png)\n",
    "\n",
    "**Crest-Stage** gagues usually consist of a vertical pipe with holes in bottom – becomes a stilling well.\n",
    "Inside a staff gage and small amount of cork “flour” records water surface elevation.\n",
    "- A hydrographer visits site routinely (and after major events) and records cork elevation and re-sets gage.\n",
    "- The elevations are marked on a staff inside the pipe with pencil (and dated)\n",
    "- Slope area method between several nearby pipes is used to estimate discharge\n",
    "\n",
    "![](creststagegage.png)\n",
    "\n",
    "### Slope Area Method\n",
    "\n",
    "Application of Manning’s equation, using the slope of the water surface as the friction slope, and the stage geometry at measured cross sections.\n",
    "\n",
    "$$Q=\\frac{1.49}{n}~A~R^{2/3}~S^{1/2}$$\n",
    "\n",
    "Recall the factor 1.49 is for US Customary units, 1.0 is used if terms are expressed in SI units.\n",
    "\n",
    "- [See pp. 33-39 CMM for explaination of Manning’s equation](http://54.243.252.9/ce-3354-webroot/3-Readings/CMM1988/)\n",
    "- [See 7-31 TxDOT HDM for a description of slope-area (slope-conveyance) method](http://54.243.252.9/ce-3354-webroot/3-Readings/TXDOT-HYDM-2014/txdot-hdm-2014.pdf)"
   ]
  },
  {
   "cell_type": "markdown",
   "metadata": {},
   "source": [
    "## Streamflow Data\n",
    "\n",
    "Data sources for streamflow include:\n",
    "- USGS NWIS (Website)\n",
    "- IBWC\n",
    "- Older “paper-based” records\n",
    "- Local gage networks\n",
    "\n",
    "Illustrative example using USGS NWIS\n",
    "\n",
    "- Navigate to landing page for state of interest\n",
    "\n",
    "![](query-nwis.png)\n",
    "\n",
    "\n",
    "- Locate site of interest, or something stupid close\n",
    "\n",
    "![](nwis-buffalo.png)\n",
    "\n",
    "- Download desired record(s)\n",
    "\n",
    "![](nwis-buffalo2.png)\n",
    "\n",
    "- Typical file structure \n",
    "\n",
    "![](nwis-buffalo3.png)"
   ]
  },
  {
   "cell_type": "markdown",
   "metadata": {},
   "source": [
    "## Watershed Characteristics\n",
    "\n",
    "One tool in applied hydrology is to relate measurable watershed properties to streamflow discharge.  \n",
    "\n",
    "What characteristics influence runoff?\n",
    "- Where you are\n",
    "- How large an area\n",
    "- Gradient\n",
    "\n",
    "![](devilsriver.png)\n",
    "\n",
    "More detailed list might include:\n",
    "- Width, shape\n",
    "- Elevation: minimum, maximum + slope\n",
    "- Roughness: Channels, overbanks\n",
    "- Geology and soils\n",
    "- Climate\n",
    "- Vegetation\n",
    "- Land use, including urbanization and imperviousness\n",
    "- Controls: Dams, gates, diversions, channel rectification\n",
    "\n",
    "This is part of the motivation for learning how to delineate a watershed.\n",
    "\n",
    "Supporting data sources include:\n",
    "- USGS quadrangle maps\n",
    "- Aerial photos\n",
    "- Satellite imagery\n",
    "- NRCS soil surveys\n",
    "- Field surveys\n",
    "- Previous investigations\n",
    "\n",
    "![](nrcs-soilsmap.png)\n"
   ]
  },
  {
   "cell_type": "markdown",
   "metadata": {},
   "source": [
    "## Regional Regression Equations\n",
    "\n",
    "Where sufficient data exist, one technique for gross estimates of streamflow based largely on watershed area, rainfall input, and location are regional regression equations.  These exist in some fashion for each state in the USA, and most terrortories (Puerto Rico, Guam ...).  They probably exist for many other countries, and are all obtained in a similar fashion.\n",
    "\n",
    "The equations are constructed by first fitting an appropriate probability distribution to observations at a gaged location (station flood frequency). Then the station flood frequency curves are used as surrogate observations (at a specified AEP) to relate discharge to select geomorphic variables:\n",
    "\n",
    "$$(\\bar Q_{AEP} -\\beta_0 - \\beta_1 A - \\beta_2 S - \\beta_3 MAP \\dots)^2= \\bar \\epsilon$$\n",
    "\n",
    "The “betas” are obtained by trying to make “epsilon” small, the AREA, SLOPE, and other watershed characteristics are the explainatory variables.\n",
    "\n",
    "The resulting equations are typically expressed in a power-law form (rather that the linear combination above) for actual application\n",
    "\n",
    "$$Q_{AEP,\\text{Estimate}} = \\beta_0 (\\text{AREA})^{\\beta_1} (\\text{SLOPE})^{\\beta_2} (\\text{MAP})^{\\beta_3}$$\n",
    "\n",
    "For example in Texas the following guidance is found in Chapter 4 of the Texas Hydraulics Manual:\n",
    "\n",
    "![](THMregression.png)\n",
    "\n",
    "The actual equations in current use are\n",
    "\n",
    "![](RegressionEquations.png)\n",
    "\n",
    "Two needed input values are the mean annual precipitation (MAP) and the Omega-EM factor both of which are mapped and available on the almighty internet\n",
    "\n",
    "- [Texas Mean Annual Precipitation](http://onlinemanuals.txdot.gov/txdotmanuals/hyd/images/Fig4-6.png)\n",
    "- [Texas Omega-EM Map](http://onlinemanuals.txdot.gov/txdotmanuals/hyd/OmegaEM_black_cropped.pdf)\n",
    "\n",
    "Using the table above and the known equation structure it is fairly straightforward to create a tool for routine use in either a spreadsheet form or in python\n",
    "\n",
    "- [Texas Regression Equation Spreadsheet](http://54.243.252.9/ce-3354-webroot/ce3354book/lessons/lesson05/TexasRegionalRegressionTool.xlsx)\n",
    "- [On-Line Texas Regression Equation Tool](http://54.243.252.9/toolbox/hydrology/TXRegression/TXRegression.html)\n",
    "\n",
    "Illustrative example for the Hardin Branch location (near Eden Texas).  \n",
    "\n",
    "Apply the Regression Equations for the Hardin Branch Watershed – provide a comparative estimate to help guide the project\n",
    "\n",
    "- AREA = 17 sq. mi.\n",
    "- MAP = 23 inches/year\n",
    "- OmegaEM = 0.345\n",
    "- Slope = 0.0048\n",
    "\n",
    "\n",
    "Below is result using the spreadsheet tool \n",
    "![](texasregional.png)\n",
    "\n",
    "And the on-line web interface\n",
    "![](texasregionalonline1.png)\n",
    "\n",
    "and the on-line results\n",
    "![](texasregionalonline2.png)"
   ]
  },
  {
   "cell_type": "markdown",
   "metadata": {},
   "source": [
    "## Frequency Analysis (Background)\n",
    "\n",
    "Frequency analysis is a kind of probability estimation modeling exercise\n",
    "\n",
    "### Probability Estimation Modeling\n",
    "\n",
    "Probability estimation modeling is the use of probability distributions (population data models) to model or explain behavior in observed (sample data) values.  Once a particular distribution is selected, then the concept of risk (probability) can be explored for events of varying magnitudes.\n",
    "\n",
    "Two important “extremes” in engineering:\n",
    "\n",
    "- Uncommon (rare) events (floods, nuclear plant explosions, etc.)\n",
    "\n",
    "- Common, almost predictable events (routine discharges, traffic accidents at a dangerous intersection, network failure on a due date, etc.)\n",
    "\n",
    "The probability distribution is just a model of the data, like a trend line for deterministic behavior; different distributions have different shapes, and domains and can explain certain types of observations better than others.\n",
    "\n",
    "Some Useful Distributions (data models) include:\n",
    "\n",
    "- Normal\n",
    "- LogNormal\n",
    "- Gamma\n",
    "- Weibull\n",
    "- Extreme Value (Gumbell)\n",
    "- Beta\n",
    "\n",
    "There are many more; they all have the common property that they integrate to unity on the domain $-\\infty~to ~ \\infty$.  \n",
    "\n",
    "The probability distributions (models) are often expressed as a density function or a cumulative distribution function. "
   ]
  },
  {
   "cell_type": "code",
   "execution_count": 1,
   "metadata": {},
   "outputs": [
    {
     "data": {
      "image/png": "[encoded data removed]",
      "text/plain": [
       "<Figure size 720x360 with 1 Axes>"
      ]
     },
     "metadata": {
      "filenames": {
       "image/png": "/home/sensei/ce-3354-webroot/ce3354book/_build/jupyter_execute/lessons/lesson05/lesson05_6_0.png"
      },
      "needs_background": "light"
     },
     "output_type": "display_data"
    }
   ],
   "source": [
    "import math\n",
    "\n",
    "def normdensity(x,mu,sigma):\n",
    "    weight = 1.0 /(sigma * math.sqrt(2.0*math.pi))\n",
    "    argument = ((x - mu)**2)/(2.0*sigma**2)\n",
    "    normdensity = weight*math.exp(-1.0*argument)\n",
    "    return normdensity\n",
    "\n",
    "def normdist(x,mu,sigma):\n",
    "    argument = (x - mu)/(math.sqrt(2.0)*sigma)    \n",
    "    normdist = (1.0 + math.erf(argument))/2.0\n",
    "    return normdist\n",
    "\n",
    "# Standard Normal\n",
    "\n",
    "mu = 0\n",
    "sigma = 1\n",
    "\n",
    "x = []\n",
    "ypdf = []\n",
    "ycdf = []\n",
    "\n",
    "xlow = -10\n",
    "xhigh = 10\n",
    "howMany = 100\n",
    "xstep = (xhigh - xlow)/howMany\n",
    "\n",
    "for i in range(0,howMany+1,1):\n",
    "    x.append(xlow + i*xstep)\n",
    "    yvalue = normdensity(xlow + i*xstep,mu,sigma)\n",
    "    ypdf.append(yvalue)\n",
    "    yvalue = normdist(xlow + i*xstep,mu,sigma)\n",
    "    ycdf.append(yvalue)  \n",
    "\n",
    "import matplotlib.pyplot # the python plotting library\n",
    "myfigure = matplotlib.pyplot.figure(figsize = (10,5)) # generate a object from the figure class, set aspect ratio\n",
    "\n",
    "# Built the plot\n",
    "matplotlib.pyplot.plot(x, ypdf, color ='blue') \n",
    "matplotlib.pyplot.plot(x, ycdf, color ='red') \n",
    "matplotlib.pyplot.xlabel(\"Value of RV\") \n",
    "matplotlib.pyplot.ylabel(\"Density or Quantile Value\") \n",
    "matplotlib.pyplot.title(\"Normal Distribution Data Model\") \n",
    "matplotlib.pyplot.show() "
   ]
  },
  {
   "cell_type": "markdown",
   "metadata": {},
   "source": [
    "### Exceedence Probability \n",
    "\n",
    "The purpose of distributions is to model data and allow us to estimate an answer to the question, what is the probability that we will observe a value of the random variable less than or equal to some sentinel value.  A common way to plot the quantile function is with accumulated probability on the horizontal axis, and random variable value on the vertical axis.\n",
    "Consider the figure below;\n",
    "\n",
    "![](http://54.243.252.9/engr-1330-psuedo-course/CECE-1330-PsuedoCourse/1-Lessons/Lesson13/PsuedoLesson/exceedence.png)\n",
    "\n",
    "The RV Value is about 50,000 indicated by the horizontal magenta line.  \n",
    "The blue curve is some data model, for instance one of our distributions below.\n",
    "The accumulated probability value at 50,000 is 0.1 or roughly 10% chance, but we also have to stipulate whether we are interested in less than or greater than.  \n",
    "\n",
    "In the figure shown, $P(x <= 50,000)~ =~1.00~-~0.1~= 0.9~or~90\\%$ and is a non-exceedence probability. In words we would state \n",
    "\"The probability of observing a value less than or equal to 50,000 is 90%\" the other side of the vertical line is the exceedence probability; in the figure $P(x > 50,000)~=~0.1~or~10\\%$.  In words we would state \"The probability of observing a value equal to or greater than 50,000 is 10%.\"  In risk analysis the sense of the probability is easily confusing, so when you can - make a plot.  Another way to look at the situation is to simply realize that the blue curve is the quantile function $F(X)$ with $X$ plotted on the vertical axis, and $F(X)$ plotted on the horizontal axis.\n",
    "\n",
    "Now lets put these ideas to use.  We will sample from the population of integers from 0 to 100, with replacement.  Any single pull from the population is equally likely. Lets take 25 samples (about 1/4 of the total population - usually we dont know the size of the population)."
   ]
  },
  {
   "cell_type": "code",
   "execution_count": 2,
   "metadata": {},
   "outputs": [],
   "source": [
    "import numpy\n",
    "\n",
    "population = []\n",
    "for i in range(0,101,1):\n",
    "    population.append(i)\n",
    "    \n",
    "sample = numpy.random.choice(population,25)"
   ]
  },
  {
   "cell_type": "code",
   "execution_count": 3,
   "metadata": {},
   "outputs": [],
   "source": [
    "# lets get some statistics\n",
    "sample_mean = sample.mean()\n",
    "sample_variance = sample.std()**2"
   ]
  },
  {
   "cell_type": "code",
   "execution_count": 4,
   "metadata": {},
   "outputs": [],
   "source": [
    "# sort the sample in place!\n",
    "sample.sort()\n",
    "# built a relative frequency approximation to probability, assume each pick is equally likely\n",
    "weibull_pp = []\n",
    "for i in range(0,len(sample),1):\n",
    "    weibull_pp.append((i+1)/(len(sample)+1))"
   ]
  },
  {
   "cell_type": "code",
   "execution_count": 5,
   "metadata": {},
   "outputs": [
    {
     "data": {
      "image/png": "[encoded data removed]",
      "text/plain": [
       "<Figure size 720x360 with 1 Axes>"
      ]
     },
     "metadata": {
      "filenames": {
       "image/png": "/home/sensei/ce-3354-webroot/ce3354book/_build/jupyter_execute/lessons/lesson05/lesson05_11_0.png"
      },
      "needs_background": "light"
     },
     "output_type": "display_data"
    }
   ],
   "source": [
    "# Now plot the sample values and plotting position\n",
    "myfigure = matplotlib.pyplot.figure(figsize = (10,5)) # generate a object from the figure class, set aspect ratio\n",
    "\n",
    "# Built the plot\n",
    "matplotlib.pyplot.scatter(weibull_pp, sample, color ='blue') \n",
    "matplotlib.pyplot.plot(ycdf, x, color ='red') \n",
    "matplotlib.pyplot.ylabel(\"Value of RV\") \n",
    "matplotlib.pyplot.xlabel(\"Density or Quantile Value\") \n",
    "matplotlib.pyplot.title(\"Normal Distribution Data Model\") \n",
    "matplotlib.pyplot.show() "
   ]
  },
  {
   "cell_type": "markdown",
   "metadata": {},
   "source": [
    "What a horrible plot, but lets now use the sample statistics to \"fit\" the data model (red) to the observations (blue). Notice we have already rotated the axes so this plot and ones that follow are structured like the \"Exceedence\" plot above."
   ]
  },
  {
   "cell_type": "code",
   "execution_count": 6,
   "metadata": {},
   "outputs": [],
   "source": [
    "# Fitted Model\n",
    "\n",
    "mu = sample_mean\n",
    "sigma = math.sqrt(sample_variance)\n",
    "\n",
    "x = []\n",
    "ycdf = []\n",
    "\n",
    "xlow = 0\n",
    "xhigh = 100\n",
    "howMany = 100\n",
    "xstep = (xhigh - xlow)/howMany\n",
    "\n",
    "for i in range(0,howMany+1,1):\n",
    "    x.append(xlow + i*xstep)\n",
    "    yvalue = normdist(xlow + i*xstep,mu,sigma)\n",
    "    ycdf.append(yvalue) "
   ]
  },
  {
   "cell_type": "code",
   "execution_count": 7,
   "metadata": {},
   "outputs": [
    {
     "data": {
      "image/png": "[encoded data removed]",
      "text/plain": [
       "<Figure size 720x360 with 1 Axes>"
      ]
     },
     "metadata": {
      "filenames": {
       "image/png": "/home/sensei/ce-3354-webroot/ce3354book/_build/jupyter_execute/lessons/lesson05/lesson05_14_0.png"
      },
      "needs_background": "light"
     },
     "output_type": "display_data"
    }
   ],
   "source": [
    "# Now plot the sample values and plotting position\n",
    "myfigure = matplotlib.pyplot.figure(figsize = (10,5)) # generate a object from the figure class, set aspect ratio\n",
    "\n",
    "# Built the plot\n",
    "matplotlib.pyplot.scatter(weibull_pp, sample,  color ='blue') \n",
    "matplotlib.pyplot.plot(ycdf, x,  color ='red') \n",
    "matplotlib.pyplot.ylabel(\"Value of RV\") \n",
    "matplotlib.pyplot.xlabel(\"Quantile Value\") \n",
    "mytitle = \"Normal Distribution Data Model sample mean = : \" + str(sample_mean)+ \" sample variance =:\" + str(sample_variance)\n",
    "matplotlib.pyplot.title(mytitle) \n",
    "matplotlib.pyplot.show()"
   ]
  },
  {
   "cell_type": "code",
   "execution_count": 8,
   "metadata": {},
   "outputs": [
    {
     "data": {
      "image/png": "[encoded data removed]",
      "text/plain": [
       "<Figure size 720x360 with 1 Axes>"
      ]
     },
     "metadata": {
      "filenames": {
       "image/png": "/home/sensei/ce-3354-webroot/ce3354book/_build/jupyter_execute/lessons/lesson05/lesson05_15_0.png"
      },
      "needs_background": "light"
     },
     "output_type": "display_data"
    }
   ],
   "source": [
    "popmean = numpy.array(population).mean()\n",
    "popvar = numpy.array(population).std()**2\n",
    "# Fitted Model\n",
    "\n",
    "mu = popmean\n",
    "sigma = math.sqrt(popvar)\n",
    "\n",
    "x = []\n",
    "ycdf = []\n",
    "\n",
    "xlow = 0\n",
    "xhigh = 100\n",
    "howMany = 100\n",
    "xstep = (xhigh - xlow)/howMany\n",
    "\n",
    "for i in range(0,howMany+1,1):\n",
    "    x.append(xlow + i*xstep)\n",
    "    yvalue = normdist(xlow + i*xstep,mu,sigma)\n",
    "    ycdf.append(yvalue) \n",
    "\n",
    "    \n",
    "# Now plot the sample values and plotting position\n",
    "myfigure = matplotlib.pyplot.figure(figsize = (10,5)) # generate a object from the figure class, set aspect ratio\n",
    "\n",
    "# Built the plot\n",
    "matplotlib.pyplot.scatter(weibull_pp, sample, color ='blue') \n",
    "matplotlib.pyplot.plot(ycdf, x,  color ='red') \n",
    "matplotlib.pyplot.ylabel(\"Value of RV\") \n",
    "matplotlib.pyplot.xlabel(\"Quantile Value\") \n",
    "mytitle = \"Normal Distribution Data Model Population mean = : \" + str(popmean)+ \" Population variance =:\" + str(popvar)\n",
    "matplotlib.pyplot.title(mytitle) \n",
    "matplotlib.pyplot.show()"
   ]
  },
  {
   "cell_type": "markdown",
   "metadata": {},
   "source": [
    "Some observations are in order:\n",
    "\n",
    "- The population is a uniformly distributed collection. \n",
    "- By random sampling, and keeping the sample size small, the sample distribution appears approximately normal.  \n",
    "\n",
    "Real things of engineering interest are not always bounded as shown here, the choice of the Weibull plotting position is not arbitrary.  The blue dot scatterplot in practice is called the empirical distribution function, or empirical quantile function.   \n",
    "\n",
    "Now we will apply these ideas to some realistic data.\n",
    "\n",
    "### Beargrass Creek\n",
    "\n",
    "The file [beargrass.txt](http://54.243.252.9/ce-3354-webroot/ce3354book/lessons/lesson05/beargrass.txt) contains annual peak flows for Beargrass Creek.  The year is a water year, so the peaks occur on different days in each year; thus it is not a time series. Let's examine the data and see how well a Normal distribution data model fits, then estimate from the distribution the peak magnitude with exceedence probability 0.01 (1%-chance that will observe a value equal to or greater)."
   ]
  },
  {
   "cell_type": "code",
   "execution_count": 9,
   "metadata": {},
   "outputs": [
    {
     "data": {
      "text/html": [
       "<div>\n",
       "<style scoped>\n",
       "    .dataframe tbody tr th:only-of-type {\n",
       "        vertical-align: middle;\n",
       "    }\n",
       "\n",
       "    .dataframe tbody tr th {\n",
       "        vertical-align: top;\n",
       "    }\n",
       "\n",
       "    .dataframe thead th {\n",
       "        text-align: right;\n",
       "    }\n",
       "</style>\n",
       "<table border=\"1\" class=\"dataframe\">\n",
       "  <thead>\n",
       "    <tr style=\"text-align: right;\">\n",
       "      <th></th>\n",
       "      <th>Year</th>\n",
       "      <th>Peak</th>\n",
       "    </tr>\n",
       "  </thead>\n",
       "  <tbody>\n",
       "    <tr>\n",
       "      <th>0</th>\n",
       "      <td>1945</td>\n",
       "      <td>1810</td>\n",
       "    </tr>\n",
       "    <tr>\n",
       "      <th>1</th>\n",
       "      <td>1946</td>\n",
       "      <td>791</td>\n",
       "    </tr>\n",
       "    <tr>\n",
       "      <th>2</th>\n",
       "      <td>1947</td>\n",
       "      <td>839</td>\n",
       "    </tr>\n",
       "    <tr>\n",
       "      <th>3</th>\n",
       "      <td>1948</td>\n",
       "      <td>1750</td>\n",
       "    </tr>\n",
       "    <tr>\n",
       "      <th>4</th>\n",
       "      <td>1949</td>\n",
       "      <td>898</td>\n",
       "    </tr>\n",
       "  </tbody>\n",
       "</table>\n",
       "</div>"
      ],
      "text/plain": [
       "   Year  Peak\n",
       "0  1945  1810\n",
       "1  1946   791\n",
       "2  1947   839\n",
       "3  1948  1750\n",
       "4  1949   898"
      ]
     },
     "execution_count": 9,
     "metadata": {},
     "output_type": "execute_result"
    }
   ],
   "source": [
    "import pandas\n",
    "beargrass = pandas.read_csv('beargrass.txt')  #Reading a .csv file\n",
    "beargrass.head()"
   ]
  },
  {
   "cell_type": "markdown",
   "metadata": {},
   "source": [
    "\n",
    "__Plotting Position:__ An empirical distribution, based on a random sample from some underlying distribution, is obtained by plotting an estimate of the exceedance (or cumulative) probability of the sample distribution against the sample value. <br>\n",
    "\n",
    "The exceedance probability estimate for a particular sample value is a function of sample size and the rank of the particular sample. \n",
    "For exceedance probabilities, the sample values are ranked from largest to smallest. \n",
    "\n",
    "The general expression in common use for plotting position is $ P = \\frac{m - b}{N + 1 -2b} $\n",
    "\n",
    "where m is the ordered rank of a sample value, N is the sample size, and b is a constant between 0 and 1, depending on the plotting method.<br>"
   ]
  },
  {
   "cell_type": "markdown",
   "metadata": {},
   "source": [
    " Now we will just copy the code for generic normal distributions and modify to explore the data file (the miracle of cut-n-paste!)"
   ]
  },
  {
   "cell_type": "code",
   "execution_count": 10,
   "metadata": {},
   "outputs": [
    {
     "data": {
      "image/png": "[encoded data removed]",
      "text/plain": [
       "<Figure size 504x648 with 1 Axes>"
      ]
     },
     "metadata": {
      "filenames": {
       "image/png": "/home/sensei/ce-3354-webroot/ce3354book/_build/jupyter_execute/lessons/lesson05/lesson05_20_0.png"
      },
      "needs_background": "light"
     },
     "output_type": "display_data"
    }
   ],
   "source": [
    "sample = beargrass['Peak'].tolist() # put the peaks into a list\n",
    "sample_mean = numpy.array(sample).mean()\n",
    "sample_variance = numpy.array(sample).std()**2\n",
    "sample.sort() # sort the sample in place!\n",
    "weibull_pp = [] # built a relative frequency approximation to probability, assume each pick is equally likely\n",
    "for i in range(0,len(sample),1):\n",
    "    weibull_pp.append((i+1)/(len(sample)+1))\n",
    "################\n",
    "mu = sample_mean # Fitted Model\n",
    "sigma = math.sqrt(sample_variance)\n",
    "x = []; ycdf = []\n",
    "xlow = 0; xhigh = 1.2*max(sample) ; howMany = 100\n",
    "xstep = (xhigh - xlow)/howMany\n",
    "for i in range(0,howMany+1,1):\n",
    "    x.append(xlow + i*xstep)\n",
    "    yvalue = normdist(xlow + i*xstep,mu,sigma)\n",
    "    ycdf.append(yvalue) \n",
    "# Now plot the sample values and plotting position\n",
    "myfigure = matplotlib.pyplot.figure(figsize = (7,9)) # generate a object from the figure class, set aspect ratio\n",
    "matplotlib.pyplot.scatter(weibull_pp, sample ,color ='blue') \n",
    "matplotlib.pyplot.plot(ycdf, x, color ='red') \n",
    "matplotlib.pyplot.xlabel(\"Quantile Value\") \n",
    "matplotlib.pyplot.ylabel(\"Value of RV\") \n",
    "mytitle = \"Normal Distribution Data Model sample mean = : \" + str(sample_mean)+ \" sample variance =:\" + str(sample_variance)\n",
    "matplotlib.pyplot.title(mytitle) \n",
    "matplotlib.pyplot.show()"
   ]
  },
  {
   "cell_type": "code",
   "execution_count": 11,
   "metadata": {},
   "outputs": [
    {
     "data": {
      "text/plain": [
       "count      31.000000\n",
       "mean     1599.258065\n",
       "std      1006.239500\n",
       "min       707.000000\n",
       "25%       908.000000\n",
       "50%      1250.000000\n",
       "75%      1945.000000\n",
       "max      5200.000000\n",
       "Name: Peak, dtype: float64"
      ]
     },
     "execution_count": 11,
     "metadata": {},
     "output_type": "execute_result"
    }
   ],
   "source": [
    "beargrass['Peak'].describe()"
   ]
  },
  {
   "cell_type": "markdown",
   "metadata": {},
   "source": [
    "A 1% chance exceedence is on the right side of the chart, it is the compliment of 99% non-exceedence, in terms of our quantile function we want to find the value $X$ that returns a quantile of 0.99."
   ]
  },
  {
   "cell_type": "code",
   "execution_count": 12,
   "metadata": {},
   "outputs": [
    {
     "name": "stdout",
     "output_type": "stream",
     "text": [
      "1599.258064516129 989.8767915427474\n",
      "0.9999956206542673\n"
     ]
    }
   ],
   "source": [
    "myguess = 6000\n",
    "print(mu,sigma)\n",
    "print(normdist(myguess,mu,sigma))"
   ]
  },
  {
   "cell_type": "code",
   "execution_count": 13,
   "metadata": {},
   "outputs": [
    {
     "name": "stdout",
     "output_type": "stream",
     "text": [
      "5820.974479887303\n"
     ]
    }
   ],
   "source": [
    "# If we want to get fancy we can use Newton's method to get really close to the root\n",
    "\n",
    "from scipy.optimize import newton\n",
    "\n",
    "def f(x):\n",
    "    mu = 1599.258064516129\n",
    "    sigma = 989.8767915427474\n",
    "    quantile = 0.99999\n",
    "    argument = (x - mu)/(math.sqrt(2.0)*sigma)    \n",
    "    normdist = (1.0 + math.erf(argument))/2.0\n",
    "    return normdist - quantile\n",
    "\n",
    "print(newton(f, myguess))\n"
   ]
  },
  {
   "cell_type": "markdown",
   "metadata": {},
   "source": [
    "So a peak discharge of 4000 or so is expected to be observed with 1% chance, notice we took the value from the fitted distribution, not the empirical set.  As an observation, the Normal model is not a very good data model for these observations."
   ]
  },
  {
   "cell_type": "markdown",
   "metadata": {},
   "source": [
    "### Log-Normal\n",
    "\n",
    "Another data model we can try is log-normal, where we stipulate that the logarithms of the observations are normal.  The scripts are practically the same, but there is an inverse transformation required to recover original value scale.  Again we will use Beargrass creek.  "
   ]
  },
  {
   "cell_type": "code",
   "execution_count": 14,
   "metadata": {},
   "outputs": [
    {
     "data": {
      "image/png": "[encoded data removed]",
      "text/plain": [
       "<Figure size 504x648 with 1 Axes>"
      ]
     },
     "metadata": {
      "filenames": {
       "image/png": "/home/sensei/ce-3354-webroot/ce3354book/_build/jupyter_execute/lessons/lesson05/lesson05_27_0.png"
      },
      "needs_background": "light"
     },
     "output_type": "display_data"
    }
   ],
   "source": [
    "def loggit(x):  # A prototype function to log transform x\n",
    "    return(math.log(x))\n",
    "\n",
    "logsample = beargrass['Peak'].apply(loggit).tolist() # put the peaks into a list\n",
    "sample_mean = numpy.array(logsample).mean()\n",
    "sample_variance = numpy.array(logsample).std()**2\n",
    "logsample.sort() # sort the sample in place!\n",
    "weibull_pp = [] # built a relative frequency approximation to probability, assume each pick is equally likely\n",
    "for i in range(0,len(sample),1):\n",
    "    weibull_pp.append((i+1)/(len(sample)+1))\n",
    "################\n",
    "mu = sample_mean # Fitted Model in Log Space\n",
    "sigma = math.sqrt(sample_variance)\n",
    "x = []; ycdf = []\n",
    "xlow = 1; xhigh = 1.05*max(logsample) ; howMany = 100\n",
    "xstep = (xhigh - xlow)/howMany\n",
    "for i in range(0,howMany+1,1):\n",
    "    x.append(xlow + i*xstep)\n",
    "    yvalue = normdist(xlow + i*xstep,mu,sigma)\n",
    "    ycdf.append(yvalue) \n",
    "# Now plot the sample values and plotting position\n",
    "myfigure = matplotlib.pyplot.figure(figsize = (7,9)) # generate a object from the figure class, set aspect ratio\n",
    "matplotlib.pyplot.scatter(weibull_pp, logsample ,color ='blue') \n",
    "matplotlib.pyplot.plot(ycdf, x, color ='red') \n",
    "matplotlib.pyplot.xlabel(\"Quantile Value\") \n",
    "matplotlib.pyplot.ylabel(\"Value of RV\") \n",
    "mytitle = \"Log Normal Data Model log sample mean = : \" + str(sample_mean)+ \" log sample variance  =:\" + str(sample_variance)\n",
    "matplotlib.pyplot.title(mytitle) \n",
    "matplotlib.pyplot.show()"
   ]
  },
  {
   "cell_type": "markdown",
   "metadata": {},
   "source": [
    "The plot doesn't look too bad, but we are in log-space, which is hard to interpret, so we will transform back to arithmetic space "
   ]
  },
  {
   "cell_type": "code",
   "execution_count": 15,
   "metadata": {},
   "outputs": [
    {
     "data": {
      "image/png": "[encoded data removed]",
      "text/plain": [
       "<Figure size 504x648 with 1 Axes>"
      ]
     },
     "metadata": {
      "filenames": {
       "image/png": "/home/sensei/ce-3354-webroot/ce3354book/_build/jupyter_execute/lessons/lesson05/lesson05_29_0.png"
      },
      "needs_background": "light"
     },
     "output_type": "display_data"
    }
   ],
   "source": [
    "def antiloggit(x):  # A prototype function to log transform x\n",
    "    return(math.exp(x))\n",
    "\n",
    "sample = beargrass['Peak'].tolist() # pull original list\n",
    "sample.sort() # sort in place\n",
    "################\n",
    "mu = sample_mean # Fitted Model in Log Space\n",
    "sigma = math.sqrt(sample_variance)\n",
    "x = []; ycdf = []\n",
    "xlow = 1; xhigh = 1.05*max(logsample) ; howMany = 100\n",
    "xstep = (xhigh - xlow)/howMany\n",
    "for i in range(0,howMany+1,1):\n",
    "    x.append(antiloggit(xlow + i*xstep))\n",
    "    yvalue = normdist(xlow + i*xstep,mu,sigma)\n",
    "    ycdf.append(yvalue) \n",
    "# Now plot the sample values and plotting position\n",
    "myfigure = matplotlib.pyplot.figure(figsize = (7,9)) # generate a object from the figure class, set aspect ratio\n",
    "matplotlib.pyplot.scatter(weibull_pp, sample ,color ='blue') \n",
    "matplotlib.pyplot.plot(ycdf, x, color ='red') \n",
    "matplotlib.pyplot.xlabel(\"Quantile Value\") \n",
    "matplotlib.pyplot.ylabel(\"Value of RV\") \n",
    "mytitle = \"Log Normal Data Model sample log mean = : \" + str((sample_mean))+ \" sample log variance  =:\" + str((sample_variance))\n",
    "matplotlib.pyplot.title(mytitle) \n",
    "matplotlib.pyplot.show()"
   ]
  },
  {
   "cell_type": "markdown",
   "metadata": {},
   "source": [
    "Visually a better data model, now lets determine the 1% chance value."
   ]
  },
  {
   "cell_type": "code",
   "execution_count": 16,
   "metadata": {},
   "outputs": [
    {
     "name": "stdout",
     "output_type": "stream",
     "text": [
      "7.23730905616488 0.4984855728993489\n",
      "0.9900772507418302\n"
     ]
    }
   ],
   "source": [
    "myguess = 4440\n",
    "print(mu,sigma)\n",
    "print(normdist(loggit(myguess),mu,sigma)) # mu, sigma already in log space - convert myguess"
   ]
  },
  {
   "cell_type": "code",
   "execution_count": 17,
   "metadata": {},
   "outputs": [
    {
     "name": "stdout",
     "output_type": "stream",
     "text": [
      "4433.567789173262\n"
     ]
    }
   ],
   "source": [
    "# If we want to get fancy we can use Newton's method to get really close to the root\n",
    "\n",
    "from scipy.optimize import newton\n",
    "\n",
    "def f(x):\n",
    "    mu = 7.23730905616488\n",
    "    sigma = 0.4984855728993489\n",
    "    quantile = 0.99\n",
    "    argument = (loggit(x) - mu)/(math.sqrt(2.0)*sigma)    \n",
    "    normdist = (1.0 + math.erf(argument))/2.0\n",
    "    return normdist - quantile\n",
    "\n",
    "print(newton(f, myguess))"
   ]
  },
  {
   "cell_type": "markdown",
   "metadata": {},
   "source": [
    "Now we have a decent method, we should put stuff into functions to keep code concise, lets examine a couple more data models\n",
    "\n",
    "### Gumbell (Double Exponential) Distribution\n",
    "\n",
    "The Gumbell is also called the Extreme-Value Type I distribution, the density and quantile function are:\n",
    "\n",
    "$$ \\text{pdf(x)} = \\frac{1}{\\beta} \\cdot exp [-\\frac{(x-\\alpha)}{\\beta} - exp (-\\frac{(x-\\alpha)}{\\beta}) ]$$\n",
    "\n",
    "$$ F(X) =  \\int_{-\\infty}^X{\\frac{1}{\\beta} \\cdot exp [-\\frac{(x-\\alpha)}{\\beta} - exp (-\\frac{(x-\\alpha)}{\\beta}) ] dx} = exp [- exp (-\\frac{(X-\\alpha)}{\\beta})] $$\n",
    "\n",
    "The distribution has two parameters, $\\alpha$ and $\\beta$, which in some sense play the same role as mean and variance. Lets modify our scripts further to see how this data model performs on the Bearcreek data.\n",
    "\n",
    "Of course we need a way to estimate the parameters, a good approximation can be obtained using:\n",
    "\n",
    "$$ \\alpha = \\mu \\cdot \\frac{\\sqrt{6}}{\\pi} $$\n",
    "\n",
    "and\n",
    "\n",
    "$$ \\beta = 0.45 \\cdot \\sigma $$\n",
    "\n",
    "where $\\mu$ and $\\sigma^2$ are the sample mean and variance."
   ]
  },
  {
   "cell_type": "code",
   "execution_count": 18,
   "metadata": {},
   "outputs": [],
   "source": [
    "def ev1dist(x,alpha,beta):\n",
    "    argument = (x - alpha)/beta\n",
    "    constant = 1.0/beta\n",
    "    ev1dist = math.exp(-1.0*math.exp(-1.0*argument))\n",
    "    return ev1dist"
   ]
  },
  {
   "cell_type": "markdown",
   "metadata": {},
   "source": [
    "Now literally substitute into our prior code!"
   ]
  },
  {
   "cell_type": "code",
   "execution_count": 19,
   "metadata": {},
   "outputs": [
    {
     "data": {
      "image/png": "[encoded data removed]",
      "text/plain": [
       "<Figure size 504x576 with 1 Axes>"
      ]
     },
     "metadata": {
      "filenames": {
       "image/png": "/home/sensei/ce-3354-webroot/ce3354book/_build/jupyter_execute/lessons/lesson05/lesson05_36_0.png"
      },
      "needs_background": "light"
     },
     "output_type": "display_data"
    }
   ],
   "source": [
    "sample = beargrass['Peak'].tolist() # put the peaks into a list\n",
    "sample_mean = numpy.array(sample).mean()\n",
    "sample_variance = numpy.array(sample).std()**2\n",
    "alpha_mom = sample_mean*math.sqrt(6)/math.pi\n",
    "beta_mom = math.sqrt(sample_variance)*0.45\n",
    "sample.sort() # sort the sample in place!\n",
    "weibull_pp = [] # built a relative frequency approximation to probability, assume each pick is equally likely\n",
    "for i in range(0,len(sample),1):\n",
    "    weibull_pp.append((i+1)/(len(sample)+1))\n",
    "################\n",
    "mu = sample_mean # Fitted Model\n",
    "sigma = math.sqrt(sample_variance)\n",
    "x = []; ycdf = []\n",
    "xlow = 0; xhigh = 1.2*max(sample) ; howMany = 100\n",
    "xstep = (xhigh - xlow)/howMany\n",
    "for i in range(0,howMany+1,1):\n",
    "    x.append(xlow + i*xstep)\n",
    "    yvalue = ev1dist(xlow + i*xstep,alpha_mom,beta_mom)\n",
    "    ycdf.append(yvalue) \n",
    "# Now plot the sample values and plotting position\n",
    "myfigure = matplotlib.pyplot.figure(figsize = (7,8)) # generate a object from the figure class, set aspect ratio\n",
    "matplotlib.pyplot.scatter(weibull_pp, sample ,color ='blue') \n",
    "matplotlib.pyplot.plot(ycdf, x, color ='red') \n",
    "matplotlib.pyplot.xlabel(\"Quantile Value\") \n",
    "matplotlib.pyplot.ylabel(\"Value of RV\") \n",
    "mytitle = \"Extreme Value Type 1 Distribution Data Model sample mean = : \" + str(sample_mean)+ \" sample variance =:\" + str(sample_variance)\n",
    "matplotlib.pyplot.title(mytitle) \n",
    "matplotlib.pyplot.show()"
   ]
  },
  {
   "cell_type": "markdown",
   "metadata": {},
   "source": [
    "Again a so-so visual fit.\n",
    "To find the 1% chance value"
   ]
  },
  {
   "cell_type": "code",
   "execution_count": 20,
   "metadata": {},
   "outputs": [
    {
     "name": "stdout",
     "output_type": "stream",
     "text": [
      "1246.9363972503857 445.4445561942363\n",
      "0.990087892543188\n"
     ]
    }
   ],
   "source": [
    "myguess = 3300\n",
    "print(alpha_mom,beta_mom)\n",
    "print(ev1dist(myguess,alpha_mom,beta_mom)) # "
   ]
  },
  {
   "cell_type": "code",
   "execution_count": 21,
   "metadata": {},
   "outputs": [
    {
     "name": "stdout",
     "output_type": "stream",
     "text": [
      "3296.0478279991366\n"
     ]
    }
   ],
   "source": [
    "# If we want to get fancy we can use Newton's method to get really close to the root\n",
    "\n",
    "from scipy.optimize import newton\n",
    "\n",
    "def f(x):\n",
    "    alpha = 1246.9363972503857\n",
    "    beta = 445.4445561942363\n",
    "    quantile = 0.99\n",
    "    argument = (x - alpha)/beta\n",
    "    constant = 1.0/beta\n",
    "    ev1dist = math.exp(-1.0*math.exp(-1.0*argument))\n",
    "    return ev1dist - quantile\n",
    "\n",
    "print(newton(f, myguess))"
   ]
  },
  {
   "cell_type": "markdown",
   "metadata": {},
   "source": [
    "### Gamma Distribution (as Pearson Type 3)\n",
    "\n",
    "One last data model to consider is one that is specifically stipulated for use by federal agencies for probability estimation of extreme hydrologic events.  The data model ia called the Log-Pearson Type III distribution, its actually a specific case of a Gamma distrubution.  \n",
    "\n",
    "This example we will dispense with tyring to build it in python primative, and just use a package - the density function is not all that hard, but the quantile function is elaborate.  \n",
    "\n",
    "Learn more at http://54.243.252.9/engr-1330-psuedo-course/CECE-1330-PsuedoCourse/3-Readings/NumericalRecipesinF77.pdf (in particular around Page 276)\n",
    "\n",
    "As usual, lets let Google do some work for us, using the search term \"gamma quantile function; scipy\" we get to this nice blog entry https://docs.scipy.org/doc/scipy/reference/generated/scipy.stats.gamma.html which is a good start. \n",
    "\n",
    "A Pearson Type III data model has the following density function:\n",
    "\n",
    "$$ f(x|\\tau,\\alpha,\\beta) = \\frac{(\\frac{x-\\tau}{\\beta})^{\\alpha -1}\\cdot exp( - \\frac{x-\\tau}{\\beta})}{|\\beta| \\Gamma(\\alpha)}$$\n",
    "\n",
    "If we make some substitutions:\n",
    "$ \\lambda = \\frac{1}{\\beta} ; \\hat{x} = x -\\tau $ then the density function is\n",
    "\n",
    "$$ f(\\hat{x}) = \\frac{ 1}{\\Gamma(\\alpha)} (\\lambda \\hat{x})^{\\alpha -1}\\cdot exp( - \\lambda \\hat{x} )$$\n",
    "\n",
    "which is now a one parameter Gamma density function just like the example in the link.\n",
    "\n",
    "Reading a little from http://atomickitty.ddns.net/documents/university-courses/ce-5361-swhydrology/1-Lessons.src/Lesson22/AdditionalReading/Bulletin17C-tm4b5-draft-ACWI-17Jan2018.pdf we can relate the transformations to descriptive statistics (shown below without explaination) as:\n",
    "\n",
    "$\\mu = \\text{sample mean}$,\n",
    "\n",
    "$\\sigma = \\text{sample standard deviation}$, \n",
    "\n",
    "$\\gamma = \\text{sample skew coefficient} = (\\frac{n}{\\sigma^3(n-1)(n-2)})\\sum_{i=1}^n(x_i - \\mu)^3 $\n",
    "\n",
    "$\\alpha = \\frac{4}{\\gamma^2}$  \n",
    "\n",
    "$\\beta = sign(\\gamma)\\sqrt{\\frac{\\sigma^2}{\\alpha}}$\n",
    "\n",
    "$\\tau = \\mu - \\alpha \\cdot \\beta$\n",
    "\n",
    "So we have a bit of work to do.  The name of the functions in `scipy` we are interested in are `gamma.pdf(x,a)` and `gamma.cdf(x,a)`  So lets build a tool to generate a Log-Pearson Type III data model, then apply it to Beargrass Creek.  We will use a lot of glue here.\n",
    "\n",
    "First load in dependencies, and define support functions we will need "
   ]
  },
  {
   "cell_type": "code",
   "execution_count": 22,
   "metadata": {},
   "outputs": [],
   "source": [
    "import scipy.stats # import scipy stats package\n",
    "import math        # import math package\n",
    "import numpy       # import numpy package\n",
    "# log and antilog\n",
    "def loggit(x):  # A prototype function to log transform x\n",
    "    return(math.log(x))\n",
    "def antiloggit(x):  # A prototype function to log transform x\n",
    "    return(math.exp(x))\n",
    "def weibull_pp(sample): # plotting position function\n",
    "# returns a list of plotting positions; sample must be a numeric list\n",
    "    weibull_pp = [] # null list to return after fill\n",
    "    sample.sort() # sort the sample list in place\n",
    "    for i in range(0,len(sample),1):\n",
    "        weibull_pp.append((i+1)/(len(sample)+1))\n",
    "    return weibull_pp\n"
   ]
  },
  {
   "cell_type": "markdown",
   "metadata": {},
   "source": [
    "Then the gamma distribution from scipy, modified for our type of inputs."
   ]
  },
  {
   "cell_type": "code",
   "execution_count": 23,
   "metadata": {},
   "outputs": [],
   "source": [
    "def gammacdf(x,tau,alpha,beta): # Gamma Cumulative Density function - with three parameter to one parameter convert\n",
    "    xhat = x-tau\n",
    "    lamda = 1.0/beta\n",
    "    gammacdf = scipy.stats.gamma.cdf(lamda*xhat, alpha)\n",
    "    return gammacdf"
   ]
  },
  {
   "cell_type": "markdown",
   "metadata": {},
   "source": [
    "Then load in the data from the data frame, log transform and generate descriptive statistics."
   ]
  },
  {
   "cell_type": "code",
   "execution_count": 24,
   "metadata": {},
   "outputs": [],
   "source": [
    "#sample = beargrass['Peak'].tolist() # put the peaks into a list\n",
    "sample = beargrass['Peak'].apply(loggit).tolist() # put the log peaks into a list\n",
    "sample_mean  = numpy.array(sample).mean()\n",
    "sample_stdev = numpy.array(sample).std()\n",
    "sample_skew  = 3.0 # scipy.stats.skew(sample)\n",
    "sample_alpha = 4.0/(sample_skew**2)\n",
    "sample_beta  = numpy.sign(sample_skew)*math.sqrt(sample_stdev**2/sample_alpha)\n",
    "sample_tau   = sample_mean - sample_alpha*sample_beta"
   ]
  },
  {
   "cell_type": "markdown",
   "metadata": {},
   "source": [
    "Now generate plotting positions for the sample observations"
   ]
  },
  {
   "cell_type": "code",
   "execution_count": 25,
   "metadata": {},
   "outputs": [],
   "source": [
    "plotting = weibull_pp(sample)"
   ]
  },
  {
   "cell_type": "markdown",
   "metadata": {},
   "source": [
    "Now generate values for the data model (for plotting our red line \"fit\"), set limits to be a little beyond the sample range."
   ]
  },
  {
   "cell_type": "code",
   "execution_count": 26,
   "metadata": {},
   "outputs": [],
   "source": [
    "x = []; ycdf = []\n",
    "xlow = (0.9*min(sample)); xhigh = (1.1*max(sample)) ; howMany = 100\n",
    "xstep = (xhigh - xlow)/howMany\n",
    "for i in range(0,howMany+1,1):\n",
    "    x.append(xlow + i*xstep)\n",
    "    yvalue = gammacdf(xlow + i*xstep,sample_tau,sample_alpha,sample_beta)\n",
    "    ycdf.append(yvalue) "
   ]
  },
  {
   "cell_type": "markdown",
   "metadata": {},
   "source": [
    "Now reverse transform back to native scale, and plot the sample values vs plotting position in blue, and the data model in red"
   ]
  },
  {
   "cell_type": "code",
   "execution_count": 27,
   "metadata": {},
   "outputs": [
    {
     "data": {
      "image/png": "[encoded data removed]",
      "text/plain": [
       "<Figure size 504x576 with 1 Axes>"
      ]
     },
     "metadata": {
      "filenames": {
       "image/png": "/home/sensei/ce-3354-webroot/ce3354book/_build/jupyter_execute/lessons/lesson05/lesson05_51_0.png"
      },
      "needs_background": "light"
     },
     "output_type": "display_data"
    }
   ],
   "source": [
    "# reverse transform the peaks, and the data model peaks\n",
    "for i in range(len(sample)):\n",
    "    sample[i] = antiloggit(sample[i])\n",
    "for i in range(len(x)):\n",
    "    x[i] = antiloggit(x[i])\n",
    "myfigure = matplotlib.pyplot.figure(figsize = (7,8)) # generate a object from the figure class, set aspect ratio\n",
    "matplotlib.pyplot.scatter(plotting, sample ,color ='blue') \n",
    "matplotlib.pyplot.plot(ycdf, x, color ='red') \n",
    "matplotlib.pyplot.xlabel(\"Quantile Value\") \n",
    "matplotlib.pyplot.ylabel(\"Value of RV\") \n",
    "mytitle = \"Log Pearson Type III Distribution Data Model\\n \"\n",
    "mytitle += \"Mean = \" + str(antiloggit(sample_mean)) + \"\\n\"\n",
    "mytitle += \"SD = \" + str(antiloggit(sample_stdev)) + \"\\n\"\n",
    "mytitle += \"Skew = \" + str(antiloggit(sample_skew)) + \"\\n\"\n",
    "matplotlib.pyplot.title(mytitle) \n",
    "matplotlib.pyplot.show()"
   ]
  },
  {
   "cell_type": "markdown",
   "metadata": {},
   "source": [
    "And as before lets find the value that retruns the 99% quantile - we will just use the newton method above.\n",
    "First recover the required model parameters. Then we will paste these into the $f(x)$ function for the Newton's method."
   ]
  },
  {
   "cell_type": "code",
   "execution_count": 28,
   "metadata": {},
   "outputs": [
    {
     "name": "stdout",
     "output_type": "stream",
     "text": [
      "6.904985340898647\n",
      "0.4444444444444444\n",
      "0.7477283593490234\n"
     ]
    }
   ],
   "source": [
    "print(sample_tau)\n",
    "print(sample_alpha)\n",
    "print(sample_beta)"
   ]
  },
  {
   "cell_type": "code",
   "execution_count": 29,
   "metadata": {},
   "outputs": [
    {
     "name": "stdout",
     "output_type": "stream",
     "text": [
      "5856.10913158364\n"
     ]
    }
   ],
   "source": [
    "# If we want to get fancy we can use Newton's method to get really close to the root\n",
    "\n",
    "from scipy.optimize import newton\n",
    "\n",
    "def f(x):\n",
    "    sample_tau = 5.976005311346212\n",
    "    sample_alpha = 6.402272915026134\n",
    "    sample_beta = 0.1970087438569494\n",
    "    quantile = 0.9900\n",
    "    argument = loggit(x)\n",
    "    gammavalue = gammacdf(argument,sample_tau,sample_alpha,sample_beta)\n",
    "    return gammavalue - quantile\n",
    "\n",
    "myguess =  5000\n",
    "print(newton(f, myguess))"
   ]
  },
  {
   "cell_type": "markdown",
   "metadata": {},
   "source": [
    "Trust, but verify!"
   ]
  },
  {
   "cell_type": "code",
   "execution_count": 30,
   "metadata": {},
   "outputs": [
    {
     "data": {
      "text/plain": [
       "0.9753"
      ]
     },
     "execution_count": 30,
     "metadata": {},
     "output_type": "execute_result"
    }
   ],
   "source": [
    "round(gammacdf(loggit(5856.109),sample_tau,sample_alpha,sample_beta),4)"
   ]
  },
  {
   "cell_type": "markdown",
   "metadata": {},
   "source": [
    "Now lets summarize our efforts regarding Beargrass Creek annual peaks and probabilities anticipated.\n",
    "\n",
    "|Data Model|99% Peak Flow|Remarks|\n",
    "|:---|:---|:---|\n",
    "|Normal|3902|so-so visual fit|           \n",
    "|Log-Normal|4433|better visual fit|            \n",
    "|Gumbell|3296|better visual fit|            \n",
    "|Log-Pearson III|5856|best (of the set) visual fit|\n",
    "\n",
    "At this point, now we have to choose our model and then can investigate different questions.  So using LP3 as our favorite, lets now determine anticipated flow values for different probabilities (from the data model) - easy enought to just change the quantile value and rerun the newtons optimizer, for example:\n",
    "\n",
    "|Exceedence Probability|Flow Value|Remarks|\n",
    "|:---|:---|:---|\n",
    "|25% |968| First Quartile Divider|           \n",
    "|50% |1302| Median, and Second Quartile Divider|            \n",
    "|75% |1860| 3rd Quartile Divider|            \n",
    "|90% |2706| 10% chance of greater value|\n",
    "|99% |5856| 1% chance of greater value (in flood statistics, this is the 1 in 100-yr chance event)|\n",
    "|99.8%|9420| 0.002% chance of greater value (in flood statistics, this is the 1 in 500-yr chance event)|\n",
    "|99.9%|11455| 0.001% chance of greater value (in flood statistics, this is the 1 in 1000-yr chance event)|"
   ]
  },
  {
   "cell_type": "code",
   "execution_count": 31,
   "metadata": {},
   "outputs": [
    {
     "name": "stdout",
     "output_type": "stream",
     "text": [
      "1302.814639184079\n"
     ]
    }
   ],
   "source": [
    "# If we want to get fancy we can use Newton's method to get really close to the root\n",
    "\n",
    "from scipy.optimize import newton\n",
    "\n",
    "def f(x):\n",
    "    sample_tau = 5.976005311346212\n",
    "    sample_alpha = 6.402272915026134\n",
    "    sample_beta = 0.1970087438569494\n",
    "    quantile = 0.50\n",
    "    argument = loggit(x)\n",
    "    gammavalue = gammacdf(argument,sample_tau,sample_alpha,sample_beta)\n",
    "    return gammavalue - quantile\n",
    "\n",
    "myguess =  1000\n",
    "print(newton(f, myguess))"
   ]
  },
  {
   "cell_type": "markdown",
   "metadata": {},
   "source": [
    "## Flood Frequency Analysis (B17C)\n",
    "\n",
    "Flood hydrology is typically studied using the annual peak streamflow data collected by the U.S. Geological Survey (USGS) at streamgages. Hydraulic design engineers need standard of practice guidance for various tasks involving the analysis and application peak streamflow information. Analyses of this information materially influences bridge design, operational safety of drainage infrastructure, flood-plain management, and other decisions affecting society.\n",
    "\n",
    "Bulletin 17B was the standard of practice for decades, recently superceded by Bulletin [17C](https://pubs.usgs.gov/tm/04/b05/tm4b5.pdf).  These and similar tools relate certain statistical metrics (mean, variance, and skew) to a prescribed probability distribution function (Log-Pearson Type III) to extrapolate (predict) the magnitude of rare (low probability) events to inform engineering design.\n",
    "\n",
    "Tasker and Stedinger (1986) developed a weighted least squares (WLS) procedure for estimating regional skewness coefficients based on sample skewness coefficients for the logarithms of annual peak-streamflow data. Their method of regional analysis of skewness estimators accounts for the precision of the skewness estimator for each streamgage, which depends on the length of record for each streamgage and the accuracy of an ordinary least squares (OLS) regional mean skewness. These methods automated much of B17B process and were incorporated into software used for streamgage analysis.  \n",
    "Recent updates to B17B in terms of software improvements and different handling of gage statistics (in particular EMA) are incorporated into the current tool [B17C](https://pubs.usgs.gov/tm/04/b05/tm4b5.pdf)\n",
    "\n",
    "*Summary*\n",
    "\n",
    "- B17C is a report containing methods for estimating magnitudes of rare events\n",
    "- The methods are incorporated into software products such as [PeakFQ 7.3](https://pubs.usgs.gov/tm/2006/tm4b4/tm4b4.pdf) and [HEC-SSP](https://www.hec.usace.army.mil/software/hec-ssp/)\n",
    "\n",
    "### Illustrative Example using Beargrass creek\n",
    "\n",
    "Demonstrate using Bearcreek as an example.  Beargrass creek is not a real site, therefore is not in the NWIS database, so we have to modify the file to be readable in PeakFQ.\n",
    "\n",
    "A modified version is at [BearGrass-B17B.txt](http://54.243.252.9/ce-3354-webroot/ce3354book/lessons/lesson05/BearGrass-B17B.txt)\n",
    "\n",
    "A fully provisioned Windows Implementation of B17C is located at:\n",
    "\n",
    "- server_name: **kittyinthewindow.ddns.net**\n",
    "- user_name: **texas-skew**\n",
    "- passwd: **peakfq73$hare**\n",
    "\n",
    "Users must access using Remote Desktop Protocol (Built into Windows, Apple Store has a free Mac application)\n",
    "\n",
    "- [Video to Demo PeakFQ on Beargrass Creek (YouTube)](https://youtu.be/sm2-4AI6WU8)\n",
    "\n",
    "In class access [Brady Creek](https://waterdata.usgs.gov/nwis/inventory?agency_code=USGS&site_no=08145000) (close to Hardin Creek)"
   ]
  },
  {
   "cell_type": "markdown",
   "metadata": {},
   "source": [
    "## Flow Duration Curves\n",
    "\n",
    "The [flow-duration curve](https://pubs.er.usgs.gov/publication/wsp1542A) is a cumulative frequency curve that shows the percent of **time** specified discharges were equaled or exceeded during a given period. \n",
    "It combines in one curve the flow characteristics of a stream throughout the range of discharge, without regard to the sequence of occurrence. If the period upon which the curve is based represents the long-term flow of a stream, the curve may be used to predict the distribution of future flows for water- power, water-supply, and pollution studies. \n",
    "\n",
    "[OSU Flow Duration Curve Mechanics](https://streamflow.engr.oregonstate.edu/analysis/flow/index.htm)"
   ]
  },
  {
   "cell_type": "markdown",
   "metadata": {},
   "source": [
    "## References\n",
    "\n",
    "1. [Cleveland, T. G. (2017) *Engineering Hydrology Notes to Accompany CE 3354 (Bulletin 17B)*, Department of Civil, Environmental, and Construction Engineering, Whitacre College of Engineering.](http://54.243.252.9/ce-3354-webroot/1-Lectures-2017/Lecture07.pdf)\n",
    "\n",
    "2. [Cleveland, T. G. (2017) *Engineering Hydrology Notes to Accompany CE 3354 (Bulletin 17B)*, Department of Civil, Environmental, and Construction Engineering, Whitacre College of Engineering.](http://54.243.252.9/ce-3354-webroot/1-Lectures-2017/Lecture08.pdf)\n",
    "\n",
    "3. [Generalized Skew Update and Regional Study of Distribution Shape for Texas Flood Frequency Analyses](https://dataverse.tdl.org/dataset.xhtml?persistentId=doi:10.18738/T8/SVLCOQ)\n",
    "\n",
    "4. Jamie Chan (2014) Learn Python in One Day and Learn It Well. LCF Publishing. Kindle Edition. http://www.learncodingfast.com/python\n",
    "\n",
    "5. Grus, Joel. Data Science from Scratch: First Principles with Python. O'Reilly Media. Kindle Edition. (http://safaribooksonline.com)\n",
    "\n",
    "6. Christian, B, and Griffiths Tom (2016) Algorithms to live by: The computer science of human decisions. Henry Holt and Company, ISBN 9781627790369 (hardcover)|ISBN 9781627790376 (electronic book)\n",
    "\n",
    "7. https://www.amazon.com/Distributional-Statistics-Environment-Statistical-Computing/dp/1463508417\n",
    "    \n",
    "8. England, J.F. Jr., Cohn, T.A., Faber, B.A., Stedinger, J.R., Thomas Jr., W.O., Veilleux, A.G., Kiang, J.E., and Mason, R.R.Jr., 2018, Guidelines for Determining Flood Flow Frequency—Bulletin 17C: U.S. Geological Survey Techniques andMethods, book 4, chap. B5, 146 p., https://doi.org/10.3133/tm4B5\n",
    "\n",
    "9. https://www.astroml.org/book_figures/chapter3/fig_gamma_distribution.html\n",
    "\n",
    "10. https://www.inferentialthinking.com/chapters/10/Sampling_and_Empirical_Distributions.html\n",
    "\n",
    "11. https://www.inferentialthinking.com/chapters/15/Prediction.html"
   ]
  },
  {
   "cell_type": "code",
   "execution_count": null,
   "metadata": {},
   "outputs": [],
   "source": []
  }
 ],
 "metadata": {
  "kernelspec": {
   "display_name": "Python 3",
   "language": "python",
   "name": "python3"
  },
  "language_info": {
   "codemirror_mode": {
    "name": "ipython",
    "version": 3
   },
   "file_extension": ".py",
   "mimetype": "text/x-python",
   "name": "python",
   "nbconvert_exporter": "python",
   "pygments_lexer": "ipython3",
   "version": "3.8.10"
  }
 },
 "nbformat": 4,
 "nbformat_minor": 4
}