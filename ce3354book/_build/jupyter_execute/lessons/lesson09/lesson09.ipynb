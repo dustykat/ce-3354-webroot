{
 "cells": [
  {
   "cell_type": "markdown",
   "metadata": {},
   "source": [
    "# Unit Hydrographs - I (Analysis)\n",
    "\n",
    "Some definitions of a watershed include:\n",
    "\n",
    "- Topographic area that collects and discharges surface streamflow through one outlet or mouth (pour point)\n",
    "- The area on the surface of the Earth that drains to a specific location\n",
    "- In groundwater a similar concept is called a groundwater basin – only the boundaries can move depending on relative rates of recharge and discharge \n",
    "\n",
    "The topographic definition omits that there could be subsurface sewer systems that can cross topographic boundaries.   \n",
    "It’s a big deal in urban areas.\n",
    "\n",
    "[insert some images]\n",
    "\n",
    "## Watershed Delineation\n",
    "\n",
    "Define\n",
    "\n",
    "### By-hand\n",
    "\n",
    "Example\n",
    "\n",
    "### Automated\n",
    "\n",
    "\n",
    "### Stream Stats Tool\n",
    "\n",
    "Pick somewhere in Oklahoma\n",
    "\n",
    "## Watershed Metrics\n",
    "\n",
    "### Measuring Area\n",
    "### Measuring Length(s) \n",
    "### Estimating Slope(s)\n",
    "\n",
    "\n",
    "\n",
    "\n",
    "\n",
    "\n",
    "## References\n",
    "\n",
    "cite pages of textbook\n",
    "\n",
    "links to other readings \n",
    "\n"
   ]
  },
  {
   "cell_type": "markdown",
   "metadata": {},
   "source": []
  },
  {
   "cell_type": "markdown",
   "metadata": {},
   "source": []
  }
 ],
 "metadata": {
  "kernelspec": {
   "display_name": "Python 3",
   "language": "python",
   "name": "python3"
  },
  "language_info": {
   "codemirror_mode": {
    "name": "ipython",
    "version": 3
   },
   "file_extension": ".py",
   "mimetype": "text/x-python",
   "name": "python",
   "nbconvert_exporter": "python",
   "pygments_lexer": "ipython3",
   "version": "3.8.10"
  }
 },
 "nbformat": 4,
 "nbformat_minor": 4
}