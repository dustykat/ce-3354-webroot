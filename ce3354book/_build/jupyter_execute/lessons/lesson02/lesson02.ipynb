{
 "cells": [
  {
   "cell_type": "markdown",
   "metadata": {},
   "source": [
    "# Hydrologic Cycle\n",
    "\n",
    "The water, or hydrologic, cycle describes the journey of water as water molecules make their way from the Earth’s surface to the atmosphere and back again, in some cases to below the surface. This gigantic system, powered by energy from the Sun, is a continuous exchange of moisture between the oceans, the atmosphere, and the land.\n",
    "A typical diagram depicting the hydrologic cycle is shown below.\n",
    "\n",
    "![](hydrologic_cycle.png)\n",
    "\n",
    "The driving force for the cycle is solar energy that provides the energy to vaporize liquid water that then rises into clouds, moves onshore, and rains (or snow, sleet, $\\dots$.  and other forms of <strong>precipitation</strong>)\n",
    "A portion of the rain becomes runoff, another portion returns to the atmosphere as evaporation, another portion infiltrates into the ground and becomes groundwater.\n",
    "\n"
   ]
  },
  {
   "cell_type": "markdown",
   "metadata": {},
   "source": [
    "## Water Budget Definition\n",
    "The water budget, or <strong>hydrologic balance</strong> is simply the expression of the conservation of mass in hydrologic terms for a hydrologic system.  \n",
    "Generally it is expressed as a rate (or volume) balance.\n",
    "The hydrologic equation is the fundamental tool in hydrology to describe amounts of water in storage in different compartments at different scales.  \n",
    "\n",
    "The equation expressed in “words” is\n",
    "\n",
    "Rate of inflow - Rate of outflow =  Rate of change of storage + Rate of internal mass generation.\n",
    "\n",
    "Symbolically it is exrepssed as:\n",
    "\n",
    "$$ \\frac{dI}{dt} - \\frac{dO}{dt} = \\frac{dS}{dt} + \\frac{dG}{dt}$$\n",
    "\n",
    "where\n",
    "\n",
    "$I$ is inflow volume, $O$ is outflow volume, $S$ is storage volume (i.e. within a watershed), and $G$ is generated volume.\n",
    "$G$ is generally zero, but is included to be consistent with the balance equations you have learned elsewhere (i.e. environmental engineering, chemistry, $\\dots$)"
   ]
  },
  {
   "cell_type": "markdown",
   "metadata": {},
   "source": [
    "## Water Budget Example\n",
    "Consider the following problem statement:\n",
    "\n",
    "![](BetswyCoedPrstate.png)\n",
    "\n",
    "One way to answer the questions is to decompose the problem into a simpler construct, usually by sketching a diagram as shown below:\n",
    "\n",
    "![](BetswyCoedSketch.png)\n",
    "\n",
    "Now we can simply assign the terms to the appropriate parts of the water balance equation and solve for unknown components such as:\n",
    "\n",
    "![](BetswyCoedSolve1.png)\n",
    "\n",
    "For more utility we can use our Computational Thinking (ENGR-1330) skills and write a simple script to generalize the results and help with unit conversions"
   ]
  },
  {
   "cell_type": "code",
   "execution_count": 1,
   "metadata": {},
   "outputs": [
    {
     "name": "stdout",
     "output_type": "stream",
     "text": [
      "Runoff =  149  watershed millimeters\n"
     ]
    }
   ],
   "source": [
    "# Water Budget Script - Example in WebBook\n",
    "P = 254 # millimeters of rainfall \n",
    "ET = 85 # millimeters of evapotranspiration\n",
    "I = 20 # millimeters of infiltration\n",
    "DeltaS = 0 # millimeters of storage change\n",
    "\n",
    "R = P - ET - I + DeltaS\n",
    "\n",
    "print(\"Runoff = \",round(R,3),' watershed millimeters')"
   ]
  },
  {
   "cell_type": "markdown",
   "metadata": {},
   "source": [
    "Now to convert to other units as requested, we simply apply conversions as:"
   ]
  },
  {
   "cell_type": "code",
   "execution_count": 2,
   "metadata": {},
   "outputs": [
    {
     "name": "stdout",
     "output_type": "stream",
     "text": [
      "Runoff =  9685000.0  cubic meters\n",
      "Runoff =  9685000000.0  liters\n"
     ]
    }
   ],
   "source": [
    "def mm2m(mm):\n",
    "    # convert mm into meters\n",
    "    mm2m = mm/1000.0 # mm should be a float\n",
    "    return(mm2m)\n",
    "\n",
    "def sqkm2sqm(sqkm):\n",
    "    # convert square kilometers into square meters\n",
    "    sqkm2sqm = sqkm * 1.0e06 # sqkm should be a float\n",
    "    return(sqkm2sqm)\n",
    "\n",
    "def cum2liter(cum):\n",
    "    # convert cubic meters into liters\n",
    "    cum2liter = cum*1000.0 # cum should be a float\n",
    "    return(cum2liter)\n",
    "\n",
    "# now express result in useful units\n",
    "area = 65 # area in sq. kilometers\n",
    "\n",
    "WholeWatershedRunoff = mm2m(R)*sqkm2sqm(area)\n",
    "\n",
    "print(\"Runoff = \",round(WholeWatershedRunoff,3),' cubic meters')\n",
    "\n",
    "print(\"Runoff = \",round(cum2liter(WholeWatershedRunoff),3),' liters')"
   ]
  },
  {
   "cell_type": "markdown",
   "metadata": {},
   "source": [
    "Now estimate largest population this hydrology could support"
   ]
  },
  {
   "cell_type": "code",
   "execution_count": 3,
   "metadata": {},
   "outputs": [
    {
     "name": "stdout",
     "output_type": "stream",
     "text": [
      "Maximum Population =  1008854.1666666666  if rainfall is firm\n"
     ]
    }
   ],
   "source": [
    "# Population supported at 160 L/day\n",
    "litersPerDayPerPerson = 160\n",
    "litersPer2months = litersPerDayPerPerson*2*30\n",
    "# Assume all Runoff is Run through kidneys and colons\n",
    "maxPeople = cum2liter(WholeWatershedRunoff)/litersPer2months\n",
    "print(\"Maximum Population = \",maxPeople,\" if rainfall is firm\")"
   ]
  },
  {
   "cell_type": "markdown",
   "metadata": {},
   "source": [
    "---\n",
    "# Watersheds\n",
    "\n",
    "Recall our definitions:\n",
    "\n",
    "- Topographic area that collects and discharges surface streamflow through one outlet or mouth (pour point)\n",
    "- The area on the surface of the Earth that drains to a specific location\n",
    "- In groundwater a similar concept is called a groundwater basin – only the boundaries can move depending on relative rates of recharge and discharge \n",
    "\n",
    "The topographic definition omits that there could be subsurface sewer systems that can cross topographic boundaries.   \n",
    "It’s a big deal in urban areas.\n",
    "\n",
    "[insert some images]\n",
    "\n",
    "## Watershed Delineation\n",
    "\n",
    "### By-hand\n",
    "\n",
    "### Stream Stats Tool\n",
    "\n",
    "## Watershed Metrics\n",
    "\n",
    "### Measuring Area\n",
    "### Measuring Length(s) \n",
    "### Estimating Slope(s)\n",
    "\n",
    "\n",
    "\n",
    "\n",
    "\n",
    "\n",
    "## References\n",
    "\n",
    "cite pages of textbook\n",
    "\n",
    "links to other readings \n",
    "\n",
    "1. [Hydrologic cycle (USGS)](https://www.usgs.gov/special-topics/water-science-school/science/fundamentals-water-cycle).\n",
    "\n",
    "2. [Hydrologic Cycle (NSF) - YouTube Video](https://www.youtube.com/watch?v=al-do-HGuIk)"
   ]
  },
  {
   "cell_type": "markdown",
   "metadata": {},
   "source": []
  },
  {
   "cell_type": "markdown",
   "metadata": {},
   "source": []
  }
 ],
 "metadata": {
  "kernelspec": {
   "display_name": "Python 3",
   "language": "python",
   "name": "python3"
  },
  "language_info": {
   "codemirror_mode": {
    "name": "ipython",
    "version": 3
   },
   "file_extension": ".py",
   "mimetype": "text/x-python",
   "name": "python",
   "nbconvert_exporter": "python",
   "pygments_lexer": "ipython3",
   "version": "3.8.10"
  }
 },
 "nbformat": 4,
 "nbformat_minor": 4
}