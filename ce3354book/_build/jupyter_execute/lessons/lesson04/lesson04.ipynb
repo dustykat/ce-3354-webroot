{
 "cells": [
  {
   "cell_type": "markdown",
   "metadata": {},
   "source": [
    "# Precipitation Data Modeling\n",
    "\n"
   ]
  },
  {
   "cell_type": "markdown",
   "metadata": {},
   "source": [
    "- Probability Estimation Modeling\n",
    "- Design Storms"
   ]
  },
  {
   "cell_type": "markdown",
   "metadata": {},
   "source": [
    "## Discrete Data Analysis\n",
    "\n",
    "Figure XX below is a representation of some continuous process.  To extract values by measurements only occurs at discrete points in time. These samples are reconstructed in a variety of ways to restore the original representation.\n",
    "\n",
    "<figure align=\"center\">\n",
    "<!--<img src=\"./data_repr.png\" width=\"400\" > -->\n",
    "<img src=\"http://54.243.252.9/ce-3354-webroot/ce3354book/lessons/lesson04/data_repr.png\" width=\"400\"> <figcaption>Figure XX. Data representations </figcaption>\n",
    "</figure>\n",
    "\n",
    "Real data are always some kind of discrete sample\n",
    "\n",
    "- The “pulse” type is typical – and is called incremental data.\n",
    "- For instance, incremental rainfall would be the catch over some time interval ($\\Delta t$ in the figure)\n",
    "- An alternative way to represent the data is with a cumulative representation (which is the running sum of the incremental data)\n",
    "\n",
    "Figure XX below depicts the relationship between incremental and cumulative representations. Each “block” represents the amount of rainfall for the time interval\n",
    "- The collection of blocks is called “incremental” rainfall (red)\n",
    "- The running sum of the blocks is the cumulative distribution (blue)\n",
    "\n",
    "A particular blocck is indicated with a height of about one, and time duration also one.  If for instance the block represents a depth the implication is that after one hour (from time 4 to 5 in the drawing) the depth added to some location is one unit. \n",
    "\n",
    "<figure align=\"center\">\n",
    "<!--<img src=\"./incr-cum-repr.png\" width=\"400\" > -->\n",
    "<img src=\"http://54.243.252.9/ce-3354-webroot/ce3354book/lessons/lesson04/incr-cum-repr.png\" width=\"400\"> <figcaption>Figure XX. Data representations </figcaption>\n",
    "</figure>\n",
    "\n",
    "If these are watershed inches, then the drawing sugests that from hour zero to one, zero inches of precipitation occur, from hour one to two, about 1/4 inch; from hour 2 to 3, about 0.4 inch; from hour 3 to 4, about 0.7 inch; and hour 4 to 5; 1 inch; and so on.  If we tabulated the information we would have\n",
    "\n",
    "|Time| Incremental Depth (Red)| Accumulated Depth (Blue)|\n",
    "|---:|---:|---:|\n",
    "|0|0.00|0.00|\n",
    "|1|0.25|0.00|\n",
    "|2|0.40|0.25|\n",
    "|3|0.70|0.65|\n",
    "|4|1.00|1.35|\n",
    "|5|0.50|2.35|\n",
    "\n",
    "Accumulating (running sum) the incremental is called “aggregation” (or just plain numerical integration); Differencing the cumulative is called “disaggregation.” For practical application its often handy to zero pad the leading and trailing edges so don’t have to worry too about forward/backward differencing issues.  \n",
    "\n",
    "### Computational Thinking (ENGR-1330) - Accumulation\n",
    "\n",
    "Consider the need to accumulate data such as:\n",
    "\n",
    "|Time (hours)| Incremental Depth (inches)| Accumulated Depth (inches)|\n",
    "|---:|---:|---:|\n",
    "|0|0.121||\n",
    "|1|0.121||\n",
    "|2|0.132||\n",
    "|3|0.154||\n",
    "|4|0.165||\n",
    "|5|0.187||\n",
    "|6|0.198||\n",
    "|7|0.242||\n",
    "|8|0.297||\n",
    "|9|0.374||\n",
    "|10|0.594||\n",
    "|11|4.708||\n",
    "|12|1.199||\n",
    "|13|0.528||\n",
    "|14|0.374||\n",
    "|15|0.286||\n",
    "|16|0.253||\n",
    "|17|0.209||\n",
    "|18|0.176||\n",
    "|19|0.154||\n",
    "|20|0.132||\n",
    "|21|0.132||\n",
    "|22|0.132||\n",
    "|23|0.132||\n",
    "|24|0.000||\n",
    "\n",
    "Our goal is to complete the last column, in this case its relatively straight forward because the time spacing is uniform.  The approach is to perform numerical integration using rectangular panels looking backward in time.\n",
    "\n",
    "$$acc_{i}=inc_{i-1}+acc_{i-1}$$\n"
   ]
  },
  {
   "cell_type": "code",
   "execution_count": 1,
   "metadata": {},
   "outputs": [
    {
     "data": {
      "image/png": "[encoded data removed]",
      "text/plain": [
       "<Figure size 720x360 with 1 Axes>"
      ]
     },
     "metadata": {
      "filenames": {
       "image/png": "/home/sensei/ce-3354-webroot/ce3354book/_build/jupyter_execute/lessons/lesson04/lesson04_3_0.png"
      },
      "needs_background": "light"
     },
     "output_type": "display_data"
    }
   ],
   "source": [
    "time=[0,1,2,3,4,5,6,7,8,9,10,11,12,13,14,15,16,17,18,19,20,21,22,23,24]\n",
    "increment=[0.121,0.121,0.132,0.154,0.165,0.187,0.198,0.242,0.297,0.374,0.594,4.708,1.199,0.528,0.374,0.286,0.253,0.209,0.176,0.154,0.132,0.132,0.132,0.132,0]\n",
    "accumulate=[0 for i in range(len(time))]\n",
    "\n",
    "for i in range(1,len(time)):\n",
    "    accumulate[i] = accumulate[i-1]+increment[i-1]\n",
    "\n",
    "\n",
    "import matplotlib.pyplot as plt # the python plotting library\n",
    "plottitle ='Precipitation for Somewhere USA ' \n",
    "mydata = plt.figure(figsize = (10,5)) # build a square drawing canvass from figure class\n",
    "plt.plot(time, increment, c='red',drawstyle='steps') # step plot\n",
    "plt.plot(time, accumulate, c='blue',drawstyle='steps') # step plot\n",
    "plt.xlabel('Time (hours)')\n",
    "plt.ylabel('Depth (inches)')\n",
    "plt.legend(['Incremental Depth','Accumulated Depth'])\n",
    "plt.title(plottitle)\n",
    "plt.show()"
   ]
  },
  {
   "cell_type": "markdown",
   "metadata": {},
   "source": [
    "## Risk-Based Design Concepts\n",
    "\n",
    "### Probability Estimation Modeling\n",
    "\n",
    "1. [Probability Estimation Modeling - I](http://54.243.252.9/ce-3354-webroot/3-Readings/ProbabilityEstimationModeling/cive6361_week_006_A.pdf)\n",
    "2. [Probability Estimation Modeling - II](http://54.243.252.9/ce-3354-webroot/3-Readings/ProbabilityEstimationModeling/cive6361_week_006_B.pdf)\n",
    "3. [Design Rainfall](http://54.243.252.9/ce-3354-webroot/3-Readings/DesignRainfallEssay/DesignRainfall.pdf)\n",
    "4. [Rainfall Intensity for Design](http://54.243.252.9/ce-3354-webroot/3-Readings/TRB-2008-Paper/TRB_2008_IntensityDesign_Rev2.pdf)\n",
    "5. [Empirical Hyetographs](http://54.243.252.9/ce-3354-webroot/3-Readings/EmpiricalHyetographs/sir2004-5075.pdf)\n",
    "6. [DDF-Texas](http://54.243.252.9/ce-3354-webroot/3-Readings/USGS-Texas-DDF-Theory/wri98-4044.pdf) \n",
    "7. [Texas DDF Atlas](http://54.243.252.9/ce-3354-webroot/3-Readings/USGS-Texas-DDF-Atlas/sir2004-5041.pdf)\n",
    "8. [Texas DDF Atlas on-line](http://54.243.252.9/toolbox/hydrology/TexasDDFAtlas/TexasDDFAtlas.html)\n",
    "9. [NOAA PFDS](https://hdsc.nws.noaa.gov/hdsc/pfds/)\n"
   ]
  },
  {
   "cell_type": "markdown",
   "metadata": {},
   "source": [
    "## Point Precipitation \n",
    "\n"
   ]
  },
  {
   "cell_type": "markdown",
   "metadata": {},
   "source": [
    "## Design Storms"
   ]
  },
  {
   "cell_type": "markdown",
   "metadata": {},
   "source": []
  },
  {
   "cell_type": "markdown",
   "metadata": {},
   "source": []
  },
  {
   "cell_type": "code",
   "execution_count": null,
   "metadata": {},
   "outputs": [],
   "source": []
  },
  {
   "cell_type": "markdown",
   "metadata": {},
   "source": [
    "## References\n",
    "\n",
    "1. [Chow, V.T., Maidment,D.M., and Mays, L.W. (1998) Applied Hydrology, McGraw Hill, (Read pages 26 to 31; 416 to 423)](http://54.243.252.9/ce-3354-webroot/3-Readings/CMM1988/) \n",
    "\n",
    "2. [McCuen, R.H., Johnson, P.A., and Ragan, R.M. (2002) Highway Hydrology. HDS-2 (2ed) FHWA-NHI-02-001 (Read pages 3-1 to 3-5; 4-86 to 4-89; 5-1 to 5-8; 5-16 to 5-17)](http://54.243.252.9/ce-3354-webroot/3-Readings/FHWAHighwayHydrology/FHWA-NHI-02-001.pdf)\n",
    "\n",
    "3. [Texas Hydraulic Design Manual (2014-1) Texas Department of Transportation. (2014) Hydraulic Design Manual (Read pages 4-1 to 4-5; 4-31 to 4-35)](http://54.243.252.9/ce-3354-webroot/3-Readings/TXDOT-HYDM-2014/txdot-hdm-2014.pdf)\n",
    "\n",
    "4. [Linear Theory of Hydrologic Systems Dooge, J.C. I. (1973) Linear Theory of Hydrologic Systems. USDA ARS Technical Bulletin No. 1468. (Read pages 127 to 147)](http://54.243.252.9/ce-3354-webroot/3-Readings/LS1973/linear-systems-hydrology-dooge.pdf)\n",
    "\n",
    "5. [Cleveland, T. G. (2017) *Engineering Hydrology Notes to Accompany CE 3354 (Discrete Data Analysis; Risk Based Design; Regression Equations)*, Department of Civil, Environmental, and Construction Engineering, Whitacre College of Engineering.](http://54.243.252.9/ce-3354-webroot/1-Lectures-2017/Lecture05.pdf)\n",
    "\n",
    "6. [Cleveland, T. G. (2017) *Engineering Hydrology Notes to Accompany CE 3354 (Probability Estimation Modeling)*, Department of Civil, Environmental, and Construction Engineering, Whitacre College of Engineering.](http://54.243.252.9/ce-3354-webroot/1-Lectures-2017/Lecture06.pdf)\n",
    "\n",
    "7. [Cleveland, T. G. (2017) *Engineering Hydrology Notes to Accompany CE 3354 (Point Precipitation; Design Storms)*, Department of Civil, Environmental, and Construction Engineering, Whitacre College of Engineering.](http://54.243.252.9/ce-3354-webroot/1-Lectures-2017/Lecture08.pdf)\n"
   ]
  },
  {
   "cell_type": "code",
   "execution_count": null,
   "metadata": {},
   "outputs": [],
   "source": []
  }
 ],
 "metadata": {
  "kernelspec": {
   "display_name": "Python 3",
   "language": "python",
   "name": "python3"
  },
  "language_info": {
   "codemirror_mode": {
    "name": "ipython",
    "version": 3
   },
   "file_extension": ".py",
   "mimetype": "text/x-python",
   "name": "python",
   "nbconvert_exporter": "python",
   "pygments_lexer": "ipython3",
   "version": "3.8.10"
  }
 },
 "nbformat": 4,
 "nbformat_minor": 4
}