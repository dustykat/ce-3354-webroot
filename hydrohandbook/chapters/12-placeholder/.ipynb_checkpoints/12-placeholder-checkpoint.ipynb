{
 "cells": [
  {
   "cell_type": "markdown",
   "id": "1c1c04fa-ad68-432d-9320-f0f8c140c780",
   "metadata": {},
   "source": [
    " # 12. Placeholder\n",
    "\n",
    ":::{admonition} Course Website\n",
    "[Link to Course Website](http://54.243.252.9/ce-3354-webroot/)\n",
    ":::"
   ]
  },
  {
   "cell_type": "markdown",
   "id": "b94d1f8d-5f1b-4ea9-ada8-22f725210e75",
   "metadata": {
    "jp-MarkdownHeadingCollapsed": true
   },
   "source": [
    "## Readings\n",
    "\n",
    "1. [Chow, V.T., Maidment, D.R., Mays, L.W., 1988, Applied Hydrology:  New York, McGraw-Hill. **pp. 80-91** ](http://54.243.252.9/ce-3354-webroot/3-Readings/CMM1988/Applied%20Hydrology%20VT%20Chow%201988.pdf) \n",
    "2. [Gupta, R.S., 2017. Hydrology and Hydraulic Systems, pp. 65-88; pp. 93-111](https://www.waveland.com/browse.php?t=384)\n",
    "3. Chow, V. T., 1964. Handbook of Applied Hydrology. McGraw Hill, New York. Sec. 14., 2pp.\n",
    "\n",
    "## Spreadsheets\n",
    "\n",
    "1. [Green-Ampt Spreadsheet (Excel)](http://54.243.252.9/ce-3354-webroot/1-Lectures-2020/lesson07/ce5361_green_ampt.xlsx) Right-Click \"Save As...\"\n",
    "3. [Blaney-Criddle Spreadsheet (Excel)](http://54.243.252.9/ce-3354-webroot/1-Lectures-2020/lesson06/BlaneyCriddle.xlsx) Right-Click \"Save As...\"\n",
    "4. [Thornwaithe Spreadsheet (Excel)](http://54.243.252.9/ce-3354-webroot/1-Lectures-2020/lesson06/Thornwaithe.xls) Right-Click \"Save As...\"\n"
   ]
  },
  {
   "cell_type": "markdown",
   "id": "66f26baf-53e2-457b-8378-1681fb383860",
   "metadata": {},
   "source": [
    "## Videos\n",
    "\n",
    "- [Introduction to Infiltration](https://www.youtube.com/watch?v=alEEY5rr2Kk)\n"
   ]
  },
  {
   "cell_type": "markdown",
   "id": "caca20aa-2c2e-4b93-a8d5-8ab489178c13",
   "metadata": {},
   "source": [
    "# 12.1 topic 1\n",
    "  - Cone of depression and drawdown\n",
    "  - Theis and Thiem equations for well analysis\n",
    "  - Groundwater recharge and depletion issues"
   ]
  },
  {
   "cell_type": "markdown",
   "id": "7c17c26a-b73f-470b-9220-c0a46f458789",
   "metadata": {},
   "source": [
    "# 12.2 topic 2\n",
    "  - Theis solution for transient flow to a well\n",
    "  - Concept of storativity and time-dependent drawdown\n",
    "  - Cooper-Jacob approximation for late-time drawdown"
   ]
  },
  {
   "cell_type": "markdown",
   "id": "4c96800f-805c-4b7d-86fc-a47bb4bf17f2",
   "metadata": {},
   "source": [
    "# 12.3 topic 3\n",
    "  - Overdraft, subsidence, and long-term water balance\n",
    "  - Groundwater protection and contamination risks\n",
    "  - Case studies of aquifer depletion and management strategies"
   ]
  },
  {
   "cell_type": "markdown",
   "id": "42251e43-048b-4b3a-ae6f-7d7d51edd43f",
   "metadata": {},
   "source": [
    "# 12.4 Exercise(s)\n",
    "\n",
    "LINK TO EXERCISE\n",
    "\n",
    "CODE TO AUTOBUILD EXERCISE"
   ]
  },
  {
   "cell_type": "markdown",
   "id": "b89da982-4472-46c8-bb4b-56219f4fdc05",
   "metadata": {},
   "source": [
    "## Section End"
   ]
  }
 ],
 "metadata": {
  "kernelspec": {
   "display_name": "Python Common Environment",
   "language": "python",
   "name": "python-my-env"
  },
  "language_info": {
   "codemirror_mode": {
    "name": "ipython",
    "version": 3
   },
   "file_extension": ".py",
   "mimetype": "text/x-python",
   "name": "python",
   "nbconvert_exporter": "python",
   "pygments_lexer": "ipython3",
   "version": "3.10.12"
  }
 },
 "nbformat": 4,
 "nbformat_minor": 5
}
