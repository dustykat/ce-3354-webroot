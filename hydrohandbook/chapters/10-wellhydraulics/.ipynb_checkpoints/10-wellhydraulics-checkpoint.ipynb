{
 "cells": [
  {
   "cell_type": "markdown",
   "id": "1c1c04fa-ad68-432d-9320-f0f8c140c780",
   "metadata": {},
   "source": [
    " # 10. Well Hydraulics & Groundwater Management\n"
   ]
  },
  {
   "cell_type": "markdown",
   "id": "40f0e179-eb24-453a-b5af-cfc05289cc58",
   "metadata": {},
   "source": [
    "## Readings\n",
    "\n",
    "\n",
    "1. Gupta pp. 133-151\n",
    "2. [Basic Groundwater Hydrology - USGS WSP 2020](http://54.243.252.9/ce-3354-webroot/3-Readings/USGS-WSP2020-GroundwaterHydrology/usgs-wsp-2020.pdf)\n",
    "3. [Cleveland, T. G. (2017) *Engineering Hydrology Notes (Groundwater Hydrology) to accompany CE-3354*, Department of Civil, Environmental, and Construction Engineering, Whitacre College of Engineering.](http://54.243.252.9/ce-3354-webroot/1-Lectures-2017/Lecture22.pdf)\n",
    "4. [Cleveland, T.G., 1996. ”Type-Curve Analysis using a Computer Spreadsheet,” Ground Water, Vol. 34, No. 3.](https://3.137.111.182/documents/about-me/MyWebPapers/journal_papers/type_curve_jgw_1996/type_curve_jgw_1996.pdf)\n",
    "5. [Capture Zone Type Curves - Javandel and Tsang (1986)](http://54.243.252.9/ce-3354-webroot/3-Readings/CaptureZones/Capture.PDF)\n",
    "6. [Cleveland, T. G. (2017) *Engineering Hydrology Notes (Contaminant Transport and Numerical Modeling) to accompany CE-3354*, Department of Civil, Environmental, and Construction Engineering, Whitacre College of Engineering.](http://54.243.252.9/ce-3354-webroot/1-Lectures-2017/Lecture24.pdf)"
   ]
  },
  {
   "cell_type": "markdown",
   "id": "6cc48c14-4a49-4bf4-a125-3a8699cbc9e1",
   "metadata": {},
   "source": [
    "## Videos"
   ]
  },
  {
   "cell_type": "markdown",
   "id": "9d11576f-95bd-4f60-ac8d-94932cb0fe8d",
   "metadata": {},
   "source": [
    "## Spreadsheets/Scripts\n",
    "\n",
    ":::{warning}\n",
    "Spreadsheets with (MACROS) may not run in modern Excel - you may have to rewrite the MACROS using VBA.  As time permits, we will simply write them in JupyterLab.\n",
    ":::\n",
    "\n",
    "1. Theim Model (to show interference effects and map a regional gradient onto a drawdown distribution) [WELL_STY.XLS ](http://54.243.252.9/ce-3354-webroot/hydrohandbook/chapters/10-wellhydraulics/WELL_STY.XLS)\n",
    "2. Theis Model (MACROS) [TheisModel.xlsm (vba macros) ](http://54.243.252.9/ce-3354-webroot/hydrohandbook/chapters/10-wellhydraulics/TheisModel.xlsm)\n",
    "3. Hantush Leaky Model (MACROS) [HantushLeakyModel.xlsm (vba macros)](http://54.243.252.9/ce-3354-webroot/hydrohandbook/chapters/10-wellhydraulics/HantushLeakyModel.xlsm)\n",
    "4. Theis TC Model ([Described Here](https://3.137.111.182/documents/about-me/MyWebPapers/journal_papers/type_curve_jgw_1996/type_curve_jgw_1996.pdf)) [TC_Theis.xls](http://54.243.252.9/ce-3354-webroot/hydrohandbook/chapters/10-wellhydraulics/TC_Theis.xls)\n",
    "5. Theis TC Model ([Described Here](https://3.137.111.182/documents/about-me/MyWebPapers/journal_papers/type_curve_jgw_1996/type_curve_jgw_1996.pdf))[TC_Theis.ods](http://54.243.252.9/ce-3354-webroot/hydrohandbook/chapters/10-wellhydraulics/TC_Theis.ods)\n",
    "6. Jacobs Solution [Jacob.xls](http://54.243.252.9/ce-3354-webroot/hydrohandbook/chapters/10-wellhydraulics/Jacob.xls)\n",
    "7. Jacobs Solution [Jacob.ods](http://54.243.252.9/ce-3354-webroot/hydrohandbook/chapters/10-wellhydraulics/Jacob.ods)\n"
   ]
  },
  {
   "cell_type": "markdown",
   "id": "ba8c7148-cc1a-4d49-9a36-6b6d08750a75",
   "metadata": {},
   "source": [
    "\n",
    "## Well Hydraulics & Pumping Tests\n",
    "  - Cone of depression and drawdown\n",
    "  - Theis and Thiem equations for well analysis\n",
    "  - Groundwater recharge and depletion issues\n",
    "\n",
    "## Transient Well Hydraulics\n",
    "  - Theis solution for transient flow to a well\n",
    "  - Concept of storativity and time-dependent drawdown\n",
    "  - Cooper-Jacob approximation for late-time drawdown\n",
    "\n",
    "## Groundwater Management & Sustainability\n",
    "  - Overdraft, subsidence, and long-term water balance\n",
    "  - Groundwater protection and contamination risks\n",
    "  - Case studies of aquifer depletion and management strategies\n",
    "\n",
    "## Lab/Exercise: Analyzing pumping test data using Theis and Cooper-Jacob methods\n",
    "## Lab/Exercise: Pumping test data analysis & groundwater modeling introduction\n",
    "\n",
    "# 23.2 Steady Flow to Wells\n",
    "\n",
    "## Topics\n",
    "\n",
    "- Steady flow to well\n",
    "  - Confined\n",
    "  - Unconfined\n",
    "- Superposition to represent\n",
    "  - Multiple wells\n",
    "  - Aquifer Boundaries\n",
    "\n",
    "# 23.3 Transient Flow to Wells\n",
    "\n",
    "## Topics\n",
    "\n",
    "- Unsteady flow to a well\n",
    "  - Confined (Theis Solution)\n",
    "- Superposition\n",
    "  - Multiple wells\n",
    "  - Aquifer Boundaries\n",
    "- Convolution\n",
    "  - Time-varying pumping rates\n",
    "- Leaky (Hantush Solution)\n",
    "\n",
    "\n",
    "# 23.4 Constituient Transport\n",
    "\n",
    "## Topics\n",
    "\n",
    "- Subsurface Contaminant Hydrology\n",
    "  - Advection-Dispersion Equation\n",
    "  - Selected Analytical Solutions\n",
    "  - Capture Zones"
   ]
  },
  {
   "cell_type": "code",
   "execution_count": null,
   "id": "cb90938d-7612-4734-afec-c09b3a23885e",
   "metadata": {},
   "outputs": [],
   "source": []
  },
  {
   "cell_type": "markdown",
   "id": "b89da982-4472-46c8-bb4b-56219f4fdc05",
   "metadata": {},
   "source": [
    "## Section End"
   ]
  }
 ],
 "metadata": {
  "kernelspec": {
   "display_name": "Python Common Environment",
   "language": "python",
   "name": "python-my-env"
  },
  "language_info": {
   "codemirror_mode": {
    "name": "ipython",
    "version": 3
   },
   "file_extension": ".py",
   "mimetype": "text/x-python",
   "name": "python",
   "nbconvert_exporter": "python",
   "pygments_lexer": "ipython3",
   "version": "3.10.12"
  }
 },
 "nbformat": 4,
 "nbformat_minor": 5
}
