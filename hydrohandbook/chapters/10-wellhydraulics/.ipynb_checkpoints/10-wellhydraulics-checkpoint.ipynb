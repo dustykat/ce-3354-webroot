{
 "cells": [
  {
   "cell_type": "markdown",
   "id": "1c1c04fa-ad68-432d-9320-f0f8c140c780",
   "metadata": {},
   "source": [
    " # 10. Well Hydraulics & Groundwater Management\n"
   ]
  },
  {
   "cell_type": "markdown",
   "id": "40f0e179-eb24-453a-b5af-cfc05289cc58",
   "metadata": {},
   "source": [
    "## Readings\n",
    "\n",
    "\n",
    "1. Gupta pp. 133-151\n",
    "2. [Basic Groundwater Hydrology - USGS WSP 2020](http://54.243.252.9/ce-3354-webroot/3-Readings/USGS-WSP2020-GroundwaterHydrology/usgs-wsp-2020.pdf)\n",
    "3. [Cleveland, T. G. (2017) *Engineering Hydrology Notes (Groundwater Hydrology) to accompany CE-3354*, Department of Civil, Environmental, and Construction Engineering, Whitacre College of Engineering.](http://54.243.252.9/ce-3354-webroot/1-Lectures-2017/Lecture22.pdf)\n",
    "4. [Cleveland, T.G., 1996. ”Type-Curve Analysis using a Computer Spreadsheet,” Ground Water, Vol. 34, No. 3.](https://3.137.111.182/documents/about-me/MyWebPapers/journal_papers/type_curve_jgw_1996/type_curve_jgw_1996.pdf)\n",
    "5. [Capture Zone Type Curves - Javandel and Tsang (1986)](http://54.243.252.9/ce-3354-webroot/3-Readings/CaptureZones/Capture.PDF)\n",
    "6. [Cleveland, T. G. (2017) *Engineering Hydrology Notes (Contaminant Transport and Numerical Modeling) to accompany CE-3354*, Department of Civil, Environmental, and Construction Engineering, Whitacre College of Engineering.](http://54.243.252.9/ce-3354-webroot/1-Lectures-2017/Lecture24.pdf)\n",
    "7. [Cleveland, T.G., (2001) *Groundwater Hydrology - Lecture 009* Lecture Notes to accompany CE 6361 at the University of Houston](http://54.243.252.9/ce-4363-webroot/ce4363notes/lessons/08gwflow2wells/Lecture009.PDF)\n",
    "8. [TWRI BOOK 3 Chapter B3 TYPE CURVES FOR SELECTED PROBLEMS OF FLOW TO WELLS IN CONFINED AQUIFERS](https://pubs.usgs.gov/twri/twri3-b3/pdf/TWRI_3-B3.pdf)\n",
    "9. [Theis, C.V. (1935). \"The relation between the lowering of the piezometric surface and the rate and duration of discharge of a well using ground-water storage.\" Transactions, American Geophysical Union, 16(2), 519–524.](https://water.usgs.gov/ogw/pubs/Theis-1935.pdf)\n",
    "10. [Cooper, H.H., and Jacob, C.E. (1946). \"A generalized graphical method for evaluating formation constants and summarizing well-field history.\" *Transactions, American Geophysical Union*, 27(4), 526–534.](https://agupubs.onlinelibrary.wiley.com/doi/10.1029/TR027i004p00526)\n",
    "11. [Galloway, D., et al. (1999). \"Land subsidence in the United States.\" U.S. Geological Survey Circular 1182.](https://pubs.usgs.gov/circ/1999/1182/report.pdf)\n",
    "12. [Cleveland, T.G., R. Bravo, and J.R. Rogers, 1992. Specific Storage and Hydraulic Conductivities Using Extensometer and Hydrograph Data, Ground Water, Vol. 30, No. 5, pp 701-708.](http://54.243.252.9/about-me-webroot/about-me/MyWebPapers/journal_papers/specific_storage_jawa_1992/specific_storage_jawa_1992.pdf)\n",
    "13. [Scanlon, B.R., et al. (2012). \"Groundwater depletion and sustainability of irrigation in the U.S. High Plains and Central Valley.\" *PNAS*, 109(24), 9320–9325.](https://www.pnas.org/doi/epdf/10.1073/pnas.1200311109)"
   ]
  },
  {
   "cell_type": "markdown",
   "id": "6cc48c14-4a49-4bf4-a125-3a8699cbc9e1",
   "metadata": {},
   "source": [
    "## Videos"
   ]
  },
  {
   "cell_type": "markdown",
   "id": "9d11576f-95bd-4f60-ac8d-94932cb0fe8d",
   "metadata": {},
   "source": [
    "## Spreadsheets/Scripts\n",
    "\n",
    ":::{warning}\n",
    "Spreadsheets with (MACROS) may not run in modern Excel - you may have to rewrite the MACROS using VBA.  As time permits, we will simply write them in JupyterLab.\n",
    ":::\n",
    "\n",
    "1. Theim Model (to show interference effects and map a regional gradient onto a drawdown distribution) [WELL_STY.XLS ](http://54.243.252.9/ce-3354-webroot/hydrohandbook/chapters/10-wellhydraulics/WELL_STY.XLS)\n",
    "2. Theis Model (MACROS) [TheisModel.xlsm (vba macros) ](http://54.243.252.9/ce-3354-webroot/hydrohandbook/chapters/10-wellhydraulics/TheisModel.xlsm)\n",
    "3. Hantush Leaky Model (MACROS) [HantushLeakyModel.xlsm (vba macros)](http://54.243.252.9/ce-3354-webroot/hydrohandbook/chapters/10-wellhydraulics/HantushLeakyModel.xlsm)\n",
    "4. Theis TC Model ([Described Here](https://3.137.111.182/documents/about-me/MyWebPapers/journal_papers/type_curve_jgw_1996/type_curve_jgw_1996.pdf)) [TC_Theis.xls](http://54.243.252.9/ce-3354-webroot/hydrohandbook/chapters/10-wellhydraulics/TC_Theis.xls)\n",
    "5. Theis TC Model ([Described Here](https://3.137.111.182/documents/about-me/MyWebPapers/journal_papers/type_curve_jgw_1996/type_curve_jgw_1996.pdf))[TC_Theis.ods](http://54.243.252.9/ce-3354-webroot/hydrohandbook/chapters/10-wellhydraulics/TC_Theis.ods)\n",
    "6. Jacobs Solution [Jacob.xls](http://54.243.252.9/ce-3354-webroot/hydrohandbook/chapters/10-wellhydraulics/Jacob.xls)\n",
    "7. Jacobs Solution [Jacob.ods](http://54.243.252.9/ce-3354-webroot/hydrohandbook/chapters/10-wellhydraulics/Jacob.ods)\n"
   ]
  },
  {
   "cell_type": "markdown",
   "id": "26cdbf1c-ee53-4dc7-ba3e-1e82debbcf9b",
   "metadata": {},
   "source": [
    "## Well Hydraulics & Pumping Tests\n",
    "\n",
    "Understanding how groundwater responds to pumping is a foundational skill in hydrogeology and water resource engineering. This section focuses on idealized analytical models that provide valuable insights into how aquifers behave when stressed by wells.\n",
    "\n",
    "- Cone of Depression and Drawdown\n",
    "When a well begins to pump water from an aquifer, the water level near the well drops, forming a cone-shaped surface in the water table or potentiometric surface. This 'cone of depression' reflects the declining hydraulic head, and the vertical distance between the pre-pumping level and the current water level is termed drawdown. Understanding drawdown is essential to assess well interference, sustainability, and required pump energy.\n",
    "\n",
    "- Theis and Thiem Equations for Well Analysis\n",
    "The Thiem equation is used for steady-state radial flow to a well in a confined aquifer and assumes pumping has been occurring long enough for conditions to stabilize (*the solution was derived in prior lesson*). In contrast, the Theis solution (*derived below*) handles transient conditions, where drawdown changes over time. These models help interpret pumping test data, a standard practice in aquifer characterization, and help predict aquifer water levels over large time and spatial scales.\n",
    "\n",
    "- Groundwater Recharge and Depletion Issues\n",
    "Pumping alters the natural balance between recharge (inflow) and discharge (outflow). If withdrawal exceeds long-term recharge, depletion occurs, resulting in declining water levels and potential impacts on streams, ecosystems, and surface infrastructure. Sustainable well design requires not just solving equations, but understanding how those equations relate to aquifer capacity and regional water budgets.\n",
    "\n",
    "## Transient Well Hydraulics\n",
    "Transient models allow us to predict how aquifers behave during the early stages of pumping or recovery after stress has been removed. These models help engineers and scientists interpret the **time dimension** of aquifer response, which is critical for both design and regulation.\n",
    "\n",
    "- **Theis Solution for Transient Flow to a Well**  \n",
    "  The Theis solution assumes a homogeneous, isotropic confined aquifer and applies a line-source analogy to describe drawdown as a function of time and radial distance from the well.   The solution includes the exponential integral function, which is handled numerically in most practical settings. While the assumptions are idealized, the Theis model remains a workhorse for **short-term test interpretation**.\n",
    "\n",
    "- **Concept of Storativity and Time-Dependent Drawdown**  \n",
    "  *Storativity* (or *storage coefficient*) is a dimensionless measure of how much water an aquifer releases (or stores) per unit decline in head.   It's essential in transient analysis because it controls **how quickly drawdown spreads**. Confined aquifers have very small storativity values, often < 0.005,   while unconfined aquifers have values closer to specific yield (0.1–0.3). \n",
    "  \n",
    ":::{tip} \n",
    "When analyzing pumping test data, early-time behavior reveals transmissivity, while late-time trends inform storativity.\n",
    ":::\n",
    "\n",
    "- **Cooper-Jacob Approximation for Late-Time Drawdown**  \n",
    "The **Cooper-Jacob** method is a simplified version of the Theis solution, valid for late-time data where the exponential integral can be linearized.   This approximation turns the drawdown-time relationship into a straight line on a semi-log plot, simplifying parameter estimation.   It is widely used in the field due to its practical ease and good agreement with late-time observations.  \n",
    "\n",
    "## Groundwater Management & Sustainability\n",
    "Beyond the equations lies the real-world challenge of using groundwater resources responsibly. Modern groundwater management blends hydrogeologic modeling with legal, ecological, and socioeconomic factors.\n",
    "\n",
    "- **Overdraft, Subsidence, and Long-Term Water Balance**  \n",
    "  *Overdraft* occurs when pumping exceeds natural recharge over long timeframes. This can lead to **aquifer compaction and land subsidence**,   especially in compressible formations like clays. Once compacted, the aquifer loses storage capacity permanently. Long-term planning involves creating **water budgets**   that match human demands with safe yields to avoid irreversible damage.  \n",
    "\n",
    "- **Groundwater Protection and Contamination Risks**  \n",
    "  Groundwater is vulnerable to contamination from surface spills, leaky tanks, septic systems, and agricultural runoff.   Unlike surface water, contaminated aquifers may take decades or centuries to recover due to slow natural attenuation.   Engineering design must consider **setbacks**, **wellhead protection zones**, and **monitoring programs** to safeguard these resources.\n",
    "\n",
    "- **Case Studies of Aquifer Depletion and Management Strategies**  \n",
    "  Examples from the **Ogallala Aquifer** (Great Plains) and the **Central Valley of California** show both the consequences of unsustainable use   and the potential of management tools like **managed aquifer recharge (MAR)**, **regulated pumping**, and **market-based allocations**.   Engineers must balance short-term needs with long-term aquifer health.\n"
   ]
  },
  {
   "cell_type": "markdown",
   "id": "459edf75-5565-4c78-9f3b-ff84d9cbd216",
   "metadata": {},
   "source": [
    "# 10.1 Unsteady Flow in Confined Aquifer (Theis Solution)\n",
    "\n",
    "There are two ways to proceede - just apply the groundwater flow equatrions or use a plasuibility argument to infer what solutions might look like.\n",
    "\n",
    "## Inferring Equation Structure\n",
    "\n",
    "![](f2w-001.png)\n",
    "\n",
    "![](f2w-002.png)\n",
    "\n",
    "![](f2w-003.png)\n",
    "\n",
    "![](f2w-004.png)\n",
    "\n",
    "![](f2w-005.png)\n",
    "\n",
    "![](f2w-006.png)\n",
    "\n",
    "![](f2w-007.png)\n",
    "\n",
    "![](f2w-008.png)\n",
    "\n",
    "![](f2w-009.png)\n",
    "\n",
    "![](f2w-010.png)\n",
    "\n",
    "## Apply Groundwater Flow Equations\n",
    "\n",
    "![](cf2well001.png)\n",
    "\n",
    "![](cf2well002.png)\n",
    "\n",
    "![](cf2well003.png)\n",
    "\n",
    "![](cf2well004.png)\n",
    "\n",
    "## Superposition for multiple well impacts at an arbitrary field point**\n",
    "\n",
    "![](cf2well005.png)\n",
    "\n",
    "![](cf2well006.png)\n",
    "\n",
    "## Convolution (superposition in time) for time varying pump rates**\n",
    "\n",
    "![](cf2well007.png)"
   ]
  },
  {
   "cell_type": "code",
   "execution_count": 7,
   "id": "fbc87723-315b-470f-b66c-16195961c4e4",
   "metadata": {},
   "outputs": [],
   "source": [
    "def W(u): # Theis well function using exponential integral\n",
    "    import scipy.special as sc\n",
    "    w = sc.expn(1,u)\n",
    "    return(w)\n",
    "\n",
    "def s(radius,time,storage,transmissivity,discharge): # Drawdown function using exponential integral\n",
    "    import math\n",
    "    u = ((radius**2)*(storage))/(4*transmissivity*time)\n",
    "    s = ((discharge)/(4*math.pi*transmissivity))*W(u)\n",
    "    return(s)\n"
   ]
  },
  {
   "cell_type": "markdown",
   "id": "6fbfc1fb-6810-4ecb-958b-6ddb0bbb90e8",
   "metadata": {},
   "source": [
    "Example to illustrate the homebrew script.  The relevant problem parameters are:\n",
    "\n",
    "- $K = 14.9 m/d$\n",
    "- $b = 20.1 m$\n",
    "- $T = Kb = 299 m^2/d$\n",
    "- $S = 0.0051$\n",
    "- $Q_w = 2725 m^3/d$\n",
    "- $r = 7.0 m $\n",
    "- $t = 1 d$"
   ]
  },
  {
   "cell_type": "code",
   "execution_count": 8,
   "id": "6cf94348-43bb-407c-b811-86d04f1e52b8",
   "metadata": {},
   "outputs": [
    {
     "name": "stdout",
     "output_type": "stream",
     "text": [
      "Drawdown is  5.73  meters\n"
     ]
    }
   ],
   "source": [
    "radius=7.0\n",
    "time=1.0\n",
    "storage=0.0051\n",
    "transmissivity=299\n",
    "discharge=2725\n",
    "\n",
    "print(\"Drawdown is \",round(s(radius,time,storage,transmissivity,discharge),2),\" meters\")"
   ]
  },
  {
   "cell_type": "markdown",
   "id": "3c8fea8d-6e90-44a8-8a8e-34988634e3ca",
   "metadata": {},
   "source": [
    "# 10.2 Leaky Confining Layer (Hantush (1956) Solution)\n",
    "\n",
    "## Situation Set-Up and Mathematical Considerations\n",
    "\n",
    "![](leaky-nostore1.png)\n",
    "\n",
    "## Leakance Considerations\n",
    "\n",
    "![](leakance.png)\n",
    "\n",
    "## Mathematical Model\n",
    "\n",
    "![](mathmodel.png)\n",
    "\n",
    "## Solutions\n",
    "\n",
    "![](hantush.png)\n",
    "\n",
    "[TWRI BOOK 3 Chapter B3 TYPE CURVES FOR SELECTED PROBLEMS OF FLOW TO WELLS IN CONFINED AQUIFERS (go to pg. 21)](https://pubs.usgs.gov/twri/twri3-b3/pdf/TWRI_3-B3.pdf)"
   ]
  },
  {
   "cell_type": "code",
   "execution_count": 4,
   "id": "52c1ea17-77e5-49ac-91b0-cbc1be6cb700",
   "metadata": {},
   "outputs": [],
   "source": [
    "def wh(u, rho): # Hantush Leaky aquifer well function\n",
    "    import numpy\n",
    "    \"\"\"Returns Hantush's well function values\n",
    "\n",
    "    Note: works only for scalar values of u and rho\n",
    "\n",
    "    Parameters:\n",
    "    -----------\n",
    "    u : scalar  (u= r^2 * S / (4 * kD * t))\n",
    "    rho : sclaar (rho =r / lambda, lambda = sqrt(kD * c))\n",
    "    Returns:\n",
    "    --------\n",
    "    Wh(u, rho) : Hantush well function value for (u, rho)\n",
    "    \"\"\"\n",
    "    try:\n",
    "        u =float(u)\n",
    "        rho =float(rho)\n",
    "    except:\n",
    "        print(\"u and rho must be scalars.\")\n",
    "        raise ValueError()\n",
    "\n",
    "    LOGINF = 2\n",
    "    y = numpy.logspace(numpy.log10(u), LOGINF, 1000)\n",
    "    ym = 0.5 * (y[:-1]+  y[1:])\n",
    "    dy = numpy.diff(y)\n",
    "    wh = numpy.sum(numpy.exp(-ym - (rho / 2)**2 / ym ) * dy / ym)\n",
    "    return wh\n",
    "\n",
    "wh(0.625,5);"
   ]
  },
  {
   "cell_type": "markdown",
   "id": "a3960d75-4db0-47cf-a8ec-2b29bf6d06fe",
   "metadata": {},
   "source": [
    "Example to illustrate homebrew script\n",
    "\n",
    "The relevant problem parameters are:\n",
    "\n",
    "- $K = 0.73 m/d$\n",
    "- $b = 5.2 m$\n",
    "- $T = Kb = 3.8 m^2/d$\n",
    "- $S = 0.0035$\n",
    "- $Q_w = 28 m^3/d$\n",
    "- $b' = 1.1 m$\n",
    "- $K'_v = 5.5 \\times 10^{-5} m/d$\n",
    "\n",
    "Notice in the example the author tests some requesite assumptions before proceeding to look up values in a table (also a good idea here, but we will just be lazy and apply the script)"
   ]
  },
  {
   "cell_type": "code",
   "execution_count": 5,
   "id": "775c53d6-88e6-4b3e-99c5-e0f211c1807d",
   "metadata": {},
   "outputs": [],
   "source": [
    "def leaky(radius,time,storage,transmissivity,discharge,leakance): # Leaky drawdown function using Hantush solution\n",
    "    import math\n",
    "    u = ((radius**2)*(storage))/(4*transmissivity*time)\n",
    "    roB = radius/leakance\n",
    "    leaky = ((discharge)/(4*math.pi*transmissivity))*wh(u,roB)\n",
    "    return(leaky)"
   ]
  },
  {
   "cell_type": "code",
   "execution_count": 6,
   "id": "d2a0e099-4602-4499-ab37-d79bb4e934eb",
   "metadata": {},
   "outputs": [
    {
     "name": "stdout",
     "output_type": "stream",
     "text": [
      "radius    drawdown   \n",
      "1.5 4.089\n",
      "5.5 2.57\n",
      "10 1.879\n",
      "25 0.874\n",
      "75 0.079\n",
      "150 0.001\n"
     ]
    }
   ],
   "source": [
    "import math\n",
    "radius=[1.5,5.5,10,25,75,150]\n",
    "ddn=[0 for i in range(len(radius))] # list of zeros to hold results\n",
    "# simulation constants\n",
    "time = 1 # 1 day\n",
    "transmissivity = 3.8\n",
    "storage = 0.0035\n",
    "discharge = 28\n",
    "bprime = 1.1\n",
    "Kvert = 5.5e-05\n",
    "# computed constants\n",
    "B = math.sqrt((transmissivity*bprime)/Kvert)\n",
    "# compute the drawdowns\n",
    "for i in range(len(radius)):\n",
    "    ddn[i]=leaky(radius[i],time,storage,transmissivity,discharge,B)\n",
    "# print results\n",
    "print(\"radius    drawdown   \")\n",
    "for i in range(len(radius)):\n",
    "    print(round(radius[i],1),round(ddn[i],3))"
   ]
  },
  {
   "cell_type": "markdown",
   "id": "6d641541-850f-4b3a-97e6-4b6222a373c8",
   "metadata": {},
   "source": [
    "# 10.3 Leaky Confined (with storage in the confining layer)\n",
    "\n",
    "## Situation Set-Up and Mathematical Considerations\n",
    "\n",
    "![](leakywithstor.png)\n",
    "\n",
    "## Leakance Considerations\n",
    "\n",
    "![](leakancestor.png)\n",
    "\n",
    "## Mathematical Model\n",
    "\n",
    "![](leakstormathmodel.png)\n",
    "\n",
    "## Solutions\n",
    "\n",
    "[TWRI BOOK 3 Chapter B3 TYPE CURVES FOR SELECTED PROBLEMS OF FLOW TO WELLS IN CONFINED AQUIFERS (go to pg. 28)](https://pubs.usgs.gov/twri/twri3-b3/pdf/TWRI_3-B3.pdf)\n",
    "\n",
    "Usually solutions are approximated for early-time, mid-time, and late-time behavior and use combinations of Theis solutions and finite-term series.  The actual integral can certainly be evaluated if needed, but modern (circa-2023) approaches would probably be to finite-difference the crap out of things and take the numerical solution as good enough!"
   ]
  },
  {
   "cell_type": "markdown",
   "id": "7f48f8fb-48d2-469c-8f2d-46ba7b7bc267",
   "metadata": {},
   "source": [
    "# 10.4 Constituient Transport\n",
    "\n",
    "- Subsurface Contaminant Hydrology\n",
    "  - Advection-Dispersion Equation\n",
    "  - Selected Analytical Solutions\n",
    "  - Capture Zones"
   ]
  },
  {
   "cell_type": "markdown",
   "id": "8033ab3c-1aac-4762-8110-d77e42b42857",
   "metadata": {},
   "source": [
    "## Exercise(s)"
   ]
  },
  {
   "cell_type": "code",
   "execution_count": null,
   "id": "cb90938d-7612-4734-afec-c09b3a23885e",
   "metadata": {},
   "outputs": [],
   "source": [
    "# Autobuild exercise set"
   ]
  },
  {
   "cell_type": "markdown",
   "id": "b89da982-4472-46c8-bb4b-56219f4fdc05",
   "metadata": {},
   "source": [
    "## Section End"
   ]
  }
 ],
 "metadata": {
  "kernelspec": {
   "display_name": "Python Common Environment",
   "language": "python",
   "name": "python-my-env"
  },
  "language_info": {
   "codemirror_mode": {
    "name": "ipython",
    "version": 3
   },
   "file_extension": ".py",
   "mimetype": "text/x-python",
   "name": "python",
   "nbconvert_exporter": "python",
   "pygments_lexer": "ipython3",
   "version": "3.10.12"
  }
 },
 "nbformat": 4,
 "nbformat_minor": 5
}
