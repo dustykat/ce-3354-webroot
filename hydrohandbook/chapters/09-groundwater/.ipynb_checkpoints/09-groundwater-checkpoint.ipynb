{
 "cells": [
  {
   "cell_type": "markdown",
   "id": "5b83a1dc-9f20-4ffd-b406-e17b9c133f87",
   "metadata": {},
   "source": [
    "# 9. Groundwater Fundamentals & Flow Equations"
   ]
  },
  {
   "cell_type": "markdown",
   "id": "e5313934-34ec-4cf3-b8d0-ffa0ee8164ab",
   "metadata": {},
   "source": []
  },
  {
   "cell_type": "markdown",
   "id": "55da4416-07c7-423f-bd9e-e15a545b3641",
   "metadata": {},
   "source": [
    "## Readings\n",
    "\n",
    "1. Gupta pp. 127-132\n",
    "4. [Basic Groundwater Hydrology - USGS WSP 2020](http://54.243.252.9/ce-3354-webroot/3-Readings/USGS-WSP2020-GroundwaterHydrology/usgs-wsp-2020.pdf)\n",
    "1. [Cleveland, T. G. (2017) *Engineering Hydrology Notes (Groundwater - I) to accompany CE-3354*, Department of Civil, Environmental, and Construction Engineering, Whitacre College of Engineering.](http://54.243.252.9/ce-3354-webroot/1-Lectures-2017/Lecture21.pdf)\n",
    "2. [Groundwater - Excerpt from Viessman](http://54.243.252.9/ce-3354-webroot/3-Readings/Groundwater-Viessman/GroundwaterHydrology.pdf)\n",
    "3. [Groundwater - Excerpt from Ferris](http://54.243.252.9/ce-3354-webroot/3-Readings/Groundwater-Wisler&Brater/Groundwater-Wisler.pdf)"
   ]
  },
  {
   "cell_type": "markdown",
   "id": "a3a58c68-b174-431e-b2ff-3f535a668bc6",
   "metadata": {},
   "source": [
    "## Videos\n",
    "\n",
    "1. [What is an Aquifer? (YouTube)](https://www.youtube.com/watch?v=gRY7TYBx-is)\n",
    "2. [What is Groundwater? (YouTube)](https://www.youtube.com/watch?v=VtIY4FYWJV8)\n",
    "3. [Aquifer Demonstration (YouTube)](https://www.youtube.com/watch?v=8Q7C3xrJrpw)\n",
    "4. [How Groundwater and Wells Work (YouTube)](https://www.youtube.com/watch?v=bG19b06NG_w)\n",
    "5. [Intoduction to Groundwater Flow (YouTube)](https://www.youtube.com/watch?v=O7K00PQaQIw)\n",
    "6. [Hydrogeology (YouTube)](https://www.youtube.com/watch?v=G7CnE5NBxZs)\n",
    "7. [Porosity and Permeability (YouTube)](https://www.youtube.com/watch?v=JjEmxgr0TR8)\n",
    "8. [Porosity and Permeability Demo (YouTube)](https://www.youtube.com/watch?v=8mfBomrw0rs)\n",
    "9. [Porosity, Permeability, and Capillarity (YouTube)](https://www.youtube.com/watch?v=NL2lQFCW4M4)\n",
    "10. [Darcy's Law I (YouTube)](https://www.youtube.com/watch?v=--8SC0Q-cKs)\n",
    "11. [Darcy's Law II (YouTube)](https://www.youtube.com/watch?v=fL6fvdbz3vY)"
   ]
  },
  {
   "cell_type": "markdown",
   "id": "1620933a-b3a8-4946-b59e-b3f09a2ae0f7",
   "metadata": {},
   "source": [
    "## Groundwater and Aquifers\n",
    "\n",
    "Groundwater hydrology is the study of water beneath the surface of the Earth\n",
    "\n",
    "![](GroundwaterSketch.png)\n",
    "\n",
    "Groundwater usually is found in porous media (not underground rivers). A porous medium is\n",
    "comprised of solid space and void or pore space. Liquids and gasses are found in the pore space, the solid matrix forms the physical\n",
    "structure of aquifers and other geologic formations of interest.\n",
    "\n",
    "![](PorousMedia.png)\n",
    "\n",
    "The ratio of total pore volume to bulk medium volume is the porosity.\n",
    "\n",
    "![](PorosityCalculation.png)"
   ]
  },
  {
   "cell_type": "markdown",
   "id": "241be7a5-7b3b-4555-938d-37113c6a88f0",
   "metadata": {},
   "source": [
    "### Aquifers\n",
    "An **aquifer** is an underground layer of water-bearing rock or sediment that stores and transmits groundwater. It is a critical resource for supplying fresh water to wells, springs, and natural ecosystems.\n",
    "\n",
    "- Store water (water bearing formations)\n",
    "- Transmit water (in economically useful quantities)\n",
    "\n",
    "Aquifers are classified as confined, unconfined, and/or leaky (a single unit can exhibit all three classifications).\n",
    "\n",
    "A confined aquifer draws its water from a geologic formation upper bounded by a layer that does not readily transmit water.  Visualize a pipe filled with sand; the interior of the pipe will behave like a confined aquifer.\n",
    "\n",
    "![](ConfinedAquifer.png)\n",
    "\n",
    "An unconfined aquifer draws its water from a geologic formation that is not upper bounded - the aquifer has the equivalent of a free surface.  A bathtub filled with sand and water will behave like an unconfined aquifer. \n",
    "\n",
    "![](UnconfinedAquifer.png)\n",
    "\n",
    "A leaky aquifer is a hybrid of the two extremes, and there can be leakage between layers.  Most real aquifers are somewhat leaky.\n",
    "\n",
    "![](LeakyAquifer.png)"
   ]
  },
  {
   "cell_type": "markdown",
   "id": "90f940d7-371c-419b-9746-38fa0632a6c5",
   "metadata": {},
   "source": [
    "## Material Properties\n",
    "\n",
    "### Porosity\n",
    "\n",
    "Porosity is the ratio of total pore volume to bulk medium volume;\n",
    "\n",
    "$n = \\frac{V_{pore}}{V_{total}}$\n",
    "\n",
    "Range in values is large for geologic materials\n",
    "\n",
    "![](PorosityTable.png)\n",
    "\n",
    "\n",
    "### Specific Yield\n",
    "\n",
    "A concept related to porosity is the **specific yield** $S_y$ of a material.  \n",
    "\n",
    "$S_y$ is the amount of water that will drain from a porous medium under the influence of gravity.\n",
    "\n",
    "$S_r$ is the amount of water left behind in the material and is called the specific retention.\n",
    "\n",
    "![](SpecificYield.png)\n",
    "\n",
    "The specific yield is important in water supply as it represents the amount of water that can drain to wells.  Thus when making groundwater reservoir estimates the water in storage should be based on the specific yield and not porosity.\n",
    "\n",
    "Two additional related terms are: water content and saturation.\n",
    "\n",
    "\n",
    "### Storativity\n",
    "\n",
    "Storativity refers to the ability of a porous medium to store water within its bulk.\n",
    "\n",
    "The mechanisms of storage are:\n",
    "- draining and filling of the pore space\n",
    "- compression/decompression of the water, and\n",
    "- compression/decompression of the solids.\n",
    "\n",
    "In an unconfined aquifer the draining and filling of the pore space is the most significant mechanism.\n",
    "\n",
    "![](StorageUnconfined.png)\n",
    "\n",
    "$S=\\frac{V_{water}}{\\Delta h A}$\n",
    "\n",
    "In a confined aquifer, the compression and decompression of the solids structure is the primary mechanism of storage.\n",
    "\n",
    "![](StorageConfined.png)\n",
    "\n",
    "$S=\\frac{V_{water}}{\\Delta h A}$\n",
    "\n",
    "The formula is the same for either case, but the magnitude os $S$ is different (by a lot!)\n",
    "\n",
    "Storage per unit thickness of aquifer is called the specific storage.\n",
    "\n",
    "### Average Linear Velocity (in a porous media)\n",
    "\n",
    "The discharge $Q$ divided by cross sectional flow area $A$ in a pipe or open channel is the velocity $V$\n",
    "\n",
    "In groundwater, some of the area is solid, so the porosity enters the equation as:\n",
    "\n",
    "$V=\\frac{Q}{nA}$\n",
    "\n",
    "The figure below illustrates the concept.\n",
    "\n",
    "![](AverageLinearVelocity.png)\n",
    "\n",
    "If the garbage cans are identical, the velocity of the free surface in the marble filled can is bigger.\n",
    "\n",
    "- Transmissivity, permeability, hydraulic conductivity\n",
    "\n",
    "### Hydraulic Gradient\n",
    "\n",
    "Hydraulic gradient is change in head per unit distance and provides the driving force for groundwater to flow.  It is the same concept as the slope of the EGL in pipe hydraulics.\n",
    "\n",
    "![](HydraulicGradient.png)\n"
   ]
  },
  {
   "cell_type": "markdown",
   "id": "b4def0ca-d21e-46a6-8fde-ff591774f521",
   "metadata": {},
   "source": [
    "## Groundwater Occurrence & Aquifers\n",
    "  - Types of aquifers: confined, unconfined, perched\n",
    "  - Porosity, permeability, and storativity\n",
    "  - Interaction between surface water and groundwater\n",
    "\n",
    "## Groundwater Flow Principles\n",
    "  - Darcy’s Law and hydraulic conductivity\n",
    "  - Flow in saturated vs. unsaturated zones\n",
    "  - Introduction to governing equations (Laplace, Dupuit-Forchheimer)\n",
    "\n",
    "## Lab/Exercise: Simple Darcy’s Law experiment using permeameters\n"
   ]
  },
  {
   "cell_type": "markdown",
   "id": "82d29fe5-eb50-413d-bc61-9e082fd9e710",
   "metadata": {},
   "source": [
    "## Exercise(s)\n",
    "\n",
    "[**ce3354-es9-2025-2.pdf**](http://54.243.252.9/ce-3354-webroot/hydrohandbook/exercises/09-groundwater/ce3354-es9-2025-2.pdf)  Hydraulic gradients, flow rates, piezometric maps"
   ]
  },
  {
   "cell_type": "markdown",
   "id": "902ee19e-71c8-4b4c-9ad5-b7bc323eee22",
   "metadata": {},
   "source": [
    "## Section End"
   ]
  },
  {
   "cell_type": "code",
   "execution_count": null,
   "id": "a58a1f04-b28b-43a8-a61b-840b09642db2",
   "metadata": {},
   "outputs": [],
   "source": []
  }
 ],
 "metadata": {
  "kernelspec": {
   "display_name": "Python Common Environment",
   "language": "python",
   "name": "python-my-env"
  },
  "language_info": {
   "codemirror_mode": {
    "name": "ipython",
    "version": 3
   },
   "file_extension": ".py",
   "mimetype": "text/x-python",
   "name": "python",
   "nbconvert_exporter": "python",
   "pygments_lexer": "ipython3",
   "version": "3.10.12"
  }
 },
 "nbformat": 4,
 "nbformat_minor": 5
}
