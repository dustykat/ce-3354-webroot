{
 "cells": [
  {
   "cell_type": "markdown",
   "id": "3354d19f-0116-4187-ae28-e7471e0e702d",
   "metadata": {},
   "source": [
    "# 6. Streamflow Measurement and Streamflow Data\n"
   ]
  },
  {
   "cell_type": "markdown",
   "id": "c3e148d6-166a-45bb-8d7a-0e64f18f82c9",
   "metadata": {},
   "source": [
    ":::{admonition} Course Website\n",
    "[Link to Course Website](http://54.243.252.9/ce-3354-webroot/)\n",
    ":::\n",
    "\n"
   ]
  },
  {
   "cell_type": "markdown",
   "id": "b523b8b4-c571-413d-912d-9eeccc26a7ce",
   "metadata": {
    "jp-MarkdownHeadingCollapsed": true
   },
   "source": [
    "---\n",
    "## Readings\n",
    "\n",
    "1. [Chow, V.T., Maidment, D.R., Mays, L.W., 1988, Applied Hydrology:  New York, McGraw-Hill. **pp. 1-12** ](http://54.243.252.9/ce-3354-webroot/3-Readings/CMM1988/Applied%20Hydrology%20VT%20Chow%201988.pdf) \n",
    "\n",
    "1. [Cleveland, T. G. (2017) *Engineering Hydrology Notes to Accompany CE 3354 (Bulletin 17B 1 )*, Department of Civil, Environmental, and Construction Engineering, Whitacre College of Engineering.](http://54.243.252.9/ce-3354-webroot/1-Lectures-2017/Lecture07.pdf)\n",
    "\n",
    "2. [Cleveland, T. G. (2017) *Engineering Hydrology Notes to Accompany CE 3354 (Bulletin 17B 2)*, Department of Civil, Environmental, and Construction Engineering, Whitacre College of Engineering.](http://54.243.252.9/ce-3354-webroot/1-Lectures-2017/Lecture08.pdf)\n",
    "\n",
    "3. [See pp. 33-39 CMM for explaination of Manning’s equation](http://54.243.252.9/ce-3354-webroot/3-Readings/CMM1988/)\n",
    "\n",
    "4. [See 7-31 TxDOT HDM for a description of slope-area (slope-conveyance) method](http://54.243.252.9/ce-3354-webroot/3-Readings/TXDOT-HYDM-2014/txdot-hdm-2014.pdf)\n",
    "\n",
    "44. [Develop a Generalized Skew Update and Regional Study of Other Measures of Distribution Shape for Texas Flood Frequency Analyses (Project Sumary Report)](https://library.ctr.utexas.edu/hostedpdfs/texastech/psr/0-6977-s.pdf)\n",
    "\n",
    "5. [Generalized Skew Update and Regional Study of Distribution Shape for Texas Flood Frequency Analyses](https://dataverse.tdl.org/dataset.xhtml?persistentId=doi:10.18738/T8/SVLCOQ)\n",
    "\n",
    "6. [England, J.F. Jr., Cohn, T.A., Faber, B.A., Stedinger, J.R., Thomas Jr., W.O., Veilleux, A.G., Kiang, J.E., and Mason, R.R.Jr., 2018, Guidelines for Determining Flood Flow Frequency—Bulletin 17C: U.S. Geological Survey Techniques andMethods, book 4, chap. B5, 146 p.,](https://doi.org/10.3133/tm4B5)\n",
    "\n",
    "4. [Jamie Chan (2014) Learn Python in One Day and Learn It Well. LCF Publishing. Kindle Edition. ](http://www.learncodingfast.com/python)\n",
    "\n",
    "5. [Grus, Joel. Data Science from Scratch: First Principles with Python. O'Reilly Media. Kindle Edition. ](http://safaribooksonline.com)\n",
    "\n",
    "6. [Christian, B, and Griffiths Tom (2016) Algorithms to live by: The computer science of human decisions. Henry Holt and Company, ISBN 9781627790369 (hardcover)|ISBN 9781627790376 (electronic book)](https://www.amazon.com/Algorithms-Live-Computer-Science-Decisions/dp/1627790365)\n",
    "\n",
    "7. https://www.amazon.com/Distributional-Statistics-Environment-Statistical-Computing/dp/1463508417\n",
    "    \n",
    "9. https://www.astroml.org/book_figures/chapter3/fig_gamma_distribution.html\n",
    "\n",
    "10. https://www.inferentialthinking.com/chapters/10/Sampling_and_Empirical_Distributions.html\n",
    "\n",
    "11. https://www.inferentialthinking.com/chapters/15/Prediction.html"
   ]
  },
  {
   "cell_type": "markdown",
   "id": "c261972c-e2cd-4be1-8dd5-3908c4d1a0e4",
   "metadata": {},
   "source": [
    "## Videos\n",
    "\n",
    "1. [Collecting water data for the U.S.](https://www.youtube.com/watch?v=g_s_toqrYVM)\n",
    "2. [Hydroacoustics for Collecting Streamflow Data](https://www.youtube.com/watch?v=usCTuMnXGQE)\n",
    "3. [How to look at and download streamflow data from the USGS NWIS website](https://www.youtube.com/watch?v=FeRzzQA0I7k)\n",
    "4. [Surface Water Data of any location of the World for free ](https://www.youtube.com/watch?v=NKsE06fvF10)\n",
    "5. [Precipitation Runoff Modeling System (PRMS) Streamflow Modules ](https://www.youtube.com/watch?v=OAozlSQ_fIg)\n",
    "6. [Improved process based streamflow simulation through ensemble and stochastic data driven approaches](https://www.youtube.com/watch?v=aXq-QnYYc74)\n",
    "7. [Hydrology - Statistical Hydrology 2 (go to time stamp 47:00 to get to regionalization) ](https://www.youtube.com/watch?v=ERSBlzcbHjs&t=11s)\n",
    "8. [StreamStats: Determining Magnitude and Frequency of Floods in California (Specific to California, but nice discussion on regionalization)](https://www.youtube.com/watch?v=wG-F5fZFOhw&t=297s)\n",
    "9. [Watershed Delineation and TR-55 for runoff hydrograph](https://www.youtube.com/watch?v=pzpfCvNBXI0&list=PLQv9IPdrtoKgxLQih9UXNbFqXLeJvKEaz&index=29)\n",
    "19. [PeakFQ (Version 7.1) Flood-Frequency Analysis Demo](https://www.youtube.com/watch?v=w-j2S3APUgk)\n",
    "21.  [CE 3354 Demonstrate PeakFQ using Beargrass Creek Data](https://youtu.be/sm2-4AI6WU8 )\n",
    "10. [Bulletins 17B and 17C 1](https://www.youtube.com/watch?v=yfs3oaF2F-w)\n",
    "11. [Bulletins 17B and 17C 2](https://www.youtube.com/watch?v=yfs3oaF2F-w)\n",
    "11. [Bulletins 17B and 17C 3](https://www.youtube.com/watch?v=cfaVjfms9ss)\n",
    "11. [Regional Skew 1](https://www.youtube.com/watch?v=NI9Ui4x_HJk)\n",
    "12. [HEC-SSP Bulletin 17C Flood Frequency Analysis Tutorial](https://www.youtube.com/watch?v=Wc0qaDaBjFE)\n",
    "13. [Index Flood Regionalization Pt I](https://www.youtube.com/watch?v=7psZWEhm4Kw)\n",
    "13. [Index Flood Regionalization Pt II](https://www.youtube.com/watch?v=De4o8S2ohLA)\n",
    "14. [Index Flood Regionalization Pt III](https://www.youtube.com/watch?v=hjdnlbxrje8)\n",
    "15. [Index Flood Regionalization Pt IV](https://www.youtube.com/watch?v=8HkztqnptIA)\n",
    "16. [Uncertainty in Frequency Estimates 1](https://www.youtube.com/watch?v=3Qtep3SdzDw)\n",
    "17. [Uncertainty in Frequency Estimates 2](https://www.youtube.com/watch?v=qyJSiWXd5fc)\n",
    "18. [Uncertainty in Frequency Estimates 3](https://www.youtube.com/watch?v=86QY-5bH6sA)\n",
    "21. [0-6977 Training Video for Gage 08148500](https://youtu.be/R_nSTyMnlsE )\n",
    "22. [0-6977-Prototype-Remote-Tools-Intro](https://youtu.be/y_vK3sWqnHw )\n",
    "23. [0-6977 Training Video for Gage 08167000 using Fig 4.6](https://youtu.be/YQ1YJFUrwYE )\n",
    "24. [0-6977 Training Video for Gage 08080750](https://youtu.be/ZUztiBLWFVs )\n",
    "\n",
    "\n",
    "\n"
   ]
  },
  {
   "cell_type": "markdown",
   "id": "9fb46610-5971-4b95-ab5f-fb2ebbd696ba",
   "metadata": {},
   "source": [
    "## Streamflow Measurement\n",
    "\n",
    "Streamflow is measured by a variety of gaging technologies.  \n",
    "\n",
    "- Continuous record (usually stage, then rated to produce discharge)\n",
    "   - Located at control section if possible\n",
    "\n",
    "- Crest-Stage (captures peak stage)\n",
    "   - Uses slope-area to estimate discharge\n",
    "   - Post-event site visit required to survey debris-line as independent check of estimate\n",
    "\n",
    "### Measurement Techniques\n",
    "  - Weirs\n",
    "  - Flumes\n",
    "  - Velocity-area methods\n",
    "\n",
    "**Continuous gages** use some kind of stilling well, and transducers to measure stage and send to satellite. During visits, a nearby staff gage is read to independently validate the transducer readings\n",
    "\n",
    "![](continuousgage.png)\n",
    "\n",
    "**Crest-Stage** gagues usually consist of a vertical pipe with holes in bottom – becomes a stilling well.\n",
    "Inside a staff gage and small amount of cork “flour” records water surface elevation.\n",
    "- A hydrographer visits site routinely (and after major events) and records cork elevation and re-sets gage.\n",
    "- The elevations are marked on a staff inside the pipe with pencil (and dated)\n",
    "- Slope area method between several nearby pipes is used to estimate discharge\n",
    "\n",
    "![](creststagegage.png)\n",
    "\n",
    "### Slope Area Method\n",
    "\n",
    "Application of Manning’s equation, using the slope of the water surface as the friction slope, and the stage geometry at measured cross sections.\n",
    "\n",
    "$$Q=\\frac{1.49}{n}~A~R^{2/3}~S^{1/2}$$\n",
    "\n",
    "Recall the factor 1.49 is for US Customary units, 1.0 is used if terms are expressed in SI units.\n",
    "\n",
    "- [See pp. 33-39 CMM for explaination of Manning’s equation](http://54.243.252.9/ce-3354-webroot/3-Readings/CMM1988/)\n",
    "- [See 7-31 TxDOT HDM for a description of slope-area (slope-conveyance) method](http://54.243.252.9/ce-3354-webroot/3-Readings/TXDOT-HYDM-2014/txdot-hdm-2014.pdf)\n",
    "- [MEASUREMENT OF PEAK DISCHARGE by the SLOPE AREA METHOD](https://pubs.usgs.gov/twri/twri3-a2/pdf/twri_3-A2_a.pdf)\n",
    "- [Theory of the Slope-Area Method (Video)](https://www.youtube.com/watch?v=5Rqy8_ZOHZw)\n",
    "- [Slope Area Calculator](http://54.243.252.9/toolbox/swhydraulics/SlopeAreaSI/SlopeAreaSI.html)\n",
    "- [slopearea.sdsu.edu ](https://ponce.sdsu.edu/slope_area_method.php)\n",
    "\n",
    "### Acoustic Doppler Current Profiler (ADCP)\n",
    "An Acoustic Doppler Current Profiler, or Acoustic Doppler Profiler, is often referred to with the acronym ADCP. \n",
    "\n",
    "![](adcp-picture.png)\n",
    "\n",
    "Scientists use the instrument to measure how fast water is moving across an entire water column. An ADCP (uplooking) anchored to the seafloor can measure current speed not just at the bottom, but also at equal intervals all the way up to the surface. \n",
    "\n",
    "![](side-looking-adcp.png)\n",
    "\n",
    "The instrument can also be mounted horizontally on seawalls or bridge pilings in rivers and canals to measure the current profile from shore to shore, and to the bottoms of ships to take constant current measurements as the boats move. In very deep areas, they can be lowered on a cable from the surface.\n",
    "\n",
    "> The ADCP measures water currents with sound, using a principle of sound waves called the Doppler effect. A sound wave has a higher frequency, or pitch, when it moves to you than when it moves away. You hear the Doppler effect in action when a car speeds past with a characteristic building of sound that fades when the car passes.\n",
    "> \n",
    "> ![](adcp-works.png)\n",
    "> \n",
    ">The ADCP works by transmitting \"pings\" of sound at a constant frequency into the water. (The pings are so highly pitched that humans and even dolphins can't hear them.) As the sound waves travel, they ricochet off particles suspended in the moving water, and reflect back to the instrument. Due to the Doppler effect, sound waves bounced back from a particle moving away from the profiler have a slightly lowered frequency when they return. Particles moving toward the instrument send back higher frequency waves. The difference in frequency between the waves the profiler sends out and the waves it receives is called the Doppler shift. The instrument uses this shift to calculate how fast the particle and the water around it are moving.\n",
    ">\n",
    ">Sound waves that hit particles far from the profiler take longer to come back than waves that strike close by. By measuring the time it takes for the waves to bounce back and the Doppler shift, the profiler can measure current speed at many different depths with each series of pings."
   ]
  },
  {
   "cell_type": "markdown",
   "id": "e42c21cd-5fc5-4034-8aa7-616a0cb3f777",
   "metadata": {
    "jp-MarkdownHeadingCollapsed": true
   },
   "source": [
    "## Streamflow Data\n",
    "\n",
    "Data sources for streamflow include:\n",
    "- USGS NWIS (Website)\n",
    "- IBWC\n",
    "- Older “paper-based” records\n",
    "- Local gage networks\n",
    "\n",
    "Illustrative example using USGS NWIS\n",
    "\n",
    "- Navigate to landing page for state of interest\n",
    "\n",
    "![](query-nwis.png)\n",
    "\n",
    "\n",
    "- Locate site of interest, or something stupid close\n",
    "\n",
    "![](nwis-buffalo.png)\n",
    "\n",
    "- Download desired record(s)\n",
    "\n",
    "![](nwis-buffalo2.png)\n",
    "\n",
    "- Typical file structure \n",
    "\n",
    "![](nwis-buffalo3.png)"
   ]
  },
  {
   "cell_type": "markdown",
   "id": "1bd06299-823c-486c-80c8-771369d48d58",
   "metadata": {
    "jp-MarkdownHeadingCollapsed": true
   },
   "source": [
    "\n",
    "\n",
    "## Hydrograph Analysis and Baseflow Separation\n",
    "  - Stormflow vs. baseflow\n",
    "  - Recession curves and storage effects\n",
    "\n",
    "## Exercise(s)\n",
    "\n",
    "[ce3354-es6-2025-2.pdf](http://54.243.252.9/)"
   ]
  },
  {
   "cell_type": "markdown",
   "id": "32dbaaef-779d-4c56-981a-0612b1180579",
   "metadata": {},
   "source": [
    "## Section End"
   ]
  }
 ],
 "metadata": {
  "kernelspec": {
   "display_name": "Python Common Environment",
   "language": "python",
   "name": "python-my-env"
  },
  "language_info": {
   "codemirror_mode": {
    "name": "ipython",
    "version": 3
   },
   "file_extension": ".py",
   "mimetype": "text/x-python",
   "name": "python",
   "nbconvert_exporter": "python",
   "pygments_lexer": "ipython3",
   "version": "3.10.12"
  }
 },
 "nbformat": 4,
 "nbformat_minor": 5
}
