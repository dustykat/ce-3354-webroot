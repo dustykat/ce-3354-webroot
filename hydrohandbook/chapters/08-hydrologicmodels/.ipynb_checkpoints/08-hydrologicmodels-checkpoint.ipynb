{
 "cells": [
  {
   "cell_type": "markdown",
   "id": "3c54945b-e64e-488e-a39e-0fe1eb5da779",
   "metadata": {},
   "source": [
    "# 8. Hydrologic Modeling\n",
    "\n",
    ":::{admonition} Course Website\n",
    "[Link to Course Website](http://54.243.252.9/ce-3354-webroot/)\n",
    ":::\n",
    "\n",
    "Hydrologic models are indispensable tools in both research and practice because the routine, site-specific collection of field data for every watershed or infrastructure project is often impractical and cost-prohibitive. Instead of measuring every component of the water cycle at every location of interest, models allow engineers and scientists to simulate hydrologic behavior using a combination of limited field data, physical laws, and conceptual or empirical relationships.\n",
    "\n",
    "At their core, models are simplified representations of the real world. They aim to capture the essential characteristics of a natural system — especially the relationship between inputs (such as rainfall or snowmelt) and outputs (such as streamflow or infiltration). A good hydrologic model preserves the cause-and-effect, or excitation–response, behavior of the system it represents, even if it omits many secondary details. This simplification enables engineers to predict how a watershed or aquifer will behave under both historical and hypothetical scenarios.\n",
    "\n",
    "This chapter focuses on two widely used modeling systems for surface water hydrology:\n",
    "\n",
    "HEC-HMS (Hydrologic Modeling System), developed by the U.S. Army Corps of Engineers, is commonly used for rainfall-runoff modeling, flood forecasting, and **watershed-scale** planning.\n",
    "\n",
    "EPA-SWMM (Storm Water Management Model), developed by the U.S. Environmental Protection Agency, is particularly suited for urban stormwater management, including **drainage network** modeling and green infrastructure evaluation.\n",
    "\n",
    "In European practice, common alternatives include:\n",
    "\n",
    "MIKE SHE, a comprehensive and physically-based modeling system developed by the Danish Hydraulic Institute (DHI), which integrates surface water, groundwater, and unsaturated zone flow in a unified framework.\n",
    "\n",
    "HBV (Hydrologiska Byråns Vattenbalansavdelning), a conceptual rainfall-runoff model widely used for water resource assessments and flood forecasting across northern and central Europe.\n",
    "\n",
    "While surface water models like those described above simulate watershed behavior at or near the ground surface, groundwater hydrology involves modeling the subsurface. This domain requires fundamentally different tools. Groundwater modeling is almost exclusively performed using MODFLOW, a modular finite-difference flow model developed by the U.S. Geological Survey. MODFLOW and its capabilities are discussed in a later chapter of this text.\n",
    "\n",
    "Hydrologic modeling is not a replacement for engineering judgment or data collection, but rather a decision-support tool that helps quantify, interpret, and communicate complex hydrologic behavior. The remaining sections in this chapter walk through the fundamental concepts, data requirements, and practical workflows associated with HEC-HMS and SWMM, and demonstrate their application to representative problems in watershed hydrology."
   ]
  },
  {
   "cell_type": "markdown",
   "id": "d728940e-dfe5-46f1-b42c-17461d8fa71f",
   "metadata": {},
   "source": [
    "\n",
    "\n",
    "---"
   ]
  },
  {
   "cell_type": "markdown",
   "id": "6956c945-887e-4af8-bd16-787acc7dff57",
   "metadata": {},
   "source": [
    "## Readings\n",
    "\n",
    "1. [Chow, V.T., Maidment,D.M., and Mays, L.W. (1998) Applied Hydrology, McGraw Hill, pp. 444-493](http://54.243.252.9/ce-3354-webroot/3-Readings/CMM1988/)\n",
    "2. [Gupta, R.S., 2017. Hydrology and Hydraulic Systems, pp. 46-59](https://www.waveland.com/browse.php?t=384)\n",
    "3. [Cleveland, T. G. (2017) *Engineering Hydrology Notes (Introduction to HEC-HMS) to accompany CE-3354*, Department of Civil, Environmental, and Construction Engineering, Whitacre College of Engineering.](http://54.243.252.9/ce-3354-webroot/1-Lectures-2017/Lecture09.pdf)\n",
    "4. [Cleveland, T. G. (2022) *Engineering Hydrology Notes to Accompany CE 3354 (Introduction to HEC-HMS; Ash Creek Dallas HEC-HMS Example)*, Department of Civil, Environmental, and Construction Engineering, Whitacre College of Engineering.](http://54.243.252.9/ce-3354-webroot/ce-3354-webbook-2024/my3354notes/lessons/16-HEC_HMS/Lesson09ug.pdf)\n",
    "2. [HEC-HMS User Manual 3.5](http://54.243.252.9/ce-3354-webroot/3-Readings/HEC-HMS-Documentation/HEC-HMS_Users_Manual_3.5.pdf)\n",
    "3. [HEC-HMS Applications Guide](http://54.243.252.9/ce-3354-webroot/3-Readings/HEC-HMS-Documentation/HEC-HMS_Applications_Guide_March2008.pdf)\n",
    "4. [HEC_HMS Quick Start Guide 3.5](http://54.243.252.9/ce-3354-webroot/3-Readings/HEC-HMS-Documentation/HEC-HMS_QuickStart_Guide_3.5.pdf)\n",
    "5. [HEC-HMS Release Notes 3.5](http://54.243.252.9/ce-3354-webroot/3-Readings/HEC-HMS-Documentation/HEC-HMS_Release_Notes_3.5.pdf)\n",
    "6. [HEC-HMS Technical Reference Manual](http://54.243.252.9/ce-3354-webroot/3-Readings/HEC-HMS-Documentation/HEC-HMS_TechnicalReferenceManual_(CPD-74B).pdf)\n",
    "7. [NRCS TP-149 CN estimation](http://54.243.252.9/ce-3354-webroot/3-Readings/NRCS-CN-TP149/methodforestimat149kent.pdf)\n",
    "9. [AshCreek Data (zip)](http://54.243.252.9/ce-3354-webroot/ce3354book/lessons/lesson06.1/AshCreekData.zip)\n",
    "10. [Cleveland, T. G. (2017) *Surface Water Hydrology Notes (Hydrograph Routing) to accompany CE-3354*, Department of Civil, Environmental, and Construction Engineering, Whitacre College of Engineering.](http://54.243.252.9/ce-3354-webroot/1-Lectures-2017/Lecture17.pdf)\n",
    "11. [Routing (Hydrology) Wikipedia ](https://en.wikipedia.org/wiki/Routing_(hydrology))\n",
    "12. [Routing (Information) Wikipedia](https://en.wikipedia.org/wiki/Routing_Information_Protocol)"
   ]
  },
  {
   "cell_type": "markdown",
   "id": "f64aa9fd-9a88-4182-9585-3467760df144",
   "metadata": {},
   "source": [
    "## Videos\n",
    "\n",
    "There are a lot of videos on YouTube suitable for self-training to use HEC-HMS (non-gridded).  The gridded HMS is a more advanced exercise (you have to have GIS skills first) and is the obvious extension of lumped (non-gridded) models -- but outside the course scope.\n",
    "\n",
    "1. [How to install HEC-HMS (YouTube)](https://www.youtube.com/watch?v=hCbTpNzInpQ)\n",
    "2. [HEC-HMS Overview (YouTube)](https://www.youtube.com/watch?v=0JvoJPDPKSk)\n",
    "3. [HEC-HMS Building a Basin Model (YouTube)](https://www.youtube.com/watch?v=E2nIwH2NbOc&list=PLH7yUh2l8q9WnSFbyKB4oIIGHMgfMaWCv&index=2)\n",
    "4. [HEC-HMS Building a Meterological Model (YouTube)](https://www.youtube.com/watch?v=dzOZQpj7PSg&list=PLH7yUh2l8q9WnSFbyKB4oIIGHMgfMaWCv&index=3)\n",
    "5. [HEC-HMS Running a Simulation (YouTube)](https://www.youtube.com/watch?v=U-TIoKYFCrw&list=PLH7yUh2l8q9WnSFbyKB4oIIGHMgfMaWCv&index=4)\n",
    "6. [HEC-HMS Results Interpretation (YouTube)](https://www.youtube.com/watch?v=WwmzAqer6GU&list=PLH7yUh2l8q9WnSFbyKB4oIIGHMgfMaWCv&index=5)\n",
    "7. [HEC-HMS Simulation Types (YouTube)](https://www.youtube.com/watch?v=rwXwY7heaLQ&list=PLH7yUh2l8q9WnSFbyKB4oIIGHMgfMaWCv&index=6)\n",
    "8. [Hydrograph Routing (YouTube)](https://www.youtube.com/watch?v=nzRG2uIMaTY)\n",
    "2. [Reservoir Routing (YouTube)](https://www.youtube.com/watch?v=1mdtq7iJ_74&t=248s)\n",
    "3. [Hydrologic Channel Routing (YouTube)](https://www.youtube.com/watch?v=HLSTZuEi5gg)\n",
    "4. [Channel Routing (NCEES Training Video)](https://www.youtube.com/watch?v=Eb0BoxlxcQw&list=PLGCZ9gpx8QdsoFj-3qWS_7iq61WE4Yy9d)\n",
    "5. [Reservoir Routing (NCEES Training Video)](https://www.youtube.com/watch?v=lkUEFtjQH6s&list=PLGCZ9gpx8QdsoFj-3qWS_7iq61WE4Yy9d)\n",
    "6. [Flash Flood Videos (YouTube)](https://www.youtube.com/watch?v=u0-FLuwWhf4)\n",
    "7. [Flash Flood near Sedona Az. (YouTube)](https://www.youtube.com/watch?v=Ipo0kwQQcgQ)\n",
    "\n",
    "## Spreadsheets\n",
    "\n",
    "1. [Manning's Circular Cross Section Discharge Calculator (xls).](http://54.243.252.9/ce-3354-webroot/hydrohandbook/chapters/08-hydrologicmodels/CircularChannelMannings-US.xls)\n",
    "2. [Orifice Discharge Calculator (xls).](http://54.243.252.9/ce-3354-webroot/hydrohandbook/chapters/08-hydrologicmodels/OrificeDichargeCalculatorUSCustomary.xlsx)\n",
    "3. [Level Pool (Puls Method) Routing Example.](http://54.243.252.9/ce-3354-webroot/hydrohandbook/chapters/08-hydrologicmodels/RoutingExample.xls)"
   ]
  },
  {
   "cell_type": "markdown",
   "id": "9d3277e8-1d2f-468a-a8b3-0bb0e8fa43ed",
   "metadata": {},
   "source": [
    "## Hydrologic modeling in Engineering Design\n",
    "\n",
    "In most situations a model refers to representing real-world situations in a mathematical structure that can be solved using a computer. Occasionally a physical or analog model is used in hydrology, but these kinds of models are becoming more and more rare because of the time and cost involved. Well constructed computer models (not just the program) can often do an excellent job of modeling, although some problems are geometrically complex enough to justify physical or analog modeling.\n",
    "\n",
    "With computer modeling a large number of variables and/or a large amount of data can be relatively quickly manipulated, increasing the chances of an accurate and defendable answer to the particular question (that the model was built to answer).\n",
    "\n",
    "The first step in developing any hydrologic model is the development of a **conceptual model**. During this stage of model development the existing are assembled. This data includes, but is not limited to, water company data on withdrawal rates and water levels; state and municipal well-permitting information; and previously published reports and maps. The documents are then reviewed to determine the system boundaries; extent and thickness of hydrologic units; aquifer recharge; ground water and surface water elevations; stream discharge and leakage to aquifers; aquifer parameters; and other characteristics unique to the situation to be modeled.\n",
    "\n",
    "Usually some fieldwork will be necessary to fill in the gaps. A data collection plan is prepared that sets out the field strategy for additional data collection. When the fieldwork is complete, the existing and new data are analyzed. The existing conceptual model is then revised and updated to incorporate data from the field program. This step ensures that all previously identified data needs have been satisfied and serves as a springboard for the computer modeling effort.\n",
    "\n",
    "With the conceptual model in place, it's time to select the model code or computer program to be used for the well head protection simulations. Some states require the use of a particular code. In most cases, several modeling codes are available that are capable of adequately modeling the problem. The choice should be based, if possible, on the modeler’s preference, although consideration must be given to what the relevant agency personnel are familiar with, otherwise, considerable time and money may be spent defending your code and training agency personnel.\n",
    "\n",
    "Once the flow model code has been selected, the boundaries and parameters identified in the conceptual model are put into a form suitable for modeling. This step includes determining the number of model layers, design of the model grid, determining the initial values of parameters and hydrologic stresses, and setting boundary conditions.\n",
    "\n",
    "The purpose of calibration is to establish that the model can reproduce field-measured values. This procedure is done by adjusting the model parameters (hydraulic conductivity, storage coefficient, etc.) and stresses (recharge, up land underflow, etc.) to produce the best match between simulated and observed water related variables."
   ]
  },
  {
   "cell_type": "markdown",
   "id": "c5902b05-f547-451c-9d72-e3b10ab21664",
   "metadata": {},
   "source": [
    "\n",
    "  - Hydrologic modeling, climate change impacts, and water management\n",
    "  - Real-world case studies (dams, levees, stormwater systems)\n",
    "\n",
    "## Course Review and Final Project Presentations\n",
    "  - Summary of key concepts and Q&A session\n",
    "  - Final Lab/Exercise: Group Project on a Hydrologic Case Study"
   ]
  },
  {
   "cell_type": "markdown",
   "id": "ea07e73e-0d0b-4e30-8e6e-23a459db15d9",
   "metadata": {},
   "source": [
    "# 8.1 HEC-HMS\n",
    "\n",
    "[HEC-Hydrologic Modeling System (HMS)](https://www.hec.usace.army.mil/software/hec-hms/)  the U.S. Army Corps of Engineers’ software package for modeling the complete hydrologic processes of dendritic watershed systems. The software includes many traditional hydrologic analysis procedures such as event infiltration, unit hydrographs, and hydrologic routing. HEC-HMS also includes procedures necessary for continuous simulation including evapo-transpiration, snowmelt, and soil moisture accounting. Advanced capabilities are also provided for gridded runoff simulation using the linear quasi-distributed runoff transform (ModClark). Supplemental analysis tools are provided for model optimization, forecasting streamflow, depth-area reduction, assessing model uncertainty, erosion and sediment transport, and water quality. The software and documentation are available free of charge.\n",
    "\n",
    ":::{note}\n",
    "Some of the stated capabilities above are marketing BS, but the software is a widely used tool.  A practicing Civil and Enviornmental Engineer would be expected to be proficient in HEC-HMS and/or SWMM\n",
    "\n",
    "Proficiency in HEC-HMS involves:\n",
    "\n",
    "- Understanding of Hydrologic Processes:\n",
    "<br>A solid grasp of hydrologic principles and processes, such as rainfall-runoff relationships, loss models, baseflow separation, and channel routing.\n",
    "\n",
    "- Model Development:\n",
    "<br>Ability to create and configure hydrologic models, including defining watershed boundaries, inputting hydrologic data (precipitation, temperature, etc.), and setting up sub-basins, reaches, junctions, and reservoirs.\n",
    "\n",
    "- Selection and Application of Methods:\n",
    "<br>Knowledge of various computational methods available in HEC-HMS for different hydrologic processes, such as loss models (e.g., SCS Curve Number, Green-Ampt), transform methods (e.g., SCS Unit Hydrograph, Clark Unit Hydrograph), and routing methods (e.g., Muskingum, Kinematic Wave).\n",
    "\n",
    "- Data Management:\n",
    "<br>Competence in importing and managing input data, such as time series data for precipitation, temperature, streamflow, and observed data for model calibration.\n",
    "\n",
    "- Model Calibration and Validation:\n",
    "<br>Skill in calibrating the model parameters to match observed data, and validating the model's performance with different data sets to ensure its reliability.\n",
    "\n",
    "- Simulation and Analysis:\n",
    "<br>Capability to run simulations, interpret results, and analyze hydrographs, peak flows, and flow volumes for different scenarios (e.g., different rainfall events or land-use changes).\n",
    "\n",
    "- Advanced Features:\n",
    "<br>Familiarity with advanced features, such as simulating stormwater management practices, running continuous simulations, or using the software for flood forecasting.\n",
    "\n",
    "- Troubleshooting and Problem-Solving:\n",
    "<br>Ability to identify and resolve issues related to model setup, data inconsistencies, and convergence problems.\n",
    "\n",
    "- Documentation and Reporting:\n",
    "<br>Proficiency in documenting the modeling process, assumptions, and results, as well as preparing professional reports and presentations.\n",
    "\n",
    "Being proficient in HEC-HMS means not only knowing how to use the software's interface but also understanding the underlying hydrologic concepts and methodologies, enabling effective and accurate hydrologic modeling and analysis.\n",
    ":::\n",
    "\n",
    "### History of HMS\n",
    "HMS Evolved from HEC-1 as part of a “new-generation” software emphasis circa 1990.  The main end-user result is an Integrated user interface to speed up data input and enhance output interpretation.  \n",
    "\n",
    "### Overview\n",
    "HMS is a complex and sophisticated tool:\n",
    "- Intended to be used by a knowledgeable and skilled operator\n",
    "- Knowledge and skill increase with use\n",
    "- The skills are perishable\n",
    "\n",
    "### Data management\n",
    "- Graphical User Interface (GUI)\n",
    "- Multiple input files\n",
    "- Multiple output files\n",
    "- Time-series in HEC-DSS\n",
    "\n",
    "All files arranged in a **Project** which is the fundamental data organization structure \n",
    "- Paths to individual files\n",
    "- Can compress and e-mail entire project folders and have them run elsewhere (assuming the files are stored in the folder in their entirety)\n",
    "\n",
    "### Hydrologic Conceptualization\n",
    "\n",
    "Organizes precipitation, watershed interaction, and runoff into major elements\n",
    "- Basin model and sub-basin description\n",
    " - Downstream connections: how the system components are interconnected\n",
    " - Loss model: how rainfall is converted into excess rainfall\n",
    " - Transformation model: how the excess rainfall is redistributed in time and moved to the hydrologically nearest outlet (unit hydrographs, routing elements ...)\n",
    "- Meterological model\n",
    " - Raingage specifications and assignment to different sub-basins\n",
    " - Time-series models: Supply input hyetographs; Supply observed hydrographs\n",
    "- Simulation control\n",
    " - Supply instructions of what, when, how to simulate\n",
    " \n",
    "In the end HEC-HMS is a Hydrologic Model and can estimate:\n",
    "- Peak Flows\n",
    "- Hydrographs\n",
    "\n",
    "It can perform\n",
    "- Hydrograph Routing\n",
    " - Stream reaches\n",
    " - Reservoirs and detention basins\n",
    " - Hydrograph lagging and attenuation\n",
    "- Sub-basin modeling (if appropriate)\n",
    "\n",
    "Precipitation to Runoff\n",
    "- Abstractions\n",
    " - Fraction of precipitation that does not contribute to runoff (and ultimately discharge)\n",
    "- Routing\n",
    " - Watershed routing (unit hydrograph and similar concepts)\n",
    " - Stream (Channel) routing\n",
    " - Reservoir (Storage) routing"
   ]
  },
  {
   "cell_type": "markdown",
   "id": "f750e8a8-43b9-47c6-91cf-15bea467de82",
   "metadata": {},
   "source": [
    "## Installation\n",
    "\n",
    "Navigate to the HEC-HMS website, select software appropriate for your computer.  \n",
    "\n",
    "![](download-window.png)\n",
    "\n",
    "<!--Apple users will choose the Linux versions and have to figure out an interface, or get a [CodeWeaver](https://www.codeweavers.com/) application layer, or get [Parallels](https://www.parallels.com/pd/general/?gclid=CjwKCAjw79iaBhAJEiwAPYwoCFORJ8sEPl3m0sP2EEj6TExbC4rKqt6LUsS22AVAmTK8PkgnfLqbkxoC_dcQAvD_BwE), or build a [Cloud Application](https://aws.amazon.com/free/compute/lightsail/?trk=56417dfe-8849-4622-bfa4-7ec30bd6f5a3&sc_channel=ps&s_kwcid=AL!4422!3!536323500429!e!!g!!aws%20lightsail&ef_id=CjwKCAjw79iaBhAJEiwAPYwoCKquJK3Cnwmaf8sZZURFgvZO3FdYDyiQufkvEyD4DGuUCtGIGII50BoC77EQAvD_BwE:G:s&s_kwcid=AL!4422!3!536323500429!e!!g!!aws%20lightsail)-->\n",
    "\n",
    "<!--:::{note}\n",
    "My copy of HEC-HMS is stored as a cloud application hosted on AWS.  It houses a fully provisioned Windows Implementation of HEC-HMS (and some other tools) and is located at:\n",
    "\n",
    "- server_name: **kittyinthewindow.ddns.net**\n",
    "- user_name: **texas-skew**\n",
    "- passwd: **peakfq73$hare**\n",
    "\n",
    "Users must access using [Remote Desktop Protocol](https://learn.microsoft.com/en-us/windows-server/remote/remote-desktop-services/clients/remote-desktop-mac) (Built into Windows, Apple Store has a free Mac application).\n",
    ":::\n",
    "-->\n",
    "\n",
    "For a typical Windoze machine:\n",
    "1. Download an installer\n",
    "2. Run the installer <br>\n",
    "  - Accept the defaults (otherwise YOYO!)\n",
    "\n",
    "Upon sucessful install you should be able to select the program and launch it and get the control interface\n",
    "\n",
    "To install supplied examples, navigate to the help tab (in the HMS interface) and select download examples\n",
    "\n",
    ":::{note}\n",
    "Usually the above works, unless you try something fancy and are [clueless](https://www.imdb.com/title/tt0112697/).  If you cannot figure it out go [here](https://harri.com/mysubwaycareer)\n",
    ":::"
   ]
  },
  {
   "cell_type": "markdown",
   "id": "7187fa13-5038-45e1-97f1-b21ed8998f1a",
   "metadata": {
    "jupyter": {
     "source_hidden": true
    }
   },
   "source": [
    "### HEC-HMS Minimal Model\n",
    "\n",
    "A minimal model consists of \n",
    "\n",
    "- Basin Model\n",
    "- Meteorological Model\n",
    "- Control Specifications\n",
    "\n",
    "#### Basin Model Specification\n",
    "\n",
    "For this example we will use the Hardin Creek basin which is about 17 square miles.  For the example we will neglect the reservoirs and model the whole thing as a single watershed.\n",
    "\n",
    "To create a basin model, select Components from the menu then Basin Manager \n",
    "\n",
    "![](hms-basinmanager.png)\n",
    "\n",
    "As with most HMS creator dialogs, you next name the basin.\n",
    "\n",
    "![](hms-basinname.png)\n",
    "\n",
    "#### Meterological Model Specification\n",
    "\n",
    "To create a meterological model, select Components from the menu then Meterological Model Manager \n",
    "\n",
    "![](hms-metmodel.png)\n",
    "\n",
    "As with most HMS creator dialogs, you next name the model.\n",
    "\n",
    "![](hms-metmodelname.png)\n",
    "\n",
    "#### Control Model Specification\n",
    "\n",
    "The last component is the control specification model (with dates and times for the simulation period).  To create a control model, select Components from the menu then Control Model Manager \n",
    "\n",
    "![](hms-controlspecs.png)\n",
    "\n",
    "Then next name the model.\n",
    "\n",
    "![](hms-controlspecsname.png)\n",
    "\n",
    "#### Parameterizing the models\n",
    "\n",
    "Now that the pieces are built, we need to supply watershed and rainfall characteristics to the components for a useable model.  First we will simulate the entire watershed as a single basin, with CN=98, and all other watershed-based model components disabled (i.e. None)\n",
    "\n",
    "First build the single **basin**\n",
    "\n",
    "![](hms-subbasinselect.png)\n",
    "\n",
    "Then supply the inputs, first area and the CN model.  Disable all the remaining methods (choose --None--)\n",
    "\n",
    "![](hms-nwebasins1.png)\n",
    "\n",
    "Then the CN parameters (same as in class)\n",
    "\n",
    "![](hms-nwebasins2.png)\n",
    "\n",
    "Then supply the **meterological** model inputs, for the example we will use an SCS design storm, in HMS its called \"hypothetical\" storm.\n",
    "\n",
    "![](hms-hypothetical1.png)\n",
    "\n",
    "Then be sure the correct basins are attached to the precipitation input signal\n",
    "\n",
    "![](hms-hypothetical2.png)\n",
    "\n",
    "Next select the storm itself and supply model inputs\n",
    "\n",
    "![](hms-hypothetical3.png)\n",
    "\n",
    "Now select the **control** specifications and provide needed time values (must be calendar/clock time, HMS does not easily handle elapsed times - you can use fake dates as needed)\n",
    "\n",
    "![](hms-control1.png)\n",
    "\n",
    "Now one can select simulation run builder\n",
    "\n",
    "![](hms-sim1.png)\n",
    "\n",
    "![](hms-sim2.png)\n",
    "\n",
    "![](hms-sim3.png)\n",
    "\n",
    "![](hms-sim4.png)\n",
    "\n",
    "Once these are complete select Finish and the run manager is loaded, next select the particular run to active the compute engine\n",
    "\n",
    "![](hms-sim5.png)\n",
    "\n",
    "At this point it should be ready, this is a good time to save the project, then reload the saved project from the file menu. Now attempt to run the simulation by selecting the exploding raindrop!\n",
    "\n",
    "![](hms-sim6.png)\n",
    "\n",
    "With some luck it works like\n",
    "\n",
    "![](hms-sim7.png)\n",
    "\n",
    "With a suseccful run we can examine various output features - to complete this notebook section we will just use a default chart of runoff from the watershed.  Select the Results/Element_Graph to get:\n",
    "\n",
    "![](hms-sim8.png)\n",
    "\n",
    "There are tutorials and examples in the User Manual for the software."
   ]
  },
  {
   "cell_type": "markdown",
   "id": "43d13d09-a5d4-4445-b97a-53e1794079f5",
   "metadata": {},
   "source": [
    "# 8.2 Hydrograph Routing"
   ]
  },
  {
   "cell_type": "markdown",
   "id": "58cacbe7-228a-4d4e-b094-54b9a502c616",
   "metadata": {},
   "source": [
    "Hydrograph routing is a technique used in computational hydrology to predict the temporal distribution of water flow in rivers, channels, and reservoirs in response to inflow events. It involves calculating the downstream movement of water through a channel or watershed, accounting for the storage and movement of water within the system. The primary objective is to determine the changes in flow characteristics, such as discharge, over time and space as water travels from upstream to downstream points.\n",
    "\n",
    "In practical applications, hydrograph routing is used for flood forecasting, design of hydraulic structures, and water resource management. There are two main types of routing:\n",
    "\n",
    "1. Hydrologic Routing: This approach uses simplified methods based on the conservation of mass and empirical relationships. Techniques such as the Muskingum method, kinematic wave model, and unit hydrograph are common. Hydrologic routing is often used for its simplicity and efficiency, particularly in cases where detailed data is not available.\n",
    "\n",
    "2. Hydraulic Routing: This method uses the principles of fluid mechanics, typically the continuity equation and the momentum equation (Saint-Venant equations), to model the movement of water through a channel. It provides detailed information about flow depth and velocity but requires comprehensive data and computational effort.  (These techniques are introduced and applied in CE 3372 and are the subject of the entire course CE 4353)\n",
    "\n",
    ":::{note}\n",
    "In the context of HEC-HMS, this background serves as a natural precursor to building models with multiple interconnected sub-basins. Routing represents the mechanism by which information—specifically, flow—is transmitted from one component to the next. As you work through the examples, remember that the actual computations are carried out within HEC-HMS, not in our homebrew scripts or spreadsheets, even though the underlying algorithms are the same.\n",
    ":::\n",
    "\n",
    "Hydrograph routing informs how different factors, such as channel shape, roughness, and basin characteristics, influence the timing and magnitude of peak flows. The results are critical for designing effective flood control measures, optimizing reservoir operations, and designing suitable drainage systems.\n",
    "\n",
    ":::{admonition} Routing Concept \n",
    "Routing simulates movement of a discharge signal (flood wave) through hydrologic/hydraulic elements called reaches.\n",
    "- Accounts for storage in the reach and flow resistance.\n",
    "- Allows modeling of a basin comprised of interconnected sub-basins \n",
    "- Hydrologic routing – uses continuity equation (HEC-HMS)\n",
    "- Hydraulic routing – uses continuity and momentum (St. Venant Equations; HEC-RAS, EPA-SWMM) \n",
    ":::"
   ]
  },
  {
   "cell_type": "markdown",
   "id": "99feca2e-bb17-40ba-b2f2-7e0210196207",
   "metadata": {
    "jp-MarkdownHeadingCollapsed": true
   },
   "source": [
    "##  Routing-Hydrologic and Hydraulic\n",
    "\n",
    "Problem:\n",
    "- you have a hydrograph at one location (I) \n",
    "- you have reach characteristics (S = f(I,O))\n",
    "\n",
    "Need:\n",
    "- a hydrograph at different location (O)\n",
    "\n",
    "This is a “routing” situation. The “reach” can be a stream, river, reservoir or some similar feature; the element must have the ability to convey (transmit water) and accumulate (store water).  Routing is not applied to overland flow per-se; although time-area methods are arguably a type of routing.\n",
    "\n",
    "![](routingsketch.png)"
   ]
  },
  {
   "cell_type": "markdown",
   "id": "3637872e-bcb8-469f-8e20-3c4b61d0535a",
   "metadata": {
    "jupyter": {
     "source_hidden": true
    }
   },
   "source": [
    "The bar heights (volumes in storage, entering, and leaving the hydrologic reach) as depicted below are usually quantified in a routing table - its conceptually like a bank account that relates revenue, expenses, and account balance.\n",
    "\n",
    "![](barheights.png)"
   ]
  },
  {
   "cell_type": "markdown",
   "id": "c5de7cf3-a6f2-4744-9464-8f662e8dfd93",
   "metadata": {
    "jupyter": {
     "source_hidden": true
    }
   },
   "source": [
    "## Hydrologic Routing\n",
    "\n",
    "Hydrologic routing techniques use the equation of continuity and some linear or curvilinear relation between storage and discharge within the river.  The effects of momentum are neglected. \n",
    "\n",
    "Methods include:\n",
    "- Lag Routing (no attenuation). Useful to get connectivity correct in a model\n",
    "- Modified Puls (level pool routing). Useful for reservoirs\n",
    "- Muskingum-Cunge (a simplified type of hydraulic model). Useful to approximate stream/river behavior without resorting to true \"hydraulics\" considerations"
   ]
  },
  {
   "cell_type": "markdown",
   "id": "6d4efc23-56c1-41de-b778-3a54ae7a24a6",
   "metadata": {
    "jupyter": {
     "source_hidden": true
    }
   },
   "source": [
    "### Level Pool Routing\n",
    "\n",
    "Technique to approximate the outflow hydrograph passing through a reservoir with the pool (water surface) always level.\n",
    "- Uses a reach (reservoir) mass balance equation \n",
    "\n",
    "$$ Q_{in} − Q_{out} = \\frac{\\Delta S}{\\Delta t}$$\n",
    " \n",
    "- and a storage-outflow relationship.\n",
    "\n",
    "$$ Q_{out} = f(S)$$"
   ]
  },
  {
   "cell_type": "markdown",
   "id": "2786a9e3-12ae-4e48-bca6-a682e3fcf47e",
   "metadata": {
    "jupyter": {
     "source_hidden": true
    }
   },
   "source": [
    "Variable names are typically changed:\n",
    "\n",
    "$Q_{in} => I_t$ and $Q_{out} => O_t$\n",
    "\n",
    "So the reach mass balance is\n",
    "\n",
    "$$ \\bar I − \\bar O = \\frac{\\Delta S}{\\Delta t}$$\n",
    "\n",
    "The time averaged values are taken at the beginning and end of a useful time interval, and the first-order difference quotient is used to approximate the rate of change in storage.\n",
    "\n",
    "The reach mass balance is then\n",
    "\n",
    "$$\\frac{I_t - I_{t-\\Delta t}}{2} - \\frac{O_t - O_{t-\\Delta t}}{2} = \\frac{S_t - S_{t-\\Delta t}}{\\Delta t}  $$"
   ]
  },
  {
   "cell_type": "markdown",
   "id": "40d20718-8d29-40d5-8e86-8eb5de505a88",
   "metadata": {
    "jupyter": {
     "source_hidden": true
    }
   },
   "source": [
    "![](levelpool1.png)"
   ]
  },
  {
   "cell_type": "markdown",
   "id": "6da89178-f204-4018-847d-207d62158ec5",
   "metadata": {
    "jupyter": {
     "source_hidden": true
    }
   },
   "source": [
    "Then some of that algebra stuff ....\n",
    "\n",
    "![](levelpool2.png)"
   ]
  },
  {
   "cell_type": "markdown",
   "id": "da347436-b6da-44e7-a5e5-efbc47cc0075",
   "metadata": {
    "jupyter": {
     "source_hidden": true
    }
   },
   "source": [
    "More algebra stuff ....\n",
    "\n",
    "![](levelpool3.png)"
   ]
  },
  {
   "cell_type": "markdown",
   "id": "e2bd4610-2af6-4aa3-84e7-ea54d0f63879",
   "metadata": {
    "jupyter": {
     "source_hidden": true
    }
   },
   "source": [
    "Some more algebra still and recognize need to deal with two unknowns ...\n",
    "\n",
    "![](levelpoolF.png)\n",
    "\n",
    "The storage-outflow function leverages hydraulics where possible. For example flow through holes (orifice flow), over spillways and weirs, and simplified culvert flow situations.\n",
    "\n",
    "![](storageoutflow.png)\n",
    "\n",
    "![](weirflow.png)\n",
    "\n",
    "![](holyflow.png)"
   ]
  },
  {
   "cell_type": "markdown",
   "id": "937e0bdf-4bc9-4770-97e5-e8f695702f17",
   "metadata": {
    "jupyter": {
     "source_hidden": true
    }
   },
   "source": [
    "Use outlet-works hydraulics, and depth-area-storage to build a storage-outflow function\n",
    "\n",
    "\n",
    "$$O = f(S)$$\n",
    "\n",
    "Once we have that function, then build an auxiliary function (tabulation) called the storage-indication curve (function)\n",
    "\n",
    "\n",
    "$$ O = g(\\frac{2S}{\\Delta t} +O) $$\n",
    "\n",
    "here $g$ is some function."
   ]
  },
  {
   "cell_type": "markdown",
   "id": "a855f0ce-2785-4275-96ca-9429e6b4f1c5",
   "metadata": {
    "jupyter": {
     "source_hidden": true
    }
   },
   "source": [
    "Once have the storage-indication curve then can use the reach mass balance to estimate the numerical value of :\n",
    "\n",
    "$$\\frac{2S_t}{\\Delta t} +O_t$$\n",
    "\n",
    "Then use the storage-indication curve to find the value of outflow, subtract that from the result above, and now have both the end-of-interval outflow and storage."
   ]
  },
  {
   "cell_type": "markdown",
   "id": "3723ee87-5057-42d6-829d-da76c168990a",
   "metadata": {
    "jupyter": {
     "source_hidden": true
    }
   },
   "source": [
    ":::{note}\n",
    "Probably should rewrite the example in Jupyter/iPython to be consistent with modern technology\n",
    ":::\n",
    "\n",
    "### Example \n",
    "Similar to CMM 8.2.1 pg 247-252; but\n",
    "- Shows how the storage-indication curve is determined using hydraulics\n",
    "- Illustrate use of spreadsheet programming needed to make the actual computations\n",
    "\n",
    "![](detentionbasin.png)\n",
    "\n",
    "Tasks:\n",
    "- Build a depth-storage table \n",
    "- Build a depth-outflow table\n",
    "  - From 0 to 5 feet deep use Manning’s equation in a circular conduit\n",
    "  - From 5+ to 12 feet deep use Orifice equation (neglecting frictional losses)\n",
    "- Save a depth-storage-outflow table for use in storage-indication curve\n",
    "- Build the routing table (apply the reach mass balance)\n",
    "\n",
    "For depth-outflow here is a [Manning's Circular Cross Section Discharge Calculator (xls).](http://54.243.252.9/ce-3354-webroot/hydrohandbook/chapters/08-hydrologicmodels/CircularChannelMannings-US.xls)\n",
    "\n",
    "![](mannings.png)\n",
    "\n",
    "Here is an [Orifice Discharge Calculator (xls).](http://54.243.252.9/ce-3354-webroot/hydrohandbook/chapters/08-hydrologicmodels/OrificeDichargeCalculatorUSCustomary.xlsx)\n",
    "\n",
    "![](orifice.png)\n"
   ]
  },
  {
   "cell_type": "code",
   "execution_count": 8,
   "id": "62e0e8d0-6c8c-4ee8-b40e-759a7f378685",
   "metadata": {
    "collapsed": true,
    "jupyter": {
     "outputs_hidden": true,
     "source_hidden": true
    }
   },
   "outputs": [
    {
     "name": "stdout",
     "output_type": "stream",
     "text": [
      "Mannings n :      0.013 --  \n",
      "    Depth  :      5.000 ft. \n",
      " Diameter  :      5.000 ft.\n",
      "    Slope  :      0.003 ft./ft.\n",
      "    Angle  :      3.142 radians\n",
      "      Area :     19.635 sq.ft.\n",
      " Perimeter :     15.708 ft.\n",
      " Discharge :    143.034 cu.ft./sec\n",
      "  Velocity :      7.285 ft/sec\n"
     ]
    }
   ],
   "source": [
    "# iPython Circular Mannings Calculator (Beware: No Error Checking!)\n",
    "########### INPUT VALUES ################\n",
    "manningsn = 0.013 # supply n value look up in a table\n",
    "depth = 5.0       # depth in feet\n",
    "diameter = 5.0    # culvert/outlet diameter in feet\n",
    "slope = 0.003     # culvert/outlet slope (feet/feet)\n",
    "########### MATH PACKAGE ################\n",
    "import math\n",
    "import sys\n",
    "########### CALCULATIONS ################\n",
    "angle = math.acos(1.0 - 2 * depth / diameter) \n",
    "area = (diameter**2)*(angle-math.sin(angle)*math.cos(angle))/4.0\n",
    "perimeter = angle*diameter\n",
    "radius = area/perimeter\n",
    "discharge = (1.49/manningsn)*area*(radius**(2/3))*math.sqrt(slope)\n",
    "velocity = discharge/area\n",
    "########### RESULTS ###############\n",
    "print(\"Mannings n : %10.3f --  \" %(manningsn))\n",
    "print(\"    Depth  : %10.3f ft. \" %(depth))\n",
    "print(\" Diameter  : %10.3f ft.\" %(diameter))\n",
    "print(\"    Slope  : %10.3f ft./ft.\" %(slope))\n",
    "print(\"    Angle  : %10.3f radians\" %(angle))\n",
    "print(\"      Area : %10.3f sq.ft.\" %(area))\n",
    "print(\" Perimeter : %10.3f ft.\" %(perimeter))\n",
    "print(\" Discharge : %10.3f cu.ft./sec\" %(discharge))\n",
    "print(\"  Velocity : %10.3f ft/sec\" %(velocity))"
   ]
  },
  {
   "cell_type": "code",
   "execution_count": 12,
   "id": "b2f1a510-97ce-4fce-b267-5a68b6cdbfa5",
   "metadata": {
    "collapsed": true,
    "jupyter": {
     "outputs_hidden": true,
     "source_hidden": true
    }
   },
   "outputs": [
    {
     "name": "stdout",
     "output_type": "stream",
     "text": [
      "           Orifice Coef :      0.574 --  \n",
      "                 Depth  :      7.000 ft. \n",
      "              Diameter  :      5.000 ft.\n",
      "Depth above centerline  :      9.500 ft.\n",
      "                   Area :     19.635 sq.ft.\n",
      "              Discharge :    278.770 cu.ft./sec\n",
      "               Velocity :     14.198 ft/sec\n"
     ]
    }
   ],
   "source": [
    "# iPython Orifice Calculator (Beware: No Error Checking!)\n",
    "########### INPUT VALUES ################\n",
    "coefficient = 0.574 # orifice coefficient (table lookup)\n",
    "depth = 7.0       # depth above top of orifice in feet\n",
    "diameter = 5.0    # orifice diameter in feet\n",
    "slope = 0.003     # culvert/outlet slope (feet/feet)\n",
    "########### MATH PACKAGE ################\n",
    "import math\n",
    "import sys\n",
    "########### CALCULATIONS ################\n",
    "if depth >= 0:\n",
    "    centerline = depth + diameter - 0.5*diameter\n",
    "    area = 0.25*math.pi*diameter**2\n",
    "    discharge = coefficient*area*math.sqrt(2.0*32.2*centerline)\n",
    "    velocity = discharge/area\n",
    "else:\n",
    "    print(\"not orifice flow\")\n",
    "    \n",
    "\n",
    "########### RESULTS ###############\n",
    "print(\"           Orifice Coef : %10.3f --  \" %(coefficient))\n",
    "print(\"                 Depth  : %10.3f ft. \" %(depth))\n",
    "print(\"              Diameter  : %10.3f ft.\" %(diameter))\n",
    "print(\"Depth above centerline  : %10.3f ft.\" %(centerline))\n",
    "print(\"                   Area : %10.3f sq.ft.\" %(area))\n",
    "print(\"              Discharge : %10.3f cu.ft./sec\" %(discharge))\n",
    "print(\"               Velocity : %10.3f ft/sec\" %(velocity))"
   ]
  },
  {
   "cell_type": "markdown",
   "id": "77c7d29a-7e16-4413-8100-939ede031db2",
   "metadata": {
    "jupyter": {
     "source_hidden": true
    }
   },
   "source": [
    "Use these and basin geometry to build depth-storage outflow table.\n",
    "\n",
    "![](depth-storage-outflow.png)\n",
    "\n",
    "Copy the depth-storage-outflow to the routing table (we are going to build) – we need it as a tabulation so we can use INDEX and MATCH to get values from the table for interpolation (Eq. at bottom CMM pg 249)\n",
    "\n",
    "![](interpolation.png)"
   ]
  },
  {
   "cell_type": "markdown",
   "id": "75d4ec2c-84f2-4c33-8482-a749c07e44fe",
   "metadata": {
    "jupyter": {
     "source_hidden": true
    }
   },
   "source": [
    "![](routingtable1.png)\n",
    "\n",
    "![](routingtable2.png)\n",
    "\n",
    "![](routingtable3.png)\n",
    "\n",
    "![](routingtable4.png)\n",
    "\n",
    "![](routingtable5.png)"
   ]
  },
  {
   "cell_type": "markdown",
   "id": "218c046c-4c78-4ab2-b6d5-85a524dd6754",
   "metadata": {},
   "source": [
    "The full spreadsheet, with the interpolation function as an Excel 94 macro sheet (you could code in place, will have a few more columns) is on server as [Routing Example.](http://54.243.252.9/ce-3354-webroot/hydrohandbook/chapters/08-hydrologicmodels/RoutingExample.xls)\n",
    "\n",
    "- Such computations are a lot easier to perform in HEC-HMS because it handles (1) building the routing table and (2) selecting a decent time step\n",
    "- Can also use level pool routing for a stream reach (next meeting)."
   ]
  },
  {
   "cell_type": "markdown",
   "id": "52b4ef71-20e7-4657-a3eb-7e215a721c13",
   "metadata": {
    "jupyter": {
     "source_hidden": true
    }
   },
   "source": [
    "## Reservoir Concepts\n",
    "- Reservoir\n",
    "  - A pond, lake, or basin, either natural or artificial, for the storage, regulation, and control of water.\n",
    "- Regulated reservoir\n",
    "  - Outflow controlled by moveable gates and valves. \n",
    "  - Head, and valve settings determine outflow.\n",
    "- Unregulated reservoir.\n",
    "  - Outflow controlled by fixed weirs and orifices.\n",
    "  - Head and constructed weir height determine outflow."
   ]
  },
  {
   "cell_type": "markdown",
   "id": "b2103366-b803-43fe-bf68-f0f02323c560",
   "metadata": {},
   "source": [
    "## Reservoir Storage\n",
    "\n",
    "Storage Representations≈\n",
    "- Storage vs. Discharge\n",
    "- Storage vs. Elevation\n",
    "- Surface Area vs. Elevation\n",
    "\n",
    "![](ReservoirConcepts.png)\n",
    "\n",
    "Discharge Representations \n",
    "- Spillways, Weirs\n",
    "- Orifices, Sluice gates\n",
    "- Pumps\n",
    "- Dam Breach\n",
    "\n"
   ]
  },
  {
   "cell_type": "markdown",
   "id": "71735f39-166f-4965-a87a-1cbaf842fa44",
   "metadata": {},
   "source": [
    "## HEC-HMS Constructs\n",
    "\n",
    "![](hms-reservoir-element.png)\n",
    "\n",
    "![](hec-res1.png)\n",
    "![](hec-res2.png)\n",
    "![](hec-res3.png)\n",
    "![](hec-res4.png)\n",
    "![](hec-res5.png)\n",
    "![](hec-res6.png)\n",
    "![](hec-res7.png)\n",
    "![](hec-res8.png)\n",
    "![](hec-res9.png)"
   ]
  },
  {
   "cell_type": "markdown",
   "id": "0ae0b0c5-ff73-4b84-a3a8-55e68cfd8bd0",
   "metadata": {},
   "source": [
    "## Routing-channel and reservoir\n",
    "\n",
    "Reservoir routing\n",
    "- Account for storage in a reservoir\n",
    "- Unique storage-discharge relationship\n",
    "\n",
    "Channel routing\n",
    "- Account for storage in channel as well as travel time \n",
    "- Storage-discharge relation in channel is non-unique\n",
    "- Can treat channel as a series of reservoirs to mitigate looped effect."
   ]
  },
  {
   "cell_type": "markdown",
   "id": "1bf33321-9cb6-4bc3-b11e-239837a41b69",
   "metadata": {},
   "source": [
    "## HEC-HMS Files\n",
    "\n",
    "The reservoir model above is stored below as an entire HMS project.  Download, etxtract, move into a suitable work directory and you should be able to replicate in HEC-HMS\n",
    "\n",
    "1. [MyReservoirModel.zip (zip file of an entire HMS project)](http://54.243.252.9/ce-3354-webroot/hydrohandbook/chapters/08-hydrologicmodels/MyReservoirModel.zip)"
   ]
  },
  {
   "cell_type": "markdown",
   "id": "32e1de36-0eb1-415c-b37f-bcf70d899a93",
   "metadata": {},
   "source": [
    "# 8.3 HEC-HMS Example (multiple Subbasins with Routing)\n",
    "\n",
    "This example uses data from [AshCreek Data (zip)](http://54.243.252.9/ce-3354-webroot/ce3354book/lessons/lesson06.1/AshCreekData.zip).  The .ZIP file is an old homework problem, learners had to convert the provided data files into a format that HEC-HMS could process then analyze the watershed and interpret results and answer some questions.  The original problem statement is shown below\n",
    "\n",
    ":::{admonition} Problem Statement\n",
    "**HEC-HMS Exercises**\n",
    "\n",
    "In this folder are rainfall-runofff data for three storms on Ash Creek watershed in Dallas, Texas.  \n",
    "Included are some base maps to help locate the watershed.  \n",
    "The maps are simply PDF files and are not georeferenced, so other than pretty pictures the maps are useless.\n",
    "\n",
    "Using HEC HMS model the Ash Creek Watershed using a loss model of your choice and a transformation model of your choice.  Model the watershed as a lumped system (one sub-basin, no routing).\n",
    "\n",
    "(1) Estimate parameter values in the model without using the time-series data (synthetic hydrology).  Document how you make the estimates.\n",
    "\n",
    "(2) Test your estimated with the 1973_0603 storm, how well did your synthetic approach perform.\n",
    "\n",
    "(3) Use the 1973_0603 storm to \"calibrate\" your model.  Trial-and-error is appropriate, or you chould choose the internal calibration tools in HMS, also your choice.  Demonstrate the calibrated model by capturing the model output for the storm (i.e. a time series of computed and observed discharge).   Use the weighted accumulated precipitation is the input (since we don't have the raingage locations).\n",
    "\n",
    "(4) Test the calibrated model with the other two storms (DO NOT CHANGE PARAMETERS IN THE MODEL).   Assess model performance with thses other two real storms.  What do you conclude?\n",
    "\n",
    "(5) Now try to adjust the parameters to obtain a best \"average\" performance.  What do you conclude?\n",
    "\n",
    "(6-8) Repeat steps 3-5 with the watershed subdivided into multiple sub-basins, with routing.    Use any subdivision scheme you think is appropriate, but use at least 3 sub-basins.\n",
    "\n",
    "Did subdivision confer any performance advantage?   At what cost?\n",
    "\n",
    "(9)  Presumably you represented the current conditions with some variable that reflects the land coverage.  Estimate the watershed response to the historical storms if the entire watershed is impermeable, and very smooth (low friction).\n",
    "\n",
    "Prepare a brief report on the modeling effort, be sure to address each question above.  Due in 2 weeks.  \n",
    "\n",
    "You will need to download the HEC-HMS user manual and do some reading in the manual as well as in the hydrology literature and textbook to complete this exercise.\n",
    ":::\n",
    "\n",
    "Here is a look at the watershed\n",
    "\n",
    "![](STA08057320_MAPS.png)\n",
    "\n",
    "The study area is \n",
    "Highland Road and Ash Creek, Dallas, TX.\n",
    "Area is residential subdivisions, light industrial parks, and some open parkland.\n",
    "White Rock Lake is water body to the North-West\n",
    "\n",
    "Now if we make measurements we might arrive at\n",
    "\n",
    "![](ashcreekparameters.png)\n",
    "\n",
    "So one can model as just this lumped basin or apply some subdivision like:\n",
    "\n",
    "![](subdivide.png)\n",
    "\n",
    "If we use the subdivided case, we will need routing elements and parameters for each subbasin.\n",
    "- **Red basin** ![](redbasin.png)\n",
    "- **Green basin** ![](greenbasin.png)\n",
    "- **Blue basin** ![](bluebasin.png)\n",
    "- **Combined** ![](combine.png)"
   ]
  },
  {
   "cell_type": "markdown",
   "id": "76b62b74-59ba-4766-a79d-d863b67563f7",
   "metadata": {
    "jupyter": {
     "source_hidden": true
    }
   },
   "source": [
    "Using measuring tools (GIS, Acrobat Pro, Paint, ....) determine area, and lengths, get CN using NRCS tools.\n",
    "\n",
    "|Sub-Basin ID|Property|Value|\n",
    "|---|:---|---:|\n",
    "|Red|AREA|1.87 sq.mi.|\n",
    "|Red|CN|86|\n",
    "|Red|Dist. To Outlet|0|\n",
    "|Green|AREA|2.67sq.mi.|\n",
    "|Green|CN|86|\n",
    "|Green|Dist. To Outlet|4227ft|\n",
    "|Blue|AREA|2.39sq.mi|\n",
    "|Blue|CN|86|\n",
    "|Blue|Dist. To Outlet|2660 ft|\n",
    "\n",
    "Then estimate travel times for the routing elements\n",
    "\n",
    "![](lagtime.png)\n"
   ]
  },
  {
   "cell_type": "markdown",
   "id": "21b3c776-d2d9-44e3-aa6d-43f2a4df5a8e",
   "metadata": {
    "jupyter": {
     "source_hidden": true
    }
   },
   "source": [
    ":::{note}\n",
    "HEC-HMS requires a lot of external (to the program) thinking and preparation. \n",
    "- Try to gather data reports before modeling if at all possible.\n",
    "- Keep a notebook handy to write down intermediate values as needed.\n",
    ":::"
   ]
  },
  {
   "cell_type": "raw",
   "id": "68274344-ea91-4fb6-b3a3-d1a0fc737838",
   "metadata": {},
   "source": [
    "Linear Quasi-Distributed Runoff Transform (ModClark) Model\n",
    "\n",
    "The Linear Quasi-Distributed Runoff Transform, commonly referred to as the ModClark model, is an advanced method for simulating the transformation of rainfall into runoff within a watershed. It is an extension of the Clark Unit Hydrograph method, integrating the concepts of spatial variability and distributed hydrologic response.\n",
    "Key Features:\n",
    "\n",
    "    Spatial Variability: Unlike traditional lumped models that treat the watershed as a single unit, the ModClark model incorporates spatial variability by dividing the watershed into multiple grid cells. Each grid cell has unique hydrologic properties, allowing for a more detailed and realistic representation of the watershed's response to rainfall.\n",
    "\n",
    "    Grid-Based Approach: The watershed is discretized into a grid, where each cell's excess rainfall is computed and routed to the watershed outlet. The routing is done using a combination of translation (movement of water from one cell to another) and storage (delays in flow due to channel and overland flow characteristics).\n",
    "\n",
    "    Rainfall Distribution: The ModClark model can account for non-uniform rainfall distribution across the watershed. This is particularly useful for large or complex watersheds where precipitation may vary significantly in space.\n",
    "\n",
    "    Time-Area Concept: The model employs a time-area histogram, similar to the Clark Unit Hydrograph method, to represent the travel time distribution of water from different parts of the watershed to the outlet. The time-area curve is derived from the grid structure and flow path characteristics.\n",
    "\n",
    "    Linear Reservoir Concept: The model uses a linear reservoir approach to simulate storage and attenuation effects. The linear reservoir coefficient and time of concentration are key parameters that influence the shape and timing of the runoff hydrograph.\n",
    "\n",
    "Applications:\n",
    "\n",
    "The ModClark model is particularly useful in situations where spatial variability in rainfall and watershed characteristics play a significant role in the runoff response. It is often used for:\n",
    "\n",
    "    Flood forecasting and floodplain management.\n",
    "    Urban hydrology, where impervious surfaces and drainage networks create complex runoff patterns.\n",
    "    Watershed management and planning, where detailed understanding of hydrologic processes is required.\n",
    "\n",
    "Advantages:\n",
    "\n",
    "    Enhanced Accuracy: By accounting for spatial variability and detailed hydrologic response, the ModClark model provides a more accurate representation of runoff generation and routing compared to lumped models.\n",
    "    Flexibility: The model can be adapted to various scales and complexities of watersheds, making it a versatile tool for hydrologists.\n",
    "\n",
    "Limitations:\n",
    "\n",
    "    Data Requirements: The model requires detailed spatial data for accurate representation, including grid-based rainfall, land cover, and topography.\n",
    "    Computational Demand: The grid-based approach and detailed routing can be computationally intensive, especially for large watersheds or long simulation periods.\n",
    "\n",
    "In summary, the ModClark model is a powerful tool for hydrologic modeling, offering a quasi-distributed approach that captures the spatial heterogeneity of watersheds and improves the accuracy of runoff predictions."
   ]
  },
  {
   "cell_type": "markdown",
   "id": "2a7d2bb4-4690-419f-92fd-c3c0fbac88d6",
   "metadata": {},
   "source": [
    "## End of File"
   ]
  },
  {
   "cell_type": "code",
   "execution_count": null,
   "id": "9675c414-6e6e-494e-b419-32d0c4f3f25a",
   "metadata": {},
   "outputs": [],
   "source": []
  },
  {
   "cell_type": "markdown",
   "id": "cf31286e-6d7e-467e-903d-b214519dfdcd",
   "metadata": {},
   "source": [
    "# 8.3 Storage"
   ]
  },
  {
   "cell_type": "markdown",
   "id": "312fae53-f460-4b8e-93a6-e2758e70a4f5",
   "metadata": {},
   "source": [
    "# 8.4 EPA-SWMM\n",
    "\n",
    "The [EPA Storm Water Management Model (SWMM)](https://www.epa.gov/water-research/storm-water-management-model-swmm#software%20and%20compatibility) is a comprehensive software tool developed by the U.S. Environmental Protection Agency for simulating the quantity and quality of stormwater runoff in urban areas. First developed in 1971, SWMM has become one of the most widely used models for planning, analyzing, and designing urban drainage systems, including storm sewers, combined sewers, and other conveyance systems. Its ability to simulate dynamic rainfall-runoff relationships, along with pollutant transport, makes it a key tool for engineers working on stormwater management, flood control, and water quality improvement projects.\n",
    "\n",
    "SWMM allows users to model the physical processes involved in stormwater runoff, including rainfall, infiltration, evaporation, and surface flow, as well as the behavior of drainage networks under varying conditions. The model supports continuous or event-based simulation, which enables long-term studies of stormwater systems under different climate conditions. Additionally, SWMM includes a variety of features for modeling green infrastructure practices such as permeable pavement, rain gardens, and green roofs, which are essential for sustainable stormwater management. Its versatility and ability to incorporate both conventional and innovative infrastructure make it an invaluable tool for engineers tasked with addressing complex urban water challenges.\n",
    "\n",
    "## Interface Tour\n",
    "\n",
    "### Example of a Minimal Model\n",
    "\n",
    "## Workshop\n",
    "\n",
    "### Junctions\n",
    "\n",
    "### Conduits\n",
    "\n",
    "### Catchments\n",
    "\n",
    "### Raingages\n"
   ]
  },
  {
   "cell_type": "markdown",
   "id": "199387b3-2e84-49b2-994e-c690e71fc90d",
   "metadata": {},
   "source": [
    "## SWMM Hydrology"
   ]
  },
  {
   "cell_type": "markdown",
   "id": "c9236b0d-b7c4-4050-9741-ee69daa1abd4",
   "metadata": {},
   "source": [
    "This section focuses on hydrological modeling using the Storm Water Management Model (SWMM), a widely used software tool for simulating rainfall-runoff processes in urban environments. Understanding the key hydrological concepts within SWMM is essential for adequately modeling stormwater systems, managing surface runoff, and designing urban drainage solutions.\n",
    "\n",
    "It reviews important hydrological principles such as rainfall-runoff generation and by examples demonstrates how each concept is modeled within SWMM.\n",
    "\n",
    "Upon completion you should have rudimentary understanding of:\n",
    "\n",
    "- How hydrological concepts are represented in SWMM; in particular how SWMM simplifies and structures complex hydrological processes, such as surface runoff generation, infiltration losses, and flow routing.\n",
    "\n",
    "- How to input data into SWMM: Using basic data inputs like rainfall, land use, and surface characteristics, the section demonstrates how to set up a model, showing what types of data are required and how they are incorporated into the software.\n",
    "\n",
    "- How to generate and interpret results: After running a SWMM simulation, the section demonstrates how to analyze the results, which typically include hydrographs, flow rates, and water quality data. It also covers how to interpret these outputs to make informed decisions regarding stormwater management.\n"
   ]
  },
  {
   "cell_type": "markdown",
   "id": "1ab71907-bd6c-4b8e-aa86-7ca2f3bd870f",
   "metadata": {},
   "source": [
    "## SWMM/Hydrology Review\n",
    "- Design Storms\n",
    "- Runoff Generation\n",
    "- Raingages \n",
    "- SWMM Conceptualization(s)\n",
    "- Catchment-to-Catchment Routing\n",
    "- SWMM Example"
   ]
  },
  {
   "cell_type": "markdown",
   "id": "557e0349-baa6-468e-92d6-409e14750680",
   "metadata": {},
   "source": [
    "## Design Storms\n",
    "- SCS Type-Curves\n",
    "- Other Dimensionlass Hyetographs\n",
    "- NOAA Atlas 14"
   ]
  },
  {
   "cell_type": "markdown",
   "id": "e5eb0350-ff43-409d-9b71-842841a0ba2f",
   "metadata": {
    "jp-MarkdownHeadingCollapsed": true
   },
   "source": [
    "### Runoff Generation\n",
    "\n",
    "- Proportional Model (Rational approximation)\n",
    "- NRCS CN Model\n",
    "- Horton Infiltration Excess Model\n",
    "- Green-Ampt Infiltration Excess Model"
   ]
  },
  {
   "cell_type": "markdown",
   "id": "1b61ae42-f130-430e-bf0c-8fe9fba87a0c",
   "metadata": {},
   "source": [
    "## Raingages\n",
    "\n",
    "- Using HEC-HMS to generate input\n",
    "- Manual entry\n",
    "- Elapsed Time versus Calendar/Clock Time\n"
   ]
  },
  {
   "cell_type": "markdown",
   "id": "f178a9f2-719b-46bb-a867-4be087c9f1dc",
   "metadata": {},
   "source": [
    "## SWMM Conceptualization(s)"
   ]
  },
  {
   "cell_type": "markdown",
   "id": "0f5c6817-4f2a-463c-8b0e-56c8172a13bb",
   "metadata": {},
   "source": [
    "## Catchment-to-Catchment Routing"
   ]
  },
  {
   "cell_type": "markdown",
   "id": "c63ad868-82c4-46d0-aae2-581c0449f507",
   "metadata": {},
   "source": [
    "## SWMM Example"
   ]
  },
  {
   "cell_type": "markdown",
   "id": "a2e67aab-cbd9-40f6-8eff-72d7b05148e2",
   "metadata": {},
   "source": [
    "## End of Section"
   ]
  },
  {
   "cell_type": "markdown",
   "id": "d1602ca0-c263-42c9-a837-a7173ca5b179",
   "metadata": {},
   "source": [
    "## End of Section"
   ]
  },
  {
   "cell_type": "markdown",
   "id": "db0e2ab2-5314-4b1e-8d75-7d8656ca41cc",
   "metadata": {},
   "source": [
    "## Section End"
   ]
  }
 ],
 "metadata": {
  "kernelspec": {
   "display_name": "Python Common Environment",
   "language": "python",
   "name": "python-my-env"
  },
  "language_info": {
   "codemirror_mode": {
    "name": "ipython",
    "version": 3
   },
   "file_extension": ".py",
   "mimetype": "text/x-python",
   "name": "python",
   "nbconvert_exporter": "python",
   "pygments_lexer": "ipython3",
   "version": "3.10.12"
  }
 },
 "nbformat": 4,
 "nbformat_minor": 5
}
