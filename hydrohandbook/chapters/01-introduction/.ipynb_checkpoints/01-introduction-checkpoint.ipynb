{
 "cells": [
  {
   "cell_type": "markdown",
   "id": "0afa1aef-8852-488f-81ef-96484e0f7d21",
   "metadata": {},
   "source": [
    "# 1. Introduction\n",
    "\n",
    ":::{admonition} Course Website\n",
    "[Link to Course Website](http://54.243.252.9/ce-3354-webroot/)\n",
    ":::"
   ]
  },
  {
   "cell_type": "markdown",
   "id": "7b2515b4-1dcb-437c-a3b5-42d51c00a8a8",
   "metadata": {
    "jp-MarkdownHeadingCollapsed": true
   },
   "source": [
    "---\n",
    "## Readings\n",
    "\n",
    "1. [Ojha, Chandra & Berndtsson, R. & Bhunya, P.K.. (2008). Engineering Hydrology. Chapter 1 (Local Copy from https://www.researchgate.net/publication/264895381_Engineering_hydrology)](http://54.243.252.9/ce-3354-webroot/3-Readings/EngineeringHydrology/EngineeringHydrology-11-33.pdf)  \n",
    "\n",
    "1. [Chow, V.T., Maidment, D.R., Mays, L.W., 1988, Applied Hydrology:  New York, McGraw-Hill. **pp. 1-12** ](http://54.243.252.9/ce-3354-webroot/3-Readings/CMM1988/Applied%20Hydrology%20VT%20Chow%201988.pdf) \n",
    "\n",
    "2. Brutsaert,  W.  2005.  Hydrology  :   An  Introduction  (8th  printing),  Cambridge  University Press. NewYork.\n",
    "\n",
    "3. [Dooge, J.C.I. 1973. Linear Theory of Hydrologic Systems. ARS Technical Bulletin No. 1468.US Department of Agriculture, Washington, D.C. **pp. 1-40**](http://54.243.252.9/ce-3354-webroot/3-Readings/LS1973/linear-systems-hydrology-dooge.pdf) \n",
    "\n",
    "4. [Richard H. McCuen, Peggy A. Johnson, Robert M. Ragan, 2002. Highway Hydrology; Hydraulic  Design  Series  Number  2,  Second  Edition.  Federal  Highway  Administration,  National Highway Institute, 4600 North Fairfax Drive, Suite 800, Arlington, Virginia 22203. **pp. 1-1 to 1-9**](http://54.243.252.9/ce-3354-webroot/3-Readings/FHWAHighwayHydrology/FHWA-NHI-02-001.pdf) \n",
    "\n",
    "5. [Definitions  from various sources](http://54.243.252.9/ce-3354-webroot/3-Readings/HydrologyDefinitions/hydrology-define.pdf)\n",
    "\n",
    "6. [Wisler, C.O, and Brater, E.F. 1949. \"Hydrology\" John Wiley and Sons, New York **pp. 1-14**](http://54.243.252.9/ce-3354-webroot/3-Readings/OlderHydrologyDescription/reading-definition-hydrology.pdf) \n",
    "\n",
    "7. [McCuen XXXX. Hydrologic Analysis and Design ... **pp. 2-12** ](http://54.243.252.9/ce-3354-webroot/3-Readings/McCuen-WaterBudget/mccuen-reading-water-budget.pdf)\n",
    "\n",
    "8. [Heath, R.C., 1983. Basic ground-waterhydrology: U.S. Geological Survey Water-SupplyPaper 2220, **pp. 1-5**](http://54.243.252.9/ce-3354-webroot/3-Readings/USGS-WSP2020-GroundwaterHydrology/usgs-wsp-2020.pdf) \n",
    "\n",
    "9. [Viessman,W., Knapp, J.W., Lewis, G. L., and Harbaugh, T.E. 1977. \"Groundwater Hydrology – Chapter 8\" in *Introduction to Hydrology* 2ed. IEP Publishers, New York, **pp. 291-342**](http://54.243.252.9/ce-3354-webroot/3-Readings/Groundwater-Viessman/GroundwaterHydrology.pdf) \n",
    "\n",
    "10. [Wisler, C.O, and Brater, E.F. 1949. \"Hydrology\" John Wiley and Sons, New York **pp. 198-272**](http://54.243.252.9/ce-3354-webroot/3-Readings/Groundwater-Wisler&Brater/Groundwater-Wisler.pdf) \n"
   ]
  },
  {
   "cell_type": "markdown",
   "id": "aaf8e764-34aa-4783-9c4a-803ddf8d715a",
   "metadata": {},
   "source": [
    "## Videos\n",
    "\n",
    "1. none\n"
   ]
  },
  {
   "cell_type": "markdown",
   "id": "2816be0c-a91d-4e8a-bfc4-8f8afec07974",
   "metadata": {},
   "source": [
    "<!--## Outline\n",
    "- Course Resources\n",
    "- Essential Knowledge, Skills, and Abilities for Practical Engineering Hydrology\n",
    "- Importance of Hydrology in Engineering\n",
    "- Hydrologic Cycle\n",
    "-->"
   ]
  },
  {
   "cell_type": "markdown",
   "id": "c55de703-9128-4e60-9939-dffc42175419",
   "metadata": {},
   "source": [
    "## Course Resources\n",
    "1. [Syllabus](http://54.243.252.9/ce-3354-webroot/0-Syllabus/)\n",
    "2. [Course Website](http://54.243.252.9/ce-3354-webroot/)"
   ]
  },
  {
   "cell_type": "markdown",
   "id": "5117d408-d0e6-4be2-a52a-75dc4e31a1eb",
   "metadata": {},
   "source": []
  },
  {
   "cell_type": "markdown",
   "id": "6598471d-e870-4c7c-b42f-e1262b607348",
   "metadata": {},
   "source": [
    "---\n",
    "\n",
    ":::{admonition} Essential Knowledge, Skills, and Abilities for Practical Engineering Hydrology\n",
    "\n",
    "ChatGPT 4.0 beta suggests the list below as the most important (highest probability in its database) topics in the currect practice of Hydrology and Hydraulics:\n",
    "\n",
    "- Hydrological Processes: Understanding of various hydrological processes such as precipitation, evaporation, infiltration, runoff, and groundwater flow.\n",
    "- Hydrological Models: Knowledge of hydrological modeling techniques including statistical methods, deterministic models, and numerical simulations.\n",
    "- Watershed Dynamics: Understanding of watershed characteristics, behavior, and dynamics.\n",
    "- Hydraulic Structures: Knowledge of design and function of hydraulic structures such as dams, weirs, culverts, channels, and stormwater management systems.\n",
    "- Hydrological Data Collection: Familiarity with methods for collecting and analyzing hydrological data, including gauge stations, streamflow measurements, and rainfall data.\n",
    "- GIS and Remote Sensing: Proficiency in Geographic Information Systems (GIS) and remote sensing techniques for spatial analysis and mapping of hydrological features.\n",
    "- Regulatory Requirements: Understanding of relevant regulations and guidelines governing water resources management and environmental protection.\n",
    "- Climate Change Impacts: Awareness of how climate change can affect hydrological processes and water resource management strategies.\n",
    "- Software Proficiency: Familiarity with hydrological modeling software such as HEC-HMS</font>, HEC-RAS, SWMM, and MODFLOW.\n",
    "- Erosion and Sediment Transport: Knowledge of erosion processes and sediment transport mechanisms in rivers and streams.\n",
    "\n",
    ":::\n",
    "\n",
    "<!-- When further questioned (by modifying the input prompt somewhat, and adjusting the \"temperature\" parameter in the prediction engine) six broad categories of essential skills a Civil Engineer needs to practice engineering hydrology are identified as:\n",
    "\n",
    "**1. Hydrological Analysis and Modeling**\n",
    "\n",
    "- Knowledge:Hydrological analysis and modeling are at the core of engineering hydrology. This involves understanding and simulating the water cycle, including rainfall, snowmelt, river flows, and groundwater movement. Hydrologists use complex mathematical models to predict how water moves through the environment. These models help in designing effective flood control systems, predicting droughts, and managing water supplies. By accurately simulating hydrological processes, engineers can plan for various scenarios and develop solutions that mitigate the impacts of extreme weather events.\n",
    "- Skills : Proficiency in using hydrological models (e.g. HEC-HMS,SWMM) to simulate water flow,precipitation, and runoff.\n",
    "- Ability : The ability to interpret model outouts regarding the movement, distribution, and quality of water within the Earth's atmosphere and surface to make informed decisions regarding water availability, managing water resources, and designing hydraulic structures.\n",
    "\n",
    "**2. Data Collection and Analysis**\n",
    "- Knowledge: In engineering hydrology, data is paramount. Hydrologists collect data from a variety of sources, such as weather stations that measure rainfall, stream gauges that monitor river levels, and remote sensing satellites that provide imagery of large areas. Once collected, this data needs to be meticulously analyzed to identify trends, understand patterns, and validate models. High-quality data analysis ensures that predictions and designs are based on reliable information, which is critical for making informed decisions about water management and infrastructure development.\n",
    "- Skills: Proficiency in gathering and analyzing data from various sources, such as weather stations, stream gauges, and remote sensing technologies.\n",
    "- Ability: The ability to manage and analyze large datasets including precipitation, streamflow, and soil moisture data in order to generate reliable inputs for understanding hydrological processes, validating models, and making informed decisions.\n",
    "\n",
    "**3. Understanding of Hydrological Processes**\n",
    "- Knowledge: A deep understanding of hydrological processes is essential for any hydrologist. This includes knowledge of how water interacts with the environment through processes like precipitation, evapotranspiration (the combination of evaporation and plant transpiration), infiltration into the soil, surface runoff, and groundwater flow. By understanding these processes, hydrologists can predict how changes in climate, land use, and vegetation will affect water availability and quality. This knowledge is crucial for developing strategies to manage water resources sustainably and protect against water-related hazards. Knowledge of fluid mechanics and hydraulic principles to design and evaluate water conveyance systems such as channels, culverts, and stormwater management systems. Knowledge of environmental regulations and guidelines related to water resources.\n",
    "- Skills:  Proficiency with tools such as HEC-RAS and SWMM for river and streamflow analysis.  Deep knowledge of processes like precipitation, evapotranspiration, infiltration, runoff, and groundwater flow.\n",
    "- Ability: Apply the knowledge to make informed predictions and and decisions under different environmental conditions. Conduct impact assesssments to evaluate the effects of projects on hydrological bejavior and aquatic ecosystems.\n",
    "\n",
    "**4. Geographical Information Systems (GIS) and Remote Sensing**\n",
    "- Knowledge: GIS and remote sensing technologies are powerful tools in the field of hydrology. GIS allows hydrologists to create detailed maps and spatial analyses that show how water moves across different landscapes. Remote sensing, on the other hand, provides data from satellites and aircraft that can monitor large and inaccessible areas. Together, these tools enable the study of watershed characteristics, land use impacts, and temporal changes in water bodies. They are essential for tasks such as flood mapping, drought assessment, and habitat conservation.\n",
    "- Skills: Using GIS and remote sensing tools to analyze spatial and temporal patterns in hydrology; delineate watersheds; construct digital elevation models (DEM) of watersheds; determine land cover type to inform hydrologic models.\n",
    "- <font color = 'red'>Ability: Apply the technology for mapping watersheds, analyzing land use impacts, and monitoring changes in water bodies.</font>\n",
    "\n",
    "**5. Computer Programming and Software Proficiency**\n",
    "- Knowledge: Modern hydrology relies heavily on computer programming and specialized software. Hydrologists use programming languages like Python, MATLAB, and R to develop custom models, automate data analysis, and perform complex simulations. Proficiency with hydrological software such as HEC-HMS (Hydrologic Modeling System), SWAT (Soil and Water Assessment Tool), MODFLOW (a groundwater flow model), and SWMM (Storm Water Management Model) and the EU and Asian equivalents is also essential. These tools allow for detailed analysis of hydrological systems and enable the integration of various data sources into cohesive models, enhancing the accuracy and efficiency of hydrological studies.\n",
    "- Skills: Programming skills and software proficiency to facilitate efficient data analysis, model customization, and automation of repetitive tasks.\n",
    "- Ability: Ability to use programming languages (like Python or MATLAB) and hydrological software (such as HEC-HMS, SWAT, or MODFLOW).  Use of tools to refactor data files to meet project and model needs, and prepare presentation exhibits for reports.\n",
    "\n",
    "\n",
    "**6. Project Management and Communication**\n",
    "- Knowledge: Hydrological projects require strong project management skills. This includes planning, organizing, and overseeing projects to ensure they are completed on time and within budget. Hydrologists must coordinate with other engineers, scientists, policymakers, and the community to achieve project goals. Effective communication is crucial, as hydrologists must present complex technical information in a clear and understandable manner to stakeholders. This ensures that the implications of their findings are understood and can inform decision-making processes, ultimately leading to better water management practices.\n",
    "- Skills: Competence in managing projects, including planning, budgeting, and coordinating with stakeholders, as well as effectively communicating findings.  Completion of assigned tasks in a timely fashion. \n",
    "- Ability: Apply project management principles so that hydrological studies and projects are completed on time and within budget.  Employ clear communication methods (presentations, reports, graphical exhibits) so that results are understood and used appropriately by decision-makers and the public.\n",
    "\n",
    "These 6 essential topics equip hydrologists to tackle the complex challenges of managing water resources in a sustainable and efficient manner.\n",
    "\n",
    "This course has a substantial emphasis on selected topics in categories 1-4; categories 5 and 6 are largely experience based; category 5 is also a moving target.   -->"
   ]
  },
  {
   "cell_type": "markdown",
   "id": "ffe1d9f4-45b1-48e8-bfc3-d1030fa2dbd0",
   "metadata": {},
   "source": [
    "## Importance of Hydrology in Engineering\n",
    "  - Hydrology in civil, environmental, and water resources engineering\n",
    "  - Role of hydrologists in design and management\n",
    "\n",
    "---"
   ]
  },
  {
   "cell_type": "markdown",
   "id": "efbdb812-bdec-437a-9bd4-ddef9b53ebc8",
   "metadata": {},
   "source": [
    "## The Hydrologic Cycle\n",
    "  - Precipitation, evaporation, infiltration, runoff, and groundwater flow\n",
    "  - Global and regional water balance"
   ]
  },
  {
   "cell_type": "markdown",
   "id": "83f35746-8f96-4b15-ba7c-405b5384c2de",
   "metadata": {},
   "source": [
    "## Hydrologic Cycle\n",
    "\n",
    "The water, or hydrologic, cycle describes the journey of water as water molecules make their way from the Earth’s surface to the atmosphere and back again, in some cases to below the surface. This gigantic system, powered by energy from the Sun, is a continuous exchange of moisture between the oceans, the atmosphere, and the land.\n",
    "A typical diagram depicting the hydrologic cycle is shown below.\n",
    "\n",
    "![](hydrologic_cycle.png)\n",
    "\n",
    "The driving force for the cycle is solar energy that provides the energy to vaporize liquid water that then rises into clouds, moves onshore, and rains (or snow, sleet, $\\dots$.  and other forms of <strong>precipitation</strong>)\n",
    "A portion of the rain becomes runoff, another portion returns to the atmosphere as evaporation, another portion infiltrates into the ground and becomes groundwater.\n",
    "\n",
    "A more detailed accounting of the precipitation is as follows:\n",
    "\n",
    "1. A portion known as interception is retained on buildings, vegetation, and other surfaces that eventually evaporates - the remaining quantity is called **effective precipitation**\n",
    "\n",
    ":::{note}\n",
    "Excess precipitation is a similar concept.  When discussing rainfall-runoff processes using some model (i.e. unit hydrograph methods), the quantity that becomes runoff is called excess precipitation.  The terms are frequently used interchangeably.\n",
    ":::\n",
    "\n",
    "2. Some of the effective precipitation also evaporates directly.\n",
    "3. Another portion of effective precipitation **infiltrates** into the ground - a portion of infiltrated water returns to the atmosphere via transpiration, the remainder either percolates deeper into the ground or is incorporated in the vegetative biomass.\n",
    "4. The water that percolates deeper into the ground becomes **recharge** to the groundwater system, and may appear at some point as **baseflow** in streams.\n",
    "5. If the precipitation exceeds the combined evaporation and infiltration puddles form in small depressions on the land surface - this is called depression storage.\n",
    "6. After the depressions are filled they join and a continuous film of water can begin to flow over the surface to a stream channel.  This portion that can flow is called the **excess precipitation** (see the note above), and the flow is called the **direct runoff**.\n",
    "7. Runoff occurs when the film of water begins to move - water in this film is said to be in **detention storage**, and evaporation occurs from this compartment too. When precipitation ceases, the water in detention storage eventually joins the stream channel.\n",
    "8. The destination of all streams is open bodies of water such as lakes, seas, and oceans which are subject to substantial evaporation.\n",
    "9. The evaporation and tanspiration from all these sources combine and carry moisture back into the atmosphere which condenses and repeats the cycle.\n"
   ]
  },
  {
   "cell_type": "markdown",
   "id": "ab379013-7661-41cd-9328-9d48c03c4536",
   "metadata": {},
   "source": [
    "---\n",
    "# Surface and Groundwater Hydrology Concepts\n",
    "\n",
    "## What is hydrology?\n",
    "- Study of the occurrence, circulation, storage, and distribution of surface and groundwater on the Earth.\n",
    "- Engineering hydrology is the quantification of amounts of water at various locations (spatially) as a function of time (temporally) for surface water applications.\n",
    "\n",
    "## What is a watershed (catchment)?\n",
    "Here are a couple of definitions of watersheds.\n",
    "\n",
    "- Topographic area that collects and discharges surface streamflow through one outlet or mouth (pour point)\n",
    "- The area on the surface of the Earth that drains to a specific location\n",
    "- In groundwater a similar concept is called a groundwater basin – only the boundaries can move depending on relative rates of recharge and discharge \n",
    "\n",
    "The topographic definition omits that there could be subsurface sewer systems that can cross topographic boundaries.   It’s a big deal in urban areas.\n",
    "\n",
    "## What is a hydrologic system?\n",
    "A hydrologic system is just a collection of parts that interact.   \n",
    " \n",
    "- A hydrologic system is simply the collection of connected components that form the <strong>hydrologic cycle</strong>\n",
    "- These components can be grouped into subsystems, treated separately, and the results combined according to interactions between the subsystems (CMM pg 5) \n",
    "\n",
    "Like in fluid mechanics, the system has boundaries (the control volume) and fluxes into/out of the boundaries.   \n",
    "The entire planet is usually considered a closed system (hydrologically) and only the energy fluxes cross the boundary.   \n",
    "At more practical scales (parking lot) the mass fluxes matter a lot.  \n",
    "\n",
    "<!-- ### What is the hydrologic cycle?\n",
    "Here is a typical diagram depicting the hydrologic cycle.  \n",
    "\n",
    "![](hydrologic_cycle.png)\n",
    "\n",
    "The driving force for the cycle (not shown) is solar energy that provides the energy to vaporize liquid water that then rises into clouds, moves onshore, and rains (or snow, sleet, $\\dots$.  and other forms of <strong>precipitation</strong>)\n",
    "A portion of the rain becomes runoff, another portion returns to the atmosphere as evaporation, another portion infiltrates into the ground and becomes groundwater.\n",
    "\n",
    "The surface water system would be the part of the diagram that lies above the plane defined by the ocean and infiltration line.\n",
    "The subsurface system is the part that is below this plane.\n",
    "\n",
    "Expressed as a simple system diagram it would be depicted in the figure below\n",
    "\n",
    "![](system_diagram.png) -->"
   ]
  },
  {
   "cell_type": "markdown",
   "id": "4217a5f1-89a7-42aa-95fb-d1b3db3f6305",
   "metadata": {},
   "source": [
    "---\n",
    "## Hydrologic Balance \n",
    "\n",
    "### Water Budget\n",
    "The water budget, or <strong>hydrologic balance</strong> is simply the expression of the conservation of mass in hydrologic terms for a hydrologic system.  \n",
    "Generally it is expressed as a rate (or volume) balance.\n",
    "The hydrologic equation is the fundamental tool in hydrology to describe amounts of water in storage in different compartments at different scales.  \n",
    "\n",
    "The equation expressed in “words” is\n",
    "\n",
    "Rate of inflow - Rate of outflow =  Rate of change of storage + Rate of internal mass generation.\n",
    "\n",
    "Symbolically it is exrepssed as:\n",
    "\n",
    "$$ \\frac{dI}{dt} - \\frac{dO}{dt} = \\frac{dS}{dt} + \\frac{dG}{dt}$$\n",
    "\n",
    "where\n",
    "\n",
    "$I$ is inflow volume, $O$ is outflow volume, $S$ is storage volume (i.e. within a watershed), and $G$ is generated volume.\n",
    "$G$ is generally zero, but is included to be consistent with the balance equations you have learned elsewhere (i.e. environmental engineering, chemistry, $\\dots$)"
   ]
  },
  {
   "cell_type": "markdown",
   "id": "6de63e05-1550-436e-bbff-7b02fe0ece8f",
   "metadata": {},
   "source": [
    "### Surface Hydrologic System\n",
    "\n",
    "Here is the surface water system broken into its own sub-system.\n",
    "\n",
    "![](surface_system_diagram.png)\n",
    "\n",
    "Notice the dashed line is the boundary – exactly like a control volume in fluids.\n",
    "\n",
    "### Surface Water Budget\n",
    "\n",
    "From the surface water system diagram, appropriate budget components are:\n",
    "\n",
    "- Inflows:  Rainfall; Surface water from outside boundary, recharge from Groundwater.\n",
    "- Outflows: Evapotranspiration; Surface water leaving boundary; Infiltration to groundwater.\n",
    "- Storage:  Water levels in lakes, rivers, ponds within the boundary; water stored on leaves and other surfaces."
   ]
  },
  {
   "cell_type": "markdown",
   "id": "99dcf6f2-dca2-4a24-9e70-788200712aa0",
   "metadata": {},
   "source": [
    "### Sub-surface Hydrologic System\n",
    "\n",
    "Here is the sub-surface water system broken into its own sub-system.\n",
    "\n",
    "![](subsurface_system_diagram.png)\n",
    "\n",
    "Notice the dashed line is the boundary – exactly like a control volume in fluids.\n",
    "\n",
    "### Sub-surface Water Budget\n",
    "\n",
    "From the sub-surface water system diagram, appropriate budget components are:\n",
    "\n",
    "- Inflows:  Groundwater flow from outside boundary; Recharge from surface system (via infiltration)\n",
    "- Outflows: Groundwater flow out of the boundary; Discharge (pumping; springs) to surface system\n",
    "- Storage:  Water levels in aquifers within the boundary"
   ]
  },
  {
   "cell_type": "markdown",
   "id": "ff1fb0da-6695-4638-8117-b775a7cbd6cb",
   "metadata": {},
   "source": [
    "### Combined Hydrologic System\n",
    "Here are the two systems “combined.”\n",
    "Communication is by the two shaded paths on the figure. \n",
    "\n",
    "![](combined_system_diagram.png)\n",
    "\n",
    "Loss from the surface system becomes gain to the ground system.\n",
    "Loss from the ground system becomes gain to the surface system."
   ]
  },
  {
   "cell_type": "markdown",
   "id": "0ea497d1-c7c5-4be0-998c-484216e72c85",
   "metadata": {},
   "source": [
    "## Water Budget Definition\n",
    "The water budget, or <strong>hydrologic balance</strong> is simply the expression of the conservation of mass in hydrologic terms for a hydrologic system.  \n",
    "Generally it is expressed as a rate (or volume) balance.\n",
    "The hydrologic equation is the fundamental tool in hydrology to describe amounts of water in storage in different compartments at different scales.  \n",
    "\n",
    "The equation expressed in “words” is\n",
    "\n",
    "Rate of inflow - Rate of outflow =  Rate of change of storage + Rate of internal mass generation.\n",
    "\n",
    "Symbolically it is exrepssed as:\n",
    "\n",
    "$$ \\frac{dI}{dt} - \\frac{dO}{dt} = \\frac{dS}{dt} + \\frac{dG}{dt}$$\n",
    "\n",
    "where\n",
    "\n",
    "$I$ is inflow volume, $O$ is outflow volume, $S$ is storage volume (i.e. within a watershed), and $G$ is generated volume.\n",
    "$G$ is generally zero, but is included to be consistent with the balance equations you have learned elsewhere (i.e. environmental engineering, chemistry, $\\dots$)"
   ]
  },
  {
   "cell_type": "markdown",
   "id": "8463b518-8ee2-4dd9-ad92-43ea800cbcf6",
   "metadata": {},
   "source": [
    "## Water Budget Example 1\n",
    "Consider the following problem statement:\n",
    "\n",
    "![](BetswyCoedPrstate.png)\n",
    "\n",
    "One way to answer the questions is to decompose the problem into a simpler construct, usually by sketching a diagram as shown below:\n",
    "\n",
    "![](BetswyCoedSketch.png)\n",
    "\n",
    "Now we can simply assign the terms to the appropriate parts of the water balance equation and solve for unknown components such as:\n",
    "\n",
    "![](BetswyCoedSolve1.png)\n",
    "\n",
    "For more utility we can use our Computational Thinking (ENGR-1330) skills and write a simple script to generalize the results and help with unit conversions"
   ]
  },
  {
   "cell_type": "code",
   "execution_count": 9,
   "id": "dd90ef2b-d6f3-453b-9ad7-7b742fbe94f7",
   "metadata": {},
   "outputs": [
    {
     "name": "stdout",
     "output_type": "stream",
     "text": [
      "Runoff =  149  watershed millimeters\n"
     ]
    }
   ],
   "source": [
    "# Water Budget Script - Example in WebBook\n",
    "P = 254 # millimeters of rainfall \n",
    "ET = 85 # millimeters of evapotranspiration\n",
    "I = 20 # millimeters of infiltration\n",
    "DeltaS = 0 # millimeters of storage change\n",
    "\n",
    "R = P - ET - I + DeltaS\n",
    "\n",
    "print(\"Runoff = \",round(R,3),' watershed millimeters')"
   ]
  },
  {
   "cell_type": "markdown",
   "id": "1fb846f2-7149-49c9-a704-717268befff3",
   "metadata": {},
   "source": [
    "Now to convert to other units as requested, we simply apply conversions as:"
   ]
  },
  {
   "cell_type": "code",
   "execution_count": 10,
   "id": "7c6576c6-a71c-442d-a409-d80bad4dc4be",
   "metadata": {},
   "outputs": [
    {
     "name": "stdout",
     "output_type": "stream",
     "text": [
      "Runoff =  9685000.0  cubic meters\n",
      "Runoff =  9685000000.0  liters\n"
     ]
    }
   ],
   "source": [
    "def mm2m(mm):\n",
    "    # convert mm into meters\n",
    "    mm2m = mm/1000.0 # mm should be a float\n",
    "    return(mm2m)\n",
    "\n",
    "def sqkm2sqm(sqkm):\n",
    "    # convert square kilometers into square meters\n",
    "    sqkm2sqm = sqkm * 1.0e06 # sqkm should be a float\n",
    "    return(sqkm2sqm)\n",
    "\n",
    "def cum2liter(cum):\n",
    "    # convert cubic meters into liters\n",
    "    cum2liter = cum*1000.0 # cum should be a float\n",
    "    return(cum2liter)\n",
    "\n",
    "# now express result in useful units\n",
    "area = 65 # area in sq. kilometers\n",
    "\n",
    "WholeWatershedRunoff = mm2m(R)*sqkm2sqm(area)\n",
    "\n",
    "print(\"Runoff = \",round(WholeWatershedRunoff,3),' cubic meters')\n",
    "\n",
    "print(\"Runoff = \",round(cum2liter(WholeWatershedRunoff),3),' liters')"
   ]
  },
  {
   "cell_type": "markdown",
   "id": "73721bd2-bd6f-4894-8f25-cbd4c72e8776",
   "metadata": {},
   "source": [
    "Now estimate largest population this hydrology could support"
   ]
  },
  {
   "cell_type": "code",
   "execution_count": 12,
   "id": "4f59bf9c-1126-4947-8ed1-7d9e26567d96",
   "metadata": {},
   "outputs": [
    {
     "name": "stdout",
     "output_type": "stream",
     "text": [
      "Maximum Population =  1008854.1666666666  if rainfall is firm\n"
     ]
    }
   ],
   "source": [
    "# Population supported at 160 L/day\n",
    "litersPerDayPerPerson = 160\n",
    "litersPer2months = litersPerDayPerPerson*2*30\n",
    "# Assume all Runoff is Run through kidneys and colons\n",
    "maxPeople = cum2liter(WholeWatershedRunoff)/litersPer2months\n",
    "print(\"Maximum Population = \",maxPeople,\" if rainfall is firm\")"
   ]
  },
  {
   "cell_type": "markdown",
   "id": "cfe6c36b-344e-4ac4-8efe-6005296eda57",
   "metadata": {},
   "source": [
    "---\n",
    "## Water Budget Example 2\n",
    "\n",
    "Consider the following problem statement:\n",
    "\n",
    "At a particular time the storage in a river reach is 55.3 acre-ft.  At that instant, the inflow to the  reach is 375 cfs and the outflow is 563 cfs.  Two hours later, the inflow the inflow to the  reach is 600 cfs and the outflow is 675 cfs.\n",
    "\n",
    "Estimate:\n",
    "- The change in storage over 2 hours.\n",
    "- The reach storage after 2 hours.\n",
    "\n",
    "Solution:\n",
    "\n",
    "### Sketch the Situation\n",
    "\n",
    "![](river-reaches.png)\n",
    "\n",
    "### Governing Principles\n",
    "\n",
    "Apply the water balance model:\n",
    "\n",
    "$$ \\frac{dI}{dt} - \\frac{dO}{dt} = \\frac{dS}{dt} + \\frac{dG}{dt}$$\n",
    "\n",
    "### Analysis/Solution\n",
    "\n",
    "Observe that there is no internal mass generated, so that term will vanish.  Discharge is changing over time, so we will have to choose how to cope with that, typically one chooses arithmetic means\n",
    "\n",
    "$$ \\frac{dI}{dt} = \\frac{375+600}{2} = 487.5~\\text{cfs} $$\n",
    "\n",
    "$$ \\frac{dO}{dt} = \\frac{563+675}{2} = 619~\\text{cfs} $$\n",
    "\n",
    "Now we substitute into the equation and solve for the storage rate of change\n",
    "\n",
    "$$ 487.5 - 619 = \\frac{dS}{dt} = -131.5~\\text{cfs}$$  \n",
    "\n",
    "Observe this is a rate!  We will need to \"integrate\" to recover actual change\n",
    "\n",
    "Now recover the estimated change in storage, and new storage value from the rate\n",
    "\n",
    "$$ \\Delta S = \\frac{dS}{dt} \\Delta t = -131.5~\\text{cfs} \\cdot 2~\\text{hrs} = -263~\\text{cfs-hr}$$  \n",
    "\n",
    "A little unit conversion\n",
    "\n",
    "$$ -263~\\text{cfs-hr} \\cdot \\frac{3600~\\text{sec}}{1~\\text{hr}} \\cdot \\frac{1~\\text{acre-ft}}{43,560~\\text{ft}^3} = -21.73~\\text{acre-ft}$$\n",
    "\n",
    "Then apply definition of $\\frac{dS}{dt} $ as\n",
    "\n",
    "$$\\frac{dS}{dt}~\\approx~\\frac{S_2-S_0}{\\Delta t}$$\n",
    "\n",
    "So the new storage volume is\n",
    "\n",
    "$$S_2=S_0+\\frac{dS}{dt} \\Delta t= S_0 + \\Delta S= 55.30 - 21.73 = 33.57~\\text{acre-ft}$$\n",
    "\n",
    "Now we can summarize the results\n",
    "\n",
    "|Value|Amount|Unit|\n",
    "|:---|---:|:---|\n",
    "|$\\Delta S$|-263|cfs-hr|\n",
    "|$S_2$|33.57|acre-ft|\n",
    "\n",
    "If we wish an ability to repeat such computations a lot (maybe we own the reach and want to charge our customers for water use) we could apply ENGR-1330 methods as below to explore different inflow and outflow conditions"
   ]
  },
  {
   "cell_type": "code",
   "execution_count": 6,
   "id": "f3eb1b90-58ed-419e-9997-3010749f09e2",
   "metadata": {
    "scrolled": true
   },
   "outputs": [
    {
     "name": "stdout",
     "output_type": "stream",
     "text": [
      "Begin Time 0  hours\n",
      "End Time 2  hours\n",
      "Inflow at Begin Time 375  cfs\n",
      "Inflow at End Time 600  cfs\n",
      "Outflow at Begin Time 563  cfs\n",
      "Outflow at End Time 675  cfs\n",
      "Storage at Begin Time 55.3  acre-feet\n",
      "Storage at End Time 33.56  acre-feet\n"
     ]
    }
   ],
   "source": [
    "# prototype function\n",
    "def newS(t0,t1,I0,I1,O0,O1,S0):\n",
    "    Ibar = 0.5*(I0 + I1)\n",
    "    Obar = 0.5*(O0 + O1)\n",
    "    dsdt = Ibar - Obar\n",
    "    dsdt = dsdt*3600/43560 # convert to correct units\n",
    "    deltat = t1-t0\n",
    "    DS   = dsdt*deltat\n",
    "    newS   = S0+DS\n",
    "    return(newS)\n",
    "# input values\n",
    "t0 = 0 # hrs\n",
    "t1 = 2 # hrs\n",
    "I0 = 375 # cfs\n",
    "I1 = 600 # cfs\n",
    "O0 = 563 # cfs\n",
    "O1 = 675 # cfs\n",
    "S0 = 55.3 # acre-ft\n",
    "# echo inputs\n",
    "print(\"Begin Time\",t0,\" hours\")\n",
    "print(\"End Time\",t1,\" hours\")\n",
    "print(\"Inflow at Begin Time\",I0,\" cfs\")\n",
    "print(\"Inflow at End Time\",I1,\" cfs\")\n",
    "print(\"Outflow at Begin Time\",O0,\" cfs\")\n",
    "print(\"Outflow at End Time\",O1,\" cfs\")\n",
    "print(\"Storage at Begin Time\",S0,\" acre-feet\")\n",
    "S1   = newS(t0,t1,I0,I1,O0,O1,S0) # get new storage\n",
    "# output results\n",
    "print(\"Storage at End Time\",round(S1,2),\" acre-feet\")"
   ]
  },
  {
   "cell_type": "markdown",
   "id": "e5b89c1f-d7ed-4015-bf78-fcca19d1733a",
   "metadata": {},
   "source": [
    "## Lab/Exercise: Simple water balance estimation using real-world data"
   ]
  },
  {
   "cell_type": "markdown",
   "id": "42db2fa2-36d3-40b8-a73b-2487af4ab5c7",
   "metadata": {},
   "source": []
  },
  {
   "cell_type": "markdown",
   "id": "888d8649-b599-4b2a-af5a-b759fffbd196",
   "metadata": {},
   "source": []
  },
  {
   "cell_type": "markdown",
   "id": "e6b2a1e0-1192-4e51-859a-26c9df6b2ba6",
   "metadata": {},
   "source": [
    "## Section End"
   ]
  }
 ],
 "metadata": {
  "kernelspec": {
   "display_name": "Python Common Environment",
   "language": "python",
   "name": "python-my-env"
  },
  "language_info": {
   "codemirror_mode": {
    "name": "ipython",
    "version": 3
   },
   "file_extension": ".py",
   "mimetype": "text/x-python",
   "name": "python",
   "nbconvert_exporter": "python",
   "pygments_lexer": "ipython3",
   "version": "3.10.12"
  }
 },
 "nbformat": 4,
 "nbformat_minor": 5
}
