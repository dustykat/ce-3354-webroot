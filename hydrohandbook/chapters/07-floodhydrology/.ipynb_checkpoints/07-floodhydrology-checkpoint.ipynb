{
 "cells": [
  {
   "cell_type": "markdown",
   "id": "b3a9a9ea-b052-4aa6-b313-dc711e89cae5",
   "metadata": {},
   "source": [
    "# 7. Flood Hydrology and Urban Hydrology\n"
   ]
  },
  {
   "cell_type": "markdown",
   "id": "5aa8fc1c-3dc3-42c3-95f3-918b681af098",
   "metadata": {},
   "source": []
  },
  {
   "cell_type": "markdown",
   "id": "1df22127-32d3-4ee1-b551-88f4812162c2",
   "metadata": {},
   "source": [
    "## Flood Estimation and Design Floods\n",
    "  - Flood frequency analysis (Log-Pearson Type III)\n",
    "  - Regional flood equations and statistical approaches\n",
    "\n",
    "## Urban Hydrology and Stormwater Management\n",
    "  - Effects of urbanization on runoff and flooding\n",
    "  - Green infrastructure and detention basins\n",
    "\n",
    "## Lab/Exercise: Estimating peak flow for a given return period"
   ]
  },
  {
   "cell_type": "markdown",
   "id": "245d2733-6553-40f9-83a4-36e914cbc5de",
   "metadata": {},
   "source": [
    "## Section End"
   ]
  }
 ],
 "metadata": {
  "kernelspec": {
   "display_name": "Python Common Environment",
   "language": "python",
   "name": "python-my-env"
  },
  "language_info": {
   "codemirror_mode": {
    "name": "ipython",
    "version": 3
   },
   "file_extension": ".py",
   "mimetype": "text/x-python",
   "name": "python",
   "nbconvert_exporter": "python",
   "pygments_lexer": "ipython3",
   "version": "3.10.12"
  }
 },
 "nbformat": 4,
 "nbformat_minor": 5
}
