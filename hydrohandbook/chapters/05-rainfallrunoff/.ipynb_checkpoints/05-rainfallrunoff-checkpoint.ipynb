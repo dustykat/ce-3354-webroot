{
 "cells": [
  {
   "cell_type": "markdown",
   "id": "97dac24b-4ea3-4d99-a92f-137e74265d71",
   "metadata": {},
   "source": [
    "# 5. Rainfall-Runoff Relationships\n",
    "\n"
   ]
  },
  {
   "cell_type": "markdown",
   "id": "bcd95c4e-decf-4560-91af-c3d11cf24627",
   "metadata": {},
   "source": []
  },
  {
   "cell_type": "markdown",
   "id": "aaa85925-f468-41cd-aedd-ad7a511bfa30",
   "metadata": {},
   "source": [
    "## Rational Method and SCS Curve Number (CN) Method\n",
    "  - Q = CiA and its applications\n",
    "  - Curve Number method and runoff estimation\n",
    "\n",
    "## Unit Hydrograph Theory\n",
    "  - Concept of hydrographs and peak flow estimation\n",
    "  - Synthetic vs. observed unit hydrographs\n",
    "\n",
    "## Lab/Exercise: Runoff estimation using Rational and CN methods"
   ]
  },
  {
   "cell_type": "markdown",
   "id": "ceae9074-8b5b-4165-86c3-cf5848083b17",
   "metadata": {},
   "source": [
    "## The Rational Method (Q = CiA)\n",
    "\n",
    "The Rational Method is one of the oldest and most widely used techniques in engineering hydrology to estimate peak runoff discharge from small watersheds, particularly in urban environments. It’s valued for its simplicity and direct application in drainage design.\n",
    "\n",
    "$$Q_p = C i A$$\n",
    "\n",
    "Where:\n",
    "\n",
    "- $Q_p$ = peak runoff rate (typically in cubic feet per second or cubic meters per second)<br>\n",
    "- $C$ = runoff coefficient (dimensionless)<br>\n",
    "- $i$= rainfall intensity (in/hr or mm/hr) for a duration equal to the time of concentration<br>\n",
    "- $A$ = drainage area (acres or hectares)<br>\n",
    "\n",
    "![](RationalImage.png)\n",
    "\n",
    "Key Applications\n",
    "1. Sizing storm sewers and culverts\n",
    "2. Designing detention basins for small developments (using Modified Rational Method)\n",
    "3. Estimating peak discharge for roadside ditches\n",
    "\n",
    "Assumptions and Limitations\n",
    "1. Assumes uniform rainfall over the area\n",
    "2. Most appropriate for small watersheds (< 200 acres or ~80 ha)\n",
    "3. The rainfall intensity must correspond to the time of concentration (Tc)\n",
    "\n",
    ":::{note}\n",
    "The rational method is most reliable when used for short-duration, high-intensity storms in urbanized watersheds with impervious surfaces.\n",
    ":::"
   ]
  },
  {
   "cell_type": "markdown",
   "id": "f1301484-d220-497a-98d5-87ec1827d134",
   "metadata": {},
   "source": [
    "## The SCS Curve Number (CN) Method\n",
    "\n",
    "The Curve Number Method was developed by the U.S. Soil Conservation Service (now NRCS), the Curve Number (CN) Method estimates direct runoff depth from rainfall events using empirical relationships based on land use, soil type, and hydrologic condition. It’s widely used in both rural and urban watershed modeling.\n",
    "\n",
    "The basic form of the method is:\n",
    "\n",
    "$$Q=\\frac{(P-I_a)^2}{(P-I_a+S)} \\text{    for   } P>I_a $$\n",
    "\n",
    "Where:\n",
    "- $Q$ = **depth** of direct runoff (in watershed inches or mm)\n",
    "- $P$ = **depth** of precipitation\n",
    "- $I_a$ = initial abstraction (default is $0.2 \\times S$)\n",
    "- $S$ = potential maximum retention (in) $S = \\frac{1000}{CN} - 10$\n",
    "- $CN$ = Curve Number, ranging from 30–100\n",
    "\n",
    "![](CNImage.png)\n",
    "\n",
    "### Curve Number Selection\n",
    "Curve numbers are determined from tables based on:\n",
    "1. Land use and cover (e.g., forest, grassland, urban)\n",
    "2. Soil group (A to D, from high to low infiltration capacity)\n",
    "3. Antecedent moisture conditions\n",
    "\n",
    "Key Applications\n",
    "1. Estimating runoff volumes for detention and retention pond sizing\n",
    "2. Used in watershed models like HEC-HMS, TR-55, and SWMM\n",
    "3. Common in floodplain analysis and stormwater permitting\n",
    "\n",
    ":::{note} \n",
    "The CN method is especially useful in moderate to large watersheds where land cover and soils vary across the basin.\n",
    ":::"
   ]
  },
  {
   "cell_type": "markdown",
   "id": "c00c3ee9-d937-4c6b-916e-fe4974a4e510",
   "metadata": {},
   "source": [
    "## Concept of Hydrographs and Peak Flow Estimation\n",
    "A hydrograph is a time series plot that shows how streamflow or discharge varies over time at a particular point in a watershed, typically following a rainfall event. It reflects the integrated response of a watershed to precipitation, modulated by surface and subsurface flow processes.\n",
    "\n",
    "![](HydrographImage.png)\n",
    "\n",
    "The idealized hydrograph (above) is divided into:\n",
    "- Rising limb: where discharge increases rapidly due to incoming runoff\n",
    "- Peak flow: the highest point of the hydrograph, representing the maximum discharge\n",
    "- Recession limb: the gradual decrease in flow as runoff and baseflow subside\n",
    "\n",
    "In engineering hydrology, peak flow estimation is crucial for:\n",
    "1. Designing culverts, bridges, detention ponds\n",
    "2. Urban drainage systems\n",
    "3. Flood risk assessments\n",
    "\n",
    "A Unit Hydrograph (UH) is a special type of hydrograph function that represents the response (in discharge) of a watershed to 1 inch (or 1 mm) of effective rainfall uniformly distributed over the basin for a specified duration.\n",
    "\n",
    ":::{note} \n",
    "Once a unit hydrograph is known, it can be scaled and convolved with rainfall excess to predict runoff hydrographs for any storm, allowing flexible design under varied rainfall conditions.\n",
    ":::"
   ]
  },
  {
   "cell_type": "markdown",
   "id": "05fe8ba1-6dc8-4631-88a7-7899286f5989",
   "metadata": {},
   "source": [
    "## Synthetic vs. Observed Unit Hydrographs\n",
    "Unit hydrographs can be derived in two principal ways:\n",
    "\n",
    "### Observed Unit Hydrographs\n",
    "These are generated from real rainfall-runoff events in gauged watersheds. They reflect the unique topography, land use, and hydrologic response of the basin.\n",
    "\n",
    "Advantages:\n",
    "- Highly accurate for the basin where they’re developed\n",
    "- Reflects actual watershed behavior\n",
    "\n",
    "Limitations:\n",
    "- Requires extensive rainfall and flow records\n",
    "- Difficult to generalize to other locations\n",
    "\n",
    "### Synthetic Unit Hydrographs\n",
    "\n",
    "Developed when direct streamflow data is unavailable. These hydrographs are estimated (synthesized) using relationships based on basin characteristics such as **area**, **slope**, and **stream length**. Well-known methods include:\n",
    "\n",
    "- Snyder’s Method\n",
    "- SCS Dimensionless Unit Hydrograph\n",
    "- Clark Method\n",
    "- USGS Regression Models\n",
    "\n",
    "Advantages:\n",
    "- Useful for ungauged watersheds\n",
    "- Quick and scalable across regions\n",
    "\n",
    "![](UnitHydrographImage.png)\n",
    "\n",
    "Limitations:\n",
    "- May oversimplify watershed behavior\n",
    "- Less accurate than observed hydrographs\n",
    "\n",
    ":::{note}\n",
    "Synthetic hydrographs are essential tools for design in data-scarce regions, especially during feasibility and early planning stages.\n",
    ":::"
   ]
  },
  {
   "cell_type": "markdown",
   "id": "d6430174-78bb-4c83-ab11-36d438006a41",
   "metadata": {},
   "source": [
    "## Section End"
   ]
  }
 ],
 "metadata": {
  "kernelspec": {
   "display_name": "Python Common Environment",
   "language": "python",
   "name": "python-my-env"
  },
  "language_info": {
   "codemirror_mode": {
    "name": "ipython",
    "version": 3
   },
   "file_extension": ".py",
   "mimetype": "text/x-python",
   "name": "python",
   "nbconvert_exporter": "python",
   "pygments_lexer": "ipython3",
   "version": "3.10.12"
  }
 },
 "nbformat": 4,
 "nbformat_minor": 5
}
