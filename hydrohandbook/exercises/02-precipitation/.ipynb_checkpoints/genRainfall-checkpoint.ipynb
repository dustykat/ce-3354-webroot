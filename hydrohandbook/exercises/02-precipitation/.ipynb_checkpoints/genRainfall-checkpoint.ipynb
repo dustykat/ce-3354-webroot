{
 "cells": [
  {
   "cell_type": "code",
   "execution_count": 2,
   "id": "760989b2-fc52-4132-b3f3-c4f177a94038",
   "metadata": {},
   "outputs": [
    {
     "name": "stdout",
     "output_type": "stream",
     "text": [
      "✅ File saved: generated_rainfall_data.csv\n"
     ]
    }
   ],
   "source": [
    "# Script to generate a simulated raingage datafile\n",
    "\n",
    "import pandas as pd\n",
    "from io import StringIO\n",
    "\n",
    "# Sample cumulative rainfall input (time in hours, depth in mm)\n",
    "sample_data = \"\"\"# Time Depth\n",
    "0.0 0.00\n",
    "3.9 1.20\n",
    "7.0 2.40\n",
    "10.0 3.00\n",
    "11.0 3.00\n",
    "\"\"\"\n",
    "\n",
    "# Read into DataFrame\n",
    "df = pd.read_csv(StringIO(sample_data), comment=\"#\", sep=r\"\\s+\", names=[\"time_hr\", \"depth_mm\"])\n",
    "\n",
    "# Convert time (hours) to datetime starting from a defined origin\n",
    "origin = pd.Timestamp(\"2025-01-01 00:00:00\")\n",
    "df[\"timestamp\"] = origin + pd.to_timedelta(df[\"time_hr\"], unit=\"h\")\n",
    "\n",
    "# Reorder columns for clarity\n",
    "df = df[[\"timestamp\", \"time_hr\", \"depth_mm\"]]\n",
    "\n",
    "# Save to external CSV file\n",
    "output_filename = \"generated_rainfall_data.csv\"\n",
    "df.to_csv(output_filename, index=False)\n",
    "\n",
    "print(f\"✅ File saved: {output_filename}\")"
   ]
  },
  {
   "cell_type": "code",
   "execution_count": 11,
   "id": "682da983-c0cf-4ea6-96ad-1eb35b84964c",
   "metadata": {},
   "outputs": [
    {
     "name": "stdout",
     "output_type": "stream",
     "text": [
      "['# Time Depth', '0.0 0.0', '2.0 0.02', '4.0 0.043', '6.0 0.072', '7.0 0.089', '8.0 0.115', '8.501 0.13', '9.0 0.148', '9.501 0.167', '9.75 0.178', '10.0 0.189', '10.501 0.216', '11.0 0.25', '11.501 0.298', '11.75 0.339', '12.0 0.5', '12.501 0.702', '13.6 0.751', '13.501 0.785', '14.0 0.811', '16.0 0.886', '20.0 0.957', '24.0 1.0', '25.0 1.0']\n",
      "0.0 2.0 0.0 0.02\n",
      "2.0 4.0 0.02 0.043\n",
      "4.0 6.0 0.043 0.072\n",
      "6.0 7.0 0.072 0.089\n",
      "7.0 8.0 0.089 0.115\n",
      "8.0 9.0 0.115 0.13\n",
      "9.0 9.0 0.13 0.148\n"
     ]
    },
    {
     "ename": "ZeroDivisionError",
     "evalue": "float division by zero",
     "output_type": "error",
     "traceback": [
      "\u001b[0;31m---------------------------------------------------------------------------\u001b[0m",
      "\u001b[0;31mZeroDivisionError\u001b[0m                         Traceback (most recent call last)",
      "Cell \u001b[0;32mIn[11], line 72\u001b[0m\n\u001b[1;32m     68\u001b[0m lines \u001b[38;5;241m=\u001b[39m sample_data\u001b[38;5;241m.\u001b[39mstrip()\u001b[38;5;241m.\u001b[39msplit(\u001b[38;5;124m\"\u001b[39m\u001b[38;5;130;01m\\n\u001b[39;00m\u001b[38;5;124m\"\u001b[39m)\n\u001b[1;32m     70\u001b[0m \u001b[38;5;28mprint\u001b[39m(lines)\n\u001b[0;32m---> 72\u001b[0m results \u001b[38;5;241m=\u001b[39m \u001b[43minterpolate_rainfall\u001b[49m\u001b[43m(\u001b[49m\u001b[43mlines\u001b[49m\u001b[43m)\u001b[49m\n\u001b[1;32m     74\u001b[0m \u001b[38;5;28;01mimport\u001b[39;00m \u001b[38;5;21;01mpandas\u001b[39;00m \u001b[38;5;28;01mas\u001b[39;00m \u001b[38;5;21;01mpd\u001b[39;00m\n\u001b[1;32m     75\u001b[0m df \u001b[38;5;241m=\u001b[39m pd\u001b[38;5;241m.\u001b[39mDataFrame(results, columns\u001b[38;5;241m=\u001b[39m[\u001b[38;5;124m\"\u001b[39m\u001b[38;5;124mTime (min)\u001b[39m\u001b[38;5;124m\"\u001b[39m, \u001b[38;5;124m\"\u001b[39m\u001b[38;5;124mInterpolated Value\u001b[39m\u001b[38;5;124m\"\u001b[39m])\n",
      "Cell \u001b[0;32mIn[11], line 27\u001b[0m, in \u001b[0;36minterpolate_rainfall\u001b[0;34m(input_lines)\u001b[0m\n\u001b[1;32m     25\u001b[0m v0, v1 \u001b[38;5;241m=\u001b[39m acc_wtd_value[i \u001b[38;5;241m-\u001b[39m \u001b[38;5;241m1\u001b[39m], acc_wtd_value[i]\n\u001b[1;32m     26\u001b[0m \u001b[38;5;28mprint\u001b[39m(t0,t1,v0,v1)\n\u001b[0;32m---> 27\u001b[0m slope \u001b[38;5;241m=\u001b[39m \u001b[43m(\u001b[49m\u001b[43mv1\u001b[49m\u001b[43m \u001b[49m\u001b[38;5;241;43m-\u001b[39;49m\u001b[43m \u001b[49m\u001b[43mv0\u001b[49m\u001b[43m)\u001b[49m\u001b[43m \u001b[49m\u001b[38;5;241;43m/\u001b[39;49m\u001b[43m \u001b[49m\u001b[43m(\u001b[49m\u001b[43mt1\u001b[49m\u001b[43m \u001b[49m\u001b[38;5;241;43m-\u001b[39;49m\u001b[43m \u001b[49m\u001b[43mt0\u001b[49m\u001b[43m)\u001b[49m\n\u001b[1;32m     29\u001b[0m rtime \u001b[38;5;241m=\u001b[39m t0\n\u001b[1;32m     30\u001b[0m \u001b[38;5;28;01mwhile\u001b[39;00m rtime \u001b[38;5;241m<\u001b[39m t1:\n",
      "\u001b[0;31mZeroDivisionError\u001b[0m: float division by zero"
     ]
    }
   ],
   "source": [
    "# Python port of FORTRAN program to interpolate rain/runoff data to 1-minute intervals\n",
    "\n",
    "def interpolate_rainfall(input_lines):\n",
    "    etime = []\n",
    "    acc_wtd_value = []\n",
    "\n",
    "    # Read and parse data\n",
    "    for line in input_lines:\n",
    "        line = line.strip()\n",
    "        if line.startswith(\"#\") or len(line.strip()) == 0:\n",
    "            continue\n",
    "        parts = line.split()\n",
    "        if len(parts) == 2:\n",
    "            etime.append(float(parts[0]))\n",
    "            acc_wtd_value.append(float(parts[1]))\n",
    "\n",
    "    # Round time to nearest whole minute\n",
    "    for i in range(1, len(etime)): \n",
    "        etime[i]=round(etime[i],0) # round to nearest whole number as float\n",
    "\n",
    "    # Interpolate values\n",
    "    interpolated = []\n",
    "    for i in range(1, len(etime)):\n",
    "        t0, t1 = etime[i - 1], etime[i]\n",
    "        v0, v1 = acc_wtd_value[i - 1], acc_wtd_value[i]\n",
    "        print(t0,t1,v0,v1)\n",
    "        slope = (v1 - v0) / (t1 - t0)\n",
    "\n",
    "        rtime = t0\n",
    "        while rtime < t1:\n",
    "            value = v0 + slope * (rtime - t0)\n",
    "            interpolated.append((round(rtime, 6), round(value, 6)))\n",
    "            rtime += 1.0\n",
    "\n",
    "    return interpolated\n",
    "\n",
    "\n",
    "if __name__ == \"__main__\":\n",
    "    # Example input: could be replaced with reading from a file\n",
    "    sample_data = \"\"\"# Time Depth\n",
    "0.0 0.0\n",
    "2.0 0.02\n",
    "4.0 0.043\n",
    "6.0 0.072\n",
    "7.0 0.089\n",
    "8.0 0.115\n",
    "8.501 0.13\n",
    "9.0 0.148\n",
    "9.501 0.167\n",
    "9.75 0.178\n",
    "10.0 0.189\n",
    "10.501 0.216\n",
    "11.0 0.25\n",
    "11.501 0.298\n",
    "11.75 0.339\n",
    "12.0 0.5\n",
    "12.501 0.702\n",
    "13.6 0.751\n",
    "13.501 0.785\n",
    "14.0 0.811\n",
    "16.0 0.886\n",
    "20.0 0.957\n",
    "24.0 1.0\n",
    "25.0 1.0\n",
    "\"\"\"\n",
    "# Remember to pad the data so last line is one minute more that actual last line of data\n",
    "\n",
    "    lines = sample_data.strip().split(\"\\n\")\n",
    "\n",
    "    print(lines)\n",
    "    \n",
    "    results = interpolate_rainfall(lines)\n",
    "\n",
    "    import pandas as pd\n",
    "    df = pd.DataFrame(results, columns=[\"Time (min)\", \"Interpolated Value\"])\n",
    "    df.to_csv(\"interpolated_output_TypeII.csv\", index=False)\n",
    "    print(\"Saved interpolated data to interpolated_output.csv\")\n",
    "    print(df)"
   ]
  },
  {
   "cell_type": "code",
   "execution_count": null,
   "id": "8b73163f-d662-4b6d-85d8-2cf1feb4af0f",
   "metadata": {},
   "outputs": [],
   "source": []
  }
 ],
 "metadata": {
  "kernelspec": {
   "display_name": "Python Common Environment",
   "language": "python",
   "name": "python-my-env"
  },
  "language_info": {
   "codemirror_mode": {
    "name": "ipython",
    "version": 3
   },
   "file_extension": ".py",
   "mimetype": "text/x-python",
   "name": "python",
   "nbconvert_exporter": "python",
   "pygments_lexer": "ipython3",
   "version": "3.10.12"
  }
 },
 "nbformat": 4,
 "nbformat_minor": 5
}
