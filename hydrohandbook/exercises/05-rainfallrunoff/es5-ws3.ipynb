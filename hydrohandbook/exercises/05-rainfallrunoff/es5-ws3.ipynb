{
 "cells": [
  {
   "cell_type": "code",
   "execution_count": 3,
   "id": "74830a5a-7196-4030-b714-aba62315fe79",
   "metadata": {},
   "outputs": [
    {
     "name": "stdout",
     "output_type": "stream",
     "text": [
      "NRCS Lag Equation\n",
      "Length: 500.00 feets\n",
      "Slope: 5.00 percent\n",
      "Retention Capacity: 0.50 inches\n",
      "Time of concentration: 0.08 hours\n"
     ]
    }
   ],
   "source": [
    "# NRCS Method Tools\n",
    "import matplotlib.pyplot as plt # in case we need to plot\n",
    "\n",
    "def nrcs_lag(L,Sr,Y):\n",
    "    term1 = (Sr+1.0)**(0.7)\n",
    "    term2 = 1140*Y**(0.5)\n",
    "    term3 = L**(0.8)\n",
    "    nrcs_lag = term3*term1/term2\n",
    "    return nrcs_lag\n",
    "    \n",
    "# Problem 3\n",
    "# NRCS Lag Equation\n",
    "length = 500 # feet given\n",
    "slope = 5 # percent given\n",
    "retention = 0.5 # inches given\n",
    "tc=nrcs_lag(length,retention,slope)\n",
    "print(\"NRCS Lag Equation\")\n",
    "print(f\"Length: {length:.2f} feets\")\n",
    "print(f\"Slope: {slope:.2f} percent\")\n",
    "print(f\"Retention Capacity: {retention:.2f} inches\")\n",
    "print(f\"Time of concentration: {tc:.2f} hours\")"
   ]
  },
  {
   "cell_type": "code",
   "execution_count": null,
   "id": "80a1c055-7a59-4b84-acd1-335ff3aa1b3a",
   "metadata": {},
   "outputs": [],
   "source": []
  }
 ],
 "metadata": {
  "kernelspec": {
   "display_name": "Python Common Environment",
   "language": "python",
   "name": "python-my-env"
  },
  "language_info": {
   "codemirror_mode": {
    "name": "ipython",
    "version": 3
   },
   "file_extension": ".py",
   "mimetype": "text/x-python",
   "name": "python",
   "nbconvert_exporter": "python",
   "pygments_lexer": "ipython3",
   "version": "3.10.12"
  }
 },
 "nbformat": 4,
 "nbformat_minor": 5
}
