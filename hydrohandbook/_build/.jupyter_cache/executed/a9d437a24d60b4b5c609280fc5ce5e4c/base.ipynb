{
 "cells": [
  {
   "cell_type": "code",
   "execution_count": 1,
   "id": "7617baec-ef3f-4c25-8263-5b979b0f9e40",
   "metadata": {},
   "outputs": [],
   "source": [
    "# Autobuild the exercise set for this section.\n",
    "import subprocess\n",
    "import os\n",
    "\n",
    "build_dir = \"/home/sensei/ce-3354-webroot/hydrohandbook/exercises/09-groundwater\"\n",
    "\n",
    "try:\n",
    "    subprocess.run(\n",
    "        [\"pdflatex\", \"ce3354-es9-2025-2.tex\"],\n",
    "        cwd=build_dir,\n",
    "        stdout=subprocess.DEVNULL, stderr=subprocess.DEVNULL,\n",
    "        check=True\n",
    "    )\n",
    "except subprocess.CalledProcessError:\n",
    "    print(\"Build failed. Check your LaTeX source file.\")\n",
    "except FileNotFoundError:\n",
    "    print(\"Directory not found:\", build_dir)"
   ]
  },
  {
   "cell_type": "code",
   "execution_count": null,
   "id": "a58a1f04-b28b-43a8-a61b-840b09642db2",
   "metadata": {},
   "outputs": [],
   "source": []
  }
 ],
 "metadata": {
  "kernelspec": {
   "display_name": "Python Common Environment",
   "language": "python",
   "name": "python-my-env"
  },
  "language_info": {
   "codemirror_mode": {
    "name": "ipython",
    "version": 3
   },
   "file_extension": ".py",
   "mimetype": "text/x-python",
   "name": "python",
   "nbconvert_exporter": "python",
   "pygments_lexer": "ipython3",
   "version": "3.10.12"
  }
 },
 "nbformat": 4,
 "nbformat_minor": 5
}