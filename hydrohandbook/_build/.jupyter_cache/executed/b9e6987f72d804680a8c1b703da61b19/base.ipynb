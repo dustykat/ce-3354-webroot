{
 "cells": [
  {
   "cell_type": "code",
   "execution_count": 1,
   "id": "822d1ea9-f661-49d7-8f05-add7ab4d16e5",
   "metadata": {},
   "outputs": [
    {
     "name": "stdout",
     "output_type": "stream",
     "text": [
      "This is pdfTeX, Version 3.141592653-2.6-1.40.22 (TeX Live 2022/dev/Debian) (preloaded format=pdflatex)\r\n",
      " restricted \\write18 enabled.\r\n"
     ]
    },
    {
     "name": "stdout",
     "output_type": "stream",
     "text": [
      "entering extended mode\r\n",
      "(./ce3354-eli5-2025-2-topic01.tex\r\n",
      "LaTeX2e <2021-11-15> patch level 1\r\n",
      "L3 programming layer <2022-01-21>"
     ]
    },
    {
     "name": "stdout",
     "output_type": "stream",
     "text": [
      "\r\n",
      "(/usr/share/texlive/texmf-dist/tex/latex/base/article.cls\r\n",
      "Document Class: article 2021/10/04 v1.4n Standard LaTeX document class\r\n",
      "(/usr/share/texlive/texmf-dist/tex/latex/base/size12.clo))\r\n",
      "(/usr/share/texlive/texmf-dist/tex/latex/geometry/geometry.sty\r\n",
      "(/usr/share/texlive/texmf-dist/tex/latex/graphics/keyval.sty)\r\n",
      "(/usr/share/texlive/texmf-dist/tex/generic/iftex/ifvtex.sty\r\n",
      "(/usr/share/texlive/texmf-dist/tex/generic/iftex/iftex.sty)))\r\n",
      "(/usr/share/texlive/texmf-dist/tex/latex/parskip/parskip.sty"
     ]
    },
    {
     "name": "stdout",
     "output_type": "stream",
     "text": [
      "\r\n",
      "(/usr/share/texlive/texmf-dist/tex/latex/kvoptions/kvoptions.sty\r\n",
      "(/usr/share/texlive/texmf-dist/tex/generic/ltxcmds/ltxcmds.sty)\r\n",
      "(/usr/share/texlive/texmf-dist/tex/generic/kvsetkeys/kvsetkeys.sty))\r\n",
      "(/usr/share/texlive/texmf-dist/tex/latex/etoolbox/etoolbox.sty))\r\n",
      "(/usr/share/texlive/texmf-dist/tex/latex/fancyhdr/fancyhdr.sty)\r\n",
      "(/usr/share/texlive/texmf-dist/tex/latex/lastpage/lastpage.sty)\r\n",
      "(/usr/share/texlive/texmf-dist/tex/latex/amsmath/amsmath.sty\r\n",
      "For additional information on amsmath, use the `?' option.\r\n",
      "(/usr/share/texlive/texmf-dist/tex/latex/amsmath/amstext.sty\r\n",
      "(/usr/share/texlive/texmf-dist/tex/latex/amsmath/amsgen.sty))\r\n",
      "(/usr/share/texlive/texmf-dist/tex/latex/amsmath/amsbsy.sty)"
     ]
    },
    {
     "name": "stdout",
     "output_type": "stream",
     "text": [
      "\r\n",
      "(/usr/share/texlive/texmf-dist/tex/latex/amsmath/amsopn.sty))\r\n",
      "(/usr/share/texlive/texmf-dist/tex/latex/amsfonts/amssymb.sty\r\n",
      "(/usr/share/texlive/texmf-dist/tex/latex/amsfonts/amsfonts.sty))\r\n",
      "(/usr/share/texlive/texmf-dist/tex/latex/graphics/graphicx.sty\r\n",
      "(/usr/share/texlive/texmf-dist/tex/latex/graphics/graphics.sty\r\n",
      "(/usr/share/texlive/texmf-dist/tex/latex/graphics/trig.sty)\r\n",
      "(/usr/share/texlive/texmf-dist/tex/latex/graphics-cfg/graphics.cfg)\r\n",
      "(/usr/share/texlive/texmf-dist/tex/latex/graphics-def/pdftex.def)))\r\n",
      "(/usr/share/texlive/texmf-dist/tex/latex/tools/longtable.sty)\r\n",
      "(/usr/share/texlive/texmf-dist/tex/latex/url/url.sty)"
     ]
    },
    {
     "name": "stdout",
     "output_type": "stream",
     "text": [
      "\r\n",
      "(/usr/share/texlive/texmf-dist/tex/latex/paralist/paralist.sty)\r\n",
      "(/usr/share/texlive/texmf-dist/tex/latex/natbib/natbib.sty)\r\n",
      "(/usr/share/texlive/texmf-dist/tex/latex/pdfpages/pdfpages.sty\r\n",
      "(/usr/share/texlive/texmf-dist/tex/latex/base/ifthen.sty)\r\n",
      "(/usr/share/texlive/texmf-dist/tex/latex/tools/calc.sty)\r\n",
      "(/usr/share/texlive/texmf-dist/tex/latex/eso-pic/eso-pic.sty\r\n",
      "(/usr/share/texlive/texmf-dist/tex/latex/xcolor/xcolor.sty\r\n",
      "(/usr/share/texlive/texmf-dist/tex/latex/graphics-cfg/color.cfg)))\r\n",
      "(/usr/share/texlive/texmf-dist/tex/latex/pdfpages/pppdftex.def))"
     ]
    },
    {
     "name": "stdout",
     "output_type": "stream",
     "text": [
      " (./daves.sty\r\n",
      "Dave's standard definitions: Last modified Friday, July 7, 1995.\r\n",
      ".....dbt changed footnote indentation\r\n",
      ".....dbt changed labels to arabic\r\n",
      ".....dbt included milestone charts\r\n",
      ") (/usr/share/texlive/texmf-dist/tex/latex/l3backend/l3backend-pdftex.def)\r\n",
      "(./ce3354-eli5-2025-2-topic01.aux)\r\n",
      "*geometry* driver: auto-detecting\r\n",
      "*geometry* detected driver: pdftex\r\n",
      "(/usr/share/texlive/texmf-dist/tex/context/base/mkii/supp-pdf.mkii\r\n",
      "[Loading MPS to PDF converter (version 2006.09.02).]\r\n",
      ") (/usr/share/texlive/texmf-dist/tex/latex/epstopdf-pkg/epstopdf-base.sty\r\n",
      "(/usr/share/texlive/texmf-dist/tex/latex/latexconfig/epstopdf-sys.cfg))\r\n",
      "(/usr/share/texlive/texmf-dist/tex/latex/pdflscape/pdflscape.sty\r\n",
      "(/usr/share/texlive/texmf-dist/tex/latex/graphics/lscape.sty))"
     ]
    },
    {
     "name": "stdout",
     "output_type": "stream",
     "text": [
      "\r\n",
      "(/usr/share/texlive/texmf-dist/tex/latex/amsfonts/umsa.fd)\r\n",
      "(/usr/share/texlive/texmf-dist/tex/latex/amsfonts/umsb.fd)\r\n",
      "Underfull \\hbox (badness 10000) in paragraph at lines 45--45\r\n",
      "[][]$\\OT1/cmtt/m/n/10 http : / / 54 . 243 . 252 . 9 / ce-[]3105-[]webroot / ce3\r\n",
      "105notes / _build / html / lessons / laboratory0 /\r\n",
      "\r\n",
      "AED: lastpage setting LastPage\r\n",
      "\r\n",
      "Package fancyhdr Warning: \\headheight is too small (12.0pt): \r\n",
      "(fancyhdr)                Make it at least 14.49998pt, for example:\r\n",
      "(fancyhdr)                \\setlength{\\headheight}{14.49998pt}.\r\n",
      "(fancyhdr)                You might also make \\topmargin smaller to compensate:\r\n",
      "\r\n",
      "(fancyhdr)                \\addtolength{\\topmargin}{-2.49998pt}.\r\n",
      "\r\n",
      "[1{/var/lib/texmf/fonts/map/pdftex/updmap/pdftex.map"
     ]
    },
    {
     "name": "stdout",
     "output_type": "stream",
     "text": [
      "}]\r\n",
      "(./ce3354-eli5-2025-2-topic01.aux) )\r\n",
      "(see the transcript file for additional information){/usr/share/texmf/fonts/enc\r\n",
      "/dvips/cm-super/cm-super-ts1.enc}</usr/share/texlive/texmf-dist/fonts/type1/pub\r\n",
      "lic/amsfonts/cm/cmbx12.pfb></usr/share/texlive/texmf-dist/fonts/type1/public/am\r\n",
      "sfonts/cm/cmr12.pfb></usr/share/texlive/texmf-dist/fonts/type1/public/amsfonts/\r\n",
      "cm/cmr7.pfb></usr/share/texlive/texmf-dist/fonts/type1/public/amsfonts/cm/cmr8.\r\n",
      "pfb></usr/share/texlive/texmf-dist/fonts/type1/public/amsfonts/cm/cmtt10.pfb></\r\n",
      "usr/share/texmf/fonts/type1/public/cm-super/sfrm1200.pfb>\r\n"
     ]
    },
    {
     "name": "stdout",
     "output_type": "stream",
     "text": [
      "Output written on ce3354-eli5-2025-2-topic01.pdf (1 page, 70939 bytes).\r\n",
      "Transcript written on ce3354-eli5-2025-2-topic01.log.\r\n"
     ]
    }
   ],
   "source": [
    "! pdflatex ce3354-eli5-2025-2-topic01.tex"
   ]
  },
  {
   "cell_type": "code",
   "execution_count": 2,
   "id": "c24a0d18-a124-4acf-b4f7-a83c0721ceee",
   "metadata": {
    "collapsed": true,
    "jupyter": {
     "outputs_hidden": true
    }
   },
   "outputs": [
    {
     "name": "stdout",
     "output_type": "stream",
     "text": [
      "This is pdfTeX, Version 3.141592653-2.6-1.40.22 (TeX Live 2022/dev/Debian) (preloaded format=pdflatex)\r\n",
      " restricted \\write18 enabled.\r\n"
     ]
    },
    {
     "name": "stdout",
     "output_type": "stream",
     "text": [
      "entering extended mode\r\n",
      "(./ce3354-eli5-2025-2-topic02.tex\r\n",
      "LaTeX2e <2021-11-15> patch level 1\r\n",
      "L3 programming layer <2022-01-21>\r\n",
      "(/usr/share/texlive/texmf-dist/tex/latex/base/article.cls\r\n",
      "Document Class: article 2021/10/04 v1.4n Standard LaTeX document class\r\n",
      "(/usr/share/texlive/texmf-dist/tex/latex/base/size12.clo))\r\n",
      "(/usr/share/texlive/texmf-dist/tex/latex/geometry/geometry.sty\r\n",
      "(/usr/share/texlive/texmf-dist/tex/latex/graphics/keyval.sty)\r\n",
      "(/usr/share/texlive/texmf-dist/tex/generic/iftex/ifvtex.sty"
     ]
    },
    {
     "name": "stdout",
     "output_type": "stream",
     "text": [
      "\r\n",
      "(/usr/share/texlive/texmf-dist/tex/generic/iftex/iftex.sty)))\r\n",
      "(/usr/share/texlive/texmf-dist/tex/latex/parskip/parskip.sty\r\n",
      "(/usr/share/texlive/texmf-dist/tex/latex/kvoptions/kvoptions.sty\r\n",
      "(/usr/share/texlive/texmf-dist/tex/generic/ltxcmds/ltxcmds.sty)\r\n",
      "(/usr/share/texlive/texmf-dist/tex/generic/kvsetkeys/kvsetkeys.sty))\r\n",
      "(/usr/share/texlive/texmf-dist/tex/latex/etoolbox/etoolbox.sty))\r\n",
      "(/usr/share/texlive/texmf-dist/tex/latex/fancyhdr/fancyhdr.sty)\r\n",
      "(/usr/share/texlive/texmf-dist/tex/latex/lastpage/lastpage.sty)\r\n",
      "(/usr/share/texlive/texmf-dist/tex/latex/amsmath/amsmath.sty\r\n",
      "For additional information on amsmath, use the `?' option.\r\n",
      "(/usr/share/texlive/texmf-dist/tex/latex/amsmath/amstext.sty\r\n",
      "(/usr/share/texlive/texmf-dist/tex/latex/amsmath/amsgen.sty))\r\n",
      "(/usr/share/texlive/texmf-dist/tex/latex/amsmath/amsbsy.sty)\r\n",
      "(/usr/share/texlive/texmf-dist/tex/latex/amsmath/amsopn.sty))\r\n",
      "(/usr/share/texlive/texmf-dist/tex/latex/amsfonts/amssymb.sty"
     ]
    },
    {
     "name": "stdout",
     "output_type": "stream",
     "text": [
      "\r\n",
      "(/usr/share/texlive/texmf-dist/tex/latex/amsfonts/amsfonts.sty))\r\n",
      "(/usr/share/texlive/texmf-dist/tex/latex/graphics/graphicx.sty\r\n",
      "(/usr/share/texlive/texmf-dist/tex/latex/graphics/graphics.sty\r\n",
      "(/usr/share/texlive/texmf-dist/tex/latex/graphics/trig.sty)\r\n",
      "(/usr/share/texlive/texmf-dist/tex/latex/graphics-cfg/graphics.cfg)\r\n",
      "(/usr/share/texlive/texmf-dist/tex/latex/graphics-def/pdftex.def)))\r\n",
      "(/usr/share/texlive/texmf-dist/tex/latex/tools/longtable.sty)\r\n",
      "(/usr/share/texlive/texmf-dist/tex/latex/url/url.sty)\r\n",
      "(/usr/share/texlive/texmf-dist/tex/latex/paralist/paralist.sty)\r\n",
      "(/usr/share/texlive/texmf-dist/tex/latex/natbib/natbib.sty)\r\n",
      "(/usr/share/texlive/texmf-dist/tex/latex/pdfpages/pdfpages.sty\r\n",
      "(/usr/share/texlive/texmf-dist/tex/latex/base/ifthen.sty)\r\n",
      "(/usr/share/texlive/texmf-dist/tex/latex/tools/calc.sty)\r\n",
      "(/usr/share/texlive/texmf-dist/tex/latex/eso-pic/eso-pic.sty\r\n",
      "(/usr/share/texlive/texmf-dist/tex/latex/xcolor/xcolor.sty\r\n",
      "(/usr/share/texlive/texmf-dist/tex/latex/graphics-cfg/color.cfg))"
     ]
    },
    {
     "name": "stdout",
     "output_type": "stream",
     "text": [
      ")\r\n",
      "(/usr/share/texlive/texmf-dist/tex/latex/pdfpages/pppdftex.def)) (./daves.sty\r\n",
      "Dave's standard definitions: Last modified Friday, July 7, 1995.\r\n",
      ".....dbt changed footnote indentation\r\n",
      ".....dbt changed labels to arabic\r\n",
      ".....dbt included milestone charts\r\n",
      ") (/usr/share/texlive/texmf-dist/tex/latex/l3backend/l3backend-pdftex.def)\r\n",
      "(./ce3354-eli5-2025-2-topic02.aux)\r\n",
      "*geometry* driver: auto-detecting\r\n",
      "*geometry* detected driver: pdftex\r\n",
      "(/usr/share/texlive/texmf-dist/tex/context/base/mkii/supp-pdf.mkii\r\n",
      "[Loading MPS to PDF converter (version 2006.09.02).]\r\n",
      ") (/usr/share/texlive/texmf-dist/tex/latex/epstopdf-pkg/epstopdf-base.sty\r\n",
      "(/usr/share/texlive/texmf-dist/tex/latex/latexconfig/epstopdf-sys.cfg))\r\n",
      "(/usr/share/texlive/texmf-dist/tex/latex/pdflscape/pdflscape.sty\r\n",
      "(/usr/share/texlive/texmf-dist/tex/latex/graphics/lscape.sty))\r\n",
      "(/usr/share/texlive/texmf-dist/tex/latex/amsfonts/umsa.fd)\r\n",
      "(/usr/share/texlive/texmf-dist/tex/latex/amsfonts/umsb.fd)\r\n",
      "Underfull \\hbox (badness 10000) in paragraph at lines 45--45\r\n",
      "[][]$\\OT1/cmtt/m/n/10 http : / / 54 . 243 . 252 . 9 / ce-[]3105-[]webroot / ce3\r\n",
      "105notes / _build / html / lessons / laboratory0 /\r\n",
      "\r\n",
      "AED: lastpage setting LastPage\r\n",
      "\r\n",
      "Package fancyhdr Warning: \\headheight is too small (12.0pt): \r\n",
      "(fancyhdr)                Make it at least 14.49998pt, for example:\r\n",
      "(fancyhdr)                \\setlength{\\headheight}{14.49998pt}.\r\n",
      "(fancyhdr)                You might also make \\topmargin smaller to compensate:\r\n",
      "\r\n",
      "(fancyhdr)                \\addtolength{\\topmargin}{-2.49998pt}.\r\n",
      "\r\n",
      "[1{/var/lib/texmf/fonts/map/pdftex/updmap/pdftex.map"
     ]
    },
    {
     "name": "stdout",
     "output_type": "stream",
     "text": [
      "}]\r\n",
      "(./ce3354-eli5-2025-2-topic02.aux) )\r\n",
      "(see the transcript file for additional information){/usr/share/texmf/fonts/enc\r\n",
      "/dvips/cm-super/cm-super-ts1.enc}</usr/share/texlive/texmf-dist/fonts/type1/pub\r\n",
      "lic/amsfonts/cm/cmbx12.pfb></usr/share/texlive/texmf-dist/fonts/type1/public/am\r\n",
      "sfonts/cm/cmr12.pfb></usr/share/texlive/texmf-dist/fonts/type1/public/amsfonts/\r\n",
      "cm/cmr7.pfb></usr/share/texlive/texmf-dist/fonts/type1/public/amsfonts/cm/cmr8.\r\n",
      "pfb></usr/share/texlive/texmf-dist/fonts/type1/public/amsfonts/cm/cmtt10.pfb></\r\n",
      "usr/share/texmf/fonts/type1/public/cm-super/sfrm1200.pfb>\r\n",
      "Output written on ce3354-eli5-2025-2-topic02.pdf (1 page, 70996 bytes).\r\n",
      "Transcript written on ce3354-eli5-2025-2-topic02.log.\r\n"
     ]
    }
   ],
   "source": [
    "! pdflatex ce3354-eli5-2025-2-topic02.tex"
   ]
  },
  {
   "cell_type": "code",
   "execution_count": 3,
   "id": "8a6dcacf-aa49-40cc-b2cb-92b98fe50cec",
   "metadata": {},
   "outputs": [
    {
     "name": "stdout",
     "output_type": "stream",
     "text": [
      "This is pdfTeX, Version 3.141592653-2.6-1.40.22 (TeX Live 2022/dev/Debian) (preloaded format=pdflatex)\r\n",
      " restricted \\write18 enabled.\r\n"
     ]
    },
    {
     "name": "stdout",
     "output_type": "stream",
     "text": [
      "entering extended mode\r\n",
      "(./ce3354-eli5-2025-2-topic03.tex\r\n",
      "LaTeX2e <2021-11-15> patch level 1\r\n",
      "L3 programming layer <2022-01-21>\r\n",
      "(/usr/share/texlive/texmf-dist/tex/latex/base/article.cls\r\n",
      "Document Class: article 2021/10/04 v1.4n Standard LaTeX document class\r\n",
      "(/usr/share/texlive/texmf-dist/tex/latex/base/size12.clo))\r\n",
      "(/usr/share/texlive/texmf-dist/tex/latex/geometry/geometry.sty\r\n",
      "(/usr/share/texlive/texmf-dist/tex/latex/graphics/keyval.sty)\r\n",
      "(/usr/share/texlive/texmf-dist/tex/generic/iftex/ifvtex.sty\r\n",
      "(/usr/share/texlive/texmf-dist/tex/generic/iftex/iftex.sty)))"
     ]
    },
    {
     "name": "stdout",
     "output_type": "stream",
     "text": [
      "\r\n",
      "(/usr/share/texlive/texmf-dist/tex/latex/parskip/parskip.sty\r\n",
      "(/usr/share/texlive/texmf-dist/tex/latex/kvoptions/kvoptions.sty\r\n",
      "(/usr/share/texlive/texmf-dist/tex/generic/ltxcmds/ltxcmds.sty)\r\n",
      "(/usr/share/texlive/texmf-dist/tex/generic/kvsetkeys/kvsetkeys.sty))\r\n",
      "(/usr/share/texlive/texmf-dist/tex/latex/etoolbox/etoolbox.sty))\r\n",
      "(/usr/share/texlive/texmf-dist/tex/latex/fancyhdr/fancyhdr.sty)\r\n",
      "(/usr/share/texlive/texmf-dist/tex/latex/lastpage/lastpage.sty)\r\n",
      "(/usr/share/texlive/texmf-dist/tex/latex/amsmath/amsmath.sty\r\n",
      "For additional information on amsmath, use the `?' option.\r\n",
      "(/usr/share/texlive/texmf-dist/tex/latex/amsmath/amstext.sty\r\n",
      "(/usr/share/texlive/texmf-dist/tex/latex/amsmath/amsgen.sty))\r\n",
      "(/usr/share/texlive/texmf-dist/tex/latex/amsmath/amsbsy.sty)\r\n",
      "(/usr/share/texlive/texmf-dist/tex/latex/amsmath/amsopn.sty))\r\n",
      "(/usr/share/texlive/texmf-dist/tex/latex/amsfonts/amssymb.sty\r\n",
      "(/usr/share/texlive/texmf-dist/tex/latex/amsfonts/amsfonts.sty))\r\n",
      "(/usr/share/texlive/texmf-dist/tex/latex/graphics/graphicx.sty"
     ]
    },
    {
     "name": "stdout",
     "output_type": "stream",
     "text": [
      "\r\n",
      "(/usr/share/texlive/texmf-dist/tex/latex/graphics/graphics.sty\r\n",
      "(/usr/share/texlive/texmf-dist/tex/latex/graphics/trig.sty)\r\n",
      "(/usr/share/texlive/texmf-dist/tex/latex/graphics-cfg/graphics.cfg)\r\n",
      "(/usr/share/texlive/texmf-dist/tex/latex/graphics-def/pdftex.def)))\r\n",
      "(/usr/share/texlive/texmf-dist/tex/latex/tools/longtable.sty)\r\n",
      "(/usr/share/texlive/texmf-dist/tex/latex/url/url.sty)\r\n",
      "(/usr/share/texlive/texmf-dist/tex/latex/paralist/paralist.sty)\r\n",
      "(/usr/share/texlive/texmf-dist/tex/latex/natbib/natbib.sty)\r\n",
      "(/usr/share/texlive/texmf-dist/tex/latex/pdfpages/pdfpages.sty\r\n",
      "(/usr/share/texlive/texmf-dist/tex/latex/base/ifthen.sty)\r\n",
      "(/usr/share/texlive/texmf-dist/tex/latex/tools/calc.sty)\r\n",
      "(/usr/share/texlive/texmf-dist/tex/latex/eso-pic/eso-pic.sty\r\n",
      "(/usr/share/texlive/texmf-dist/tex/latex/xcolor/xcolor.sty\r\n",
      "(/usr/share/texlive/texmf-dist/tex/latex/graphics-cfg/color.cfg)))\r\n",
      "(/usr/share/texlive/texmf-dist/tex/latex/pdfpages/pppdftex.def)"
     ]
    },
    {
     "name": "stdout",
     "output_type": "stream",
     "text": [
      ") (./daves.sty\r\n",
      "Dave's standard definitions: Last modified Friday, July 7, 1995.\r\n",
      ".....dbt changed footnote indentation\r\n",
      ".....dbt changed labels to arabic\r\n",
      ".....dbt included milestone charts\r\n",
      ") (/usr/share/texlive/texmf-dist/tex/latex/l3backend/l3backend-pdftex.def)\r\n",
      "(./ce3354-eli5-2025-2-topic03.aux)\r\n",
      "*geometry* driver: auto-detecting\r\n",
      "*geometry* detected driver: pdftex\r\n",
      "(/usr/share/texlive/texmf-dist/tex/context/base/mkii/supp-pdf.mkii\r\n",
      "[Loading MPS to PDF converter (version 2006.09.02).]\r\n",
      ") (/usr/share/texlive/texmf-dist/tex/latex/epstopdf-pkg/epstopdf-base.sty\r\n",
      "(/usr/share/texlive/texmf-dist/tex/latex/latexconfig/epstopdf-sys.cfg))\r\n",
      "(/usr/share/texlive/texmf-dist/tex/latex/pdflscape/pdflscape.sty\r\n",
      "(/usr/share/texlive/texmf-dist/tex/latex/graphics/lscape.sty))\r\n",
      "(/usr/share/texlive/texmf-dist/tex/latex/amsfonts/umsa.fd)\r\n",
      "(/usr/share/texlive/texmf-dist/tex/latex/amsfonts/umsb.fd)\r\n",
      "Underfull \\hbox (badness 10000) in paragraph at lines 45--45\r\n",
      "[][]$\\OT1/cmtt/m/n/10 http : / / 54 . 243 . 252 . 9 / ce-[]3105-[]webroot / ce3\r\n",
      "105notes / _build / html / lessons / laboratory0 /\r\n",
      "\r\n",
      "AED: lastpage setting LastPage\r\n",
      "\r\n",
      "Package fancyhdr Warning: \\headheight is too small (12.0pt): \r\n",
      "(fancyhdr)                Make it at least 14.49998pt, for example:\r\n",
      "(fancyhdr)                \\setlength{\\headheight}{14.49998pt}.\r\n",
      "(fancyhdr)                You might also make \\topmargin smaller to compensate:\r\n",
      "\r\n",
      "(fancyhdr)                \\addtolength{\\topmargin}{-2.49998pt}.\r\n",
      "\r\n",
      "[1{/var/lib/texmf/fonts/map/pdftex/updmap/pdftex.map"
     ]
    },
    {
     "name": "stdout",
     "output_type": "stream",
     "text": [
      "}]\r\n",
      "(./ce3354-eli5-2025-2-topic03.aux) )\r\n",
      "(see the transcript file for additional information){/usr/share/texmf/fonts/enc\r\n",
      "/dvips/cm-super/cm-super-ts1.enc}</usr/share/texlive/texmf-dist/fonts/type1/pub\r\n",
      "lic/amsfonts/cm/cmbx12.pfb></usr/share/texlive/texmf-dist/fonts/type1/public/am\r\n",
      "sfonts/cm/cmr12.pfb></usr/share/texlive/texmf-dist/fonts/type1/public/amsfonts/\r\n",
      "cm/cmr7.pfb></usr/share/texlive/texmf-dist/fonts/type1/public/amsfonts/cm/cmr8.\r\n",
      "pfb></usr/share/texlive/texmf-dist/fonts/type1/public/amsfonts/cm/cmtt10.pfb></\r\n",
      "usr/share/texmf/fonts/type1/public/cm-super/sfrm1200.pfb>\r\n",
      "Output written on ce3354-eli5-2025-2-topic03.pdf (1 page, 70824 bytes).\r\n",
      "Transcript written on ce3354-eli5-2025-2-topic03.log.\r\n"
     ]
    }
   ],
   "source": [
    "! pdflatex ce3354-eli5-2025-2-topic03.tex"
   ]
  },
  {
   "cell_type": "code",
   "execution_count": 4,
   "id": "dd42be33-1d83-4374-922b-9d78c61b8b28",
   "metadata": {},
   "outputs": [
    {
     "name": "stdout",
     "output_type": "stream",
     "text": [
      "This is pdfTeX, Version 3.141592653-2.6-1.40.22 (TeX Live 2022/dev/Debian) (preloaded format=pdflatex)\r\n",
      " restricted \\write18 enabled.\r\n"
     ]
    },
    {
     "name": "stdout",
     "output_type": "stream",
     "text": [
      "entering extended mode\r\n",
      "(./ce3354-eli5-2025-2-topic04.tex\r\n",
      "LaTeX2e <2021-11-15> patch level 1\r\n",
      "L3 programming layer <2022-01-21>\r\n",
      "(/usr/share/texlive/texmf-dist/tex/latex/base/article.cls\r\n",
      "Document Class: article 2021/10/04 v1.4n Standard LaTeX document class\r\n",
      "(/usr/share/texlive/texmf-dist/tex/latex/base/size12.clo))\r\n",
      "(/usr/share/texlive/texmf-dist/tex/latex/geometry/geometry.sty\r\n",
      "(/usr/share/texlive/texmf-dist/tex/latex/graphics/keyval.sty)\r\n",
      "(/usr/share/texlive/texmf-dist/tex/generic/iftex/ifvtex.sty\r\n",
      "(/usr/share/texlive/texmf-dist/tex/generic/iftex/iftex.sty))"
     ]
    },
    {
     "name": "stdout",
     "output_type": "stream",
     "text": [
      ")\r\n",
      "(/usr/share/texlive/texmf-dist/tex/latex/parskip/parskip.sty\r\n",
      "(/usr/share/texlive/texmf-dist/tex/latex/kvoptions/kvoptions.sty\r\n",
      "(/usr/share/texlive/texmf-dist/tex/generic/ltxcmds/ltxcmds.sty)\r\n",
      "(/usr/share/texlive/texmf-dist/tex/generic/kvsetkeys/kvsetkeys.sty))\r\n",
      "(/usr/share/texlive/texmf-dist/tex/latex/etoolbox/etoolbox.sty))\r\n",
      "(/usr/share/texlive/texmf-dist/tex/latex/fancyhdr/fancyhdr.sty)\r\n",
      "(/usr/share/texlive/texmf-dist/tex/latex/lastpage/lastpage.sty)\r\n",
      "(/usr/share/texlive/texmf-dist/tex/latex/amsmath/amsmath.sty\r\n",
      "For additional information on amsmath, use the `?' option.\r\n",
      "(/usr/share/texlive/texmf-dist/tex/latex/amsmath/amstext.sty\r\n",
      "(/usr/share/texlive/texmf-dist/tex/latex/amsmath/amsgen.sty))\r\n",
      "(/usr/share/texlive/texmf-dist/tex/latex/amsmath/amsbsy.sty)\r\n",
      "(/usr/share/texlive/texmf-dist/tex/latex/amsmath/amsopn.sty))\r\n",
      "(/usr/share/texlive/texmf-dist/tex/latex/amsfonts/amssymb.sty\r\n",
      "(/usr/share/texlive/texmf-dist/tex/latex/amsfonts/amsfonts.sty)"
     ]
    },
    {
     "name": "stdout",
     "output_type": "stream",
     "text": [
      ")\r\n",
      "(/usr/share/texlive/texmf-dist/tex/latex/graphics/graphicx.sty\r\n",
      "(/usr/share/texlive/texmf-dist/tex/latex/graphics/graphics.sty\r\n",
      "(/usr/share/texlive/texmf-dist/tex/latex/graphics/trig.sty)\r\n",
      "(/usr/share/texlive/texmf-dist/tex/latex/graphics-cfg/graphics.cfg)\r\n",
      "(/usr/share/texlive/texmf-dist/tex/latex/graphics-def/pdftex.def)))\r\n",
      "(/usr/share/texlive/texmf-dist/tex/latex/tools/longtable.sty)\r\n",
      "(/usr/share/texlive/texmf-dist/tex/latex/url/url.sty)\r\n",
      "(/usr/share/texlive/texmf-dist/tex/latex/paralist/paralist.sty)\r\n",
      "(/usr/share/texlive/texmf-dist/tex/latex/natbib/natbib.sty)\r\n",
      "(/usr/share/texlive/texmf-dist/tex/latex/pdfpages/pdfpages.sty\r\n",
      "(/usr/share/texlive/texmf-dist/tex/latex/base/ifthen.sty)\r\n",
      "(/usr/share/texlive/texmf-dist/tex/latex/tools/calc.sty)\r\n",
      "(/usr/share/texlive/texmf-dist/tex/latex/eso-pic/eso-pic.sty\r\n",
      "(/usr/share/texlive/texmf-dist/tex/latex/xcolor/xcolor.sty"
     ]
    },
    {
     "name": "stdout",
     "output_type": "stream",
     "text": [
      "\r\n",
      "(/usr/share/texlive/texmf-dist/tex/latex/graphics-cfg/color.cfg)))\r\n",
      "(/usr/share/texlive/texmf-dist/tex/latex/pdfpages/pppdftex.def)) (./daves.sty\r\n",
      "Dave's standard definitions: Last modified Friday, July 7, 1995.\r\n",
      ".....dbt changed footnote indentation\r\n",
      ".....dbt changed labels to arabic\r\n",
      ".....dbt included milestone charts\r\n",
      ") (/usr/share/texlive/texmf-dist/tex/latex/l3backend/l3backend-pdftex.def)\r\n",
      "(./ce3354-eli5-2025-2-topic04.aux)\r\n",
      "*geometry* driver: auto-detecting\r\n",
      "*geometry* detected driver: pdftex\r\n",
      "(/usr/share/texlive/texmf-dist/tex/context/base/mkii/supp-pdf.mkii\r\n",
      "[Loading MPS to PDF converter (version 2006.09.02).]\r\n",
      ") (/usr/share/texlive/texmf-dist/tex/latex/epstopdf-pkg/epstopdf-base.sty\r\n",
      "(/usr/share/texlive/texmf-dist/tex/latex/latexconfig/epstopdf-sys.cfg))\r\n",
      "(/usr/share/texlive/texmf-dist/tex/latex/pdflscape/pdflscape.sty\r\n",
      "(/usr/share/texlive/texmf-dist/tex/latex/graphics/lscape.sty))\r\n",
      "(/usr/share/texlive/texmf-dist/tex/latex/amsfonts/umsa.fd)\r\n",
      "(/usr/share/texlive/texmf-dist/tex/latex/amsfonts/umsb.fd)\r\n",
      "Underfull \\hbox (badness 10000) in paragraph at lines 45--45\r\n",
      "[][]$\\OT1/cmtt/m/n/10 http : / / 54 . 243 . 252 . 9 / ce-[]3105-[]webroot / ce3\r\n",
      "105notes / _build / html / lessons / laboratory0 /\r\n",
      "\r\n",
      "AED: lastpage setting LastPage\r\n",
      "\r\n",
      "Package fancyhdr Warning: \\headheight is too small (12.0pt): \r\n",
      "(fancyhdr)                Make it at least 14.49998pt, for example:\r\n",
      "(fancyhdr)                \\setlength{\\headheight}{14.49998pt}.\r\n",
      "(fancyhdr)                You might also make \\topmargin smaller to compensate:\r\n",
      "\r\n",
      "(fancyhdr)                \\addtolength{\\topmargin}{-2.49998pt}.\r\n",
      "\r\n",
      "[1{/var/lib/texmf/fonts/map/pdftex/updmap/pdftex.map"
     ]
    },
    {
     "name": "stdout",
     "output_type": "stream",
     "text": [
      "}]\r\n",
      "(./ce3354-eli5-2025-2-topic04.aux) )\r\n",
      "(see the transcript file for additional information){/usr/share/texmf/fonts/enc\r\n",
      "/dvips/cm-super/cm-super-ts1.enc}</usr/share/texlive/texmf-dist/fonts/type1/pub\r\n",
      "lic/amsfonts/cm/cmbx12.pfb></usr/share/texlive/texmf-dist/fonts/type1/public/am\r\n",
      "sfonts/cm/cmr12.pfb></usr/share/texlive/texmf-dist/fonts/type1/public/amsfonts/\r\n",
      "cm/cmr7.pfb></usr/share/texlive/texmf-dist/fonts/type1/public/amsfonts/cm/cmr8.\r\n",
      "pfb></usr/share/texlive/texmf-dist/fonts/type1/public/amsfonts/cm/cmtt10.pfb></\r\n",
      "usr/share/texmf/fonts/type1/public/cm-super/sfrm1200.pfb>\r\n"
     ]
    },
    {
     "name": "stdout",
     "output_type": "stream",
     "text": [
      "Output written on ce3354-eli5-2025-2-topic04.pdf (1 page, 71000 bytes).\r\n",
      "Transcript written on ce3354-eli5-2025-2-topic04.log.\r\n"
     ]
    }
   ],
   "source": [
    "! pdflatex ce3354-eli5-2025-2-topic04.tex"
   ]
  },
  {
   "cell_type": "code",
   "execution_count": 5,
   "id": "fb9ed00a-cbe5-438a-b4d4-f9e7745c7c0c",
   "metadata": {},
   "outputs": [
    {
     "name": "stdout",
     "output_type": "stream",
     "text": [
      "This is pdfTeX, Version 3.141592653-2.6-1.40.22 (TeX Live 2022/dev/Debian) (preloaded format=pdflatex)\r\n",
      " restricted \\write18 enabled.\r\n"
     ]
    },
    {
     "name": "stdout",
     "output_type": "stream",
     "text": [
      "entering extended mode\r\n",
      "(./ce3354-eli5-2025-2-topic05.tex\r\n",
      "LaTeX2e <2021-11-15> patch level 1\r\n",
      "L3 programming layer <2022-01-21>\r\n",
      "(/usr/share/texlive/texmf-dist/tex/latex/base/article.cls\r\n",
      "Document Class: article 2021/10/04 v1.4n Standard LaTeX document class\r\n",
      "(/usr/share/texlive/texmf-dist/tex/latex/base/size12.clo))\r\n",
      "(/usr/share/texlive/texmf-dist/tex/latex/geometry/geometry.sty\r\n",
      "(/usr/share/texlive/texmf-dist/tex/latex/graphics/keyval.sty)\r\n",
      "(/usr/share/texlive/texmf-dist/tex/generic/iftex/ifvtex.sty\r\n",
      "(/usr/share/texlive/texmf-dist/tex/generic/iftex/iftex.sty)))\r\n",
      "(/usr/share/texlive/texmf-dist/tex/latex/parskip/parskip.sty\r\n",
      "(/usr/share/texlive/texmf-dist/tex/latex/kvoptions/kvoptions.sty\r\n",
      "(/usr/share/texlive/texmf-dist/tex/generic/ltxcmds/ltxcmds.sty)\r\n",
      "(/usr/share/texlive/texmf-dist/tex/generic/kvsetkeys/kvsetkeys.sty)"
     ]
    },
    {
     "name": "stdout",
     "output_type": "stream",
     "text": [
      ")\r\n",
      "(/usr/share/texlive/texmf-dist/tex/latex/etoolbox/etoolbox.sty))\r\n",
      "(/usr/share/texlive/texmf-dist/tex/latex/fancyhdr/fancyhdr.sty)\r\n",
      "(/usr/share/texlive/texmf-dist/tex/latex/lastpage/lastpage.sty)\r\n",
      "(/usr/share/texlive/texmf-dist/tex/latex/amsmath/amsmath.sty\r\n",
      "For additional information on amsmath, use the `?' option.\r\n",
      "(/usr/share/texlive/texmf-dist/tex/latex/amsmath/amstext.sty\r\n",
      "(/usr/share/texlive/texmf-dist/tex/latex/amsmath/amsgen.sty))\r\n",
      "(/usr/share/texlive/texmf-dist/tex/latex/amsmath/amsbsy.sty)\r\n",
      "(/usr/share/texlive/texmf-dist/tex/latex/amsmath/amsopn.sty))\r\n",
      "(/usr/share/texlive/texmf-dist/tex/latex/amsfonts/amssymb.sty\r\n",
      "(/usr/share/texlive/texmf-dist/tex/latex/amsfonts/amsfonts.sty))\r\n",
      "(/usr/share/texlive/texmf-dist/tex/latex/graphics/graphicx.sty\r\n",
      "(/usr/share/texlive/texmf-dist/tex/latex/graphics/graphics.sty\r\n",
      "(/usr/share/texlive/texmf-dist/tex/latex/graphics/trig.sty)\r\n",
      "(/usr/share/texlive/texmf-dist/tex/latex/graphics-cfg/graphics.cfg)\r\n",
      "(/usr/share/texlive/texmf-dist/tex/latex/graphics-def/pdftex.def)))"
     ]
    },
    {
     "name": "stdout",
     "output_type": "stream",
     "text": [
      "\r\n",
      "(/usr/share/texlive/texmf-dist/tex/latex/tools/longtable.sty)\r\n",
      "(/usr/share/texlive/texmf-dist/tex/latex/url/url.sty)\r\n",
      "(/usr/share/texlive/texmf-dist/tex/latex/paralist/paralist.sty)\r\n",
      "(/usr/share/texlive/texmf-dist/tex/latex/natbib/natbib.sty)\r\n",
      "(/usr/share/texlive/texmf-dist/tex/latex/pdfpages/pdfpages.sty\r\n",
      "(/usr/share/texlive/texmf-dist/tex/latex/base/ifthen.sty)\r\n",
      "(/usr/share/texlive/texmf-dist/tex/latex/tools/calc.sty)\r\n",
      "(/usr/share/texlive/texmf-dist/tex/latex/eso-pic/eso-pic.sty\r\n",
      "(/usr/share/texlive/texmf-dist/tex/latex/xcolor/xcolor.sty\r\n",
      "(/usr/share/texlive/texmf-dist/tex/latex/graphics-cfg/color.cfg)))\r\n",
      "(/usr/share/texlive/texmf-dist/tex/latex/pdfpages/pppdftex.def)) (./daves.sty\r\n",
      "Dave's standard definitions: Last modified Friday, July 7, 1995.\r\n",
      ".....dbt changed footnote indentation\r\n",
      ".....dbt changed labels to arabic\r\n",
      ".....dbt included milestone charts\r\n",
      ") (/usr/share/texlive/texmf-dist/tex/latex/l3backend/l3backend-pdftex.def"
     ]
    },
    {
     "name": "stdout",
     "output_type": "stream",
     "text": [
      ")\r\n",
      "(./ce3354-eli5-2025-2-topic05.aux)\r\n",
      "*geometry* driver: auto-detecting\r\n",
      "*geometry* detected driver: pdftex\r\n",
      "(/usr/share/texlive/texmf-dist/tex/context/base/mkii/supp-pdf.mkii\r\n",
      "[Loading MPS to PDF converter (version 2006.09.02).]\r\n",
      ") (/usr/share/texlive/texmf-dist/tex/latex/epstopdf-pkg/epstopdf-base.sty\r\n",
      "(/usr/share/texlive/texmf-dist/tex/latex/latexconfig/epstopdf-sys.cfg))\r\n",
      "(/usr/share/texlive/texmf-dist/tex/latex/pdflscape/pdflscape.sty\r\n",
      "(/usr/share/texlive/texmf-dist/tex/latex/graphics/lscape.sty))\r\n",
      "(/usr/share/texlive/texmf-dist/tex/latex/amsfonts/umsa.fd)\r\n",
      "(/usr/share/texlive/texmf-dist/tex/latex/amsfonts/umsb.fd)\r\n",
      "Underfull \\hbox (badness 10000) in paragraph at lines 45--45\r\n",
      "[][]$\\OT1/cmtt/m/n/10 http : / / 54 . 243 . 252 . 9 / ce-[]3105-[]webroot / ce3\r\n",
      "105notes / _build / html / lessons / laboratory0 /\r\n",
      "\r\n",
      "AED: lastpage setting LastPage\r\n",
      "\r\n",
      "Package fancyhdr Warning: \\headheight is too small (12.0pt): \r\n",
      "(fancyhdr)                Make it at least 14.49998pt, for example:\r\n",
      "(fancyhdr)                \\setlength{\\headheight}{14.49998pt}.\r\n",
      "(fancyhdr)                You might also make \\topmargin smaller to compensate:\r\n",
      "\r\n",
      "(fancyhdr)                \\addtolength{\\topmargin}{-2.49998pt}.\r\n",
      "\r\n",
      "[1{/var/lib/texmf/fonts/map/pdftex/updmap/pdftex.map"
     ]
    },
    {
     "name": "stdout",
     "output_type": "stream",
     "text": [
      "}]\r\n",
      "(./ce3354-eli5-2025-2-topic05.aux) )\r\n",
      "(see the transcript file for additional information){/usr/share/texmf/fonts/enc\r\n",
      "/dvips/cm-super/cm-super-ts1.enc}</usr/share/texlive/texmf-dist/fonts/type1/pub\r\n",
      "lic/amsfonts/cm/cmbx12.pfb></usr/share/texlive/texmf-dist/fonts/type1/public/am\r\n",
      "sfonts/cm/cmr12.pfb></usr/share/texlive/texmf-dist/fonts/type1/public/amsfonts/\r\n",
      "cm/cmr7.pfb></usr/share/texlive/texmf-dist/fonts/type1/public/amsfonts/cm/cmr8.\r\n",
      "pfb></usr/share/texlive/texmf-dist/fonts/type1/public/amsfonts/cm/cmtt10.pfb></\r\n",
      "usr/share/texmf/fonts/type1/public/cm-super/sfrm1200.pfb>\r\n",
      "Output written on ce3354-eli5-2025-2-topic05.pdf (1 page, 71101 bytes).\r\n",
      "Transcript written on ce3354-eli5-2025-2-topic05.log.\r\n"
     ]
    }
   ],
   "source": [
    "! pdflatex ce3354-eli5-2025-2-topic05.tex"
   ]
  },
  {
   "cell_type": "code",
   "execution_count": 6,
   "id": "02a1e35b-8858-444e-907f-0f61988f9126",
   "metadata": {},
   "outputs": [
    {
     "name": "stdout",
     "output_type": "stream",
     "text": [
      "This is pdfTeX, Version 3.141592653-2.6-1.40.22 (TeX Live 2022/dev/Debian) (preloaded format=pdflatex)\r\n",
      " restricted \\write18 enabled.\r\n"
     ]
    },
    {
     "name": "stdout",
     "output_type": "stream",
     "text": [
      "entering extended mode\r\n",
      "(./ce3354-eli5-2025-2-topic06.tex\r\n",
      "LaTeX2e <2021-11-15> patch level 1\r\n",
      "L3 programming layer <2022-01-21>\r\n",
      "(/usr/share/texlive/texmf-dist/tex/latex/base/article.cls\r\n",
      "Document Class: article 2021/10/04 v1.4n Standard LaTeX document class\r\n",
      "(/usr/share/texlive/texmf-dist/tex/latex/base/size12.clo))\r\n",
      "(/usr/share/texlive/texmf-dist/tex/latex/geometry/geometry.sty\r\n",
      "(/usr/share/texlive/texmf-dist/tex/latex/graphics/keyval.sty)\r\n",
      "(/usr/share/texlive/texmf-dist/tex/generic/iftex/ifvtex.sty\r\n",
      "(/usr/share/texlive/texmf-dist/tex/generic/iftex/iftex.sty)))\r\n",
      "(/usr/share/texlive/texmf-dist/tex/latex/parskip/parskip.sty\r\n",
      "(/usr/share/texlive/texmf-dist/tex/latex/kvoptions/kvoptions.sty\r\n",
      "(/usr/share/texlive/texmf-dist/tex/generic/ltxcmds/ltxcmds.sty)\r\n",
      "(/usr/share/texlive/texmf-dist/tex/generic/kvsetkeys/kvsetkeys.sty))"
     ]
    },
    {
     "name": "stdout",
     "output_type": "stream",
     "text": [
      "\r\n",
      "(/usr/share/texlive/texmf-dist/tex/latex/etoolbox/etoolbox.sty))\r\n",
      "(/usr/share/texlive/texmf-dist/tex/latex/fancyhdr/fancyhdr.sty)\r\n",
      "(/usr/share/texlive/texmf-dist/tex/latex/lastpage/lastpage.sty)\r\n",
      "(/usr/share/texlive/texmf-dist/tex/latex/amsmath/amsmath.sty\r\n",
      "For additional information on amsmath, use the `?' option.\r\n",
      "(/usr/share/texlive/texmf-dist/tex/latex/amsmath/amstext.sty\r\n",
      "(/usr/share/texlive/texmf-dist/tex/latex/amsmath/amsgen.sty))\r\n",
      "(/usr/share/texlive/texmf-dist/tex/latex/amsmath/amsbsy.sty)\r\n",
      "(/usr/share/texlive/texmf-dist/tex/latex/amsmath/amsopn.sty))\r\n",
      "(/usr/share/texlive/texmf-dist/tex/latex/amsfonts/amssymb.sty\r\n",
      "(/usr/share/texlive/texmf-dist/tex/latex/amsfonts/amsfonts.sty))\r\n",
      "(/usr/share/texlive/texmf-dist/tex/latex/graphics/graphicx.sty\r\n",
      "(/usr/share/texlive/texmf-dist/tex/latex/graphics/graphics.sty\r\n",
      "(/usr/share/texlive/texmf-dist/tex/latex/graphics/trig.sty)\r\n",
      "(/usr/share/texlive/texmf-dist/tex/latex/graphics-cfg/graphics.cfg)\r\n",
      "(/usr/share/texlive/texmf-dist/tex/latex/graphics-def/pdftex.def)))\r\n",
      "(/usr/share/texlive/texmf-dist/tex/latex/tools/longtable.sty"
     ]
    },
    {
     "name": "stdout",
     "output_type": "stream",
     "text": [
      ")\r\n",
      "(/usr/share/texlive/texmf-dist/tex/latex/url/url.sty)\r\n",
      "(/usr/share/texlive/texmf-dist/tex/latex/paralist/paralist.sty)\r\n",
      "(/usr/share/texlive/texmf-dist/tex/latex/natbib/natbib.sty)\r\n",
      "(/usr/share/texlive/texmf-dist/tex/latex/pdfpages/pdfpages.sty\r\n",
      "(/usr/share/texlive/texmf-dist/tex/latex/base/ifthen.sty)\r\n",
      "(/usr/share/texlive/texmf-dist/tex/latex/tools/calc.sty)\r\n",
      "(/usr/share/texlive/texmf-dist/tex/latex/eso-pic/eso-pic.sty\r\n",
      "(/usr/share/texlive/texmf-dist/tex/latex/xcolor/xcolor.sty\r\n",
      "(/usr/share/texlive/texmf-dist/tex/latex/graphics-cfg/color.cfg)))\r\n",
      "(/usr/share/texlive/texmf-dist/tex/latex/pdfpages/pppdftex.def)) (./daves.sty\r\n",
      "Dave's standard definitions: Last modified Friday, July 7, 1995.\r\n",
      ".....dbt changed footnote indentation\r\n",
      ".....dbt changed labels to arabic\r\n",
      ".....dbt included milestone charts\r\n",
      ")"
     ]
    },
    {
     "name": "stdout",
     "output_type": "stream",
     "text": [
      " (/usr/share/texlive/texmf-dist/tex/latex/l3backend/l3backend-pdftex.def)\r\n",
      "(./ce3354-eli5-2025-2-topic06.aux)\r\n",
      "*geometry* driver: auto-detecting\r\n",
      "*geometry* detected driver: pdftex\r\n",
      "(/usr/share/texlive/texmf-dist/tex/context/base/mkii/supp-pdf.mkii\r\n",
      "[Loading MPS to PDF converter (version 2006.09.02).]\r\n",
      ") (/usr/share/texlive/texmf-dist/tex/latex/epstopdf-pkg/epstopdf-base.sty\r\n",
      "(/usr/share/texlive/texmf-dist/tex/latex/latexconfig/epstopdf-sys.cfg))\r\n",
      "(/usr/share/texlive/texmf-dist/tex/latex/pdflscape/pdflscape.sty\r\n",
      "(/usr/share/texlive/texmf-dist/tex/latex/graphics/lscape.sty))\r\n",
      "(/usr/share/texlive/texmf-dist/tex/latex/amsfonts/umsa.fd)\r\n",
      "(/usr/share/texlive/texmf-dist/tex/latex/amsfonts/umsb.fd)\r\n",
      "Underfull \\hbox (badness 10000) in paragraph at lines 45--45\r\n",
      "[][]$\\OT1/cmtt/m/n/10 http : / / 54 . 243 . 252 . 9 / ce-[]3105-[]webroot / ce3\r\n",
      "105notes / _build / html / lessons / laboratory0 /\r\n",
      "\r\n",
      "AED: lastpage setting LastPage\r\n",
      "\r\n",
      "Package fancyhdr Warning: \\headheight is too small (12.0pt): \r\n",
      "(fancyhdr)                Make it at least 14.49998pt, for example:\r\n",
      "(fancyhdr)                \\setlength{\\headheight}{14.49998pt}.\r\n",
      "(fancyhdr)                You might also make \\topmargin smaller to compensate:\r\n",
      "\r\n",
      "(fancyhdr)                \\addtolength{\\topmargin}{-2.49998pt}.\r\n",
      "\r\n",
      "[1{/var/lib/texmf/fonts/map/pdftex/updmap/pdftex.map"
     ]
    },
    {
     "name": "stdout",
     "output_type": "stream",
     "text": [
      "}]\r\n",
      "(./ce3354-eli5-2025-2-topic06.aux) )\r\n",
      "(see the transcript file for additional information){/usr/share/texmf/fonts/enc\r\n",
      "/dvips/cm-super/cm-super-ts1.enc}</usr/share/texlive/texmf-dist/fonts/type1/pub\r\n",
      "lic/amsfonts/cm/cmbx12.pfb></usr/share/texlive/texmf-dist/fonts/type1/public/am\r\n",
      "sfonts/cm/cmr12.pfb></usr/share/texlive/texmf-dist/fonts/type1/public/amsfonts/\r\n",
      "cm/cmr7.pfb></usr/share/texlive/texmf-dist/fonts/type1/public/amsfonts/cm/cmr8.\r\n",
      "pfb></usr/share/texlive/texmf-dist/fonts/type1/public/amsfonts/cm/cmtt10.pfb></\r\n",
      "usr/share/texmf/fonts/type1/public/cm-super/sfrm1200.pfb>\r\n",
      "Output written on ce3354-eli5-2025-2-topic06.pdf (1 page, 71017 bytes).\r\n",
      "Transcript written on ce3354-eli5-2025-2-topic06.log.\r\n"
     ]
    }
   ],
   "source": [
    "! pdflatex ce3354-eli5-2025-2-topic06.tex"
   ]
  }
 ],
 "metadata": {
  "kernelspec": {
   "display_name": "Python Common Environment",
   "language": "python",
   "name": "python-my-env"
  },
  "language_info": {
   "codemirror_mode": {
    "name": "ipython",
    "version": 3
   },
   "file_extension": ".py",
   "mimetype": "text/x-python",
   "name": "python",
   "nbconvert_exporter": "python",
   "pygments_lexer": "ipython3",
   "version": "3.10.12"
  }
 },
 "nbformat": 4,
 "nbformat_minor": 5
}