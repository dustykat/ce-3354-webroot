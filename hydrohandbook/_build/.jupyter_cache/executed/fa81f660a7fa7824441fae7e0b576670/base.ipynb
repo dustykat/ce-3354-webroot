{
 "cells": [
  {
   "cell_type": "code",
   "execution_count": 1,
   "id": "62e0e8d0-6c8c-4ee8-b40e-759a7f378685",
   "metadata": {
    "collapsed": true,
    "jupyter": {
     "outputs_hidden": true,
     "source_hidden": true
    }
   },
   "outputs": [
    {
     "name": "stdout",
     "output_type": "stream",
     "text": [
      "Mannings n :      0.013 --  \n",
      "    Depth  :      5.000 ft. \n",
      " Diameter  :      5.000 ft.\n",
      "    Slope  :      0.003 ft./ft.\n",
      "    Angle  :      3.142 radians\n",
      "      Area :     19.635 sq.ft.\n",
      " Perimeter :     15.708 ft.\n",
      " Discharge :    143.034 cu.ft./sec\n",
      "  Velocity :      7.285 ft/sec\n"
     ]
    }
   ],
   "source": [
    "# iPython Circular Mannings Calculator (Beware: No Error Checking!)\n",
    "########### INPUT VALUES ################\n",
    "manningsn = 0.013 # supply n value look up in a table\n",
    "depth = 5.0       # depth in feet\n",
    "diameter = 5.0    # culvert/outlet diameter in feet\n",
    "slope = 0.003     # culvert/outlet slope (feet/feet)\n",
    "########### MATH PACKAGE ################\n",
    "import math\n",
    "import sys\n",
    "########### CALCULATIONS ################\n",
    "angle = math.acos(1.0 - 2 * depth / diameter) \n",
    "area = (diameter**2)*(angle-math.sin(angle)*math.cos(angle))/4.0\n",
    "perimeter = angle*diameter\n",
    "radius = area/perimeter\n",
    "discharge = (1.49/manningsn)*area*(radius**(2/3))*math.sqrt(slope)\n",
    "velocity = discharge/area\n",
    "########### RESULTS ###############\n",
    "print(\"Mannings n : %10.3f --  \" %(manningsn))\n",
    "print(\"    Depth  : %10.3f ft. \" %(depth))\n",
    "print(\" Diameter  : %10.3f ft.\" %(diameter))\n",
    "print(\"    Slope  : %10.3f ft./ft.\" %(slope))\n",
    "print(\"    Angle  : %10.3f radians\" %(angle))\n",
    "print(\"      Area : %10.3f sq.ft.\" %(area))\n",
    "print(\" Perimeter : %10.3f ft.\" %(perimeter))\n",
    "print(\" Discharge : %10.3f cu.ft./sec\" %(discharge))\n",
    "print(\"  Velocity : %10.3f ft/sec\" %(velocity))"
   ]
  },
  {
   "cell_type": "code",
   "execution_count": 2,
   "id": "b2f1a510-97ce-4fce-b267-5a68b6cdbfa5",
   "metadata": {
    "collapsed": true,
    "jupyter": {
     "outputs_hidden": true,
     "source_hidden": true
    }
   },
   "outputs": [
    {
     "name": "stdout",
     "output_type": "stream",
     "text": [
      "           Orifice Coef :      0.574 --  \n",
      "                 Depth  :      7.000 ft. \n",
      "              Diameter  :      5.000 ft.\n",
      "Depth above centerline  :      9.500 ft.\n",
      "                   Area :     19.635 sq.ft.\n",
      "              Discharge :    278.770 cu.ft./sec\n",
      "               Velocity :     14.198 ft/sec\n"
     ]
    }
   ],
   "source": [
    "# iPython Orifice Calculator (Beware: No Error Checking!)\n",
    "########### INPUT VALUES ################\n",
    "coefficient = 0.574 # orifice coefficient (table lookup)\n",
    "depth = 7.0       # depth above top of orifice in feet\n",
    "diameter = 5.0    # orifice diameter in feet\n",
    "slope = 0.003     # culvert/outlet slope (feet/feet)\n",
    "########### MATH PACKAGE ################\n",
    "import math\n",
    "import sys\n",
    "########### CALCULATIONS ################\n",
    "if depth >= 0:\n",
    "    centerline = depth + diameter - 0.5*diameter\n",
    "    area = 0.25*math.pi*diameter**2\n",
    "    discharge = coefficient*area*math.sqrt(2.0*32.2*centerline)\n",
    "    velocity = discharge/area\n",
    "else:\n",
    "    print(\"not orifice flow\")\n",
    "    \n",
    "\n",
    "########### RESULTS ###############\n",
    "print(\"           Orifice Coef : %10.3f --  \" %(coefficient))\n",
    "print(\"                 Depth  : %10.3f ft. \" %(depth))\n",
    "print(\"              Diameter  : %10.3f ft.\" %(diameter))\n",
    "print(\"Depth above centerline  : %10.3f ft.\" %(centerline))\n",
    "print(\"                   Area : %10.3f sq.ft.\" %(area))\n",
    "print(\"              Discharge : %10.3f cu.ft./sec\" %(discharge))\n",
    "print(\"               Velocity : %10.3f ft/sec\" %(velocity))"
   ]
  },
  {
   "cell_type": "code",
   "execution_count": null,
   "id": "9675c414-6e6e-494e-b419-32d0c4f3f25a",
   "metadata": {},
   "outputs": [],
   "source": []
  }
 ],
 "metadata": {
  "kernelspec": {
   "display_name": "Python Common Environment",
   "language": "python",
   "name": "python-my-env"
  },
  "language_info": {
   "codemirror_mode": {
    "name": "ipython",
    "version": 3
   },
   "file_extension": ".py",
   "mimetype": "text/x-python",
   "name": "python",
   "nbconvert_exporter": "python",
   "pygments_lexer": "ipython3",
   "version": "3.10.12"
  }
 },
 "nbformat": 4,
 "nbformat_minor": 5
}