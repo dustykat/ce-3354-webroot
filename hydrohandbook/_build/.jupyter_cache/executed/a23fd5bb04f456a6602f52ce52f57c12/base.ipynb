{
 "cells": [
  {
   "cell_type": "code",
   "execution_count": 1,
   "id": "051c1a20-583c-4e2c-8222-1601f9e7db7d",
   "metadata": {},
   "outputs": [
    {
     "name": "stdout",
     "output_type": "stream",
     "text": [
      "This is pdfTeX, Version 3.141592653-2.6-1.40.22 (TeX Live 2022/dev/Debian) (preloaded format=pdflatex)\r\n",
      " restricted \\write18 enabled.\r\n"
     ]
    },
    {
     "name": "stdout",
     "output_type": "stream",
     "text": [
      "entering extended mode\r\n",
      "(./ce3354-es7-2025-2.tex\r\n",
      "LaTeX2e <2021-11-15> patch level 1\r\n",
      "L3 programming layer <2022-01-21>\r\n",
      "(/usr/share/texlive/texmf-dist/tex/latex/base/article.cls\r\n",
      "Document Class: article 2021/10/04 v1.4n Standard LaTeX document class\r\n",
      "(/usr/share/texlive/texmf-dist/tex/latex/base/size12.clo))\r\n",
      "(/usr/share/texlive/texmf-dist/tex/latex/geometry/geometry.sty\r\n",
      "(/usr/share/texlive/texmf-dist/tex/latex/graphics/keyval.sty)\r\n",
      "(/usr/share/texlive/texmf-dist/tex/generic/iftex/ifvtex.sty\r\n",
      "(/usr/share/texlive/texmf-dist/tex/generic/iftex/iftex.sty)))\r\n",
      "(/usr/share/texlive/texmf-dist/tex/latex/parskip/parskip.sty\r\n",
      "(/usr/share/texlive/texmf-dist/tex/latex/kvoptions/kvoptions.sty\r\n",
      "(/usr/share/texlive/texmf-dist/tex/generic/ltxcmds/ltxcmds.sty)\r\n",
      "(/usr/share/texlive/texmf-dist/tex/generic/kvsetkeys/kvsetkeys.sty)"
     ]
    },
    {
     "name": "stdout",
     "output_type": "stream",
     "text": [
      ")\r\n",
      "(/usr/share/texlive/texmf-dist/tex/latex/etoolbox/etoolbox.sty)) (./daves.sty\r\n",
      "Dave's standard definitions: Last modified Friday, July 7, 1995.\r\n",
      ".....dbt changed footnote indentation\r\n",
      ".....dbt changed labels to arabic\r\n",
      ".....dbt included milestone charts\r\n",
      ") (/usr/share/texlive/texmf-dist/tex/latex/fancyhdr/fancyhdr.sty)\r\n",
      "(/usr/share/texlive/texmf-dist/tex/latex/natbib/natbib.sty)\r\n",
      "(/usr/share/texlive/texmf-dist/tex/latex/graphics/graphicx.sty\r\n",
      "(/usr/share/texlive/texmf-dist/tex/latex/graphics/graphics.sty\r\n",
      "(/usr/share/texlive/texmf-dist/tex/latex/graphics/trig.sty)\r\n",
      "(/usr/share/texlive/texmf-dist/tex/latex/graphics-cfg/graphics.cfg)\r\n",
      "(/usr/share/texlive/texmf-dist/tex/latex/graphics-def/pdftex.def)))\r\n",
      "(/usr/share/texlive/texmf-dist/tex/latex/tools/dcolumn.sty\r\n",
      "(/usr/share/texlive/texmf-dist/tex/latex/tools/array.sty))\r\n",
      "(/usr/share/texlive/texmf-dist/tex/latex/amsmath/amsmath.sty\r\n",
      "For additional information on amsmath, use the `?' option.\r\n",
      "(/usr/share/texlive/texmf-dist/tex/latex/amsmath/amstext.sty\r\n",
      "(/usr/share/texlive/texmf-dist/tex/latex/amsmath/amsgen.sty))\r\n",
      "(/usr/share/texlive/texmf-dist/tex/latex/amsmath/amsbsy.sty)\r\n",
      "(/usr/share/texlive/texmf-dist/tex/latex/amsmath/amsopn.sty))"
     ]
    },
    {
     "name": "stdout",
     "output_type": "stream",
     "text": [
      "\r\n",
      "(/usr/share/texlive/texmf-dist/tex/latex/lastpage/lastpage.sty)\r\n",
      "(/usr/share/texlive/texmf-dist/tex/latex/url/url.sty)\r\n",
      "(/usr/share/texlive/texmf-dist/tex/latex/amsfonts/amssymb.sty\r\n",
      "(/usr/share/texlive/texmf-dist/tex/latex/amsfonts/amsfonts.sty))\r\n",
      "(/usr/share/texlive/texmf-dist/tex/latex/epstopdf-pkg/epstopdf.sty\r\n",
      "(/usr/share/texlive/texmf-dist/tex/generic/infwarerr/infwarerr.sty)\r\n",
      "(/usr/share/texlive/texmf-dist/tex/latex/grfext/grfext.sty\r\n",
      "(/usr/share/texlive/texmf-dist/tex/generic/kvdefinekeys/kvdefinekeys.sty))\r\n",
      "(/usr/share/texlive/texmf-dist/tex/generic/pdftexcmds/pdftexcmds.sty)\r\n",
      "(/usr/share/texlive/texmf-dist/tex/latex/epstopdf-pkg/epstopdf-base.sty\r\n",
      "(/usr/share/texlive/texmf-dist/tex/latex/latexconfig/epstopdf-sys.cfg)))\r\n",
      "(/usr/share/texlive/texmf-dist/tex/latex/tools/longtable.sty)\r\n",
      "(/usr/share/texlive/texmf-dist/tex/latex/pdfpages/pdfpages.sty\r\n",
      "(/usr/share/texlive/texmf-dist/tex/latex/base/ifthen.sty)\r\n",
      "(/usr/share/texlive/texmf-dist/tex/latex/tools/calc.sty)\r\n",
      "(/usr/share/texlive/texmf-dist/tex/latex/eso-pic/eso-pic.sty\r\n",
      "(/usr/share/texlive/texmf-dist/tex/latex/xcolor/xcolor.sty\r\n",
      "(/usr/share/texlive/texmf-dist/tex/latex/graphics-cfg/color.cfg)"
     ]
    },
    {
     "name": "stdout",
     "output_type": "stream",
     "text": [
      "))\r\n",
      "(/usr/share/texlive/texmf-dist/tex/latex/pdfpages/pppdftex.def))\r\n",
      "(/usr/share/texlive/texmf-dist/tex/latex/l3backend/l3backend-pdftex.def)\r\n",
      "(./ce3354-es7-2025-2.aux)\r\n",
      "*geometry* driver: auto-detecting\r\n",
      "*geometry* detected driver: pdftex\r\n",
      "(/usr/share/texlive/texmf-dist/tex/context/base/mkii/supp-pdf.mkii\r\n",
      "[Loading MPS to PDF converter (version 2006.09.02).]\r\n",
      ") (/usr/share/texlive/texmf-dist/tex/latex/pdflscape/pdflscape.sty\r\n",
      "(/usr/share/texlive/texmf-dist/tex/latex/graphics/lscape.sty))\r\n",
      "\r\n",
      "LaTeX Warning: `!h' float specifier changed to `!ht'.\r\n",
      "\r\n",
      "\r\n",
      "Package fancyhdr Warning: \\headheight is too small (12.0pt): \r\n",
      "(fancyhdr)                Make it at least 14.49998pt, for example:\r\n",
      "(fancyhdr)                \\setlength{\\headheight}{14.49998pt}.\r\n",
      "(fancyhdr)                You might also make \\topmargin smaller to compensate:\r\n",
      "\r\n",
      "(fancyhdr)                \\addtolength{\\topmargin}{-2.49998pt}.\r\n",
      "\r\n",
      "[1{/var/lib/texmf/fonts/map/pdftex/updmap/pdftex.map"
     ]
    },
    {
     "name": "stdout",
     "output_type": "stream",
     "text": [
      "}]\r\n",
      "\r\n",
      "Package fancyhdr Warning: \\headheight is too small (12.0pt): \r\n",
      "(fancyhdr)                Make it at least 14.49998pt, for example:\r\n",
      "(fancyhdr)                \\setlength{\\headheight}{14.49998pt}.\r\n",
      "(fancyhdr)                You might also make \\topmargin smaller to compensate:\r\n",
      "\r\n",
      "(fancyhdr)                \\addtolength{\\topmargin}{-2.49998pt}.\r\n",
      "\r\n",
      "[2 <./OklahomaData.jpg>]\r\n",
      "(/usr/share/texlive/texmf-dist/tex/latex/amsfonts/umsa.fd)\r\n",
      "(/usr/share/texlive/texmf-dist/tex/latex/amsfonts/umsb.fd)\r\n",
      "Underfull \\hbox (badness 10000) in paragraph at lines 50--51\r\n",
      "\r\n",
      "\r\n",
      "Package fancyhdr Warning: \\headheight is too small (12.0pt): \r\n",
      "(fancyhdr)                Make it at least 14.49998pt, for example:\r\n",
      "(fancyhdr)                \\setlength{\\headheight}{14.49998pt}.\r\n",
      "(fancyhdr)                You might also make \\topmargin smaller to compensate:\r\n",
      "\r\n",
      "(fancyhdr)                \\addtolength{\\topmargin}{-2.49998pt}.\r\n",
      "\r\n",
      "[3]\r\n",
      "Overfull \\hbox (24.24525pt too wide) in paragraph at lines 123--123\r\n",
      "[]\\OT1/cmtt/m/n/12 *---+----1----+----2----+----3----+----4----+----5----+----6\r\n",
      "----+----7----+----8[] \r\n",
      "\r\n",
      "Package fancyhdr Warning: \\headheight is too small (12.0pt): \r\n",
      "(fancyhdr)                Make it at least 14.49998pt, for example:\r\n",
      "(fancyhdr)                \\setlength{\\headheight}{14.49998pt}.\r\n",
      "(fancyhdr)                You might also make \\topmargin smaller to compensate:\r\n",
      "\r\n",
      "(fancyhdr)                \\addtolength{\\topmargin}{-2.49998pt}.\r\n",
      "\r\n",
      "[4]\r\n",
      "\r\n",
      "Package fancyhdr Warning: \\headheight is too small (12.0pt): \r\n",
      "(fancyhdr)                Make it at least 14.49998pt, for example:\r\n",
      "(fancyhdr)                \\setlength{\\headheight}{14.49998pt}.\r\n",
      "(fancyhdr)                You might also make \\topmargin smaller to compensate:\r\n",
      "\r\n",
      "(fancyhdr)                \\addtolength{\\topmargin}{-2.49998pt}.\r\n",
      "\r\n",
      "[5] \r\n",
      "AED: lastpage setting LastPage\r\n",
      "\r\n",
      "Package fancyhdr Warning: \\headheight is too small (12.0pt): \r\n",
      "(fancyhdr)                Make it at least 14.49998pt, for example:\r\n",
      "(fancyhdr)                \\setlength{\\headheight}{14.49998pt}.\r\n",
      "(fancyhdr)                You might also make \\topmargin smaller to compensate:\r\n",
      "\r\n",
      "(fancyhdr)                \\addtolength{\\topmargin}{-2.49998pt}.\r\n",
      "\r\n",
      "[6] (./ce3354-es7-2025-2.aux) )\r\n",
      "(see the transcript file for additional information)</usr/share/texlive/texmf-d\r\n",
      "ist/fonts/type1/public/amsfonts/cm/cmbx10.pfb></usr/share/texlive/texmf-dist/fo\r\n",
      "nts/type1/public/amsfonts/cm/cmbx12.pfb></usr/share/texlive/texmf-dist/fonts/ty\r\n",
      "pe1/public/amsfonts/cm/cmr10.pfb></usr/share/texlive/texmf-dist/fonts/type1/pub\r\n",
      "lic/amsfonts/cm/cmr12.pfb></usr/share/texlive/texmf-dist/fonts/type1/public/ams\r\n",
      "fonts/cm/cmr7.pfb></usr/share/texlive/texmf-dist/fonts/type1/public/amsfonts/cm\r\n",
      "/cmr8.pfb></usr/share/texlive/texmf-dist/fonts/type1/public/amsfonts/cm/cmtt12.\r\n",
      "pfb>\r\n"
     ]
    },
    {
     "name": "stdout",
     "output_type": "stream",
     "text": [
      "Output written on ce3354-es7-2025-2.pdf (6 pages, 1264009 bytes).\r\n",
      "Transcript written on ce3354-es7-2025-2.log.\r\n"
     ]
    }
   ],
   "source": [
    "! pdflatex ce3354-es7-2025-2.tex"
   ]
  },
  {
   "cell_type": "code",
   "execution_count": null,
   "id": "55924bb8-5248-4a46-8cab-4b1f00031a86",
   "metadata": {},
   "outputs": [],
   "source": []
  }
 ],
 "metadata": {
  "kernelspec": {
   "display_name": "Python Common Environment",
   "language": "python",
   "name": "python-my-env"
  },
  "language_info": {
   "codemirror_mode": {
    "name": "ipython",
    "version": 3
   },
   "file_extension": ".py",
   "mimetype": "text/x-python",
   "name": "python",
   "nbconvert_exporter": "python",
   "pygments_lexer": "ipython3",
   "version": "3.10.12"
  }
 },
 "nbformat": 4,
 "nbformat_minor": 5
}