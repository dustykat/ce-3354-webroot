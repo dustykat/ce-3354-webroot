{
 "cells": [
  {
   "cell_type": "code",
   "execution_count": 1,
   "metadata": {},
   "outputs": [
    {
     "name": "stdout",
     "output_type": "stream",
     "text": [
      "This is pdfTeX, Version 3.141592653-2.6-1.40.22 (TeX Live 2022/dev/Debian) (preloaded format=pdflatex)\r\n",
      " restricted \\write18 enabled.\r\n"
     ]
    },
    {
     "name": "stdout",
     "output_type": "stream",
     "text": [
      "entering extended mode\r\n",
      "(./syllabus.ce3354-2024-3.tex\r\n",
      "LaTeX2e <2021-11-15> patch level 1\r\n",
      "L3 programming layer <2022-01-21>"
     ]
    },
    {
     "name": "stdout",
     "output_type": "stream",
     "text": [
      "\r\n",
      "(/usr/share/texlive/texmf-dist/tex/latex/base/article.cls"
     ]
    },
    {
     "name": "stdout",
     "output_type": "stream",
     "text": [
      "\r\n",
      "Document Class: article 2021/10/04 v1.4n Standard LaTeX document class\r\n",
      "(/usr/share/texlive/texmf-dist/tex/latex/base/size12.clo"
     ]
    },
    {
     "name": "stdout",
     "output_type": "stream",
     "text": [
      "))"
     ]
    },
    {
     "name": "stdout",
     "output_type": "stream",
     "text": [
      "\r\n",
      "(/usr/share/texlive/texmf-dist/tex/latex/geometry/geometry.sty"
     ]
    },
    {
     "name": "stdout",
     "output_type": "stream",
     "text": [
      "\r\n",
      "(/usr/share/texlive/texmf-dist/tex/latex/graphics/keyval.sty)"
     ]
    },
    {
     "name": "stdout",
     "output_type": "stream",
     "text": [
      "\r\n",
      "(/usr/share/texlive/texmf-dist/tex/generic/iftex/ifvtex.sty"
     ]
    },
    {
     "name": "stdout",
     "output_type": "stream",
     "text": [
      "\r\n",
      "(/usr/share/texlive/texmf-dist/tex/generic/iftex/iftex.sty))"
     ]
    },
    {
     "name": "stdout",
     "output_type": "stream",
     "text": [
      ")"
     ]
    },
    {
     "name": "stdout",
     "output_type": "stream",
     "text": [
      "\r\n",
      "(/usr/share/texlive/texmf-dist/tex/latex/parskip/parskip.sty"
     ]
    },
    {
     "name": "stdout",
     "output_type": "stream",
     "text": [
      "\r\n",
      "(/usr/share/texlive/texmf-dist/tex/latex/kvoptions/kvoptions.sty"
     ]
    },
    {
     "name": "stdout",
     "output_type": "stream",
     "text": [
      "\r\n",
      "(/usr/share/texlive/texmf-dist/tex/generic/ltxcmds/ltxcmds.sty"
     ]
    },
    {
     "name": "stdout",
     "output_type": "stream",
     "text": [
      ")\r\n",
      "(/usr/share/texlive/texmf-dist/tex/generic/kvsetkeys/kvsetkeys.sty))"
     ]
    },
    {
     "name": "stdout",
     "output_type": "stream",
     "text": [
      "\r\n",
      "(/usr/share/texlive/texmf-dist/tex/latex/etoolbox/etoolbox.sty"
     ]
    },
    {
     "name": "stdout",
     "output_type": "stream",
     "text": [
      ")) (./daves.sty\r\n",
      "Dave's standard definitions: Last modified Friday, July 7, 1995.\r\n"
     ]
    },
    {
     "name": "stdout",
     "output_type": "stream",
     "text": [
      ".....dbt changed footnote indentation\r\n",
      ".....dbt changed labels to arabic\r\n",
      ".....dbt included milestone charts\r\n",
      ") (/usr/share/texlive/texmf-dist/tex/latex/fancyhdr/fancyhdr.sty)\r\n",
      "(/usr/share/texlive/texmf-dist/tex/latex/natbib/natbib.sty"
     ]
    },
    {
     "name": "stdout",
     "output_type": "stream",
     "text": [
      ")\r\n",
      "(/usr/share/texlive/texmf-dist/tex/latex/graphics/graphicx.sty\r\n",
      "(/usr/share/texlive/texmf-dist/tex/latex/graphics/graphics.sty\r\n",
      "(/usr/share/texlive/texmf-dist/tex/latex/graphics/trig.sty)\r\n",
      "(/usr/share/texlive/texmf-dist/tex/latex/graphics-cfg/graphics.cfg)"
     ]
    },
    {
     "name": "stdout",
     "output_type": "stream",
     "text": [
      "\r\n",
      "(/usr/share/texlive/texmf-dist/tex/latex/graphics-def/pdftex.def)))"
     ]
    },
    {
     "name": "stdout",
     "output_type": "stream",
     "text": [
      "\r\n",
      "(/usr/share/texlive/texmf-dist/tex/latex/tools/dcolumn.sty"
     ]
    },
    {
     "name": "stdout",
     "output_type": "stream",
     "text": [
      "\r\n",
      "(/usr/share/texlive/texmf-dist/tex/latex/tools/array.sty))\r\n",
      "(/usr/share/texlive/texmf-dist/tex/latex/amsmath/amsmath.sty"
     ]
    },
    {
     "name": "stdout",
     "output_type": "stream",
     "text": [
      "\r\n",
      "For additional information on amsmath, use the `?' option.\r\n",
      "(/usr/share/texlive/texmf-dist/tex/latex/amsmath/amstext.sty\r\n",
      "(/usr/share/texlive/texmf-dist/tex/latex/amsmath/amsgen.sty"
     ]
    },
    {
     "name": "stdout",
     "output_type": "stream",
     "text": [
      "))\r\n",
      "(/usr/share/texlive/texmf-dist/tex/latex/amsmath/amsbsy.sty)\r\n",
      "(/usr/share/texlive/texmf-dist/tex/latex/amsmath/amsopn.sty))"
     ]
    },
    {
     "name": "stdout",
     "output_type": "stream",
     "text": [
      "\r\n",
      "(/usr/share/texlive/texmf-dist/tex/latex/lastpage/lastpage.sty"
     ]
    },
    {
     "name": "stdout",
     "output_type": "stream",
     "text": [
      ")\r\n",
      "(/usr/share/texlive/texmf-dist/tex/latex/url/url.sty"
     ]
    },
    {
     "name": "stdout",
     "output_type": "stream",
     "text": [
      ")"
     ]
    },
    {
     "name": "stdout",
     "output_type": "stream",
     "text": [
      "\r\n",
      "(/usr/share/texlive/texmf-dist/tex/latex/amsfonts/amssymb.sty"
     ]
    },
    {
     "name": "stdout",
     "output_type": "stream",
     "text": [
      "\r\n",
      "(/usr/share/texlive/texmf-dist/tex/latex/amsfonts/amsfonts.sty))\r\n",
      "(/usr/share/texlive/texmf-dist/tex/latex/epstopdf-pkg/epstopdf.sty\r\n",
      "(/usr/share/texlive/texmf-dist/tex/generic/infwarerr/infwarerr.sty"
     ]
    },
    {
     "name": "stdout",
     "output_type": "stream",
     "text": [
      ")\r\n",
      "(/usr/share/texlive/texmf-dist/tex/latex/grfext/grfext.sty\r\n",
      "(/usr/share/texlive/texmf-dist/tex/generic/kvdefinekeys/kvdefinekeys.sty))\r\n",
      "(/usr/share/texlive/texmf-dist/tex/generic/pdftexcmds/pdftexcmds.sty)\r\n",
      "(/usr/share/texlive/texmf-dist/tex/latex/epstopdf-pkg/epstopdf-base.sty\r\n",
      "(/usr/share/texlive/texmf-dist/tex/latex/latexconfig/epstopdf-sys.cfg)))\r\n",
      "(/usr/share/texlive/texmf-dist/tex/latex/tools/longtable.sty)\r\n",
      "(/usr/share/texlive/texmf-dist/tex/latex/pdfpages/pdfpages.sty\r\n",
      "(/usr/share/texlive/texmf-dist/tex/latex/base/ifthen.sty"
     ]
    },
    {
     "name": "stdout",
     "output_type": "stream",
     "text": [
      ")\r\n",
      "(/usr/share/texlive/texmf-dist/tex/latex/tools/calc.sty)\r\n",
      "(/usr/share/texlive/texmf-dist/tex/latex/eso-pic/eso-pic.sty"
     ]
    },
    {
     "name": "stdout",
     "output_type": "stream",
     "text": [
      "\r\n",
      "(/usr/share/texlive/texmf-dist/tex/latex/xcolor/xcolor.sty"
     ]
    },
    {
     "name": "stdout",
     "output_type": "stream",
     "text": [
      "\r\n",
      "(/usr/share/texlive/texmf-dist/tex/latex/graphics-cfg/color.cfg)))\r\n",
      "(/usr/share/texlive/texmf-dist/tex/latex/pdfpages/pppdftex.def"
     ]
    },
    {
     "name": "stdout",
     "output_type": "stream",
     "text": [
      "))\r\n",
      "(/usr/share/texlive/texmf-dist/tex/latex/l3backend/l3backend-pdftex.def)\r\n",
      "(./syllabus.ce3354-2024-3.aux"
     ]
    },
    {
     "name": "stdout",
     "output_type": "stream",
     "text": [
      ")\r\n",
      "*geometry* driver: auto-detecting\r\n",
      "*geometry* detected driver: pdftex\r\n"
     ]
    },
    {
     "name": "stdout",
     "output_type": "stream",
     "text": [
      "(/usr/share/texlive/texmf-dist/tex/context/base/mkii/supp-pdf.mkii"
     ]
    },
    {
     "name": "stdout",
     "output_type": "stream",
     "text": [
      "\r\n",
      "[Loading MPS to PDF converter (version 2006.09.02).]\r\n",
      ") (/usr/share/texlive/texmf-dist/tex/latex/pdflscape/pdflscape.sty\r\n",
      "(/usr/share/texlive/texmf-dist/tex/latex/graphics/lscape.sty))"
     ]
    },
    {
     "name": "stdout",
     "output_type": "stream",
     "text": [
      "\r\n",
      "(/usr/share/texlive/texmf-dist/tex/latex/amsfonts/umsa.fd)\r\n",
      "(/usr/share/texlive/texmf-dist/tex/latex/amsfonts/umsb.fd)"
     ]
    },
    {
     "name": "stdout",
     "output_type": "stream",
     "text": [
      "\r\n",
      "Overfull \\hbox (54.0pt too wide) in paragraph at lines 26--46\r\n",
      "[] \r\n",
      "\r\n",
      "Package fancyhdr Warning: \\headheight is too small (12.0pt): \r\n",
      "(fancyhdr)                Make it at least 14.49998pt, for example:\r\n",
      "(fancyhdr)                \\setlength{\\headheight}{14.49998pt}.\r\n",
      "(fancyhdr)                You might also make \\topmargin smaller to compensate:\r\n",
      "\r\n",
      "(fancyhdr)                \\addtolength{\\topmargin}{-2.49998pt}.\r\n",
      "\r\n",
      "[1"
     ]
    },
    {
     "name": "stdout",
     "output_type": "stream",
     "text": [
      "{/var/lib/texmf/fonts/map/pdftex/updmap/pdftex.map"
     ]
    },
    {
     "name": "stdout",
     "output_type": "stream",
     "text": [
      "}]\r\n",
      "Overfull \\hbox (9.4841pt too wide) in paragraph at lines 67--70\r\n",
      "\\OT1/cmtt/m/n/12 https : / / www . depts . ttu . edu / provost / curriculum / c\r\n",
      "ommunication-[]literacy / index . php$\\OT1/cmr/m/n/12 , \r\n",
      "\r\n",
      "Package fancyhdr Warning: \\headheight is too small (12.0pt): \r\n",
      "(fancyhdr)                Make it at least 14.49998pt, for example:\r\n",
      "(fancyhdr)                \\setlength{\\headheight}{14.49998pt}.\r\n",
      "(fancyhdr)                You might also make \\topmargin smaller to compensate:\r\n",
      "\r\n",
      "(fancyhdr)                \\addtolength{\\topmargin}{-2.49998pt}.\r\n",
      "\r\n",
      "[2]\r\n",
      "Overfull \\hbox (17.86499pt too wide) in paragraph at lines 89--108\r\n",
      "[][] \r\n",
      "\r\n",
      "Package fancyhdr Warning: \\headheight is too small (12.0pt): \r\n",
      "(fancyhdr)                Make it at least 14.49998pt, for example:\r\n",
      "(fancyhdr)                \\setlength{\\headheight}{14.49998pt}.\r\n",
      "(fancyhdr)                You might also make \\topmargin smaller to compensate:\r\n",
      "\r\n",
      "(fancyhdr)                \\addtolength{\\topmargin}{-2.49998pt}.\r\n",
      "\r\n",
      "[3]\r\n",
      "Overfull \\hbox (2.69319pt too wide) in paragraph at lines 133--134\r\n",
      "\\OT1/cmr/m/n/12 Three in-class ex-am-i-na-tions are sched-uled, they will be of\r\n",
      " ap-prox-i-mately equal dif-fi-culty. \r\n",
      "\r\n",
      "Package fancyhdr Warning: \\headheight is too small (12.0pt): \r\n",
      "(fancyhdr)                Make it at least 14.49998pt, for example:\r\n",
      "(fancyhdr)                \\setlength{\\headheight}{14.49998pt}.\r\n",
      "(fancyhdr)                You might also make \\topmargin smaller to compensate:\r\n",
      "\r\n",
      "(fancyhdr)                \\addtolength{\\topmargin}{-2.49998pt}.\r\n",
      "\r\n",
      "[4]"
     ]
    },
    {
     "name": "stdout",
     "output_type": "stream",
     "text": [
      "\r\n",
      "\r\n",
      "Package fancyhdr Warning: \\headheight is too small (12.0pt): \r\n",
      "(fancyhdr)                Make it at least 14.49998pt, for example:\r\n",
      "(fancyhdr)                \\setlength{\\headheight}{14.49998pt}.\r\n",
      "(fancyhdr)                You might also make \\topmargin smaller to compensate:\r\n",
      "\r\n",
      "(fancyhdr)                \\addtolength{\\topmargin}{-2.49998pt}.\r\n",
      "\r\n",
      "[5]\r\n",
      "Overfull \\hbox (7.09003pt too wide) in paragraph at lines 173--173\r\n",
      "[]|\\OT1/cmtt/m/n/12 22AUG24| \r\n",
      "\r\n",
      "Overfull \\hbox (7.09003pt too wide) in paragraph at lines 174--174\r\n",
      "[]|\\OT1/cmtt/m/n/12 27AUG24| \r\n",
      "\r\n",
      "Overfull \\hbox (7.09003pt too wide) in paragraph at lines 175--175\r\n",
      "[]|\\OT1/cmtt/m/n/12 29AUG24| \r\n",
      "\r\n",
      "Overfull \\hbox (7.09003pt too wide) in paragraph at lines 176--176\r\n",
      "[]| \\OT1/cmtt/m/n/12 3SEP24| \r\n",
      "\r\n",
      "Overfull \\hbox (7.09003pt too wide) in paragraph at lines 177--177\r\n",
      "[]| \\OT1/cmtt/m/n/12 5SEP24| \r\n",
      "\r\n",
      "Overfull \\hbox (7.09003pt too wide) in paragraph at lines 178--178\r\n",
      "[]|\\OT1/cmtt/m/n/12 10SEP24| \r\n",
      "\r\n",
      "Overfull \\hbox (7.09003pt too wide) in paragraph at lines 179--179\r\n",
      "[]|\\OT1/cmtt/m/n/12 12SEP24| \r\n",
      "\r\n",
      "Overfull \\hbox (7.09003pt too wide) in paragraph at lines 180--180\r\n",
      "[]|\\OT1/cmtt/m/n/12 17SEP24| \r\n",
      "\r\n",
      "Overfull \\hbox (7.09003pt too wide) in paragraph at lines 181--181\r\n",
      "[]|\\OT1/cmtt/m/n/12 19SEP24| \r\n",
      "\r\n",
      "Overfull \\hbox (7.09003pt too wide) in paragraph at lines 182--182\r\n",
      "[]|\\OT1/cmtt/m/n/12 24SEP24| \r\n",
      "\r\n",
      "Overfull \\hbox (7.09003pt too wide) in paragraph at lines 183--183\r\n",
      "[]|\\OT1/cmtt/m/n/12 26SEP24| \r\n",
      "\r\n",
      "Overfull \\hbox (7.09003pt too wide) in paragraph at lines 184--184\r\n",
      "[]| \\OT1/cmtt/m/n/12 1OCT24| \r\n",
      "\r\n",
      "Overfull \\hbox (7.09003pt too wide) in paragraph at lines 185--185\r\n",
      "[]| \\OT1/cmtt/m/n/12 3OCT24| \r\n",
      "\r\n",
      "Overfull \\hbox (7.09003pt too wide) in paragraph at lines 186--186\r\n",
      "[]| \\OT1/cmtt/m/n/12 8OCT24| \r\n",
      "\r\n",
      "Overfull \\hbox (7.09003pt too wide) in paragraph at lines 187--187\r\n",
      "[]|\\OT1/cmtt/m/n/12 10OCT24| \r\n",
      "\r\n",
      "Overfull \\hbox (7.09003pt too wide) in paragraph at lines 188--188\r\n",
      "[]|\\OT1/cmtt/m/n/12 15OCT24| \r\n",
      "\r\n",
      "Overfull \\hbox (7.09003pt too wide) in paragraph at lines 189--189\r\n",
      "[]|\\OT1/cmtt/m/n/12 17OCT24| \r\n",
      "\r\n",
      "Overfull \\hbox (7.09003pt too wide) in paragraph at lines 190--190\r\n",
      "[]|\\OT1/cmtt/m/n/12 22OCT24| \r\n",
      "\r\n",
      "Underfull \\hbox (badness 10000) in paragraph at lines 190--191\r\n",
      "[]|\\OT1/cmr/m/n/12 RSG(pp.477-492;503-506);CMM(pp.242-\r\n",
      "\r\n",
      "Overfull \\hbox (7.09003pt too wide) in paragraph at lines 191--191\r\n",
      "[]|\\OT1/cmtt/m/n/12 24OCT24| \r\n",
      "\r\n",
      "Underfull \\hbox (badness 10000) in paragraph at lines 191--192\r\n",
      "[]|\\OT1/cmr/m/n/12 RSG(pp.497-502);CMM(pp.257-272;302-\r\n",
      "\r\n",
      "Overfull \\hbox (7.09003pt too wide) in paragraph at lines 192--192\r\n",
      "[]|\\OT1/cmtt/m/n/12 29OCT24| \r\n",
      "\r\n",
      "Overfull \\hbox (7.09003pt too wide) in paragraph at lines 193--193\r\n",
      "[]|\\OT1/cmtt/m/n/12 31OCT24| \r\n",
      "\r\n",
      "Overfull \\hbox (7.09003pt too wide) in paragraph at lines 194--194\r\n",
      "[]| \\OT1/cmtt/m/n/12 5NOV24| \r\n",
      "\r\n",
      "Overfull \\hbox (7.09003pt too wide) in paragraph at lines 195--195\r\n",
      "[]| \\OT1/cmtt/m/n/12 7NOV24| \r\n",
      "\r\n",
      "Overfull \\hbox (7.09003pt too wide) in paragraph at lines 196--196\r\n",
      "[]|\\OT1/cmtt/m/n/12 12NOV24| \r\n",
      "\r\n",
      "Overfull \\hbox (7.09003pt too wide) in paragraph at lines 198--198\r\n",
      "[]|\\OT1/cmtt/m/n/12 14NOV24| \r\n",
      "\r\n",
      "Overfull \\hbox (7.09003pt too wide) in paragraph at lines 199--199\r\n",
      "[]|\\OT1/cmtt/m/n/12 19NOV24| \r\n",
      "\r\n",
      "Overfull \\hbox (7.09003pt too wide) in paragraph at lines 200--200\r\n",
      "[]|\\OT1/cmtt/m/n/12 21NOV24| \r\n",
      "\r\n",
      "Overfull \\hbox (7.09003pt too wide) in paragraph at lines 201--201\r\n",
      "[]|\\OT1/cmtt/m/n/12 26NOV24| \r\n",
      "\r\n",
      "Overfull \\hbox (7.09003pt too wide) in paragraph at lines 202--202\r\n",
      "[]|\\OT1/cmtt/m/n/12 28NOV24| \r\n",
      "\r\n",
      "Overfull \\hbox (7.09003pt too wide) in paragraph at lines 203--203\r\n",
      "[]| \\OT1/cmtt/m/n/12 3DEC24| \r\n",
      "\r\n",
      "Overfull \\hbox (7.09003pt too wide) in paragraph at lines 204--204\r\n",
      "[]| \\OT1/cmtt/m/n/12 6DEC24| \r\n",
      "\r\n",
      "Overfull \\hbox (36.0pt too wide) in paragraph at lines 168--208\r\n",
      " [][] \r\n",
      "\r\n",
      "Package fancyhdr Warning: \\headheight is too small (12.0pt): \r\n",
      "(fancyhdr)                Make it at least 14.49998pt, for example:\r\n",
      "(fancyhdr)                \\setlength{\\headheight}{14.49998pt}.\r\n",
      "(fancyhdr)                You might also make \\topmargin smaller to compensate:\r\n",
      "\r\n",
      "(fancyhdr)                \\addtolength{\\topmargin}{-2.49998pt}.\r\n",
      "\r\n",
      "[6]\r\n",
      "\r\n",
      "Package fancyhdr Warning: \\headheight is too small (12.0pt): \r\n",
      "(fancyhdr)                Make it at least 14.49998pt, for example:\r\n",
      "(fancyhdr)                \\setlength{\\headheight}{14.49998pt}.\r\n",
      "(fancyhdr)                You might also make \\topmargin smaller to compensate:\r\n",
      "\r\n",
      "(fancyhdr)                \\addtolength{\\topmargin}{-2.49998pt}.\r\n",
      "\r\n",
      "[7]\r\n",
      "Overfull \\hbox (4.54132pt too wide) in paragraph at lines 241--241\r\n",
      "[]\\OT1/cmr/bx/n/14.4 DISCRIMINATION, HA-RASS-MENT, AND SEX-UAL VI-O-LENCE\r\n",
      "\r\n",
      "Overfull \\hbox (39.09879pt too wide) in paragraph at lines 245--246\r\n",
      "[]\\OT1/cmr/m/n/12 TTU Stu-dent Coun-sel-ing Cen-ter, 806- 742-3674, $\\OT1/cmtt/\r\n",
      "m/n/12 https : / / www . depts . ttu . edu / scc/$\\OT1/cmr/m/n/12 (Provides\r\n",
      "\r\n",
      "Package fancyhdr Warning: \\headheight is too small (12.0pt): \r\n",
      "(fancyhdr)                Make it at least 14.49998pt, for example:\r\n",
      "(fancyhdr)                \\setlength{\\headheight}{14.49998pt}.\r\n",
      "(fancyhdr)                You might also make \\topmargin smaller to compensate:\r\n",
      "\r\n",
      "(fancyhdr)                \\addtolength{\\topmargin}{-2.49998pt}.\r\n",
      "\r\n",
      "[8]\r\n",
      "\r\n",
      "Package fancyhdr Warning: \\headheight is too small (12.0pt): \r\n",
      "(fancyhdr)                Make it at least 14.49998pt, for example:\r\n",
      "(fancyhdr)                \\setlength{\\headheight}{14.49998pt}.\r\n",
      "(fancyhdr)                You might also make \\topmargin smaller to compensate:\r\n",
      "\r\n",
      "(fancyhdr)                \\addtolength{\\topmargin}{-2.49998pt}.\r\n",
      "\r\n",
      "[9]\r\n",
      "Overfull \\hbox (1.7673pt too wide) in paragraph at lines 277--277\r\n",
      "[]\\OT1/cmr/bx/n/14.4 RISK AS-SO-CI-ATED WITH THE USE OF LIVE-STOCK/HORSES\r\n",
      "\r\n",
      "Package fancyhdr Warning: \\headheight is too small (12.0pt): \r\n",
      "(fancyhdr)                Make it at least 14.49998pt, for example:\r\n",
      "(fancyhdr)                \\setlength{\\headheight}{14.49998pt}.\r\n",
      "(fancyhdr)                You might also make \\topmargin smaller to compensate:\r\n",
      "\r\n",
      "(fancyhdr)                \\addtolength{\\topmargin}{-2.49998pt}.\r\n",
      "\r\n",
      "[10]\r\n",
      "\r\n",
      "Package fancyhdr Warning: \\headheight is too small (12.0pt): \r\n",
      "(fancyhdr)                Make it at least 14.49998pt, for example:\r\n",
      "(fancyhdr)                \\setlength{\\headheight}{14.49998pt}.\r\n",
      "(fancyhdr)                You might also make \\topmargin smaller to compensate:\r\n",
      "\r\n",
      "(fancyhdr)                \\addtolength{\\topmargin}{-2.49998pt}.\r\n",
      "\r\n",
      "[11] \r\n",
      "AED: lastpage setting LastPage\r\n",
      "\r\n",
      "Package fancyhdr Warning: \\headheight is too small (12.0pt): \r\n",
      "(fancyhdr)                Make it at least 14.49998pt, for example:\r\n",
      "(fancyhdr)                \\setlength{\\headheight}{14.49998pt}.\r\n",
      "(fancyhdr)                You might also make \\topmargin smaller to compensate:\r\n",
      "\r\n",
      "(fancyhdr)                \\addtolength{\\topmargin}{-2.49998pt}.\r\n",
      "\r\n",
      "[12] (./syllabus.ce3354-2024-3.aux) )\r\n"
     ]
    },
    {
     "name": "stdout",
     "output_type": "stream",
     "text": [
      "(see the transcript file for additional information){/usr/share/texmf/fonts/enc\r\n",
      "/dvips/cm-super/cm-super-ts1.enc"
     ]
    },
    {
     "name": "stdout",
     "output_type": "stream",
     "text": [
      "}</usr/share/texlive/texmf-dist/fonts/type1/pub\r\n",
      "lic/amsfonts/cm/cmbx12.pfb></usr/share/texlive/texmf-dist/fonts/type1/public/am\r\n",
      "sfonts/cm/cmr10.pfb"
     ]
    },
    {
     "name": "stdout",
     "output_type": "stream",
     "text": [
      "></usr/share/texlive/texmf-dist/fonts/type1/public/amsfonts/\r\n",
      "cm/cmr12.pfb></usr/share/texlive/texmf-dist/fonts/type1/public/amsfonts/cm/cmr7\r\n",
      ".pfb></usr/share/texlive/texmf-dist/fonts/type1/public/amsfonts/cm/cmr8.pfb></u\r\n",
      "sr/share/texlive/texmf-dist/fonts/type1/public/amsfonts/cm/cmsl12.pfb></usr/sha\r\n",
      "re/texlive/texmf-dist/fonts/type1/public/amsfonts/cm/cmtt12.pfb"
     ]
    },
    {
     "name": "stdout",
     "output_type": "stream",
     "text": [
      "></usr/share/tex\r\n",
      "mf/fonts/type1/public/cm-super/sfrm1200.pfb></usr/share/texmf/fonts/type1/publi\r\n",
      "c/cm-super/sfsl1200.pfb>\r\n",
      "Output written on syllabus.ce3354-2024-3.pdf (12 pages, 140811 bytes).\r\n",
      "Transcript written on syllabus.ce3354-2024-3.log.\r\n"
     ]
    }
   ],
   "source": [
    "! pdflatex syllabus.ce3354-2024-3.tex"
   ]
  },
  {
   "cell_type": "code",
   "execution_count": null,
   "metadata": {},
   "outputs": [],
   "source": []
  },
  {
   "cell_type": "code",
   "execution_count": null,
   "metadata": {},
   "outputs": [],
   "source": []
  }
 ],
 "metadata": {
  "kernelspec": {
   "display_name": "Python 3 (ipykernel)",
   "language": "python",
   "name": "python3"
  },
  "language_info": {
   "codemirror_mode": {
    "name": "ipython",
    "version": 3
   },
   "file_extension": ".py",
   "mimetype": "text/x-python",
   "name": "python",
   "nbconvert_exporter": "python",
   "pygments_lexer": "ipython3",
   "version": "3.10.12"
  }
 },
 "nbformat": 4,
 "nbformat_minor": 4
}