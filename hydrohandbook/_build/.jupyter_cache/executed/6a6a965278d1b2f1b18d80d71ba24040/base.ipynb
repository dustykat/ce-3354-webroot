{
 "cells": [
  {
   "cell_type": "code",
   "execution_count": 1,
   "id": "9128a810-185f-4cc8-bc01-fc6d0871ecdb",
   "metadata": {
    "scrolled": true
   },
   "outputs": [
    {
     "name": "stdout",
     "output_type": "stream",
     "text": [
      "This is pdfTeX, Version 3.141592653-2.6-1.40.22 (TeX Live 2022/dev/Debian) (preloaded format=pdflatex)\r\n",
      " restricted \\write18 enabled.\r\n"
     ]
    },
    {
     "name": "stdout",
     "output_type": "stream",
     "text": [
      "entering extended mode\r\n",
      "(./ce-3354-ex1-2025-3-SOLN.tex\r\n",
      "LaTeX2e <2021-11-15> patch level 1\r\n",
      "L3 programming layer <2022-01-21>\r\n",
      "(/usr/share/texlive/texmf-dist/tex/latex/base/article.cls\r\n",
      "Document Class: article 2021/10/04 v1.4n Standard LaTeX document class\r\n",
      "(/usr/share/texlive/texmf-dist/tex/latex/base/size12.clo))\r\n",
      "(/usr/share/texlive/texmf-dist/tex/latex/geometry/geometry.sty\r\n",
      "(/usr/share/texlive/texmf-dist/tex/latex/graphics/keyval.sty"
     ]
    },
    {
     "name": "stdout",
     "output_type": "stream",
     "text": [
      ")\r\n",
      "(/usr/share/texlive/texmf-dist/tex/generic/iftex/ifvtex.sty\r\n",
      "(/usr/share/texlive/texmf-dist/tex/generic/iftex/iftex.sty)))\r\n",
      "(/usr/share/texlive/texmf-dist/tex/latex/parskip/parskip.sty\r\n",
      "(/usr/share/texlive/texmf-dist/tex/latex/kvoptions/kvoptions.sty\r\n",
      "(/usr/share/texlive/texmf-dist/tex/generic/ltxcmds/ltxcmds.sty)\r\n",
      "(/usr/share/texlive/texmf-dist/tex/generic/kvsetkeys/kvsetkeys.sty))\r\n",
      "(/usr/share/texlive/texmf-dist/tex/latex/etoolbox/etoolbox.sty)) (./daves.sty\r\n",
      "Dave's standard definitions: Last modified Friday, July 7, 1995.\r\n",
      ".....dbt changed footnote indentation\r\n",
      ".....dbt changed labels to arabic\r\n",
      ".....dbt included milestone charts\r\n",
      ")"
     ]
    },
    {
     "name": "stdout",
     "output_type": "stream",
     "text": [
      " (/usr/share/texlive/texmf-dist/tex/latex/fancyhdr/fancyhdr.sty)\r\n",
      "(/usr/share/texlive/texmf-dist/tex/latex/natbib/natbib.sty)\r\n",
      "(/usr/share/texlive/texmf-dist/tex/latex/graphics/graphicx.sty\r\n",
      "(/usr/share/texlive/texmf-dist/tex/latex/graphics/graphics.sty\r\n",
      "(/usr/share/texlive/texmf-dist/tex/latex/graphics/trig.sty)\r\n",
      "(/usr/share/texlive/texmf-dist/tex/latex/graphics-cfg/graphics.cfg)\r\n",
      "(/usr/share/texlive/texmf-dist/tex/latex/graphics-def/pdftex.def)))\r\n",
      "(/usr/share/texlive/texmf-dist/tex/latex/tools/dcolumn.sty\r\n",
      "(/usr/share/texlive/texmf-dist/tex/latex/tools/array.sty))\r\n",
      "(/usr/share/texlive/texmf-dist/tex/latex/amsmath/amsmath.sty\r\n",
      "For additional information on amsmath, use the `?' option.\r\n",
      "(/usr/share/texlive/texmf-dist/tex/latex/amsmath/amstext.sty\r\n",
      "(/usr/share/texlive/texmf-dist/tex/latex/amsmath/amsgen.sty))\r\n",
      "(/usr/share/texlive/texmf-dist/tex/latex/amsmath/amsbsy.sty)"
     ]
    },
    {
     "name": "stdout",
     "output_type": "stream",
     "text": [
      "\r\n",
      "(/usr/share/texlive/texmf-dist/tex/latex/amsmath/amsopn.sty))\r\n",
      "(/usr/share/texlive/texmf-dist/tex/latex/lastpage/lastpage.sty)\r\n",
      "(/usr/share/texlive/texmf-dist/tex/latex/url/url.sty)\r\n",
      "(/usr/share/texlive/texmf-dist/tex/latex/amsfonts/amssymb.sty\r\n",
      "(/usr/share/texlive/texmf-dist/tex/latex/amsfonts/amsfonts.sty))\r\n",
      "(/usr/share/texlive/texmf-dist/tex/latex/epstopdf-pkg/epstopdf.sty"
     ]
    },
    {
     "name": "stdout",
     "output_type": "stream",
     "text": [
      "\r\n",
      "(/usr/share/texlive/texmf-dist/tex/generic/infwarerr/infwarerr.sty)\r\n",
      "(/usr/share/texlive/texmf-dist/tex/latex/grfext/grfext.sty\r\n",
      "(/usr/share/texlive/texmf-dist/tex/generic/kvdefinekeys/kvdefinekeys.sty))\r\n",
      "(/usr/share/texlive/texmf-dist/tex/generic/pdftexcmds/pdftexcmds.sty)\r\n",
      "(/usr/share/texlive/texmf-dist/tex/latex/epstopdf-pkg/epstopdf-base.sty\r\n",
      "(/usr/share/texlive/texmf-dist/tex/latex/latexconfig/epstopdf-sys.cfg)))\r\n",
      "(/usr/share/texlive/texmf-dist/tex/latex/tools/longtable.sty)\r\n",
      "(/usr/share/texlive/texmf-dist/tex/latex/paralist/paralist.sty)\r\n",
      "(/usr/share/texlive/texmf-dist/tex/latex/l3backend/l3backend-pdftex.def)\r\n",
      "(./ce-3354-ex1-2025-3-SOLN.aux)\r\n",
      "*geometry* driver: auto-detecting\r\n",
      "*geometry* detected driver: pdftex\r\n"
     ]
    },
    {
     "name": "stdout",
     "output_type": "stream",
     "text": [
      "(/usr/share/texlive/texmf-dist/tex/context/base/mkii/supp-pdf.mkii\r\n",
      "[Loading MPS to PDF converter (version 2006.09.02).]\r\n",
      ") (/usr/share/texlive/texmf-dist/tex/latex/amsfonts/umsa.fd)\r\n",
      "(/usr/share/texlive/texmf-dist/tex/latex/amsfonts/umsb.fd)\r\n",
      "\r\n",
      "LaTeX Warning: `!h' float specifier changed to `!ht'.\r\n",
      "\r\n",
      "\r\n",
      "LaTeX Warning: `!h' float specifier changed to `!ht'.\r\n",
      "\r\n",
      "\r\n",
      "Package fancyhdr Warning: \\headheight is too small (12.0pt): \r\n",
      "(fancyhdr)                Make it at least 14.49998pt, for example:\r\n",
      "(fancyhdr)                \\setlength{\\headheight}{14.49998pt}.\r\n",
      "(fancyhdr)                You might also make \\topmargin smaller to compensate:\r\n",
      "\r\n",
      "(fancyhdr)                \\addtolength{\\topmargin}{-2.49998pt}.\r\n",
      "\r\n",
      "[1{/var/lib/texmf/fonts/map/pdftex/updmap/pdftex.map"
     ]
    },
    {
     "name": "stdout",
     "output_type": "stream",
     "text": [
      "}]\r\n",
      "\r\n",
      "Package fancyhdr Warning: \\headheight is too small (12.0pt): \r\n",
      "(fancyhdr)                Make it at least 14.49998pt, for example:\r\n",
      "(fancyhdr)                \\setlength{\\headheight}{14.49998pt}.\r\n",
      "(fancyhdr)                You might also make \\topmargin smaller to compensate:\r\n",
      "\r\n",
      "(fancyhdr)                \\addtolength{\\topmargin}{-2.49998pt}.\r\n",
      "\r\n",
      "[2 <./pr1_xls.png"
     ]
    },
    {
     "name": "stdout",
     "output_type": "stream",
     "text": [
      ">]\r\n",
      "\r\n",
      "Package fancyhdr Warning: \\headheight is too small (12.0pt): \r\n",
      "(fancyhdr)                Make it at least 14.49998pt, for example:\r\n",
      "(fancyhdr)                \\setlength{\\headheight}{14.49998pt}.\r\n",
      "(fancyhdr)                You might also make \\topmargin smaller to compensate:\r\n",
      "\r\n",
      "(fancyhdr)                \\addtolength{\\topmargin}{-2.49998pt}.\r\n",
      "\r\n",
      "[3 <./pr1_form.png"
     ]
    },
    {
     "name": "stdout",
     "output_type": "stream",
     "text": [
      ">]\r\n",
      "Missing character: There is no � in font cmtt12!\r\n",
      "Missing character: There is no � in font cmtt12!\r\n",
      "\r\n",
      "Package fancyhdr Warning: \\headheight is too small (12.0pt): \r\n",
      "(fancyhdr)                Make it at least 14.49998pt, for example:\r\n",
      "(fancyhdr)                \\setlength{\\headheight}{14.49998pt}.\r\n",
      "(fancyhdr)                You might also make \\topmargin smaller to compensate:\r\n",
      "\r\n",
      "(fancyhdr)                \\addtolength{\\topmargin}{-2.49998pt}.\r\n",
      "\r\n",
      "[4]\r\n",
      "\r\n",
      "Package fancyhdr Warning: \\headheight is too small (12.0pt): \r\n",
      "(fancyhdr)                Make it at least 14.49998pt, for example:\r\n",
      "(fancyhdr)                \\setlength{\\headheight}{14.49998pt}.\r\n",
      "(fancyhdr)                You might also make \\topmargin smaller to compensate:\r\n",
      "\r\n",
      "(fancyhdr)                \\addtolength{\\topmargin}{-2.49998pt}.\r\n",
      "\r\n",
      "[5 <./EX1-P2_PLOT.png"
     ]
    },
    {
     "name": "stdout",
     "output_type": "stream",
     "text": [
      ">]\r\n",
      "\r\n",
      "LaTeX Warning: `!h' float specifier changed to `!ht'.\r\n",
      "\r\n",
      "\r\n",
      "Package fancyhdr Warning: \\headheight is too small (12.0pt): \r\n",
      "(fancyhdr)                Make it at least 14.49998pt, for example:\r\n",
      "(fancyhdr)                \\setlength{\\headheight}{14.49998pt}.\r\n",
      "(fancyhdr)                You might also make \\topmargin smaller to compensate:\r\n",
      "\r\n",
      "(fancyhdr)                \\addtolength{\\topmargin}{-2.49998pt}.\r\n",
      "\r\n",
      "[6]\r\n",
      "\r\n",
      "Package fancyhdr Warning: \\headheight is too small (12.0pt): \r\n",
      "(fancyhdr)                Make it at least 14.49998pt, for example:\r\n",
      "(fancyhdr)                \\setlength{\\headheight}{14.49998pt}.\r\n",
      "(fancyhdr)                You might also make \\topmargin smaller to compensate:\r\n",
      "\r\n",
      "(fancyhdr)                \\addtolength{\\topmargin}{-2.49998pt}.\r\n",
      "\r\n",
      "[7 <./pr2_xls.png"
     ]
    },
    {
     "name": "stdout",
     "output_type": "stream",
     "text": [
      ">]\r\n",
      "\r\n",
      "LaTeX Warning: `!h' float specifier changed to `!ht'.\r\n",
      "\r\n",
      "\r\n",
      "Package fancyhdr Warning: \\headheight is too small (12.0pt): \r\n",
      "(fancyhdr)                Make it at least 14.49998pt, for example:\r\n",
      "(fancyhdr)                \\setlength{\\headheight}{14.49998pt}.\r\n",
      "(fancyhdr)                You might also make \\topmargin smaller to compensate:\r\n",
      "\r\n",
      "(fancyhdr)                \\addtolength{\\topmargin}{-2.49998pt}.\r\n",
      "\r\n",
      "[8 <./pr2_calcs.png"
     ]
    },
    {
     "name": "stdout",
     "output_type": "stream",
     "text": [
      ">]\r\n",
      "\r\n",
      "Package fancyhdr Warning: \\headheight is too small (12.0pt): \r\n",
      "(fancyhdr)                Make it at least 14.49998pt, for example:\r\n",
      "(fancyhdr)                \\setlength{\\headheight}{14.49998pt}.\r\n",
      "(fancyhdr)                You might also make \\topmargin smaller to compensate:\r\n",
      "\r\n",
      "(fancyhdr)                \\addtolength{\\topmargin}{-2.49998pt}.\r\n",
      "\r\n",
      "[9 <./pr2_overlay.png"
     ]
    },
    {
     "name": "stdout",
     "output_type": "stream",
     "text": [
      ">]\r\n",
      "\r\n",
      "Package fancyhdr Warning: \\headheight is too small (12.0pt): \r\n",
      "(fancyhdr)                Make it at least 14.49998pt, for example:\r\n",
      "(fancyhdr)                \\setlength{\\headheight}{14.49998pt}.\r\n",
      "(fancyhdr)                You might also make \\topmargin smaller to compensate:\r\n",
      "\r\n",
      "(fancyhdr)                \\addtolength{\\topmargin}{-2.49998pt}.\r\n",
      "\r\n",
      "[10 <./pr2_forms.png"
     ]
    },
    {
     "name": "stdout",
     "output_type": "stream",
     "text": [
      ">]\r\n",
      "\r\n",
      "Package fancyhdr Warning: \\headheight is too small (12.0pt): \r\n",
      "(fancyhdr)                Make it at least 14.49998pt, for example:\r\n",
      "(fancyhdr)                \\setlength{\\headheight}{14.49998pt}.\r\n",
      "(fancyhdr)                You might also make \\topmargin smaller to compensate:\r\n",
      "\r\n",
      "(fancyhdr)                \\addtolength{\\topmargin}{-2.49998pt}.\r\n",
      "\r\n",
      "[11 <./pr3_map.png"
     ]
    },
    {
     "name": "stdout",
     "output_type": "stream",
     "text": [
      ">]\r\n",
      "\r\n",
      "Package fancyhdr Warning: \\headheight is too small (12.0pt): \r\n",
      "(fancyhdr)                Make it at least 14.49998pt, for example:\r\n",
      "(fancyhdr)                \\setlength{\\headheight}{14.49998pt}.\r\n",
      "(fancyhdr)                You might also make \\topmargin smaller to compensate:\r\n",
      "\r\n",
      "(fancyhdr)                \\addtolength{\\topmargin}{-2.49998pt}.\r\n",
      "\r\n",
      "[12 <./pr3_pfds.png"
     ]
    },
    {
     "name": "stdout",
     "output_type": "stream",
     "text": [
      ">]\r\n",
      "\r\n",
      "LaTeX Warning: `!h' float specifier changed to `!ht'.\r\n",
      "\r\n",
      "\r\n",
      "LaTeX Warning: `!h' float specifier changed to `!ht'.\r\n",
      "\r\n",
      "\r\n",
      "Package fancyhdr Warning: \\headheight is too small (12.0pt): \r\n",
      "(fancyhdr)                Make it at least 14.49998pt, for example:\r\n",
      "(fancyhdr)                \\setlength{\\headheight}{14.49998pt}.\r\n",
      "(fancyhdr)                You might also make \\topmargin smaller to compensate:\r\n",
      "\r\n",
      "(fancyhdr)                \\addtolength{\\topmargin}{-2.49998pt}.\r\n",
      "\r\n",
      "[13 <./pr3_script.png"
     ]
    },
    {
     "name": "stdout",
     "output_type": "stream",
     "text": [
      ">]\r\n",
      "\r\n",
      "Package fancyhdr Warning: \\headheight is too small (12.0pt): \r\n",
      "(fancyhdr)                Make it at least 14.49998pt, for example:\r\n",
      "(fancyhdr)                \\setlength{\\headheight}{14.49998pt}.\r\n",
      "(fancyhdr)                You might also make \\topmargin smaller to compensate:\r\n",
      "\r\n",
      "(fancyhdr)                \\addtolength{\\topmargin}{-2.49998pt}.\r\n",
      "\r\n",
      "[14 <./pr3_xls.png"
     ]
    },
    {
     "name": "stdout",
     "output_type": "stream",
     "text": [
      ">]\r\n",
      "\r\n",
      "Package fancyhdr Warning: \\headheight is too small (12.0pt): \r\n",
      "(fancyhdr)                Make it at least 14.49998pt, for example:\r\n",
      "(fancyhdr)                \\setlength{\\headheight}{14.49998pt}.\r\n",
      "(fancyhdr)                You might also make \\topmargin smaller to compensate:\r\n",
      "\r\n",
      "(fancyhdr)                \\addtolength{\\topmargin}{-2.49998pt}.\r\n",
      "\r\n",
      "[15 <./pr3_forms.png"
     ]
    },
    {
     "name": "stdout",
     "output_type": "stream",
     "text": [
      ">]\r\n",
      "\r\n",
      "Package fancyhdr Warning: \\headheight is too small (12.0pt): \r\n",
      "(fancyhdr)                Make it at least 14.49998pt, for example:\r\n",
      "(fancyhdr)                \\setlength{\\headheight}{14.49998pt}.\r\n",
      "(fancyhdr)                You might also make \\topmargin smaller to compensate:\r\n",
      "\r\n",
      "(fancyhdr)                \\addtolength{\\topmargin}{-2.49998pt}.\r\n",
      "\r\n",
      "[16 <./INFIL.png"
     ]
    },
    {
     "name": "stdout",
     "output_type": "stream",
     "text": [
      ">] \r\n",
      "AED: lastpage setting LastPage\r\n",
      "\r\n",
      "Package fancyhdr Warning: \\headheight is too small (12.0pt): \r\n",
      "(fancyhdr)                Make it at least 14.49998pt, for example:\r\n",
      "(fancyhdr)                \\setlength{\\headheight}{14.49998pt}.\r\n",
      "(fancyhdr)                You might also make \\topmargin smaller to compensate:\r\n",
      "\r\n",
      "(fancyhdr)                \\addtolength{\\topmargin}{-2.49998pt}.\r\n",
      "\r\n",
      "[17 <./pr4_xls_one.png"
     ]
    },
    {
     "name": "stdout",
     "output_type": "stream",
     "text": [
      ">] (./ce-3354-ex1-2025-3-SOLN.aux)"
     ]
    },
    {
     "name": "stdout",
     "output_type": "stream",
     "text": [
      " ){/usr/share/texmf/fon\r\n",
      "ts/enc/dvips/cm-super/cm-super-ts1.enc}</usr/share/texlive/texmf-dist/fonts/typ\r\n",
      "e1/public/amsfonts/cm/cmbx12.pfb></usr/share/texlive/texmf-dist/fonts/type1/pub\r\n",
      "lic/amsfonts/cm/cmmi12.pfb></usr/share/texlive/texmf-dist/fonts/type1/public/am\r\n",
      "sfonts/cm/cmmi8.pfb></usr/share/texlive/texmf-dist/fonts/type1/public/amsfonts/\r\n",
      "cm/cmr10.pfb></usr/share/texlive/texmf-dist/fonts/type1/public/amsfonts/cm/cmr1\r\n",
      "2.pfb></usr/share/texlive/texmf-dist/fonts/type1/public/amsfonts/cm/cmr7.pfb></\r\n",
      "usr/share/texlive/texmf-dist/fonts/type1/public/amsfonts/cm/cmr8.pfb></usr/shar\r\n",
      "e/texlive/texmf-dist/fonts/type1/public/amsfonts/cm/cmsl12.pfb></usr/share/texl\r\n",
      "ive/texmf-dist/fonts/type1/public/amsfonts/cm/cmsy10.pfb></usr/share/texlive/te\r\n",
      "xmf-dist/fonts/type1/public/amsfonts/cm/cmsy8.pfb></usr/share/texlive/texmf-dis\r\n",
      "t/fonts/type1/public/amsfonts/cm/cmtt12.pfb></usr/share/texmf/fonts/type1/publi\r\n",
      "c/cm-super/sfrm1200.pfb>\r\n"
     ]
    },
    {
     "name": "stdout",
     "output_type": "stream",
     "text": [
      "Output written on ce-3354-ex1-2025-3-SOLN.pdf (17 pages, 1215055 bytes).\r\n",
      "Transcript written on ce-3354-ex1-2025-3-SOLN.log.\r\n"
     ]
    }
   ],
   "source": [
    "! pdflatex ce-3354-ex1-2025-3-SOLN.tex"
   ]
  },
  {
   "cell_type": "code",
   "execution_count": 2,
   "id": "e977fd11-fe7d-4aaa-ba92-c62df7daf3b3",
   "metadata": {},
   "outputs": [
    {
     "data": {
      "text/plain": [
       "1.200000000000001"
      ]
     },
     "execution_count": 2,
     "metadata": {},
     "output_type": "execute_result"
    }
   ],
   "source": [
    "(0.5-0.48)/(1/60)"
   ]
  },
  {
   "cell_type": "code",
   "execution_count": null,
   "id": "8d800bc2-bf8d-4abc-91c6-e6a1104f4511",
   "metadata": {},
   "outputs": [],
   "source": []
  }
 ],
 "metadata": {
  "kernelspec": {
   "display_name": "Python Common Environment",
   "language": "python",
   "name": "python-my-env"
  },
  "language_info": {
   "codemirror_mode": {
    "name": "ipython",
    "version": 3
   },
   "file_extension": ".py",
   "mimetype": "text/x-python",
   "name": "python",
   "nbconvert_exporter": "python",
   "pygments_lexer": "ipython3",
   "version": "3.10.12"
  }
 },
 "nbformat": 4,
 "nbformat_minor": 5
}