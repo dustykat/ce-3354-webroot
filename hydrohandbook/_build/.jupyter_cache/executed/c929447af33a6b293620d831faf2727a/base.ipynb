{
 "cells": [
  {
   "cell_type": "code",
   "execution_count": 1,
   "id": "fbc87723-315b-470f-b66c-16195961c4e4",
   "metadata": {},
   "outputs": [],
   "source": [
    "def W(u): # Theis well function using exponential integral\n",
    "    import scipy.special as sc\n",
    "    w = sc.expn(1,u)\n",
    "    return(w)\n",
    "\n",
    "def s(radius,time,storage,transmissivity,discharge): # Drawdown function using exponential integral\n",
    "    import math\n",
    "    u = ((radius**2)*(storage))/(4*transmissivity*time)\n",
    "    s = ((discharge)/(4*math.pi*transmissivity))*W(u)\n",
    "    return(s)\n"
   ]
  },
  {
   "cell_type": "code",
   "execution_count": 2,
   "id": "6cf94348-43bb-407c-b811-86d04f1e52b8",
   "metadata": {},
   "outputs": [
    {
     "name": "stdout",
     "output_type": "stream",
     "text": [
      "Drawdown is  5.73  meters\n"
     ]
    }
   ],
   "source": [
    "radius=7.0\n",
    "time=1.0\n",
    "storage=0.0051\n",
    "transmissivity=299\n",
    "discharge=2725\n",
    "\n",
    "print(\"Drawdown is \",round(s(radius,time,storage,transmissivity,discharge),2),\" meters\")"
   ]
  },
  {
   "cell_type": "code",
   "execution_count": 3,
   "id": "52c1ea17-77e5-49ac-91b0-cbc1be6cb700",
   "metadata": {},
   "outputs": [],
   "source": [
    "def wh(u, rho): # Hantush Leaky aquifer well function\n",
    "    import numpy\n",
    "    \"\"\"Returns Hantush's well function values\n",
    "\n",
    "    Note: works only for scalar values of u and rho\n",
    "\n",
    "    Parameters:\n",
    "    -----------\n",
    "    u : scalar  (u= r^2 * S / (4 * kD * t))\n",
    "    rho : sclaar (rho =r / lambda, lambda = sqrt(kD * c))\n",
    "    Returns:\n",
    "    --------\n",
    "    Wh(u, rho) : Hantush well function value for (u, rho)\n",
    "    \"\"\"\n",
    "    try:\n",
    "        u =float(u)\n",
    "        rho =float(rho)\n",
    "    except:\n",
    "        print(\"u and rho must be scalars.\")\n",
    "        raise ValueError()\n",
    "\n",
    "    LOGINF = 2\n",
    "    y = numpy.logspace(numpy.log10(u), LOGINF, 1000)\n",
    "    ym = 0.5 * (y[:-1]+  y[1:])\n",
    "    dy = numpy.diff(y)\n",
    "    wh = numpy.sum(numpy.exp(-ym - (rho / 2)**2 / ym ) * dy / ym)\n",
    "    return wh\n",
    "\n",
    "wh(0.625,5);"
   ]
  },
  {
   "cell_type": "code",
   "execution_count": 4,
   "id": "775c53d6-88e6-4b3e-99c5-e0f211c1807d",
   "metadata": {},
   "outputs": [],
   "source": [
    "def leaky(radius,time,storage,transmissivity,discharge,leakance): # Leaky drawdown function using Hantush solution\n",
    "    import math\n",
    "    u = ((radius**2)*(storage))/(4*transmissivity*time)\n",
    "    roB = radius/leakance\n",
    "    leaky = ((discharge)/(4*math.pi*transmissivity))*wh(u,roB)\n",
    "    return(leaky)"
   ]
  },
  {
   "cell_type": "code",
   "execution_count": 5,
   "id": "d2a0e099-4602-4499-ab37-d79bb4e934eb",
   "metadata": {},
   "outputs": [
    {
     "name": "stdout",
     "output_type": "stream",
     "text": [
      "radius    drawdown   \n",
      "1.5 4.089\n",
      "5.5 2.57\n",
      "10 1.879\n",
      "25 0.874\n",
      "75 0.079\n",
      "150 0.001\n"
     ]
    }
   ],
   "source": [
    "import math\n",
    "radius=[1.5,5.5,10,25,75,150]\n",
    "ddn=[0 for i in range(len(radius))] # list of zeros to hold results\n",
    "# simulation constants\n",
    "time = 1 # 1 day\n",
    "transmissivity = 3.8\n",
    "storage = 0.0035\n",
    "discharge = 28\n",
    "bprime = 1.1\n",
    "Kvert = 5.5e-05\n",
    "# computed constants\n",
    "B = math.sqrt((transmissivity*bprime)/Kvert)\n",
    "# compute the drawdowns\n",
    "for i in range(len(radius)):\n",
    "    ddn[i]=leaky(radius[i],time,storage,transmissivity,discharge,B)\n",
    "# print results\n",
    "print(\"radius    drawdown   \")\n",
    "for i in range(len(radius)):\n",
    "    print(round(radius[i],1),round(ddn[i],3))"
   ]
  },
  {
   "cell_type": "code",
   "execution_count": 6,
   "id": "cb90938d-7612-4734-afec-c09b3a23885e",
   "metadata": {},
   "outputs": [],
   "source": [
    "# Autobuild exercise set"
   ]
  }
 ],
 "metadata": {
  "kernelspec": {
   "display_name": "Python Common Environment",
   "language": "python",
   "name": "python-my-env"
  },
  "language_info": {
   "codemirror_mode": {
    "name": "ipython",
    "version": 3
   },
   "file_extension": ".py",
   "mimetype": "text/x-python",
   "name": "python",
   "nbconvert_exporter": "python",
   "pygments_lexer": "ipython3",
   "version": "3.10.12"
  }
 },
 "nbformat": 4,
 "nbformat_minor": 5
}