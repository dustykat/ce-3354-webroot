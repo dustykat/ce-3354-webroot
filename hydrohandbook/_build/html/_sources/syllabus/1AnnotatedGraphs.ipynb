{
 "cells": [
  {
   "cell_type": "markdown",
   "id": "8646c9b1-8b17-4428-8787-3db6ec70ff03",
   "metadata": {},
   "source": [
    "📊 Rainfall & Precipitation\n",
    "1. Hyetograph of a Design Storm: Annotate storm intensity, duration, peak, and total rainfall.\n",
    "2. Cumulative Rainfall Plot for a Major Event: Highlight breakpoints, intensity shifts, and saturation timing.\n",
    "3. Annual Rainfall Trends Over Time: Mark dry years, wet years, and long-term moving averages.\n",
    "\n",
    "🌊 Streamflow & Hydrographs\n",
    "\n",
    "1. Hydrograph of a Flash Flood: Annotate rising limb, peak discharge, recession, and baseflow.\n",
    "2. Comparison of Pre- and Post-Development Hydrographs: Identify changes in peak, lag time, and runoff volume.\n",
    "3. Rating Curve with Discharge Annotations: Label different flow regimes (e.g., low flow, bankfull, flood stage).\n",
    "\n",
    "🌧️ Runoff & Watershed Response\n",
    "1. Runoff vs. Rainfall Depth by Land Cover: Show differing responses for impervious vs. natural surfaces.\n",
    "2. Time of Concentration Estimation: Use slope of rising limb or flowpath-based analysis with annotations.\n",
    "3. Runoff Coefficients by Land Use: Visualize and annotate bar chart or map-based coefficient zones.\n",
    "\n",
    "🧪 Soil, Infiltration, and Groundwater\n",
    "1. Infiltration Rate Curves (Horton or Green-Ampt):\n",
    "Annotate initial vs. steady-state rates, curve fit, and field test method.\n",
    "2. Soil Moisture Time Series:\n",
    "Label rainfall events, recharge, evapotranspiration loss.\n",
    "3. Water Table Fluctuation Over Time:\n",
    "Annotate recharge events, pumping impacts, and seasonal trends.\n",
    "\n",
    "🛠️ Design and Engineering Applications\n",
    "1. Pump Curve (Head vs. Flow Rate): Annotate operating range, best efficiency point, and shutoff head.\n",
    "2. Reservoir Storage Curve: Label conservation pool, flood pool, and dead storage zones.\n",
    "3. Stage-Storage or Stage-Discharge Relationship: Annotate thresholds relevant to management or modeling.\n",
    "\n",
    "🔍 Water Quality & Pollution\n",
    "1. Stormwater Pollutograph: Plot and annotate pollutant concentrations vs. time during storm.\n",
    "2. Turbidity or TSS During Storm Event: Annotate first flush, settling, and background levels.\n",
    "3. Dissolved Oxygen vs. Streamflow: Annotate critical lows, saturation, and possible biological impacts.\n",
    "\n",
    "🌎 Climate & Regional Hydrology\n",
    "1. Snowpack vs. Time for a Watershed:\n",
    "Annotate peak accumulation, melt timing, and water equivalent.\n",
    "2. Standardized Precipitation Index (SPI) Graph:\n",
    "Annotate drought severity, return to normal, and climatological context.\n",
    "3. Climate Model Precipitation Projections:\n",
    "Annotate confidence bands, median paths, and divergence zones.\n",
    "\n",
    "🗺️ Mapping & Spatial Data\n",
    "1. Rainfall Isohyet Map with Event Markers:\n",
    "Annotate rain gauge locations, max/min zones, and storm track.\n",
    "2. Flood Inundation Map from Model Output:\n",
    "Annotate flood extent, depth categories, and key infrastructure.\n",
    "3. Land Use vs. Imperviousness Chart or Map:\n",
    "Annotate zones of greatest hydrologic change or impact."
   ]
  },
  {
   "cell_type": "code",
   "execution_count": null,
   "id": "cdd43ef6-f8c0-49c1-9439-42032550c5cb",
   "metadata": {},
   "outputs": [],
   "source": []
  }
 ],
 "metadata": {
  "kernelspec": {
   "display_name": "Python Common Environment",
   "language": "python",
   "name": "python-my-env"
  },
  "language_info": {
   "codemirror_mode": {
    "name": "ipython",
    "version": 3
   },
   "file_extension": ".py",
   "mimetype": "text/x-python",
   "name": "python",
   "nbconvert_exporter": "python",
   "pygments_lexer": "ipython3",
   "version": "3.10.12"
  }
 },
 "nbformat": 4,
 "nbformat_minor": 5
}
