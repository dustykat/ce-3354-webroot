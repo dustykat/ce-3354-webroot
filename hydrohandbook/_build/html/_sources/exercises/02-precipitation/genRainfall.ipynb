{
 "cells": [
  {
   "cell_type": "code",
   "execution_count": 2,
   "id": "760989b2-fc52-4132-b3f3-c4f177a94038",
   "metadata": {},
   "outputs": [
    {
     "name": "stdout",
     "output_type": "stream",
     "text": [
      "✅ File saved: generated_rainfall_data.csv\n"
     ]
    }
   ],
   "source": [
    "# Script to generate a simulated raingage datafile\n",
    "\n",
    "import pandas as pd\n",
    "from io import StringIO\n",
    "\n",
    "# Sample cumulative rainfall input (time in hours, depth in mm)\n",
    "sample_data = \"\"\"# Time Depth\n",
    "0.0 0.00\n",
    "3.9 1.20\n",
    "7.0 2.40\n",
    "10.0 3.00\n",
    "11.0 3.00\n",
    "\"\"\"\n",
    "\n",
    "# Read into DataFrame\n",
    "df = pd.read_csv(StringIO(sample_data), comment=\"#\", sep=r\"\\s+\", names=[\"time_hr\", \"depth_mm\"])\n",
    "\n",
    "# Convert time (hours) to datetime starting from a defined origin\n",
    "origin = pd.Timestamp(\"2025-01-01 00:00:00\")\n",
    "df[\"timestamp\"] = origin + pd.to_timedelta(df[\"time_hr\"], unit=\"h\")\n",
    "\n",
    "# Reorder columns for clarity\n",
    "df = df[[\"timestamp\", \"time_hr\", \"depth_mm\"]]\n",
    "\n",
    "# Save to external CSV file\n",
    "output_filename = \"generated_rainfall_data.csv\"\n",
    "df.to_csv(output_filename, index=False)\n",
    "\n",
    "print(f\"✅ File saved: {output_filename}\")"
   ]
  },
  {
   "cell_type": "code",
   "execution_count": null,
   "id": "682da983-c0cf-4ea6-96ad-1eb35b84964c",
   "metadata": {},
   "outputs": [],
   "source": []
  }
 ],
 "metadata": {
  "kernelspec": {
   "display_name": "Python Common Environment",
   "language": "python",
   "name": "python-my-env"
  },
  "language_info": {
   "codemirror_mode": {
    "name": "ipython",
    "version": 3
   },
   "file_extension": ".py",
   "mimetype": "text/x-python",
   "name": "python",
   "nbconvert_exporter": "python",
   "pygments_lexer": "ipython3",
   "version": "3.10.12"
  }
 },
 "nbformat": 4,
 "nbformat_minor": 5
}
