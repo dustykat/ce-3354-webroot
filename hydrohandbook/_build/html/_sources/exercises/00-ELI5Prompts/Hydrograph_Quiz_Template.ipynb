{
 "cells": [
  {
   "cell_type": "markdown",
   "id": "b7e23e6b",
   "metadata": {},
   "source": [
    "# Quiz: Hydrograph Fundamentals\n",
    "\n",
    "This quiz is administered using `nbgrader`. Please answer the following question by assigning the correct letter (`'A'`, `'B'`, `'C'`, or `'D'`) to the variable `answer2` in the code cell below.\n"
   ]
  },
  {
   "cell_type": "markdown",
   "id": "3f7e6dba",
   "metadata": {},
   "source": [
    "### Question 2\n",
    "\n",
    "**What information can be inferred from the peak of a hydrograph?**\n",
    "\n",
    "- A. The exact location of the storm’s origin  \n",
    "- B. The maximum infiltration rate of the soil  \n",
    "- C. The maximum discharge caused by the storm  \n",
    "- D. The volume of water stored in the soil"
   ]
  },
  {
   "cell_type": "code",
   "execution_count": 4,
   "id": "2e17ebd9",
   "metadata": {},
   "outputs": [],
   "source": [
    "# YOUR ANSWER HERE\n",
    "answer2 = ''"
   ]
  },
  {
   "cell_type": "code",
   "execution_count": 5,
   "id": "7dd8015d",
   "metadata": {
    "nbgrader": {
     "grade": true,
     "grade_id": "answer2_test",
     "locked": true,
     "points": 1,
     "solution": false
    }
   },
   "outputs": [],
   "source": [
    "# TEST CASE\n",
    "assert answer2 in ['A', 'B', 'C', 'D'], 'Answer must be one of: A, B, C, or D'\n",
    "assert answer2 == 'C', 'Incorrect: The correct answer is C – the peak of a hydrograph indicates the maximum discharge.'"
   ]
  },
  {
   "cell_type": "code",
   "execution_count": null,
   "id": "708085f0-0caf-4011-83bc-4844593caab9",
   "metadata": {},
   "outputs": [],
   "source": []
  }
 ],
 "metadata": {
  "kernelspec": {
   "display_name": "Python Common Environment",
   "language": "python",
   "name": "python-my-env"
  },
  "language_info": {
   "codemirror_mode": {
    "name": "ipython",
    "version": 3
   },
   "file_extension": ".py",
   "mimetype": "text/x-python",
   "name": "python",
   "nbconvert_exporter": "python",
   "pygments_lexer": "ipython3",
   "version": "3.10.12"
  }
 },
 "nbformat": 4,
 "nbformat_minor": 5
}
