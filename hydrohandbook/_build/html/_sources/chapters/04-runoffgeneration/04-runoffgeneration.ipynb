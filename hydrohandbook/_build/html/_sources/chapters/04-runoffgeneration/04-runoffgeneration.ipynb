{
 "cells": [
  {
   "cell_type": "markdown",
   "id": "73b8747c-19b2-4e3d-9b05-0c07a10c6936",
   "metadata": {},
   "source": [
    " # 4. Runoff Generation and Watershed Hydrology"
   ]
  },
  {
   "cell_type": "markdown",
   "id": "212e642d-b1ac-4b84-8f5b-acf45776c403",
   "metadata": {},
   "source": [
    ":::{admonition} Course Website\n",
    "[link to course webroot](http://54.243.252.9/)\n",
    ":::\n",
    "\n"
   ]
  },
  {
   "cell_type": "markdown",
   "id": "66f80f87-2bd1-44a6-bb12-a1d8ef9d6ae6",
   "metadata": {
    "jp-MarkdownHeadingCollapsed": true
   },
   "source": [
    "## Readings\n",
    "1. [Gupta, R.S., 2017. Hydrology and Hydraulic Systems, pp 338-340](https://www.waveland.com/browse.php?t=384)\n",
    "2. [Brutsaert, W., 2005, Hydrology: An Introduction. Cambridge University Press](https://www.amazon.com/Hydrology-Introduction-Wilfried-Brutsaert/dp/0521824796/ref=sr_1_1?crid=26239UVBUDNRC&keywords=hydrology+an+introduction+brusehart&qid=1697843874&sprefix=hydrology+an+introduction+brusehart%2Caps%2C84&sr=8-1)\n",
    "3. Horton, R. E. (1933). The Role of Infiltration in the Hydrologic Cycle. Transactions, American Geophysical Union, 14, 446–460.\n",
    "4. [Chow, V.T., Maidment, D.R., Mays, L.W., 1988, Applied Hydrology:  New York, McGraw-Hill. ](http://54.243.252.9/ce-3354-webroot/3-Readings/CMM1988/Applied%20Hydrology%20VT%20Chow%201988.pdf) \n",
    "5. Dunne, T., & Leopold, L. B. (1978). Water in Environmental Planning. W.H. Freeman.\n",
    "6. Dunne, T., & Black, R. D. (1970). Partial Area Contributions to Storm Runoff in a Small New England Watershed. Water Resources Research, 6(5), 1296–1311.\n",
    "7. Hewlett, J. D., & Troendle, C. A. (1975). Non-point and diffused sources—A hydrologic perspective. In: Proceedings of a symposium on non-point sources of water pollution.\n",
    "8. Hall, F.R. (1968). Base flow recessions—a review. Water Resources Research, 4(5), 973–983.\n",
    "9. Hewlett, J.D. & Hibbert, A.R. (1967). Factors affecting the response of small watersheds to precipitation in humid areas. Forests Hydrology, 275–290.\n",
    "10. Anderson, M.G. & Burt, T.P. (1978). Runoff in the hillslope hydrological system. Earth Surface Processes, 3(4), 361–377.\n",
    "11. [Baraka, M. 2024, Watershed Delineation in QGIS: A Summary Guide](http://54.243.252.9/ce-5361-webroot/3-Readings/Hydrology_GIS_part1.pdf)\n",
    "12. [Watersheds - McCuen](http://54.243.252.9/ce-3354-webroot/3-Readings/McCuen-Watersheds/McCuen-Watersheds.pdf)\n",
    "13. [How to Delineate a Watershed](http://54.243.252.9/ce-3354-webroot/3-Readings/NewHampshire-Watersheds/Topowatershed.pdf)\n",
    "14. [How To Measure Path](http://54.243.252.9/ce-3354-webroot/3-Readings/HowToMeasurePath/HowToMeasurePath.pdf)\n",
    "15. [Numerical Planimetry](http://54.243.252.9/ce-3354-webroot/3-Readings/NumericalPlanimetry/)\n",
    "16. [How to Interpret Topographic Maps](http://54.243.252.9/ce-3354-webroot/3-Readings/UsingTopographicMaps/Pages%20from%20USAF-Survival-Manual-644.pdf)\n",
    "17. [Cleveland, T. G. (2020) *Surface Water Hydrology Notes (Watersheds) to accompany CE-5361*, Department of Civil, Environmental, and Construction Engineering, Whitacre College of Engineering.](http://54.243.252.9/ce-3354-webroot/1-Lectures-2020/lesson04/Lesson04.pdf)\n",
    "18. [Cleveland, T. G. (2017) *Engineering Hydrology Notes (Hydrologic Data; Watershed Delineation) to accompany CE-3354*, Department of Civil, Environmental, and Construction Engineering, Whitacre College of Engineering.](http://54.243.252.9/ce-3354-webroot/1-Lectures-2017/Lecture03.pdf)\n",
    "19. [Cleveland, T. G. (2017) *Engineering Hydrology Notes (Watershed Metrics) to accompany CE-3354*, Department of Civil, Environmental, and Construction Engineering, Whitacre College of Engineering.](http://54.243.252.9/ce-3354-webroot/ce-3354-webbook-2024/my3354notes/lessons/05-Watersheds/Lesson04.pdf)\n",
    "20. [Florida Delineation Training Watershed (png)](http://54.243.252.9/ce-3354-webroot/1-Lectures-2017/Florida-Training-Watershed.png) Right-Click \"Save As...\"\n",
    "21. [Texas Delineation Training Watershed (png)](http://54.243.252.9/ce-3354-webroot/1-Lectures-2017/Texas-Training-Watershed.png) Right-Click \"Save As...\"\n",
    "\n",
    "<hr>"
   ]
  },
  {
   "cell_type": "markdown",
   "id": "dec8ee91-7b5c-4897-8a88-ad4955a60aa5",
   "metadata": {},
   "source": [
    "## Videos\n",
    "\n",
    "1. [What is a Watershed? (YouTube)](https://www.youtube.com/watch?v=QOrVotzBNto)\n",
    "2. [What is a Watershed?-Illustrated (YouTube)](https://www.youtube.com/watch?v=w58XwzVcBFM)\n",
    "3. [Why Watersheds Matter (YouTube)](https://www.youtube.com/watch?v=Om-eJBt9WvQ)\n",
    "4. [Watershed Delineation Example (YouTube)](https://www.youtube.com/watch?v=ajF0DsuuY4k)\n",
    "5. [Manual Watershed Delineation (USGS)](https://www.youtube.com/watch?v=RxO2814piio)\n",
    "6. [Watershed Delineation using ArcGIS (YouTube)](https://www.youtube.com/watch?v=v3Ajg6W8Rj8)\n",
    "7. [Watershed Delineation using qGIS (YouTube)](https://www.youtube.com/watch?v=2fvy9xtAHc4)\n",
    "8. [How to Delineate a Watershed in qGIS (YouTube)](https://www.youtube.com/watch?v=CE7zZCkFbg4)\n",
    "9. [Watershed Delineation and Metrics](https://www.youtube.com/watch?v=qzKS8n8RrdE)\n",
    "10. [Measuring Area](https://www.youtube.com/watch?v=pDFystIDxn0)\n",
    "13. [Watershed Characteristics](https://www.youtube.com/watch?v=wSvFrX48JOo)\n",
    "11. [Manual Delineation](https://www.youtube.com/watch?v=cZBKrc6_B-E)\n",
    "12. [Delineate Hardin Branch Watershed in QGIS (ES-2 Solution)](https://youtu.be/e1AbKqlHaow)\n",
    "\n"
   ]
  },
  {
   "cell_type": "markdown",
   "id": "fbf3bc5e-748f-4857-b6ef-8652fb04887b",
   "metadata": {},
   "source": [
    "## Runoff Mechanisms\n",
    "\n",
    "The generation of runoff is typically explained by either an excess of precipitation above infiltration capacity (Hortonian overland flow) or by an excess of saturation above soil storage capacity (Dunne overland flow).  There are certainly more explainations.  \n",
    "\n",
    "These two have some historical importance in hydrologic science, so will be examined further.\n",
    "\n",
    "### Hortonian Overland Flow: Excess Precipitation Mechanism of Runoff Generation\n",
    "\n",
    "Hortonian overland flow, named after hydrologist Robert E. Horton, refers to a process where rainfall intensity exceeds the soil's infiltration capacity, resulting in excess water flowing over the land surface. First formalized in Horton’s seminal paper “The Role of Infiltration in the Hydrologic Cycle” (1933), this mechanism remains foundational in hydrology and watershed modeling.\n",
    "\n",
    "#### Key Concepts\n",
    "**Infiltration Capacity Curve:** Horton postulated that soil infiltration capacity decreases over time during a storm event, starting from a high initial value and asymptotically approaching a minimum. When rainfall intensity surpasses this curve, the soil cannot absorb the water fast enough, leading to surface runoff.\n",
    "\n",
    "**Threshold Behavior:** Unlike saturation-excess runoff (which depends on the soil becoming fully saturated), Hortonian flow is intensity-driven. It can occur even when the soil is relatively dry, provided that the rainfall rate is sufficiently high.\n",
    "\n",
    "Typical conditions where Hortonian flow models observed behavior well includes:\n",
    "1. Arid or semi-arid regions\n",
    "2. Urban areas with impervious surfaces\n",
    "3. Steep slopes with compacted or crusted soils\n",
    "\n",
    "Mathematical Representation\n",
    "Horton's infiltration model is typically written as:\n",
    "\n",
    "$$f(t)=f_c+(f_0 - f_c)e^{-kt}$$\n",
    " \n",
    "Where:\n",
    "- $f(t)$ = infiltration rate at time $t$\n",
    "- $f_0$ = initial infiltration rate\n",
    "- $f_c$ = asymptotic (minimum) infiltration rate\n",
    "- $k$   = is a decay constant related to how quickly the soil reaches the asymptotic rate\n",
    "\n",
    "Runoff (overland flow) occurs when the rainfall rate $P(t)$ exceeds $f(t)$.\n",
    "\n",
    "![](HortonFlowImage.png)\n",
    "\n",
    "The diagram shows rainfall falling onto the land surface, with part infiltrating into the soil and the excess forming overland flow when the infiltration capacity is exceeded.\n",
    "\n",
    "### Applications and Relevance\n",
    "- Urban Hydrology: Predicting flood peaks from impervious areas.\n",
    "- Soil Erosion Models: Hortonian flow contributes to detachment and transport of sediments.\n",
    "- Runoff Modeling Tools: SWMM, HEC-HMS, and other hydrologic models incorporate Horton-based infiltration options."
   ]
  },
  {
   "cell_type": "markdown",
   "id": "846903ff-ad9f-4ed2-bd34-9d322d91ccb6",
   "metadata": {},
   "source": [
    "### Dunne Saturation Excess Overland Flow: A Soil Saturation Mechanism of Runoff\n",
    "\n",
    "Dunne overland flow, named after Thomas Dunne, describes a process where water flows over land surfaces not because of intense rainfall, but because the soil has become fully saturated. Once the soil’s pores are filled to capacity, any additional rainfall—no matter how light—becomes surface runoff.\n",
    "\n",
    "This concept was formalized through Dunne’s field studies in humid, vegetated catchments, most notably in his 1978 work with Luna Leopold.\n",
    "\n",
    "#### Key Concepts\n",
    "**Saturation Before Rainfall:** In Dunne flow, the soil can already be near saturation before a storm begins. Rainfall simply pushes it past the tipping point.\n",
    "\n",
    "**Lateral Subsurface Flow Contribution:** Saturation often occurs due to lateral water movement, especially downslope, where a convergence of subsurface flow brings soil to full saturation before rainfall arrives.\n",
    "\n",
    "**Location-Specific:** This type of overland flow is most common in:\n",
    "\n",
    "1. Humid, forested catchments\n",
    "2. Areas with shallow water tables\n",
    "3. Soils with low permeability at depth\n",
    "\n",
    "![](DunneFlowImage.png)\n",
    "This diagram illustrates how rainfall infiltrates initially, but once the saturation front reaches the surface, additional water cannot enter the soil and flows across the surface, often from lower-lying saturated patches upslope.\n",
    "\n",
    "Distinction from Hortonian Flow\n",
    "|Feature\t|Hortonian Flow\t|Dunne Flow|\n",
    "|-----------|---------------|----------|\n",
    "|Trigger\t|Rainfall exceeds infiltration rate\t|Soil becomes fully saturated|\n",
    "|Soil Condition\t|Can occur in dry soils\t|Requires prior saturation|\n",
    "|Common Environment\t|Arid, urban, compacted soils\t|Humid, vegetated, shallow soils|\n",
    "|Onset\t|Fast, during intense storms\t|Often delayed until soils saturate|"
   ]
  },
  {
   "cell_type": "markdown",
   "id": "c39db13a-c0a5-4221-ae14-7efb2bc0b688",
   "metadata": {
    "jupyter": {
     "source_hidden": true
    }
   },
   "source": [
    "## Flow Pathways\n",
    "Related oncepts are interflow and baseflow (as it appears in streams), these are related to pathways available for runoff to make its way through a watershed.  \n",
    "\n",
    "### Interflow (Shallow Subsurface Stormflow)\n",
    "\n",
    "Interflow is defined as lateral flow of water that occurs within the unsaturated soil zone during or shortly after rainfall, usually downslope above a low-permeability layer.\n",
    "\n",
    "#### Key Characteristics:\n",
    "1. Occurs beneath the surface but above the water table\n",
    "2. Moves laterally downslope toward streams or seepage zones\n",
    "3. Influenced by soil layering, slope, and moisture content\n",
    "4. Sometimes mistaken for baseflow when it reaches channels\n",
    "\n",
    "![](InterflowImage.png)\n",
    "\n"
   ]
  },
  {
   "cell_type": "markdown",
   "id": "ffff5f8b-f011-4b26-bad5-eb1e1261eb32",
   "metadata": {
    "jupyter": {
     "source_hidden": true
    }
   },
   "source": [
    "### Baseflow\n",
    "\n",
    "Baseflow is the portion of streamflow that is sustained between rainfall events, fed by delayed pathways such as groundwater discharge.\n",
    "\n",
    "#### Key Characteristics:\n",
    "1. Originates from deep percolation and groundwater flow\n",
    "2. Maintains streamflow during dry periods\n",
    "3. Typically slow and stable compared to storm runoff\n",
    "\n",
    "![](BaseFlowImage.png)"
   ]
  },
  {
   "cell_type": "markdown",
   "id": "0d489a53-826c-46bb-b0c7-dff2602203d6",
   "metadata": {},
   "source": [
    "## Summary of Runoff Mechanisms and Flow Pathways\n",
    "\n",
    "|Feature|Hortonian Flow|Dunne Flow|Interflow|Baseflow|\n",
    "|-------|--------------|----------|---------|--------|\n",
    "|Trigger|Rain > Infiltration Rate|Soil becomes fully saturated|Subsurface saturation|Groundwater discharge|\n",
    "|Location|Surface|Surface|Unsaturated zone, downslope|Saturated zone below water table|\n",
    "|Typical Timing|Fast, during intense storms|Delayed until saturation|Short lag, fast or moderate|Long lag, sustained|\n",
    "|Common Setting|Urban, arid soils|Humid, vegetated catchments|Sloped terrains with clay layers|All stream-fed watersheds|"
   ]
  },
  {
   "cell_type": "markdown",
   "id": "35351c37-ee29-41f3-a3bc-eeac3bb371e0",
   "metadata": {},
   "source": [
    "## Watershed Characteristics and Delineation\n",
    "In engineering hydrology, understanding watershed characteristics is fundamental to estimating runoff, designing drainage structures, and managing water resources. The physical parameters of a watershed—its boundaries, area, slope, and land use—strongly influence both the quantity and timing of runoff.\n",
    "\n",
    "### Watershed Boundaries\n",
    "A watershed boundary defines the spatial extent within which all precipitation drains to a common outlet point. These divides follow the highest ridgelines between basins and can often be visualized as the perimeter around a bowl. In hydrological modeling, boundaries are used to isolate contributing areas and apply water balance equations.\n",
    "\n",
    "![](WatershedBoundary.png)\n",
    "\n",
    ":::{warning} \n",
    "Errors in defining boundaries lead to incorrect estimation of contributing area, distorting runoff predictions and infrastructure design. \n",
    ":::\n",
    "\n",
    "### Watershed Area\n",
    "The total area enclosed by a watershed boundary is directly proportional to the volume of runoff generated. Larger watersheds tend to produce greater runoff volumes, although the relationship is moderated by other factors like rainfall intensity, storage, and infiltration.\n",
    "\n",
    ":::{warning} \n",
    "Area affects peak discharge calculations and is a key input for Rational Method, SCS Curve Number method, and unit hydrograph methods. \n",
    ":::\n",
    "\n",
    "### Watershed Slope\n",
    "Slope determines the velocity of overland and channel flow. Steeper slopes tend to accelerate runoff, reducing infiltration and increasing peak discharges. Slope is typically calculated from Digital Elevation Models (DEMs) and summarized as average basin slope or main channel slope.\n",
    "\n",
    ":::{warning} \n",
    "Steep watersheds are more prone to flash flooding and erosion, requiring more robust energy dissipation in hydraulic design. \n",
    ":::\n",
    "\n",
    "### Land Use and Land Cover\n",
    "Land use affects both infiltration and surface roughness. Forested or vegetated land promotes infiltration and delays runoff, while impervious surfaces like roads and rooftops increase runoff volume and reduce lag time.\n",
    "\n",
    ":::{warning} \n",
    "Hydrologic models must account for land use when assigning curve numbers, runoff coefficients, or surface roughness values (Manning’s n). \n",
    ":::\n",
    "\n",
    "## Time of Concentration and Drainage Network Mapping\n",
    "**Time of Concentration ($T_c$)** is defined as the time required for runoff to travel from the most hydraulically distant point in the watershed to the outlet. It represents the upper limit of response time and is essential in designing for peak discharge.\n",
    "\n",
    "The time of concentration is assumed to be comprised of three distinguishable overland flow regimes: sheet flow, shallow concentrated flow, and channelized flow.  \n",
    "\n",
    "$$T_c = T_{sheet} + T_{shallow} + T_{channel}$$\n",
    "\n",
    "![](TimeOfConcentration.png)\n",
    "\n",
    "Several empirical equations are used to estimate $T_c$, including Kirpich, NRCS, and Kerby formulas, each tuned for different conditions. Engineers select the method based on watershed slope, length, and land use.\n",
    "\n",
    ":::{warning} \n",
    "Underestimating $T_c$ leads to overdesigned structures, while overestimating it may result in flood risk due to underestimated peak flows. \n",
    ":::\n",
    "\n",
    ":::{note}\n",
    "Recent emerging tools can simulate watershed response entirely from statistical-mechanical principles and over time are likely to reduce the reliance on $T_c$ concepts in the future.\n",
    ":::\n",
    "\n",
    "## Drainage Network Mapping\n",
    "The drainage network includes all channels—natural or artificial—within a watershed that convey flow to the outlet. This network governs the routing of water, sediment, and pollutants. It’s typically extracted from high-resolution DEMs using flow direction and accumulation algorithms.\n",
    "\n",
    ":::{note} A well-mapped drainage network improves accuracy in hydrograph development, flood modeling, and sediment transport studies.\n",
    ":::"
   ]
  },
  {
   "cell_type": "markdown",
   "id": "cce86ee0-0a13-4176-9084-a6ba4fbae111",
   "metadata": {},
   "source": [
    "## Laboratory: Delineating a watershed using GIS or topographic maps\n",
    "- How to Delineate a Watershed using a Paper Map\n",
    "- How to Delineate a Watershed using GIS"
   ]
  },
  {
   "cell_type": "markdown",
   "id": "b7aec02f-e33c-47d9-a2d1-8996cb7bb2ce",
   "metadata": {},
   "source": [
    "### What are Watersheds?\n",
    "\n",
    "A watershed is the area of land that drains all the streams and rainfall to a common outlet such as the outflow of a reservoir, mouth of a bay, or any point along a stream channel (this outlet is called a pour-point in GIS-speak). The term “watershed” is often used interchangeably with “drainage basin,” which may make the concept easier to visualize. \n",
    "\n",
    ":::{note}\n",
    "A common outlet implies that the various discharges have concentrated into a a definable conduit (as opposed to sheet or overland distributed flow).  The distributed flows are part of the watershed, but at times make engineering analysis at smaller scales challenging as no single control point exists.\n",
    ":::\n",
    "\n",
    "A watershed can encompass a small area of land that drains into a trickling creek. It can encompass multiple states in the Midwest, all draining into the Mississippi River. Or it can encompass multiple countries draining into the Atlantic Ocean. No matter where you are standing or sitting right now, you are in a watershed. \n",
    "\n",
    "Water is constantly in motion, be it via ocean currents, precipitation, or slowly moving through underground aquifers. Any given watershed is part of the larger whole of our global water supply.\n",
    "\n",
    "Smaller watersheds can make up larger watersheds. The Mississippi River has many tributaries (each of which has its own watershed), and in turn empties into the Gulf of Mexico, which connects to the Atlantic Ocean. The U.S. Geological Survey delineates our nation’s watersheds as “Hydrologic Units,” which are assigned hydrologic unit codes. These can range in scale  from expansive water resource regions covering millions of square miles down to tiny local tributary systems. There are 90,000 hydrologic unit codes  designated nationwide. "
   ]
  },
  {
   "cell_type": "markdown",
   "id": "c4be31e8-c072-44d9-9819-c4f866096083",
   "metadata": {},
   "source": [
    "Some more compact definitions of a watershed include:\n",
    "\n",
    "- Topographic area that collects and discharges surface streamflow through one outlet or mouth (pour point)\n",
    "- The area on the surface of the Earth that drains to a specific location\n",
    "- In groundwater a similar concept is called a groundwater basin – only the boundaries can move depending on relative rates of recharge and discharge \n",
    "\n",
    "The topographic definition omits that there could be subsurface sewer systems that can cross topographic boundaries.   \n",
    "It’s a big deal in urban areas.\n",
    "\n",
    "Consider the artist rendering of a watershed\n",
    "\n",
    "![](watershed.png)\n",
    "\n",
    "Large watersheds are comprised of smaller interconnected watersheds, thus in the rendering watershed B is a part of watershed A.\n"
   ]
  },
  {
   "cell_type": "markdown",
   "id": "c4d8bf7e-8290-4385-ab11-505fe8346c2e",
   "metadata": {},
   "source": [
    "### Delineation Concepts\n",
    "\n",
    "Watershed delineation is a fundamental process in hydrology and environmental science that involves defining the boundaries of a drainage area or catchment. It identifies the geographic area from which all precipitation and surface runoff flow into a single outlet, typically a river, stream, or lake.\n",
    "\n",
    "This analytical method is typically employed:\n",
    "\n",
    "1. By-hand and/or semi-automated using digital maps (obsolete, but viable for small areas)\n",
    "2. Fully-automated using digital elevation data and geographic information systems (GIS) (current practice)\n",
    "\n",
    "In all the cases above the goal is to trace the flow of water and determine the contributing area to a specific point of interest. \n",
    "\n",
    "Watershed delineation plays a crucial role in various applications, including flood management, water resource planning, and environmental conservation, by providing a spatial framework to understand and manage water-related processes within a defined geographic region.\n"
   ]
  },
  {
   "cell_type": "markdown",
   "id": "289a569a-4828-4d97-9ee5-f6dbbdfd1890",
   "metadata": {},
   "source": [
    "## Delineation (by Hand)\n"
   ]
  },
  {
   "cell_type": "markdown",
   "id": "c3ff6f07-e7b2-4fdd-9914-76d8dccffad1",
   "metadata": {},
   "source": [
    "### Step 1.  Map of area of interest\n",
    "\n",
    "Identify the pour point. \n",
    "\n",
    "![](pourpoint.png)"
   ]
  },
  {
   "cell_type": "markdown",
   "id": "9d33278b-90ff-47e6-9ffe-1797b48a5fb5",
   "metadata": {},
   "source": [
    "### Step 2.  Superimpose a Grid\n",
    "\n",
    "While not strictly necessary its helpful.  The grid serves two purposes, first a reference system and as a raster representation of the watershed (albeit at a coarse resolution) \n",
    "\n",
    "![](gridoverlay.png)"
   ]
  },
  {
   "cell_type": "markdown",
   "id": "e56fa0e8-0031-4891-be75-828e6c04172e",
   "metadata": {},
   "source": [
    "### Step 3.  Cell Elevations\n",
    "\n",
    "Use the grid to estimate average elevations in a grid cell, you use this information to help locate the boundary.  Water flows from high to low elevation.  Starting from the outlet work uphill until have high point, if its downhill as you cntinue in one direction beyond the point, its possibly the boundary (you are identifying \"ridgeline\" features).\n",
    "\n",
    "Simultaneously identify internal water flow paths, these help identify the ridgeline features.\n",
    "\n",
    "![](estimatecellelev.png)"
   ]
  },
  {
   "cell_type": "markdown",
   "id": "54e90a27-3fb7-4097-817e-2df04e0f4668",
   "metadata": {},
   "source": [
    "### Step 3.  Draw/Refine Boundary Estimates\n",
    "\n",
    "Using the grid to estimate average elevations in a grid cell, you locate the coarse resolution boundary.  Water flows from high to low elevation.  Using the internal water flow paths, move upgradient along these paths to refine the boundary delineation.\n",
    "\n",
    "![](drawboundary.png)"
   ]
  },
  {
   "cell_type": "markdown",
   "id": "33cda713-fcf6-4d96-8af5-4d86b36aefa9",
   "metadata": {},
   "source": [
    "### Step 4.  Tidy up Boundary\n",
    "\n",
    "Tidy up your boundary and declare victory!\n",
    "\n",
    "![](completed-delineation.png)"
   ]
  },
  {
   "cell_type": "markdown",
   "id": "14b9886f-5da9-4300-beee-2dbbfab1baeb",
   "metadata": {},
   "source": [
    "### Hardin Branch Watershed by-hand\n",
    "Here we do step-by-step example of the Hardin Branch project watershed(s). [ce3354-es2-2024-3-ByHandRFS.pdf](ce-3354-webroot/ce-3354-webbook-2024/my3354notes/lessons/05-Watersheds/ce3354-es2-2024-3-ByHandRFS.pdf)"
   ]
  },
  {
   "cell_type": "markdown",
   "id": "3f956c01-2377-411c-9f56-c64b7baecfd3",
   "metadata": {},
   "source": [
    "## Delineation (by GIS)"
   ]
  },
  {
   "cell_type": "markdown",
   "id": "3c3dbac2-1ab9-497c-a965-65caf0a03c7b",
   "metadata": {},
   "source": [
    "### Florida Watershed GIS Workflow\n",
    "Here we do step-by-step example of the previous watershed(s).  The steps are those outlined in  [Baraka, M. 2024, Watershed Delineation in QGIS: A Summary Guide](http://54.243.252.9/ce-5361-webroot/3-Readings/Hydrology_GIS_part1.pdf)\n",
    "\n",
    "[Florida Watershed Workflow Notes (PDF)](http://54.243.252.9/ce-3354-webroot/ce-3354-webbook-2024/my3354notes/lessons/05-Watersheds/QGISWorkflowFlorida.pdf)"
   ]
  },
  {
   "cell_type": "markdown",
   "id": "c0c34d47-be2d-4ca0-830c-3b1cfa10b2ea",
   "metadata": {},
   "source": [
    "## Watershed Metrics (General Concepts)\n",
    "\n",
    "Now that the watershed is identified and demarked we can measure a few commonly used and important physical properties.  These measurements are used are to characterize the fundamental unit in surface water hydrology which is the watershed.\n",
    "\n",
    "- A watershed is defined as the area on the surface of the earth that drains to a specific location.\n",
    "\n",
    "A minimal description of watershed properties must include:\n",
    "- Area\n",
    "- Main channel length\n",
    "- Slope (requires the specification of path), The MCS is usually reported as is the average slope (highest point on the boundary to the pour point).  The transverse slope is often reported too.\n",
    "- Soil permeability\n",
    "- \\%-impervious (developed)"
   ]
  },
  {
   "cell_type": "markdown",
   "id": "b219c9f0-836a-454b-bf73-1e9071bf82ba",
   "metadata": {},
   "source": [
    "### Measuring Area\n",
    "\n",
    "- If the grid cells used in delineation are all squares, one can count the squares contained in the watershed, multiply by the per-cell area and have a good estimate of the watershed area.\n",
    "\n",
    "- If using GIS there is usually an area measurement tool; one can use it, or use the Ones raster mask information to count squares and convert into useful values"
   ]
  },
  {
   "cell_type": "markdown",
   "id": "55de4bba-2c34-4148-a308-65f0799b6fe8",
   "metadata": {},
   "source": [
    "### Measuring Length(s) \n",
    "\n",
    "Similar to area, you can count cells along a path and multiply the count by the length of a cell side, or the cell diagonal (depends on how many diagonal moves you need to make) to obtain a length.  Or use software (Acrobat Pro, AutoCAD, Engauge, ArcGIS, QGIS, .... ) to make the measurements."
   ]
  },
  {
   "cell_type": "markdown",
   "id": "8a96b613-ac03-46cc-be56-9881537db733",
   "metadata": {},
   "source": [
    "### Estimating Slope(s)\n",
    "\n",
    "Slope estimates require two components\n",
    "1. A path with a length ($S$)\n",
    "2. The change in elevation along the path ($\\Delta z$)\n",
    "\n",
    "The dimensionless slope is simply the ratio of the two $\\frac{\\Delta z}{S}$.  Percent slope is the dimensionless slope multiplied by 100.\n",
    "Sometimes slope is expressed in units of $\\frac{ft}{mi}$ or $\\frac{m}{km}$, while meaningful these will have to be converted into dimensionless or \\%-slope for most hydrologic computations."
   ]
  },
  {
   "cell_type": "markdown",
   "id": "a55efde3-206a-471b-859f-61a8d5a2ad30",
   "metadata": {},
   "source": [
    "## Hardin Branch Watershed GIS Workflow\n",
    "Linked is a step-by-step example of a Texas watershed(s).  The steps are those outlined in  [Baraka, M. 2024, Watershed Delineation in QGIS: A Summary Guide](http://54.243.252.9/ce-5361-webroot/3-Readings/Hydrology_GIS_part1.pdf)\n",
    "\n",
    "[GIS Hardin Branch Workflow Notes (PDF)](http://54.243.252.9/ce-3354-webroot/ce-3354-webbook-2024/my3354notes/lessons/05-Watersheds/GISWorkflowHardinBranchNotes.pdf)"
   ]
  },
  {
   "cell_type": "markdown",
   "id": "fd405469-3278-4c53-9f75-5765b1fecbc2",
   "metadata": {},
   "source": [
    "### Estimating Soil Properties\n",
    "\n",
    "Subjective when using paper maps, but reasonable values can be inferred from soil maps - either paper-based or electronic [Web Soil Survey](https://websoilsurvey.sc.egov.usda.gov/App/HomePage.htm)\n",
    "\n",
    "![](websoilsurvey.png)\n",
    "\n",
    ":::{note}\n",
    "There is a GIS plug-in that can directly access the USDA database.\n",
    ":::"
   ]
  },
  {
   "cell_type": "markdown",
   "id": "9507ecd8-8568-44e3-9abc-aa21e640781a",
   "metadata": {},
   "source": [
    "### Estimating \\%-Impervious\n",
    "\n",
    "This is subjective, but one reasonable approach is using Google Earth\n",
    "1. Find the area of interest\n",
    "2. Select a viewing height (needs to be same for all areas if you are going to have to scroll)\n",
    "3. Put a grid on the screen (physical grid on see‐thru plastic, or use a china marker and draw on the screen)\n",
    "4. Count concrete vs not concrete – relative ratio is a useable estimate of the \\% impervious\n",
    "\n",
    ":::{note}\n",
    "This would be a good task to hand off to a machine learner model.  Take the area of interest, capture an image, have the ML model count pixels that are NOT CONCRETE (brown, green, .....).\n",
    "\n",
    "Land use coverages are available in GIS that could be used.\n",
    ":::"
   ]
  },
  {
   "cell_type": "markdown",
   "id": "02de70f9-a055-40a4-b068-09bf36a49737",
   "metadata": {
    "jp-MarkdownHeadingCollapsed": true
   },
   "source": [
    "## USGS StreamStats\n",
    "\n",
    "In many states one could also use an on-line tool called [StreamStats](https://streamstats.usgs.gov/ss/)\n",
    "\n",
    "For example a culvert on Snake Creek in Oklahoma can be examined and will produce the delineation below\n",
    "\n",
    "![](snakecreek.png)\n",
    "\n",
    "Once the watershed is defined, download the shapefile(s) into your GIS and proceede with your remaining hydrological tasks.\n"
   ]
  },
  {
   "cell_type": "markdown",
   "id": "58c71372-547a-42d5-9eeb-c19afcdf3849",
   "metadata": {},
   "source": [
    "## Section End"
   ]
  }
 ],
 "metadata": {
  "kernelspec": {
   "display_name": "Python Common Environment",
   "language": "python",
   "name": "python-my-env"
  },
  "language_info": {
   "codemirror_mode": {
    "name": "ipython",
    "version": 3
   },
   "file_extension": ".py",
   "mimetype": "text/x-python",
   "name": "python",
   "nbconvert_exporter": "python",
   "pygments_lexer": "ipython3",
   "version": "3.10.12"
  }
 },
 "nbformat": 4,
 "nbformat_minor": 5
}
