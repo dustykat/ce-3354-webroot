{
 "cells": [
  {
   "cell_type": "markdown",
   "id": "3c54945b-e64e-488e-a39e-0fe1eb5da779",
   "metadata": {},
   "source": [
    "# 8. Hydrologic Modeling\n",
    "\n"
   ]
  },
  {
   "cell_type": "markdown",
   "id": "e35835e1-3899-4d5d-ab8b-d92cfd7b12f6",
   "metadata": {},
   "source": []
  },
  {
   "cell_type": "markdown",
   "id": "c5902b05-f547-451c-9d72-e3b10ab21664",
   "metadata": {},
   "source": [
    "## Hydrologic modeling in Engineering Design\n",
    "  - Hydrologic modeling, climate change impacts, and water management\n",
    "  - Real-world case studies (dams, levees, stormwater systems)\n",
    "\n",
    "## Course Review and Final Project Presentations\n",
    "  - Summary of key concepts and Q&A session\n",
    "  - Final Lab/Exercise: Group Project on a Hydrologic Case Study"
   ]
  },
  {
   "cell_type": "markdown",
   "id": "db0e2ab2-5314-4b1e-8d75-7d8656ca41cc",
   "metadata": {},
   "source": [
    "## Section End"
   ]
  }
 ],
 "metadata": {
  "kernelspec": {
   "display_name": "Python Common Environment",
   "language": "python",
   "name": "python-my-env"
  },
  "language_info": {
   "codemirror_mode": {
    "name": "ipython",
    "version": 3
   },
   "file_extension": ".py",
   "mimetype": "text/x-python",
   "name": "python",
   "nbconvert_exporter": "python",
   "pygments_lexer": "ipython3",
   "version": "3.10.12"
  }
 },
 "nbformat": 4,
 "nbformat_minor": 5
}
