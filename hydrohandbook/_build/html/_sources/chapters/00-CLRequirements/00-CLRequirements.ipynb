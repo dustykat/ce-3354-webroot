{
 "cells": [
  {
   "cell_type": "markdown",
   "id": "0afa1aef-8852-488f-81ef-96484e0f7d21",
   "metadata": {},
   "source": [
    "# 0. Communication Literacy \n",
    "\n",
    ":::{admonition} Course Website\n",
    "[Link to Course Website](http://54.243.252.9/ce-3354-webroot/)\n",
    ":::\n"
   ]
  },
  {
   "cell_type": "markdown",
   "id": "7b2515b4-1dcb-437c-a3b5-42d51c00a8a8",
   "metadata": {},
   "source": [
    "---\n",
    "## Readings/References\n",
    "\n",
    "1. [TTU Communication Literacy Requirement](https://www.depts.ttu.edu/provost/curriculum/communication-literacy/index.php)\n",
    "\n",
    "**ELI5 / Simplified Explanations**\n",
    "\n",
    "2. Feynman, R. P. (1999). The Pleasure of Finding Things Out. Perseus Books. Describes the “Feynman Technique” of learning by simplification and explanation, now widely adapted in education.\n",
    "\n",
    "3. Brown, P. C., Roediger, H. L., & McDaniel, M. A. (2014). Make It Stick: The Science of Successful Learning. Harvard University Press. Emphasizes retrieval and elaboration as key to durable learning, which the ELI5 method practices.\n",
    "\n",
    "4. Bransford, J. D., Brown, A. L., & Cocking, R. R. (Eds.). (2000). How People Learn: Brain, Mind, Experience, and School. National Academy Press. Advocates for adaptive expertise and learning through teaching, which ELI5 fosters.\n",
    "\n",
    "5. Chi, M. T. H. (2009). Active-Constructive-Interactive: A Conceptual Framework for Differentiating Learning Activities. Topics in Cognitive Science, 1(1), 73–105. Supports constructivist value of restating and simplifying as active learning.\n",
    "\n",
    "**Infographics**\n",
    "\n",
    "6. Cairo, A. (2013). The Functional Art: An Introduction to Information Graphics and Visualization. New Riders. Emphasizes visual explanations as essential communication tools in technical fields.\n",
    "\n",
    "7. Tufte, E. R. (2001). The Visual Display of Quantitative Information. Graphics Press. Gold standard reference for effective visual communication of data and complex ideas.\n",
    "\n",
    "8. McCandless, D. (2014). Knowledge is Beautiful. HarperCollins. Demonstrates how layered meaning and simplification can be elegantly combined in infographic design.\n",
    "\n",
    "9. Zambrano, R. et al. (2020). Designing Effective Infographics in STEM Education: A Case Study on Climate Change. International Journal of STEM Education, 7(1), 18. Directly supports use of infographics for science and engineering communication to non-experts.\n",
    "\n",
    "**Annotated Graphs**\n",
    "\n",
    "10. Wainer, H. (1997). Visual Revelations: Graphical Tales of Fate and Deception from Napoleon Bonaparte to Ross Perot. Lawrence Erlbaum Associates. Argues for annotations and narrative within graphs to guide interpretation.\n",
    "\n",
    "11. Kosslyn, S. M. (2006). Graph Design for the Eye and Mind. Oxford University Press. Details cognitive load reduction and visual processing in effective graphs, including annotation.\n",
    "\n",
    "12. Shah, P., & Hoeffner, J. (2002). Review of Graph Comprehension Research: Implications for Instruction. Educational Psychology Review, 14(1), 47–69. Summarizes research on student comprehension of graphs, finding that explanatory annotation significantly improves understanding.\n",
    "\n",
    "13. Bowen, G. M. et al. (2014). Graphs as Tools: Learning to Use Graphs to Construct Knowledge in Science Learning. Canadian Journal of Science, Mathematics and Technology Education, 14(1), 9–24. Advocates explicit instruction in graph annotation to foster interpretation and communication skills."
   ]
  },
  {
   "cell_type": "markdown",
   "id": "aaf8e764-34aa-4783-9c4a-803ddf8d715a",
   "metadata": {},
   "source": [
    "## Videos\n",
    "\n",
    "1. [Lesson 1.  Introduction to Engineering Hydrology. Communications Literacy, Water Uses, Hydrologic Cycle, Water Budgets. (Summer 2025)](https://youtu.be/xAJ40E5hiio)\n"
   ]
  },
  {
   "cell_type": "markdown",
   "id": "2816be0c-a91d-4e8a-bfc4-8f8afec07974",
   "metadata": {},
   "source": [
    "<!--## Outline\n",
    "- Course Resources\n",
    "- Essential Knowledge, Skills, and Abilities for Practical Engineering Hydrology\n",
    "- Importance of Hydrology in Engineering\n",
    "- Hydrologic Cycle\n",
    "-->"
   ]
  },
  {
   "cell_type": "markdown",
   "id": "c55de703-9128-4e60-9939-dffc42175419",
   "metadata": {},
   "source": [
    "## Purpose and Implementation for Engineering Hydrology (CE 3354)\n",
    "In alignment with Texas Tech University's [Communication Literacy (CL) requirement](https://www.depts.ttu.edu/provost/curriculum/communication-literacy/index.php), this course equips students with essential communication skills tailored to the professional practice of civil and environmental engineering. Recognizing that hydrologic analysis must be conveyed not only through technical reports but also through clear visualizations and accessible explanations, the course includes structured assignments designed to foster clarity, fluency, and audience awareness across multiple communication modes.\n",
    "\n",
    "> In the asynchronous distance format of this course, classical modalities such as in-person team presentations are not feasible. While a design report remains possible, collaborative authorship across remote locations presents significant logistical challenges. Instead, students will complete a series of individual communication artifacts to demonstrate their communication literacy.\n",
    "\n",
    "The CL-specific activities in this course include:\n",
    "\n",
    "**Video-style explanations** that demonstrate the ability to explain “how-to” hydrologic concepts for technical or non-technical audiences. This activity emphasizes presentation fluency in a distance-compatible format.\n",
    "\n",
    "**ELI5-style written explanations** that simplify complex hydrologic topics for non-specialist readers, reflecting the Feynman Method’s emphasis on learning through explanation.\n",
    "\n",
    "**Annotated technical graphs** that showcase student proficiency in visual communication and the interpretation of hydrologic data.\n",
    "\n",
    "**Infographics** that visually communicate watershed, soil, or runoff relationships in a format accessible to decision-makers, policymakers, or the general public.\n",
    "\n",
    "These assignments reflect the transactional nature of engineering communication, requiring students to adapt their messages to suit diverse audiences and platforms. Through this curriculum, students develop proficiency in discipline-specific communication and gain the professional literacy needed to function ethically and effectively in a global, interdisciplinary context."
   ]
  },
  {
   "cell_type": "markdown",
   "id": "68cc4938-27dd-498a-aebb-bc34bfb2bbd9",
   "metadata": {},
   "source": [
    "# Communication Literacy Assignments and Rubrics\n",
    "\n",
    "This sub-section contains rubrics and sample artifacts for four styles of communication exercises in the Engineering Hydrology online course. These are aligned with the program-level Communication Literacy (CL) criteria: clarity, fluency in mode, and audience awareness.\n",
    "\n",
    "All CL assignments will be peer-scored using an evaluation form (like a survey), and quiz questions will be generated for examinations based upon student produced content.\n",
    "\n",
    "---"
   ]
  },
  {
   "cell_type": "markdown",
   "id": "6f68a2e1-eb74-418b-b37e-2cc1f64729d7",
   "metadata": {},
   "source": [
    "## Video Explainer \n",
    "\n",
    "Create a video (YouTube or similar mode) to demonstrate an ability to explain “how-to” hydrologic concepts for technical or non-technical audiences.\n",
    "\n",
    "### Rubric (Score out of 15)\n",
    "\n",
    "| Criterion             | Excellent (5)                                                  | Acceptable (3)                                         | Unacceptable (1)                         |\n",
    "|----------------------|----------------------------------------------------------------|--------------------------------------------------------|------------------------------------------|\n",
    "| **Clarity**          | Accurate and well-organized explanation                        | Mostly clear but contains minor confusion              | Disorganized or technically incorrect    |\n",
    "| **Fluency in Mode**  | Smooth narration; visuals clearly support message              | Acceptable pacing or visual/text integration           | Jumbled audio or ineffective visuals     |\n",
    "| **Audience Awareness** | Tone, style, and complexity appropriate to student audience | Partially adapted to audience                          | Not tailored to the audience             |\n",
    "\n",
    "### Sample Prompt  \n",
    "*Explain how time of concentration affects hydrograph shape using an example watershed.*\n",
    "\n",
    "### Sample Summary  \n",
    "> \"In this 3-minute video, I explain how a watershed’s time of concentration determines the steepness and timing of peak discharge. I compare a steep-sloped basin versus a flat one and show their different hydrograph shapes using simple animations.\"\n",
    "\n",
    "---"
   ]
  },
  {
   "cell_type": "markdown",
   "id": "b837e664-0fc1-4ece-a8c4-f7a6660a20f3",
   "metadata": {},
   "source": [
    "##  ELI5 (Explain Like I’m 5) Explanation\n",
    "\n",
    "Written content to simplify complex hydrologic topics for non-specialist readers, reflecting the Feynman Method’s emphasis on learning through explanation.\n",
    "\n",
    "### Rubric (Score out of 15)\n",
    "\n",
    "| Criterion             | Excellent (5)                                                  | Acceptable (3)                              | Unacceptable (1)                      |\n",
    "|----------------------|----------------------------------------------------------------|---------------------------------------------|----------------------------------------|\n",
    "| **Clarity**          | Simplifies ideas using analogies; no jargon                    | Mostly simplified but retains minor jargon  | Too technical or unclear               |\n",
    "| **Fluency in Writing** | Logical structure, smooth flow                               | Slightly repetitive or choppy               | Rambling or grammatically flawed        |\n",
    "| **Audience Awareness** | Clearly aimed at non-technical audience                      | Some effort to simplify                     | Not tailored to audience                |\n",
    "\n",
    "### Example Prompt  \n",
    "*Explain infiltration using the Green-Ampt model.*\n",
    "\n",
    "### Sample ELI5 Explanation  \n",
    "> \"Imagine pouring water on a sponge. At first, the water disappears fast—it’s super thirsty. That’s the ground soaking it up. But over time, the sponge gets full, and water moves slower. The Green-Ampt model is like watching how fast a sponge drinks based on how dry it was, how tight it holds water, and how hard you're pouring.\"\n",
    "\n",
    "---"
   ]
  },
  {
   "cell_type": "markdown",
   "id": "ae5d8dc9-dfad-4c7f-a1bb-cb334390329b",
   "metadata": {},
   "source": [
    "##  Infographic\n",
    "\n",
    "Fact sheet(s), poster, or images that visually communicate hydrologic concepts or relationships in a format accessible to decision-makers, policymakers, or the general public.\n",
    "\n",
    "### Rubric (Score out of 15)\n",
    "\n",
    "| Criterion             | Excellent (5)                                                  | Acceptable (3)                                  | Unacceptable (1)                            |\n",
    "|----------------------|----------------------------------------------------------------|--------------------------------------------------|----------------------------------------------|\n",
    "| **Clarity**          | Key ideas clearly presented using visual logic                 | Some clutter or unclear organization             | Disorganized or misleading                   |\n",
    "| **Visual Fluency**   | Professional appearance; consistent layout and design          | Minor inconsistencies, but usable                | Distracting or poorly formatted              |\n",
    "| **Audience Awareness** | Designed for non-expert viewer or policymaker               | Some adaptation to audience                      | Assumes too much technical background         |\n",
    "\n",
    "### Example Topic\n",
    "Produce an infographic to illustrate the relationship of *Hydrologic Soil Groups and Runoff Potential*\n",
    "\n",
    "### Example Deliverable/Description  \n",
    "- Title: **“How Soil Type Affects Flooding”**  \n",
    "- Icons: Raindrop, sponge, runoff arrow  \n",
    "- Side-by-side soil profiles:\n",
    "  - Group A (sand): rapid infiltration  \n",
    "  - Group D (clay): surface runoff dominates  \n",
    "- Caption: “Used in Curve Number method to estimate storm runoff.”\n",
    "\n",
    "### Example Infographic\n",
    "\n",
    "![](soil_infographic.png)\n",
    "\n",
    "---"
   ]
  },
  {
   "cell_type": "markdown",
   "id": "79517f0b-b29b-48ed-b123-a3ea8d3a237f",
   "metadata": {},
   "source": [
    "## Annotated Graph\n",
    "\n",
    "Technical graphs with annotation to showcase proficiency in visual communication and the interpretation of hydrologic data\n",
    "\n",
    "### Rubric (Score out of 15)\n",
    "\n",
    "| Criterion             | Excellent (5)                                                  | Acceptable (3)                                         | Unacceptable (1)                           |\n",
    "|----------------------|----------------------------------------------------------------|--------------------------------------------------------|--------------------------------------------|\n",
    "| **Clarity**          | Labels, units, and annotations are easy to follow              | Some missing labels or explanations                    | Hard to interpret or missing axes/units    |\n",
    "| **Visual Fluency**   | Graph type appropriate; formatting consistent                  | Basic presentation with some layout issues             | Poor design or wrong chart choice          |\n",
    "| **Audience Awareness** | Highlights key takeaways for reader                         | Partial guidance provided                              | Reader left to interpret everything        |\n",
    "\n",
    "### Example Topic  \n",
    "Produce an annotated graph for a *Storm Hydrograph from 1\" Rainfall*\n",
    "\n",
    "### Example Deliverable/Description  \n",
    "- X-axis: Time (hr), Y-axis: Discharge (cfs)  \n",
    "- Curve: rising limb, peak, recession limb  \n",
    "- Annotations:\n",
    "  - \"Rain starts here\"\n",
    "  - \"Peak discharge ~3 hours later\"\n",
    "  - \"Slow return to baseflow—due to soil and channel storage\"\n",
    "\n",
    "### Example Annotated Graph\n",
    "\n",
    "![](output.png)\n"
   ]
  },
  {
   "cell_type": "markdown",
   "id": "e6b2a1e0-1192-4e51-859a-26c9df6b2ba6",
   "metadata": {},
   "source": [
    "## Section End"
   ]
  },
  {
   "cell_type": "code",
   "execution_count": null,
   "id": "56411ed8-b8c8-44ef-a1e8-1618733b4205",
   "metadata": {},
   "outputs": [],
   "source": []
  }
 ],
 "metadata": {
  "kernelspec": {
   "display_name": "Python Common Environment",
   "language": "python",
   "name": "python-my-env"
  },
  "language_info": {
   "codemirror_mode": {
    "name": "ipython",
    "version": 3
   },
   "file_extension": ".py",
   "mimetype": "text/x-python",
   "name": "python",
   "nbconvert_exporter": "python",
   "pygments_lexer": "ipython3",
   "version": "3.10.12"
  }
 },
 "nbformat": 4,
 "nbformat_minor": 5
}
