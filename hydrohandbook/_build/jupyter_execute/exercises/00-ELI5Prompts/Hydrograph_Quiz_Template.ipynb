{
 "cells": [
  {
   "cell_type": "markdown",
   "id": "b7e23e6b",
   "metadata": {},
   "source": [
    "# Quiz: Hydrograph Fundamentals\n",
    "\n",
    "This quiz is administered using `nbgrader`. Please answer the following question by assigning the correct letter (`'A'`, `'B'`, `'C'`, or `'D'`) to the variable `answer2` in the code cell below.\n"
   ]
  },
  {
   "cell_type": "markdown",
   "id": "3f7e6dba",
   "metadata": {},
   "source": [
    "### Question 2\n",
    "\n",
    "**What information can be inferred from the peak of a hydrograph?**\n",
    "\n",
    "- A. The exact location of the storm’s origin  \n",
    "- B. The maximum infiltration rate of the soil  \n",
    "- C. The maximum discharge caused by the storm  \n",
    "- D. The volume of water stored in the soil"
   ]
  },
  {
   "cell_type": "code",
   "execution_count": 1,
   "id": "2e17ebd9",
   "metadata": {},
   "outputs": [],
   "source": [
    "# YOUR ANSWER HERE\n",
    "answer2 = ''"
   ]
  },
  {
   "cell_type": "code",
   "execution_count": 2,
   "id": "7dd8015d",
   "metadata": {
    "nbgrader": {
     "grade": true,
     "grade_id": "answer2_test",
     "locked": true,
     "points": 1,
     "solution": false
    }
   },
   "outputs": [
    {
     "ename": "AssertionError",
     "evalue": "Answer must be one of: A, B, C, or D",
     "output_type": "error",
     "traceback": [
      "\u001b[0;31m---------------------------------------------------------------------------\u001b[0m",
      "\u001b[0;31mAssertionError\u001b[0m                            Traceback (most recent call last)",
      "Cell \u001b[0;32mIn[2], line 2\u001b[0m\n\u001b[1;32m      1\u001b[0m \u001b[38;5;66;03m# TEST CASE\u001b[39;00m\n\u001b[0;32m----> 2\u001b[0m \u001b[38;5;28;01massert\u001b[39;00m answer2 \u001b[38;5;129;01min\u001b[39;00m [\u001b[38;5;124m'\u001b[39m\u001b[38;5;124mA\u001b[39m\u001b[38;5;124m'\u001b[39m, \u001b[38;5;124m'\u001b[39m\u001b[38;5;124mB\u001b[39m\u001b[38;5;124m'\u001b[39m, \u001b[38;5;124m'\u001b[39m\u001b[38;5;124mC\u001b[39m\u001b[38;5;124m'\u001b[39m, \u001b[38;5;124m'\u001b[39m\u001b[38;5;124mD\u001b[39m\u001b[38;5;124m'\u001b[39m], \u001b[38;5;124m'\u001b[39m\u001b[38;5;124mAnswer must be one of: A, B, C, or D\u001b[39m\u001b[38;5;124m'\u001b[39m\n\u001b[1;32m      3\u001b[0m \u001b[38;5;28;01massert\u001b[39;00m answer2 \u001b[38;5;241m==\u001b[39m \u001b[38;5;124m'\u001b[39m\u001b[38;5;124mC\u001b[39m\u001b[38;5;124m'\u001b[39m, \u001b[38;5;124m'\u001b[39m\u001b[38;5;124mIncorrect: The correct answer is C – the peak of a hydrograph indicates the maximum discharge.\u001b[39m\u001b[38;5;124m'\u001b[39m\n",
      "\u001b[0;31mAssertionError\u001b[0m: Answer must be one of: A, B, C, or D"
     ]
    }
   ],
   "source": [
    "# TEST CASE\n",
    "assert answer2 in ['A', 'B', 'C', 'D'], 'Answer must be one of: A, B, C, or D'\n",
    "assert answer2 == 'C', 'Incorrect: The correct answer is C – the peak of a hydrograph indicates the maximum discharge.'"
   ]
  },
  {
   "cell_type": "code",
   "execution_count": null,
   "id": "708085f0-0caf-4011-83bc-4844593caab9",
   "metadata": {},
   "outputs": [],
   "source": []
  }
 ],
 "metadata": {
  "kernelspec": {
   "display_name": "Python Common Environment",
   "language": "python",
   "name": "python-my-env"
  },
  "language_info": {
   "codemirror_mode": {
    "name": "ipython",
    "version": 3
   },
   "file_extension": ".py",
   "mimetype": "text/x-python",
   "name": "python",
   "nbconvert_exporter": "python",
   "pygments_lexer": "ipython3",
   "version": "3.10.12"
  }
 },
 "nbformat": 4,
 "nbformat_minor": 5
}