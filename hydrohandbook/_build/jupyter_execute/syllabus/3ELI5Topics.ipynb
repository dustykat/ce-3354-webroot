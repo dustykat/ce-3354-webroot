{
 "cells": [
  {
   "cell_type": "markdown",
   "id": "f94da860-c7c2-4546-a68c-c1b780123208",
   "metadata": {},
   "source": [
    "🌧️ Rainfall & Precipitation\n",
    "Where Rain Comes From – Clouds, condensation, and precipitation in the water cycle.\n",
    "\n",
    "Why Some Storms Make More Floods – Rainfall intensity vs. duration vs. infiltration.\n",
    "\n",
    "How Weather Radar Sees Rain – Explaining radar reflectivity like bouncing balls off clouds.\n",
    "\n",
    "💧 Runoff & Infiltration\n",
    "Why Water Runs Off the Sidewalk but Soaks into Grass – Comparing pervious vs. impervious surfaces.\n",
    "\n",
    "What Happens to Rain After It Hits the Ground – The start of overland flow, infiltration, and percolation.\n",
    "\n",
    "How Soil Drinks Water – Introducing soil texture and field capacity using sponge metaphors.\n",
    "\n",
    "🏞️ Watersheds & Drainage\n",
    "What Is a Watershed? – The area that “funnels” water to a common outlet.\n",
    "\n",
    "Why Rivers Meander Like Lazy Snakes – Channel formation and sediment transport.\n",
    "\n",
    "Why Cities Flood Faster than Forests – Urbanization and changes in hydrologic response.\n",
    "\n",
    "📏 Hydrologic Measurements\n",
    "How We Measure How Much It Rains – Rain gauges, tipping buckets, and satellite estimates.\n",
    "\n",
    "How Big Is a Flood? – Recurrence intervals and the meaning of a “100-year flood.”\n",
    "\n",
    "Why Hydrologists Watch Rivers from Bridges – Measuring streamflow and velocity.\n",
    "\n",
    "🧪 Models & Prediction\n",
    "How Computers Predict Floods – Models as calculators for rain + land = water in rivers.\n",
    "\n",
    "Why the Same Rain Makes Different Floods in Different Places – Role of soil, land use, and slope.\n",
    "\n",
    "How Engineers Guess How Much Water a Pipe Needs to Handle – Rational method simplified.\n",
    "\n",
    "🚧 Infrastructure & Design\n",
    "Why We Build Dams (and How They Help and Hurt) – Flood control, storage, and trade-offs.\n",
    "\n",
    "What Happens When a Storm Drain Gets Clogged – Urban drainage explained with a bathtub analogy.\n",
    "\n",
    "Why We Don’t Build Houses in the River’s Way – Floodplain mapping and risk.\n",
    "\n",
    "🌱 Environment & Water Quality\n",
    "Where the Water in a River Comes From During Droughts – Baseflow and groundwater connection.\n",
    "\n",
    "How Pollution Gets into Rivers When It Rains – Non-point source pollution and runoff.\n",
    "\n",
    "Why Trees Help Stop Floods – Role of vegetation in interception and soil stability.\n",
    "\n",
    "🌍 Climate & Global Hydrology\n",
    "Why Some Places Are Always Dry and Others Always Wet – Climatic controls on precipitation.\n",
    "\n",
    "What Melting Ice Has to Do with Sea Level and Rainfall – Cryosphere and feedbacks in the water cycle.\n",
    "\n",
    "Why Droughts Don’t Just Mean “No Rain” – Precipitation, soil moisture, and demand imbalance."
   ]
  },
  {
   "cell_type": "code",
   "execution_count": null,
   "id": "59108080-725d-45e0-9f9d-02e72834caa5",
   "metadata": {},
   "outputs": [],
   "source": []
  }
 ],
 "metadata": {
  "kernelspec": {
   "display_name": "Python Common Environment",
   "language": "python",
   "name": "python-my-env"
  },
  "language_info": {
   "codemirror_mode": {
    "name": "ipython",
    "version": 3
   },
   "file_extension": ".py",
   "mimetype": "text/x-python",
   "name": "python",
   "nbconvert_exporter": "python",
   "pygments_lexer": "ipython3",
   "version": "3.10.12"
  }
 },
 "nbformat": 4,
 "nbformat_minor": 5
}