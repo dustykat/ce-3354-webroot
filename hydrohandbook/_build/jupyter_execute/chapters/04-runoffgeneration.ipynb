{
 "cells": [
  {
   "cell_type": "markdown",
   "id": "73b8747c-19b2-4e3d-9b05-0c07a10c6936",
   "metadata": {},
   "source": [
    " # 4. Runoff Generation and Watershed Hydrology"
   ]
  },
  {
   "cell_type": "markdown",
   "id": "66f80f87-2bd1-44a6-bb12-a1d8ef9d6ae6",
   "metadata": {},
   "source": []
  },
  {
   "cell_type": "markdown",
   "id": "fe2ee5e5-ce7a-4263-bb3a-986c734c7e00",
   "metadata": {},
   "source": [
    "## Runoff Mechanisms and Flow Pathways\n",
    "  - Hortonian vs. Dunne overland flow\n",
    "  - Baseflow and interflow\n",
    "\n",
    "## Watershed Characteristics and Delineation\n",
    "  - Watershed boundaries, area, slope, and land use\n",
    "  - Time of concentration and drainage network mapping\n",
    "\n",
    "## Lab/Exercise: Delineating a watershed using GIS or topographic maps"
   ]
  },
  {
   "cell_type": "markdown",
   "id": "58c71372-547a-42d5-9eeb-c19afcdf3849",
   "metadata": {},
   "source": [
    "## Section End"
   ]
  }
 ],
 "metadata": {
  "kernelspec": {
   "display_name": "Python Common Environment",
   "language": "python",
   "name": "python-my-env"
  },
  "language_info": {
   "codemirror_mode": {
    "name": "ipython",
    "version": 3
   },
   "file_extension": ".py",
   "mimetype": "text/x-python",
   "name": "python",
   "nbconvert_exporter": "python",
   "pygments_lexer": "ipython3",
   "version": "3.10.12"
  }
 },
 "nbformat": 4,
 "nbformat_minor": 5
}