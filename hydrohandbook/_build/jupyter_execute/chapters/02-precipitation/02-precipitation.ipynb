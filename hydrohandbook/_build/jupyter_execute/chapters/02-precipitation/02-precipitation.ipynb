{
 "cells": [
  {
   "cell_type": "markdown",
   "id": "b16bad5a-5677-44f8-80c5-5292b62af1a7",
   "metadata": {},
   "source": [
    "# 2. Precipitation"
   ]
  },
  {
   "cell_type": "markdown",
   "id": "c23b61e1-4dd8-480e-88af-3bd9562637c7",
   "metadata": {},
   "source": []
  },
  {
   "cell_type": "markdown",
   "id": "f0efe766-cf5c-4959-88c5-8abf7176649b",
   "metadata": {},
   "source": [
    "## Precipitation Characteristics\n",
    "  - Rainfall intensity, duration, and frequency\n",
    "  - Measurement techniques (rain gauges, radar, remote sensing)\n",
    "\n",
    "## Design Storms and Frequency Analysis\n",
    "  - Intensity-Duration-Frequency (IDF) curves\n",
    "  - Return periods and probability distributions\n",
    "\n",
    "## Lab/Exercise: Estimating design storms using IDF curves"
   ]
  },
  {
   "cell_type": "markdown",
   "id": "c2f03eea-876d-4c3c-9a34-18ac60ee7491",
   "metadata": {},
   "source": [
    "## Section End"
   ]
  }
 ],
 "metadata": {
  "kernelspec": {
   "display_name": "Python Common Environment",
   "language": "python",
   "name": "python-my-env"
  },
  "language_info": {
   "codemirror_mode": {
    "name": "ipython",
    "version": 3
   },
   "file_extension": ".py",
   "mimetype": "text/x-python",
   "name": "python",
   "nbconvert_exporter": "python",
   "pygments_lexer": "ipython3",
   "version": "3.10.12"
  }
 },
 "nbformat": 4,
 "nbformat_minor": 5
}