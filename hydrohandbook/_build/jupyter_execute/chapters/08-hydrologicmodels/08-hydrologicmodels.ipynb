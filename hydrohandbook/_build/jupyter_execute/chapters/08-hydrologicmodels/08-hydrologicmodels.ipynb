{
 "cells": [
  {
   "cell_type": "markdown",
   "id": "3c54945b-e64e-488e-a39e-0fe1eb5da779",
   "metadata": {},
   "source": [
    "# 8. Hydrologic Modeling\n",
    "\n"
   ]
  },
  {
   "cell_type": "markdown",
   "id": "e35835e1-3899-4d5d-ab8b-d92cfd7b12f6",
   "metadata": {},
   "source": []
  },
  {
   "cell_type": "markdown",
   "id": "c5902b05-f547-451c-9d72-e3b10ab21664",
   "metadata": {},
   "source": [
    "## Hydrologic modeling in Engineering Design\n",
    "  - Hydrologic modeling, climate change impacts, and water management\n",
    "  - Real-world case studies (dams, levees, stormwater systems)\n",
    "\n",
    "## Course Review and Final Project Presentations\n",
    "  - Summary of key concepts and Q&A session\n",
    "  - Final Lab/Exercise: Group Project on a Hydrologic Case Study"
   ]
  },
  {
   "cell_type": "markdown",
   "id": "9d3277e8-1d2f-468a-a8b3-0bb0e8fa43ed",
   "metadata": {},
   "source": [
    "Models are used extensively in hydrology because routine data collection and analysis for every project is simply too expensive. A model is a simplified representation of the real world that, ideally, captures the excitation-response relationship of the real-world phenomenon.\n",
    "\n",
    "In most situations a model refers to representing real-world situations in a mathematical structure that can be solved using a computer. Occasionally a physical or analog model is used in hydrology, but these kinds of models are becoming more and more rare because of the time and cost involved. Well constructed computer models (not just the program) can often do an excellent job of modeling, although some problems are geometrically complex enough to justify physical or analog modeling.\n",
    "\n",
    "With computer modeling a large number of variables and/or a large amount of data can be relatively quickly manipulated, increasing the chances of an accurate and defendable answer to the particular question (that the model was built to answer).\n",
    "\n",
    "The first step in developing any hydrologic model is the development of a **conceptual model**. During this stage of model development the existing are assembled. This data includes, but is not limited to, water company data on withdrawal rates and water levels; state and municipal well-permitting information; and previously published reports and maps. The documents are then reviewed to determine the system boundaries; extent and thickness of hydrologic units; aquifer recharge; ground water and surface water elevations; stream discharge and leakage to aquifers; aquifer parameters; and other characteristics unique to the situation to be modeled.\n",
    "\n",
    "Usually some fieldwork will be necessary to fill in the gaps. A data collection plan is prepared that sets out the field strategy for additional data collection. When the fieldwork is complete, the existing and new data are analyzed. The existing conceptual model is then revised and updated to incorporate data from the field program. This step ensures that all previously identified data needs have been satisfied and serves as a springboard for the computer modeling effort.\n",
    "\n",
    "With the conceptual model in place, it's time to select the model code or computer program to be used for the well head protection simulations. Some states require the use of a particular code. In most cases, several modeling codes are available that are capable of adequately modeling the problem. The choice should be based, if possible, on the modeler’s preference, although consideration must be given to what the relevant agency personnel are familiar with, otherwise, considerable time and money may be spent defending your code and training agency personnel.\n",
    "\n",
    "Once the flow model code has been selected, the boundaries and parameters identified in the conceptual model are put into a form suitable for modeling. This step includes determining the number of model layers, design of the model grid, determining the initial values of parameters and hydrologic stresses, and setting boundary conditions.\n",
    "\n",
    "The purpose of calibration is to establish that the model can reproduce field-measured values. This procedure is done by adjusting the model parameters (hydraulic conductivity, storage coefficient, etc.) and stresses (recharge, up land underflow, etc.) to produce the best match between simulated and observed water related variables."
   ]
  },
  {
   "cell_type": "markdown",
   "id": "db0e2ab2-5314-4b1e-8d75-7d8656ca41cc",
   "metadata": {},
   "source": [
    "## Section End"
   ]
  }
 ],
 "metadata": {
  "kernelspec": {
   "display_name": "Python Common Environment",
   "language": "python",
   "name": "python-my-env"
  },
  "language_info": {
   "codemirror_mode": {
    "name": "ipython",
    "version": 3
   },
   "file_extension": ".py",
   "mimetype": "text/x-python",
   "name": "python",
   "nbconvert_exporter": "python",
   "pygments_lexer": "ipython3",
   "version": "3.10.12"
  }
 },
 "nbformat": 4,
 "nbformat_minor": 5
}