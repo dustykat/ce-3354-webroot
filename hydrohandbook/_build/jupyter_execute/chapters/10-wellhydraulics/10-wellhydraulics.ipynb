{
 "cells": [
  {
   "cell_type": "markdown",
   "id": "1c1c04fa-ad68-432d-9320-f0f8c140c780",
   "metadata": {},
   "source": [
    " # 10. Well Hydraulics & Groundwater Management\n"
   ]
  },
  {
   "cell_type": "markdown",
   "id": "40f0e179-eb24-453a-b5af-cfc05289cc58",
   "metadata": {},
   "source": []
  },
  {
   "cell_type": "markdown",
   "id": "ba8c7148-cc1a-4d49-9a36-6b6d08750a75",
   "metadata": {},
   "source": [
    "\n",
    "## Well Hydraulics & Pumping Tests\n",
    "  - Cone of depression and drawdown\n",
    "  - Theis and Thiem equations for well analysis\n",
    "  - Groundwater recharge and depletion issues\n",
    "\n",
    "## Transient Well Hydraulics\n",
    "  - Theis solution for transient flow to a well\n",
    "  - Concept of storativity and time-dependent drawdown\n",
    "  - Cooper-Jacob approximation for late-time drawdown\n",
    "\n",
    "## Groundwater Management & Sustainability\n",
    "  - Overdraft, subsidence, and long-term water balance\n",
    "  - Groundwater protection and contamination risks\n",
    "  - Case studies of aquifer depletion and management strategies\n",
    "\n",
    "## Lab/Exercise: Analyzing pumping test data using Theis and Cooper-Jacob methods\n",
    "## Lab/Exercise: Pumping test data analysis & groundwater modeling introduction"
   ]
  },
  {
   "cell_type": "code",
   "execution_count": null,
   "id": "cb90938d-7612-4734-afec-c09b3a23885e",
   "metadata": {},
   "outputs": [],
   "source": []
  },
  {
   "cell_type": "markdown",
   "id": "b89da982-4472-46c8-bb4b-56219f4fdc05",
   "metadata": {},
   "source": [
    "## Section End"
   ]
  }
 ],
 "metadata": {
  "kernelspec": {
   "display_name": "Python Common Environment",
   "language": "python",
   "name": "python-my-env"
  },
  "language_info": {
   "codemirror_mode": {
    "name": "ipython",
    "version": 3
   },
   "file_extension": ".py",
   "mimetype": "text/x-python",
   "name": "python",
   "nbconvert_exporter": "python",
   "pygments_lexer": "ipython3",
   "version": "3.10.12"
  }
 },
 "nbformat": 4,
 "nbformat_minor": 5
}