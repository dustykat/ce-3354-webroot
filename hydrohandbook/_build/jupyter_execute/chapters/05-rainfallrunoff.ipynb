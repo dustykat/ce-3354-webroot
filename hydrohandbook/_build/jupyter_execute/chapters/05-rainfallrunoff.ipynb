{
 "cells": [
  {
   "cell_type": "markdown",
   "id": "97dac24b-4ea3-4d99-a92f-137e74265d71",
   "metadata": {},
   "source": [
    "# 5. Rainfall-Runoff Relationships\n",
    "\n"
   ]
  },
  {
   "cell_type": "markdown",
   "id": "bcd95c4e-decf-4560-91af-c3d11cf24627",
   "metadata": {},
   "source": []
  },
  {
   "cell_type": "markdown",
   "id": "aaa85925-f468-41cd-aedd-ad7a511bfa30",
   "metadata": {},
   "source": [
    "## Rational Method and SCS Curve Number (CN) Method\n",
    "  - Q = CiA and its applications\n",
    "  - Curve Number method and runoff estimation\n",
    "\n",
    "## Unit Hydrograph Theory\n",
    "  - Concept of hydrographs and peak flow estimation\n",
    "  - Synthetic vs. observed unit hydrographs\n",
    "\n",
    "## Lab/Exercise: Runoff estimation using Rational and CN methods"
   ]
  },
  {
   "cell_type": "markdown",
   "id": "d6430174-78bb-4c83-ab11-36d438006a41",
   "metadata": {},
   "source": [
    "## Section End"
   ]
  }
 ],
 "metadata": {
  "kernelspec": {
   "display_name": "Python Common Environment",
   "language": "python",
   "name": "python-my-env"
  },
  "language_info": {
   "codemirror_mode": {
    "name": "ipython",
    "version": 3
   },
   "file_extension": ".py",
   "mimetype": "text/x-python",
   "name": "python",
   "nbconvert_exporter": "python",
   "pygments_lexer": "ipython3",
   "version": "3.10.12"
  }
 },
 "nbformat": 4,
 "nbformat_minor": 5
}