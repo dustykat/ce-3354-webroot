{
 "cells": [
  {
   "cell_type": "markdown",
   "id": "5b83a1dc-9f20-4ffd-b406-e17b9c133f87",
   "metadata": {},
   "source": [
    "# 9. Groundwater Fundamentals & Flow Equations"
   ]
  },
  {
   "cell_type": "markdown",
   "id": "e5313934-34ec-4cf3-b8d0-ffa0ee8164ab",
   "metadata": {},
   "source": []
  },
  {
   "cell_type": "markdown",
   "id": "b4def0ca-d21e-46a6-8fde-ff591774f521",
   "metadata": {},
   "source": [
    "## Groundwater Occurrence & Aquifers\n",
    "  - Types of aquifers: confined, unconfined, perched\n",
    "  - Porosity, permeability, and storativity\n",
    "  - Interaction between surface water and groundwater\n",
    "\n",
    "## Groundwater Flow Principles\n",
    "  - Darcy’s Law and hydraulic conductivity\n",
    "  - Flow in saturated vs. unsaturated zones\n",
    "  - Introduction to governing equations (Laplace, Dupuit-Forchheimer)\n",
    "\n",
    "## Lab/Exercise: Simple Darcy’s Law experiment using permeameters\n"
   ]
  },
  {
   "cell_type": "markdown",
   "id": "82d29fe5-eb50-413d-bc61-9e082fd9e710",
   "metadata": {},
   "source": []
  },
  {
   "cell_type": "markdown",
   "id": "902ee19e-71c8-4b4c-9ad5-b7bc323eee22",
   "metadata": {},
   "source": [
    "## Section End"
   ]
  }
 ],
 "metadata": {
  "kernelspec": {
   "display_name": "Python Common Environment",
   "language": "python",
   "name": "python-my-env"
  },
  "language_info": {
   "codemirror_mode": {
    "name": "ipython",
    "version": 3
   },
   "file_extension": ".py",
   "mimetype": "text/x-python",
   "name": "python",
   "nbconvert_exporter": "python",
   "pygments_lexer": "ipython3",
   "version": "3.10.12"
  }
 },
 "nbformat": 4,
 "nbformat_minor": 5
}