{
 "cells": [
  {
   "cell_type": "markdown",
   "id": "3354d19f-0116-4187-ae28-e7471e0e702d",
   "metadata": {},
   "source": [
    "# 6. Streamflow Measurement and Hydrographs\n"
   ]
  },
  {
   "cell_type": "markdown",
   "id": "a1cc5cd7-e0c0-4a03-bad1-bb5429099e2d",
   "metadata": {},
   "source": []
  },
  {
   "cell_type": "markdown",
   "id": "1bd06299-823c-486c-80c8-771369d48d58",
   "metadata": {},
   "source": [
    "## Streamflow Measurement Techniques\n",
    "  - Weirs, flumes, and velocity-area methods\n",
    "  - Rating curves and flow-duration curves\n",
    "\n",
    "## Hydrograph Analysis and Baseflow Separation\n",
    "  - Stormflow vs. baseflow\n",
    "  - Recession curves and storage effects\n",
    "\n",
    "## Lab/Exercise: Streamflow data analysis and hydrograph interpretation"
   ]
  },
  {
   "cell_type": "markdown",
   "id": "32dbaaef-779d-4c56-981a-0612b1180579",
   "metadata": {},
   "source": [
    "## Section End"
   ]
  }
 ],
 "metadata": {
  "kernelspec": {
   "display_name": "Python Common Environment",
   "language": "python",
   "name": "python-my-env"
  },
  "language_info": {
   "codemirror_mode": {
    "name": "ipython",
    "version": 3
   },
   "file_extension": ".py",
   "mimetype": "text/x-python",
   "name": "python",
   "nbconvert_exporter": "python",
   "pygments_lexer": "ipython3",
   "version": "3.10.12"
  }
 },
 "nbformat": 4,
 "nbformat_minor": 5
}