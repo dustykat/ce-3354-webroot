{
 "cells": [
  {
   "cell_type": "markdown",
   "id": "319f0361-465d-4c67-918b-7d773e2713d6",
   "metadata": {},
   "source": [
    "# 3. Infiltration and Soil Moisture\n"
   ]
  },
  {
   "cell_type": "markdown",
   "id": "dbee2dce-491b-4f39-bcdd-001915a07ab1",
   "metadata": {},
   "source": []
  },
  {
   "cell_type": "markdown",
   "id": "58a23a15-5bdd-47f3-8388-3f2785bfdd78",
   "metadata": {},
   "source": [
    "## Infiltration Process and Factors Affecting It\n",
    "  - Soil types, vegetation, land use, and surface conditions\n",
    "  - Horton and Green-Ampt equations\n",
    "\n",
    "## Soil Moisture and Groundwater Recharge\n",
    "  - Field capacity, wilting point, and available moisture\n",
    "  - Percolation and aquifer recharge\n",
    "\n",
    "## Lab/Exercise: Infiltration measurement using field/lab methods"
   ]
  },
  {
   "cell_type": "markdown",
   "id": "9b9f6473-50b4-4ff6-be84-a8dba6c17054",
   "metadata": {},
   "source": [
    "## Section End"
   ]
  }
 ],
 "metadata": {
  "kernelspec": {
   "display_name": "Python Common Environment",
   "language": "python",
   "name": "python-my-env"
  },
  "language_info": {
   "codemirror_mode": {
    "name": "ipython",
    "version": 3
   },
   "file_extension": ".py",
   "mimetype": "text/x-python",
   "name": "python",
   "nbconvert_exporter": "python",
   "pygments_lexer": "ipython3",
   "version": "3.10.12"
  }
 },
 "nbformat": 4,
 "nbformat_minor": 5
}