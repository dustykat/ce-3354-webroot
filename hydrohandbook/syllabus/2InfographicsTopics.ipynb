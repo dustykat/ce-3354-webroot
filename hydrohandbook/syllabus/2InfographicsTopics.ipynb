{
 "cells": [
  {
   "cell_type": "markdown",
   "id": "bcdca002-17b9-456c-80ad-a42284853c0b",
   "metadata": {},
   "source": [
    "🌊 Processes & the Water Cycle\n",
    "The Water Cycle: Nature’s Recycling System – A classic visual loop (evaporation, condensation, precipitation, infiltration).\n",
    "\n",
    "What Happens to Rain in a Watershed? – A flowchart showing pathways: infiltration, runoff, evapotranspiration, baseflow.\n",
    "\n",
    "Where Your Tap Water Comes From – Mapping surface water vs. groundwater sources and treatment steps.\n",
    "\n",
    "🌧️ Rain, Runoff, and Flooding\n",
    "How Land Cover Affects Flooding – Side-by-side comparison of forest, farmland, and city in response to rain.\n",
    "\n",
    "Urban Flooding: Causes and Solutions – Before/after views of stormwater management improvements (green roofs, detention basins).\n",
    "\n",
    "Why Floods Are Getting Worse (or Not) – Trends in flood frequency vs. land use vs. climate factors.\n",
    "\n",
    "🏘️ Design & Infrastructure\n",
    "Designing a Storm Drain for a Rainy Day – Illustration of catch basins, inlets, pipes, and flow paths during storms.\n",
    "\n",
    "What a “100-Year Floodplain” Actually Means – Timeline view showing recurrence intervals vs. public misconceptions.\n",
    "\n",
    "How Green Infrastructure Works – Infiltration basins, rain gardens, pervious pavement — annotated device illustrations.\n",
    "\n",
    "💧 Groundwater & Infiltration\n",
    "The Hidden World Beneath Your Feet: Groundwater – Aquifer diagram with wells, recharge zones, and water table.\n",
    "\n",
    "When Rain Becomes Groundwater – Soil moisture profiles and percolation layers.\n",
    "\n",
    "Why Overpumping Groundwater Is a Problem – Cone of depression, subsidence, and long-term effects in cartoon form.\n",
    "\n",
    "📏 Measurement & Monitoring\n",
    "How We Measure a River – Stream gauge cross-section, flowmeter types, and rating curves.\n",
    "\n",
    "Rain Doesn’t Just Fall — It Gets Measured – Comparison of rain gauge types, radar, and satellite precipitation estimation.\n",
    "\n",
    "How Big Is a Flood? – Hydrograph examples with peak flow, rising limb, and duration labeled clearly.\n",
    "\n",
    "🌱 Hydrology & the Environment\n",
    "The Role of Wetlands in the Water Cycle – Natural water filters with storage, delay, and nutrient uptake visuals.\n",
    "\n",
    "How Trees Help Prevent Floods – Canopy interception, root zone absorption, and evapotranspiration shown as arrows and processes.\n",
    "\n",
    "Pollution on the Move – Tracing oil, trash, and fertilizer from streets into streams.\n",
    "\n",
    "🌍 Climate, Drought, and Water Scarcity\n",
    "What Drought Looks Like in a Hydrologic System – Reservoirs, soil moisture, snowpack, and streamflow together in decline.\n",
    "\n",
    "Climate Change and the Water Cycle – More intense rain, less snowpack, shifting seasons.\n",
    "\n",
    "How We Decide When to Restrict Water Use – Reservoir storage thresholds, rainfall triggers, and usage categories.\n",
    "\n",
    "📈 Planning & Communication\n",
    "What Makes a Watershed “Healthy”? – Composite indicators: flow regulation, water quality, biodiversity.\n",
    "\n",
    "Rain Today, Flood Tomorrow – A timeline of hydrologic response to storms in different environments.\n",
    "\n",
    "From Data to Decisions: Hydrologists at Work – Flow from fieldwork, sensors, models → maps and policy.\n",
    "\n"
   ]
  },
  {
   "cell_type": "code",
   "execution_count": null,
   "id": "dec6ff2b-3c3f-4d8b-8d27-7f5462665af0",
   "metadata": {},
   "outputs": [],
   "source": []
  }
 ],
 "metadata": {
  "kernelspec": {
   "display_name": "Python Common Environment",
   "language": "python",
   "name": "python-my-env"
  },
  "language_info": {
   "codemirror_mode": {
    "name": "ipython",
    "version": 3
   },
   "file_extension": ".py",
   "mimetype": "text/x-python",
   "name": "python",
   "nbconvert_exporter": "python",
   "pygments_lexer": "ipython3",
   "version": "3.10.12"
  }
 },
 "nbformat": 4,
 "nbformat_minor": 5
}
