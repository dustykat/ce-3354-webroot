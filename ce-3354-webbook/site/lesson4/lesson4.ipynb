{
 "cells": [
  {
   "cell_type": "markdown",
   "metadata": {},
   "source": [
    "# Lesson 4: Precipitation \n",
    "\n",
    "\n",
    "1. Precipitation Types\n",
    "\n",
    "    - Rainfall\n",
    "    - Snow/Sleet ...\n",
    "    \n",
    "2. Measuring Precipitation\n",
    "\n",
    "    - Point measurements\n",
    "    - Areal (Radar)\n",
    "\n",
    "3. Probability Estimation Modeling (Generic)\n",
    "\n",
    "4. Probability Estimation Tools (Design Storms)\n",
    "\n",
    "    - NOAA Atlas 14\n"
   ]
  },
  {
   "cell_type": "code",
   "execution_count": null,
   "metadata": {},
   "outputs": [],
   "source": []
  }
 ],
 "metadata": {
  "kernelspec": {
   "display_name": "Python 3",
   "language": "python",
   "name": "python3"
  },
  "language_info": {
   "codemirror_mode": {
    "name": "ipython",
    "version": 3
   },
   "file_extension": ".py",
   "mimetype": "text/x-python",
   "name": "python",
   "nbconvert_exporter": "python",
   "pygments_lexer": "ipython3",
   "version": "3.8.5"
  }
 },
 "nbformat": 4,
 "nbformat_minor": 4
}
