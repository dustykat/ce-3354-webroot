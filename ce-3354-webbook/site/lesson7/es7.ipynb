{
 "cells": [
  {
   "cell_type": "markdown",
   "metadata": {},
   "source": [
    "# CE 3354 Exercise Set 7 (Summer 2021)\n",
    "You can download this document as a JupyterLab notebook [here](https://3.137.111.182/ce-3354-webbook/lesson7/es7.ipynb)\n",
    "\n",
    "## Exercise 1: \n",
    "Estimate the monthly evapotranspiration depths for the San Angelo (Concho County)\n",
    "area using the Blaney-Criddle method.\n",
    "\n",
    "## Exercise 2:\n",
    "Estimate the monthly evapotranspiration depths for the San Angelo (Concho County)\n",
    "area using the Thornwaithe method.\n",
    "\n",
    "## Exercise 3: (Data Science)\n",
    "In Texas, evaporation rates (reported as inches per month) are available from the Texas Water Development Board. [https://waterdatafortexas.org/lake-evaporation-rainfall/](https://waterdatafortexas.org/lake-evaporation-rainfall/)\n",
    "\n",
    "The map below shows the quadrants (grid cells) for which data are tabulated.\n",
    "\n",
    "![figure1](EvapMap.png)\n",
    "\n",
    "- Which cell most closely covers Concho County (405,406,505,506, or another cell)?  \n",
    "- A copy of the dataset downloaded from the Texas Water Development Board is located at [https://3.137.111.182/ce-3354-webbook/lesson7/all_quads_gross_evaporation.csv](https://3.137.111.182/ce-3354-webbook/lesson7/all_quads_gross_evaporation.csv).   Using methods from Computational Thinking and Data Science (ENGR 1330); analyze the database and extract the average monthly evaporation depths for San Angelo (Concho County).\n",
    "\n",
    "## Exercise 4:\n",
    "\n",
    "Tabulate the results for the three methods (i.e. complete the table below)\n",
    "\n",
    "|Month|ET-Thornwaithe (inches)|ET-Blaney Criddle (inches)|Evaporation-TWDB (inches)|\n",
    "|:---|---:|---:|---:|\n",
    "|Jan| xxx.xx| xxx.xx| xxx.xx|\n",
    "|Feb| xxx.xx| xxx.xx| xxx.xx|\n",
    "|Mar| xxx.xx| xxx.xx| xxx.xx|\n",
    "|Apr| xxx.xx| xxx.xx| xxx.xx|\n",
    "|May| xxx.xx| xxx.xx| xxx.xx|\n",
    "|Jun| xxx.xx| xxx.xx| xxx.xx|\n",
    "|Jul| xxx.xx| xxx.xx| xxx.xx|\n",
    "|Aug| xxx.xx| xxx.xx| xxx.xx|\n",
    "|Sep| xxx.xx| xxx.xx| xxx.xx|\n",
    "|Oct| xxx.xx| xxx.xx| xxx.xx|\n",
    "|Nov| xxx.xx| xxx.xx| xxx.xx|\n",
    "|Dec| xxx.xx| xxx.xx| xxx.xx|"
   ]
  }
 ],
 "metadata": {
  "kernelspec": {
   "display_name": "Python 3",
   "language": "python",
   "name": "python3"
  },
  "language_info": {
   "codemirror_mode": {
    "name": "ipython",
    "version": 3
   },
   "file_extension": ".py",
   "mimetype": "text/x-python",
   "name": "python",
   "nbconvert_exporter": "python",
   "pygments_lexer": "ipython3",
   "version": "3.8.5"
  }
 },
 "nbformat": 4,
 "nbformat_minor": 4
}
