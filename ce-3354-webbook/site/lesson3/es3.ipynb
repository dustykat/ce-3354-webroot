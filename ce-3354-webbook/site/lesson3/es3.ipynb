{
 "cells": [
  {
   "cell_type": "markdown",
   "metadata": {},
   "source": [
    "# CE 3354 Exercise Set 3 (Summer 2021)\n",
    "You can download this document as a JupyterLab notebook [here](https://3.137.111.182/ce-3354-webbook/lesson3/es3.ipynb)\n",
    "\n",
    "## Semester Project Problem Statement\n",
    "Figure 1 is a map of a portion of Concho County, Texas.  In the Southeast corner of the map is Eden, Texas.  A US highway runs nearly East-West through Eden and another US highway runs North-South.  This watershed is the subject of the semester design project.\n",
    "\n",
    "![Figure 1](hardinbranch-RFS.png)\n",
    "\n",
    "|Figure 1.  Excerpt from Larger Map|\n",
    "|---|\n",
    "\n",
    "### Purpose \n",
    "The existing culvert system is a 2-barrel 6X6 box-culvert system.  This report presents an hydrologic analysis of the existing system at an appropriate risk level to determine the depth of water at the structure (or overtopping depth), and a determination of the depth of flow if the culvert system is modified by the addition of two more barrels to a total of 4-barrel 6X6 box-culvert system.\n",
    "\n",
    "## Report Templates:\n",
    "\n",
    "Report templates are supplied below, the PDF is included becuse it can be rendered on the server through a web browser; use your preferred Word Processor tool.\n",
    "\n",
    "An AdobeAcrobat document (PDF) is located at: [report-template-week1.pdf](https://3.137.111.182/ce-3354-webbook/lesson3/report-template-week1.pdf)\n",
    "\n",
    "A MicrosoftWord document (docx) is located at: [report-template-week1.docx](https://3.137.111.182/ce-3354-webbook/lesson3/report-template-week1.docx)\n",
    "\n",
    "A LibreOffice document (odt) is located at: [report-template-week1.docx](https://3.137.111.182/ce-3354-webbook/lesson3/report-template-week1.docx)\n",
    "\n",
    "## Exercise 1: \n",
    "Using the report template; populate (add words and figures) the following sections:\n",
    " - introduction.  Add some narrative.\n",
    " - watershed.  In ES-2 you delineatedthe watershed that drains to the bridge.  Put a graphic into the report based on your delineation and complete the table.\n",
    " - soil properties.  Use the WSS tool, and determine soil properties for the area (outside of Eden); Put a screen capture into the report based on your delineation .\n",
    " \n",
    "Cite sources used and put citations in the references section.\n",
    "\n",
    "Save your work as a PDF file to upload to the class server, and keep a copy for continuing work on the project for the remaindeer of the class."
   ]
  },
  {
   "cell_type": "code",
   "execution_count": null,
   "metadata": {},
   "outputs": [],
   "source": []
  }
 ],
 "metadata": {
  "kernelspec": {
   "display_name": "Python 3",
   "language": "python",
   "name": "python3"
  },
  "language_info": {
   "codemirror_mode": {
    "name": "ipython",
    "version": 3
   },
   "file_extension": ".py",
   "mimetype": "text/x-python",
   "name": "python",
   "nbconvert_exporter": "python",
   "pygments_lexer": "ipython3",
   "version": "3.8.5"
  }
 },
 "nbformat": 4,
 "nbformat_minor": 4
}
