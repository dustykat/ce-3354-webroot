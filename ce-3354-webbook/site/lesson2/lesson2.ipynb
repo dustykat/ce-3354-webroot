{
 "cells": [
  {
   "cell_type": "markdown",
   "metadata": {},
   "source": [
    "# Lesson 2 Hydrologic Data Analysis\n",
    "\n",
    "- Topic 1\n",
    "- Topic 2\n",
    "   - Sub topic\n",
    "   - Automated\n",
    "- Topic 3\n",
    "   - Drainage Area\n",
    "   - Main Channel Length\n",
    "   - Slope(s)"
   ]
  },
  {
   "cell_type": "code",
   "execution_count": null,
   "metadata": {},
   "outputs": [],
   "source": []
  }
 ],
 "metadata": {
  "kernelspec": {
   "display_name": "Python 3",
   "language": "python",
   "name": "python3"
  },
  "language_info": {
   "codemirror_mode": {
    "name": "ipython",
    "version": 3
   },
   "file_extension": ".py",
   "mimetype": "text/x-python",
   "name": "python",
   "nbconvert_exporter": "python",
   "pygments_lexer": "ipython3",
   "version": "3.8.5"
  }
 },
 "nbformat": 4,
 "nbformat_minor": 4
}
