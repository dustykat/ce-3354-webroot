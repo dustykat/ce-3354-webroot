{
 "cells": [
  {
   "cell_type": "markdown",
   "metadata": {},
   "source": [
    "# CE 3354 Exercise Set 2 (Summer 2021)\n",
    "You can download this document as a JupyterLab notebook [here](https://3.137.111.182/ce-3354-webbook/lesson2/es2.ipynb)\n",
    "\n",
    "## Background Maps\n",
    "Figure 1 is a map of Harden Branch Creek to be used for watershed delineation. The Assessment Point on the map, conicides with the red circle below on Figure 2, which is centered on the bridge west of Eden Texas.  This watershed is the subject of the semester design project.\n",
    "\n",
    "![Figure 1](Texas-Training-Watershed-RFS.png)\n",
    "\n",
    "|Figure 1.  Harden Branch Creek Watershed Area|\n",
    "|---|\n",
    "\n",
    "You can download the map as a JPG [here](https://3.137.111.182/ce-3354-webbook/lesson2/Texas-Training-Watershed.jpg)\n",
    "<!--![Figure 1](https://3.137.111.182/ce-3354-webbook/lesson1/farmland.png)-->\n",
    "\n",
    "![Figure 2](hardinbranch-RFS.png)\n",
    "\n",
    "|Figure 2.  Excerpt from Larger Map|\n",
    "|---|\n",
    "\n",
    "\n",
    "Figure 2 a larger scale map that contains the excerpt in Figure 1.\n",
    "\n",
    "## Exercise 1: \n",
    "1. Draw the boundary of the entire watershed area (delineate the watershed) that drains to the red circle.  Be sure to include the area of the two regulating structures (the earth berms/dams with riser pipe outlets).\n",
    "2. Determine the drainage area of the watershed in square miles.\n",
    "\n",
    "## Exercise 2: \n",
    "1. Draw the main channel in the watershed (you will have to use some hydrologic judgement).  In GIS the main channel is the path from the highest elevation onthe boundary to the outlet.\n",
    "2. Determine the length of the main channel in miles."
   ]
  },
  {
   "cell_type": "code",
   "execution_count": null,
   "metadata": {},
   "outputs": [],
   "source": []
  }
 ],
 "metadata": {
  "kernelspec": {
   "display_name": "Python 3",
   "language": "python",
   "name": "python3"
  },
  "language_info": {
   "codemirror_mode": {
    "name": "ipython",
    "version": 3
   },
   "file_extension": ".py",
   "mimetype": "text/x-python",
   "name": "python",
   "nbconvert_exporter": "python",
   "pygments_lexer": "ipython3",
   "version": "3.8.5"
  }
 },
 "nbformat": 4,
 "nbformat_minor": 4
}
