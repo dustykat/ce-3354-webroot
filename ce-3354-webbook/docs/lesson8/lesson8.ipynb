{
 "cells": [
  {
   "cell_type": "markdown",
   "metadata": {},
   "source": [
    "# Lesson 8. HEC-HMS Software\n",
    "- Purpose\n",
    "    - Background\n",
    "- Installing\n",
    "    - Personal Computer\n",
    "    - AWS Lightsail Instance\n",
    "- Example Models \n",
    "    - a minimal model\n",
    "    - a precipitation gage\n",
    "    - evaporation processes\n",
    "    - infiltration processes (loss model)\n",
    "- Semester Project"
   ]
  }
 ],
 "metadata": {
  "kernelspec": {
   "display_name": "Python 3",
   "language": "python",
   "name": "python3"
  },
  "language_info": {
   "codemirror_mode": {
    "name": "ipython",
    "version": 3
   },
   "file_extension": ".py",
   "mimetype": "text/x-python",
   "name": "python",
   "nbconvert_exporter": "python",
   "pygments_lexer": "ipython3",
   "version": "3.8.5"
  }
 },
 "nbformat": 4,
 "nbformat_minor": 4
}
