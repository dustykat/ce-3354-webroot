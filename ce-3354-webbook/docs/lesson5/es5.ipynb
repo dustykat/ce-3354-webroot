{
 "cells": [
  {
   "cell_type": "markdown",
   "metadata": {},
   "source": [
    "# CE 3354 Exercise Set 5 (Summer 2021)\n",
    "You can download this document as a JupyterLab notebook [here](https://3.137.111.182/ce-3354-webbook/lesson5/es5.ipynb)"
   ]
  },
  {
   "cell_type": "markdown",
   "metadata": {},
   "source": [
    "Figure 1 below is the gage height and **annual peak discharge** for some gaging station in Oklahoma. The stage is in feet and the discharge is in cubic feet per second. The data are sequential from 1923 through 1971.\n",
    "\n",
    "![Figure 1](OklahomaData.png)\n",
    "\n",
    "You can download an ASCII file of the data from [https://3.137.111.182/ce-3354-webbook/lesson5/OklahomaData.txt](https://3.137.111.182/ce-3354-webbook/lesson5/OklahomaData.txt)"
   ]
  },
  {
   "cell_type": "markdown",
   "metadata": {},
   "source": [
    "# Exercise 1:\n",
    "\n",
    "1. Plot year versus stage ( x-axis is year).\n",
    "2. Plot year versus discharge ( x-axis is year).\n",
    "3. Plot the discharge versus stage.\n",
    "\n",
    "# Exercise 2:\n",
    "\n",
    "Is there a correlation between stage and discharge? \n",
    "\n",
    "# Exercise 3:\n",
    "\n",
    "<!--Using the Weibull plotting position formula, determine the distribution parameters that fit the data for a log-normal distribution data model.-->\n",
    "<!--Using the Weibull plotting position formula, determine the distribution parame-\n",
    "ters that fit the data for a Gumbell distribution data model.-->\n",
    "Using the Weibull plotting position formula, determine the distribution parameters that fit the data for a Gamma distribution data model.  Produce a plot of the data and fitted model.\n",
    "\n",
    "# Exercise 4:\n",
    "Estimate the discharge associated with a 25-percent chance exceedence probability (i.e. the value that is equal to or exceeded with a 1 in 4 chance) using the Gamma distribution data model.\n",
    "\n",
    "# Exercise 5:\n",
    "Use USGS PeakFQ to analyze these data (you will have to manually enter the data).\n",
    "\n",
    "# Exercise 6:\n",
    "A resident claims that in the early 1900's a flood corresponding to a stage of 30 feet occurred at the gage location. Estimate the exceedence probability (return period) of the flow assicoated with this event."
   ]
  },
  {
   "cell_type": "code",
   "execution_count": null,
   "metadata": {},
   "outputs": [],
   "source": []
  }
 ],
 "metadata": {
  "kernelspec": {
   "display_name": "Python 3",
   "language": "python",
   "name": "python3"
  },
  "language_info": {
   "codemirror_mode": {
    "name": "ipython",
    "version": 3
   },
   "file_extension": ".py",
   "mimetype": "text/x-python",
   "name": "python",
   "nbconvert_exporter": "python",
   "pygments_lexer": "ipython3",
   "version": "3.8.5"
  }
 },
 "nbformat": 4,
 "nbformat_minor": 4
}
