{
 "cells": [
  {
   "cell_type": "markdown",
   "metadata": {},
   "source": [
    "# CE 3354 Exercise Set 0 (Summer 2021)\n",
    "You can download this document as a JupyterLab notebook [here](https://3.137.111.182/ce-3354-webroot/lesson0/es0.ipynb)\n",
    "\n",
    "## Exercise 1: \n",
    "Using the internet, textbook(s), and the \n",
    "[on-line reading collection](https://3.137.111.182/ce-3354-webroot/3-Readings/) \n",
    "define the following (in a sentance or two); please cite your references (URL is sufficient):\n",
    "\n",
    "1. Flow Duration Curve\n",
    "2. Flood Frequency Curve\n",
    "3. Stormwater Best Management Practice\n",
    "4. Watershed\n",
    "5. Catchment"
   ]
  },
  {
   "cell_type": "code",
   "execution_count": null,
   "metadata": {},
   "outputs": [],
   "source": []
  },
  {
   "cell_type": "markdown",
   "metadata": {},
   "source": [
    "## Exercise 2: \n",
    "(*Problem 1.1.1 in Chow and others (1988)*)\n",
    "Assuming that all water in the oceans is involved in the hydrologic cycle, estimate the average residence time of ocean water.  "
   ]
  },
  {
   "cell_type": "code",
   "execution_count": null,
   "metadata": {},
   "outputs": [],
   "source": []
  },
  {
   "cell_type": "markdown",
   "metadata": {},
   "source": [
    "## Exercise 3:\n",
    "(*Problem 1.1.2 in Chow and others (1988)*)\n",
    "Assuming that all surface runoff to the oceans comes from rivers, estimate the average residence time of water in rivers. "
   ]
  },
  {
   "cell_type": "markdown",
   "metadata": {},
   "source": []
  },
  {
   "cell_type": "code",
   "execution_count": null,
   "metadata": {},
   "outputs": [],
   "source": []
  }
 ],
 "metadata": {
  "kernelspec": {
   "display_name": "Python 3",
   "language": "python",
   "name": "python3"
  },
  "language_info": {
   "codemirror_mode": {
    "name": "ipython",
    "version": 3
   },
   "file_extension": ".py",
   "mimetype": "text/x-python",
   "name": "python",
   "nbconvert_exporter": "python",
   "pygments_lexer": "ipython3",
   "version": "3.8.5"
  }
 },
 "nbformat": 4,
 "nbformat_minor": 4
}
